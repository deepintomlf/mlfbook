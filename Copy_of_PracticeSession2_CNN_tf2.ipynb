{
  "nbformat": 4,
  "nbformat_minor": 0,
  "metadata": {
    "colab": {
      "name": "Copy of PracticeSession2_CNN_tf2",
      "provenance": [],
      "include_colab_link": true
    },
    "kernelspec": {
      "name": "python3",
      "display_name": "Python 3"
    },
    "accelerator": "GPU"
  },
  "cells": [
    {
      "cell_type": "markdown",
      "metadata": {
        "id": "view-in-github",
        "colab_type": "text"
      },
      "source": [
        "<a href=\"https://colab.research.google.com/github/deepintomlf/mlfbook/blob/dev/Copy_of_PracticeSession2_CNN_tf2.ipynb\" target=\"_parent\"><img src=\"https://colab.research.google.com/assets/colab-badge.svg\" alt=\"Open In Colab\"/></a>"
      ]
    },
    {
      "cell_type": "markdown",
      "metadata": {
        "id": "qKbw4s9EGq3G",
        "colab_type": "text"
      },
      "source": [
        "#Section 5.3 - Convolutional Neural Network"
      ]
    },
    {
      "cell_type": "markdown",
      "metadata": {
        "id": "aKBnPgJYXEth",
        "colab_type": "text"
      },
      "source": [
        "This notebook contains all demo codes in Section 5.3."
      ]
    },
    {
      "cell_type": "markdown",
      "metadata": {
        "id": "0_pahgjO7HWM",
        "colab_type": "text"
      },
      "source": [
        "The goal of this session is to help you \n",
        "\n",
        "1. understand how to use CNN for the image classification;\n",
        "2. implement CNN to empirical datasets using Keras;\n",
        "3. fine tune your CNN models to achieve better performance.\n"
      ]
    },
    {
      "cell_type": "markdown",
      "metadata": {
        "id": "lOS6pdTqG4Fe",
        "colab_type": "text"
      },
      "source": [
        "![alt text](https://docs.google.com/uc?export=download&id=1oXzt8ryDo_gkzI_78jXLvSkx7qLdqqb-)\n",
        "\n"
      ]
    },
    {
      "cell_type": "markdown",
      "metadata": {
        "id": "_KDUl8Za8CcX",
        "colab_type": "text"
      },
      "source": [
        "## Image Classification using Convolutional Neural Networks (CNN)"
      ]
    },
    {
      "cell_type": "markdown",
      "metadata": {
        "id": "owI0l5xP-Dzu",
        "colab_type": "text"
      },
      "source": [
        "1. **Dataset**: $\\mathcal{D} = (X_i, Y_i)_{i=1}^{N}$,\n",
        "where \n",
        " * Input: Image Data $X$ with dimension (width, height, depth = 3).\n",
        "\n",
        " * Output: Objects in images $Y$ (represented in one hot vector). \n",
        "\n",
        "2. **CNN Model**: $f_{\\theta}(X, Y) = P(Y\\vert X)$.\n",
        "\n",
        " * Input Layer: Image Data (3D tensor - (width, height, depth))\n",
        "\n",
        " *  Ouput Layer: A vector of the length being the number of classes (no of classes, 10). \n",
        "\n",
        " * Building blocks of CNNs\n",
        " \n",
        "        (1) Convolutional Layer;\n",
        " \n",
        "        (2) Pooling Layer;\n",
        " \n",
        "        (3) Fully connected (Dense) Layer. \n",
        "\n",
        "\n",
        "3. ** Loss Function**: \n",
        "\\begin{eqnarray*}\n",
        "L(\\theta \\vert \\mathcal{D})  = - \\frac{1}{N}\\sum_{i=1}^{N}\\log P(Y_{i}\\vert X_{i}) = - \\frac{1}{N} \\sum_{i = 1}^{N}\\langle  y_{i}, \\log(p_{\\theta }(  \\cdot \\vert x_{i})) \\rangle, .\n",
        "\\end{eqnarray*}\n",
        "\n",
        "  where $y_i$ is a one-hot vector.  \n",
        "\n",
        "4. ** Optimization**: \n",
        "\\begin{eqnarray*}\n",
        "\\theta^{*} = \\arg\\min_{\\theta} L(\\theta \\vert \\mathcal{D}) .\n",
        "\\end{eqnarray*}\n",
        "\n",
        "5. ** Prediction**: \n",
        "\n",
        "\\begin{eqnarray*}\n",
        "\\hat{Y}_{new} = \\arg\\max_{y} f_{\\theta^{*}}  (X_{new}, y) .\n",
        "\\end{eqnarray*}\n",
        "\n",
        "6. **Test and Validation**:  e.g. the accuracy of the estimated model, i.e.\n",
        "\n",
        "\\begin{eqnarray*}\n",
        "\\frac{\\sum_{i=1}^{N}1(Y_{i} == \\hat{Y}_{i})}{N}.\n",
        "\\end{eqnarray*}\n"
      ]
    },
    {
      "cell_type": "markdown",
      "metadata": {
        "id": "qmwuOmbjJMXW",
        "colab_type": "text"
      },
      "source": [
        "## Pre-process Cifar10 Dataset"
      ]
    },
    {
      "cell_type": "code",
      "metadata": {
        "id": "wtUP6DiNXmxc",
        "colab_type": "code",
        "outputId": "d901199e-a170-4deb-93d2-086648ad2e93",
        "colab": {
          "base_uri": "https://localhost:8080/",
          "height": 68
        }
      },
      "source": [
        "from keras.datasets import cifar10\n",
        "from keras.utils import to_categorical\n",
        "\n",
        "# Import Cifar10 dataset\n",
        "(x_cifar10_train, y_cifar10_train), (x_cifar10_test, y_cifar10_test) = cifar10.load_data()\n",
        "\n",
        "# Normalize the input data\n",
        "x_train = x_cifar10_train.astype('float32')/255\n",
        "x_test = x_cifar10_test.astype('float32')/255\n",
        "\n",
        "# Convert class vectors to one-hot vector matrices\n",
        "num_classes = 10\n",
        "y_train = to_categorical(y_cifar10_train, num_classes)\n",
        "y_test = to_categorical(y_cifar10_test, num_classes)\n"
      ],
      "execution_count": 0,
      "outputs": [
        {
          "output_type": "stream",
          "text": [
            "Using TensorFlow backend.\n"
          ],
          "name": "stderr"
        },
        {
          "output_type": "stream",
          "text": [
            "Downloading data from https://www.cs.toronto.edu/~kriz/cifar-10-python.tar.gz\n",
            "170500096/170498071 [==============================] - 6s 0us/step\n"
          ],
          "name": "stdout"
        }
      ]
    },
    {
      "cell_type": "markdown",
      "metadata": {
        "id": "hAmd6YZuIqXp",
        "colab_type": "text"
      },
      "source": [
        "##Implement CNN for Classification Using Lenet Architecture"
      ]
    },
    {
      "cell_type": "markdown",
      "metadata": {
        "id": "qMe2ZcU65lOQ",
        "colab_type": "text"
      },
      "source": [
        "**LeNet CNN Model Architecture**\n",
        "\n",
        "![alt text](https://docs.google.com/uc?export=download&id=175hXfs1m6v3e3NRVoKN7b51aSxe06xNA)"
      ]
    },
    {
      "cell_type": "code",
      "metadata": {
        "id": "xhEi4tlnZC0S",
        "colab_type": "code",
        "colab": {}
      },
      "source": [
        "from tensorflow.keras.models import Sequential\n",
        "from tensorflow.keras.layers import Dense, Flatten, Conv2D, MaxPooling2D\n",
        "from tensorflow.keras.optimizers import SGD\n",
        "import time\n",
        "\n",
        "# fix seed\n",
        "import numpy\n",
        "import tensorflow\n",
        "numpy.random.seed(0)\n",
        "tensorflow.random.set_seed(0)\n",
        "\n",
        "# Build the first LeNet model\n",
        "def Lenet_Model_BaseLine(n_hidden_neurons):\n",
        "    start_time = time.time()\n",
        "    print('Compiling Model ... ')\n",
        "    model = Sequential()\n",
        "    # Add two convolutional layers and pooling layers in turn\n",
        "    model.add(Conv2D(n_hidden_neurons, (3, 3), input_shape=(32,32,3), activation ='relu'))\n",
        "    model.add(MaxPooling2D(pool_size=(2, 2)))\n",
        "    model.add(Conv2D(n_hidden_neurons, (3,3), activation ='relu'))\n",
        "    model.add(MaxPooling2D(pool_size=(2, 2)))\n",
        "    # flatten the image data into a vector\n",
        "    model.add(Flatten())\n",
        "    model.add(Dense(512, activation ='relu'))\n",
        "    model.add(Dense(10, activation ='softmax'))\n",
        "    sgd = SGD(lr=0.001, decay=1e-6, momentum=0.9, nesterov=True)\n",
        "    model.compile(loss='categorical_crossentropy', optimizer=sgd, metrics=['acc'])\n",
        "    print('Model compield in {0} seconds'.format(time.time() - start_time))\n",
        "    return model\n",
        "\n",
        "n_hidden_neurons = 64\n",
        "batch_size =128\n",
        "epochs = 40\n",
        "\n",
        "Lenet_Model = Lenet_Model_BaseLine(n_hidden_neurons)\n",
        "print(Lenet_Model.summary())\n",
        "hist_Lenet_Model= Lenet_Model.fit(x_train, y_train, epochs=epochs,  batch_size = 32, validation_data=(x_test, y_test), verbose=1)\n"
      ],
      "execution_count": 0,
      "outputs": []
    },
    {
      "cell_type": "code",
      "metadata": {
        "id": "xZI8zdemDcmk",
        "colab_type": "code",
        "outputId": "e5634662-1e14-413b-91a9-20a574d827b2",
        "colab": {
          "base_uri": "https://localhost:8080/",
          "height": 85
        }
      },
      "source": [
        "score = Lenet_Model.evaluate(x_test, y_test)\n",
        "print(Lenet_Model.metrics_names)\n",
        "print('Test ' + Lenet_Model.metrics_names[0] , score[0])\n",
        "print('Test '+ Lenet_Model.metrics_names[1] , score[1])"
      ],
      "execution_count": 0,
      "outputs": [
        {
          "output_type": "stream",
          "text": [
            "313/313 [==============================] - 1s 5ms/step - loss: 1.8960 - acc: 0.6961\n",
            "['loss', 'acc']\n",
            "Test loss 1.8960455656051636\n",
            "Test acc 0.6960999965667725\n"
          ],
          "name": "stdout"
        }
      ]
    },
    {
      "cell_type": "markdown",
      "metadata": {
        "id": "C9YkRNTrAt58",
        "colab_type": "text"
      },
      "source": [
        "##Plot the Fitting Result"
      ]
    },
    {
      "cell_type": "code",
      "metadata": {
        "id": "3O1eaKJ46zn9",
        "colab_type": "code",
        "colab": {}
      },
      "source": [
        "from matplotlib import pyplot as plt    \n",
        "\n",
        "# Define functions to plot the loss and accuracy\n",
        "def plot_hist_loss(hist):\n",
        "  plt.figure()\n",
        "  plt.plot(hist.history['loss'], 'b', linewidth=1.5)\n",
        "  plt.plot(hist.history['val_loss'], 'r', linewidth=1.5)\n",
        "  plt.legend(['Training set','Testing set'])\n",
        "  plt.xlabel('Epochs')\n",
        "  plt.ylabel('Loss')\n",
        "  \n",
        "def plot_hist_accuracy(hist):\n",
        "  plt.figure()\n",
        "  plt.plot(hist.history['acc'], 'b', linewidth = 1.5)\n",
        "  plt.plot(hist.history['val_acc'], 'r', linewidth = 1.5)\n",
        "  plt.legend(['Training set','Testing set'])\n",
        "  plt.xlabel('Epochs')\n",
        "  plt.ylabel('Accuracy')"
      ],
      "execution_count": 0,
      "outputs": []
    },
    {
      "cell_type": "code",
      "metadata": {
        "id": "LQmHAte_cdj5",
        "colab_type": "code",
        "outputId": "eb6e8ba6-f5a2-4ebc-9bb9-97ddaf71979d",
        "colab": {
          "base_uri": "https://localhost:8080/",
          "height": 542
        }
      },
      "source": [
        "plot_hist_loss(hist_Lenet_Model)\n",
        "plot_hist_accuracy(hist_Lenet_Model)"
      ],
      "execution_count": 0,
      "outputs": [
        {
          "output_type": "display_data",
          "data": {
            "image/png": "[encoded data removed]",
            "text/plain": [
              "<Figure size 432x288 with 1 Axes>"
            ]
          },
          "metadata": {
            "tags": []
          }
        },
        {
          "output_type": "display_data",
          "data": {
            "image/png": "[encoded data removed]",
            "text/plain": [
              "<Figure size 432x288 with 1 Axes>"
            ]
          },
          "metadata": {
            "tags": []
          }
        }
      ]
    },
    {
      "cell_type": "markdown",
      "metadata": {
        "id": "ESgefaxRYupM",
        "colab_type": "text"
      },
      "source": [
        "##Some Tips to Train CNN Model"
      ]
    },
    {
      "cell_type": "markdown",
      "metadata": {
        "id": "GeNZBj8cFm_9",
        "colab_type": "text"
      },
      "source": [
        "The overfitting issue might occur when applying very sophisocated CNN or other deep learning models. There are several popular ways to deal with the overfitting issue:\n",
        "*   Dropout\n",
        "*   Data Augmentation\n",
        "*  Weight regularization"
      ]
    },
    {
      "cell_type": "markdown",
      "metadata": {
        "id": "8cDNWZZuXUmb",
        "colab_type": "text"
      },
      "source": [
        "##Data Augumentation###"
      ]
    },
    {
      "cell_type": "code",
      "metadata": {
        "id": "UGFbiRxZruzx",
        "colab_type": "code",
        "outputId": "bc1d6b05-26ab-468c-faed-9da63253eba9",
        "colab": {
          "base_uri": "https://localhost:8080/",
          "height": 1000
        }
      },
      "source": [
        "from keras.preprocessing.image import ImageDataGenerator\n",
        "\n",
        "# Data augmentation needs a large number of epochs\n",
        "iterations = 391\n",
        "epochs = 160\n",
        "\n",
        "datagen = ImageDataGenerator(horizontal_flip=True, width_shift_range=0.125, height_shift_range=0.125, fill_mode='constant',cval=0)\n",
        "datagen.fit(x_train)\n",
        "\n",
        "# start train\n",
        "Lenet_da_Model  = Lenet_Model_BaseLine(n_hidden_neurons)\n",
        "hist_Lenet_da = Lenet_da_Model.fit_generator(datagen.flow(x_train, y_train,batch_size=batch_size),\n",
        "                        steps_per_epoch=iterations,\n",
        "                        epochs=epochs,\n",
        "                        validation_data=(x_test, y_test))"
      ],
      "execution_count": 0,
      "outputs": [
        {
          "output_type": "stream",
          "text": [
            "Compiling Model ... \n",
            "Model compield in 0.17976021766662598 seconds\n",
            "WARNING:tensorflow:From <ipython-input-12-1ccaac21c0ed>:15: Model.fit_generator (from tensorflow.python.keras.engine.training) is deprecated and will be removed in a future version.\n",
            "Instructions for updating:\n",
            "Please use Model.fit, which supports generators.\n",
            "Epoch 1/160\n",
            "391/391 [==============================] - 18s 46ms/step - loss: 2.2244 - acc: 0.1883 - val_loss: 2.0598 - val_acc: 0.2598\n",
            "Epoch 2/160\n",
            "391/391 [==============================] - 18s 45ms/step - loss: 2.0095 - acc: 0.2754 - val_loss: 1.9456 - val_acc: 0.3116\n",
            "Epoch 3/160\n",
            "391/391 [==============================] - 18s 45ms/step - loss: 1.9401 - acc: 0.3080 - val_loss: 1.8628 - val_acc: 0.3503\n",
            "Epoch 4/160\n",
            "391/391 [==============================] - 18s 45ms/step - loss: 1.8713 - acc: 0.3362 - val_loss: 1.7791 - val_acc: 0.3749\n",
            "Epoch 5/160\n",
            "391/391 [==============================] - 18s 45ms/step - loss: 1.7790 - acc: 0.3690 - val_loss: 1.6638 - val_acc: 0.4095\n",
            "Epoch 6/160\n",
            "391/391 [==============================] - 18s 45ms/step - loss: 1.6885 - acc: 0.3971 - val_loss: 1.5768 - val_acc: 0.4333\n",
            "Epoch 7/160\n",
            "391/391 [==============================] - 18s 45ms/step - loss: 1.6150 - acc: 0.4188 - val_loss: 1.4913 - val_acc: 0.4698\n",
            "Epoch 8/160\n",
            "391/391 [==============================] - 18s 46ms/step - loss: 1.5678 - acc: 0.4341 - val_loss: 1.4643 - val_acc: 0.4763\n",
            "Epoch 9/160\n",
            "391/391 [==============================] - 18s 46ms/step - loss: 1.5382 - acc: 0.4437 - val_loss: 1.4345 - val_acc: 0.4889\n",
            "Epoch 10/160\n",
            "391/391 [==============================] - 18s 46ms/step - loss: 1.5113 - acc: 0.4549 - val_loss: 1.3959 - val_acc: 0.5062\n",
            "Epoch 11/160\n",
            "391/391 [==============================] - 18s 45ms/step - loss: 1.4898 - acc: 0.4642 - val_loss: 1.3759 - val_acc: 0.5049\n",
            "Epoch 12/160\n",
            "391/391 [==============================] - 18s 45ms/step - loss: 1.4656 - acc: 0.4764 - val_loss: 1.3521 - val_acc: 0.5178\n",
            "Epoch 13/160\n",
            "391/391 [==============================] - 18s 46ms/step - loss: 1.4433 - acc: 0.4860 - val_loss: 1.3453 - val_acc: 0.5239\n",
            "Epoch 14/160\n",
            "391/391 [==============================] - 18s 46ms/step - loss: 1.4232 - acc: 0.4913 - val_loss: 1.3212 - val_acc: 0.5325\n",
            "Epoch 15/160\n",
            "391/391 [==============================] - 18s 46ms/step - loss: 1.4048 - acc: 0.4978 - val_loss: 1.3048 - val_acc: 0.5396\n",
            "Epoch 16/160\n",
            "391/391 [==============================] - 18s 46ms/step - loss: 1.3865 - acc: 0.5051 - val_loss: 1.2654 - val_acc: 0.5524\n",
            "Epoch 17/160\n",
            "391/391 [==============================] - 18s 46ms/step - loss: 1.3695 - acc: 0.5099 - val_loss: 1.2491 - val_acc: 0.5554\n",
            "Epoch 18/160\n",
            "391/391 [==============================] - 18s 46ms/step - loss: 1.3567 - acc: 0.5154 - val_loss: 1.2408 - val_acc: 0.5620\n",
            "Epoch 19/160\n",
            "391/391 [==============================] - 18s 46ms/step - loss: 1.3387 - acc: 0.5252 - val_loss: 1.2380 - val_acc: 0.5618\n",
            "Epoch 20/160\n",
            "391/391 [==============================] - 18s 46ms/step - loss: 1.3186 - acc: 0.5336 - val_loss: 1.1997 - val_acc: 0.5814\n",
            "Epoch 21/160\n",
            "391/391 [==============================] - 18s 45ms/step - loss: 1.3075 - acc: 0.5342 - val_loss: 1.1939 - val_acc: 0.5796\n",
            "Epoch 22/160\n",
            "391/391 [==============================] - 17s 45ms/step - loss: 1.2898 - acc: 0.5433 - val_loss: 1.1833 - val_acc: 0.5840\n",
            "Epoch 23/160\n",
            "391/391 [==============================] - 18s 45ms/step - loss: 1.2770 - acc: 0.5490 - val_loss: 1.1652 - val_acc: 0.5895\n",
            "Epoch 24/160\n",
            "391/391 [==============================] - 17s 44ms/step - loss: 1.2666 - acc: 0.5505 - val_loss: 1.1678 - val_acc: 0.5878\n",
            "Epoch 25/160\n",
            "391/391 [==============================] - 18s 45ms/step - loss: 1.2567 - acc: 0.5586 - val_loss: 1.1505 - val_acc: 0.5985\n",
            "Epoch 26/160\n",
            "391/391 [==============================] - 18s 45ms/step - loss: 1.2415 - acc: 0.5652 - val_loss: 1.2208 - val_acc: 0.5754\n",
            "Epoch 27/160\n",
            "391/391 [==============================] - 17s 44ms/step - loss: 1.2258 - acc: 0.5688 - val_loss: 1.1283 - val_acc: 0.6100\n",
            "Epoch 28/160\n",
            "391/391 [==============================] - 18s 45ms/step - loss: 1.2192 - acc: 0.5701 - val_loss: 1.1059 - val_acc: 0.6166\n",
            "Epoch 29/160\n",
            "391/391 [==============================] - 17s 44ms/step - loss: 1.2031 - acc: 0.5772 - val_loss: 1.1051 - val_acc: 0.6177\n",
            "Epoch 30/160\n",
            "391/391 [==============================] - 17s 44ms/step - loss: 1.1922 - acc: 0.5822 - val_loss: 1.0676 - val_acc: 0.6347\n",
            "Epoch 31/160\n",
            "391/391 [==============================] - 18s 45ms/step - loss: 1.1807 - acc: 0.5855 - val_loss: 1.0735 - val_acc: 0.6253\n",
            "Epoch 32/160\n",
            "391/391 [==============================] - 19s 48ms/step - loss: 1.1727 - acc: 0.5884 - val_loss: 1.0789 - val_acc: 0.6340\n",
            "Epoch 33/160\n",
            "391/391 [==============================] - 18s 46ms/step - loss: 1.1587 - acc: 0.5936 - val_loss: 1.0526 - val_acc: 0.6364\n",
            "Epoch 34/160\n",
            "391/391 [==============================] - 18s 46ms/step - loss: 1.1509 - acc: 0.5970 - val_loss: 1.0814 - val_acc: 0.6324\n",
            "Epoch 35/160\n",
            "391/391 [==============================] - 18s 46ms/step - loss: 1.1411 - acc: 0.6017 - val_loss: 1.0579 - val_acc: 0.6408\n",
            "Epoch 36/160\n",
            "391/391 [==============================] - 18s 46ms/step - loss: 1.1350 - acc: 0.6044 - val_loss: 1.0906 - val_acc: 0.6245\n",
            "Epoch 37/160\n",
            "391/391 [==============================] - 18s 47ms/step - loss: 1.1195 - acc: 0.6087 - val_loss: 1.0347 - val_acc: 0.6447\n",
            "Epoch 38/160\n",
            " 36/391 [=>............................] - ETA: 15s - loss: 1.1348 - acc: 0.6079"
          ],
          "name": "stdout"
        }
      ]
    },
    {
      "cell_type": "code",
      "metadata": {
        "id": "6eSm6brBr1We",
        "colab_type": "code",
        "colab": {}
      },
      "source": [
        "plot_hist_loss(hist_Lenet_da)\n",
        "plot_hist_accuracy(hist_Lenet_da)"
      ],
      "execution_count": 0,
      "outputs": []
    },
    {
      "cell_type": "code",
      "metadata": {
        "id": "0QydxoiQ1i6E",
        "colab_type": "code",
        "colab": {}
      },
      "source": [
        "score = Lenet_da_Model.evaluate(x_test, y_test)\n",
        "score[1]"
      ],
      "execution_count": 0,
      "outputs": []
    },
    {
      "cell_type": "markdown",
      "metadata": {
        "id": "RYLjhLt-YGUc",
        "colab_type": "text"
      },
      "source": [
        "##Dropout\n",
        "\n",
        "\n"
      ]
    },
    {
      "cell_type": "code",
      "metadata": {
        "id": "WqQRFBBIDtmR",
        "colab_type": "code",
        "colab": {}
      },
      "source": [
        "from tensorflow.keras.layers import Dropout\n",
        "def Lenet_dp_Model(n_hidden_neurons, dropout_rate):\n",
        "    start_time = time.time()\n",
        "    print('Compiling Model ... ')\n",
        "\n",
        "    model = Sequential()\n",
        "    model.add(Conv2D(n_hidden_neurons, (3, 3), input_shape=(32,32, 3),activation = 'relu' ))\n",
        "    model.add(MaxPooling2D(pool_size=(2, 2)))\n",
        "    model.add(Dropout(dropout_rate))\n",
        "\n",
        "    model.add(Conv2D(n_hidden_neurons, (3,3), activation = 'relu'))\n",
        "    model.add(MaxPooling2D(pool_size=(2, 2)))\n",
        "    model.add(Dropout(dropout_rate))\n",
        " \n",
        "    model.add(Flatten())\n",
        "    model.add(Dense(512, activation = 'relu'))\n",
        "    model.add(Dropout(dropout_rate))\n",
        "    model.add(Dense(10, activation = 'softmax'))\n",
        "    \n",
        "    sgd = SGD(lr=0.001, decay=1e-6, momentum=0.9, nesterov=True)\n",
        "    model.compile(loss='categorical_crossentropy', optimizer=sgd, metrics=['acc'])\n",
        "    print('Model compield in {0} seconds'.format(time.time() - start_time))\n",
        "    return model"
      ],
      "execution_count": 0,
      "outputs": []
    },
    {
      "cell_type": "code",
      "metadata": {
        "id": "_Is8AJxYECv9",
        "colab_type": "code",
        "colab": {}
      },
      "source": [
        "\n",
        "\n",
        "dropout_rate = 0.25\n",
        "Ldp = Lenet_dp_Model(n_hidden_neurons,dropout_rate)\n",
        "print(Ldp.summary())\n",
        "hist_Ldp_Model= Ldp.fit(x_train, y_train, epochs=epochs,  validation_data=(x_test, y_test), verbose=1)\n",
        "\n",
        "  "
      ],
      "execution_count": 0,
      "outputs": []
    },
    {
      "cell_type": "code",
      "metadata": {
        "id": "xp1TPesOBqXH",
        "colab_type": "code",
        "colab": {}
      },
      "source": [
        "plot_hist_loss(hist_Ldp_Model)\n",
        "plot_hist_accuracy(hist_Ldp_Model)"
      ],
      "execution_count": 0,
      "outputs": []
    },
    {
      "cell_type": "markdown",
      "metadata": {
        "id": "gK2G26noTQnY",
        "colab_type": "text"
      },
      "source": [
        "Grid Search to find optimal dropout rate "
      ]
    },
    {
      "cell_type": "code",
      "metadata": {
        "id": "L60E2R5rXVN2",
        "colab_type": "code",
        "colab": {}
      },
      "source": [
        "from sklearn.model_selection import GridSearchCV\n",
        "from keras.wrappers.scikit_learn import KerasClassifier\n",
        "\n",
        "# create model\n",
        "model = KerasClassifier(build_fn=Lenet_dp_Model , n_hidden_neurons=32,  epochs=40, batch_size=128, verbose=0)\n",
        "# define the grid search parameters\n",
        "dropout_rate = [0.1, 0.25, 0.5]\n",
        "param_grid = dict(dropout_rate=dropout_rate)\n",
        "\n",
        "grid = GridSearchCV(estimator=model, param_grid=param_grid)\n",
        "grid_result = grid.fit(x_train, y_train)\n",
        "# summarize results\n",
        "print(\"Best: %f using %s\" % (grid_result.best_score_, grid_result.best_params_))\n",
        "means = grid_result.cv_results_['mean_test_score']\n",
        "stds = grid_result.cv_results_['std_test_score']\n",
        "params = grid_result.cv_results_['params']\n",
        "for mean, stdev, param in zip(means, stds, params):\n",
        "    print(\"%f (%f) with: %r\" % (mean, stdev, param))"
      ],
      "execution_count": 0,
      "outputs": []
    },
    {
      "cell_type": "markdown",
      "metadata": {
        "id": "_1-BZWB0W6HE",
        "colab_type": "text"
      },
      "source": [
        "##Weight Regularization ###"
      ]
    },
    {
      "cell_type": "code",
      "metadata": {
        "id": "Jq1xdGGJRIxr",
        "colab_type": "code",
        "colab": {}
      },
      "source": [
        "from sklearn.model_selection import GridSearchCV\n",
        "from keras.wrappers.scikit_learn import KerasClassifier\n",
        "from keras import regularizers\n",
        "\n",
        "def Lenet_Model_WeightRegularization (regRate):\n",
        "    start_time = time.time()\n",
        "    print('Compiling Model ... ')\n",
        "\n",
        "    model = Sequential()\n",
        "    model.add(Conv2D(32, (3, 3), input_shape=(32,32,3),activation = 'relu', kernel_regularizer=regularizers.l1(regRate)))\n",
        "    model.add(MaxPooling2D(pool_size=(2, 2)))\n",
        "    model.add(Conv2D(64, (3,3), activation = 'relu', kernel_regularizer=regularizers.l1(regRate)))\n",
        "    model.add(MaxPooling2D(pool_size=(2, 2)))\n",
        "    model.add(Flatten())\n",
        "    model.add(Dense(512, kernel_regularizer=regularizers.l1(regRate), activation = 'relu'))\n",
        "    model.add(Dense(10, activation ='softmax'))\n",
        "   \n",
        "    sgd = SGD(lr=0.001, decay=1e-6, momentum=0.9, nesterov=True)\n",
        "    model.compile(loss='categorical_crossentropy', optimizer=sgd, metrics=['acc'])\n",
        "    print('Model compield in {0} seconds'.format(time.time() - start_time))\n",
        "    return model\n",
        "  \n",
        "model = KerasClassifier(build_fn=Lenet_Model_WeightRegularization, epochs = 40, batch_size=128)\n",
        "\n",
        "param_grid = dict(regRate = [0, 0.001, 0.002])\n",
        "grid = GridSearchCV(estimator=model, param_grid=param_grid)\n",
        "grid_result = grid.fit(x_train, y_train)\n",
        "\n",
        "# summarize results\n",
        "print(\"Best: %f using %s\" % (grid_result.best_score_, grid_result.best_params_))\n",
        "means = grid_result.cv_results_['mean_test_score']\n",
        "stds = grid_result.cv_results_['std_test_score']\n",
        "params = grid_result.cv_results_['params']\n",
        "for mean, stdev, param in zip(means, stds, params):\n",
        "    print(\"%f (%f) with: %r\" % (mean, stdev, param))"
      ],
      "execution_count": 0,
      "outputs": []
    },
    {
      "cell_type": "markdown",
      "metadata": {
        "id": "iBtamiqOWGE4",
        "colab_type": "text"
      },
      "source": [
        "Useful Link:  [How to Grid Search Hyperparameters](https://machinelearningmastery.com/grid-search-hyperparameters-deep-learning-models-python-keras/)"
      ]
    },
    {
      "cell_type": "markdown",
      "metadata": {
        "id": "9_7i6NdMGlmD",
        "colab_type": "text"
      },
      "source": [
        "## Other Aspects"
      ]
    },
    {
      "cell_type": "markdown",
      "metadata": {
        "id": "_nZ4U9fYY0P3",
        "colab_type": "text"
      },
      "source": [
        "The sucess of the optimization scheme depends on several aspects:\n",
        "\n",
        "    Data - Normalization.\n",
        "    Optimizor\n",
        "    Parameter initialization\n"
      ]
    },
    {
      "cell_type": "markdown",
      "metadata": {
        "id": "41T_TK0bY4Zf",
        "colab_type": "text"
      },
      "source": [
        "###Normalization###\n",
        "\n",
        "[Keras link](https://keras.io/layers/normalization/)\n",
        "\n",
        "[Batch Normalization: Accelerating Deep Network Training by Reducing Internal Covariate Shift](https://arxiv.org/abs/1502.03167)"
      ]
    },
    {
      "cell_type": "code",
      "metadata": {
        "id": "3tn9ZtNfGKqF",
        "colab_type": "code",
        "colab": {}
      },
      "source": [
        "from tensorflow.keras.layers import BatchNormalization, Activation\n",
        "import time\n",
        "def Lenet_Model_batch_norm():\n",
        "    start_time = time.time()\n",
        "    print('Compiling Model ... ')\n",
        "\n",
        "    model = Sequential()\n",
        "    model.add(Conv2D(32, (3, 3), padding='same', input_shape=(32, 32, 3)))\n",
        "    model.add(BatchNormalization())\n",
        "    model.add(Activation('relu'))\n",
        "    model.add(Conv2D(32, (3, 3), activation = 'relu'))\n",
        "    model.add(MaxPooling2D(pool_size=(2, 2)))\n",
        "    model.add(Dropout(0.25))\n",
        "\n",
        "    model.add(Conv2D(64, (3, 3), padding='same', activation = 'relu'))\n",
        "    model.add(Conv2D(64, (3, 3), activation = 'relu'))\n",
        "    model.add(MaxPooling2D(pool_size=(2, 2)))\n",
        "    model.add(Dropout(0.25))\n",
        "\n",
        "    model.add(Flatten())\n",
        "    model.add(Dense(512, activation = 'relu'))\n",
        "    model.add(Dropout(0.5))\n",
        "    model.add(Dense(10, activation = 'softmax'))\n",
        "    \n",
        "    sgd = SGD(lr=0.001, decay=1e-6, momentum=0.9, nesterov=True)\n",
        "    model.compile(loss='categorical_crossentropy', optimizer=sgd, metrics=['acc'])\n",
        "    print('Model compield in {0} seconds'.format(time.time() - start_time))\n",
        "    return model"
      ],
      "execution_count": 0,
      "outputs": []
    },
    {
      "cell_type": "code",
      "metadata": {
        "id": "chWCrgKHMo03",
        "colab_type": "code",
        "colab": {}
      },
      "source": [
        "Lenet_Model_batch_norm1 = Lenet_Model_batch_norm()\n",
        "print(Lenet_Model_batch_norm1.summary())\n",
        "\n",
        "hist_Lenet_Model_batch_norm= Lenet_Model_batch_norm1.fit(x_cifar10_train, y_train, epochs=epochs, batch_size = 1024, validation_data=(x_cifar10_test, y_test), verbose=1)\n",
        "plot_hist_loss(hist_Lenet_Model_batch_norm)\n",
        "plot_hist_accuracy(hist_Lenet_Model_batch_norm)"
      ],
      "execution_count": 0,
      "outputs": []
    },
    {
      "cell_type": "markdown",
      "metadata": {
        "id": "6IJFjCKKZGMx",
        "colab_type": "text"
      },
      "source": [
        "###Optimizer###"
      ]
    },
    {
      "cell_type": "markdown",
      "metadata": {
        "id": "cK8Udd0_ZS7H",
        "colab_type": "text"
      },
      "source": [
        "Optimizor\n",
        "\n",
        "   1.  Method, e.g. SGD, Adam...\n",
        "   \n",
        "   2. Related Parameters, .e.g batch_size, epochs...\n",
        "\n",
        "[Keras Link](https://keras.io/optimizers/)\n",
        "\n",
        "Popular optimazation methods include:\n",
        "\n",
        "1.   Stochastic Grid Descent(SGD);\n",
        "2.   Adaptive Gradient Algorithm (AdaGrad);\n",
        "3.   Root Mean Square Propagation (RMSProp)\n",
        "\n",
        "More information can be found in  [Gentle Introduction to the Adam Optimization Algorithm for Deep Learning](https://machinelearningmastery.com/adam-optimization-algorithm-for-deep-learning/).\n"
      ]
    },
    {
      "cell_type": "code",
      "metadata": {
        "id": "9UrrDyDgZNK-",
        "colab_type": "code",
        "colab": {}
      },
      "source": [
        "from keras.optimizers import RMSprop, SGD"
      ],
      "execution_count": 0,
      "outputs": []
    },
    {
      "cell_type": "markdown",
      "metadata": {
        "id": "Cf3LkWUOZoXc",
        "colab_type": "text"
      },
      "source": [
        "${\\color{red}Homework}$: Use GridSearch to try out different optimization methods and choose the best one.  "
      ]
    },
    {
      "cell_type": "markdown",
      "metadata": {
        "id": "UHUvz05ZZ7iu",
        "colab_type": "text"
      },
      "source": [
        "###Weight initialization ###"
      ]
    },
    {
      "cell_type": "markdown",
      "metadata": {
        "id": "N1J4ylh6Z9X9",
        "colab_type": "text"
      },
      "source": [
        "[Keras Link](https://keras.io/initializers/)\n",
        "\n",
        "init = ['glorot_uniform', 'normal', 'uniform']\n"
      ]
    },
    {
      "cell_type": "markdown",
      "metadata": {
        "id": "bl1uZTKJaGKD",
        "colab_type": "text"
      },
      "source": [
        "${\\color{red}Homework}$: Use GridSearch to try out different weight initialziation methods and choose the best one.  "
      ]
    },
    {
      "cell_type": "markdown",
      "metadata": {
        "id": "7dz8Px1qIWhD",
        "colab_type": "text"
      },
      "source": [
        "# Future Work"
      ]
    },
    {
      "cell_type": "markdown",
      "metadata": {
        "id": "TFGlOz_bIchC",
        "colab_type": "text"
      },
      "source": [
        "[Rodrigo Benenson's Blog](http://rodrigob.github.io/are_we_there_yet/build/classification_datasets_results.html)\n",
        "\n",
        "\n",
        "![alt text](https://docs.google.com/uc?export=download&id=1gbnaifDszhZ9ivWx4hWob93XGAp5o4kb)\n"
      ]
    }
  ]
}