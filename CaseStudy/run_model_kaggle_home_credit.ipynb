{
 "cells": [
  {
   "cell_type": "code",
   "execution_count": 3,
   "metadata": {
    "id": "77NgIY8KPQR-",
    "colab_type": "code",
    "colab": {
     "base_uri": "https://localhost:8080/",
     "height": 34.0
    },
    "outputId": "d77f67bf-4d13-4a8a-dab5-cfd8cfa57df0",
    "executionInfo": {
     "status": "ok",
     "timestamp": 1.556476879267E12,
     "user_tz": -60.0,
     "elapsed": 27516.0,
     "user": {
      "displayName": "Xin DONG",
      "photoUrl": "",
      "userId": "17936991060177431626"
     }
    }
   },
   "outputs": [
    {
     "name": "stdout",
     "output_type": "stream",
     "text": [
      "Mounted at /content/drive\n"
     ]
    }
   ],
   "source": [
    "from google.colab import drive\n",
    "import matplotlib.pyplot as plt\n",
    "import seaborn as sns\n",
    "import pandas as pd\n",
    "import gc\n",
    "import pandas as pd\n",
    "import numpy as np\n",
    "from sklearn.metrics import roc_auc_score, precision_recall_curve, roc_curve, average_precision_score\n",
    "from sklearn.model_selection import StratifiedKFold\n",
    "import lightgbm as lgb\n",
    "from datetime import datetime\n",
    "from functools import lru_cache\n",
    "import os\n",
    "\n",
    "drive.mount('/content/drive', force_remount=True)\n",
    "\n",
    "python_path = '/content/drive/My Drive/Programming/Python/mlfbook/mlfbook/CaseStudy/'\n",
    "if python_path not in os.sys.path:\n",
    "  os.sys.path.append(python_path) \n",
    "  \n",
    "from preprocessing import *\n",
    "from model_helper import *\n",
    "from model_train import *\n",
    "from glob import glob"
   ]
  },
  {
   "cell_type": "code",
   "execution_count": null,
   "metadata": {},
   "outputs": [],
   "source": [
    "\n",
    "input_dir = \"/content/drive/My Drive/Programming/Python/kaggle/home_credit/data/\"\n",
    "output_dir = \"/content/drive/My Drive/Programming/Python/kaggle/home_credit/output/\"\n"
   ]
  },
  {
   "cell_type": "code",
   "execution_count": 0,
   "metadata": {
    "id": "Q6KVcwcFPk1A",
    "colab_type": "code",
    "colab": {}
   },
   "outputs": [],
   "source": [
    "############ dfeault LGBM Model ############\n",
    "\n",
    "_default_algo_params_lgbm = {'objective': 'binary',\n",
    "          'metric': 'auc',\n",
    "          'num_threads': 6,\n",
    "          'num_iterations': 10000,\n",
    "          'max_depth': 5,\n",
    "          # 'num_leaves': 31,\n",
    "          'learning_rate': 0.03,\n",
    "          'bagging_fraction': 0.744,\n",
    "          'feature_fraction': 0.268,\n",
    "          'lambda_l1': 0.91,\n",
    "          'lambda_l2': 0.89,\n",
    "          'min_child_weight': 18.288,\n",
    "          'min_gain_to_split': 0.0365,\n",
    "          'verbose': -1,\n",
    "          'silent': -1}\n",
    "\n",
    "_default_fit_params_lgbm = {\n",
    "    \"eval_metric\": 'auc',\n",
    "    'verbose': 1000,\n",
    "    'early_stopping_rounds': 100\n",
    "}\n",
    "\n",
    "_default_model_lgbm = {\n",
    "                            'model': train_model_lgbm,\n",
    "                            'algo_params':_default_algo_params_lgbm,\n",
    "                            'fit_params':_default_fit_params_lgbm\n",
    "}\n",
    "\n",
    "\n",
    "\n",
    "############ dfeault Logistic Model ############\n",
    "_default_algo_params_logistic = {\n",
    "    'C':0.0001\n",
    "}\n",
    "\n",
    "_default_fit_params_logistic = None\n",
    "\n",
    "_default_model_logistic = {\n",
    "                            'model': train_model_logistic,\n",
    "                            'algo_params':_default_algo_params_logistic,\n",
    "                            'fit_params':_default_fit_params_logistic\n",
    "}\n",
    "\n",
    "\n",
    "############ dfeault NeuralNetwork Model ############\n",
    "\n",
    "_default_algo_params_nn = {\n",
    "    'units_init':400,\n",
    "    'units_layers': [160,64,26,12],\n",
    "    'kernel_initializer':'normal',\n",
    "    'dropout':.3,\n",
    "    'activation':'sigmoid',\n",
    "    'optimizer':'adam',\n",
    "    'loss':'binary_crossentropy',\n",
    "    'metric':['acc']\n",
    "}\n",
    "\n",
    "_default_fit_params_nn = {\n",
    "    'epochs':20,\n",
    "    'batch_size':256,\n",
    "    'verbose':2,\n",
    "    'callbacks':[EarlyStopping(monitor='val_loss', patience=5)]\n",
    "}\n",
    "\n",
    "_default_model_neuralnetwork = {\n",
    "                            'model': train_model_neuralnetwork,\n",
    "                            'algo_params':_default_algo_params_nn,\n",
    "                            'fit_params':_default_fit_params_nn\n",
    "}"
   ]
  },
  {
   "cell_type": "code",
   "execution_count": null,
   "metadata": {},
   "outputs": [],
   "source": [
    "# LGBM gridsearchCV example: (global) alternatives to default algo params above\n",
    "\n",
    "estimator = lgb.LGBMClassifier(**_default_algo_params_lgbm)\n",
    "x_train, x_test, y_train, ids = build_model_input(input_dir=input_dir)\n",
    "\n",
    "param_grid = {\n",
    "'learning_rate': [0.01, 0.03],\n",
    "'max_depth':[3, 5]\n",
    "}\n",
    "\n",
    "grid = grid_search_cv(x_train,y_train,estimator,param_grid,cv=5, res_params_only=False)\n",
    "params_opt = grid.best_params_\n",
    "print(params_opt)\n"
   ]
  },
  {
   "cell_type": "code",
   "execution_count": 0,
   "metadata": {
    "id": "1An0iyuPQQ9C",
    "colab_type": "code",
    "colab": {}
   },
   "outputs": [],
   "source": [
    "def run_model(model_type,model_map,input_dir, output_dir):\n",
    "    save_dir = '{}/model_{}'.format(output_dir,model_type)\n",
    "    print('------- run model: {} '.format(model_type,save_dir))\n",
    "    if model_type.lower() in ['lgbm']:\n",
    "      x_train, x_test, y_train, ids = build_model_input(input_dir=input_dir)\n",
    "    else:\n",
    "      x_train, x_test, y_train, ids = build_model_input_extended(input_dir=input_dir)\n",
    "    # get train results\n",
    "    res = train_results(x_train, x_test, y_train, ids, model_map[model_type])\n",
    "\n",
    "    if len(glob(save_dir))==0:\n",
    "      os.mkdir(save_dir)\n",
    "    print('-------- save results to:{}'.format(model_type,save_dir))\n",
    "    save_training_results(res,model_type=model_type,save_dir=save_dir)\n",
    "\n"
   ]
  },
  {
   "cell_type": "code",
   "execution_count": null,
   "metadata": {},
   "outputs": [],
   "source": [
    "\n",
    "model_map = {\n",
    "    'logistic': _default_model_logistic,\n",
    "    'neuralnetwork':_default_model_neuralnetwork,\n",
    "    'lgbm':_default_model_lgbm}\n",
    "\n",
    "figs = run_model('lgbm',model_map,input_dir,output_dir)"
   ]
  },
  {
   "cell_type": "code",
   "execution_count": null,
   "metadata": {},
   "outputs": [],
   "source": [
    ""
   ]
  }
 ],
 "metadata": {
  "colab": {
   "name": "run_model_kaggle_home_credit.ipynb",
   "version": "0.3.2",
   "provenance": [],
   "collapsed_sections": []
  },
  "kernelspec": {
   "name": "python3",
   "display_name": "Python 3"
  }
 },
 "nbformat": 4,
 "nbformat_minor": 0
}