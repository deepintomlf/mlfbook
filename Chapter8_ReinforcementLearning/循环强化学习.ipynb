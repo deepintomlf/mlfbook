{
  "nbformat": 4,
  "nbformat_minor": 0,
  "metadata": {
    "colab": {
      "name": "Copy of PracticeSession2_RRL_ch.ipynb",
      "provenance": [],
      "collapsed_sections": [],
      "include_colab_link": true
    },
    "kernelspec": {
      "display_name": "Python 3",
      "language": "python",
      "name": "python3"
    },
    "language_info": {
      "codemirror_mode": {
        "name": "ipython",
        "version": 3
      },
      "file_extension": ".py",
      "mimetype": "text/x-python",
      "name": "python",
      "nbconvert_exporter": "python",
      "pygments_lexer": "ipython3",
      "version": "3.7.3"
    }
  },
  "cells": [
    {
      "cell_type": "markdown",
      "metadata": {
        "id": "view-in-github",
        "colab_type": "text"
      },
      "source": [
        "<a href=\"https://colab.research.google.com/github/deepintomlf/mlfbook/blob/dev/Chapter8_ReinforcementLearning/%E5%BE%AA%E7%8E%AF%E5%BC%BA%E5%8C%96%E5%AD%A6%E4%B9%A0.ipynb\" target=\"_parent\"><img src=\"https://colab.research.google.com/assets/colab-badge.svg\" alt=\"Open In Colab\"/></a>"
      ]
    },
    {
      "cell_type": "markdown",
      "metadata": {
        "colab_type": "text",
        "id": "4dnuAsyb_Vpp"
      },
      "source": [
        "# **第八章 - 循环强化学习**\n",
        "\n",
        "\n"
      ]
    },
    {
      "cell_type": "markdown",
      "metadata": {
        "colab_type": "text",
        "id": "3QLgFD9qI3Ia"
      },
      "source": [
        "这个Jupyter笔记本包含了第八章的所有源代码."
      ]
    },
    {
      "cell_type": "markdown",
      "metadata": {
        "colab_type": "text",
        "id": "Rrosysxy_bzt"
      },
      "source": [
        "## 循环强化学习(RRL)\n",
        "Recurrent Reinforcement Learning (RRL) is an adaptive approach of DR to solve the portfolio optimization problem, which can be simple re-interpreted as the RNN model. \n",
        "\n",
        "[[1]](https://ieeexplore.ieee.org/stamp/stamp.jsp?tp=&arnumber=935097) Moody, J. and Saffell, M., 2001. Learning to trade via direct reinforcement. IEEE transactions on neural Networks, 12(4), pp.875-889.\n",
        "\n",
        "**Goal**: To learn optimal trading stategy to maximize the Sharpe Ratio over the period.\n",
        "\n",
        "**Problem setup**:\n",
        "\n",
        "\n",
        "1.   $z_{t}$ is the price of the asset at time $t$;\n",
        "2.   $r_{t}$ is the return at time $t$, i.e. $r_{t} = z_{t} - z_{t-1}$;\n",
        "3.   $r_{t}^{f}$ is the risk-free return at time $t$;\n",
        "4.   $F_{t}$ is the unit of the asset to trade at time $t$, where\n",
        "\\begin{eqnarray*}\n",
        "F_{t} = \\text{sign}\\left({\\color{blue}\\mu} F_{t-1} + \\sum_{ i = 0}^{p-1} {\\color{blue}\\nu_{i}} r_{t - i} + {\\color{blue}\\omega}\\right),\n",
        "\\end{eqnarray*}\n",
        "where $F_{t} \\in \\{ -1, 0, +1\\}$, and ${\\color{blue}\\theta \\equiv (\\mu,\\nu_{0} \\cdots, \\nu_{m}, \\omega)}$ are model parameters\n",
        "5.   $R_{t}$ is the trading return at time $t$, \n",
        "\\begin{equation*}\n",
        "R_{t} \\equiv u \\{ r_{t}^{f} + F_{t-1}(r_{t} - r_{t}^{f}) - \\delta \\vert F_{t} - F_{t-1} \\vert \\}.\n",
        "\\end{equation*}\n",
        "\n",
        "The goal is to learn the optimal parameters to maximize the objective function (Sharpe Ratio $S_{T}$): \n",
        "\\begin{eqnarray*}\n",
        "S_{T} = \\frac{\\text{Average} (R_{t})}{\\text{Standard Deviation} (R_{t})}.\n",
        "\\end{eqnarray*}\n",
        "\n",
        " ![alt text](https://docs.google.com/uc?export=download&id=1RuV5C928ow0JnSmlhP9tDp4arAUEbCrY)"
      ]
    },
    {
      "cell_type": "markdown",
      "metadata": {
        "colab_type": "text",
        "id": "AtFSfqdOnegi"
      },
      "source": [
        "## 递归神经网络\n",
        "1.  Input Layer $(x_{t})_{t = 1}^{T}$: \n",
        "2. Hidden Layer $(s_{t})_{t = 1}^{T}$:\n",
        "\\begin{eqnarray*}\n",
        "s_{t} = h({\\color{blue}U}x_{t} + {\\color{blue}W}s_{t-1}).\n",
        "\\end{eqnarray*}\n",
        "3. Output Layer $(o_{t})_{t = 1}^{T}$:\n",
        "\\begin{eqnarray*}\n",
        "o_{t} = g({\\color{blue}V}s_{t})，\n",
        "\\end{eqnarray*}\n",
        "where ${\\color{blue}\\theta } \\equiv (U, W, V) $ are RNN parameters to learn from data.\n",
        "\n",
        " ![alt text](https://docs.google.com/uc?export=download&id=1TdW2XhSyK0o7shHV_nh2ywt9gS142Fra)"
      ]
    },
    {
      "cell_type": "markdown",
      "metadata": {
        "colab_type": "text",
        "id": "3VYImYJlKNvM"
      },
      "source": [
        "## 从RNN到RRL "
      ]
    },
    {
      "cell_type": "markdown",
      "metadata": {
        "id": "IMzqdO2JhIF7",
        "colab_type": "text"
      },
      "source": [
        "![alt text](https://docs.google.com/uc?export=download&id=129P7iYGliaNit4uf2qL8c9rE9SM_e48s)"
      ]
    },
    {
      "cell_type": "markdown",
      "metadata": {
        "colab_type": "text",
        "id": "BGn4fK3x54IF"
      },
      "source": [
        "Let $x_t$ denote the $p$-lagged value of the return, i.e. $x_t  = (r_{t-p+1}, \\cdots, r_{t})^{T}$.\n",
        "\n",
        "1. **Input Layer** (Dark Green):  $(I_{t})_{t = p}^{T-1}$ where $I_{t} = \\left( \\begin{array}{c}x_{t}\\\\ r_{t+1}\\\\ \\end{array} \\right).$\n",
        "\n",
        "2. **Hidden Layer** (Pink):  $(Y_{t})_{t = p}^{T-1}$ where  $Y_{t} = \\left( \\begin{array}{c} F_{t}\\\\ r_{t+1} \\end{array} \\right)$.  \n",
        "\n",
        "  **Step 1**: We split the input layer into two parts: $(x_{t})_{t = p}^{T-1}$ and $(r_{t+1})_{t = p}^{T-1}$.\n",
        "\n",
        "  **Step 2**: Set up the RNN Layer: $(x_{t})_{t = p}^{T-1} \\rightarrow (F_{t})_{t = p}^{T-1}$ .\n",
        "\n",
        "  **Step 3**: Merge  $(F_{t})_{t = p}^{T-1}$ and $(r_{t+1})_{t = p}^{T-1}$ to $(Y_{t})_{t = p}^{T-1}$. \n",
        "  \n",
        "\n",
        "3. **Output Layer**(Blue):  $(R_{t})_{t = p}^{T-1}$, which can be directly computed from $(Y_{t})_{t = p}^{T-1}$  based on \n",
        "\\begin{equation*}\n",
        "R_{t} \\equiv u \\{ r_{t}^{f} + F_{t-1}(r_{t} - r_{t}^{f}) - \\delta \\vert F_{t} - F_{t-1} \\vert \\}.\n",
        "\\end{equation*}\n",
        "for the given $r_{t}^{f}, \\mu$ and $\\delta$, as $Y_{t} = (F_{t}, r_{t+1})^{T}$.\n",
        "\n",
        "4. **Loss Function**: \n",
        "\\begin{eqnarray*}\n",
        "S_{T} = \\frac{\\text{Average}(R_{t})}{\\text{Standard Deviation}(R_{t})}\n",
        "\\end{eqnarray*}\n",
        "\n",
        "![alt text](https://docs.google.com/uc?export=download&id=1SAkJwA7xis3B3wDN4h73ChH51tfZKhOB)"
      ]
    },
    {
      "cell_type": "markdown",
      "metadata": {
        "colab_type": "text",
        "id": "GxnTENsyBcvj"
      },
      "source": [
        "### **定义神经网络的输出层**"
      ]
    },
    {
      "cell_type": "code",
      "metadata": {
        "colab_type": "code",
        "id": "Rx1gNi1SKTVZ",
        "outputId": "3369ded4-7512-4cf7-d4fd-9b0add33b0ac",
        "colab": {
          "base_uri": "https://localhost:8080/",
          "height": 35
        }
      },
      "source": [
        "import keras\n",
        "import keras.backend as K\n",
        "import tensorflow as tf\n",
        "\n",
        "def split_func1(x):    \n",
        "    '''\n",
        "    输入: 回报;\n",
        "    输出: p阶滞后项.\n",
        "    '''\n",
        "    p = x._keras_shape\n",
        "    split1, split2 = tf.split(x, [p[-1]-1, 1], -1)\n",
        "    return split1\n",
        "\n",
        "def split_func2(x): \n",
        "    '''\n",
        "    输入: 特征和回报序列;\n",
        "    输出: 下一时刻的回报.\n",
        "    '''\n",
        "    p = x._keras_shape\n",
        "    split1, split2 = tf.split(x,  [p[-1]-1, 1], -1)\n",
        "    return split2\n",
        "  \n",
        "def trading_return(x, delta):\n",
        "    ''' 定义输出层 '''   \n",
        "    F_t_Layer, r_tplus1_Layer = tf.split(x, [1, 1], -1)\n",
        "    p = x._keras_shape\n",
        "    F_tminus1_layer1, f1 = tf.split(F_t_Layer, [p[-2]-1, 1], -2)\n",
        "    f1, F_t_layer1 = tf.split(F_t_Layer, [1, p[-2]- 1], -2)\n",
        "    transaction_part = delta*tf.abs(tf.subtract(F_t_layer1, F_tminus1_layer1))\n",
        "    f1= tf.zeros(tf.shape(f1), dtype = float )\n",
        "    transaction_part = tf.concat([f1, transaction_part], -2)\n",
        "    output_layer  =  Multiply()([F_t_Layer, r_tplus1_Layer]) -transaction_part\n",
        "    return output_layer"
      ],
      "execution_count": 0,
      "outputs": [
        {
          "output_type": "stream",
          "text": [
            "Using TensorFlow backend.\n"
          ],
          "name": "stderr"
        }
      ]
    },
    {
      "cell_type": "markdown",
      "metadata": {
        "colab_type": "text",
        "id": "sykK1R_pBhxs"
      },
      "source": [
        "### **定义损失函数为输出层的负夏普比率**"
      ]
    },
    {
      "cell_type": "code",
      "metadata": {
        "colab_type": "code",
        "id": "H2eQDzAQBhJJ",
        "colab": {}
      },
      "source": [
        "def sharpe_ratio_loss(yTrue,yPred):\n",
        "    \"\"\"\n",
        "    functionality: compute the negative shapiro ratio for the given yTrue and yPred  \n",
        "  \n",
        "    parameters: \n",
        "    yTrue: none\n",
        "    yPred: the return series of the given trading strategy\n",
        "  \n",
        "    returns:\n",
        "    (scalar): the negative shapiro ratio of yPred\n",
        "    \"\"\"\n",
        "    # 定义损失函数为负夏普比率\n",
        "    B = K.mean(K.square(yPred))\n",
        "    A = K.mean(yPred)\n",
        "    return -A/((B-A**2)**0.5) "
      ],
      "execution_count": 0,
      "outputs": []
    },
    {
      "cell_type": "markdown",
      "metadata": {
        "colab_type": "text",
        "id": "6Bp-8jH5BrsR"
      },
      "source": [
        "### **为循环强化学习算法构建神经网络**"
      ]
    },
    {
      "cell_type": "code",
      "metadata": {
        "colab_type": "code",
        "id": "8HfHekCAyjlU",
        "colab": {}
      },
      "source": [
        "from keras.engine.topology import Layer\n",
        "from keras import optimizers\n",
        "from keras.layers import SimpleRNN, Dot, Dense, Activation, Input, Lambda, Add, Flatten,Multiply, Concatenate, Subtract\n",
        "from keras.models import Model, Sequential\n",
        "\n",
        "\n",
        "def RRL_Model(input_dim, delta):  \n",
        "  \"\"\"\n",
        "  functionality: constract RRL model with the input layer ([X_ts, r_ts]), the output layer (the trading return) and the loss function(negative shapiro ratio)  \n",
        "  \n",
        "  parameters: \n",
        "  input_dim: input dimension (1, p, T-p) \n",
        "  delta(float): transaction rate\n",
        "  \n",
        "  returns:\n",
        "  model(keras model): RRL model \n",
        "  \"\"\"\n",
        "  # 构建以交易回报序列为输出层、负夏普比率为损失函数的神经网络\n",
        "  model = Sequential()\n",
        "  input_layer = Input(shape=input_dim)\n",
        "  # 步骤一: 将输入层分成X_t_layer和r_tplus1_layer两部分\n",
        "  X_t_layer = Lambda(split_func1)(input_layer)\n",
        "  r_tplus1_layer = Lambda(split_func2)(input_layer)   \n",
        "  # 步骤二: 使用循环神经网络将X_t_layer映射到F_t_layer\n",
        "  F_t_layer = SimpleRNN(1, input_shape=X_t_layer._keras_shape[-2:],activation = 'tanh', return_sequences = True, use_bias=True)(X_t_layer) # \n",
        "  # 步骤三: 合并F_t_layer和r_tplus1_layer\n",
        "  hidden_layer = Concatenate()([F_t_layer, r_tplus1_layer])\n",
        "  # 计算代表交易回报序列的输出层\n",
        "  output_layer = Lambda(trading_return, arguments={'delta':delta})(hidden_layer )\n",
        "  # 设置输入层和输出层\n",
        "  model = Model(inputs=input_layer, outputs=output_layer)\n",
        "  sgd = optimizers.SGD(lr=0.01, decay=1e-6, momentum=0.9, nesterov=True)\n",
        "  # 设置自定义的sharpe_ratio_loss()损失函数\n",
        "  model.compile(loss=sharpe_ratio_loss, optimizer=sgd)  \n",
        "  return model"
      ],
      "execution_count": 0,
      "outputs": []
    },
    {
      "cell_type": "markdown",
      "metadata": {
        "colab_type": "text",
        "id": "EsvUgka_Hzeh"
      },
      "source": [
        "### **预测下一时刻交易策略**"
      ]
    },
    {
      "cell_type": "code",
      "metadata": {
        "colab_type": "code",
        "id": "KErq6vAjHzs3",
        "colab": {}
      },
      "source": [
        "from numpy import divide, power \n",
        "\n",
        "def calc_next_window(weights, X_t, F_t):\n",
        "  ''' 计算下一时刻交易策略F_tplus1 '''\n",
        "  weight0 = weights[0].reshape(np.shape(X_t))   \n",
        "  F_tplus1 = np.sign(np.dot(weight0, X_t) + weights[1][0]*F_t + weights[2])\n",
        "  return F_tplus1\n",
        "\n",
        "def do_prediction(X, model, delta):\n",
        "  '''\n",
        "  计算交易策略、交易回报和夏普比率序列;\n",
        "  输入：X-输入数据, model - RRL model, delta - 交易费;\n",
        "  输出：F-交易策略序列, R-交易回报序列, D-夏普比率序列.\n",
        "  '''\n",
        "  weights = model.get_weights() \n",
        "  F = np.zeros(np.shape(X)[1], dtype = float)  \n",
        "  R = np.zeros(np.shape(X)[1], dtype = float)  \n",
        "  l = np.shape(F)[0]\n",
        "  \n",
        "  for i in range(l-1):  \n",
        "    F[i+1] = calc_next_window(weights, X[0, i, :-1], F[i])\n",
        "    R[i+1] = F[i+1]*X[0, i, -1]-delta*(np.abs(F[i+1] - F[i]))\n",
        "    \n",
        "  A = np.zeros(np.shape(F))\n",
        "  B = np.zeros(np.shape(F))\n",
        "  D = np.zeros(np.shape(F))\n",
        "  var_R = np.zeros(np.shape(F))\n",
        "  A[1:] = divide(np.cumsum(R)[1:], np.arange(l)[1:])\n",
        "  B[1:] = np.divide(np.cumsum(np.power(R, 2))[1:], np.arange(l)[1:])\n",
        "  var_R[2:] = B[2:]- power(A, 2)[2:]\n",
        "  D[2:] =  A[2:]/ np.sqrt(var_R[2:])\n",
        "  return F, R, D"
      ],
      "execution_count": 0,
      "outputs": []
    },
    {
      "cell_type": "markdown",
      "metadata": {
        "colab_type": "text",
        "id": "6dtSfeRpMKf5"
      },
      "source": [
        "## **数值实验: 算法交易**"
      ]
    },
    {
      "cell_type": "markdown",
      "metadata": {
        "colab_type": "text",
        "id": "3Abktq7gCql7"
      },
      "source": [
        "###**模拟人工价格过程**\n",
        "\n"
      ]
    },
    {
      "cell_type": "markdown",
      "metadata": {
        "colab_type": "text",
        "id": "C7hATWPFCdcw"
      },
      "source": [
        "We generate log price series $(p(t))_{t = 1}^{T}$ based on the following models:\n",
        "\\begin{eqnarray}\n",
        "p(t) &=& p(t-1) + \\beta(t-1) + k \\varepsilon(t),\\\\\n",
        "\\beta(t)& =&\\alpha \\beta(t-1) + \\epsilon(t),\n",
        "\\end{eqnarray}\n",
        "where $\\alpha = 0.9$ and $k =3$, $(\\varepsilon(t),\\epsilon(t))$ is a two dimensional standard normal distributed variable. The artificial price series $z(t)$ is defined as \n",
        "\\begin{eqnarray*}\n",
        "z(t) = \\exp\\left(\\frac{p(t)}{R}\\right),\n",
        "\\end{eqnarray*}\n",
        "where $R: = \\max_t(p(t)) - \\min_t(p(t))$ over a simulation with $T = 10,000$."
      ]
    },
    {
      "cell_type": "code",
      "metadata": {
        "colab_type": "code",
        "id": "wQP1saPFCzgK",
        "colab": {}
      },
      "source": [
        "import numpy as np\n",
        "\n",
        "# 固定随机数种子\n",
        "np.random.seed(42)\n",
        "\n",
        "# 生成长度为T的人工价格数据\n",
        "def simulate_data(T):\n",
        "    \"\"\"\n",
        "    functionality: Simulate a time series p(t) of length T, which satisfies that\n",
        "    p[i+1] = p[i] + b[i] + 3e1[i];\n",
        "    b[i] = 0.9*b[i-1] + e2[i];\n",
        "    z = exp(p/range(p)).\n",
        "    \"\"\"\n",
        "    # 将p和b初始化长度为T的零数组\n",
        "    p = np.zeros((T),  float)\n",
        "    b = np.zeros((T),  float)\n",
        "    # 循环生成数组p和b \n",
        "    for i in range(T-1):\n",
        "        p[i+1] = p[i] + b[i] + 3*np.random.randn()\n",
        "        b[i+1] = 0.9*b[i] + np.random.randn()\n",
        "    # 计算数组z\n",
        "    R = np.max(p) - np.min(p)\n",
        "    z = np.exp(p/R)\n",
        "    return z\n",
        "\n",
        "# 生成10,000个模拟样本\n",
        "z = simulate_data(T= 10000)"
      ],
      "execution_count": 0,
      "outputs": []
    },
    {
      "cell_type": "code",
      "metadata": {
        "colab_type": "code",
        "id": "4kQo_x-Kxnc0",
        "outputId": "fa511acd-6339-4e81-96de-a737f37c7a0f",
        "colab": {
          "base_uri": "https://localhost:8080/",
          "height": 295
        }
      },
      "source": [
        "import matplotlib.pyplot as plt\n",
        "\n",
        "# 绘制人工价格曲线\n",
        "plt.plot(z, 'b')\n",
        "plt.title('Price series')\n",
        "plt.xlabel('Time')\n",
        "plt.ylabel('$Z_t$')\n",
        "plt.show()\n"
      ],
      "execution_count": 0,
      "outputs": [
        {
          "output_type": "display_data",
          "data": {
            "image/png": "[encoded data removed]",
            "text/plain": [
              "<Figure size 432x288 with 1 Axes>"
            ]
          },
          "metadata": {
            "tags": []
          }
        }
      ]
    },
    {
      "cell_type": "markdown",
      "metadata": {
        "colab_type": "text",
        "id": "eBvle_cyJ7s9"
      },
      "source": [
        "### **预处理人工价格数据**"
      ]
    },
    {
      "cell_type": "code",
      "metadata": {
        "colab_type": "code",
        "id": "384A5_rMI0aN",
        "colab": {}
      },
      "source": [
        "def construct_multi_feature_time_series(market_info, id_t_start, id_t_end, n_lagged_time_steps ):\n",
        "    \"\"\"\n",
        "    Functionality:\n",
        "    To construct p-lagged return series X_ts and return series r_ts from price time series;\n",
        "    market_info from any time period with index ranging from id_t_start to id_t_end.\n",
        "  \n",
        "    Parameters:\n",
        "    market_info (numpy): one-dimensional price time series;\n",
        "    id_t_start (int): the index of the starting time;\n",
        "    id_t_end (int): the index of the end time;\n",
        "    n_lagged_time_steps (int): the lagged values.\n",
        "  \n",
        "    Returns:\n",
        "    X_ts (numpy): the p-lagged return series;\n",
        "    r_ts (numpy): the return series.\n",
        "    \"\"\"\n",
        "    # price表示从id_t_start到id_t_end的价格序列\n",
        "    price = market_info[id_t_start:id_t_end]\n",
        "    # 计算回报序列\n",
        "    returnIndex = np.diff(price) \n",
        "    # 计算n_lagged_time_steps阶滞后项回报序列(特征集)和下一时刻回报\n",
        "    X_ts = np.zeros((len(price) - n_lagged_time_steps-1, n_lagged_time_steps)) \n",
        "    for i in range(X_ts.shape[0]):\n",
        "        X_ts[i,:] = returnIndex[np.arange(i, i + n_lagged_time_steps,1)]\n",
        "    r_ts = returnIndex[n_lagged_time_steps:] \n",
        "    return X_ts, r_ts\n",
        "  \n",
        "X_ts, r_ts = construct_multi_feature_time_series(z, id_t_start=0, id_t_end=10000, n_lagged_time_steps=8)"
      ],
      "execution_count": 0,
      "outputs": []
    },
    {
      "cell_type": "code",
      "metadata": {
        "colab_type": "code",
        "id": "7pmTKLSRJfOW",
        "colab": {}
      },
      "source": [
        "from sklearn import preprocessing\n",
        "r_ts = np.reshape(r_ts, np.shape(r_ts)+(1,))\n",
        "# 标准化输入数据\n",
        "window_train = 2000\n",
        "scaler = preprocessing.StandardScaler().fit(X_ts[:window_train])\n",
        "X_ts = scaler.transform(X_ts)"
      ],
      "execution_count": 0,
      "outputs": []
    },
    {
      "cell_type": "markdown",
      "metadata": {
        "colab_type": "text",
        "id": "wBAbUCVuLDOW"
      },
      "source": [
        "### **在人工价格数据集上训练循环强化学习模型**"
      ]
    },
    {
      "cell_type": "code",
      "metadata": {
        "colab_type": "code",
        "id": "3QqM-shBKhh4",
        "outputId": "1a0bf453-5736-4ab8-b922-255b659ae45c",
        "colab": {
          "base_uri": "https://localhost:8080/",
          "height": 1000
        }
      },
      "source": [
        "def reshape_input(X_ts, r_ts): \n",
        "    '''\n",
        "    输入: X_ts - 滞后项回报序列, 形状为[T, p];\n",
        "          r_ts - 下一时刻回报, 形状为[T, 1].\n",
        "    输出: 形状为[1, nTimeSteps, nFeatures]的[X_ts, r_ts], 其中nTimeSteps=T, nFeatures=p+1.\n",
        "    '''\n",
        "    X = np.concatenate([X_ts, r_ts], axis=1)\n",
        "    X = np.reshape(X, (1,)+np.shape(X))\n",
        "    return X\n",
        "  \n",
        "# 划分训练集和测试集, 形状与RRL模型相匹配.\n",
        "trainX = reshape_input(X_ts[:window_train], r_ts[:window_train]) \n",
        "testX = reshape_input(X_ts[window_train:], r_ts[window_train:])\n",
        "\n",
        "# 设置交易费\n",
        "delta = 0.002\n",
        "\n",
        "# 构建RRL模型\n",
        "model = RRL_Model(np.shape(trainX)[1:], delta)\n",
        "print(model.summary())\n",
        "model.fit(trainX[:window_train], trainX[:window_train], epochs=200, verbose=2)"
      ],
      "execution_count": 0,
      "outputs": [
        {
          "output_type": "stream",
          "text": [
            "Model: \"model_2\"\n",
            "__________________________________________________________________________________________________\n",
            "Layer (type)                    Output Shape         Param #     Connected to                     \n",
            "==================================================================================================\n",
            "input_2 (InputLayer)            (None, 2000, 9)      0                                            \n",
            "__________________________________________________________________________________________________\n",
            "lambda_4 (Lambda)               (None, 2000, 8)      0           input_2[0][0]                    \n",
            "__________________________________________________________________________________________________\n",
            "simple_rnn_2 (SimpleRNN)        (None, 2000, 1)      10          lambda_4[0][0]                   \n",
            "__________________________________________________________________________________________________\n",
            "lambda_5 (Lambda)               (None, 2000, 1)      0           input_2[0][0]                    \n",
            "__________________________________________________________________________________________________\n",
            "concatenate_2 (Concatenate)     (None, 2000, 2)      0           simple_rnn_2[0][0]               \n",
            "                                                                 lambda_5[0][0]                   \n",
            "__________________________________________________________________________________________________\n",
            "lambda_6 (Lambda)               (None, 2000, 1)      0           concatenate_2[0][0]              \n",
            "==================================================================================================\n",
            "Total params: 10\n",
            "Trainable params: 10\n",
            "Non-trainable params: 0\n",
            "__________________________________________________________________________________________________\n",
            "None\n",
            "Epoch 1/200\n",
            " - 0s - loss: 0.6920\n",
            "Epoch 2/200\n",
            " - 0s - loss: 0.6904\n",
            "Epoch 3/200\n",
            " - 0s - loss: 0.6881\n",
            "Epoch 4/200\n",
            " - 0s - loss: 0.6852\n",
            "Epoch 5/200\n",
            " - 0s - loss: 0.6816\n",
            "Epoch 6/200\n",
            " - 0s - loss: 0.6774\n",
            "Epoch 7/200\n",
            " - 0s - loss: 0.6726\n",
            "Epoch 8/200\n",
            " - 0s - loss: 0.6672\n",
            "Epoch 9/200\n",
            " - 0s - loss: 0.6612\n",
            "Epoch 10/200\n",
            " - 0s - loss: 0.6546\n",
            "Epoch 11/200\n",
            " - 0s - loss: 0.6473\n",
            "Epoch 12/200\n",
            " - 0s - loss: 0.6395\n",
            "Epoch 13/200\n",
            " - 0s - loss: 0.6309\n",
            "Epoch 14/200\n",
            " - 0s - loss: 0.6216\n",
            "Epoch 15/200\n",
            " - 0s - loss: 0.6111\n",
            "Epoch 16/200\n",
            " - 0s - loss: 0.5993\n",
            "Epoch 17/200\n",
            " - 0s - loss: 0.5861\n",
            "Epoch 18/200\n",
            " - 0s - loss: 0.5715\n",
            "Epoch 19/200\n",
            " - 0s - loss: 0.5552\n",
            "Epoch 20/200\n",
            " - 0s - loss: 0.5377\n",
            "Epoch 21/200\n",
            " - 0s - loss: 0.5191\n",
            "Epoch 22/200\n",
            " - 0s - loss: 0.4990\n",
            "Epoch 23/200\n",
            " - 0s - loss: 0.4770\n",
            "Epoch 24/200\n",
            " - 0s - loss: 0.4536\n",
            "Epoch 25/200\n",
            " - 0s - loss: 0.4288\n",
            "Epoch 26/200\n",
            " - 0s - loss: 0.4018\n",
            "Epoch 27/200\n",
            " - 0s - loss: 0.3677\n",
            "Epoch 28/200\n",
            " - 0s - loss: 0.3257\n",
            "Epoch 29/200\n",
            " - 0s - loss: 0.2776\n",
            "Epoch 30/200\n",
            " - 0s - loss: 0.2260\n",
            "Epoch 31/200\n",
            " - 0s - loss: 0.1808\n",
            "Epoch 32/200\n",
            " - 0s - loss: 0.1439\n",
            "Epoch 33/200\n",
            " - 0s - loss: 0.1110\n",
            "Epoch 34/200\n",
            " - 0s - loss: 0.0780\n",
            "Epoch 35/200\n",
            " - 0s - loss: 0.0485\n",
            "Epoch 36/200\n",
            " - 0s - loss: 0.0231\n",
            "Epoch 37/200\n",
            " - 0s - loss: -2.3906e-03\n",
            "Epoch 38/200\n",
            " - 0s - loss: -2.5337e-02\n",
            "Epoch 39/200\n",
            " - 0s - loss: -4.4980e-02\n",
            "Epoch 40/200\n",
            " - 0s - loss: -6.2744e-02\n",
            "Epoch 41/200\n",
            " - 0s - loss: -7.7400e-02\n",
            "Epoch 42/200\n",
            " - 0s - loss: -8.9646e-02\n",
            "Epoch 43/200\n",
            " - 0s - loss: -1.0051e-01\n",
            "Epoch 44/200\n",
            " - 0s - loss: -1.1026e-01\n",
            "Epoch 45/200\n",
            " - 0s - loss: -1.1892e-01\n",
            "Epoch 46/200\n",
            " - 0s - loss: -1.2673e-01\n",
            "Epoch 47/200\n",
            " - 0s - loss: -1.3482e-01\n",
            "Epoch 48/200\n",
            " - 0s - loss: -1.4532e-01\n",
            "Epoch 49/200\n",
            " - 0s - loss: -1.5159e-01\n",
            "Epoch 50/200\n",
            " - 0s - loss: -1.5713e-01\n",
            "Epoch 51/200\n",
            " - 0s - loss: -1.6218e-01\n",
            "Epoch 52/200\n",
            " - 0s - loss: -1.6701e-01\n",
            "Epoch 53/200\n",
            " - 0s - loss: -1.7137e-01\n",
            "Epoch 54/200\n",
            " - 0s - loss: -1.7518e-01\n",
            "Epoch 55/200\n",
            " - 0s - loss: -1.7865e-01\n",
            "Epoch 56/200\n",
            " - 0s - loss: -1.8191e-01\n",
            "Epoch 57/200\n",
            " - 0s - loss: -1.8495e-01\n",
            "Epoch 58/200\n",
            " - 0s - loss: -1.8780e-01\n",
            "Epoch 59/200\n",
            " - 0s - loss: -1.9045e-01\n",
            "Epoch 60/200\n",
            " - 0s - loss: -1.9294e-01\n",
            "Epoch 61/200\n",
            " - 0s - loss: -1.9522e-01\n",
            "Epoch 62/200\n",
            " - 0s - loss: -1.9739e-01\n",
            "Epoch 63/200\n",
            " - 0s - loss: -1.9946e-01\n",
            "Epoch 64/200\n",
            " - 0s - loss: -2.0145e-01\n",
            "Epoch 65/200\n",
            " - 0s - loss: -2.0337e-01\n",
            "Epoch 66/200\n",
            " - 0s - loss: -2.0521e-01\n",
            "Epoch 67/200\n",
            " - 0s - loss: -2.0699e-01\n",
            "Epoch 68/200\n",
            " - 0s - loss: -2.0871e-01\n",
            "Epoch 69/200\n",
            " - 0s - loss: -2.1034e-01\n",
            "Epoch 70/200\n",
            " - 0s - loss: -2.1190e-01\n",
            "Epoch 71/200\n",
            " - 0s - loss: -2.1334e-01\n",
            "Epoch 72/200\n",
            " - 0s - loss: -2.1457e-01\n",
            "Epoch 73/200\n",
            " - 0s - loss: -2.1569e-01\n",
            "Epoch 74/200\n",
            " - 0s - loss: -2.1673e-01\n",
            "Epoch 75/200\n",
            " - 0s - loss: -2.1773e-01\n",
            "Epoch 76/200\n",
            " - 0s - loss: -2.1879e-01\n",
            "Epoch 77/200\n",
            " - 0s - loss: -2.2040e-01\n",
            "Epoch 78/200\n",
            " - 0s - loss: -2.2246e-01\n",
            "Epoch 79/200\n",
            " - 0s - loss: -2.2325e-01\n",
            "Epoch 80/200\n",
            " - 0s - loss: -2.2394e-01\n",
            "Epoch 81/200\n",
            " - 0s - loss: -2.2460e-01\n",
            "Epoch 82/200\n",
            " - 0s - loss: -2.2526e-01\n",
            "Epoch 83/200\n",
            " - 0s - loss: -2.2592e-01\n",
            "Epoch 84/200\n",
            " - 0s - loss: -2.2658e-01\n",
            "Epoch 85/200\n",
            " - 0s - loss: -2.2723e-01\n",
            "Epoch 86/200\n",
            " - 0s - loss: -2.2786e-01\n",
            "Epoch 87/200\n",
            " - 0s - loss: -2.2843e-01\n",
            "Epoch 88/200\n",
            " - 0s - loss: -2.2894e-01\n",
            "Epoch 89/200\n",
            " - 0s - loss: -2.2936e-01\n",
            "Epoch 90/200\n",
            " - 0s - loss: -2.2975e-01\n",
            "Epoch 91/200\n",
            " - 0s - loss: -2.3014e-01\n",
            "Epoch 92/200\n",
            " - 0s - loss: -2.3056e-01\n",
            "Epoch 93/200\n",
            " - 0s - loss: -2.3100e-01\n",
            "Epoch 94/200\n",
            " - 0s - loss: -2.3145e-01\n",
            "Epoch 95/200\n",
            " - 0s - loss: -2.3188e-01\n",
            "Epoch 96/200\n",
            " - 0s - loss: -2.3228e-01\n",
            "Epoch 97/200\n",
            " - 0s - loss: -2.3267e-01\n",
            "Epoch 98/200\n",
            " - 0s - loss: -2.3303e-01\n",
            "Epoch 99/200\n",
            " - 0s - loss: -2.3338e-01\n",
            "Epoch 100/200\n",
            " - 0s - loss: -2.3371e-01\n",
            "Epoch 101/200\n",
            " - 0s - loss: -2.3405e-01\n",
            "Epoch 102/200\n",
            " - 0s - loss: -2.3437e-01\n",
            "Epoch 103/200\n",
            " - 0s - loss: -2.3469e-01\n",
            "Epoch 104/200\n",
            " - 0s - loss: -2.3500e-01\n",
            "Epoch 105/200\n",
            " - 0s - loss: -2.3530e-01\n",
            "Epoch 106/200\n",
            " - 0s - loss: -2.3560e-01\n",
            "Epoch 107/200\n",
            " - 0s - loss: -2.3590e-01\n",
            "Epoch 108/200\n",
            " - 0s - loss: -2.3618e-01\n",
            "Epoch 109/200\n",
            " - 0s - loss: -2.3647e-01\n",
            "Epoch 110/200\n",
            " - 0s - loss: -2.3674e-01\n",
            "Epoch 111/200\n",
            " - 0s - loss: -2.3700e-01\n",
            "Epoch 112/200\n",
            " - 0s - loss: -2.3725e-01\n",
            "Epoch 113/200\n",
            " - 0s - loss: -2.3750e-01\n",
            "Epoch 114/200\n",
            " - 0s - loss: -2.3774e-01\n",
            "Epoch 115/200\n",
            " - 0s - loss: -2.3797e-01\n",
            "Epoch 116/200\n",
            " - 0s - loss: -2.3820e-01\n",
            "Epoch 117/200\n",
            " - 0s - loss: -2.3842e-01\n",
            "Epoch 118/200\n",
            " - 0s - loss: -2.3863e-01\n",
            "Epoch 119/200\n",
            " - 0s - loss: -2.3884e-01\n",
            "Epoch 120/200\n",
            " - 0s - loss: -2.3904e-01\n",
            "Epoch 121/200\n",
            " - 0s - loss: -2.3923e-01\n",
            "Epoch 122/200\n",
            " - 0s - loss: -2.3942e-01\n",
            "Epoch 123/200\n",
            " - 0s - loss: -2.3960e-01\n",
            "Epoch 124/200\n",
            " - 0s - loss: -2.3977e-01\n",
            "Epoch 125/200\n",
            " - 0s - loss: -2.3994e-01\n",
            "Epoch 126/200\n",
            " - 0s - loss: -2.4011e-01\n",
            "Epoch 127/200\n",
            " - 0s - loss: -2.4027e-01\n",
            "Epoch 128/200\n",
            " - 0s - loss: -2.4042e-01\n",
            "Epoch 129/200\n",
            " - 0s - loss: -2.4057e-01\n",
            "Epoch 130/200\n",
            " - 0s - loss: -2.4071e-01\n",
            "Epoch 131/200\n",
            " - 0s - loss: -2.4085e-01\n",
            "Epoch 132/200\n",
            " - 0s - loss: -2.4099e-01\n",
            "Epoch 133/200\n",
            " - 0s - loss: -2.4112e-01\n",
            "Epoch 134/200\n",
            " - 0s - loss: -2.4125e-01\n",
            "Epoch 135/200\n",
            " - 0s - loss: -2.4137e-01\n",
            "Epoch 136/200\n",
            " - 0s - loss: -2.4149e-01\n",
            "Epoch 137/200\n",
            " - 0s - loss: -2.4161e-01\n",
            "Epoch 138/200\n",
            " - 0s - loss: -2.4173e-01\n",
            "Epoch 139/200\n",
            " - 0s - loss: -2.4185e-01\n",
            "Epoch 140/200\n",
            " - 0s - loss: -2.4196e-01\n",
            "Epoch 141/200\n",
            " - 0s - loss: -2.4207e-01\n",
            "Epoch 142/200\n",
            " - 0s - loss: -2.4219e-01\n",
            "Epoch 143/200\n",
            " - 0s - loss: -2.4230e-01\n",
            "Epoch 144/200\n",
            " - 0s - loss: -2.4240e-01\n",
            "Epoch 145/200\n",
            " - 0s - loss: -2.4251e-01\n",
            "Epoch 146/200\n",
            " - 0s - loss: -2.4262e-01\n",
            "Epoch 147/200\n",
            " - 0s - loss: -2.4272e-01\n",
            "Epoch 148/200\n",
            " - 0s - loss: -2.4282e-01\n",
            "Epoch 149/200\n",
            " - 0s - loss: -2.4291e-01\n",
            "Epoch 150/200\n",
            " - 0s - loss: -2.4301e-01\n",
            "Epoch 151/200\n",
            " - 0s - loss: -2.4311e-01\n",
            "Epoch 152/200\n",
            " - 0s - loss: -2.4321e-01\n",
            "Epoch 153/200\n",
            " - 0s - loss: -2.4330e-01\n",
            "Epoch 154/200\n",
            " - 0s - loss: -2.4339e-01\n",
            "Epoch 155/200\n",
            " - 0s - loss: -2.4347e-01\n",
            "Epoch 156/200\n",
            " - 0s - loss: -2.4355e-01\n",
            "Epoch 157/200\n",
            " - 0s - loss: -2.4363e-01\n",
            "Epoch 158/200\n",
            " - 0s - loss: -2.4371e-01\n",
            "Epoch 159/200\n",
            " - 0s - loss: -2.4379e-01\n",
            "Epoch 160/200\n",
            " - 0s - loss: -2.4386e-01\n",
            "Epoch 161/200\n",
            " - 0s - loss: -2.4393e-01\n",
            "Epoch 162/200\n",
            " - 0s - loss: -2.4399e-01\n",
            "Epoch 163/200\n",
            " - 0s - loss: -2.4406e-01\n",
            "Epoch 164/200\n",
            " - 0s - loss: -2.4412e-01\n",
            "Epoch 165/200\n",
            " - 0s - loss: -2.4419e-01\n",
            "Epoch 166/200\n",
            " - 0s - loss: -2.4425e-01\n",
            "Epoch 167/200\n",
            " - 0s - loss: -2.4432e-01\n",
            "Epoch 168/200\n",
            " - 0s - loss: -2.4438e-01\n",
            "Epoch 169/200\n",
            " - 0s - loss: -2.4444e-01\n",
            "Epoch 170/200\n",
            " - 0s - loss: -2.4451e-01\n",
            "Epoch 171/200\n",
            " - 0s - loss: -2.4457e-01\n",
            "Epoch 172/200\n",
            " - 0s - loss: -2.4464e-01\n",
            "Epoch 173/200\n",
            " - 0s - loss: -2.4471e-01\n",
            "Epoch 174/200\n",
            " - 0s - loss: -2.4477e-01\n",
            "Epoch 175/200\n",
            " - 0s - loss: -2.4484e-01\n",
            "Epoch 176/200\n",
            " - 0s - loss: -2.4491e-01\n",
            "Epoch 177/200\n",
            " - 0s - loss: -2.4498e-01\n",
            "Epoch 178/200\n",
            " - 0s - loss: -2.4506e-01\n",
            "Epoch 179/200\n",
            " - 0s - loss: -2.4513e-01\n",
            "Epoch 180/200\n",
            " - 0s - loss: -2.4521e-01\n",
            "Epoch 181/200\n",
            " - 0s - loss: -2.4529e-01\n",
            "Epoch 182/200\n",
            " - 0s - loss: -2.4537e-01\n",
            "Epoch 183/200\n",
            " - 0s - loss: -2.4545e-01\n",
            "Epoch 184/200\n",
            " - 0s - loss: -2.4554e-01\n",
            "Epoch 185/200\n",
            " - 0s - loss: -2.4563e-01\n",
            "Epoch 186/200\n",
            " - 0s - loss: -2.4572e-01\n",
            "Epoch 187/200\n",
            " - 0s - loss: -2.4582e-01\n",
            "Epoch 188/200\n",
            " - 0s - loss: -2.4592e-01\n",
            "Epoch 189/200\n",
            " - 0s - loss: -2.4602e-01\n",
            "Epoch 190/200\n",
            " - 0s - loss: -2.4613e-01\n",
            "Epoch 191/200\n",
            " - 0s - loss: -2.4624e-01\n",
            "Epoch 192/200\n",
            " - 0s - loss: -2.4636e-01\n",
            "Epoch 193/200\n",
            " - 0s - loss: -2.4647e-01\n",
            "Epoch 194/200\n",
            " - 0s - loss: -2.4660e-01\n",
            "Epoch 195/200\n",
            " - 0s - loss: -2.4672e-01\n",
            "Epoch 196/200\n",
            " - 0s - loss: -2.4686e-01\n",
            "Epoch 197/200\n",
            " - 0s - loss: -2.4699e-01\n",
            "Epoch 198/200\n",
            " - 0s - loss: -2.4713e-01\n",
            "Epoch 199/200\n",
            " - 0s - loss: -2.4727e-01\n",
            "Epoch 200/200\n",
            " - 0s - loss: -2.4741e-01\n"
          ],
          "name": "stdout"
        },
        {
          "output_type": "execute_result",
          "data": {
            "text/plain": [
              "<keras.callbacks.History at 0x7f39b70aef28>"
            ]
          },
          "metadata": {
            "tags": []
          },
          "execution_count": 14
        }
      ]
    },
    {
      "cell_type": "code",
      "metadata": {
        "colab_type": "code",
        "id": "PzlamzY3Q4Bm",
        "outputId": "969122cb-e464-4cbc-b46b-7c66d2653bb2",
        "colab": {
          "base_uri": "https://localhost:8080/",
          "height": 201
        }
      },
      "source": [
        "# 查看模型参数\n",
        "weights = model.get_weights()\n",
        "print('The coefficients of p-lagged values: {}'.format(weights[0]))\n",
        "print('The coefficients of the previous F(t-1): {}'.format(weights[1]))\n",
        "print('The bias: {}'.format(weights[2]))"
      ],
      "execution_count": 0,
      "outputs": [
        {
          "output_type": "stream",
          "text": [
            "The coefficients of p-lagged values: [[0.17705768]\n",
            " [0.7909807 ]\n",
            " [0.715309  ]\n",
            " [0.4833834 ]\n",
            " [0.14923589]\n",
            " [0.5534151 ]\n",
            " [0.5022623 ]\n",
            " [0.44670355]]\n",
            "The coefficients of the previous F(t-1): [[1.6869783]]\n",
            "The bias: [1.0798874]\n"
          ],
          "name": "stdout"
        }
      ]
    },
    {
      "cell_type": "markdown",
      "metadata": {
        "colab_type": "text",
        "id": "21dmHPvkLIZ2"
      },
      "source": [
        "### **在测试集上评估循环强化学习模型**"
      ]
    },
    {
      "cell_type": "markdown",
      "metadata": {
        "colab_type": "text",
        "id": "sFt5teBNv4-O"
      },
      "source": [
        "Given $\\theta$ and $F_{0} =0$, at each time $t$, we can evaluate the trading Strategy $F_{t}$:\n",
        "\\begin{eqnarray*}\n",
        "F_{t} = \\text{sign}\\left({\\color{blue}\\mu} F_{t-1} + \\sum_{ i = 0}^{p-1} {\\color{blue}\\nu_{i}} r_{t - i} + {\\color{blue}\\omega}\\right),\n",
        "\\end{eqnarray*}\n",
        "where $F_{t} \\in \\{ -1, 0, +1\\}$, and ${\\color{blue}\\theta \\equiv (\\mu,\\nu_{0} \\cdots, \\nu_{m}, \\omega)}$ are model parameters."
      ]
    },
    {
      "cell_type": "code",
      "metadata": {
        "colab_type": "code",
        "id": "coyBHh5sQvoi",
        "outputId": "30618990-7516-4379-97e1-1b69858009b2",
        "colab": {
          "base_uri": "https://localhost:8080/",
          "height": 1000
        }
      },
      "source": [
        "def plot_Price_F_Profit_SharpeR(r, F, R, D):\n",
        "  ''' 绘制交易策略、交易回报和夏普比率序列 '''\n",
        "  plt.tight_layout()\n",
        "  plt.subplots(3,1,figsize=(20,10))\n",
        "  plt.subplot(3,1,1)\n",
        "  plt.plot(F, 'b')\n",
        "  plt.xlabel('Time')\n",
        "  plt.ylabel('Signal')\n",
        "  plt.subplot(3,1,2)\n",
        "  plt.plot(np.cumsum(R), 'b', label=\"Moody-Saffell-RLL\")\n",
        "  plt.plot(np.cumsum(r), 'r',label=\"Buy-and-Hold\")\n",
        "  plt.xlabel('Time')\n",
        "  plt.ylabel('Return')\n",
        "  plt.legend(loc=\"upper left\")\n",
        "  plt.subplot(3,1,3)\n",
        "  plt.plot(D, 'b')\n",
        "  plt.xlabel('Time')\n",
        "  plt.ylabel('Sharpe ratio')\n",
        "  plt.legend(loc=\"upper left\")\n",
        "  plt.tight_layout()\n",
        "  plt.show()\n",
        "  \n",
        "def plot_average_weekly_return(R):\n",
        "    ''' 绘制每周平均交易回报的直方图 '''\n",
        "    l = np.int(np.floor(np.shape(R)[0]/5))\n",
        "    avgProfit = R[: l*5].reshape(l, 5)\n",
        "    avgProfit = np.mean(avgProfit, 1)\n",
        "    plt.hist(avgProfit, bins=50, color='b')\n",
        "    plt.xlim((-0.01, 0.01))  \n",
        "    \n",
        "def plot_Hist_R_SharpR(R, D): \n",
        "  '''\n",
        "  绘制每日交易回报、每周平均交易回报和夏普比率的直方图;\n",
        "  左图是时刻t=1:5000的数据, 右图是时刻t=5000:10000的数据.\n",
        "  '''\n",
        "  plt.subplots(3,2,figsize=(17, 23))\n",
        "  plt.subplot(3, 2, 1)\n",
        "  plt.hist(R[:5000], 50, color='b')\n",
        "  plt.xlabel('Trading reutrn')\n",
        "  plt.ylabel('Freq')\n",
        "  plt.title('t = 1: 5000')\n",
        "  plt.subplot(3, 2, 2)\n",
        "  plt.hist(R[5000:], 50, color='b')\n",
        "  plt.xlabel('Trading return')\n",
        "  plt.ylabel('Freq')\n",
        "  plt.title('t = 5000:10000') \n",
        "  plt.subplot(3, 2, 3)\n",
        "  plot_average_weekly_return(R[:5000])\n",
        "  plt.xlabel('Average weekly trading return')\n",
        "  plt.ylabel('Freq')\n",
        "  plt.title('t = 1:5000')\n",
        "  plt.subplot(3, 2, 4)  \n",
        "  plot_average_weekly_return(R[5000:])\n",
        "  plt.xlabel('Average weekly trading return')\n",
        "  plt.ylabel('Freq')\n",
        "  plt.title('t = 5000:10000')\n",
        "  plt.subplot(3, 2, 5)\n",
        "  plt.hist(D[:5000], 80, color='b')\n",
        "  plt.xlabel('Sharpe ratio')\n",
        "  plt.ylabel('Freq')\n",
        "  plt.title('t = 1: 5000')\n",
        "  plt.subplot(3, 2, 6)\n",
        "  plt.hist(D[5000:], 80, color='b')\n",
        "  plt.xlabel('Sharpe ratio')\n",
        "  plt.ylabel('Freq')\n",
        "  plt.title('t = 5000:10000')\n",
        "  plt.tight_layout()\n",
        "  plt.show()\n",
        "  \n",
        "# 计算交易策略、交易回报和夏普比率序列\n",
        "X = reshape_input(X_ts, r_ts)\n",
        "F, R, D = do_prediction(X, model, delta)\n",
        "\n",
        "plot_Price_F_Profit_SharpeR(r_ts, F, R, D)\n",
        "plot_Hist_R_SharpR(R, D)\n",
        "\n"
      ],
      "execution_count": 0,
      "outputs": [
        {
          "output_type": "stream",
          "text": [
            "No handles with labels found to put in legend.\n"
          ],
          "name": "stderr"
        },
        {
          "output_type": "display_data",
          "data": {
            "text/plain": [
              "<Figure size 432x288 with 0 Axes>"
            ]
          },
          "metadata": {
            "tags": []
          }
        },
        {
          "output_type": "display_data",
          "data": {
            "image/png": "[encoded data removed]",
            "text/plain": [
              "<Figure size 1440x720 with 3 Axes>"
            ]
          },
          "metadata": {
            "tags": []
          }
        },
        {
          "output_type": "display_data",
          "data": {
            "image/png": "[encoded data removed]",
            "text/plain": [
              "<Figure size 1224x1656 with 6 Axes>"
            ]
          },
          "metadata": {
            "tags": []
          }
        }
      ]
    }
  ]
}