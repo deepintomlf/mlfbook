{
  "nbformat": 4,
  "nbformat_minor": 0,
  "metadata": {
    "colab": {
      "name": "PracticeSession1_HN.ipynb",
      "version": "0.3.2",
      "provenance": [],
      "collapsed_sections": [
        "G961Oko_PenB",
        "YoldZQgkPr6-",
        "95_nhUhhP3ji",
        "nAxj3de7072f",
        "5wu5oABiQHgn",
        "1aLLvJ5WOK4x"
      ],
      "include_colab_link": true
    },
    "kernelspec": {
      "name": "python3",
      "display_name": "Python 3"
    },
    "accelerator": "GPU"
  },
  "cells": [
    {
      "cell_type": "markdown",
      "metadata": {
        "id": "view-in-github",
        "colab_type": "text"
      },
      "source": [
        "<a href=\"https://colab.research.google.com/github/deepintomlf/mlfbook/blob/master/Section5.2_ANN.ipynb\" target=\"_parent\"><img src=\"https://colab.research.google.com/assets/colab-badge.svg\" alt=\"Open In Colab\"/></a>"
      ]
    },
    {
      "cell_type": "markdown",
      "metadata": {
        "id": "iSAJ064BtXrq",
        "colab_type": "text"
      },
      "source": [
        "##Artificial Neural Network###"
      ]
    },
    {
      "cell_type": "markdown",
      "metadata": {
        "id": "xWL5dnZItdxU",
        "colab_type": "text"
      },
      "source": [
        "![alt text](https://docs.google.com/uc?export=download&id=1oWrlu3M05rP8GzEWU23EgTZpDiFj2Mop)\n",
        "\n",
        "\n",
        "\n",
        "*   Input layer ( $h^{0}$): $h^{0}(x) = x$.\n",
        "*  Hidden layer ($\\{h^{l}\\}_{l = 1}^{L-1}$);\n",
        "* Output layer ($h^{L}$).\n",
        "\n",
        "\\begin{eqnarray*}\n",
        "z^{l+1} &=& {\\color{blue}W^{l}} h^{l} + {\\color{blue}b^{l}},\\\\\n",
        "h^{l+1} &=& {\\color{red} \\sigma}(z^{l+1}),\n",
        "\\end{eqnarray*}\n",
        "where ${\\color{red}\\sigma}$ is an* activation function*, which is usually non-linear, e.g. the sigmoid function $\\sigma(x) = \\frac{1}{1+e^{-x}}$. The parameter set ${\\color{blue}\\theta} = (W^{l}, b^{l})_{l =1}^{L}$}.\n"
      ]
    },
    {
      "cell_type": "markdown",
      "metadata": {
        "id": "ClYeClr2vTc7",
        "colab_type": "text"
      },
      "source": [
        "###ANN Classification###\n",
        "The input $x$ is a multi-dimensional vector; \n",
        "\n",
        "The ouput $y$ is a one-hot respresenation of the class. \n",
        "\n",
        "\n",
        "The number of neurons in the output layer is the total number of classes. \n",
        "\n",
        "The $j^{th}$ neurons in the output layer represents the probability of the output(label) being class $j$.  \n",
        "\n",
        " The **cross entropy **loss function is defined as follows:\n",
        "\n",
        "\\begin{eqnarray*}\n",
        "L(\\theta \\vert \\mathcal{D}) = - \\frac{1}{N}\\sum_{i =1}^{N} \\sum_{k} \\mathbb{1}( y_{i}=\\text{ class }k) \\log(p(y_{i} =\\text{ class }k \\vert x_{i})) \n",
        "\\end{eqnarray*}\n",
        "\n",
        "Note: The cross entropy between two probability distributions $p$ and $q$ is defined as \n",
        "\\begin{eqnarray*}\n",
        "H(p, q) =- \\sum_{x} p(x)\\log(q(x)).\n",
        "\\end{eqnarray*}\n",
        "\n",
        "$L(\\theta \\vert \\mathcal{D}) $ can be reformulated as \n",
        "\n",
        "\\begin{eqnarray*}\n",
        "L(\\theta \\vert \\mathcal{D}) = - \\frac{1}{N} \\langle  y_{i}, \\log(p_{\\theta }(  \\cdot \\vert x_{i})) \\rangle \n",
        "\\end{eqnarray*}\n"
      ]
    },
    {
      "cell_type": "markdown",
      "metadata": {
        "id": "xZBRzRhF_-xI",
        "colab_type": "text"
      },
      "source": [
        "#Pipelines of Supervised Learning Algorithms# "
      ]
    },
    {
      "cell_type": "markdown",
      "metadata": {
        "id": "7E1pkUGgQHpb",
        "colab_type": "text"
      },
      "source": [
        "The piplelines of the supervised learning algorithms are summarized as follows:\n",
        "\n",
        "1.   Import Datasets;\n",
        "2.   Take a look at the dataset (Statistical Analysis/Visualization);\n",
        "3.    Pre-process the dataset to prepare for the training process (normalization/reshape data);\n",
        "4.    Train a model;\n",
        "5.    Validate a model;\n",
        "6.    Cross Validation. \n"
      ]
    },
    {
      "cell_type": "markdown",
      "metadata": {
        "id": "X-vM1QWbbRDo",
        "colab_type": "text"
      },
      "source": [
        "** We will apply the shallow neural network to the MNIST dataset as a concrete example to go through the pipelines of supervised learning algorithm.**"
      ]
    },
    {
      "cell_type": "markdown",
      "metadata": {
        "id": "rcEMqDnp3Ese",
        "colab_type": "text"
      },
      "source": [
        "Problem: Build an algorithm to identify the digit label from the handwritten image using the MNIST dataset. \n",
        "\n",
        "![alt text](http://corochann.com/wp-content/uploads/2017/02/mnist_plot.png)"
      ]
    },
    {
      "cell_type": "markdown",
      "metadata": {
        "id": "Yo03nFuXWsP2",
        "colab_type": "text"
      },
      "source": [
        "## Import Dataset##"
      ]
    },
    {
      "cell_type": "code",
      "metadata": {
        "id": "wTvLJzzjA6aB",
        "colab_type": "code",
        "outputId": "11536be1-40af-4b27-d4e8-224413fb72cf",
        "colab": {
          "base_uri": "https://localhost:8080/",
          "height": 34
        }
      },
      "source": [
        "# Import the MNIST Dataset\n",
        "from keras.datasets import mnist\n",
        "(x_train, y_train), (x_test, y_test) = mnist.load_data()"
      ],
      "execution_count": 0,
      "outputs": [
        {
          "output_type": "stream",
          "text": [
            "Using TensorFlow backend.\n"
          ],
          "name": "stderr"
        }
      ]
    },
    {
      "cell_type": "markdown",
      "metadata": {
        "id": "xIP6JEi5PtTl",
        "colab_type": "text"
      },
      "source": [
        "[keras link](https://keras.io/datasets/)"
      ]
    },
    {
      "cell_type": "markdown",
      "metadata": {
        "id": "iJekBGxRXYGF",
        "colab_type": "text"
      },
      "source": [
        "##Analyse Dataset##"
      ]
    },
    {
      "cell_type": "code",
      "metadata": {
        "id": "S_1peD5RBNb3",
        "colab_type": "code",
        "outputId": "9ab3a756-a2c1-4aa9-fdb6-64b9033525f9",
        "colab": {
          "base_uri": "https://localhost:8080/",
          "height": 119
        }
      },
      "source": [
        "import numpy as np\n",
        "print(type(x_train))\n",
        "print(type(y_train))\n",
        "print(np.shape(x_train))\n",
        "print(np.shape(y_train))\n",
        "print(np.shape(x_test))\n",
        "print(np.shape(y_test))"
      ],
      "execution_count": 0,
      "outputs": [
        {
          "output_type": "stream",
          "text": [
            "<class 'numpy.ndarray'>\n",
            "<class 'numpy.ndarray'>\n",
            "(60000, 28, 28)\n",
            "(60000,)\n",
            "(10000, 28, 28)\n",
            "(10000,)\n"
          ],
          "name": "stdout"
        }
      ]
    },
    {
      "cell_type": "code",
      "metadata": {
        "id": "l5-TkjQZF8f6",
        "colab_type": "code",
        "outputId": "d1fe6cab-41a4-4c3e-8933-1f34c098bb97",
        "colab": {
          "base_uri": "https://localhost:8080/",
          "height": 1020
        }
      },
      "source": [
        "print('One sample of x_train is')\n",
        "print(x_train[0])\n",
        "print('The output labels in the training set is')\n",
        "print(y_train)"
      ],
      "execution_count": 0,
      "outputs": [
        {
          "output_type": "stream",
          "text": [
            "One sample of x_train is\n",
            "[[  0   0   0   0   0   0   0   0   0   0   0   0   0   0   0   0   0   0\n",
            "    0   0   0   0   0   0   0   0   0   0]\n",
            " [  0   0   0   0   0   0   0   0   0   0   0   0   0   0   0   0   0   0\n",
            "    0   0   0   0   0   0   0   0   0   0]\n",
            " [  0   0   0   0   0   0   0   0   0   0   0   0   0   0   0   0   0   0\n",
            "    0   0   0   0   0   0   0   0   0   0]\n",
            " [  0   0   0   0   0   0   0   0   0   0   0   0   0   0   0   0   0   0\n",
            "    0   0   0   0   0   0   0   0   0   0]\n",
            " [  0   0   0   0   0   0   0   0   0   0   0   0   0   0   0   0   0   0\n",
            "    0   0   0   0   0   0   0   0   0   0]\n",
            " [  0   0   0   0   0   0   0   0   0   0   0   0   3  18  18  18 126 136\n",
            "  175  26 166 255 247 127   0   0   0   0]\n",
            " [  0   0   0   0   0   0   0   0  30  36  94 154 170 253 253 253 253 253\n",
            "  225 172 253 242 195  64   0   0   0   0]\n",
            " [  0   0   0   0   0   0   0  49 238 253 253 253 253 253 253 253 253 251\n",
            "   93  82  82  56  39   0   0   0   0   0]\n",
            " [  0   0   0   0   0   0   0  18 219 253 253 253 253 253 198 182 247 241\n",
            "    0   0   0   0   0   0   0   0   0   0]\n",
            " [  0   0   0   0   0   0   0   0  80 156 107 253 253 205  11   0  43 154\n",
            "    0   0   0   0   0   0   0   0   0   0]\n",
            " [  0   0   0   0   0   0   0   0   0  14   1 154 253  90   0   0   0   0\n",
            "    0   0   0   0   0   0   0   0   0   0]\n",
            " [  0   0   0   0   0   0   0   0   0   0   0 139 253 190   2   0   0   0\n",
            "    0   0   0   0   0   0   0   0   0   0]\n",
            " [  0   0   0   0   0   0   0   0   0   0   0  11 190 253  70   0   0   0\n",
            "    0   0   0   0   0   0   0   0   0   0]\n",
            " [  0   0   0   0   0   0   0   0   0   0   0   0  35 241 225 160 108   1\n",
            "    0   0   0   0   0   0   0   0   0   0]\n",
            " [  0   0   0   0   0   0   0   0   0   0   0   0   0  81 240 253 253 119\n",
            "   25   0   0   0   0   0   0   0   0   0]\n",
            " [  0   0   0   0   0   0   0   0   0   0   0   0   0   0  45 186 253 253\n",
            "  150  27   0   0   0   0   0   0   0   0]\n",
            " [  0   0   0   0   0   0   0   0   0   0   0   0   0   0   0  16  93 252\n",
            "  253 187   0   0   0   0   0   0   0   0]\n",
            " [  0   0   0   0   0   0   0   0   0   0   0   0   0   0   0   0   0 249\n",
            "  253 249  64   0   0   0   0   0   0   0]\n",
            " [  0   0   0   0   0   0   0   0   0   0   0   0   0   0  46 130 183 253\n",
            "  253 207   2   0   0   0   0   0   0   0]\n",
            " [  0   0   0   0   0   0   0   0   0   0   0   0  39 148 229 253 253 253\n",
            "  250 182   0   0   0   0   0   0   0   0]\n",
            " [  0   0   0   0   0   0   0   0   0   0  24 114 221 253 253 253 253 201\n",
            "   78   0   0   0   0   0   0   0   0   0]\n",
            " [  0   0   0   0   0   0   0   0  23  66 213 253 253 253 253 198  81   2\n",
            "    0   0   0   0   0   0   0   0   0   0]\n",
            " [  0   0   0   0   0   0  18 171 219 253 253 253 253 195  80   9   0   0\n",
            "    0   0   0   0   0   0   0   0   0   0]\n",
            " [  0   0   0   0  55 172 226 253 253 253 253 244 133  11   0   0   0   0\n",
            "    0   0   0   0   0   0   0   0   0   0]\n",
            " [  0   0   0   0 136 253 253 253 212 135 132  16   0   0   0   0   0   0\n",
            "    0   0   0   0   0   0   0   0   0   0]\n",
            " [  0   0   0   0   0   0   0   0   0   0   0   0   0   0   0   0   0   0\n",
            "    0   0   0   0   0   0   0   0   0   0]\n",
            " [  0   0   0   0   0   0   0   0   0   0   0   0   0   0   0   0   0   0\n",
            "    0   0   0   0   0   0   0   0   0   0]\n",
            " [  0   0   0   0   0   0   0   0   0   0   0   0   0   0   0   0   0   0\n",
            "    0   0   0   0   0   0   0   0   0   0]]\n",
            "The output labels in the training set is\n",
            "[5 0 4 ... 5 6 8]\n"
          ],
          "name": "stdout"
        }
      ]
    },
    {
      "cell_type": "code",
      "metadata": {
        "id": "EfBvAA3tBoIJ",
        "colab_type": "code",
        "outputId": "35fa4c0f-7cd3-47c8-bc80-fc510dd04f2b",
        "colab": {
          "base_uri": "https://localhost:8080/",
          "height": 305
        }
      },
      "source": [
        "import matplotlib.pyplot as plt\n",
        "\n",
        "f = plt.figure(figsize=(10, 10))\n",
        "plt.subplot(1, 2, 1)\n",
        "plt.grid(b = False)\n",
        "plt.imshow(x_train[0, :, :])\n",
        "plt.subplot(1, 2, 2)\n",
        "plt.imshow(x_train[10,:,:])\n",
        "plt.grid(b = False)"
      ],
      "execution_count": 0,
      "outputs": [
        {
          "output_type": "display_data",
          "data": {
            "image/png": "[encoded data removed]",
            "text/plain": [
              "<Figure size 720x720 with 2 Axes>"
            ]
          },
          "metadata": {
            "tags": []
          }
        }
      ]
    },
    {
      "cell_type": "code",
      "metadata": {
        "id": "nz0Iu3FuXd0U",
        "colab_type": "code",
        "outputId": "e0277730-d521-4bc6-e2e2-5e52b36a3a9d",
        "colab": {
          "base_uri": "https://localhost:8080/",
          "height": 441
        }
      },
      "source": [
        "import pandas as pd\n",
        "from matplotlib.ticker import FuncFormatter\n",
        "\n",
        "# Input: y - one diemsional integer valued np array\n",
        "# Output: count_y - pd Series type - the counts of possible values in y \n",
        "# Function  Plot_Count_info: Plot count_y \n",
        "def Plot_Count_info(y):\n",
        "  y_pd = pd.Series(y)\n",
        "  count_y = y_pd.value_counts().sort_index()\n",
        "  count_y.plot(kind='bar');\n",
        "  return count_y\n",
        " \n",
        "plt.figure(figsize=(15, 7))\n",
        "plt.subplot(1, 2, 1)\n",
        "count_y_train = Plot_Count_info(y_train)\n",
        "plt.title('Training set');\n",
        "plt.subplot( 1, 2, 2)\n",
        "count_y_test =Plot_Count_info(y_test)\n",
        "plt.title('Testing set');"
      ],
      "execution_count": 0,
      "outputs": [
        {
          "output_type": "display_data",
          "data": {
            "image/png": "[encoded data removed]",
            "text/plain": [
              "<Figure size 1080x504 with 2 Axes>"
            ]
          },
          "metadata": {
            "tags": []
          }
        }
      ]
    },
    {
      "cell_type": "code",
      "metadata": {
        "id": "R6irbNmOkuPl",
        "colab_type": "code",
        "outputId": "e5dd5fe7-de50-4517-b0ca-8fadb2635753",
        "colab": {
          "base_uri": "https://localhost:8080/",
          "height": 34
        }
      },
      "source": [
        "num_classes = count_y_test.size\n",
        "print('num of digit classes = ', num_classes)"
      ],
      "execution_count": 0,
      "outputs": [
        {
          "output_type": "stream",
          "text": [
            "num of digit classes =  10\n"
          ],
          "name": "stdout"
        }
      ]
    },
    {
      "cell_type": "markdown",
      "metadata": {
        "id": "bnfaZxBQ2Yi7",
        "colab_type": "text"
      },
      "source": [
        "## Pre-process the Datasets##"
      ]
    },
    {
      "cell_type": "code",
      "metadata": {
        "id": "h1xTi7H5vlkB",
        "colab_type": "code",
        "colab": {}
      },
      "source": [
        "import keras\n",
        "import numpy as np\n",
        "# convert class vectors to one hot vector matrices\n",
        "Y_train = keras.utils.to_categorical(y_train, num_classes)\n",
        "Y_test = keras.utils.to_categorical(y_test, num_classes)\n",
        "\n",
        "[n_samples_train, width, height] = np.shape(x_train)\n",
        "[n_samples_test, width, height] = np.shape(x_test)\n",
        "\n",
        "X_train = x_train.reshape([n_samples_train, width*height])\n",
        "X_test =x_test.reshape( [n_samples_test, width*height])\n",
        "\n",
        "print('The sample input(x) is ')\n",
        "print( x_train[0])\n",
        "print('The sample input(X) is ')\n",
        "print(X_train[0])\n",
        "\n",
        "print('The output label (y) is ')\n",
        "print(y_train[0])\n",
        "print('The output label (Y) is ')\n",
        "print(Y_train[0])"
      ],
      "execution_count": 0,
      "outputs": []
    },
    {
      "cell_type": "code",
      "metadata": {
        "id": "PLYIDRPw85gZ",
        "colab_type": "code",
        "colab": {}
      },
      "source": [
        "# normalize the datasets \n",
        "X_train = X_train/np.amax(X_train)\n",
        "X_test = X_test/np.amax(X_train)\n",
        "\n",
        "print('The normalized input (X) is ', X_train[0])"
      ],
      "execution_count": 0,
      "outputs": []
    },
    {
      "cell_type": "markdown",
      "metadata": {
        "id": "i-RSMGLl2K4N",
        "colab_type": "text"
      },
      "source": [
        "## Train and Validate a model##"
      ]
    },
    {
      "cell_type": "markdown",
      "metadata": {
        "id": "khh-_iE31jy9",
        "colab_type": "text"
      },
      "source": [
        "Quick summary of the training and validation process of the supervised learning. \n",
        "\n",
        "1.   Data (Input, Output):  $\\mathcal{D} = \\{(x_{i}, y_{i})\\}_{i = 1}^{N}$. \n",
        "2.   Model: $y = {\\color{blue}f_{\\theta}}(x) + \\varepsilon, ~~~ \\forall x \\in \\mathbb{R}^{d}$.\n",
        "3.   Loss Function: $L({\\color{blue}\\theta} \\vert \\mathcal{D}) \\rightarrow $Minimize\n",
        "4.   Optimization: ${\\color{blue}\\theta^{*}}= \\min_{\\theta} (L({\\color{blue}\\theta} \\vert \\mathcal{D}))$\n",
        "5.   Prediction.\n",
        "6.   Validation: Compute the metric of the fitting performance in the test set. \n",
        "\n",
        "\n",
        "\n",
        "\n",
        "\n"
      ]
    },
    {
      "cell_type": "markdown",
      "metadata": {
        "id": "navW79rCGgCu",
        "colab_type": "text"
      },
      "source": [
        "Let us starat with two-layer (Shallow) Neural Network.\n",
        "\n",
        "![Shallow Neural Network](https://docs.google.com/uc?export=download&id=1swriJo3eeBNkWXmieRWtTig0jU61oG9H)\n",
        "\n"
      ]
    },
    {
      "cell_type": "markdown",
      "metadata": {
        "id": "8kMEI5PYqgok",
        "colab_type": "text"
      },
      "source": [
        "The MNIST Example: Digit Classfication\n",
        "\n",
        "\n",
        "1.   Data: (Input, Output) $= (x, y), x \\in \\mathbb{R}^{784}, y $ is a categorical variable (10 classes). \n",
        "2.   Model: Shallow Neural network using     \n",
        " *  relu activation function, i.e. $a(x) = \\max(x, 0)$ in the hidden layer\n",
        "\n",
        " *    and softmax activation function, i.e. $b(x)_j = \\frac{e^{x_{j}}}{\\sum_{k} e^{x_{k}}}$ in the output layer\n",
        "\n",
        "3.   Loss Function: Cross Entropy\n",
        "4.   Optmization: Stochastic Graident Descent\n",
        "5.   Prediction\n",
        "6.   Validation: Choose the accuracy of label prediction as metric \n",
        "\n",
        "\n"
      ]
    },
    {
      "cell_type": "code",
      "metadata": {
        "id": "JtAJ2bDL2_S0",
        "colab_type": "code",
        "colab": {}
      },
      "source": [
        "import time\n",
        "import numpy as np\n",
        "from matplotlib import pyplot as plt\n",
        "from keras.models import Sequential\n",
        "from keras.layers.core import Dense\n",
        "from keras.optimizers import SGD\n",
        "\n",
        "  \n",
        "def shallow_NN_model(n_hidden_neurons):\n",
        "    start_time = time.time()\n",
        "    print('Compiling Model ... ')\n",
        "    model = Sequential()\n",
        "    model.add(Dense(n_hidden_neurons, activation = 'relu', input_dim=784))\n",
        "    model.add(Dense(10, activation = 'softmax'))\n",
        "    sgd = SGD(lr=0.1, decay=1e-6, momentum=0.9, nesterov=True)\n",
        "    model.compile(loss='categorical_crossentropy', optimizer=sgd, metrics=['accuracy'])\n",
        "    print('Model compield in {0} seconds'.format(time.time() - start_time))\n",
        "    return model\n",
        "    \n",
        "epochs = 100\n",
        "batch  = 256\n",
        "n_hidden_neurons = 50\n",
        "model = shallow_NN_model(n_hidden_neurons)\n",
        "hist1 = model.fit(X_train, Y_train, epochs=epochs, batch_size=batch, validation_data=(X_test, Y_test), verbose=2)"
      ],
      "execution_count": 0,
      "outputs": []
    },
    {
      "cell_type": "code",
      "metadata": {
        "id": "ZJyN-Q3s7Pb4",
        "colab_type": "code",
        "outputId": "a7d21e3f-873c-48de-f1d1-f603451be572",
        "colab": {
          "base_uri": "https://localhost:8080/",
          "height": 34
        }
      },
      "source": [
        "print(hist1.history.keys())"
      ],
      "execution_count": 0,
      "outputs": [
        {
          "output_type": "stream",
          "text": [
            "dict_keys(['val_loss', 'val_acc', 'loss', 'acc'])\n"
          ],
          "name": "stdout"
        }
      ]
    },
    {
      "cell_type": "code",
      "metadata": {
        "id": "GXKqyR__9lOz",
        "colab_type": "code",
        "colab": {}
      },
      "source": [
        "from google.colab import  files"
      ],
      "execution_count": 0,
      "outputs": []
    },
    {
      "cell_type": "code",
      "metadata": {
        "id": "WVfGkd_X3bPJ",
        "colab_type": "code",
        "colab": {}
      },
      "source": [
        "def plot_hist_loss(hist):\n",
        "  plt.figure()\n",
        "  plt.plot(hist.history['loss'], 'b', linewidth=1.5)\n",
        "  plt.plot(hist.history['val_loss'], 'r', linewidth=1.5)\n",
        "  plt.legend(['Training set','Testing set'])\n",
        "  plt.xlabel('Epochs')\n",
        "  plt.ylabel('Loss')\n",
        "  #ax = plt.gca()\n",
        "  #ax.spines['top'].set_linewidth(1.5)\n",
        "  #ax.spines['bottom'].set_linewidth(1.5)\n",
        "  #ax.spines['left'].set_linewidth(1.5)\n",
        "  #ax.spines['right'].set_linewidth(1.5)\n",
        "  plt.savefig('MINST_ShallowNN_Loss.png', dpi=1000)\n",
        "  files.download('MINST_ShallowNN_Loss.png')\n",
        "  "
      ],
      "execution_count": 0,
      "outputs": []
    },
    {
      "cell_type": "code",
      "metadata": {
        "id": "iKKvaGxS3jYX",
        "colab_type": "code",
        "outputId": "26bb5dc8-13b2-480a-c42b-ff696dc57332",
        "colab": {
          "base_uri": "https://localhost:8080/",
          "height": 283
        }
      },
      "source": [
        "plot_hist_loss(hist1)"
      ],
      "execution_count": 0,
      "outputs": [
        {
          "output_type": "display_data",
          "data": {
            "image/png": "[encoded data removed]",
            "text/plain": [
              "<Figure size 432x288 with 1 Axes>"
            ]
          },
          "metadata": {
            "tags": []
          }
        }
      ]
    },
    {
      "cell_type": "code",
      "metadata": {
        "id": "0nCBP7yO2SZV",
        "colab_type": "code",
        "colab": {}
      },
      "source": [
        "def plot_hist_accuracy(hist):\n",
        "  plt.plot(hist.history['acc'], 'b', linewidth = 1.5)\n",
        "  plt.plot(hist.history['val_acc'], 'r', linewidth = 1.5)\n",
        "  plt.legend(['Training set','Testing set'])\n",
        "  plt.xlabel('Epochs')\n",
        "  plt.ylabel('Accuracy')\n",
        "  plt.savefig('MINST_ShallowNN_Accuracy.png', dpi=1000)\n",
        "  files.download('MINST_ShallowNN_Accuracy.png')"
      ],
      "execution_count": 0,
      "outputs": []
    },
    {
      "cell_type": "code",
      "metadata": {
        "id": "NTw1rR7A6DSO",
        "colab_type": "code",
        "outputId": "7a1da5e3-60e4-4cc1-fee2-f4aefc213257",
        "colab": {
          "base_uri": "https://localhost:8080/",
          "height": 283
        }
      },
      "source": [
        "plot_hist_accuracy(hist1)"
      ],
      "execution_count": 0,
      "outputs": [
        {
          "output_type": "display_data",
          "data": {
            "image/png": "[encoded data removed]",
            "text/plain": [
              "<Figure size 432x288 with 1 Axes>"
            ]
          },
          "metadata": {
            "tags": []
          }
        }
      ]
    },
    {
      "cell_type": "code",
      "metadata": {
        "id": "73vaxLak60rY",
        "colab_type": "code",
        "colab": {}
      },
      "source": [
        "\n"
      ],
      "execution_count": 0,
      "outputs": []
    },
    {
      "cell_type": "markdown",
      "metadata": {
        "id": "fTnx4Ke0-5wx",
        "colab_type": "text"
      },
      "source": [
        "**Assess the performance of a fitted model**\n",
        "\n",
        "There are various measurements of the performance of the fitted models in classification problems.\n",
        "*   Loss function and the accuracy;\n",
        "*   Confusion matrix. \n",
        "\n"
      ]
    },
    {
      "cell_type": "code",
      "metadata": {
        "id": "JfACgwxC-45m",
        "colab_type": "code",
        "outputId": "54ceacbd-d8b1-44e4-b36a-75b2bab2490f",
        "colab": {
          "base_uri": "https://localhost:8080/",
          "height": 85
        }
      },
      "source": [
        "score1 =  model.evaluate(X_test, Y_test)\n",
        "print(model.metrics_names)\n",
        "print('Test ' + model.metrics_names[0] , score1[0])\n",
        "print('Test '+ model.metrics_names[1] , score1[1])"
      ],
      "execution_count": 0,
      "outputs": [
        {
          "output_type": "stream",
          "text": [
            "10000/10000 [==============================] - 0s 38us/step\n",
            "['loss', 'acc']\n",
            "Test loss 0.46302727451694625\n",
            "Test acc 0.971\n"
          ],
          "name": "stdout"
        }
      ]
    },
    {
      "cell_type": "code",
      "metadata": {
        "id": "TVKmyfeG5_gS",
        "colab_type": "code",
        "outputId": "7cad2e7c-87de-4b34-9492-0a2a21a67f2e",
        "colab": {
          "base_uri": "https://localhost:8080/",
          "height": 51
        }
      },
      "source": [
        "from sklearn.metrics import confusion_matrix\n",
        "\n",
        "Y_test_prob_pred = model.predict(X_test)\n",
        "Y_test_class_pred = model.predict_classes(X_test)\n",
        "print(Y_test_class_pred )\n",
        "print(y_test)\n",
        "cm = confusion_matrix( y_test, Y_test_class_pred )\n",
        "labels = np.arange(10);"
      ],
      "execution_count": 0,
      "outputs": [
        {
          "output_type": "stream",
          "text": [
            "[7 2 1 ... 4 5 6]\n",
            "[7 2 1 ... 4 5 6]\n"
          ],
          "name": "stdout"
        }
      ]
    },
    {
      "cell_type": "code",
      "metadata": {
        "id": "jnmn95ei2zrD",
        "colab_type": "code",
        "outputId": "7cdd94ba-6e84-41f4-d512-7718e3839e75",
        "colab": {
          "base_uri": "https://localhost:8080/",
          "height": 1319
        }
      },
      "source": [
        "import itertools  \n",
        "def plot_confusion_matrix(cm, classes,\n",
        "                          normalize=False,\n",
        "                          title='Confusion matrix',\n",
        "                          cmap=plt.cm.Blues):\n",
        "    \"\"\"\n",
        "    This function prints and plots the confusion matrix.\n",
        "    Normalization can be applied by setting `normalize=True`.\n",
        "    \"\"\"\n",
        "    if normalize:\n",
        "        cm = cm.astype('float') / cm.sum(axis=1)[:, np.newaxis]\n",
        "        print(\"Normalized confusion matrix\")\n",
        "    else:\n",
        "        print('Confusion matrix, without normalization')\n",
        "\n",
        "    print(cm)\n",
        "\n",
        "    plt.imshow(cm, interpolation='nearest', cmap=cmap)\n",
        "    plt.title(title)\n",
        "    plt.colorbar()\n",
        "    tick_marks = np.arange(len(classes))\n",
        "    plt.xticks(tick_marks, classes, rotation=45)\n",
        "    plt.yticks(tick_marks, classes)\n",
        "\n",
        "    fmt = '.2f' if normalize else 'd'\n",
        "    thresh = cm.max() / 2.\n",
        "    for i, j in itertools.product(range(cm.shape[0]), range(cm.shape[1])):\n",
        "        plt.text(j, i, format(cm[i, j], fmt),\n",
        "                 horizontalalignment=\"center\",\n",
        "                 color=\"white\" if cm[i, j] > thresh else \"black\")\n",
        "\n",
        "    plt.tight_layout()\n",
        "    plt.ylabel('True label')\n",
        "    plt.xlabel('Predicted label')\n",
        "    plt.grid(b = 0)\n",
        "\n",
        "## The code for the function plot_confusion_matrix() is attributed to http://scikit-learn.org/stable/auto_examples/model_selection/plot_confusion_matrix.html\n",
        "\n",
        "# Plot non-normalized confusion matrix\n",
        "plt.figure()\n",
        "plot_confusion_matrix(cm, classes=list(map(str, labels)), title='Confusion matrix, without normalization')\n",
        "plt.figure()\n",
        "plot_confusion_matrix(cm, classes=list(map(str, labels)), normalize=True, title='Normalized confusion matrix')\n"
      ],
      "execution_count": 0,
      "outputs": [
        {
          "output_type": "stream",
          "text": [
            "Confusion matrix, without normalization\n",
            "[[ 968    0    2    1    1    1    2    2    1    2]\n",
            " [   0 1124    2    3    0    0    1    3    2    0]\n",
            " [   6    1  987   12    5    0    3   13    4    1]\n",
            " [   0    1    1  995    0    0    0    5    1    7]\n",
            " [   2    0    5    0  950    0    1    6    2   16]\n",
            " [   3    1    0   15    1  853    8    3    6    2]\n",
            " [   3    4    1    1    4    2  942    0    1    0]\n",
            " [   1    4    4    8    1    1    0 1002    0    7]\n",
            " [   7    0    8   22    1    2    4    9  915    6]\n",
            " [   2    4    1    9    7    1    0   10    1  974]]\n",
            "Normalized confusion matrix\n",
            "[[9.87755102e-01 0.00000000e+00 2.04081633e-03 1.02040816e-03\n",
            "  1.02040816e-03 1.02040816e-03 2.04081633e-03 2.04081633e-03\n",
            "  1.02040816e-03 2.04081633e-03]\n",
            " [0.00000000e+00 9.90308370e-01 1.76211454e-03 2.64317181e-03\n",
            "  0.00000000e+00 0.00000000e+00 8.81057269e-04 2.64317181e-03\n",
            "  1.76211454e-03 0.00000000e+00]\n",
            " [5.81395349e-03 9.68992248e-04 9.56395349e-01 1.16279070e-02\n",
            "  4.84496124e-03 0.00000000e+00 2.90697674e-03 1.25968992e-02\n",
            "  3.87596899e-03 9.68992248e-04]\n",
            " [0.00000000e+00 9.90099010e-04 9.90099010e-04 9.85148515e-01\n",
            "  0.00000000e+00 0.00000000e+00 0.00000000e+00 4.95049505e-03\n",
            "  9.90099010e-04 6.93069307e-03]\n",
            " [2.03665988e-03 0.00000000e+00 5.09164969e-03 0.00000000e+00\n",
            "  9.67413442e-01 0.00000000e+00 1.01832994e-03 6.10997963e-03\n",
            "  2.03665988e-03 1.62932790e-02]\n",
            " [3.36322870e-03 1.12107623e-03 0.00000000e+00 1.68161435e-02\n",
            "  1.12107623e-03 9.56278027e-01 8.96860987e-03 3.36322870e-03\n",
            "  6.72645740e-03 2.24215247e-03]\n",
            " [3.13152401e-03 4.17536534e-03 1.04384134e-03 1.04384134e-03\n",
            "  4.17536534e-03 2.08768267e-03 9.83298539e-01 0.00000000e+00\n",
            "  1.04384134e-03 0.00000000e+00]\n",
            " [9.72762646e-04 3.89105058e-03 3.89105058e-03 7.78210117e-03\n",
            "  9.72762646e-04 9.72762646e-04 0.00000000e+00 9.74708171e-01\n",
            "  0.00000000e+00 6.80933852e-03]\n",
            " [7.18685832e-03 0.00000000e+00 8.21355236e-03 2.25872690e-02\n",
            "  1.02669405e-03 2.05338809e-03 4.10677618e-03 9.24024641e-03\n",
            "  9.39425051e-01 6.16016427e-03]\n",
            " [1.98216056e-03 3.96432111e-03 9.91080278e-04 8.91972250e-03\n",
            "  6.93756194e-03 9.91080278e-04 0.00000000e+00 9.91080278e-03\n",
            "  9.91080278e-04 9.65312190e-01]]\n"
          ],
          "name": "stdout"
        },
        {
          "output_type": "display_data",
          "data": {
            "image/png": "[encoded data removed]",
            "text/plain": [
              "<Figure size 432x288 with 2 Axes>"
            ]
          },
          "metadata": {
            "tags": []
          }
        },
        {
          "output_type": "display_data",
          "data": {
            "image/png": "[encoded data removed]",
            "text/plain": [
              "<Figure size 432x288 with 2 Axes>"
            ]
          },
          "metadata": {
            "tags": []
          }
        }
      ]
    },
    {
      "cell_type": "markdown",
      "metadata": {
        "id": "HP3O9Ta3wSPn",
        "colab_type": "text"
      },
      "source": [
        "**Visualize the wrong labelled samples**"
      ]
    },
    {
      "cell_type": "code",
      "metadata": {
        "id": "9cjQ1vs6wQqu",
        "colab_type": "code",
        "outputId": "4677d2e9-5ee9-4f8a-8369-7c22408d149f",
        "colab": {
          "base_uri": "https://localhost:8080/",
          "height": 347
        }
      },
      "source": [
        "res = Y_test_class_pred -y_test # residuals - (the estimated label - the actual label)\n",
        "wrong_sample_index = np.nonzero(res)[0];\n",
        "#print(wrong_sample_index)\n",
        "\n",
        "# Visualize some sample of all wrong labelled data in the testing set\n",
        "index = wrong_sample_index[6]\n",
        "wrong_samples_images = x_test[index]\n",
        "wrong_samples_true_lebels = y_test[index]\n",
        "wrong_samples_pred_lebels = Y_test_class_pred[index]\n",
        "plt.imshow(wrong_samples_images)\n",
        "plt.grid(b = False)\n",
        "plt.text(0.5, 0.5, 'Wrong label = ' + str(wrong_samples_pred_lebels) +'; Correct label = ' + str(wrong_samples_true_lebels));\n"
      ],
      "execution_count": 0,
      "outputs": [
        {
          "output_type": "display_data",
          "data": {
            "image/png": "[encoded data removed]",
            "text/plain": [
              "<matplotlib.figure.Figure at 0x7f993a012358>"
            ]
          },
          "metadata": {
            "tags": []
          }
        }
      ]
    },
    {
      "cell_type": "markdown",
      "metadata": {
        "id": "rdCfOeLKDjBB",
        "colab_type": "text"
      },
      "source": [
        "##Cross Validation##"
      ]
    },
    {
      "cell_type": "code",
      "metadata": {
        "id": "3apvSslEVY7s",
        "colab_type": "code",
        "colab": {}
      },
      "source": [
        "from keras.wrappers.scikit_learn import KerasClassifier\n",
        "from sklearn.model_selection import StratifiedKFold, cross_val_score\n",
        "\n",
        "estimator = KerasClassifier(build_fn=shallow_NN_model, n_hidden_neurons = 50, epochs=20, batch_size=batch, verbose=0)\n",
        "kfold = StratifiedKFold(n_splits=10, shuffle=True, random_state=42)\n",
        "results = cross_val_score(estimator, X_train, y_train, cv=kfold, scoring='accuracy')\n",
        "print(np.shape(y_train))\n",
        "print('Cross Validation: Accuracy')\n",
        "print(\"%.2f%% (+/- %.2f%%)\" % (results.mean(), results.std()))"
      ],
      "execution_count": 0,
      "outputs": []
    },
    {
      "cell_type": "markdown",
      "metadata": {
        "id": "K-daSz2Bv7yO",
        "colab_type": "text"
      },
      "source": [
        "## Parameter Tuning##"
      ]
    },
    {
      "cell_type": "markdown",
      "metadata": {
        "id": "JWvwdQ1eJabG",
        "colab_type": "text"
      },
      "source": [
        "[Use Keras Deep Learning Models with Scikit-Learn in Python by Jason Brownlee](https://machinelearningmastery.com/use-keras-deep-learning-models-scikit-learn-python/)"
      ]
    },
    {
      "cell_type": "code",
      "metadata": {
        "id": "-5OL6vjaYWAA",
        "colab_type": "code",
        "outputId": "28628328-e710-4c2c-929b-84be69e96e95",
        "colab": {
          "base_uri": "https://localhost:8080/",
          "height": 538
        }
      },
      "source": [
        "from sklearn.model_selection import GridSearchCV\n",
        "from keras.wrappers.scikit_learn import KerasClassifier\n",
        "\n",
        "# grid search epochs, batch size and optimizer\n",
        "epochs = [100]\n",
        "n_hidden_neurons = [10, 50]\n",
        "batch_size = [128, 256]\n",
        "param_grid = dict( n_hidden_neurons = n_hidden_neurons, batch_size = batch_size, epochs = epochs)\n",
        "estimator = KerasClassifier(build_fn=shallow_NN_model,  verbose=0)\n",
        "grid = GridSearchCV(estimator=estimator, param_grid=param_grid, scoring = 'accuracy')\n",
        "grid_result = grid.fit(X_train, y_train)\n",
        "\n",
        "# summarize results\n",
        "print(\"Best: %f using %s\" % (grid_result.best_score_, grid_result.best_params_))\n",
        "means = grid_result.cv_results_['mean_test_score']\n",
        "stds = grid_result.cv_results_['std_test_score']\n",
        "params = grid_result.cv_results_['params']\n",
        "for mean, stdev, param in zip(means, stds, params):\n",
        "\tprint(\"%f (%f) with: %r\" % (mean, stdev, param))"
      ],
      "execution_count": 0,
      "outputs": [
        {
          "output_type": "stream",
          "text": [
            "Compiling Model ... \n",
            "Model compield in 0.07994675636291504 seconds\n",
            "Compiling Model ... \n",
            "Model compield in 0.07367706298828125 seconds\n",
            "Compiling Model ... \n",
            "Model compield in 0.07584404945373535 seconds\n",
            "Compiling Model ... \n",
            "Model compield in 0.07443547248840332 seconds\n",
            "Compiling Model ... \n",
            "Model compield in 0.07407498359680176 seconds\n",
            "Compiling Model ... \n",
            "Model compield in 0.07345867156982422 seconds\n",
            "Compiling Model ... \n",
            "Model compield in 0.07248997688293457 seconds\n",
            "Compiling Model ... \n",
            "Model compield in 0.07668375968933105 seconds\n",
            "Compiling Model ... \n",
            "Model compield in 0.07355213165283203 seconds\n",
            "Compiling Model ... \n",
            "Model compield in 0.07327055931091309 seconds\n",
            "Compiling Model ... \n",
            "Model compield in 0.07344603538513184 seconds\n",
            "Compiling Model ... \n",
            "Model compield in 0.07512140274047852 seconds\n",
            "Compiling Model ... \n",
            "Model compield in 0.07410264015197754 seconds\n",
            "Best: 0.970567 using {'batch_size': 128, 'epochs': 100, 'n_hidden_neurons': 50}\n",
            "0.917467 (0.002779) with: {'batch_size': 128, 'epochs': 100, 'n_hidden_neurons': 10}\n",
            "0.970567 (0.001829) with: {'batch_size': 128, 'epochs': 100, 'n_hidden_neurons': 50}\n",
            "0.921667 (0.001605) with: {'batch_size': 256, 'epochs': 100, 'n_hidden_neurons': 10}\n",
            "0.968367 (0.000837) with: {'batch_size': 256, 'epochs': 100, 'n_hidden_neurons': 50}\n"
          ],
          "name": "stdout"
        }
      ]
    },
    {
      "cell_type": "markdown",
      "metadata": {
        "id": "im5xiwuQH_53",
        "colab_type": "text"
      },
      "source": [
        "#From Shallow NN to Deep NN##"
      ]
    },
    {
      "cell_type": "markdown",
      "metadata": {
        "id": "ECz9JFXkYfNH",
        "colab_type": "text"
      },
      "source": [
        "![alt text](https://docs.google.com/uc?export=download&id=1oWrlu3M05rP8GzEWU23EgTZpDiFj2Mop)\n",
        "\n",
        "\n"
      ]
    },
    {
      "cell_type": "markdown",
      "metadata": {
        "id": "OxS4g2RpObSb",
        "colab_type": "text"
      },
      "source": [
        "## Multi-Layer Neural Network##"
      ]
    },
    {
      "cell_type": "code",
      "metadata": {
        "id": "_oJBG5_6OZVN",
        "colab_type": "code",
        "colab": {}
      },
      "source": [
        "import time\n",
        "import numpy as np\n",
        "from matplotlib import pyplot as plt\n",
        "from keras.utils import np_utils\n",
        "from keras.models import Sequential\n",
        "from keras.layers.core import Dense\n",
        "from keras.optimizers import SGD\n",
        "from keras.layers.normalization import BatchNormalization\n",
        "\n",
        "\n",
        "def deeper_model(n_hidden_neurons, n_hidden_layers):\n",
        "    start_time = time.time()\n",
        "    print('Compiling Model ... ')\n",
        "    model = Sequential()\n",
        "    model.add(Dense(n_hidden_neurons, activation = 'relu', input_dim=784))\n",
        "    if n_hidden_layers >1:\n",
        "      for i in range(n_hidden_layers-1):\n",
        "        model.add(Dense(n_hidden_neurons, activation = 'relu'))\n",
        "    model.add(Dense(10, activation='softmax'))\n",
        "    sgd = SGD(lr=0.1, decay=1e-6, momentum=0.9, nesterov=True)\n",
        "    model.compile(loss='categorical_crossentropy', optimizer=sgd, metrics=['accuracy'])\n",
        "    print('Model compield in {0} seconds'.format(time.time() - start_time))\n",
        "    return model"
      ],
      "execution_count": 0,
      "outputs": []
    },
    {
      "cell_type": "code",
      "metadata": {
        "id": "J5VQpfNsSGfU",
        "colab_type": "code",
        "outputId": "7882a03a-1fe0-41b9-e90c-bfe44b2536ce",
        "colab": {
          "base_uri": "https://localhost:8080/",
          "height": 785
        }
      },
      "source": [
        "n_hidden_neurons = 500\n",
        "n_hidden_layers = 2\n",
        "deeper_model1 = deeper_model(n_hidden_neurons, n_hidden_layers)\n",
        "print(deeper_model1.summary())\n",
        "epochs = 100\n",
        "hist_deeper_model = deeper_model1.fit(X_train, Y_train, epochs=epochs, batch_size=batch, validation_data=(X_test, Y_test), verbose=0)\n",
        "plot_hist(hist_deeper_model)"
      ],
      "execution_count": 0,
      "outputs": [
        {
          "output_type": "stream",
          "text": [
            "Compiling Model ... \n",
            "Model compield in 0.08750700950622559 seconds\n",
            "_________________________________________________________________\n",
            "Layer (type)                 Output Shape              Param #   \n",
            "=================================================================\n",
            "dense_6 (Dense)              (None, 500)               392500    \n",
            "_________________________________________________________________\n",
            "dense_7 (Dense)              (None, 500)               250500    \n",
            "_________________________________________________________________\n",
            "dense_8 (Dense)              (None, 10)                5010      \n",
            "=================================================================\n",
            "Total params: 648,010\n",
            "Trainable params: 648,010\n",
            "Non-trainable params: 0\n",
            "_________________________________________________________________\n",
            "None\n"
          ],
          "name": "stdout"
        },
        {
          "output_type": "display_data",
          "data": {
            "image/png": "[encoded data removed]",
            "text/plain": [
              "<matplotlib.figure.Figure at 0x7fd7355410b8>"
            ]
          },
          "metadata": {
            "tags": []
          }
        }
      ]
    },
    {
      "cell_type": "markdown",
      "metadata": {
        "id": "p6YvoWxoPYdj",
        "colab_type": "text"
      },
      "source": [
        "##Important Aspects about Optimization##\n",
        "\n",
        "\n"
      ]
    },
    {
      "cell_type": "markdown",
      "metadata": {
        "id": "BEPSnyJ4CIsD",
        "colab_type": "text"
      },
      "source": [
        "The sucess of the optimization scheme depends on several aspects:\n",
        "\n",
        "\n",
        "*   Data - Normalization.\n",
        "*   Optimizor\n",
        "*   Parameter initialization "
      ]
    },
    {
      "cell_type": "markdown",
      "metadata": {
        "id": "G961Oko_PenB",
        "colab_type": "text"
      },
      "source": [
        "###Normalization###"
      ]
    },
    {
      "cell_type": "markdown",
      "metadata": {
        "id": "eBpxTWrkYIwH",
        "colab_type": "text"
      },
      "source": [
        "[Keras link](https://keras.io/layers/normalization/)\n",
        "\n",
        "[Batch Normalization: Accelerating Deep Network Training by Reducing Internal Covariate Shift](https://arxiv.org/abs/1502.03167)"
      ]
    },
    {
      "cell_type": "markdown",
      "metadata": {
        "id": "YoldZQgkPr6-",
        "colab_type": "text"
      },
      "source": [
        "###Optimizor###"
      ]
    },
    {
      "cell_type": "markdown",
      "metadata": {
        "id": "6zsvjx0IQBmw",
        "colab_type": "text"
      },
      "source": [
        "Optmizor\n",
        "\n",
        "\n",
        "*   Method, e.g. SGD, Adam...\n",
        "*   Related Parameters, .e.g batch_size, epochs...\n",
        "\n"
      ]
    },
    {
      "cell_type": "markdown",
      "metadata": {
        "id": "vhEqaYfJ_ebu",
        "colab_type": "text"
      },
      "source": [
        "[Keras Link](https://keras.io/optimizers/)"
      ]
    },
    {
      "cell_type": "markdown",
      "metadata": {
        "id": "i-nMcQKUtbFe",
        "colab_type": "text"
      },
      "source": [
        "Popular optimazation methods include:\n",
        "\n",
        "1.   Stochastic Grid Descent(SGD);\n",
        "2.   Adaptive Gradient Algorithm (AdaGrad);\n",
        "3.   Root Mean Square Propagation (RMSProp)\n",
        "\n",
        "More information can be found in [Gentle Introduction to the Adam Optimization Algorithm for Deep Learning](https://machinelearningmastery.com/adam-optimization-algorithm-for-deep-learning/)\n",
        "\n",
        "\n"
      ]
    },
    {
      "cell_type": "markdown",
      "metadata": {
        "id": "95_nhUhhP3ji",
        "colab_type": "text"
      },
      "source": [
        "###Weight initialization ###"
      ]
    },
    {
      "cell_type": "markdown",
      "metadata": {
        "id": "NVHFGZNR-ZSk",
        "colab_type": "text"
      },
      "source": [
        "[Keras Link](https://keras.io/initializers/)"
      ]
    },
    {
      "cell_type": "markdown",
      "metadata": {
        "id": "EtK7Ttn8Ok3-",
        "colab_type": "text"
      },
      "source": [
        "## Overfitting Issues##"
      ]
    },
    {
      "cell_type": "markdown",
      "metadata": {
        "id": "nAxj3de7072f",
        "colab_type": "text"
      },
      "source": [
        "### Dropout###"
      ]
    },
    {
      "cell_type": "markdown",
      "metadata": {
        "id": "9bmX3yqBYdNf",
        "colab_type": "text"
      },
      "source": [
        "[Dropout Regularization in Deep Learning Models With Keras](https://machinelearningmastery.com/dropout-regularization-deep-learning-models-keras/)"
      ]
    },
    {
      "cell_type": "markdown",
      "metadata": {
        "id": "5wu5oABiQHgn",
        "colab_type": "text"
      },
      "source": [
        "### Weight regularizers###"
      ]
    },
    {
      "cell_type": "markdown",
      "metadata": {
        "id": "4mFJ7C1LYQsW",
        "colab_type": "text"
      },
      "source": [
        "[keras link](https://keras.io/regularizers/)"
      ]
    },
    {
      "cell_type": "markdown",
      "metadata": {
        "id": "1aLLvJ5WOK4x",
        "colab_type": "text"
      },
      "source": [
        "###Data Augumentation##"
      ]
    },
    {
      "cell_type": "markdown",
      "metadata": {
        "id": "u9STNaX24_34",
        "colab_type": "text"
      },
      "source": [
        "[Image Augmentation for Deep Learning With Keras](https://machinelearningmastery.com/image-augmentation-deep-learning-keras/)"
      ]
    },
    {
      "cell_type": "markdown",
      "metadata": {
        "id": "MEGEu2a7N8vd",
        "colab_type": "text"
      },
      "source": [
        "#Task for You# "
      ]
    },
    {
      "cell_type": "markdown",
      "metadata": {
        "id": "pSI0Xsvy9Eru",
        "colab_type": "text"
      },
      "source": [
        "***Now it is time for you to implement you NN network algorithm to solve the image classification problems.*** \n",
        "\n",
        "\n"
      ]
    },
    {
      "cell_type": "markdown",
      "metadata": {
        "id": "6xGd4p_NQg-N",
        "colab_type": "text"
      },
      "source": [
        "[1] Download Cifar10 Dataset for image classification. Implement the ANN algorithm for image classification.\n",
        "\n",
        "\n",
        "\n",
        "\n",
        "\n"
      ]
    },
    {
      "cell_type": "code",
      "metadata": {
        "id": "Atch59aHQyB_",
        "colab_type": "code",
        "outputId": "ddd81dd9-eb2f-4f84-8016-2712814d0a9f",
        "colab": {
          "base_uri": "https://localhost:8080/",
          "height": 55
        }
      },
      "source": [
        "from keras.datasets import cifar10\n",
        "\n",
        "(x_cifar10_train, y_cifar_train), (x_cifar_test, y_cifar_test) = cifar10.load_data()"
      ],
      "execution_count": 0,
      "outputs": [
        {
          "output_type": "stream",
          "text": [
            "Downloading data from https://www.cs.toronto.edu/~kriz/cifar-10-python.tar.gz\n",
            "170500096/170498071 [==============================] - 29s 0us/step\n"
          ],
          "name": "stdout"
        }
      ]
    },
    {
      "cell_type": "markdown",
      "metadata": {
        "id": "-ZR0egwm7M4f",
        "colab_type": "text"
      },
      "source": [
        "[2] Try NN algorithm to Cifar10 dataset and see what the highest accuracy you obtain in the testing dataset.\n",
        "\n",
        "$Hint$: For MNIST dataset, we started with using the following NN model to fit the dataset:\n",
        "\n",
        "\n",
        "\n",
        "```\n",
        "def deeper_model(n_hidden_neurons, n_hidden_layers):\n",
        "    start_time = time.time()\n",
        "    print('Compiling Model ... ')\n",
        "    model = Sequential()\n",
        "    model.add(Dense(n_hidden_neurons, activation = 'relu', input_dim=784))\n",
        "    if n_hidden_layers >1:\n",
        "      for i in range(n_hidden_layers-1):\n",
        "        model.add(Dense(n_hidden_neurons, activation = 'relu'))\n",
        "    model.add(Dense(10, activation='softmax'))\n",
        "    sgd = SGD(lr=0.1, decay=1e-6, momentum=0.9, nesterov=True)\n",
        "    model.compile(loss='categorical_crossentropy', optimizer=sgd, metrics=['accuracy'])\n",
        "    print('Model compield in {0} seconds'.format(time.time() - start_time))\n",
        "    return model\n",
        "```\n",
        "\n",
        "\n",
        "\n",
        "\n"
      ]
    },
    {
      "cell_type": "markdown",
      "metadata": {
        "id": "Jr3uTEHJ93et",
        "colab_type": "text"
      },
      "source": [
        "[3]  Record your name and the accuracy in the following codes, following the example."
      ]
    },
    {
      "cell_type": "code",
      "metadata": {
        "id": "lsrM132T61NO",
        "colab_type": "code",
        "outputId": "bfce7364-393e-4463-891e-1322386e3c4f",
        "colab": {
          "base_uri": "https://localhost:8080/",
          "height": 36
        }
      },
      "source": [
        "# Create the pandas.Series object to record the name of the person and the corresponding accuracy score \n",
        "AccuracyList = pd.Series()\n",
        "# e.g.  results['Hao Ni'] = 0.8\n",
        "print(AccuracyList)"
      ],
      "execution_count": 0,
      "outputs": [
        {
          "output_type": "stream",
          "text": [
            "Series([], dtype: float64)\n"
          ],
          "name": "stdout"
        }
      ]
    },
    {
      "cell_type": "markdown",
      "metadata": {
        "id": "-vRhMnX-9qJF",
        "colab_type": "text"
      },
      "source": [
        "[4] Let's see who achieves the highest accuracy and which NN network structure is used for ther best performance. "
      ]
    }
  ]
}