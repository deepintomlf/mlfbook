{
  "nbformat": 4,
  "nbformat_minor": 0,
  "metadata": {
    "colab": {
      "name": "DecisionTreeExample.ipynb",
      "version": "0.3.2",
      "provenance": [],
      "include_colab_link": true
    },
    "kernelspec": {
      "name": "python3",
      "display_name": "Python 3"
    }
  },
  "cells": [
    {
      "cell_type": "markdown",
      "metadata": {
        "id": "view-in-github",
        "colab_type": "text"
      },
      "source": [
        "<a href=\"https://colab.research.google.com/github/deepintomlf/mlfbook/blob/master/Chapter4_TreeModels/%E6%A0%91%E6%A8%A1%E5%9E%8B.ipynb\" target=\"_parent\"><img src=\"https://colab.research.google.com/assets/colab-badge.svg\" alt=\"Open In Colab\"/></a>"
      ]
    },
    {
      "cell_type": "markdown",
      "metadata": {
        "id": "XADDBN-gGSH9",
        "colab_type": "text"
      },
      "source": [
        "\n",
        "# Loss function for a classification tree\n",
        "\n",
        "\n",
        "1.  Mis-classification error\n",
        "2.  Gini index\n",
        "3.  Cross-entropy\n",
        "\n",
        "\n",
        "\n"
      ]
    },
    {
      "cell_type": "code",
      "metadata": {
        "id": "IgZi81W4GP_Q",
        "colab_type": "code",
        "outputId": "2f92fced-4c5f-43e2-80a5-6aea90d6ca6a",
        "colab": {
          "base_uri": "https://localhost:8080/",
          "height": 411
        }
      },
      "source": [
        "import numpy as np\n",
        "p_vec = np.linspace(0.0, 1.0, num=500)\n",
        "mis_cl_error_vec = np.minimum(1-p_vec, p_vec)\n",
        "gini_vec = 2*np.multiply(p_vec, 1-p_vec)\n",
        "#p_vec = p_vec[1:-1]\n",
        "cross_entropy_vec = -np.multiply(p_vec, np.log(p_vec))- np.multiply(1-p_vec, np.log(1-p_vec))\n",
        "import matplotlib.pyplot as plt\n",
        "plt.plot(p_vec, mis_cl_error_vec, '-')\n",
        "plt.plot(p_vec, gini_vec, '-')\n",
        "plt.plot(p_vec, cross_entropy_vec)\n",
        "plt.legend(['Mis-classification error', 'Gini index', 'Cross entropy'] )\n",
        "plt.xlabel('p')\n",
        "plt.grid('off')\n",
        "plt.savefig('LossFuncTree.png')"
      ],
      "execution_count": 0,
      "outputs": [
        {
          "output_type": "stream",
          "text": [
            "/usr/local/lib/python3.6/dist-packages/ipykernel_launcher.py:6: RuntimeWarning: divide by zero encountered in log\n",
            "  \n",
            "/usr/local/lib/python3.6/dist-packages/ipykernel_launcher.py:6: RuntimeWarning: invalid value encountered in multiply\n",
            "  \n",
            "/usr/local/lib/python3.6/dist-packages/matplotlib/cbook/__init__.py:424: MatplotlibDeprecationWarning: \n",
            "Passing one of 'on', 'true', 'off', 'false' as a boolean is deprecated; use an actual boolean (True/False) instead.\n",
            "  warn_deprecated(\"2.2\", \"Passing one of 'on', 'true', 'off', 'false' as a \"\n"
          ],
          "name": "stderr"
        },
        {
          "output_type": "display_data",
          "data": {
            "image/png": "[encoded data removed]",
            "text/plain": [
              "<Figure size 432x288 with 1 Axes>"
            ]
          },
          "metadata": {
            "tags": []
          }
        }
      ]
    },
    {
      "cell_type": "markdown",
      "metadata": {
        "id": "aHbDVXcAKfKH",
        "colab_type": "text"
      },
      "source": [
        "## 决策树"
      ]
    },
    {
      "cell_type": "code",
      "metadata": {
        "id": "lvuKX0oA06iU",
        "colab_type": "code",
        "outputId": "7280c75d-6cc5-4395-db1a-34f641b21018",
        "colab": {
          "base_uri": "https://localhost:8080/",
          "height": 34
        }
      },
      "source": [
        "import pandas as pd\n",
        "from sklearn.datasets import load_iris\n",
        "from sklearn.model_selection import train_test_split\n",
        "from sklearn.tree import DecisionTreeClassifier\n",
        "\n",
        "# 加载Iris数据集\n",
        "iris = load_iris()\n",
        "X_train, X_test, y_train, y_test = train_test_split(iris.data, iris.target, test_size=0.33, random_state=0)\n",
        "\n",
        "# 构建决策树分类器\n",
        "clf_dt = DecisionTreeClassifier(max_depth = 3, criterion = 'gini', random_state=0)\n",
        "clf_dt = clf_dt.fit(X_train, y_train) \n",
        "y_test_est = clf_dt.predict(X_test)"
      ],
      "execution_count": 32,
      "outputs": [
        {
          "output_type": "stream",
          "text": [
            "[0.         0.         0.40929056 0.59070944]\n"
          ],
          "name": "stdout"
        }
      ]
    },
    {
      "cell_type": "code",
      "metadata": {
        "id": "LScizBKVvN4p",
        "colab_type": "code",
        "colab": {
          "base_uri": "https://localhost:8080/",
          "height": 173
        },
        "outputId": "c4b0d1d5-8423-41c7-fd2e-5b19d0d841c6"
      },
      "source": [
        "# 输出混淆矩阵\n",
        "pd.crosstab(y_test, y_test_est, rownames=['Actual Species'], colnames=['Predicted Species'])"
      ],
      "execution_count": 33,
      "outputs": [
        {
          "output_type": "execute_result",
          "data": {
            "text/html": [
              "<div>\n",
              "<style scoped>\n",
              "    .dataframe tbody tr th:only-of-type {\n",
              "        vertical-align: middle;\n",
              "    }\n",
              "\n",
              "    .dataframe tbody tr th {\n",
              "        vertical-align: top;\n",
              "    }\n",
              "\n",
              "    .dataframe thead th {\n",
              "        text-align: right;\n",
              "    }\n",
              "</style>\n",
              "<table border=\"1\" class=\"dataframe\">\n",
              "  <thead>\n",
              "    <tr style=\"text-align: right;\">\n",
              "      <th>Predicted Species</th>\n",
              "      <th>0</th>\n",
              "      <th>1</th>\n",
              "      <th>2</th>\n",
              "    </tr>\n",
              "    <tr>\n",
              "      <th>Actual Species</th>\n",
              "      <th></th>\n",
              "      <th></th>\n",
              "      <th></th>\n",
              "    </tr>\n",
              "  </thead>\n",
              "  <tbody>\n",
              "    <tr>\n",
              "      <th>0</th>\n",
              "      <td>16</td>\n",
              "      <td>0</td>\n",
              "      <td>0</td>\n",
              "    </tr>\n",
              "    <tr>\n",
              "      <th>1</th>\n",
              "      <td>0</td>\n",
              "      <td>18</td>\n",
              "      <td>1</td>\n",
              "    </tr>\n",
              "    <tr>\n",
              "      <th>2</th>\n",
              "      <td>0</td>\n",
              "      <td>0</td>\n",
              "      <td>15</td>\n",
              "    </tr>\n",
              "  </tbody>\n",
              "</table>\n",
              "</div>"
            ],
            "text/plain": [
              "Predicted Species   0   1   2\n",
              "Actual Species               \n",
              "0                  16   0   0\n",
              "1                   0  18   1\n",
              "2                   0   0  15"
            ]
          },
          "metadata": {
            "tags": []
          },
          "execution_count": 33
        }
      ]
    },
    {
      "cell_type": "code",
      "metadata": {
        "id": "Jaf0rlL7vOIl",
        "colab_type": "code",
        "colab": {
          "base_uri": "https://localhost:8080/",
          "height": 34
        },
        "outputId": "11359b60-cc7d-49d0-b3a3-44165bd898c9"
      },
      "source": [
        "# 查看特征重要性\n",
        "print(clf_dt.feature_importances_)"
      ],
      "execution_count": 34,
      "outputs": [
        {
          "output_type": "stream",
          "text": [
            "[0.         0.         0.40929056 0.59070944]\n"
          ],
          "name": "stdout"
        }
      ]
    },
    {
      "cell_type": "code",
      "metadata": {
        "id": "hvpO4Pivtu9J",
        "colab_type": "code",
        "colab": {}
      },
      "source": [
        "# 安装graphviz\n",
        "!pip install graphviz"
      ],
      "execution_count": 0,
      "outputs": []
    },
    {
      "cell_type": "code",
      "metadata": {
        "id": "e5pB1Czvnosj",
        "colab_type": "code",
        "outputId": "ee0d0e8e-f242-4088-e074-39a446a6b712",
        "colab": {
          "base_uri": "https://localhost:8080/",
          "height": 34
        }
      },
      "source": [
        "import graphviz\n",
        "from sklearn import tree\n",
        "\n",
        "dot_data = tree.export_graphviz(clf_dt, out_file=None, feature_names=iris.feature_names, \n",
        "                                class_names=iris.target_names, filled=True, rounded=True, special_characters=True)  \n",
        "graph = graphviz.Source(dot_data)  \n",
        "graph.render(\"iris\") "
      ],
      "execution_count": 29,
      "outputs": [
        {
          "output_type": "execute_result",
          "data": {
            "text/plain": [
              "'iris.png.pdf'"
            ]
          },
          "metadata": {
            "tags": []
          },
          "execution_count": 29
        }
      ]
    },
    {
      "cell_type": "code",
      "metadata": {
        "id": "ffnZ6VYJox7G",
        "colab_type": "code",
        "outputId": "c29165a4-4544-4734-b042-1193deefad7f",
        "colab": {
          "base_uri": "https://localhost:8080/",
          "height": 34
        }
      },
      "source": [
        "import os\n",
        "print( os.getcwd() )\n",
        "from google.colab import files\n",
        "files.download(\"/content/iris.pdf\" ) "
      ],
      "execution_count": 28,
      "outputs": [
        {
          "output_type": "stream",
          "text": [
            "/content\n"
          ],
          "name": "stdout"
        }
      ]
    },
    {
      "cell_type": "code",
      "metadata": {
        "id": "Xka6jDfYD5fC",
        "colab_type": "code",
        "outputId": "5ee0603b-7a55-4b60-eee8-692388d97d80",
        "colab": {
          "base_uri": "https://localhost:8080/",
          "height": 323
        }
      },
      "source": [
        "import matplotlib.pyplot as plt\n",
        "\n",
        "plt.figure(figsize=(10,5))\n",
        "plt.bar(iris.feature_names, clf_dt.feature_importances_)\n",
        "plt.show()"
      ],
      "execution_count": 22,
      "outputs": [
        {
          "output_type": "display_data",
          "data": {
            "image/png": "[encoded data removed]",
            "text/plain": [
              "<Figure size 720x360 with 1 Axes>"
            ]
          },
          "metadata": {
            "tags": []
          }
        }
      ]
    },
    {
      "cell_type": "markdown",
      "metadata": {
        "id": "EcwiNCy1musj",
        "colab_type": "text"
      },
      "source": [
        "## 随机森林\n",
        "\n",
        "\n"
      ]
    },
    {
      "cell_type": "code",
      "metadata": {
        "id": "GrLmxiThmuCX",
        "colab_type": "code",
        "colab": {}
      },
      "source": [
        "import numpy as np\n",
        "from sklearn.ensemble import RandomForestClassifier\n",
        "\n",
        "# 构建随机森林\n",
        "clf_rf = RandomForestClassifier(n_estimators = 20, max_depth = 3, criterion = 'gini', n_jobs=2, random_state=0)\n",
        "clf_rf = clf_rf.fit(X_train, y_train)\n",
        "y_test_est_rf = clf_rf.predict(X_test)"
      ],
      "execution_count": 0,
      "outputs": []
    },
    {
      "cell_type": "code",
      "metadata": {
        "id": "iZOb2uvWy771",
        "colab_type": "code",
        "outputId": "0ad822a5-6906-4ab1-d139-ec01ad11cbfc",
        "colab": {
          "base_uri": "https://localhost:8080/",
          "height": 187
        }
      },
      "source": [
        " clf_rf.predict_proba(X_test)[0:10]"
      ],
      "execution_count": 81,
      "outputs": [
        {
          "output_type": "execute_result",
          "data": {
            "text/plain": [
              "array([[0.        , 0.04109848, 0.95890152],\n",
              "       [0.0016129 , 0.96141246, 0.03697464],\n",
              "       [0.9       , 0.1       , 0.        ],\n",
              "       [0.        , 0.04859117, 0.95140883],\n",
              "       [1.        , 0.        , 0.        ],\n",
              "       [0.        , 0.00414673, 0.99585327],\n",
              "       [1.        , 0.        , 0.        ],\n",
              "       [0.0016129 , 0.97252357, 0.02586353],\n",
              "       [0.0016129 , 0.89752357, 0.10086353],\n",
              "       [0.0016129 , 0.96141246, 0.03697464]])"
            ]
          },
          "metadata": {
            "tags": []
          },
          "execution_count": 81
        }
      ]
    },
    {
      "cell_type": "code",
      "metadata": {
        "id": "fRiJ4DHsHW7f",
        "colab_type": "code",
        "outputId": "3c8b755f-e135-4912-c525-05447286c006",
        "colab": {
          "base_uri": "https://localhost:8080/",
          "height": 173
        }
      },
      "source": [
        "# 输出混淆矩阵\n",
        "pd.crosstab(y_test, y_test_est_rf, rownames=['Actual Species'], colnames=['Predicted Species'])"
      ],
      "execution_count": 82,
      "outputs": [
        {
          "output_type": "execute_result",
          "data": {
            "text/html": [
              "<div>\n",
              "<style scoped>\n",
              "    .dataframe tbody tr th:only-of-type {\n",
              "        vertical-align: middle;\n",
              "    }\n",
              "\n",
              "    .dataframe tbody tr th {\n",
              "        vertical-align: top;\n",
              "    }\n",
              "\n",
              "    .dataframe thead th {\n",
              "        text-align: right;\n",
              "    }\n",
              "</style>\n",
              "<table border=\"1\" class=\"dataframe\">\n",
              "  <thead>\n",
              "    <tr style=\"text-align: right;\">\n",
              "      <th>Predicted Species</th>\n",
              "      <th>0</th>\n",
              "      <th>1</th>\n",
              "      <th>2</th>\n",
              "    </tr>\n",
              "    <tr>\n",
              "      <th>Actual Species</th>\n",
              "      <th></th>\n",
              "      <th></th>\n",
              "      <th></th>\n",
              "    </tr>\n",
              "  </thead>\n",
              "  <tbody>\n",
              "    <tr>\n",
              "      <th>0</th>\n",
              "      <td>16</td>\n",
              "      <td>0</td>\n",
              "      <td>0</td>\n",
              "    </tr>\n",
              "    <tr>\n",
              "      <th>1</th>\n",
              "      <td>0</td>\n",
              "      <td>18</td>\n",
              "      <td>1</td>\n",
              "    </tr>\n",
              "    <tr>\n",
              "      <th>2</th>\n",
              "      <td>0</td>\n",
              "      <td>3</td>\n",
              "      <td>12</td>\n",
              "    </tr>\n",
              "  </tbody>\n",
              "</table>\n",
              "</div>"
            ],
            "text/plain": [
              "Predicted Species   0   1   2\n",
              "Actual Species               \n",
              "0                  16   0   0\n",
              "1                   0  18   1\n",
              "2                   0   3  12"
            ]
          },
          "metadata": {
            "tags": []
          },
          "execution_count": 82
        }
      ]
    },
    {
      "cell_type": "code",
      "metadata": {
        "id": "AiIuQCF-wRXI",
        "colab_type": "code",
        "colab": {
          "base_uri": "https://localhost:8080/",
          "height": 34
        },
        "outputId": "d1f34549-6a6f-4fb7-f6af-1be7d8848c8e"
      },
      "source": [
        "# 查看特征重要性\n",
        "print(clf_rf.feature_importances_)"
      ],
      "execution_count": 83,
      "outputs": [
        {
          "output_type": "stream",
          "text": [
            "[0.17255122 0.01588397 0.39389304 0.41767177]\n"
          ],
          "name": "stdout"
        }
      ]
    },
    {
      "cell_type": "code",
      "metadata": {
        "id": "yWZ7OfqjIRrT",
        "colab_type": "code",
        "outputId": "9f4c39f1-750b-47bd-d0a2-454e2f4e4a27",
        "colab": {
          "base_uri": "https://localhost:8080/",
          "height": 323
        }
      },
      "source": [
        "plt.figure(figsize=(10,5))\n",
        "plt.bar(iris.feature_names, clf_rf.feature_importances_)\n",
        "plt.show()"
      ],
      "execution_count": 84,
      "outputs": [
        {
          "output_type": "display_data",
          "data": {
            "image/png": "[encoded data removed]",
            "text/plain": [
              "<Figure size 720x360 with 1 Axes>"
            ]
          },
          "metadata": {
            "tags": []
          }
        }
      ]
    },
    {
      "cell_type": "code",
      "metadata": {
        "id": "VkXfeVhkQLU6",
        "colab_type": "code",
        "outputId": "7d97ba38-2b9a-431a-8036-3a80f0fe3266",
        "colab": {
          "base_uri": "https://localhost:8080/",
          "height": 750
        }
      },
      "source": [
        "cm_rf =  confusion_matrix(y_test, y_test_est_rf)\n",
        "plt.figure()\n",
        "plot_confusion_matrix(cm_rf, classes= iris.target_names, title='Confusion matrix, without normalization')\n",
        "plt.figure()\n",
        "plot_confusion_matrix(cm_rf, classes= iris.target_names, normalize=True, title='Normalized confusion matrix')\n"
      ],
      "execution_count": 0,
      "outputs": [
        {
          "output_type": "stream",
          "text": [
            "Confusion matrix, without normalization\n",
            "[[19  0  0]\n",
            " [ 0 15  0]\n",
            " [ 0  1 15]]\n",
            "Normalized confusion matrix\n",
            "[[1.     0.     0.    ]\n",
            " [0.     1.     0.    ]\n",
            " [0.     0.0625 0.9375]]\n"
          ],
          "name": "stdout"
        },
        {
          "output_type": "display_data",
          "data": {
            "image/png": "[encoded data removed]",
            "text/plain": [
              "<Figure size 432x288 with 2 Axes>"
            ]
          },
          "metadata": {
            "tags": []
          }
        },
        {
          "output_type": "display_data",
          "data": {
            "image/png": "[encoded data removed]",
            "text/plain": [
              "<Figure size 432x288 with 2 Axes>"
            ]
          },
          "metadata": {
            "tags": []
          }
        }
      ]
    },
    {
      "cell_type": "markdown",
      "metadata": {
        "id": "p3soMHZIL2F-",
        "colab_type": "text"
      },
      "source": [
        "## 梯度提升树"
      ]
    },
    {
      "cell_type": "code",
      "metadata": {
        "id": "vE2wEKd4fmAV",
        "colab_type": "code",
        "colab": {}
      },
      "source": [
        "from sklearn.ensemble import GradientBoostingClassifier\n",
        "\n",
        "# 构建梯度提升树 \n",
        "clf_gbt = GradientBoostingClassifier(random_state=0)\n",
        "clf_gbt.fit(X_train, y_train)\n",
        "y_test_est_gbt = clf_rf.predict(X_test)"
      ],
      "execution_count": 0,
      "outputs": []
    },
    {
      "cell_type": "code",
      "metadata": {
        "id": "WLtmpWNhyPdh",
        "colab_type": "code",
        "colab": {
          "base_uri": "https://localhost:8080/",
          "height": 173
        },
        "outputId": "f46888e8-55b5-44ac-aab6-5180cce22891"
      },
      "source": [
        "# 输出混淆矩阵\n",
        "pd.crosstab(y_test, y_test_est_gbt, rownames=['Actual Species'], colnames=['Predicted Species'])"
      ],
      "execution_count": 89,
      "outputs": [
        {
          "output_type": "execute_result",
          "data": {
            "text/html": [
              "<div>\n",
              "<style scoped>\n",
              "    .dataframe tbody tr th:only-of-type {\n",
              "        vertical-align: middle;\n",
              "    }\n",
              "\n",
              "    .dataframe tbody tr th {\n",
              "        vertical-align: top;\n",
              "    }\n",
              "\n",
              "    .dataframe thead th {\n",
              "        text-align: right;\n",
              "    }\n",
              "</style>\n",
              "<table border=\"1\" class=\"dataframe\">\n",
              "  <thead>\n",
              "    <tr style=\"text-align: right;\">\n",
              "      <th>Predicted Species</th>\n",
              "      <th>0</th>\n",
              "      <th>1</th>\n",
              "      <th>2</th>\n",
              "    </tr>\n",
              "    <tr>\n",
              "      <th>Actual Species</th>\n",
              "      <th></th>\n",
              "      <th></th>\n",
              "      <th></th>\n",
              "    </tr>\n",
              "  </thead>\n",
              "  <tbody>\n",
              "    <tr>\n",
              "      <th>0</th>\n",
              "      <td>16</td>\n",
              "      <td>0</td>\n",
              "      <td>0</td>\n",
              "    </tr>\n",
              "    <tr>\n",
              "      <th>1</th>\n",
              "      <td>0</td>\n",
              "      <td>18</td>\n",
              "      <td>1</td>\n",
              "    </tr>\n",
              "    <tr>\n",
              "      <th>2</th>\n",
              "      <td>0</td>\n",
              "      <td>3</td>\n",
              "      <td>12</td>\n",
              "    </tr>\n",
              "  </tbody>\n",
              "</table>\n",
              "</div>"
            ],
            "text/plain": [
              "Predicted Species   0   1   2\n",
              "Actual Species               \n",
              "0                  16   0   0\n",
              "1                   0  18   1\n",
              "2                   0   3  12"
            ]
          },
          "metadata": {
            "tags": []
          },
          "execution_count": 89
        }
      ]
    },
    {
      "cell_type": "code",
      "metadata": {
        "id": "WkaJwXA5yPlm",
        "colab_type": "code",
        "colab": {
          "base_uri": "https://localhost:8080/",
          "height": 34
        },
        "outputId": "7f0db79f-e93d-42ef-cd8b-db3210030ed6"
      },
      "source": [
        "# 查看特征重要性\n",
        "print(clf_gbt.feature_importances_)"
      ],
      "execution_count": 90,
      "outputs": [
        {
          "output_type": "stream",
          "text": [
            "[0.00613481 0.01124639 0.34043091 0.64218788]\n"
          ],
          "name": "stdout"
        }
      ]
    },
    {
      "cell_type": "code",
      "metadata": {
        "id": "rl5lucmIX196",
        "colab_type": "code",
        "outputId": "6a55c54b-3dec-44ca-d62b-d9c740e9a75e",
        "colab": {
          "base_uri": "https://localhost:8080/",
          "height": 750
        }
      },
      "source": [
        "cm_gbt =  confusion_matrix(y_test, y_test_est_gbt)\n",
        "plt.figure()\n",
        "plot_confusion_matrix(cm_gbt, classes= iris.target_names, title='Confusion matrix, without normalization')\n",
        "plt.figure()\n",
        "plot_confusion_matrix(cm_gbt, classes= iris.target_names, normalize=True, title='Normalized confusion matrix')"
      ],
      "execution_count": 0,
      "outputs": [
        {
          "output_type": "stream",
          "text": [
            "Confusion matrix, without normalization\n",
            "[[19  0  0]\n",
            " [ 0 15  0]\n",
            " [ 0  1 15]]\n",
            "Normalized confusion matrix\n",
            "[[1.     0.     0.    ]\n",
            " [0.     1.     0.    ]\n",
            " [0.     0.0625 0.9375]]\n"
          ],
          "name": "stdout"
        },
        {
          "output_type": "display_data",
          "data": {
            "image/png": "[encoded data removed]",
            "text/plain": [
              "<Figure size 432x288 with 2 Axes>"
            ]
          },
          "metadata": {
            "tags": []
          }
        },
        {
          "output_type": "display_data",
          "data": {
            "image/png": "[encoded data removed]",
            "text/plain": [
              "<Figure size 432x288 with 2 Axes>"
            ]
          },
          "metadata": {
            "tags": []
          }
        }
      ]
    },
    {
      "cell_type": "code",
      "metadata": {
        "id": "WXnzf-piYJ8r",
        "colab_type": "code",
        "outputId": "a5c87e40-854b-4ed4-96af-faa85efbb09f",
        "colab": {
          "base_uri": "https://localhost:8080/",
          "height": 356
        }
      },
      "source": [
        "from pylab import *\n",
        "\n",
        "f = plt.figure(figsize=(25, 5))\n",
        "ax = f.add_subplot(131)\n",
        "ax2 = f.add_subplot(132)\n",
        "ax3 = f.add_subplot(133)\n",
        "\n",
        "ax.bar(iris.feature_names, clf_dt.feature_importances_)\n",
        "ax.set_title('Decision Tree')\n",
        "ax.set_ylabel('Importance Score')\n",
        "\n",
        "ax2.bar(iris.feature_names, clf_rf.feature_importances_)\n",
        "ax2.set_title('Random Forest')\n",
        "ax2.set_ylabel('Importance Score')\n",
        "\n",
        "ax3.bar(iris.feature_names, clf_gbt.feature_importances_)\n",
        "ax3.set_title('Gradient Boosting Tree')\n",
        "ax3.set_ylabel('Importance Score')\n",
        "\n",
        "plt.show()"
      ],
      "execution_count": 91,
      "outputs": [
        {
          "output_type": "display_data",
          "data": {
            "image/png": "[encoded data removed]",
            "text/plain": [
              "<Figure size 1800x360 with 3 Axes>"
            ]
          },
          "metadata": {
            "tags": []
          }
        }
      ]
    }
  ]
}