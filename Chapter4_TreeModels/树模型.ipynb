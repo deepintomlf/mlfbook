{
  "nbformat": 4,
  "nbformat_minor": 0,
  "metadata": {
    "colab": {
      "name": "DecisionTreeExample.ipynb",
      "version": "0.3.2",
      "provenance": [],
      "include_colab_link": true
    },
    "kernelspec": {
      "name": "python3",
      "display_name": "Python 3"
    }
  },
  "cells": [
    {
      "cell_type": "markdown",
      "metadata": {
        "id": "view-in-github",
        "colab_type": "text"
      },
      "source": [
        "<a href=\"https://colab.research.google.com/github/deepintomlf/mlfbook/blob/master/Chapter4_TreeModels/%E6%A0%91%E6%A8%A1%E5%9E%8B.ipynb\" target=\"_parent\"><img src=\"https://colab.research.google.com/assets/colab-badge.svg\" alt=\"Open In Colab\"/></a>"
      ]
    },
    {
      "cell_type": "markdown",
      "metadata": {
        "id": "XADDBN-gGSH9",
        "colab_type": "text"
      },
      "source": [
        "# 第四章：树模型"
      ]
    },
    {
      "cell_type": "markdown",
      "metadata": {
        "id": "NTrbTbrGIEa1",
        "colab_type": "text"
      },
      "source": [
        "## **不纯度度量指标**"
      ]
    },
    {
      "cell_type": "markdown",
      "metadata": {
        "id": "YlMFUWM8INgF",
        "colab_type": "text"
      },
      "source": [
        "1.  误分类\n",
        "2.  基尼系数\n",
        "3.  交叉熵"
      ]
    },
    {
      "cell_type": "code",
      "metadata": {
        "id": "IgZi81W4GP_Q",
        "colab_type": "code",
        "outputId": "c65af29a-3180-41f3-d095-ba4ef0e99617",
        "colab": {
          "base_uri": "https://localhost:8080/",
          "height": 351
        }
      },
      "source": [
        "import numpy as np\n",
        "import matplotlib.pyplot as plt\n",
        "\n",
        "p_vec = np.linspace(0.0, 1.0, num=500)\n",
        "\n",
        "# 误分类\n",
        "mis_cl_error_vec = np.minimum(1-p_vec, p_vec)\n",
        "\n",
        "# 基尼系数\n",
        "gini_vec = 2*np.multiply(p_vec, 1-p_vec)\n",
        "\n",
        "# 交叉熵\n",
        "cross_entropy_vec = -np.multiply(p_vec, np.log(p_vec))- np.multiply(1-p_vec, np.log(1-p_vec))\n",
        "\n",
        "plt.plot(p_vec, mis_cl_error_vec, 'b')\n",
        "plt.plot(p_vec, gini_vec, 'r')\n",
        "plt.plot(p_vec, cross_entropy_vec, 'g')\n",
        "plt.legend(['Mis-classification error', 'Gini index', 'Cross entropy'] )\n",
        "plt.xlabel('p')\n",
        "plt.savefig('LossFuncTreeModel.png', dpi=500)"
      ],
      "execution_count": 12,
      "outputs": [
        {
          "output_type": "stream",
          "text": [
            "/usr/local/lib/python3.6/dist-packages/ipykernel_launcher.py:13: RuntimeWarning: divide by zero encountered in log\n",
            "  del sys.path[0]\n",
            "/usr/local/lib/python3.6/dist-packages/ipykernel_launcher.py:13: RuntimeWarning: invalid value encountered in multiply\n",
            "  del sys.path[0]\n"
          ],
          "name": "stderr"
        },
        {
          "output_type": "display_data",
          "data": {
            "image/png": "[encoded data removed]",
            "text/plain": [
              "<Figure size 432x288 with 1 Axes>"
            ]
          },
          "metadata": {
            "tags": []
          }
        }
      ]
    },
    {
      "cell_type": "code",
      "metadata": {
        "id": "8zjd7DnnHFOZ",
        "colab_type": "code",
        "colab": {}
      },
      "source": [
        "from google.colab import files\n",
        "\n",
        "files.download('LossFuncTreeModel.png')"
      ],
      "execution_count": 0,
      "outputs": []
    },
    {
      "cell_type": "markdown",
      "metadata": {
        "id": "aHbDVXcAKfKH",
        "colab_type": "text"
      },
      "source": [
        "## 决策树"
      ]
    },
    {
      "cell_type": "code",
      "metadata": {
        "id": "lvuKX0oA06iU",
        "colab_type": "code",
        "colab": {}
      },
      "source": [
        "import pandas as pd\n",
        "from sklearn.datasets import load_iris\n",
        "from sklearn.model_selection import train_test_split\n",
        "from sklearn.tree import DecisionTreeClassifier\n",
        "\n",
        "# 加载Iris数据集\n",
        "iris = load_iris()\n",
        "\n",
        "# 划分训练集和测试集\n",
        "X_train, X_test, y_train, y_test = train_test_split(iris.data, iris.target, test_size=0.33, random_state=42)\n",
        "\n",
        "# 构建决策树分类器\n",
        "clf_dt = DecisionTreeClassifier(max_depth=3, criterion='gini', random_state=0)\n",
        "clf_dt = clf_dt.fit(X_train, y_train) \n",
        "y_test_est = clf_dt.predict(X_test)"
      ],
      "execution_count": 0,
      "outputs": []
    },
    {
      "cell_type": "code",
      "metadata": {
        "id": "LScizBKVvN4p",
        "colab_type": "code",
        "outputId": "4e4680a5-5144-469c-c417-d223a00e1931",
        "colab": {
          "base_uri": "https://localhost:8080/",
          "height": 173
        }
      },
      "source": [
        "# 输出混淆矩阵\n",
        "pd.crosstab(y_test, y_test_est, rownames=['Actual Species'], colnames=['Predicted Species'])"
      ],
      "execution_count": 145,
      "outputs": [
        {
          "output_type": "execute_result",
          "data": {
            "text/html": [
              "<div>\n",
              "<style scoped>\n",
              "    .dataframe tbody tr th:only-of-type {\n",
              "        vertical-align: middle;\n",
              "    }\n",
              "\n",
              "    .dataframe tbody tr th {\n",
              "        vertical-align: top;\n",
              "    }\n",
              "\n",
              "    .dataframe thead th {\n",
              "        text-align: right;\n",
              "    }\n",
              "</style>\n",
              "<table border=\"1\" class=\"dataframe\">\n",
              "  <thead>\n",
              "    <tr style=\"text-align: right;\">\n",
              "      <th>Predicted Species</th>\n",
              "      <th>0</th>\n",
              "      <th>1</th>\n",
              "      <th>2</th>\n",
              "    </tr>\n",
              "    <tr>\n",
              "      <th>Actual Species</th>\n",
              "      <th></th>\n",
              "      <th></th>\n",
              "      <th></th>\n",
              "    </tr>\n",
              "  </thead>\n",
              "  <tbody>\n",
              "    <tr>\n",
              "      <th>0</th>\n",
              "      <td>19</td>\n",
              "      <td>0</td>\n",
              "      <td>0</td>\n",
              "    </tr>\n",
              "    <tr>\n",
              "      <th>1</th>\n",
              "      <td>0</td>\n",
              "      <td>15</td>\n",
              "      <td>0</td>\n",
              "    </tr>\n",
              "    <tr>\n",
              "      <th>2</th>\n",
              "      <td>0</td>\n",
              "      <td>1</td>\n",
              "      <td>15</td>\n",
              "    </tr>\n",
              "  </tbody>\n",
              "</table>\n",
              "</div>"
            ],
            "text/plain": [
              "Predicted Species   0   1   2\n",
              "Actual Species               \n",
              "0                  19   0   0\n",
              "1                   0  15   0\n",
              "2                   0   1  15"
            ]
          },
          "metadata": {
            "tags": []
          },
          "execution_count": 145
        }
      ]
    },
    {
      "cell_type": "code",
      "metadata": {
        "id": "Jaf0rlL7vOIl",
        "colab_type": "code",
        "outputId": "d2c7a1e6-26bd-4e96-bad8-10cb512d3ce4",
        "colab": {
          "base_uri": "https://localhost:8080/",
          "height": 34
        }
      },
      "source": [
        "# 查看特征重要性\n",
        "print(clf_dt.feature_importances_)"
      ],
      "execution_count": 146,
      "outputs": [
        {
          "output_type": "stream",
          "text": [
            "[0.         0.         0.06478509 0.93521491]\n"
          ],
          "name": "stdout"
        }
      ]
    },
    {
      "cell_type": "code",
      "metadata": {
        "id": "hvpO4Pivtu9J",
        "colab_type": "code",
        "colab": {}
      },
      "source": [
        "# 安装graphviz\n",
        "!pip install graphviz"
      ],
      "execution_count": 0,
      "outputs": []
    },
    {
      "cell_type": "code",
      "metadata": {
        "id": "e5pB1Czvnosj",
        "colab_type": "code",
        "outputId": "d0722297-4872-4bd4-986b-173f54977e57",
        "colab": {
          "base_uri": "https://localhost:8080/",
          "height": 34
        }
      },
      "source": [
        "import graphviz\n",
        "from sklearn import tree\n",
        "\n",
        "dot_data = tree.export_graphviz(clf_dt, out_file=None, feature_names=iris.feature_names, \n",
        "                                class_names=iris.target_names, filled=True, rounded=True, special_characters=True)  \n",
        "graph = graphviz.Source(dot_data)  \n",
        "graph.render(\"iris\") "
      ],
      "execution_count": 17,
      "outputs": [
        {
          "output_type": "execute_result",
          "data": {
            "text/plain": [
              "'iris.pdf'"
            ]
          },
          "metadata": {
            "tags": []
          },
          "execution_count": 17
        }
      ]
    },
    {
      "cell_type": "code",
      "metadata": {
        "id": "ffnZ6VYJox7G",
        "colab_type": "code",
        "outputId": "c29165a4-4544-4734-b042-1193deefad7f",
        "colab": {
          "base_uri": "https://localhost:8080/",
          "height": 34
        }
      },
      "source": [
        "import os\n",
        "print(os.getcwd())\n",
        "from google.colab import files\n",
        "files.download(\"/content/iris.pdf\" ) "
      ],
      "execution_count": 0,
      "outputs": [
        {
          "output_type": "stream",
          "text": [
            "/content\n"
          ],
          "name": "stdout"
        }
      ]
    },
    {
      "cell_type": "markdown",
      "metadata": {
        "id": "EcwiNCy1musj",
        "colab_type": "text"
      },
      "source": [
        "## 随机森林\n",
        "\n",
        "\n"
      ]
    },
    {
      "cell_type": "code",
      "metadata": {
        "id": "GrLmxiThmuCX",
        "colab_type": "code",
        "colab": {}
      },
      "source": [
        "from sklearn.ensemble import RandomForestClassifier\n",
        "\n",
        "# 构建随机森林\n",
        "clf_rf = RandomForestClassifier(n_estimators=20, max_depth=3, criterion = 'gini', n_jobs=2, random_state=0)\n",
        "clf_rf = clf_rf.fit(X_train, y_train)\n",
        "y_test_est_rf = clf_rf.predict(X_test)"
      ],
      "execution_count": 0,
      "outputs": []
    },
    {
      "cell_type": "code",
      "metadata": {
        "id": "iZOb2uvWy771",
        "colab_type": "code",
        "outputId": "ea19a948-b7cd-4e43-e806-308f9e3c855a",
        "colab": {
          "base_uri": "https://localhost:8080/",
          "height": 187
        }
      },
      "source": [
        "clf_rf.predict_proba(X_test)[0:10]"
      ],
      "execution_count": 149,
      "outputs": [
        {
          "output_type": "execute_result",
          "data": {
            "text/plain": [
              "array([[0.0027027 , 0.95060588, 0.04669141],\n",
              "       [0.95      , 0.05      , 0.        ],\n",
              "       [0.        , 0.00494048, 0.99505952],\n",
              "       [0.0027027 , 0.94060588, 0.05669141],\n",
              "       [0.0027027 , 0.80480502, 0.19249228],\n",
              "       [1.        , 0.        , 0.        ],\n",
              "       [0.0027027 , 0.96616144, 0.03113586],\n",
              "       [0.        , 0.12660714, 0.87339286],\n",
              "       [0.0027027 , 0.91203445, 0.08526284],\n",
              "       [0.0027027 , 0.96616144, 0.03113586]])"
            ]
          },
          "metadata": {
            "tags": []
          },
          "execution_count": 149
        }
      ]
    },
    {
      "cell_type": "code",
      "metadata": {
        "id": "fRiJ4DHsHW7f",
        "colab_type": "code",
        "outputId": "b2df453c-9f96-4cbb-c5e6-3b37169afe6a",
        "colab": {
          "base_uri": "https://localhost:8080/",
          "height": 173
        }
      },
      "source": [
        "# 输出混淆矩阵\n",
        "pd.crosstab(y_test, y_test_est_rf, rownames=['Actual Species'], colnames=['Predicted Species'])"
      ],
      "execution_count": 150,
      "outputs": [
        {
          "output_type": "execute_result",
          "data": {
            "text/html": [
              "<div>\n",
              "<style scoped>\n",
              "    .dataframe tbody tr th:only-of-type {\n",
              "        vertical-align: middle;\n",
              "    }\n",
              "\n",
              "    .dataframe tbody tr th {\n",
              "        vertical-align: top;\n",
              "    }\n",
              "\n",
              "    .dataframe thead th {\n",
              "        text-align: right;\n",
              "    }\n",
              "</style>\n",
              "<table border=\"1\" class=\"dataframe\">\n",
              "  <thead>\n",
              "    <tr style=\"text-align: right;\">\n",
              "      <th>Predicted Species</th>\n",
              "      <th>0</th>\n",
              "      <th>1</th>\n",
              "      <th>2</th>\n",
              "    </tr>\n",
              "    <tr>\n",
              "      <th>Actual Species</th>\n",
              "      <th></th>\n",
              "      <th></th>\n",
              "      <th></th>\n",
              "    </tr>\n",
              "  </thead>\n",
              "  <tbody>\n",
              "    <tr>\n",
              "      <th>0</th>\n",
              "      <td>19</td>\n",
              "      <td>0</td>\n",
              "      <td>0</td>\n",
              "    </tr>\n",
              "    <tr>\n",
              "      <th>1</th>\n",
              "      <td>0</td>\n",
              "      <td>15</td>\n",
              "      <td>0</td>\n",
              "    </tr>\n",
              "    <tr>\n",
              "      <th>2</th>\n",
              "      <td>0</td>\n",
              "      <td>1</td>\n",
              "      <td>15</td>\n",
              "    </tr>\n",
              "  </tbody>\n",
              "</table>\n",
              "</div>"
            ],
            "text/plain": [
              "Predicted Species   0   1   2\n",
              "Actual Species               \n",
              "0                  19   0   0\n",
              "1                   0  15   0\n",
              "2                   0   1  15"
            ]
          },
          "metadata": {
            "tags": []
          },
          "execution_count": 150
        }
      ]
    },
    {
      "cell_type": "code",
      "metadata": {
        "id": "AiIuQCF-wRXI",
        "colab_type": "code",
        "outputId": "a3805c9a-1575-45bf-b423-ce6f710af7f1",
        "colab": {
          "base_uri": "https://localhost:8080/",
          "height": 34
        }
      },
      "source": [
        "# 查看特征重要性\n",
        "print(clf_rf.feature_importances_)"
      ],
      "execution_count": 151,
      "outputs": [
        {
          "output_type": "stream",
          "text": [
            "[0.12453106 0.03077601 0.42007567 0.42461726]\n"
          ],
          "name": "stdout"
        }
      ]
    },
    {
      "cell_type": "markdown",
      "metadata": {
        "id": "p3soMHZIL2F-",
        "colab_type": "text"
      },
      "source": [
        "## 梯度提升树"
      ]
    },
    {
      "cell_type": "code",
      "metadata": {
        "id": "vE2wEKd4fmAV",
        "colab_type": "code",
        "colab": {}
      },
      "source": [
        "from sklearn.ensemble import GradientBoostingClassifier\n",
        "\n",
        "# 构建梯度提升树 \n",
        "clf_gbt = GradientBoostingClassifier(n_estimators=20, max_depth=3, random_state=0)\n",
        "clf_gbt.fit(X_train, y_train)\n",
        "y_test_est_gbt = clf_rf.predict(X_test)"
      ],
      "execution_count": 0,
      "outputs": []
    },
    {
      "cell_type": "code",
      "metadata": {
        "id": "WLtmpWNhyPdh",
        "colab_type": "code",
        "outputId": "55298d74-e1a9-4266-dbbd-580eecefa58a",
        "colab": {
          "base_uri": "https://localhost:8080/",
          "height": 173
        }
      },
      "source": [
        "# 输出混淆矩阵\n",
        "pd.crosstab(y_test, y_test_est_gbt, rownames=['Actual Species'], colnames=['Predicted Species'])"
      ],
      "execution_count": 153,
      "outputs": [
        {
          "output_type": "execute_result",
          "data": {
            "text/html": [
              "<div>\n",
              "<style scoped>\n",
              "    .dataframe tbody tr th:only-of-type {\n",
              "        vertical-align: middle;\n",
              "    }\n",
              "\n",
              "    .dataframe tbody tr th {\n",
              "        vertical-align: top;\n",
              "    }\n",
              "\n",
              "    .dataframe thead th {\n",
              "        text-align: right;\n",
              "    }\n",
              "</style>\n",
              "<table border=\"1\" class=\"dataframe\">\n",
              "  <thead>\n",
              "    <tr style=\"text-align: right;\">\n",
              "      <th>Predicted Species</th>\n",
              "      <th>0</th>\n",
              "      <th>1</th>\n",
              "      <th>2</th>\n",
              "    </tr>\n",
              "    <tr>\n",
              "      <th>Actual Species</th>\n",
              "      <th></th>\n",
              "      <th></th>\n",
              "      <th></th>\n",
              "    </tr>\n",
              "  </thead>\n",
              "  <tbody>\n",
              "    <tr>\n",
              "      <th>0</th>\n",
              "      <td>19</td>\n",
              "      <td>0</td>\n",
              "      <td>0</td>\n",
              "    </tr>\n",
              "    <tr>\n",
              "      <th>1</th>\n",
              "      <td>0</td>\n",
              "      <td>15</td>\n",
              "      <td>0</td>\n",
              "    </tr>\n",
              "    <tr>\n",
              "      <th>2</th>\n",
              "      <td>0</td>\n",
              "      <td>1</td>\n",
              "      <td>15</td>\n",
              "    </tr>\n",
              "  </tbody>\n",
              "</table>\n",
              "</div>"
            ],
            "text/plain": [
              "Predicted Species   0   1   2\n",
              "Actual Species               \n",
              "0                  19   0   0\n",
              "1                   0  15   0\n",
              "2                   0   1  15"
            ]
          },
          "metadata": {
            "tags": []
          },
          "execution_count": 153
        }
      ]
    },
    {
      "cell_type": "code",
      "metadata": {
        "id": "WkaJwXA5yPlm",
        "colab_type": "code",
        "outputId": "6def24be-2fdf-4176-b451-270fe911eaa6",
        "colab": {
          "base_uri": "https://localhost:8080/",
          "height": 34
        }
      },
      "source": [
        "# 查看特征重要性\n",
        "print(clf_gbt.feature_importances_)"
      ],
      "execution_count": 165,
      "outputs": [
        {
          "output_type": "stream",
          "text": [
            "[0.00622811 0.01218844 0.30455628 0.67702717]\n"
          ],
          "name": "stdout"
        }
      ]
    },
    {
      "cell_type": "markdown",
      "metadata": {
        "id": "dkNXAQALUs6t",
        "colab_type": "text"
      },
      "source": [
        "## **输出拟合结果**"
      ]
    },
    {
      "cell_type": "markdown",
      "metadata": {
        "id": "T99P6FSctbcx",
        "colab_type": "text"
      },
      "source": [
        "### **混淆矩阵**"
      ]
    },
    {
      "cell_type": "code",
      "metadata": {
        "id": "s1hfFJsLVK4W",
        "colab_type": "code",
        "colab": {
          "base_uri": "https://localhost:8080/",
          "height": 741
        },
        "outputId": "6b131bf5-5c40-4809-f6d5-76c46189c7b3"
      },
      "source": [
        "import itertools  \n",
        "def plot_confusion_matrix(cm, classes,\n",
        "                          normalize=False,\n",
        "                          title='Confusion matrix',\n",
        "                          cmap=plt.cm.Blues):\n",
        "    \"\"\"\n",
        "    This function prints and plots the confusion matrix.\n",
        "    Normalization can be applied by setting `normalize=True`.\n",
        "    \"\"\"\n",
        "    if normalize:\n",
        "        cm = cm.astype('float') / cm.sum(axis=1)[:, np.newaxis]\n",
        "        print(\"Normalized confusion matrix\")\n",
        "    else:\n",
        "        print('Confusion matrix, without normalization')\n",
        "\n",
        "    print(cm)\n",
        "\n",
        "    plt.imshow(cm, interpolation='nearest', cmap=cmap)\n",
        "    plt.title(title)\n",
        "    plt.colorbar()\n",
        "    tick_marks = np.arange(len(classes))\n",
        "    plt.xticks(tick_marks, classes, rotation=45)\n",
        "    plt.yticks(tick_marks, classes)\n",
        "\n",
        "    fmt = '.2f' if normalize else 'd'\n",
        "    thresh = cm.max() / 2.\n",
        "    for i, j in itertools.product(range(cm.shape[0]), range(cm.shape[1])):\n",
        "        plt.text(j, i, format(cm[i, j], fmt),\n",
        "                 horizontalalignment=\"center\",\n",
        "                 color=\"white\" if cm[i, j] > thresh else \"black\")\n",
        "\n",
        "    plt.tight_layout()\n",
        "    plt.ylabel('True label')\n",
        "    plt.xlabel('Predicted label')\n",
        "    plt.grid(b = 0)\n",
        "\n",
        "## 函数plot_confusion_matrix代码参考了http://scikit-learn.org/stable/auto_examples/model_selection/plot_confusion_matrix.html\n",
        "\n",
        "# 绘制混淆矩阵\n",
        "cm_dt = confusion_matrix(y_test, y_test_est)\n",
        "plt.figure()\n",
        "plot_confusion_matrix(cm_dt, classes= iris.target_names, title='Confusion matrix, without normalization')\n",
        "plt.figure()\n",
        "plot_confusion_matrix(cm_dt, classes= iris.target_names, normalize=True, title='Normalized confusion matrix')"
      ],
      "execution_count": 155,
      "outputs": [
        {
          "output_type": "stream",
          "text": [
            "Confusion matrix, without normalization\n",
            "[[19  0  0]\n",
            " [ 0 15  0]\n",
            " [ 0  1 15]]\n",
            "Normalized confusion matrix\n",
            "[[1.     0.     0.    ]\n",
            " [0.     1.     0.    ]\n",
            " [0.     0.0625 0.9375]]\n"
          ],
          "name": "stdout"
        },
        {
          "output_type": "display_data",
          "data": {
            "image/png": "[encoded data removed]",
            "text/plain": [
              "<Figure size 432x288 with 2 Axes>"
            ]
          },
          "metadata": {
            "tags": []
          }
        },
        {
          "output_type": "display_data",
          "data": {
            "image/png": "[encoded data removed]",
            "text/plain": [
              "<Figure size 432x288 with 2 Axes>"
            ]
          },
          "metadata": {
            "tags": []
          }
        }
      ]
    },
    {
      "cell_type": "markdown",
      "metadata": {
        "id": "4BXIjZ0YtgF6",
        "colab_type": "text"
      },
      "source": [
        "### **特征重要性**"
      ]
    },
    {
      "cell_type": "code",
      "metadata": {
        "id": "b20u8lyPNjDr",
        "colab_type": "code",
        "colab": {
          "base_uri": "https://localhost:8080/",
          "height": 585
        },
        "outputId": "4dfef2d4-83c8-49e8-b5e5-e5f8dd4997f5"
      },
      "source": [
        "import matplotlib.pyplot as plt\n",
        "\n",
        "# 决策树特征重要性\n",
        "\n",
        "plt.figure(figsize=(10,8))\n",
        "plt.bar(iris.feature_names, clf_dt.feature_importances_, width=0.4, color='blue')\n",
        "plt.title('Decision Tree', fontsize=20)\n",
        "plt.ylabel('Importance Score',fontsize=16)\n",
        "plt.xticks(fontsize=16)\n",
        "plt.yticks(fontsize=16)\n",
        "plt.tight_layout()\n",
        "plt.savefig('feature_importance_dt.png')"
      ],
      "execution_count": 160,
      "outputs": [
        {
          "output_type": "display_data",
          "data": {
            "image/png": "[encoded data removed]",
            "text/plain": [
              "<Figure size 720x576 with 1 Axes>"
            ]
          },
          "metadata": {
            "tags": []
          }
        }
      ]
    },
    {
      "cell_type": "code",
      "metadata": {
        "id": "DtANFV0kPVGO",
        "colab_type": "code",
        "colab": {
          "base_uri": "https://localhost:8080/",
          "height": 585
        },
        "outputId": "5e7d7d5a-1ff2-40a9-be0d-d9d09837f153"
      },
      "source": [
        "# 随机森林特征重要性\n",
        "\n",
        "plt.figure(figsize=(10,8))\n",
        "plt.bar(iris.feature_names, clf_rf.feature_importances_, width=0.4, color='blue')\n",
        "plt.title('Random Forest', fontsize=20)\n",
        "plt.ylabel('Importance Score',fontsize=16)\n",
        "plt.xticks(fontsize=16)\n",
        "plt.yticks(fontsize=16)\n",
        "plt.tight_layout()\n",
        "plt.savefig('feature_importance_rf.png')"
      ],
      "execution_count": 161,
      "outputs": [
        {
          "output_type": "display_data",
          "data": {
            "image/png": "[encoded data removed]",
            "text/plain": [
              "<Figure size 720x576 with 1 Axes>"
            ]
          },
          "metadata": {
            "tags": []
          }
        }
      ]
    },
    {
      "cell_type": "code",
      "metadata": {
        "id": "JEGZeeW6Qeho",
        "colab_type": "code",
        "colab": {
          "base_uri": "https://localhost:8080/",
          "height": 585
        },
        "outputId": "a2f139a4-4150-4a62-a8ef-fa8805a40f23"
      },
      "source": [
        "# 梯度提升树特征重要性\n",
        "\n",
        "plt.figure(figsize=(10,8))\n",
        "plt.bar(iris.feature_names, clf_gbt.feature_importances_, width=0.4, color='blue')\n",
        "plt.title('Gradient Boosting Tree', fontsize=20)\n",
        "plt.ylabel('Importance Score',fontsize=16)\n",
        "plt.xticks(fontsize=16)\n",
        "plt.yticks(fontsize=16)\n",
        "plt.tight_layout()\n",
        "plt.savefig('feature_importance_gbt.png')"
      ],
      "execution_count": 162,
      "outputs": [
        {
          "output_type": "display_data",
          "data": {
            "image/png": "[encoded data removed]",
            "text/plain": [
              "<Figure size 720x576 with 1 Axes>"
            ]
          },
          "metadata": {
            "tags": []
          }
        }
      ]
    },
    {
      "cell_type": "code",
      "metadata": {
        "id": "zKeU874QQejt",
        "colab_type": "code",
        "colab": {}
      },
      "source": [
        "from google.colab import files\n",
        "\n",
        "files.download('feature_importance_dt.png')\n",
        "files.download('feature_importance_rf.png')\n",
        "files.download('feature_importance_gbt.png')"
      ],
      "execution_count": 0,
      "outputs": []
    }
  ]
}