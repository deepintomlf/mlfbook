{
  "nbformat": 4,
  "nbformat_minor": 0,
  "metadata": {
    "colab": {
      "name": "PracticeSession1_HN.ipynb",
      "version": "0.3.2",
      "provenance": [],
      "collapsed_sections": [
        "G961Oko_PenB",
        "YoldZQgkPr6-",
        "95_nhUhhP3ji",
        "nAxj3de7072f",
        "5wu5oABiQHgn",
        "1aLLvJ5WOK4x"
      ],
      "include_colab_link": true
    },
    "kernelspec": {
      "name": "python3",
      "display_name": "Python 3"
    },
    "accelerator": "GPU"
  },
  "cells": [
    {
      "cell_type": "markdown",
      "metadata": {
        "id": "view-in-github",
        "colab_type": "text"
      },
      "source": [
        "<a href=\"https://colab.research.google.com/github/deepintomlf/mlfbook/blob/master/Section5.2_ANN.ipynb\" target=\"_parent\"><img src=\"https://colab.research.google.com/assets/colab-badge.svg\" alt=\"Open In Colab\"/></a>"
      ]
    },
    {
      "cell_type": "markdown",
      "metadata": {
        "id": "0rw0SZOgvciq",
        "colab_type": "text"
      },
      "source": [
        "\n",
        "# **Section 5.2 – Artificial Neural Network**\n",
        "This notebook contains all demo codes in Section 5.2."
      ]
    },
    {
      "cell_type": "markdown",
      "metadata": {
        "id": "iSAJ064BtXrq",
        "colab_type": "text"
      },
      "source": [
        "### Implementation"
      ]
    },
    {
      "cell_type": "markdown",
      "metadata": {
        "id": "xWL5dnZItdxU",
        "colab_type": "text"
      },
      "source": [
        "![alt text](https://docs.google.com/uc?export=download&id=1oWrlu3M05rP8GzEWU23EgTZpDiFj2Mop)\n",
        "\n",
        "\n",
        "\n",
        "*   Input layer ( $h^{0}$): $h^{0}(x) = x$.\n",
        "*  Hidden layer ($\\{h^{l}\\}_{l = 1}^{L-1}$);\n",
        "* Output layer ($h^{L}$).\n",
        "\n",
        "\\begin{eqnarray*}\n",
        "z^{l+1} &=& {\\color{blue}W^{l}} h^{l} + {\\color{blue}b^{l}},\\\\\n",
        "h^{l+1} &=& {\\color{red} \\sigma}(z^{l+1}),\n",
        "\\end{eqnarray*}\n",
        "where ${\\color{red}\\sigma}$ is an* activation function*, which is usually non-linear, e.g. the sigmoid function $\\sigma(x) = \\frac{1}{1+e^{-x}}$. The parameter set ${\\color{blue}\\theta} = (W^{l}, b^{l})_{l =1}^{L}$}.\n"
      ]
    },
    {
      "cell_type": "markdown",
      "metadata": {
        "id": "ClYeClr2vTc7",
        "colab_type": "text"
      },
      "source": [
        "###ANN Classification###\n",
        "The input $x$ is a multi-dimensional vector; \n",
        "\n",
        "The ouput $y$ is a one-hot respresenation of the class. \n",
        "\n",
        "\n",
        "The number of neurons in the output layer is the total number of classes. \n",
        "\n",
        "The $j^{th}$ neurons in the output layer represents the probability of the output(label) being class $j$.  \n",
        "\n",
        " The **cross entropy **loss function is defined as follows:\n",
        "\n",
        "\\begin{eqnarray*}\n",
        "L(\\theta \\vert \\mathcal{D}) = - \\frac{1}{N}\\sum_{i =1}^{N} \\sum_{k} \\mathbb{1}( y_{i}=\\text{ class }k) \\log(p(y_{i} =\\text{ class }k \\vert x_{i})) \n",
        "\\end{eqnarray*}\n",
        "\n",
        "Note: The cross entropy between two probability distributions $p$ and $q$ is defined as \n",
        "\\begin{eqnarray*}\n",
        "H(p, q) =- \\sum_{x} p(x)\\log(q(x)).\n",
        "\\end{eqnarray*}\n",
        "\n",
        "$L(\\theta \\vert \\mathcal{D}) $ can be reformulated as \n",
        "\n",
        "\\begin{eqnarray*}\n",
        "L(\\theta \\vert \\mathcal{D}) = - \\frac{1}{N} \\langle  y_{i}, \\log(p_{\\theta }(  \\cdot \\vert x_{i})) \\rangle \n",
        "\\end{eqnarray*}\n"
      ]
    },
    {
      "cell_type": "markdown",
      "metadata": {
        "id": "xZBRzRhF_-xI",
        "colab_type": "text"
      },
      "source": [
        "#Pipelines of Supervised Learning Algorithms# "
      ]
    },
    {
      "cell_type": "markdown",
      "metadata": {
        "id": "7E1pkUGgQHpb",
        "colab_type": "text"
      },
      "source": [
        "The piplelines of the supervised learning algorithms are summarized as follows:\n",
        "\n",
        "1.   Import Datasets;\n",
        "2.   Take a look at the dataset (Statistical Analysis/Visualization);\n",
        "3.    Pre-process the dataset to prepare for the training process (normalization/reshape data);\n",
        "4.    Train a model;\n",
        "5.    Validate a model;\n",
        "6.    Cross Validation. \n"
      ]
    },
    {
      "cell_type": "markdown",
      "metadata": {
        "id": "X-vM1QWbbRDo",
        "colab_type": "text"
      },
      "source": [
        "** We will apply the shallow neural network to the MNIST dataset as a concrete example to go through the pipelines of supervised learning algorithm.**"
      ]
    },
    {
      "cell_type": "markdown",
      "metadata": {
        "id": "rcEMqDnp3Ese",
        "colab_type": "text"
      },
      "source": [
        "Problem: Build an algorithm to identify the digit label from the handwritten image using the MNIST dataset. \n",
        "\n",
        "![alt text](http://corochann.com/wp-content/uploads/2017/02/mnist_plot.png)"
      ]
    },
    {
      "cell_type": "markdown",
      "metadata": {
        "id": "Yo03nFuXWsP2",
        "colab_type": "text"
      },
      "source": [
        "## **Pre-process MNIST Dataset**"
      ]
    },
    {
      "cell_type": "code",
      "metadata": {
        "id": "wTvLJzzjA6aB",
        "colab_type": "code",
        "colab": {}
      },
      "source": [
        "import numpy as np\n",
        "from keras.datasets import mnist\n",
        "from keras.utils import to_categorical\n",
        "\n",
        "# Import MNIST dataset\n",
        "(x_train, y_train), (x_test, y_test) = mnist.load_data()\n",
        "\n",
        "# Convert class vectors to one-hot vector matrices\n",
        "num_classes = 10    \n",
        "Y_train = to_categorical(y_train, num_classes)\n",
        "Y_test = to_categorical(y_test, num_classes)\n",
        "\n",
        "# Reshape input image data from matrixs to vectors\n",
        "[n_samples_train, width, height] = np.shape(x_train)\n",
        "[n_samples_test, width, height] = np.shape(x_test)\n",
        "X_train = x_train.reshape([n_samples_train, width*height])\n",
        "X_test =x_test.reshape( [n_samples_test, width*height])\n",
        "\n",
        "# Normalize the datasets \n",
        "X_train = X_train/np.amax(X_train)\n",
        "X_test = X_test/np.amax(X_train)"
      ],
      "execution_count": 0,
      "outputs": []
    },
    {
      "cell_type": "markdown",
      "metadata": {
        "id": "iJekBGxRXYGF",
        "colab_type": "text"
      },
      "source": [
        "## **Implement ANN for Digit Classification on MNIST Dataset**"
      ]
    },
    {
      "cell_type": "code",
      "metadata": {
        "id": "nz0Iu3FuXd0U",
        "colab_type": "code",
        "outputId": "9a22f082-c24a-4793-c0bb-fb14708ac566",
        "colab": {
          "base_uri": "https://localhost:8080/",
          "height": 3468
        }
      },
      "source": [
        "import time\n",
        "from keras.models import Sequential\n",
        "from keras.layers.core import Dense\n",
        "from keras.optimizers import SGD\n",
        "\n",
        "def shallow_NN_model(n_hidden_neurons):\n",
        "    start_time = time.time()\n",
        "    print('Compiling Model ... ')\n",
        "    model = Sequential()\n",
        "    model.add(Dense(n_hidden_neurons, activation='relu', input_dim=784))\n",
        "    model.add(Dense(10, activation = 'softmax'))\n",
        "    sgd = SGD(lr=0.1, decay=1e-6, momentum=0.9, nesterov=True)\n",
        "    model.compile(loss='categorical_crossentropy', optimizer=sgd, metrics=['accuracy'])\n",
        "    print('Model compield in {0} seconds'.format(time.time() - start_time))\n",
        "    return model\n",
        "    \n",
        "epochs = 100\n",
        "batch  = 256\n",
        "n_hidden_neurons = 50\n",
        "model = shallow_NN_model(n_hidden_neurons)\n",
        "hist_ANN = model.fit(X_train, Y_train, epochs=epochs, batch_size=batch, validation_data=(X_test, Y_test), verbose=2)"
      ],
      "execution_count": 27,
      "outputs": [
        {
          "output_type": "stream",
          "text": [
            "Compiling Model ... \n",
            "Model compield in 0.06597399711608887 seconds\n",
            "Train on 60000 samples, validate on 10000 samples\n",
            "Epoch 1/100\n",
            " - 1s - loss: 0.6264 - acc: 0.8334 - val_loss: 1.5537 - val_acc: 0.9017\n",
            "Epoch 2/100\n",
            " - 1s - loss: 0.3314 - acc: 0.9067 - val_loss: 1.3647 - val_acc: 0.9137\n",
            "Epoch 3/100\n",
            " - 1s - loss: 0.2873 - acc: 0.9186 - val_loss: 1.2531 - val_acc: 0.9206\n",
            "Epoch 4/100\n",
            " - 1s - loss: 0.2591 - acc: 0.9262 - val_loss: 1.2268 - val_acc: 0.9223\n",
            "Epoch 5/100\n",
            " - 1s - loss: 0.2370 - acc: 0.9327 - val_loss: 1.2003 - val_acc: 0.9240\n",
            "Epoch 6/100\n",
            " - 1s - loss: 0.2185 - acc: 0.9387 - val_loss: 1.1022 - val_acc: 0.9307\n",
            "Epoch 7/100\n",
            " - 1s - loss: 0.2027 - acc: 0.9427 - val_loss: 0.9478 - val_acc: 0.9404\n",
            "Epoch 8/100\n",
            " - 1s - loss: 0.1894 - acc: 0.9461 - val_loss: 0.9306 - val_acc: 0.9416\n",
            "Epoch 9/100\n",
            " - 1s - loss: 0.1775 - acc: 0.9499 - val_loss: 0.8973 - val_acc: 0.9436\n",
            "Epoch 10/100\n",
            " - 1s - loss: 0.1673 - acc: 0.9526 - val_loss: 0.8819 - val_acc: 0.9442\n",
            "Epoch 11/100\n",
            " - 1s - loss: 0.1583 - acc: 0.9551 - val_loss: 0.8343 - val_acc: 0.9473\n",
            "Epoch 12/100\n",
            " - 1s - loss: 0.1505 - acc: 0.9573 - val_loss: 0.7774 - val_acc: 0.9508\n",
            "Epoch 13/100\n",
            " - 1s - loss: 0.1433 - acc: 0.9597 - val_loss: 0.7796 - val_acc: 0.9506\n",
            "Epoch 14/100\n",
            " - 1s - loss: 0.1372 - acc: 0.9613 - val_loss: 0.7303 - val_acc: 0.9542\n",
            "Epoch 15/100\n",
            " - 1s - loss: 0.1310 - acc: 0.9631 - val_loss: 0.7026 - val_acc: 0.9556\n",
            "Epoch 16/100\n",
            " - 1s - loss: 0.1259 - acc: 0.9647 - val_loss: 0.6813 - val_acc: 0.9565\n",
            "Epoch 17/100\n",
            " - 1s - loss: 0.1211 - acc: 0.9660 - val_loss: 0.6781 - val_acc: 0.9574\n",
            "Epoch 18/100\n",
            " - 1s - loss: 0.1167 - acc: 0.9671 - val_loss: 0.6666 - val_acc: 0.9581\n",
            "Epoch 19/100\n",
            " - 1s - loss: 0.1125 - acc: 0.9684 - val_loss: 0.6452 - val_acc: 0.9595\n",
            "Epoch 20/100\n",
            " - 1s - loss: 0.1088 - acc: 0.9691 - val_loss: 0.6387 - val_acc: 0.9597\n",
            "Epoch 21/100\n",
            " - 1s - loss: 0.1050 - acc: 0.9705 - val_loss: 0.6841 - val_acc: 0.9567\n",
            "Epoch 22/100\n",
            " - 1s - loss: 0.1020 - acc: 0.9715 - val_loss: 0.6226 - val_acc: 0.9609\n",
            "Epoch 23/100\n",
            " - 1s - loss: 0.0988 - acc: 0.9722 - val_loss: 0.5902 - val_acc: 0.9629\n",
            "Epoch 24/100\n",
            " - 1s - loss: 0.0961 - acc: 0.9726 - val_loss: 0.5993 - val_acc: 0.9623\n",
            "Epoch 25/100\n",
            " - 1s - loss: 0.0933 - acc: 0.9738 - val_loss: 0.5541 - val_acc: 0.9650\n",
            "Epoch 26/100\n",
            " - 1s - loss: 0.0906 - acc: 0.9748 - val_loss: 0.5732 - val_acc: 0.9642\n",
            "Epoch 27/100\n",
            " - 1s - loss: 0.0885 - acc: 0.9753 - val_loss: 0.5538 - val_acc: 0.9651\n",
            "Epoch 28/100\n",
            " - 1s - loss: 0.0860 - acc: 0.9757 - val_loss: 0.5244 - val_acc: 0.9666\n",
            "Epoch 29/100\n",
            " - 1s - loss: 0.0840 - acc: 0.9760 - val_loss: 0.5395 - val_acc: 0.9659\n",
            "Epoch 30/100\n",
            " - 1s - loss: 0.0818 - acc: 0.9770 - val_loss: 0.5290 - val_acc: 0.9669\n",
            "Epoch 31/100\n",
            " - 1s - loss: 0.0799 - acc: 0.9775 - val_loss: 0.5080 - val_acc: 0.9680\n",
            "Epoch 32/100\n",
            " - 1s - loss: 0.0781 - acc: 0.9780 - val_loss: 0.5254 - val_acc: 0.9668\n",
            "Epoch 33/100\n",
            " - 1s - loss: 0.0764 - acc: 0.9784 - val_loss: 0.5169 - val_acc: 0.9677\n",
            "Epoch 34/100\n",
            " - 1s - loss: 0.0747 - acc: 0.9788 - val_loss: 0.4752 - val_acc: 0.9700\n",
            "Epoch 35/100\n",
            " - 1s - loss: 0.0730 - acc: 0.9797 - val_loss: 0.4951 - val_acc: 0.9686\n",
            "Epoch 36/100\n",
            " - 1s - loss: 0.0713 - acc: 0.9799 - val_loss: 0.4900 - val_acc: 0.9692\n",
            "Epoch 37/100\n",
            " - 1s - loss: 0.0701 - acc: 0.9807 - val_loss: 0.4714 - val_acc: 0.9704\n",
            "Epoch 38/100\n",
            " - 1s - loss: 0.0684 - acc: 0.9810 - val_loss: 0.4855 - val_acc: 0.9694\n",
            "Epoch 39/100\n",
            " - 1s - loss: 0.0670 - acc: 0.9815 - val_loss: 0.5048 - val_acc: 0.9681\n",
            "Epoch 40/100\n",
            " - 1s - loss: 0.0656 - acc: 0.9820 - val_loss: 0.4785 - val_acc: 0.9697\n",
            "Epoch 41/100\n",
            " - 1s - loss: 0.0645 - acc: 0.9823 - val_loss: 0.4725 - val_acc: 0.9706\n",
            "Epoch 42/100\n",
            " - 1s - loss: 0.0631 - acc: 0.9824 - val_loss: 0.4748 - val_acc: 0.9700\n",
            "Epoch 43/100\n",
            " - 1s - loss: 0.0621 - acc: 0.9830 - val_loss: 0.4886 - val_acc: 0.9692\n",
            "Epoch 44/100\n",
            " - 1s - loss: 0.0607 - acc: 0.9831 - val_loss: 0.4653 - val_acc: 0.9708\n",
            "Epoch 45/100\n",
            " - 1s - loss: 0.0597 - acc: 0.9836 - val_loss: 0.4637 - val_acc: 0.9710\n",
            "Epoch 46/100\n",
            " - 1s - loss: 0.0584 - acc: 0.9839 - val_loss: 0.4670 - val_acc: 0.9703\n",
            "Epoch 47/100\n",
            " - 1s - loss: 0.0575 - acc: 0.9842 - val_loss: 0.4766 - val_acc: 0.9702\n",
            "Epoch 48/100\n",
            " - 1s - loss: 0.0564 - acc: 0.9845 - val_loss: 0.4654 - val_acc: 0.9707\n",
            "Epoch 49/100\n",
            " - 1s - loss: 0.0555 - acc: 0.9851 - val_loss: 0.4720 - val_acc: 0.9704\n",
            "Epoch 50/100\n",
            " - 1s - loss: 0.0546 - acc: 0.9849 - val_loss: 0.4664 - val_acc: 0.9707\n",
            "Epoch 51/100\n",
            " - 1s - loss: 0.0536 - acc: 0.9852 - val_loss: 0.4534 - val_acc: 0.9716\n",
            "Epoch 52/100\n",
            " - 1s - loss: 0.0526 - acc: 0.9856 - val_loss: 0.4378 - val_acc: 0.9723\n",
            "Epoch 53/100\n",
            " - 1s - loss: 0.0516 - acc: 0.9860 - val_loss: 0.4642 - val_acc: 0.9707\n",
            "Epoch 54/100\n",
            " - 1s - loss: 0.0509 - acc: 0.9865 - val_loss: 0.4642 - val_acc: 0.9711\n",
            "Epoch 55/100\n",
            " - 1s - loss: 0.0500 - acc: 0.9869 - val_loss: 0.4451 - val_acc: 0.9721\n",
            "Epoch 56/100\n",
            " - 1s - loss: 0.0494 - acc: 0.9868 - val_loss: 0.4546 - val_acc: 0.9714\n",
            "Epoch 57/100\n",
            " - 1s - loss: 0.0485 - acc: 0.9872 - val_loss: 0.4649 - val_acc: 0.9706\n",
            "Epoch 58/100\n",
            " - 1s - loss: 0.0476 - acc: 0.9875 - val_loss: 0.4787 - val_acc: 0.9698\n",
            "Epoch 59/100\n",
            " - 1s - loss: 0.0468 - acc: 0.9877 - val_loss: 0.4524 - val_acc: 0.9717\n",
            "Epoch 60/100\n",
            " - 1s - loss: 0.0459 - acc: 0.9881 - val_loss: 0.4611 - val_acc: 0.9712\n",
            "Epoch 61/100\n",
            " - 1s - loss: 0.0453 - acc: 0.9882 - val_loss: 0.4521 - val_acc: 0.9716\n",
            "Epoch 62/100\n",
            " - 1s - loss: 0.0445 - acc: 0.9884 - val_loss: 0.4415 - val_acc: 0.9720\n",
            "Epoch 63/100\n",
            " - 1s - loss: 0.0438 - acc: 0.9885 - val_loss: 0.4429 - val_acc: 0.9724\n",
            "Epoch 64/100\n",
            " - 1s - loss: 0.0434 - acc: 0.9888 - val_loss: 0.4300 - val_acc: 0.9731\n",
            "Epoch 65/100\n",
            " - 1s - loss: 0.0426 - acc: 0.9891 - val_loss: 0.4526 - val_acc: 0.9719\n",
            "Epoch 66/100\n",
            " - 1s - loss: 0.0419 - acc: 0.9892 - val_loss: 0.4481 - val_acc: 0.9720\n",
            "Epoch 67/100\n",
            " - 1s - loss: 0.0413 - acc: 0.9896 - val_loss: 0.4335 - val_acc: 0.9728\n",
            "Epoch 68/100\n",
            " - 1s - loss: 0.0406 - acc: 0.9899 - val_loss: 0.4423 - val_acc: 0.9721\n",
            "Epoch 69/100\n",
            " - 1s - loss: 0.0400 - acc: 0.9902 - val_loss: 0.4561 - val_acc: 0.9716\n",
            "Epoch 70/100\n",
            " - 1s - loss: 0.0396 - acc: 0.9901 - val_loss: 0.4403 - val_acc: 0.9723\n",
            "Epoch 71/100\n",
            " - 1s - loss: 0.0389 - acc: 0.9904 - val_loss: 0.4449 - val_acc: 0.9722\n",
            "Epoch 72/100\n",
            " - 1s - loss: 0.0384 - acc: 0.9903 - val_loss: 0.4546 - val_acc: 0.9713\n",
            "Epoch 73/100\n",
            " - 1s - loss: 0.0377 - acc: 0.9906 - val_loss: 0.4570 - val_acc: 0.9713\n",
            "Epoch 74/100\n",
            " - 1s - loss: 0.0372 - acc: 0.9908 - val_loss: 0.4487 - val_acc: 0.9718\n",
            "Epoch 75/100\n",
            " - 1s - loss: 0.0367 - acc: 0.9909 - val_loss: 0.4483 - val_acc: 0.9715\n",
            "Epoch 76/100\n",
            " - 1s - loss: 0.0361 - acc: 0.9914 - val_loss: 0.4530 - val_acc: 0.9714\n",
            "Epoch 77/100\n",
            " - 1s - loss: 0.0356 - acc: 0.9914 - val_loss: 0.4303 - val_acc: 0.9728\n",
            "Epoch 78/100\n",
            " - 1s - loss: 0.0351 - acc: 0.9915 - val_loss: 0.4389 - val_acc: 0.9723\n",
            "Epoch 79/100\n",
            " - 1s - loss: 0.0346 - acc: 0.9921 - val_loss: 0.4279 - val_acc: 0.9728\n",
            "Epoch 80/100\n",
            " - 1s - loss: 0.0341 - acc: 0.9920 - val_loss: 0.4580 - val_acc: 0.9712\n",
            "Epoch 81/100\n",
            " - 1s - loss: 0.0334 - acc: 0.9923 - val_loss: 0.4473 - val_acc: 0.9719\n",
            "Epoch 82/100\n",
            " - 1s - loss: 0.0332 - acc: 0.9921 - val_loss: 0.4424 - val_acc: 0.9723\n",
            "Epoch 83/100\n",
            " - 1s - loss: 0.0326 - acc: 0.9926 - val_loss: 0.4382 - val_acc: 0.9723\n",
            "Epoch 84/100\n",
            " - 1s - loss: 0.0322 - acc: 0.9925 - val_loss: 0.4325 - val_acc: 0.9729\n",
            "Epoch 85/100\n",
            " - 1s - loss: 0.0318 - acc: 0.9926 - val_loss: 0.4513 - val_acc: 0.9717\n",
            "Epoch 86/100\n",
            " - 1s - loss: 0.0315 - acc: 0.9927 - val_loss: 0.4660 - val_acc: 0.9707\n",
            "Epoch 87/100\n",
            " - 1s - loss: 0.0309 - acc: 0.9929 - val_loss: 0.4526 - val_acc: 0.9715\n",
            "Epoch 88/100\n",
            " - 1s - loss: 0.0305 - acc: 0.9933 - val_loss: 0.4363 - val_acc: 0.9727\n",
            "Epoch 89/100\n",
            " - 1s - loss: 0.0301 - acc: 0.9932 - val_loss: 0.4364 - val_acc: 0.9727\n",
            "Epoch 90/100\n",
            " - 1s - loss: 0.0298 - acc: 0.9937 - val_loss: 0.4546 - val_acc: 0.9715\n",
            "Epoch 91/100\n",
            " - 1s - loss: 0.0292 - acc: 0.9937 - val_loss: 0.4576 - val_acc: 0.9712\n",
            "Epoch 92/100\n",
            " - 1s - loss: 0.0290 - acc: 0.9935 - val_loss: 0.4522 - val_acc: 0.9718\n",
            "Epoch 93/100\n",
            " - 1s - loss: 0.0285 - acc: 0.9937 - val_loss: 0.4566 - val_acc: 0.9716\n",
            "Epoch 94/100\n",
            " - 1s - loss: 0.0280 - acc: 0.9940 - val_loss: 0.4530 - val_acc: 0.9714\n",
            "Epoch 95/100\n",
            " - 1s - loss: 0.0276 - acc: 0.9942 - val_loss: 0.4639 - val_acc: 0.9709\n",
            "Epoch 96/100\n",
            " - 1s - loss: 0.0273 - acc: 0.9944 - val_loss: 0.4447 - val_acc: 0.9719\n",
            "Epoch 97/100\n",
            " - 1s - loss: 0.0269 - acc: 0.9945 - val_loss: 0.4308 - val_acc: 0.9730\n",
            "Epoch 98/100\n",
            " - 1s - loss: 0.0267 - acc: 0.9943 - val_loss: 0.4619 - val_acc: 0.9711\n",
            "Epoch 99/100\n",
            " - 1s - loss: 0.0262 - acc: 0.9946 - val_loss: 0.4486 - val_acc: 0.9719\n",
            "Epoch 100/100\n",
            " - 1s - loss: 0.0258 - acc: 0.9945 - val_loss: 0.4727 - val_acc: 0.9704\n"
          ],
          "name": "stdout"
        }
      ]
    },
    {
      "cell_type": "markdown",
      "metadata": {
        "id": "rvDDuUlHlkRR",
        "colab_type": "text"
      },
      "source": [
        "## **Plot the Fitting Result**"
      ]
    },
    {
      "cell_type": "code",
      "metadata": {
        "id": "VTfxkBQslgC7",
        "colab_type": "code",
        "colab": {}
      },
      "source": [
        "import matplotlib.pyplot as plt\n",
        "\n",
        "# Define functions to plot the loss and accuracy\n",
        "def plot_hist_loss(hist):\n",
        "  plt.figure()\n",
        "  plt.plot(hist.history['loss'], 'b', linewidth=1.5)\n",
        "  plt.plot(hist.history['val_loss'], 'r', linewidth=1.5)\n",
        "  plt.legend(['Training set','Testing set'])\n",
        "  plt.xlabel('Epochs')\n",
        "  plt.ylabel('Loss')\n",
        "\n",
        "def plot_accuracy(hist):\n",
        "  plt.figure()\n",
        "  plt.plot(hist.history['acc'], 'b', linewidth = 1.5)\n",
        "  plt.plot(hist.history['val_acc'], 'r', linewidth = 1.5)\n",
        "  plt.legend(['Training set','Testing set'])\n",
        "  plt.xlabel('Epochs')\n",
        "  plt.ylabel('Accuracy')"
      ],
      "execution_count": 0,
      "outputs": []
    },
    {
      "cell_type": "code",
      "metadata": {
        "id": "iKKvaGxS3jYX",
        "colab_type": "code",
        "outputId": "377e9759-1af3-441b-a0ff-2c51c2461e10",
        "colab": {
          "base_uri": "https://localhost:8080/",
          "height": 549
        }
      },
      "source": [
        "plot_hist_loss(hist_ANN)\n",
        "plot_accuracy(hist_ANN)"
      ],
      "execution_count": 22,
      "outputs": [
        {
          "output_type": "display_data",
          "data": {
            "image/png": "[encoded data removed]",
            "text/plain": [
              "<Figure size 432x288 with 1 Axes>"
            ]
          },
          "metadata": {
            "tags": []
          }
        },
        {
          "output_type": "display_data",
          "data": {
            "image/png": "[encoded data removed]",
            "text/plain": [
              "<Figure size 432x288 with 1 Axes>"
            ]
          },
          "metadata": {
            "tags": []
          }
        }
      ]
    },
    {
      "cell_type": "markdown",
      "metadata": {
        "id": "fTnx4Ke0-5wx",
        "colab_type": "text"
      },
      "source": [
        "## **Assess the performance of a fitted model**\n",
        "\n"
      ]
    },
    {
      "cell_type": "markdown",
      "metadata": {
        "id": "OW3ed_QJ0oNi",
        "colab_type": "text"
      },
      "source": [
        "There are various measurements of the performance of the fitted models in classification problems.\n",
        "*   Loss function and the accuracy;\n",
        "*   Confusion matrix. "
      ]
    },
    {
      "cell_type": "code",
      "metadata": {
        "id": "JfACgwxC-45m",
        "colab_type": "code",
        "outputId": "996c795f-eb13-451b-f83a-3f54773c58cd",
        "colab": {
          "base_uri": "https://localhost:8080/",
          "height": 85
        }
      },
      "source": [
        "score =  model.evaluate(X_test, Y_test)\n",
        "print(model.metrics_names)\n",
        "print('Test ' + model.metrics_names[0] , score[0])\n",
        "print('Test '+ model.metrics_names[1] , score[1])"
      ],
      "execution_count": 24,
      "outputs": [
        {
          "output_type": "stream",
          "text": [
            "10000/10000 [==============================] - 0s 35us/step\n",
            "['loss', 'acc']\n",
            "Test loss 0.5302857175220242\n",
            "Test acc 0.9671\n"
          ],
          "name": "stdout"
        }
      ]
    },
    {
      "cell_type": "code",
      "metadata": {
        "id": "TVKmyfeG5_gS",
        "colab_type": "code",
        "outputId": "5bd7e2d1-7fac-4d26-f592-b86c55d572b2",
        "colab": {
          "base_uri": "https://localhost:8080/",
          "height": 51
        }
      },
      "source": [
        "from sklearn.metrics import confusion_matrix\n",
        "\n",
        "Y_test_prob_pred = model.predict(X_test)\n",
        "Y_test_class_pred = model.predict_classes(X_test)\n",
        "print(Y_test_class_pred)\n",
        "print(y_test)\n",
        "cm = confusion_matrix( y_test, Y_test_class_pred )\n",
        "labels = np.arange(10)"
      ],
      "execution_count": 25,
      "outputs": [
        {
          "output_type": "stream",
          "text": [
            "[7 2 1 ... 4 5 6]\n",
            "[7 2 1 ... 4 5 6]\n"
          ],
          "name": "stdout"
        }
      ]
    },
    {
      "cell_type": "code",
      "metadata": {
        "id": "jnmn95ei2zrD",
        "colab_type": "code",
        "outputId": "7bd6f8ab-7684-47bc-da07-d11541db1bd2",
        "colab": {
          "base_uri": "https://localhost:8080/",
          "height": 1319
        }
      },
      "source": [
        "import itertools  \n",
        "def plot_confusion_matrix(cm, classes,\n",
        "                          normalize=False,\n",
        "                          title='Confusion matrix',\n",
        "                          cmap=plt.cm.Blues):\n",
        "    \"\"\"\n",
        "    This function prints and plots the confusion matrix.\n",
        "    Normalization can be applied by setting `normalize=True`.\n",
        "    \"\"\"\n",
        "    if normalize:\n",
        "        cm = cm.astype('float') / cm.sum(axis=1)[:, np.newaxis]\n",
        "        print(\"Normalized confusion matrix\")\n",
        "    else:\n",
        "        print('Confusion matrix, without normalization')\n",
        "\n",
        "    print(cm)\n",
        "\n",
        "    plt.imshow(cm, interpolation='nearest', cmap=cmap)\n",
        "    plt.title(title)\n",
        "    plt.colorbar()\n",
        "    tick_marks = np.arange(len(classes))\n",
        "    plt.xticks(tick_marks, classes, rotation=45)\n",
        "    plt.yticks(tick_marks, classes)\n",
        "\n",
        "    fmt = '.2f' if normalize else 'd'\n",
        "    thresh = cm.max() / 2.\n",
        "    for i, j in itertools.product(range(cm.shape[0]), range(cm.shape[1])):\n",
        "        plt.text(j, i, format(cm[i, j], fmt),\n",
        "                 horizontalalignment=\"center\",\n",
        "                 color=\"white\" if cm[i, j] > thresh else \"black\")\n",
        "\n",
        "    plt.tight_layout()\n",
        "    plt.ylabel('True label')\n",
        "    plt.xlabel('Predicted label')\n",
        "    plt.grid(b = 0)\n",
        "\n",
        "## The code for the function plot_confusion_matrix() is attributed to http://scikit-learn.org/stable/auto_examples/model_selection/plot_confusion_matrix.html\n",
        "\n",
        "# Plot non-normalized confusion matrix\n",
        "plt.figure()\n",
        "plot_confusion_matrix(cm, classes=list(map(str, labels)), title='Confusion matrix, without normalization')\n",
        "plt.figure()\n",
        "plot_confusion_matrix(cm, classes=list(map(str, labels)), normalize=True, title='Normalized confusion matrix')\n"
      ],
      "execution_count": 26,
      "outputs": [
        {
          "output_type": "execute_result",
          "data": {
            "text/plain": [
              "<Figure size 432x288 with 0 Axes>"
            ]
          },
          "metadata": {
            "tags": []
          },
          "execution_count": 26
        },
        {
          "output_type": "stream",
          "text": [
            "Confusion matrix, without normalization\n",
            "[[ 970    2    1    2    0    0    2    1    1    1]\n",
            " [   0 1127    1    3    0    1    1    1    1    0]\n",
            " [   6    2  998    5    4    1    3   11    2    0]\n",
            " [   0    3    5  975    1    5    0   11    1    9]\n",
            " [   3    2    2    1  954    0    6    7    1    6]\n",
            " [   6    0    1   11    1  858    6    2    4    3]\n",
            " [   7    3    1    1    3    8  931    3    1    0]\n",
            " [   1    5    8    4    1    0    1  999    0    9]\n",
            " [   6    6   13   15    4   10    5   12  896    7]\n",
            " [   1    8    0    6   10    4    2   14    1  963]]\n"
          ],
          "name": "stdout"
        },
        {
          "output_type": "execute_result",
          "data": {
            "text/plain": [
              "<Figure size 432x288 with 0 Axes>"
            ]
          },
          "metadata": {
            "tags": []
          },
          "execution_count": 26
        },
        {
          "output_type": "stream",
          "text": [
            "Normalized confusion matrix\n",
            "[[9.89795918e-01 2.04081633e-03 1.02040816e-03 2.04081633e-03\n",
            "  0.00000000e+00 0.00000000e+00 2.04081633e-03 1.02040816e-03\n",
            "  1.02040816e-03 1.02040816e-03]\n",
            " [0.00000000e+00 9.92951542e-01 8.81057269e-04 2.64317181e-03\n",
            "  0.00000000e+00 8.81057269e-04 8.81057269e-04 8.81057269e-04\n",
            "  8.81057269e-04 0.00000000e+00]\n",
            " [5.81395349e-03 1.93798450e-03 9.67054264e-01 4.84496124e-03\n",
            "  3.87596899e-03 9.68992248e-04 2.90697674e-03 1.06589147e-02\n",
            "  1.93798450e-03 0.00000000e+00]\n",
            " [0.00000000e+00 2.97029703e-03 4.95049505e-03 9.65346535e-01\n",
            "  9.90099010e-04 4.95049505e-03 0.00000000e+00 1.08910891e-02\n",
            "  9.90099010e-04 8.91089109e-03]\n",
            " [3.05498982e-03 2.03665988e-03 2.03665988e-03 1.01832994e-03\n",
            "  9.71486762e-01 0.00000000e+00 6.10997963e-03 7.12830957e-03\n",
            "  1.01832994e-03 6.10997963e-03]\n",
            " [6.72645740e-03 0.00000000e+00 1.12107623e-03 1.23318386e-02\n",
            "  1.12107623e-03 9.61883408e-01 6.72645740e-03 2.24215247e-03\n",
            "  4.48430493e-03 3.36322870e-03]\n",
            " [7.30688935e-03 3.13152401e-03 1.04384134e-03 1.04384134e-03\n",
            "  3.13152401e-03 8.35073069e-03 9.71816284e-01 3.13152401e-03\n",
            "  1.04384134e-03 0.00000000e+00]\n",
            " [9.72762646e-04 4.86381323e-03 7.78210117e-03 3.89105058e-03\n",
            "  9.72762646e-04 0.00000000e+00 9.72762646e-04 9.71789883e-01\n",
            "  0.00000000e+00 8.75486381e-03]\n",
            " [6.16016427e-03 6.16016427e-03 1.33470226e-02 1.54004107e-02\n",
            "  4.10677618e-03 1.02669405e-02 5.13347023e-03 1.23203285e-02\n",
            "  9.19917864e-01 7.18685832e-03]\n",
            " [9.91080278e-04 7.92864222e-03 0.00000000e+00 5.94648167e-03\n",
            "  9.91080278e-03 3.96432111e-03 1.98216056e-03 1.38751239e-02\n",
            "  9.91080278e-04 9.54410307e-01]]\n"
          ],
          "name": "stdout"
        },
        {
          "output_type": "display_data",
          "data": {
            "image/png": "[encoded data removed]",
            "text/plain": [
              "<Figure size 432x288 with 2 Axes>"
            ]
          },
          "metadata": {
            "tags": []
          }
        },
        {
          "output_type": "display_data",
          "data": {
            "image/png": "[encoded data removed]",
            "text/plain": [
              "<Figure size 432x288 with 2 Axes>"
            ]
          },
          "metadata": {
            "tags": []
          }
        }
      ]
    }
  ]
}
