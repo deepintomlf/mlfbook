{
  "nbformat": 4,
  "nbformat_minor": 0,
  "metadata": {
    "colab": {
      "name": "Regularization.ipynb",
      "version": "0.3.2",
      "provenance": [],
      "collapsed_sections": [],
      "include_colab_link": true
    },
    "kernelspec": {
      "name": "python3",
      "display_name": "Python 3"
    }
  },
  "cells": [
    {
      "cell_type": "markdown",
      "metadata": {
        "id": "view-in-github",
        "colab_type": "text"
      },
      "source": [
        "<a href=\"https://colab.research.google.com/github/deepintomlf/mlfbook/blob/master/Chapter3_LinearRegression/%E7%BA%BF%E6%80%A7%E5%9B%9E%E5%BD%92%E5%92%8C%E6%AD%A3%E5%88%99%E5%8C%96.ipynb\" target=\"_parent\"><img src=\"https://colab.research.google.com/assets/colab-badge.svg\" alt=\"Open In Colab\"/></a>"
      ]
    },
    {
      "cell_type": "code",
      "metadata": {
        "id": "eoKGFNlK2iQ-",
        "colab_type": "code",
        "colab": {}
      },
      "source": [
        "import numpy as np\n",
        "import matplotlib\n",
        "import matplotlib.pyplot as plt\n",
        "import sklearn\n",
        "from google.colab import files"
      ],
      "execution_count": 0,
      "outputs": []
    },
    {
      "cell_type": "code",
      "metadata": {
        "id": "JfBwdO0XyIss",
        "colab_type": "code",
        "outputId": "0a690232-e363-4d22-f10b-14324add2782",
        "colab": {
          "base_uri": "https://localhost:8080/",
          "height": 238
        }
      },
      "source": [
        "# fix the random seed\n",
        "\n",
        "np.random.seed(42)\n",
        "\n",
        "# Prepare for the data\n",
        "# Simulate the data set based on the following model:\n",
        "# In this example, y = 1.0 x1 + 3*x5+2.7*x10 + e\n",
        "mu, sigma = 0, 0.5 # mean and standard deviation\n",
        "N = 1200 # N: number of samples\n",
        "d = 800 # d: the input dim\n",
        "X = np.random.normal(mu, sigma, [N, d])\n",
        "eps = np.random.normal(0, 0.5, [N, 1])\n",
        "beta = np.zeros([d, 1], float)\n",
        "beta[np.array([1, 5, 10]),0]  =  [1.0, 3.0, 2.7]\n",
        "Y = np.dot(X, beta) + eps\n",
        "Y_actual = np.dot(X, beta)\n",
        "print(X)\n",
        "#print(beta.T)\n",
        "#print(np.shape(Y))"
      ],
      "execution_count": 0,
      "outputs": [
        {
          "output_type": "stream",
          "text": [
            "[[ 0.24835708 -0.06913215  0.32384427 ...  0.34075035  0.01415919\n",
            "   0.01487807]\n",
            " [ 0.4691419  -0.25802236  0.04806039 ...  1.02874773  0.01039685\n",
            "  -0.36400147]\n",
            " [-0.09144822  0.68743821 -0.32298209 ... -0.50197869  0.10363366\n",
            "   0.03467217]\n",
            " ...\n",
            " [ 0.04569438  0.37424552 -0.12820743 ... -0.37911303  0.66784089\n",
            "  -0.52472939]\n",
            " [ 0.94704328  0.2116135   0.26461996 ...  0.28290149  0.16413502\n",
            "   0.31588123]\n",
            " [-0.53970295 -0.05359158 -0.02710263 ... -0.05588972  0.60152995\n",
            "   0.20259801]]\n"
          ],
          "name": "stdout"
        }
      ]
    },
    {
      "cell_type": "code",
      "metadata": {
        "id": "lxUee40r2CEc",
        "colab_type": "code",
        "colab": {}
      },
      "source": [
        "# Split the dataset into the training set and testing set\n",
        "from sklearn.model_selection import train_test_split\n",
        "\n",
        "X_train, X_test, Y_train, Y_test= train_test_split(X, Y, test_size = 0.2)\n",
        "\n",
        "Y_actual_train = np.dot( X_train, beta) \n",
        "Y_actual_test =  np.dot(X_test, beta)"
      ],
      "execution_count": 0,
      "outputs": []
    },
    {
      "cell_type": "markdown",
      "metadata": {
        "id": "jE34uJL0LZUk",
        "colab_type": "text"
      },
      "source": [
        "# Linear **Regression**"
      ]
    },
    {
      "cell_type": "code",
      "metadata": {
        "id": "PpmaOZuZ2gI2",
        "colab_type": "code",
        "outputId": "e0c734c7-2d8f-4194-f73d-7aa6ccef1ab7",
        "colab": {
          "base_uri": "https://localhost:8080/",
          "height": 348
        }
      },
      "source": [
        "from sklearn.metrics import r2_score, mean_squared_error\n",
        "# Select a linear model\n",
        "from sklearn import linear_model\n",
        "model = sklearn.linear_model.LinearRegression()\n",
        "\n",
        "# Train the linear model\n",
        "model.fit(X_train, Y_train)\n",
        "Y_test_pred = model.predict(X_test)\n",
        "plt.scatter(Y_actual_test, Y_test_pred, color='b')\n",
        "plt.plot(Y_actual_test, Y_actual_test, color='r')\n",
        "plt.xticks(fontsize=16)\n",
        "plt.yticks(fontsize=16)\n",
        "plt.tight_layout()\n",
        "plt.savefig('SparseLinearModelLS.png')\n",
        "files.download('SparseLinearModelLS.png')\n",
        "print(np.shape(Y_train))\n",
        "print(\"r^2 on test data : %f\" % r2_score(Y_test, Y_test_pred))\n",
        "print(\"rmse on test data : %f\" % np.sqrt(mean_squared_error(Y_test, Y_test_pred)))"
      ],
      "execution_count": 0,
      "outputs": [
        {
          "output_type": "stream",
          "text": [
            "(960, 1)\n",
            "r^2 on test data : 0.656088\n",
            "rmse on test data : 1.261403\n"
          ],
          "name": "stdout"
        },
        {
          "output_type": "display_data",
          "data": {
            "image/png": "[encoded data removed]",
            "text/plain": [
              "<Figure size 432x288 with 1 Axes>"
            ]
          },
          "metadata": {
            "tags": []
          }
        }
      ]
    },
    {
      "cell_type": "markdown",
      "metadata": {
        "id": "nO42BvfHLNO0",
        "colab_type": "text"
      },
      "source": [
        "# **Lasso Regression**"
      ]
    },
    {
      "cell_type": "code",
      "metadata": {
        "id": "ZINKZ44Y6jOU",
        "colab_type": "code",
        "outputId": "bbf4d131-981a-4e27-c53b-33a95d035320",
        "colab": {
          "base_uri": "https://localhost:8080/",
          "height": 385
        }
      },
      "source": [
        "from sklearn.linear_model import Lasso, LassoCV\n",
        "from sklearn.feature_selection import SelectFromModel\n",
        "\n",
        "lassocv = LassoCV(cv=20).fit(X_train, Y_train)\n",
        "Y_test_pred_Lasso = lassocv.predict(X_test)\n",
        "plt.scatter(Y_actual_test, Y_test_pred_Lasso, color='b')\n",
        "plt.plot(Y_actual_test, Y_actual_test, color='r')\n",
        "plt.xticks(fontsize=16)\n",
        "plt.yticks(fontsize=16)\n",
        "plt.tight_layout()\n",
        "plt.savefig('SparseLinearModelLasso.png')\n",
        "files.download('SparseLinearModelLasso.png')\n",
        "r2_score_lasso = r2_score(Y_test, Y_test_pred_Lasso)\n",
        "\n",
        "print(\"r^2 on test data : %f\" % r2_score_lasso)\n",
        "print(\"rmse on test data : %f\" % np.sqrt(mean_squared_error(Y_test, Y_test_pred_Lasso)))\n"
      ],
      "execution_count": 0,
      "outputs": [
        {
          "output_type": "stream",
          "text": [
            "/usr/local/lib/python3.6/dist-packages/sklearn/linear_model/coordinate_descent.py:1109: DataConversionWarning: A column-vector y was passed when a 1d array was expected. Please change the shape of y to (n_samples, ), for example using ravel().\n",
            "  y = column_or_1d(y, warn=True)\n"
          ],
          "name": "stderr"
        },
        {
          "output_type": "stream",
          "text": [
            "r^2 on test data : 0.946101\n",
            "rmse on test data : 0.499367\n"
          ],
          "name": "stdout"
        },
        {
          "output_type": "display_data",
          "data": {
            "image/png": "[encoded data removed]",
            "text/plain": [
              "<Figure size 432x288 with 1 Axes>"
            ]
          },
          "metadata": {
            "tags": []
          }
        }
      ]
    },
    {
      "cell_type": "code",
      "metadata": {
        "id": "DURk4rXAQFR9",
        "colab_type": "code",
        "outputId": "2e0c243d-4314-4de0-e133-4db369079c4b",
        "colab": {
          "base_uri": "https://localhost:8080/",
          "height": 399
        }
      },
      "source": [
        "## Print the fitting results\n",
        "print(lassocv.alpha_)\n",
        "coef = lassocv.coef_\n",
        "print(np.shape(coef))\n",
        "non_zero_coef_index = np.where(np.abs(coef)> 0)\n",
        "print(non_zero_coef_index)\n",
        "plt.scatter(non_zero_coef_index, coef[non_zero_coef_index], color='b', s=5)\n",
        "plt.xticks(fontsize=12)\n",
        "plt.yticks(fontsize=12)\n",
        "plt.tight_layout()\n",
        "plt.savefig('Lasso.png')\n",
        "files.download('Lasso.png')\n"
      ],
      "execution_count": 0,
      "outputs": [
        {
          "output_type": "stream",
          "text": [
            "0.015597830979571955\n",
            "(800,)\n",
            "(array([  1,   5,  10,  31,  43,  68, 114, 131, 134, 156, 164, 185, 209,\n",
            "       226, 243, 258, 263, 265, 276, 302, 336, 356, 368, 395, 396, 426,\n",
            "       434, 440, 452, 453, 457, 481, 519, 560, 585, 596, 627, 646, 655,\n",
            "       663, 770, 792]),)\n"
          ],
          "name": "stdout"
        },
        {
          "output_type": "display_data",
          "data": {
            "image/png": "[encoded data removed]",
            "text/plain": [
              "<Figure size 432x288 with 1 Axes>"
            ]
          },
          "metadata": {
            "tags": []
          }
        }
      ]
    },
    {
      "cell_type": "markdown",
      "metadata": {
        "id": "KkhACGywFiUq",
        "colab_type": "toc"
      },
      "source": [
        "# **Ridge Regression**"
      ]
    },
    {
      "cell_type": "code",
      "metadata": {
        "id": "90SfzWR0FaX9",
        "colab_type": "code",
        "outputId": "fc5941e9-b6a7-4007-c852-990d7dd63131",
        "colab": {
          "base_uri": "https://localhost:8080/",
          "height": 331
        }
      },
      "source": [
        "from sklearn.linear_model import RidgeCV\n",
        "ridgecv = RidgeCV().fit(X_train, Y_train)\n",
        "\n",
        "Y_test_pred_Ridge = ridgecv.predict(X_test)\n",
        "plt.scatter(Y_actual_test, Y_test_pred_Ridge, color='b')\n",
        "plt.plot(Y_actual_test, Y_actual_test, color ='r')\n",
        "r2_score_lasso = r2_score(Y_test, Y_test_pred_Ridge)\n",
        "plt.xticks(fontsize=16)\n",
        "plt.yticks(fontsize=16)\n",
        "plt.tight_layout()\n",
        "plt.savefig('SparseLinearModelRidge.png')\n",
        "files.download('SparseLinearModelRidge.png')\n",
        "print(\"r^2 on test data : %f\" % r2_score_lasso)\n",
        "print(\"rmse on test data : %f\" % np.sqrt(mean_squared_error(Y_test, Y_test_pred_Ridge)))"
      ],
      "execution_count": 0,
      "outputs": [
        {
          "output_type": "stream",
          "text": [
            "r^2 on test data : 0.819723\n",
            "rmse on test data : 0.913273\n"
          ],
          "name": "stdout"
        },
        {
          "output_type": "display_data",
          "data": {
            "image/png": "[encoded data removed]",
            "text/plain": [
              "<Figure size 432x288 with 1 Axes>"
            ]
          },
          "metadata": {
            "tags": []
          }
        }
      ]
    },
    {
      "cell_type": "code",
      "metadata": {
        "id": "T1DQ94TjIGXD",
        "colab_type": "code",
        "outputId": "38c73bc5-9e18-40a9-f660-668fa5a115fd",
        "colab": {
          "base_uri": "https://localhost:8080/",
          "height": 331
        }
      },
      "source": [
        "print(ridgecv.alpha_)\n",
        "coef = ridgecv.coef_\n",
        "print(np.shape(coef)) \n",
        "plt.scatter(np.arange(np.shape(coef)[1]), coef.T, color='b', s=5)\n",
        "plt.xticks(fontsize=12)\n",
        "plt.yticks(fontsize=12)\n",
        "plt.tight_layout()\n",
        "plt.savefig('Ridge.png')\n",
        "files.download('Ridge.png')"
      ],
      "execution_count": 0,
      "outputs": [
        {
          "output_type": "stream",
          "text": [
            "10.0\n",
            "(1, 800)\n"
          ],
          "name": "stdout"
        },
        {
          "output_type": "display_data",
          "data": {
            "image/png": "[encoded data removed]",
            "text/plain": [
              "<Figure size 432x288 with 1 Axes>"
            ]
          },
          "metadata": {
            "tags": []
          }
        }
      ]
    },
    {
      "cell_type": "markdown",
      "metadata": {
        "id": "EPlm9-VWLmZD",
        "colab_type": "text"
      },
      "source": [
        "# Elastic **Net**"
      ]
    },
    {
      "cell_type": "markdown",
      "metadata": {
        "id": "jRmDNEAjLv4y",
        "colab_type": "text"
      },
      "source": [
        "Homework: Left for you to finish."
      ]
    }
  ]
}