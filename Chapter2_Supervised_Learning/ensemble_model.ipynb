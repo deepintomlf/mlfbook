{
  "nbformat": 4,
  "nbformat_minor": 0,
  "metadata": {
    "colab": {
      "name": "ensemble_model.ipynb",
      "version": "0.3.2",
      "provenance": [],
      "collapsed_sections": [],
      "include_colab_link": true
    },
    "kernelspec": {
      "name": "python3",
      "display_name": "Python 3"
    }
  },
  "cells": [
    {
      "cell_type": "markdown",
      "metadata": {
        "id": "view-in-github",
        "colab_type": "text"
      },
      "source": [
        "<a href=\"https://colab.research.google.com/github/deepintomlf/mlfbook/blob/master/Chapter2_Supervised_Learning/ensemble_model.ipynb\" target=\"_parent\"><img src=\"https://colab.research.google.com/assets/colab-badge.svg\" alt=\"Open In Colab\"/></a>"
      ]
    },
    {
      "cell_type": "markdown",
      "metadata": {
        "id": "uwqP-r7Uh7Sg",
        "colab_type": "text"
      },
      "source": [
        "# **第二章 - 监督学习**"
      ]
    },
    {
      "cell_type": "markdown",
      "metadata": {
        "id": "QVpEbnIlikbn",
        "colab_type": "text"
      },
      "source": [
        "这个Jupyter笔记本包含了第二章的所有源代码."
      ]
    },
    {
      "cell_type": "code",
      "metadata": {
        "id": "n-gK9ZeHgE8C",
        "colab_type": "code",
        "colab": {}
      },
      "source": [
        "import numpy as np\n",
        "\n",
        "def weak_learner():\n",
        "    ''' 定义一个只有55%准确率的弱分类器 '''\n",
        "    n = np.random.randint(0, 100)\n",
        "    if n >= 45:\n",
        "        return 1\n",
        "    else:\n",
        "        return 0\n",
        "      \n",
        "def majority_voting(results:list):\n",
        "    ''' 定义多数投票法 '''\n",
        "    if results.count(1) > results.count(0):\n",
        "        majority_class = 1\n",
        "    else:\n",
        "        majority_class = 0\n",
        "    return majority_class\n",
        "\n",
        "def ensemble_model(learner, num_learners = 1000):\n",
        "    ''' 定义1000个弱分类器的集成模型 '''\n",
        "    all_results = []\n",
        "    for i in range(num_learners):\n",
        "        result = learner()\n",
        "        all_results.append(result)\n",
        "    return majority_voting(all_results)"
      ],
      "execution_count": 0,
      "outputs": []
    },
    {
      "cell_type": "code",
      "metadata": {
        "id": "jyz6ntW2it-P",
        "colab_type": "code",
        "colab": {
          "base_uri": "https://localhost:8080/",
          "height": 51
        },
        "outputId": "d2258a19-8ef3-40d0-8da2-a060da2093e9"
      },
      "source": [
        "# Simulate 10, 000 samples to approximate the accuracy\n",
        "num_samples = 10000\n",
        "all_weak_learner_results = []\n",
        "all_ensemble_model_results = []\n",
        "\n",
        "for i in range(num_samples):\n",
        "    weak_learner_result = weak_learner()\n",
        "    ensemble_model_result = ensemble_model(weak_learner)\n",
        "    all_weak_learner_results.append(weak_learner_result)\n",
        "    all_ensemble_model_results.append(ensemble_model_result)\n",
        "    weak_learner_accuracy = all_weak_learner_results.count(1)/num_samples\n",
        "    ensemble_model_accuracy = all_ensemble_model_results.count(1)/num_samples\n",
        "        \n",
        "print('The weak learner only achieves accuracy of', weak_learner_accuracy) \n",
        "print('The ensemble model achieves accuracy as high as', ensemble_model_accuracy)"
      ],
      "execution_count": 6,
      "outputs": [
        {
          "output_type": "stream",
          "text": [
            "The weak learner only achieves accuracy of 0.5519\n",
            "The ensemble model achieves accuracy as high as 0.9989\n"
          ],
          "name": "stdout"
        }
      ]
    },
    {
      "cell_type": "code",
      "metadata": {
        "id": "i8CtYp2tlYim",
        "colab_type": "code",
        "colab": {}
      },
      "source": [
        "\n",
        "num_learners_list = np.arange(1,1000,2)\n",
        "num_samples = 1000\n",
        "all_accuracy = []\n",
        "\n",
        "for i in num_learners_list:\n",
        "    np.random.seed(0)\n",
        " \n",
        "    all_ensemble_model_results = []\n",
        "    for j in range(num_samples):\n",
        "        ensemble_model_result = ensemble_model(weak_learner, i)\n",
        "        all_ensemble_model_results.append(ensemble_model_result)\n",
        "        ensemble_model_accuracy = all_ensemble_model_results.count(1)/num_samples\n",
        "    all_accuracy.append(ensemble_model_accuracy)"
      ],
      "execution_count": 0,
      "outputs": []
    },
    {
      "cell_type": "code",
      "metadata": {
        "id": "_j4xkQ01h76P",
        "colab_type": "code",
        "colab": {
          "base_uri": "https://localhost:8080/",
          "height": 409
        },
        "outputId": "d36545fb-f64a-432a-bb28-505ee4a6ec06"
      },
      "source": [
        "import matplotlib.pyplot as plt\n",
        "\n",
        "plt.figure(figsize = (9, 6))\n",
        "plt.plot(num_learners_list, all_accuracy, 'b', linewidth = 2)\n",
        "plt.xlabel('Number of Learners')\n",
        "plt.ylabel('Accuracy')"
      ],
      "execution_count": 8,
      "outputs": [
        {
          "output_type": "execute_result",
          "data": {
            "text/plain": [
              "Text(0, 0.5, 'Accuracy')"
            ]
          },
          "metadata": {
            "tags": []
          },
          "execution_count": 8
        },
        {
          "output_type": "display_data",
          "data": {
            "image/png": "[encoded data removed]",
            "text/plain": [
              "<Figure size 648x432 with 1 Axes>"
            ]
          },
          "metadata": {
            "tags": []
          }
        }
      ]
    }
  ]
}