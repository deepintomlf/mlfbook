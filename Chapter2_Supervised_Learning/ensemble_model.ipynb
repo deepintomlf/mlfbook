{
  "nbformat": 4,
  "nbformat_minor": 0,
  "metadata": {
    "colab": {
      "name": "ensemble_model.ipynb",
      "provenance": [],
      "collapsed_sections": [],
      "include_colab_link": true
    },
    "kernelspec": {
      "name": "python3",
      "display_name": "Python 3"
    }
  },
  "cells": [
    {
      "cell_type": "markdown",
      "metadata": {
        "id": "view-in-github",
        "colab_type": "text"
      },
      "source": [
        "<a href=\"https://colab.research.google.com/github/deepintomlf/mlfbook/blob/master/Chapter2_Supervised_Learning/ensemble_model.ipynb\" target=\"_parent\"><img src=\"https://colab.research.google.com/assets/colab-badge.svg\" alt=\"Open In Colab\"/></a>"
      ]
    },
    {
      "cell_type": "markdown",
      "metadata": {
        "id": "uwqP-r7Uh7Sg",
        "colab_type": "text"
      },
      "source": [
        "# **第二章 - 监督学习**"
      ]
    },
    {
      "cell_type": "markdown",
      "metadata": {
        "id": "QVpEbnIlikbn",
        "colab_type": "text"
      },
      "source": [
        "这个Jupyter笔记本包含了第二章的所有源代码."
      ]
    },
    {
      "cell_type": "markdown",
      "metadata": {
        "id": "IVqjEf4CHb4z",
        "colab_type": "text"
      },
      "source": [
        "## **数值实验**"
      ]
    },
    {
      "cell_type": "markdown",
      "metadata": {
        "id": "ypf_d-jYP7y0",
        "colab_type": "text"
      },
      "source": [
        "### **预处理MNIST数据集**\n"
      ]
    },
    {
      "cell_type": "code",
      "metadata": {
        "id": "NuikcJcrHcbS",
        "colab_type": "code",
        "colab": {}
      },
      "source": [
        "import numpy as np\n",
        "from keras.datasets import mnist \n",
        "\n",
        "# 加载MNIST数据集\n",
        "(x_train, y_train), (x_test, y_test) = mnist.load_data()\n",
        "[n_samples_train, width, height] = np.shape(x_train)\n",
        "[n_samples_test, width, height] = np.shape(x_test)\n",
        "\n",
        "X_train = x_train.reshape([n_samples_train, width*height])\n",
        "X_test =x_test.reshape([n_samples_test, width*height])\n",
        "Y_train = (y_train==8)\n",
        "Y_test= (y_test==8)"
      ],
      "execution_count": 0,
      "outputs": []
    },
    {
      "cell_type": "code",
      "metadata": {
        "id": "aMgDmrgPHcgJ",
        "colab_type": "code",
        "colab": {
          "base_uri": "https://localhost:8080/",
          "height": 339
        },
        "outputId": "23dc5570-d438-4714-a128-d192339d7be4"
      },
      "source": [
        "import pandas as pd\n",
        "\n",
        "y_pd = pd.Series(Y_train)\n",
        "count_y = y_pd.value_counts().sort_index()\n",
        "count_y.plot(kind='bar');\n",
        "print(count_y)"
      ],
      "execution_count": 37,
      "outputs": [
        {
          "output_type": "stream",
          "text": [
            "False    54149\n",
            "True      5851\n",
            "dtype: int64\n"
          ],
          "name": "stdout"
        },
        {
          "output_type": "display_data",
          "data": {
            "image/png": "[encoded data removed]",
            "text/plain": [
              "<Figure size 432x288 with 1 Axes>"
            ]
          },
          "metadata": {
            "tags": []
          }
        }
      ]
    },
    {
      "cell_type": "code",
      "metadata": {
        "id": "1Gdy2p53Hcij",
        "colab_type": "code",
        "colab": {
          "base_uri": "https://localhost:8080/",
          "height": 339
        },
        "outputId": "d03cbc33-7650-4baf-89a8-1777de8ce1f9"
      },
      "source": [
        "y_test_pd = pd.Series(Y_test)\n",
        "count_y_test = y_test_pd.value_counts().sort_index()\n",
        "count_y_test.plot(kind='bar');\n",
        "print(count_y_test)"
      ],
      "execution_count": 30,
      "outputs": [
        {
          "output_type": "stream",
          "text": [
            "False    9026\n",
            "True      974\n",
            "dtype: int64\n"
          ],
          "name": "stdout"
        },
        {
          "output_type": "display_data",
          "data": {
            "image/png": "[encoded data removed]",
            "text/plain": [
              "<Figure size 432x288 with 1 Axes>"
            ]
          },
          "metadata": {
            "tags": []
          }
        }
      ]
    },
    {
      "cell_type": "markdown",
      "metadata": {
        "id": "KRX1HXccMEUf",
        "colab_type": "text"
      },
      "source": [
        "### **使用Scikit-learn建立逻辑回归模型**"
      ]
    },
    {
      "cell_type": "code",
      "metadata": {
        "id": "GSwZaUKyHcnZ",
        "colab_type": "code",
        "colab": {
          "base_uri": "https://localhost:8080/",
          "height": 53
        },
        "outputId": "0f582fed-1bcd-47de-af7d-e9f2b0d66743"
      },
      "source": [
        "from sklearn.linear_model import LogisticRegression\n",
        "\n",
        "model = LogisticRegression(random_state=0, solver='lbfgs')\n",
        "clf = model.fit(X_train, Y_train)\n",
        "\n",
        "# 预测标签\n",
        "y_train_est = clf.predict(X_train)\n",
        "y_train_prob_est = clf.predict_proba(X_train)\n",
        "\n",
        "# 预测概率\n",
        "y_test_est = clf.predict(X_test)\n",
        "y_test_prob_est = clf.predict_proba(X_test)"
      ],
      "execution_count": 40,
      "outputs": [
        {
          "output_type": "stream",
          "text": [
            "/usr/local/lib/python3.6/dist-packages/sklearn/linear_model/logistic.py:947: ConvergenceWarning: lbfgs failed to converge. Increase the number of iterations.\n",
            "  \"of iterations.\", ConvergenceWarning)\n"
          ],
          "name": "stderr"
        }
      ]
    },
    {
      "cell_type": "code",
      "metadata": {
        "id": "XMGaiCWrH7k9",
        "colab_type": "code",
        "colab": {
          "base_uri": "https://localhost:8080/",
          "height": 532
        },
        "outputId": "02b9d743-7ca6-481a-804d-1b2345dbbfbc"
      },
      "source": [
        "temp = pd.DataFrame(y_train_prob_est)\n",
        "temp.columns = ['class 1 (non 8)', 'class 2 (digit 8)']\n",
        "print('conditional probability estimator')\n",
        "temp.head(15)"
      ],
      "execution_count": 53,
      "outputs": [
        {
          "output_type": "stream",
          "text": [
            "conditional probability estimator\n"
          ],
          "name": "stdout"
        },
        {
          "output_type": "execute_result",
          "data": {
            "text/html": [
              "<div>\n",
              "<style scoped>\n",
              "    .dataframe tbody tr th:only-of-type {\n",
              "        vertical-align: middle;\n",
              "    }\n",
              "\n",
              "    .dataframe tbody tr th {\n",
              "        vertical-align: top;\n",
              "    }\n",
              "\n",
              "    .dataframe thead th {\n",
              "        text-align: right;\n",
              "    }\n",
              "</style>\n",
              "<table border=\"1\" class=\"dataframe\">\n",
              "  <thead>\n",
              "    <tr style=\"text-align: right;\">\n",
              "      <th></th>\n",
              "      <th>class 1 (non 8)</th>\n",
              "      <th>class 2 (digit 8)</th>\n",
              "    </tr>\n",
              "  </thead>\n",
              "  <tbody>\n",
              "    <tr>\n",
              "      <th>0</th>\n",
              "      <td>0.999929</td>\n",
              "      <td>0.000071</td>\n",
              "    </tr>\n",
              "    <tr>\n",
              "      <th>1</th>\n",
              "      <td>0.999096</td>\n",
              "      <td>0.000904</td>\n",
              "    </tr>\n",
              "    <tr>\n",
              "      <th>2</th>\n",
              "      <td>0.999970</td>\n",
              "      <td>0.000030</td>\n",
              "    </tr>\n",
              "    <tr>\n",
              "      <th>3</th>\n",
              "      <td>0.877981</td>\n",
              "      <td>0.122019</td>\n",
              "    </tr>\n",
              "    <tr>\n",
              "      <th>4</th>\n",
              "      <td>0.999048</td>\n",
              "      <td>0.000952</td>\n",
              "    </tr>\n",
              "    <tr>\n",
              "      <th>5</th>\n",
              "      <td>0.982514</td>\n",
              "      <td>0.017486</td>\n",
              "    </tr>\n",
              "    <tr>\n",
              "      <th>6</th>\n",
              "      <td>0.993879</td>\n",
              "      <td>0.006121</td>\n",
              "    </tr>\n",
              "    <tr>\n",
              "      <th>7</th>\n",
              "      <td>0.918145</td>\n",
              "      <td>0.081855</td>\n",
              "    </tr>\n",
              "    <tr>\n",
              "      <th>8</th>\n",
              "      <td>0.962651</td>\n",
              "      <td>0.037349</td>\n",
              "    </tr>\n",
              "    <tr>\n",
              "      <th>9</th>\n",
              "      <td>0.993038</td>\n",
              "      <td>0.006962</td>\n",
              "    </tr>\n",
              "    <tr>\n",
              "      <th>10</th>\n",
              "      <td>0.995717</td>\n",
              "      <td>0.004283</td>\n",
              "    </tr>\n",
              "    <tr>\n",
              "      <th>11</th>\n",
              "      <td>0.345118</td>\n",
              "      <td>0.654882</td>\n",
              "    </tr>\n",
              "    <tr>\n",
              "      <th>12</th>\n",
              "      <td>0.999995</td>\n",
              "      <td>0.000005</td>\n",
              "    </tr>\n",
              "    <tr>\n",
              "      <th>13</th>\n",
              "      <td>0.999986</td>\n",
              "      <td>0.000014</td>\n",
              "    </tr>\n",
              "    <tr>\n",
              "      <th>14</th>\n",
              "      <td>0.931200</td>\n",
              "      <td>0.068800</td>\n",
              "    </tr>\n",
              "  </tbody>\n",
              "</table>\n",
              "</div>"
            ],
            "text/plain": [
              "    class 1 (non 8)  class 2 (digit 8)\n",
              "0          0.999929           0.000071\n",
              "1          0.999096           0.000904\n",
              "2          0.999970           0.000030\n",
              "3          0.877981           0.122019\n",
              "4          0.999048           0.000952\n",
              "5          0.982514           0.017486\n",
              "6          0.993879           0.006121\n",
              "7          0.918145           0.081855\n",
              "8          0.962651           0.037349\n",
              "9          0.993038           0.006962\n",
              "10         0.995717           0.004283\n",
              "11         0.345118           0.654882\n",
              "12         0.999995           0.000005\n",
              "13         0.999986           0.000014\n",
              "14         0.931200           0.068800"
            ]
          },
          "metadata": {
            "tags": []
          },
          "execution_count": 53
        }
      ]
    },
    {
      "cell_type": "code",
      "metadata": {
        "id": "Y2S9Bhz7H7ga",
        "colab_type": "code",
        "colab": {}
      },
      "source": [
        "temp = pd.Series(y_test_prob_est[1])\n",
        "temp.head()"
      ],
      "execution_count": 0,
      "outputs": []
    },
    {
      "cell_type": "code",
      "metadata": {
        "id": "LgwxQeVLH7it",
        "colab_type": "code",
        "colab": {}
      },
      "source": [
        "temp1 = pd.DataFrame(y_train_est)\n",
        "temp1.columns = ['class 1 (non 8)']\t\n",
        "print('estimated output')\n",
        "temp1.head(15)"
      ],
      "execution_count": 0,
      "outputs": []
    },
    {
      "cell_type": "markdown",
      "metadata": {
        "id": "Q_308mcdNtt-",
        "colab_type": "text"
      },
      "source": [
        "### **输出混淆矩阵**"
      ]
    },
    {
      "cell_type": "code",
      "metadata": {
        "id": "xvxGazo_H7na",
        "colab_type": "code",
        "colab": {
          "base_uri": "https://localhost:8080/",
          "height": 53
        },
        "outputId": "3239f68c-a1e2-4771-858b-8ef73a540244"
      },
      "source": [
        "from sklearn.metrics import confusion_matrix\n",
        "\n",
        "# Y_test和y_test_est分别表示真实标签和预测标签\n",
        "cm = confusion_matrix(Y_test, y_test_est)\n",
        "print('confusion matrix is {}'.format(cm))"
      ],
      "execution_count": 49,
      "outputs": [
        {
          "output_type": "stream",
          "text": [
            "confusion matrix is [[8810  216]\n",
            " [ 319  655]]\n"
          ],
          "name": "stdout"
        }
      ]
    },
    {
      "cell_type": "markdown",
      "metadata": {
        "id": "UxQofoLIKyR2",
        "colab_type": "text"
      },
      "source": [
        "### **计算准确率、精确率、召回率**"
      ]
    },
    {
      "cell_type": "code",
      "metadata": {
        "id": "sRwMA5MyH7b7",
        "colab_type": "code",
        "colab": {
          "base_uri": "https://localhost:8080/",
          "height": 53
        },
        "outputId": "46a3d450-1d9b-4845-ef2b-887ad89f89c5"
      },
      "source": [
        "from sklearn.metrics import accuracy_score\n",
        "\n",
        "acc_train = accuracy_score(Y_train, y_train_est)\n",
        "acc_test = accuracy_score(Y_test, y_test_est)\n",
        "print('accuracy of the train set= {}'.format(acc_train))\n",
        "print('accuracy of the testing set= {}'.format(acc_test))"
      ],
      "execution_count": 50,
      "outputs": [
        {
          "output_type": "stream",
          "text": [
            "accuracy of the train set= 0.95065\n",
            "accuracy of the testing set= 0.9465\n"
          ],
          "name": "stdout"
        }
      ]
    },
    {
      "cell_type": "code",
      "metadata": {
        "id": "fddQTReMH7eT",
        "colab_type": "code",
        "colab": {
          "base_uri": "https://localhost:8080/",
          "height": 53
        },
        "outputId": "c167b97a-cb97-4154-87ff-49c984c10138"
      },
      "source": [
        "from sklearn.metrics import precision_score, recall_score\n",
        "\n",
        "precision = precision_score(Y_test, y_test_est)\n",
        "recall = recall_score(Y_test, y_test_est)\n",
        "print(precision)\n",
        "print(recall)"
      ],
      "execution_count": 51,
      "outputs": [
        {
          "output_type": "stream",
          "text": [
            "0.7520091848450058\n",
            "0.6724845995893224\n"
          ],
          "name": "stdout"
        }
      ]
    },
    {
      "cell_type": "markdown",
      "metadata": {
        "id": "8iCwRktaRHJj",
        "colab_type": "text"
      },
      "source": [
        "### **绘制PR曲线**"
      ]
    },
    {
      "cell_type": "code",
      "metadata": {
        "id": "8aHq-PrnIDJ7",
        "colab_type": "code",
        "colab": {
          "base_uri": "https://localhost:8080/",
          "height": 299
        },
        "outputId": "13e2edaf-51ce-451b-b56d-b88ec8b37e24"
      },
      "source": [
        "import matplotlib.pyplot as plt\n",
        "from sklearn.metrics import precision_recall_curve\n",
        "\n",
        "precisions, recalls, thresholds = precision_recall_curve(Y_test, y_test_prob_est[:,1])\n",
        "plt.plot(precisions, recalls, 'b')\n",
        "plt.xlabel('precision', fontsize=14)\n",
        "plt.ylabel('recall', fontsize=14)\n",
        "plt.title('PR Curve')\n",
        "plt.axis([0, 1, 0, 1])\n",
        "plt.savefig('binary_classfication_PR_curve.png')"
      ],
      "execution_count": 52,
      "outputs": [
        {
          "output_type": "display_data",
          "data": {
            "image/png": "[encoded data removed]",
            "text/plain": [
              "<Figure size 432x288 with 1 Axes>"
            ]
          },
          "metadata": {
            "tags": []
          }
        }
      ]
    },
    {
      "cell_type": "markdown",
      "metadata": {
        "id": "TluwjsICRJur",
        "colab_type": "text"
      },
      "source": [
        "### **绘制ROC曲线**"
      ]
    },
    {
      "cell_type": "code",
      "metadata": {
        "id": "AxvZzysgIDO8",
        "colab_type": "code",
        "colab": {
          "base_uri": "https://localhost:8080/",
          "height": 317
        },
        "outputId": "b9aaece7-2d2e-4a71-b0cc-bda8a7180570"
      },
      "source": [
        "from sklearn.metrics import roc_curve, roc_auc_score\n",
        "\n",
        "fps, tps, thresholds = roc_curve(Y_test, y_test_prob_est[:,1])\n",
        "roc_auc_score_train = roc_auc_score(Y_test, y_test_prob_est[:,1])\n",
        "\n",
        "print('roc auc score = {}'.format(roc_auc_score_train))\n",
        "\n",
        "plt.plot(fps, tps, 'b')\n",
        "plt.xlabel('false positive rate', fontsize=14)\n",
        "plt.ylabel('true positive rate', fontsize=14)\n",
        "plt.title('ROC Curve')\n",
        "plt.axis([0, 1, 0, 1])\n",
        "plt.fill_between(fps, 0, tps, facecolor='lightblue', alpha=0.5)\n",
        "plt.text( 0.5, 0.8, ' auc = '+str(round(roc_auc_score_train, 4)), fontsize=14)\n",
        "plt.annotate(\"\", xy=(0.3, 0.7), xycoords='data', xytext=(0.5, 0.8), textcoords='data', \n",
        "             arrowprops=dict(arrowstyle=\"->\", connectionstyle=\"arc3\"), )\n",
        "plt.savefig('binary_classification_ROC_curve.png')"
      ],
      "execution_count": 68,
      "outputs": [
        {
          "output_type": "stream",
          "text": [
            "roc auc score = 0.9423430418444366\n"
          ],
          "name": "stdout"
        },
        {
          "output_type": "display_data",
          "data": {
            "image/png": "[encoded data removed]",
            "text/plain": [
              "<Figure size 432x288 with 1 Axes>"
            ]
          },
          "metadata": {
            "tags": []
          }
        }
      ]
    },
    {
      "cell_type": "markdown",
      "metadata": {
        "id": "pg9PgI-N9h_q",
        "colab_type": "text"
      },
      "source": [
        "## **集成方法**"
      ]
    },
    {
      "cell_type": "markdown",
      "metadata": {
        "id": "6afFtBATfxJH",
        "colab_type": "text"
      },
      "source": [
        "### **定义弱分类器和集成模型**"
      ]
    },
    {
      "cell_type": "code",
      "metadata": {
        "id": "n-gK9ZeHgE8C",
        "colab_type": "code",
        "colab": {}
      },
      "source": [
        "import numpy as np\n",
        "\n",
        "def weak_learner():\n",
        "    ''' 定义一个只有55%准确率的弱分类器 '''\n",
        "    n = np.random.randint(0, 100)\n",
        "    return (2 if n >=45 else 1)\n",
        "     \n",
        "def majority_voting(results:list):\n",
        "    ''' 定义多数投票法 '''\n",
        "    return (2 if results.count(2) >= results.count(1) else 1)\n",
        "\n",
        "def ensemble_model(learner, num_learners=1000):\n",
        "    ''' 定义1000个弱分类器的集成模型 '''\n",
        "    all_res = []\n",
        "    for i in range(num_learners):\n",
        "        res = learner()\n",
        "        all_res.append(res)\n",
        "    return majority_voting(all_res)"
      ],
      "execution_count": 0,
      "outputs": []
    },
    {
      "cell_type": "markdown",
      "metadata": {
        "id": "J0eRH3QDf1MV",
        "colab_type": "text"
      },
      "source": [
        "### **模拟单个弱分类器和集成模型的准确率**"
      ]
    },
    {
      "cell_type": "code",
      "metadata": {
        "id": "jyz6ntW2it-P",
        "colab_type": "code",
        "outputId": "97ecd9f1-e099-4da5-bc45-5df98ef0a672",
        "colab": {
          "base_uri": "https://localhost:8080/",
          "height": 53
        }
      },
      "source": [
        "# 模拟10, 000个样本\n",
        "num_samples = 10000\n",
        "all_weak_learner_res = []\n",
        "all_ensemble_model_res = []\n",
        "\n",
        "for i in range(num_samples):\n",
        "    weak_learner_res = weak_learner()\n",
        "    ensemble_model_res = ensemble_model(weak_learner)\n",
        "    all_weak_learner_res.append(weak_learner_res)\n",
        "    all_ensemble_model_res.append(ensemble_model_res)\n",
        "\n",
        "# 计算准确率\n",
        "weak_learner_acc, ensemble_model_acc = all_weak_learner_res.count(2)/num_samples, all_ensemble_model_res.count(2)/num_samples\n",
        "\n",
        "# 查看模拟结果\n",
        "print('The accuracy of the weak learner is only {}'.format(weak_learner_accuracy)) \n",
        "print('The ensemble model achieves accuracy as high as {}'.format(ensemble_model_accuracy))"
      ],
      "execution_count": 74,
      "outputs": [
        {
          "output_type": "stream",
          "text": [
            "The accuracy of the weak learner is only 0.5411\n",
            "The ensemble model achieves accuracy as high as 1.0\n"
          ],
          "name": "stdout"
        }
      ]
    },
    {
      "cell_type": "markdown",
      "metadata": {
        "id": "Cv3p_tlPf9Xu",
        "colab_type": "text"
      },
      "source": [
        "### **不同学习器数量的集成模型的准确率**"
      ]
    },
    {
      "cell_type": "code",
      "metadata": {
        "id": "i8CtYp2tlYim",
        "colab_type": "code",
        "colab": {}
      },
      "source": [
        "# 模拟不同弱分类器个数的集成模型的准确率\n",
        "num_learners = np.arange(1,1000,10)\n",
        "all_acc = []\n",
        "\n",
        "for i in num_learners:\n",
        "    np.random.seed(0)\n",
        "    num_samples = 1000\n",
        "    all_ensemble_model_res = []\n",
        "    for j in range(num_samples):\n",
        "        ensemble_model_res = ensemble_model(weak_learner, i)\n",
        "        all_ensemble_model_res.append(ensemble_model_res)\n",
        "        ensemble_model_acc = all_ensemble_model_res.count(2)/num_samples\n",
        "    all_acc.append(ensemble_model_acc)"
      ],
      "execution_count": 0,
      "outputs": []
    },
    {
      "cell_type": "code",
      "metadata": {
        "id": "_j4xkQ01h76P",
        "colab_type": "code",
        "outputId": "a2fffa97-eee6-45cc-d604-ae9be61b2379",
        "colab": {
          "base_uri": "https://localhost:8080/",
          "height": 410
        }
      },
      "source": [
        "import matplotlib.pyplot as plt\n",
        "\n",
        "# 绘制不同集成模型的准确率\n",
        "plt.figure(figsize = (9, 6))\n",
        "plt.plot(num_learners, all_acc, 'b', linewidth = 2)\n",
        "plt.xlabel('Number of Learners')\n",
        "plt.ylabel('Accuracy')"
      ],
      "execution_count": 15,
      "outputs": [
        {
          "output_type": "execute_result",
          "data": {
            "text/plain": [
              "Text(0, 0.5, 'Accuracy')"
            ]
          },
          "metadata": {
            "tags": []
          },
          "execution_count": 15
        },
        {
          "output_type": "display_data",
          "data": {
            "image/png": "[encoded data removed]",
            "text/plain": [
              "<Figure size 648x432 with 1 Axes>"
            ]
          },
          "metadata": {
            "tags": []
          }
        }
      ]
    }
  ]
}