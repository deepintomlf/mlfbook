{
  "nbformat": 4,
  "nbformat_minor": 0,
  "metadata": {
    "colab": {
      "name": "ensemble_model.ipynb",
      "version": "0.3.2",
      "provenance": [],
      "collapsed_sections": [],
      "include_colab_link": true
    },
    "kernelspec": {
      "name": "python3",
      "display_name": "Python 3"
    }
  },
  "cells": [
    {
      "cell_type": "markdown",
      "metadata": {
        "id": "view-in-github",
        "colab_type": "text"
      },
      "source": [
        "<a href=\"https://colab.research.google.com/github/deepintomlf/mlfbook/blob/master/Chapter2_Supervised_Learning/ensemble_model.ipynb\" target=\"_parent\"><img src=\"https://colab.research.google.com/assets/colab-badge.svg\" alt=\"Open In Colab\"/></a>"
      ]
    },
    {
      "cell_type": "code",
      "metadata": {
        "id": "n-gK9ZeHgE8C",
        "colab_type": "code",
        "colab": {}
      },
      "source": [
        "#from collections import Counter\n",
        "import numpy as np\n",
        "\n",
        "# Define a weak_learner with around 55% accuracy\n",
        "def weak_learner():\n",
        "    n = np.random.randint(0, 100)\n",
        "    if n >= 45:\n",
        "        return 1\n",
        "    else:\n",
        "        return 0\n",
        "# majority voting method\n",
        "def majority_voting(results:list):\n",
        "    if results.count(1) > results.count(0):\n",
        "        majority_class = 1\n",
        "    else:\n",
        "        majority_class = 0\n",
        "    return majority_class\n",
        "\n",
        "# Define ensemble with 1000 weak learners\n",
        "def ensemble_model(learner, num_learners = 1000):\n",
        "    all_results = []\n",
        "    for i in range(num_learners):\n",
        "        result = learner()\n",
        "        all_results.append(result)\n",
        "    return majority_voting(all_results)\n",
        "\n",
        "# Simulate 10, 000 samples to approximate the accuracy\n",
        "num_samples = 10000\n",
        "all_weak_learner_results = []\n",
        "all_ensemble_model_results = []\n",
        "\n",
        "for i in range(num_samples):\n",
        "    weak_learner_result = weak_learner()\n",
        "    ensemble_model_result = ensemble_model(weak_learner)\n",
        "    all_weak_learner_results.append(weak_learner_result)\n",
        "    all_ensemble_model_results.append(ensemble_model_result)\n",
        "    weak_learner_accuracy = all_weak_learner_results.count(1)/num_samples\n",
        "    ensemble_model_accuracy = all_ensemble_model_results.count(1)/num_samples\n",
        "        \n",
        "print('The weak learner only achieves accuracy of', weak_learner_accuracy) \n",
        "print('The ensemble model achieves accuracy as high as', ensemble_model_accuracy)\n",
        "#%%\n",
        "\n",
        "num_learners_list = np.arange(1,1000,2)\n",
        "all_accuracy = []\n",
        "\n",
        "for i in num_learners_list:\n",
        "    np.random.seed(0)\n",
        "    num_samples = 1000\n",
        "    all_ensemble_model_results = []\n",
        "    for j in range(num_samples):\n",
        "        ensemble_model_result = ensemble_model(weak_learner, i)\n",
        "        all_ensemble_model_results.append(ensemble_model_result)\n",
        "        ensemble_model_accuracy = all_ensemble_model_results.count(1)/num_samples\n",
        "    all_accuracy.append(ensemble_model_accuracy)\n",
        "#%%\n",
        "import matplotlib.pyplot as plt\n",
        "plt.figure(figsize = (9, 6))\n",
        "plt.plot(num_learners_list, all_accuracy, 'b', linewidth = 2)\n",
        "plt.xlabel('Number of Learners')\n",
        "plt.ylabel('Accuracy')\n",
        "plt.savefig('ensemble_accuracy.png')\n",
        "#%%\n",
        "\n",
        "def accuracy(num_samples, classifier):\n",
        "    all_samples_results = []\n",
        "    for i in range(num_samples):\n",
        "        sample_result = classifier()\n",
        "        all_samples_results.append(sample_result)\n",
        "        accuracy = all_samples_results.count(1)/num_samples\n",
        "    return accuracy\n"
      ],
      "execution_count": 0,
      "outputs": []
    }
  ]
}