{
  "nbformat": 4,
  "nbformat_minor": 0,
  "metadata": {
    "colab": {
      "name": "ensemble_model.ipynb",
      "provenance": [],
      "collapsed_sections": [],
      "include_colab_link": true
    },
    "kernelspec": {
      "name": "python3",
      "display_name": "Python 3"
    }
  },
  "cells": [
    {
      "cell_type": "markdown",
      "metadata": {
        "id": "view-in-github",
        "colab_type": "text"
      },
      "source": [
        "<a href=\"https://colab.research.google.com/github/deepintomlf/mlfbook/blob/master/Chapter2_Supervised_Learning/ensemble_model.ipynb\" target=\"_parent\"><img src=\"https://colab.research.google.com/assets/colab-badge.svg\" alt=\"Open In Colab\"/></a>"
      ]
    },
    {
      "cell_type": "markdown",
      "metadata": {
        "id": "uwqP-r7Uh7Sg",
        "colab_type": "text"
      },
      "source": [
        "# **第二章 - 监督学习**"
      ]
    },
    {
      "cell_type": "markdown",
      "metadata": {
        "id": "QVpEbnIlikbn",
        "colab_type": "text"
      },
      "source": [
        "这个Jupyter笔记本包含了第二章的所有源代码."
      ]
    },
    {
      "cell_type": "markdown",
      "metadata": {
        "id": "IVqjEf4CHb4z",
        "colab_type": "text"
      },
      "source": [
        "## **数值实验**"
      ]
    },
    {
      "cell_type": "markdown",
      "metadata": {
        "id": "ypf_d-jYP7y0",
        "colab_type": "text"
      },
      "source": [
        "## 使用逻辑回归训练二元分类器\n"
      ]
    },
    {
      "cell_type": "code",
      "metadata": {
        "id": "NuikcJcrHcbS",
        "colab_type": "code",
        "colab": {}
      },
      "source": [
        "import numpy as np\n",
        "from keras.datasets import mnist \n",
        "\n",
        "# 加载MNIST数据集\n",
        "(x_train, y_train), (x_test, y_test) = mnist.load_data()\n",
        "[n_samples_train, width, height] = np.shape(x_train)\n",
        "[n_samples_test, width, height] = np.shape(x_test)\n",
        "\n",
        "X_train = x_train.reshape([n_samples_train, width*height])\n",
        "X_test =x_test.reshape([n_samples_test, width*height])\n",
        "Y_train = (y_train==8)\n",
        "Y_test= (y_test==8)"
      ],
      "execution_count": 0,
      "outputs": []
    },
    {
      "cell_type": "code",
      "metadata": {
        "id": "aMgDmrgPHcgJ",
        "colab_type": "code",
        "colab": {
          "base_uri": "https://localhost:8080/",
          "height": 339
        },
        "outputId": "276a58bf-6638-4aac-d324-ba6b0ba2cc9b"
      },
      "source": [
        "import pandas as pd\n",
        "y_pd = pd.Series(Y_train)\n",
        "count_y = y_pd.value_counts().sort_index()\n",
        "count_y.plot(kind='bar');\n",
        "print(count_y)"
      ],
      "execution_count": 29,
      "outputs": [
        {
          "output_type": "stream",
          "text": [
            "False    54149\n",
            "True      5851\n",
            "dtype: int64\n"
          ],
          "name": "stdout"
        },
        {
          "output_type": "display_data",
          "data": {
            "image/png": "[encoded data removed]",
            "text/plain": [
              "<Figure size 432x288 with 1 Axes>"
            ]
          },
          "metadata": {
            "tags": []
          }
        }
      ]
    },
    {
      "cell_type": "code",
      "metadata": {
        "id": "1Gdy2p53Hcij",
        "colab_type": "code",
        "colab": {
          "base_uri": "https://localhost:8080/",
          "height": 339
        },
        "outputId": "d03cbc33-7650-4baf-89a8-1777de8ce1f9"
      },
      "source": [
        "y_test_pd = pd.Series(Y_test)\n",
        "count_y_test = y_test_pd.value_counts().sort_index()\n",
        "count_y_test.plot(kind='bar');\n",
        "print(count_y_test)"
      ],
      "execution_count": 30,
      "outputs": [
        {
          "output_type": "stream",
          "text": [
            "False    9026\n",
            "True      974\n",
            "dtype: int64\n"
          ],
          "name": "stdout"
        },
        {
          "output_type": "display_data",
          "data": {
            "image/png": "[encoded data removed]",
            "text/plain": [
              "<Figure size 432x288 with 1 Axes>"
            ]
          },
          "metadata": {
            "tags": []
          }
        }
      ]
    },
    {
      "cell_type": "markdown",
      "metadata": {
        "id": "KRX1HXccMEUf",
        "colab_type": "text"
      },
      "source": [
        "### **使用Scikit-learn建立逻辑回归模型**"
      ]
    },
    {
      "cell_type": "code",
      "metadata": {
        "id": "GSwZaUKyHcnZ",
        "colab_type": "code",
        "colab": {}
      },
      "source": [
        "from sklearn.linear_model import LogisticRegression\n",
        "\n",
        "model = LogisticRegression(random_state=0, solver='lbfgs')\n",
        "clf = model.fit(X_train, Y_train)"
      ],
      "execution_count": 0,
      "outputs": []
    },
    {
      "cell_type": "code",
      "metadata": {
        "id": "9F89kiLhHcpp",
        "colab_type": "code",
        "colab": {}
      },
      "source": [
        "y_train_est = clf.predict(X_train)\n",
        "y_train_prob_est = clf.predict_proba(X_train)\n",
        "y_test_est = clf.predict(X_test)\n",
        "y_test_prob_est = clf.predict_proba(X_test)"
      ],
      "execution_count": 0,
      "outputs": []
    },
    {
      "cell_type": "markdown",
      "metadata": {
        "id": "UxQofoLIKyR2",
        "colab_type": "text"
      },
      "source": [
        "准确率"
      ]
    },
    {
      "cell_type": "code",
      "metadata": {
        "id": "sRwMA5MyH7b7",
        "colab_type": "code",
        "colab": {}
      },
      "source": [
        "from sklearn.metrics import accuracy_score\n",
        "acc = accuracy_score(Y_train, y_train_est)\n",
        "print(acc)"
      ],
      "execution_count": 0,
      "outputs": []
    },
    {
      "cell_type": "code",
      "metadata": {
        "id": "fddQTReMH7eT",
        "colab_type": "code",
        "colab": {}
      },
      "source": [
        "from sklearn.metrics import precision_score, recall_score\n",
        "precision = precision_score(Y_train, y_train_est)\n",
        "print(precision)\n",
        "recall = recall_score(Y_train, y_train_est)\n",
        "print(recall)"
      ],
      "execution_count": 0,
      "outputs": []
    },
    {
      "cell_type": "code",
      "metadata": {
        "id": "Y2S9Bhz7H7ga",
        "colab_type": "code",
        "colab": {}
      },
      "source": [
        "temp = pd.Series(y_test_prob_est[1])\n",
        "temp.head()"
      ],
      "execution_count": 0,
      "outputs": []
    },
    {
      "cell_type": "code",
      "metadata": {
        "id": "LgwxQeVLH7it",
        "colab_type": "code",
        "colab": {}
      },
      "source": [
        "temp1 = pd.DataFrame(y_train_est)\n",
        "temp1.columns = ['class 1 (non 8)']\t\n",
        "print('estimated output')\n",
        "temp1.head(15)"
      ],
      "execution_count": 0,
      "outputs": []
    },
    {
      "cell_type": "code",
      "metadata": {
        "id": "XMGaiCWrH7k9",
        "colab_type": "code",
        "colab": {}
      },
      "source": [
        "temp = pd.DataFrame(y_train_prob_est)\n",
        "temp.columns = ['class 1 (non 8)', 'class 2 (digit 8)']\n",
        "print('conditional probability estimator')\n",
        "temp.head(15)"
      ],
      "execution_count": 0,
      "outputs": []
    },
    {
      "cell_type": "markdown",
      "metadata": {
        "id": "DSXh_0s7K3vU",
        "colab_type": "text"
      },
      "source": [
        "混淆矩阵"
      ]
    },
    {
      "cell_type": "code",
      "metadata": {
        "id": "xvxGazo_H7na",
        "colab_type": "code",
        "colab": {}
      },
      "source": [
        "from sklearn.metrics import confusion_matrix \n",
        "\n",
        "cm = confusion_matrix(Y_train, y_train_est)\n",
        "print('confusion matrix is {}'.format(cm))"
      ],
      "execution_count": 0,
      "outputs": []
    },
    {
      "cell_type": "code",
      "metadata": {
        "id": "nyO0ipoIHcr9",
        "colab_type": "code",
        "colab": {}
      },
      "source": [
        "from sklearn.metrics import accuracy_score\n",
        "acc_train = accuracy_score(Y_train, y_train_est)\n",
        "print('accuracy of the train set= {}'.format(acc_train))\n",
        "\n",
        "acc_test = accuracy_score(Y_test, y_test_est)\n",
        "print('accuracy of the testing set= {}'.format(acc_test))"
      ],
      "execution_count": 0,
      "outputs": []
    },
    {
      "cell_type": "code",
      "metadata": {
        "id": "8aHq-PrnIDJ7",
        "colab_type": "code",
        "colab": {}
      },
      "source": [
        "from sklearn.metrics import precision_recall_curve \n",
        "precisions, recalls, thresholds = precision_recall_curve(Y_train, y_train_prob_est[:,1])\n",
        "#precisions, recalls, thresholds = precision_recall_curve(Y_test, y_test_prob_est[:,1])\n",
        "\n",
        "import seaborn as sns\n",
        "import matplotlib.pyplot as plt\n",
        "plt.plot(precisions, recalls, 'b')\n",
        "plt.xlabel('precision', fontsize=14)\n",
        "plt.ylabel('recall', fontsize=14)\n",
        "plt.title('PR Curve')\n",
        "plt.axis([0, 1, 0, 1])\n",
        "plt.savefig('binary_classfication_PR_curve.png')"
      ],
      "execution_count": 0,
      "outputs": []
    },
    {
      "cell_type": "code",
      "metadata": {
        "id": "AxvZzysgIDO8",
        "colab_type": "code",
        "colab": {}
      },
      "source": [
        "from sklearn.metrics import roc_curve, roc_auc_score\n",
        "import matplotlib.pyplot as plt\n",
        "\n",
        "#fps, tps, thresholds = roc_curve(Y_test, y_test_prob_est[:,1])\n",
        "fps, tps, thresholds = roc_curve(Y_train, y_train_prob_est[:,1])\n",
        "roc_auc_score_train = roc_auc_score(Y_train, y_train_prob_est[:,1])\n",
        "\n",
        "print('roc auc score = {}'.format(roc_auc_score_train))\n",
        "\n",
        "plt.plot(fps, tps, 'b')\n",
        "plt.xlabel('false positive rate', fontsize=14)\n",
        "plt.ylabel('true positive rate', fontsize=14)\n",
        "plt.title('ROC Curve')\n",
        "plt.axis([0, 1, 0, 1])\n",
        "plt.fill_between(fps, 0, tps, facecolor='lightblue', alpha=0.5)\n",
        "plt.text( 0.5, 0.8, 'roc auc score = '+str(round(roc_auc_score_train, 4)), fontsize=14)\n",
        "plt.annotate(\"\",\n",
        "            xy=(0.3, 0.7), xycoords='data',\n",
        "            xytext=(0.5, 0.8), textcoords='data',\n",
        "            arrowprops=dict(arrowstyle=\"->\",\n",
        "                            connectionstyle=\"arc3\"),\n",
        "            )\n",
        "plt.savefig('binary_classification_ROC_curve.png')"
      ],
      "execution_count": 0,
      "outputs": []
    },
    {
      "cell_type": "code",
      "metadata": {
        "id": "wmtLeeV5IDRq",
        "colab_type": "code",
        "colab": {}
      },
      "source": [
        ""
      ],
      "execution_count": 0,
      "outputs": []
    },
    {
      "cell_type": "code",
      "metadata": {
        "id": "7Dj8vxhKIDUD",
        "colab_type": "code",
        "colab": {}
      },
      "source": [
        ""
      ],
      "execution_count": 0,
      "outputs": []
    },
    {
      "cell_type": "code",
      "metadata": {
        "id": "N-XTWl3FIDWU",
        "colab_type": "code",
        "colab": {}
      },
      "source": [
        ""
      ],
      "execution_count": 0,
      "outputs": []
    },
    {
      "cell_type": "code",
      "metadata": {
        "id": "th_hWz_qIDY9",
        "colab_type": "code",
        "colab": {}
      },
      "source": [
        ""
      ],
      "execution_count": 0,
      "outputs": []
    },
    {
      "cell_type": "code",
      "metadata": {
        "id": "rybBKUBUIDbD",
        "colab_type": "code",
        "colab": {}
      },
      "source": [
        ""
      ],
      "execution_count": 0,
      "outputs": []
    },
    {
      "cell_type": "markdown",
      "metadata": {
        "id": "pg9PgI-N9h_q",
        "colab_type": "text"
      },
      "source": [
        "## **集成方法**"
      ]
    },
    {
      "cell_type": "code",
      "metadata": {
        "id": "n-gK9ZeHgE8C",
        "colab_type": "code",
        "colab": {}
      },
      "source": [
        "import numpy as np\n",
        "\n",
        "def weak_learner():\n",
        "    ''' 定义一个只有55%准确率的弱分类器 '''\n",
        "    n = np.random.randint(0, 100)\n",
        "    return (2 if n >=45 else 1)\n",
        "     \n",
        "def majority_voting(results:list):\n",
        "    ''' 定义多数投票法 '''\n",
        "    return (2 if results.count(2) >= results.count(1) else 1)\n",
        "\n",
        "def ensemble_model(learner, num_learners=1000):\n",
        "    ''' 定义1000个弱分类器的集成模型 '''\n",
        "    all_res = []\n",
        "    for i in range(num_learners):\n",
        "        res = learner()\n",
        "        all_res.append(res)\n",
        "    return majority_voting(all_res)"
      ],
      "execution_count": 0,
      "outputs": []
    },
    {
      "cell_type": "code",
      "metadata": {
        "id": "jyz6ntW2it-P",
        "colab_type": "code",
        "outputId": "4a864bb8-f3ce-468c-dd74-311fb718b504",
        "colab": {
          "base_uri": "https://localhost:8080/",
          "height": 53
        }
      },
      "source": [
        "# 模拟10, 000个样本\n",
        "num_samples = 10000\n",
        "all_weak_learner_res = []\n",
        "all_ensemble_model_res = []\n",
        "\n",
        "for i in range(num_samples):\n",
        "    weak_learner_res = weak_learner()\n",
        "    ensemble_model_res = ensemble_model(weak_learner)\n",
        "    all_weak_learner_res.append(weak_learner_res)\n",
        "    all_ensemble_model_res.append(ensemble_model_res)\n",
        "\n",
        "# 计算准确率\n",
        "weak_learner_acc, ensemble_model_acc = all_weak_learner_res.count(2)/num_samples, all_ensemble_model_res.count(2)/num_samples\n",
        "\n",
        "# 查看模拟结果\n",
        "print('单个弱学习器的分类准确率只有:', weak_learner_accuracy) \n",
        "print('集成模型的准确率高达:', ensemble_model_accuracy)"
      ],
      "execution_count": 10,
      "outputs": [
        {
          "output_type": "stream",
          "text": [
            "单个弱学习器的分类准确率只有: 0.5411\n",
            "集成模型的准确率高达: 1.0\n"
          ],
          "name": "stdout"
        }
      ]
    },
    {
      "cell_type": "code",
      "metadata": {
        "id": "i8CtYp2tlYim",
        "colab_type": "code",
        "colab": {}
      },
      "source": [
        "# 模拟不同弱分类器个数的集成模型的准确率\n",
        "num_learners = np.arange(1,1000,10)\n",
        "all_acc = []\n",
        "\n",
        "for i in num_learners:\n",
        "    np.random.seed(0)\n",
        "    num_samples = 1000\n",
        "    all_ensemble_model_res = []\n",
        "    for j in range(num_samples):\n",
        "        ensemble_model_res = ensemble_model(weak_learner, i)\n",
        "        all_ensemble_model_res.append(ensemble_model_res)\n",
        "        ensemble_model_acc = all_ensemble_model_res.count(2)/num_samples\n",
        "    all_acc.append(ensemble_model_acc)"
      ],
      "execution_count": 0,
      "outputs": []
    },
    {
      "cell_type": "code",
      "metadata": {
        "id": "_j4xkQ01h76P",
        "colab_type": "code",
        "outputId": "a2fffa97-eee6-45cc-d604-ae9be61b2379",
        "colab": {
          "base_uri": "https://localhost:8080/",
          "height": 410
        }
      },
      "source": [
        "import matplotlib.pyplot as plt\n",
        "\n",
        "# 绘制不同集成模型的准确率\n",
        "plt.figure(figsize = (9, 6))\n",
        "plt.plot(num_learners, all_acc, 'b', linewidth = 2)\n",
        "plt.xlabel('Number of Learners')\n",
        "plt.ylabel('Accuracy')"
      ],
      "execution_count": 15,
      "outputs": [
        {
          "output_type": "execute_result",
          "data": {
            "text/plain": [
              "Text(0, 0.5, 'Accuracy')"
            ]
          },
          "metadata": {
            "tags": []
          },
          "execution_count": 15
        },
        {
          "output_type": "display_data",
          "data": {
            "image/png": "[encoded data removed]",
            "text/plain": [
              "<Figure size 648x432 with 1 Axes>"
            ]
          },
          "metadata": {
            "tags": []
          }
        }
      ]
    }
  ]
}