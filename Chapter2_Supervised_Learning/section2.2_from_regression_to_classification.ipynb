{
  "nbformat": 4,
  "nbformat_minor": 0,
  "metadata": {
    "colab": {
      "name": "ensemble_model.ipynb",
      "provenance": [],
      "collapsed_sections": [],
      "include_colab_link": true
    },
    "kernelspec": {
      "name": "python3",
      "display_name": "Python 3"
    },
    "accelerator": "GPU"
  },
  "cells": [
    {
      "cell_type": "markdown",
      "metadata": {
        "id": "view-in-github",
        "colab_type": "text"
      },
      "source": [
        "<a href=\"https://colab.research.google.com/github/deepintomlf/mlfbook/blob/master/Chapter2_Supervised_Learning/section2.2_from_regression_to_classification.ipynb\" target=\"_parent\"><img src=\"https://colab.research.google.com/assets/colab-badge.svg\" alt=\"Open In Colab\"/></a>"
      ]
    },
    {
      "cell_type": "markdown",
      "metadata": {
        "id": "uwqP-r7Uh7Sg"
      },
      "source": [
        "# **Section 2.2 - From Regression to Classification**"
      ]
    },
    {
      "cell_type": "markdown",
      "metadata": {
        "id": "QVpEbnIlikbn"
      },
      "source": [
        "This notebook contains all demo codes in Section 2.2."
      ]
    },
    {
      "cell_type": "markdown",
      "metadata": {
        "id": "ypf_d-jYP7y0"
      },
      "source": [
        "### **Pre-process MNIST Dataset**"
      ]
    },
    {
      "cell_type": "code",
      "metadata": {
        "id": "NuikcJcrHcbS",
        "outputId": "9b434f80-34b3-45e0-c850-248d6ea6962e",
        "colab": {
          "base_uri": "https://localhost:8080/"
        }
      },
      "source": [
        "import numpy as np\n",
        "from keras.datasets import mnist \n",
        "\n",
        "# Import MNIST dataset\n",
        "(x_train, y_train), (x_test, y_test) = mnist.load_data()\n",
        "[n_samples_train, width, height] = np.shape(x_train)\n",
        "[n_samples_test, width, height] = np.shape(x_test)\n",
        "\n",
        "X_train = x_train.reshape([n_samples_train, width*height])\n",
        "X_test =x_test.reshape([n_samples_test, width*height])\n",
        "Y_train = (y_train==8)\n",
        "Y_test= (y_test==8)"
      ],
      "execution_count": 1,
      "outputs": [
        {
          "output_type": "stream",
          "text": [
            "Downloading data from https://storage.googleapis.com/tensorflow/tf-keras-datasets/mnist.npz\n",
            "11493376/11490434 [==============================] - 0s 0us/step\n",
            "11501568/11490434 [==============================] - 0s 0us/step\n"
          ],
          "name": "stdout"
        }
      ]
    },
    {
      "cell_type": "code",
      "metadata": {
        "id": "aMgDmrgPHcgJ",
        "colab": {
          "base_uri": "https://localhost:8080/",
          "height": 332
        },
        "outputId": "fdc88e7e-c93f-46cb-ac89-f45bfa1556de"
      },
      "source": [
        "import pandas as pd\n",
        "\n",
        "y_pd = pd.Series(Y_train)\n",
        "count_y = y_pd.value_counts().sort_index()\n",
        "count_y.plot(kind='bar');\n",
        "print(count_y)"
      ],
      "execution_count": 2,
      "outputs": [
        {
          "output_type": "stream",
          "text": [
            "False    54149\n",
            "True      5851\n",
            "dtype: int64\n"
          ],
          "name": "stdout"
        },
        {
          "output_type": "display_data",
          "data": {
            "image/png": "[encoded data removed]",
            "text/plain": [
              "<Figure size 432x288 with 1 Axes>"
            ]
          },
          "metadata": {
            "needs_background": "light"
          }
        }
      ]
    },
    {
      "cell_type": "code",
      "metadata": {
        "id": "1Gdy2p53Hcij",
        "colab": {
          "base_uri": "https://localhost:8080/",
          "height": 332
        },
        "outputId": "6bc83152-5324-4c55-98d5-aa09bdbfcf8b"
      },
      "source": [
        "y_test_pd = pd.Series(Y_test)\n",
        "count_y_test = y_test_pd.value_counts().sort_index()\n",
        "count_y_test.plot(kind='bar');\n",
        "print(count_y_test)"
      ],
      "execution_count": 3,
      "outputs": [
        {
          "output_type": "stream",
          "text": [
            "False    9026\n",
            "True      974\n",
            "dtype: int64\n"
          ],
          "name": "stdout"
        },
        {
          "output_type": "display_data",
          "data": {
            "image/png": "[encoded data removed]",
            "text/plain": [
              "<Figure size 432x288 with 1 Axes>"
            ]
          },
          "metadata": {
            "needs_background": "light"
          }
        }
      ]
    },
    {
      "cell_type": "markdown",
      "metadata": {
        "id": "KRX1HXccMEUf"
      },
      "source": [
        "### **Implement Logistic Regression Model**"
      ]
    },
    {
      "cell_type": "code",
      "metadata": {
        "id": "GSwZaUKyHcnZ",
        "colab": {
          "base_uri": "https://localhost:8080/"
        },
        "outputId": "f9710acd-8dcf-44e0-931b-442190d903ef"
      },
      "source": [
        "from sklearn.linear_model import LogisticRegression\n",
        "\n",
        "model = LogisticRegression(random_state=0, solver='lbfgs')\n",
        "clf = model.fit(X_train, Y_train)\n",
        "\n",
        "# Predict labels\n",
        "y_train_est = clf.predict(X_train)\n",
        "y_train_prob_est = clf.predict_proba(X_train)\n",
        "\n",
        "# Predict probabilities\n",
        "y_test_est = clf.predict(X_test)\n",
        "y_test_prob_est = clf.predict_proba(X_test)"
      ],
      "execution_count": 4,
      "outputs": [
        {
          "output_type": "stream",
          "text": [
            "/usr/local/lib/python3.7/dist-packages/sklearn/linear_model/_logistic.py:940: ConvergenceWarning: lbfgs failed to converge (status=1):\n",
            "STOP: TOTAL NO. of ITERATIONS REACHED LIMIT.\n",
            "\n",
            "Increase the number of iterations (max_iter) or scale the data as shown in:\n",
            "    https://scikit-learn.org/stable/modules/preprocessing.html\n",
            "Please also refer to the documentation for alternative solver options:\n",
            "    https://scikit-learn.org/stable/modules/linear_model.html#logistic-regression\n",
            "  extra_warning_msg=_LOGISTIC_SOLVER_CONVERGENCE_MSG)\n"
          ],
          "name": "stderr"
        }
      ]
    },
    {
      "cell_type": "code",
      "metadata": {
        "id": "XMGaiCWrH7k9",
        "colab": {
          "base_uri": "https://localhost:8080/",
          "height": 534
        },
        "outputId": "75187c7c-5c69-4044-8450-a4b4a6d9132e"
      },
      "source": [
        "temp = pd.DataFrame(y_train_prob_est)\n",
        "temp.columns = ['class 1 (non 8)', 'class 2 (digit 8)']\n",
        "print('conditional probability estimator')\n",
        "temp.head(15)"
      ],
      "execution_count": 5,
      "outputs": [
        {
          "output_type": "stream",
          "text": [
            "conditional probability estimator\n"
          ],
          "name": "stdout"
        },
        {
          "output_type": "execute_result",
          "data": {
            "text/html": [
              "<div>\n",
              "<style scoped>\n",
              "    .dataframe tbody tr th:only-of-type {\n",
              "        vertical-align: middle;\n",
              "    }\n",
              "\n",
              "    .dataframe tbody tr th {\n",
              "        vertical-align: top;\n",
              "    }\n",
              "\n",
              "    .dataframe thead th {\n",
              "        text-align: right;\n",
              "    }\n",
              "</style>\n",
              "<table border=\"1\" class=\"dataframe\">\n",
              "  <thead>\n",
              "    <tr style=\"text-align: right;\">\n",
              "      <th></th>\n",
              "      <th>class 1 (non 8)</th>\n",
              "      <th>class 2 (digit 8)</th>\n",
              "    </tr>\n",
              "  </thead>\n",
              "  <tbody>\n",
              "    <tr>\n",
              "      <th>0</th>\n",
              "      <td>0.999929</td>\n",
              "      <td>0.000071</td>\n",
              "    </tr>\n",
              "    <tr>\n",
              "      <th>1</th>\n",
              "      <td>0.999096</td>\n",
              "      <td>0.000904</td>\n",
              "    </tr>\n",
              "    <tr>\n",
              "      <th>2</th>\n",
              "      <td>0.999970</td>\n",
              "      <td>0.000030</td>\n",
              "    </tr>\n",
              "    <tr>\n",
              "      <th>3</th>\n",
              "      <td>0.877981</td>\n",
              "      <td>0.122019</td>\n",
              "    </tr>\n",
              "    <tr>\n",
              "      <th>4</th>\n",
              "      <td>0.999048</td>\n",
              "      <td>0.000952</td>\n",
              "    </tr>\n",
              "    <tr>\n",
              "      <th>5</th>\n",
              "      <td>0.982514</td>\n",
              "      <td>0.017486</td>\n",
              "    </tr>\n",
              "    <tr>\n",
              "      <th>6</th>\n",
              "      <td>0.993879</td>\n",
              "      <td>0.006121</td>\n",
              "    </tr>\n",
              "    <tr>\n",
              "      <th>7</th>\n",
              "      <td>0.918145</td>\n",
              "      <td>0.081855</td>\n",
              "    </tr>\n",
              "    <tr>\n",
              "      <th>8</th>\n",
              "      <td>0.962651</td>\n",
              "      <td>0.037349</td>\n",
              "    </tr>\n",
              "    <tr>\n",
              "      <th>9</th>\n",
              "      <td>0.993038</td>\n",
              "      <td>0.006962</td>\n",
              "    </tr>\n",
              "    <tr>\n",
              "      <th>10</th>\n",
              "      <td>0.995717</td>\n",
              "      <td>0.004283</td>\n",
              "    </tr>\n",
              "    <tr>\n",
              "      <th>11</th>\n",
              "      <td>0.345118</td>\n",
              "      <td>0.654882</td>\n",
              "    </tr>\n",
              "    <tr>\n",
              "      <th>12</th>\n",
              "      <td>0.999995</td>\n",
              "      <td>0.000005</td>\n",
              "    </tr>\n",
              "    <tr>\n",
              "      <th>13</th>\n",
              "      <td>0.999986</td>\n",
              "      <td>0.000014</td>\n",
              "    </tr>\n",
              "    <tr>\n",
              "      <th>14</th>\n",
              "      <td>0.931200</td>\n",
              "      <td>0.068800</td>\n",
              "    </tr>\n",
              "  </tbody>\n",
              "</table>\n",
              "</div>"
            ],
            "text/plain": [
              "    class 1 (non 8)  class 2 (digit 8)\n",
              "0          0.999929           0.000071\n",
              "1          0.999096           0.000904\n",
              "2          0.999970           0.000030\n",
              "3          0.877981           0.122019\n",
              "4          0.999048           0.000952\n",
              "5          0.982514           0.017486\n",
              "6          0.993879           0.006121\n",
              "7          0.918145           0.081855\n",
              "8          0.962651           0.037349\n",
              "9          0.993038           0.006962\n",
              "10         0.995717           0.004283\n",
              "11         0.345118           0.654882\n",
              "12         0.999995           0.000005\n",
              "13         0.999986           0.000014\n",
              "14         0.931200           0.068800"
            ]
          },
          "metadata": {},
          "execution_count": 5
        }
      ]
    },
    {
      "cell_type": "code",
      "metadata": {
        "id": "Y2S9Bhz7H7ga",
        "outputId": "7e0bac1b-aaf5-4b37-c62d-a5fb8d91188b",
        "colab": {
          "base_uri": "https://localhost:8080/"
        }
      },
      "source": [
        "temp = pd.Series(y_test_prob_est[1])\n",
        "temp.head()"
      ],
      "execution_count": 6,
      "outputs": [
        {
          "output_type": "execute_result",
          "data": {
            "text/plain": [
              "0    0.999991\n",
              "1    0.000009\n",
              "dtype: float64"
            ]
          },
          "metadata": {},
          "execution_count": 6
        }
      ]
    },
    {
      "cell_type": "code",
      "metadata": {
        "id": "LgwxQeVLH7it",
        "outputId": "34227610-fb05-49e7-aac7-a59244d53257",
        "colab": {
          "base_uri": "https://localhost:8080/",
          "height": 534
        }
      },
      "source": [
        "temp1 = pd.DataFrame(y_train_est)\n",
        "temp1.columns = ['class 1 (non 8)']\t\n",
        "print('estimated output')\n",
        "temp1.head(15)"
      ],
      "execution_count": 7,
      "outputs": [
        {
          "output_type": "stream",
          "text": [
            "estimated output\n"
          ],
          "name": "stdout"
        },
        {
          "output_type": "execute_result",
          "data": {
            "text/html": [
              "<div>\n",
              "<style scoped>\n",
              "    .dataframe tbody tr th:only-of-type {\n",
              "        vertical-align: middle;\n",
              "    }\n",
              "\n",
              "    .dataframe tbody tr th {\n",
              "        vertical-align: top;\n",
              "    }\n",
              "\n",
              "    .dataframe thead th {\n",
              "        text-align: right;\n",
              "    }\n",
              "</style>\n",
              "<table border=\"1\" class=\"dataframe\">\n",
              "  <thead>\n",
              "    <tr style=\"text-align: right;\">\n",
              "      <th></th>\n",
              "      <th>class 1 (non 8)</th>\n",
              "    </tr>\n",
              "  </thead>\n",
              "  <tbody>\n",
              "    <tr>\n",
              "      <th>0</th>\n",
              "      <td>False</td>\n",
              "    </tr>\n",
              "    <tr>\n",
              "      <th>1</th>\n",
              "      <td>False</td>\n",
              "    </tr>\n",
              "    <tr>\n",
              "      <th>2</th>\n",
              "      <td>False</td>\n",
              "    </tr>\n",
              "    <tr>\n",
              "      <th>3</th>\n",
              "      <td>False</td>\n",
              "    </tr>\n",
              "    <tr>\n",
              "      <th>4</th>\n",
              "      <td>False</td>\n",
              "    </tr>\n",
              "    <tr>\n",
              "      <th>5</th>\n",
              "      <td>False</td>\n",
              "    </tr>\n",
              "    <tr>\n",
              "      <th>6</th>\n",
              "      <td>False</td>\n",
              "    </tr>\n",
              "    <tr>\n",
              "      <th>7</th>\n",
              "      <td>False</td>\n",
              "    </tr>\n",
              "    <tr>\n",
              "      <th>8</th>\n",
              "      <td>False</td>\n",
              "    </tr>\n",
              "    <tr>\n",
              "      <th>9</th>\n",
              "      <td>False</td>\n",
              "    </tr>\n",
              "    <tr>\n",
              "      <th>10</th>\n",
              "      <td>False</td>\n",
              "    </tr>\n",
              "    <tr>\n",
              "      <th>11</th>\n",
              "      <td>True</td>\n",
              "    </tr>\n",
              "    <tr>\n",
              "      <th>12</th>\n",
              "      <td>False</td>\n",
              "    </tr>\n",
              "    <tr>\n",
              "      <th>13</th>\n",
              "      <td>False</td>\n",
              "    </tr>\n",
              "    <tr>\n",
              "      <th>14</th>\n",
              "      <td>False</td>\n",
              "    </tr>\n",
              "  </tbody>\n",
              "</table>\n",
              "</div>"
            ],
            "text/plain": [
              "    class 1 (non 8)\n",
              "0             False\n",
              "1             False\n",
              "2             False\n",
              "3             False\n",
              "4             False\n",
              "5             False\n",
              "6             False\n",
              "7             False\n",
              "8             False\n",
              "9             False\n",
              "10            False\n",
              "11             True\n",
              "12            False\n",
              "13            False\n",
              "14            False"
            ]
          },
          "metadata": {},
          "execution_count": 7
        }
      ]
    },
    {
      "cell_type": "markdown",
      "metadata": {
        "id": "Q_308mcdNtt-"
      },
      "source": [
        "### **Output Confusion Matrix**"
      ]
    },
    {
      "cell_type": "code",
      "metadata": {
        "id": "xvxGazo_H7na",
        "colab": {
          "base_uri": "https://localhost:8080/"
        },
        "outputId": "c84cdec0-0e92-4d14-cde2-d8febfcc3a67"
      },
      "source": [
        "from sklearn.metrics import confusion_matrix\n",
        "\n",
        "# Y_test is a binary vector of the actual class label with dim (N, 1) where N is the number of samples;\n",
        "# y_test_est is a binary vector of the estimated class label with dim (N, 1).\n",
        "cm = confusion_matrix(Y_test, y_test_est)\n",
        "print('confusion matrix is {}'.format(cm))"
      ],
      "execution_count": 8,
      "outputs": [
        {
          "output_type": "stream",
          "text": [
            "confusion matrix is [[8810  216]\n",
            " [ 319  655]]\n"
          ],
          "name": "stdout"
        }
      ]
    },
    {
      "cell_type": "markdown",
      "metadata": {
        "id": "UxQofoLIKyR2"
      },
      "source": [
        "### **Compute Accuracy, Precision and Recall**"
      ]
    },
    {
      "cell_type": "code",
      "metadata": {
        "id": "sRwMA5MyH7b7",
        "colab": {
          "base_uri": "https://localhost:8080/"
        },
        "outputId": "ee9d980f-b90c-48ab-a7fc-8510e5872ddf"
      },
      "source": [
        "from sklearn.metrics import accuracy_score\n",
        "\n",
        "acc_train = accuracy_score(Y_train, y_train_est)\n",
        "acc_test = accuracy_score(Y_test, y_test_est)\n",
        "print('accuracy of the train set= {}'.format(acc_train))\n",
        "print('accuracy of the testing set= {}'.format(acc_test))"
      ],
      "execution_count": 9,
      "outputs": [
        {
          "output_type": "stream",
          "text": [
            "accuracy of the train set= 0.95065\n",
            "accuracy of the testing set= 0.9465\n"
          ],
          "name": "stdout"
        }
      ]
    },
    {
      "cell_type": "code",
      "metadata": {
        "id": "fddQTReMH7eT",
        "colab": {
          "base_uri": "https://localhost:8080/"
        },
        "outputId": "9d179be0-2e51-4303-8a85-30f081fbe33a"
      },
      "source": [
        "from sklearn.metrics import precision_score, recall_score\n",
        "\n",
        "precision = precision_score(Y_test, y_test_est)\n",
        "recall = recall_score(Y_test, y_test_est)\n",
        "print(precision)\n",
        "print(recall)"
      ],
      "execution_count": 10,
      "outputs": [
        {
          "output_type": "stream",
          "text": [
            "0.7520091848450058\n",
            "0.6724845995893224\n"
          ],
          "name": "stdout"
        }
      ]
    },
    {
      "cell_type": "markdown",
      "metadata": {
        "id": "8iCwRktaRHJj"
      },
      "source": [
        "### **Plot PR Curve**"
      ]
    },
    {
      "cell_type": "code",
      "metadata": {
        "id": "8aHq-PrnIDJ7",
        "colab": {
          "base_uri": "https://localhost:8080/",
          "height": 299
        },
        "outputId": "7e331498-7842-4a37-f530-cc6fe7edaa00"
      },
      "source": [
        "import matplotlib.pyplot as plt\n",
        "from sklearn.metrics import precision_recall_curve\n",
        "\n",
        "precisions, recalls, thresholds = precision_recall_curve(Y_test, y_test_prob_est[:,1])\n",
        "plt.plot(precisions, recalls, 'b')\n",
        "plt.xlabel('precision', fontsize=14)\n",
        "plt.ylabel('recall', fontsize=14)\n",
        "plt.title('PR Curve')\n",
        "plt.axis([0, 1, 0, 1])\n",
        "plt.savefig('binary_classfication_PR_curve.png')"
      ],
      "execution_count": 11,
      "outputs": [
        {
          "output_type": "display_data",
          "data": {
            "image/png": "[encoded data removed]",
            "text/plain": [
              "<Figure size 432x288 with 1 Axes>"
            ]
          },
          "metadata": {
            "needs_background": "light"
          }
        }
      ]
    },
    {
      "cell_type": "markdown",
      "metadata": {
        "id": "TluwjsICRJur"
      },
      "source": [
        "### **Plot ROC Curve**"
      ]
    },
    {
      "cell_type": "code",
      "metadata": {
        "id": "AxvZzysgIDO8",
        "colab": {
          "base_uri": "https://localhost:8080/",
          "height": 316
        },
        "outputId": "e5af6645-0d5c-4855-b16e-20cbda3fc22a"
      },
      "source": [
        "from sklearn.metrics import roc_curve, roc_auc_score\n",
        "\n",
        "fps, tps, thresholds = roc_curve(Y_test, y_test_prob_est[:,1])\n",
        "roc_auc_score_train = roc_auc_score(Y_test, y_test_prob_est[:,1])\n",
        "\n",
        "print('roc auc score = {}'.format(roc_auc_score_train))\n",
        "\n",
        "plt.plot(fps, tps, 'b')\n",
        "plt.xlabel('false positive rate', fontsize=14)\n",
        "plt.ylabel('true positive rate', fontsize=14)\n",
        "plt.title('ROC Curve')\n",
        "plt.axis([0, 1, 0, 1])\n",
        "plt.fill_between(fps, 0, tps, facecolor='lightblue', alpha=0.5)\n",
        "plt.text( 0.5, 0.8, ' auc = '+str(round(roc_auc_score_train, 4)), fontsize=14)\n",
        "plt.annotate(\"\", xy=(0.3, 0.7), xycoords='data', xytext=(0.5, 0.8), textcoords='data', \n",
        "             arrowprops=dict(arrowstyle=\"->\", connectionstyle=\"arc3\"), )\n",
        "plt.savefig('binary_classification_ROC_curve.png')"
      ],
      "execution_count": 12,
      "outputs": [
        {
          "output_type": "stream",
          "text": [
            "roc auc score = 0.9423430418444366\n"
          ],
          "name": "stdout"
        },
        {
          "output_type": "display_data",
          "data": {
            "image/png": "[encoded data removed]",
            "text/plain": [
              "<Figure size 432x288 with 1 Axes>"
            ]
          },
          "metadata": {
            "needs_background": "light"
          }
        }
      ]
    },
    {
      "cell_type": "markdown",
      "metadata": {
        "id": "pg9PgI-N9h_q"
      },
      "source": [
        "## **Ensemble Model**"
      ]
    },
    {
      "cell_type": "markdown",
      "metadata": {
        "id": "6afFtBATfxJH"
      },
      "source": [
        "### **Define Weak Learners and Ensemble Models**"
      ]
    },
    {
      "cell_type": "code",
      "metadata": {
        "id": "n-gK9ZeHgE8C"
      },
      "source": [
        "import numpy as np\n",
        "\n",
        "def weak_learner():\n",
        "    ''' Define a weak classifier with 55% accuracy '''\n",
        "    n = np.random.randint(0, 100)\n",
        "    return (2 if n >=45 else 1)\n",
        "     \n",
        "def majority_voting(results:list):\n",
        "    ''' Majority voting method '''\n",
        "    return (2 if results.count(2) >= results.count(1) else 1)\n",
        "\n",
        "def ensemble_model(learner, num_learners=1000):\n",
        "    ''' Define ensemble model with 1,000 weak learners '''\n",
        "    all_res = []\n",
        "    for i in range(num_learners):\n",
        "        res = learner()\n",
        "        all_res.append(res)\n",
        "    return majority_voting(all_res)"
      ],
      "execution_count": 13,
      "outputs": []
    },
    {
      "cell_type": "markdown",
      "metadata": {
        "id": "J0eRH3QDf1MV"
      },
      "source": [
        "### **Approximate accuracy of weak learners and ensemble models**"
      ]
    },
    {
      "cell_type": "code",
      "metadata": {
        "id": "jyz6ntW2it-P",
        "colab": {
          "base_uri": "https://localhost:8080/"
        },
        "outputId": "5537af6e-3cd2-4d68-f7f0-c9443f03cd05"
      },
      "source": [
        "# Simulate 10, 000 samples\n",
        "num_samples = 10000\n",
        "all_weak_learner_res = []\n",
        "all_ensemble_model_res = []\n",
        "\n",
        "for i in range(num_samples):\n",
        "    weak_learner_res = weak_learner()\n",
        "    ensemble_model_res = ensemble_model(weak_learner)\n",
        "    all_weak_learner_res.append(weak_learner_res)\n",
        "    all_ensemble_model_res.append(ensemble_model_res)\n",
        "\n",
        "# Calculate accuracy\n",
        "weak_learner_acc, ensemble_model_acc = all_weak_learner_res.count(2)/num_samples, all_ensemble_model_res.count(2)/num_samples\n",
        "\n",
        "# View simulation results\n",
        "print('The accuracy of the weak learner is only {}'.format(weak_learner_acc)) \n",
        "print('The ensemble model achieves accuracy as high as {}'.format(ensemble_model_acc))"
      ],
      "execution_count": 14,
      "outputs": [
        {
          "output_type": "stream",
          "text": [
            "The accuracy of the weak learner is only 0.5397\n",
            "The ensemble model achieves accuracy as high as 0.9992\n"
          ],
          "name": "stdout"
        }
      ]
    },
    {
      "cell_type": "markdown",
      "metadata": {
        "id": "Cv3p_tlPf9Xu"
      },
      "source": [
        "### **Accuracy of Ensemble Models with Different Number of Learners**"
      ]
    },
    {
      "cell_type": "code",
      "metadata": {
        "id": "i8CtYp2tlYim"
      },
      "source": [
        "num_learners = np.arange(1,1000,10)\n",
        "all_acc = []\n",
        "\n",
        "for i in num_learners:\n",
        "    np.random.seed(0)\n",
        "    num_samples = 1000\n",
        "    all_ensemble_model_res = []\n",
        "    for j in range(num_samples):\n",
        "        ensemble_model_res = ensemble_model(weak_learner, i)\n",
        "        all_ensemble_model_res.append(ensemble_model_res)\n",
        "        ensemble_model_acc = all_ensemble_model_res.count(2)/num_samples\n",
        "    all_acc.append(ensemble_model_acc)"
      ],
      "execution_count": 15,
      "outputs": []
    },
    {
      "cell_type": "code",
      "metadata": {
        "id": "_j4xkQ01h76P",
        "colab": {
          "base_uri": "https://localhost:8080/",
          "height": 405
        },
        "outputId": "e710f5a0-1eaf-4a09-bf6d-862d1832210f"
      },
      "source": [
        "import matplotlib.pyplot as plt\n",
        "\n",
        "# Plot accuracy curve\n",
        "plt.figure(figsize = (9, 6))\n",
        "plt.plot(num_learners, all_acc, 'b', linewidth = 2)\n",
        "plt.xlabel('Number of Learners')\n",
        "plt.ylabel('Accuracy')"
      ],
      "execution_count": 16,
      "outputs": [
        {
          "output_type": "execute_result",
          "data": {
            "text/plain": [
              "Text(0, 0.5, 'Accuracy')"
            ]
          },
          "metadata": {},
          "execution_count": 16
        },
        {
          "output_type": "display_data",
          "data": {
            "image/png": "[encoded data removed]",
            "text/plain": [
              "<Figure size 648x432 with 1 Axes>"
            ]
          },
          "metadata": {
            "needs_background": "light"
          }
        }
      ]
    }
  ]
}