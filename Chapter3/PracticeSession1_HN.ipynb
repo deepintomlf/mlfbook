{
  "nbformat": 4,
  "nbformat_minor": 0,
  "metadata": {
    "colab": {
      "name": "PracticeSession1_HN.ipynb",
      "version": "0.3.2",
      "provenance": [],
      "collapsed_sections": [
        "G961Oko_PenB",
        "YoldZQgkPr6-",
        "95_nhUhhP3ji",
        "nAxj3de7072f",
        "5wu5oABiQHgn",
        "1aLLvJ5WOK4x"
      ],
      "toc_visible": true
    },
    "kernelspec": {
      "name": "python3",
      "display_name": "Python 3"
    },
    "accelerator": "GPU"
  },
  "cells": [
    {
      "metadata": {
        "id": "XLe9QIn8SCTt",
        "colab_type": "text"
      },
      "cell_type": "markdown",
      "source": [
        "The goal of this practice sesion is to equip the participants with hands-on expereince on implementation of the supervised learning algorithms with the focus on Artificial Neural Network.  \n",
        "\n",
        "The implementation is based on two popular python packages, i.e. *Scikit-Learn *and* Keras*, where Scikit-Learn and Keras are efficient tools for data mining and neural network respectively.  \n",
        "\n",
        "We will talk about  \n",
        "\n",
        "\n",
        "1.    implementing the pipelines for solving data classification problems using Scikit Learn.\n",
        "2.   and applying artificial neural network to empirical datasets using Keras."
      ]
    },
    {
      "metadata": {
        "id": "XT2GJzpPpc6U",
        "colab_type": "text"
      },
      "cell_type": "markdown",
      "source": [
        "#Supervised Learning#"
      ]
    },
    {
      "metadata": {
        "id": "ROaHld4R_a3q",
        "colab_type": "text"
      },
      "cell_type": "markdown",
      "source": [
        "**Problem Setting**\n",
        "\n",
        "Dataset: $\\mathcal{D} = \\{(x_{i}, y_{i})\\}_{i = 1}^{N}$ such that \n",
        "\\begin{eqnarray*}\n",
        "y_{i} = f(x_{i}) + \\varepsilon_{i},\n",
        "\\end{eqnarray*}\n",
        "where $x_{i}:= (x_{i}^{(1)}, \\cdots, x_{i}^{(d)}) \\in \\mathbb{R}^{d}$, $\\varepsilon_{i}$ is iid with $\\mathbb{E}[\\varepsilon_{i} \\vert x_{i}] = 0$. \n",
        "\n",
        "**Goal** \n",
        "\n",
        "For new given input $x$, predict the corresponding $y$."
      ]
    },
    {
      "metadata": {
        "id": "NeKhFuPKr3WC",
        "colab_type": "text"
      },
      "cell_type": "markdown",
      "source": [
        "##Regression v.s. Classification##"
      ]
    },
    {
      "metadata": {
        "id": "u69Y3d5LIz_K",
        "colab_type": "text"
      },
      "cell_type": "markdown",
      "source": [
        "In Regression, the output is a continuous variable. \n",
        "\n",
        "In Classification, the output is categorical:\n",
        "\n",
        "1.   Integer coding;\n",
        "2.   One-Hot Encoding.\n",
        "\n",
        "Example: 3 classes in total: \"A\", \"B\", \"C\".\n",
        "1.  \"A\" - 1; \"B\" - 2,  \"C\" - 3 ;\n",
        "2.  \"A\" - 001;  \"B\" - 010;   \"C\" - 100.\n"
      ]
    },
    {
      "metadata": {
        "id": "qBYIVO3Pn753",
        "colab_type": "text"
      },
      "cell_type": "markdown",
      "source": [
        "\n",
        "\n",
        "![Shallow Neural Network](https://docs.google.com/uc?export=download&id=1YnTjuiTmG5uGzVtj66-ma0bFtqZnT7Z-)\n"
      ]
    },
    {
      "metadata": {
        "id": "iSAJ064BtXrq",
        "colab_type": "text"
      },
      "cell_type": "markdown",
      "source": [
        "##Artificial Neural Network###"
      ]
    },
    {
      "metadata": {
        "id": "xWL5dnZItdxU",
        "colab_type": "text"
      },
      "cell_type": "markdown",
      "source": [
        "![alt text](https://docs.google.com/uc?export=download&id=1oWrlu3M05rP8GzEWU23EgTZpDiFj2Mop)\n",
        "\n",
        "\n",
        "\n",
        "*   Input layer ( $h^{0}$): $h^{0}(x) = x$.\n",
        "*  Hidden layer ($\\{h^{l}\\}_{l = 1}^{L-1}$);\n",
        "* Output layer ($h^{L}$).\n",
        "\n",
        "\\begin{eqnarray*}\n",
        "z^{l+1} &=& {\\color{blue}W^{l}} h^{l} + {\\color{blue}b^{l}},\\\\\n",
        "h^{l+1} &=& {\\color{red} \\sigma}(z^{l+1}),\n",
        "\\end{eqnarray*}\n",
        "where ${\\color{red}\\sigma}$ is an* activation function*, which is usually non-linear, e.g. the sigmoid function $\\sigma(x) = \\frac{1}{1+e^{-x}}$. The parameter set ${\\color{blue}\\theta} = (W^{l}, b^{l})_{l =1}^{L}$}.\n"
      ]
    },
    {
      "metadata": {
        "id": "ClYeClr2vTc7",
        "colab_type": "text"
      },
      "cell_type": "markdown",
      "source": [
        "###ANN Classification###\n",
        "The input $x$ is a multi-dimensional vector; \n",
        "\n",
        "The ouput $y$ is a one-hot respresenation of the class. \n",
        "\n",
        "\n",
        "The number of neurons in the output layer is the total number of classes. \n",
        "\n",
        "The $j^{th}$ neurons in the output layer represents the probability of the output(label) being class $j$.  \n",
        "\n",
        " The **cross entropy **loss function is defined as follows:\n",
        "\n",
        "\\begin{eqnarray*}\n",
        "L(\\theta \\vert \\mathcal{D}) = - \\frac{1}{N}\\sum_{i =1}^{N} \\sum_{k} \\mathbb{1}( y_{i}=\\text{ class }k) \\log(p(y_{i} =\\text{ class }k \\vert x_{i})) \n",
        "\\end{eqnarray*}\n",
        "\n",
        "Note: The cross entropy between two probability distributions $p$ and $q$ is defined as \n",
        "\\begin{eqnarray*}\n",
        "H(p, q) =- \\sum_{x} p(x)\\log(q(x)).\n",
        "\\end{eqnarray*}\n",
        "\n",
        "$L(\\theta \\vert \\mathcal{D}) $ can be reformulated as \n",
        "\n",
        "\\begin{eqnarray*}\n",
        "L(\\theta \\vert \\mathcal{D}) = - \\frac{1}{N} \\langle  y_{i}, \\log(p_{\\theta }(  \\cdot \\vert x_{i})) \\rangle \n",
        "\\end{eqnarray*}\n"
      ]
    },
    {
      "metadata": {
        "id": "xZBRzRhF_-xI",
        "colab_type": "text"
      },
      "cell_type": "markdown",
      "source": [
        "#Pipelines of Supervised Learning Algorithms# "
      ]
    },
    {
      "metadata": {
        "id": "7E1pkUGgQHpb",
        "colab_type": "text"
      },
      "cell_type": "markdown",
      "source": [
        "The piplelines of the supervised learning algorithms are summarized as follows:\n",
        "\n",
        "1.   Import Datasets;\n",
        "2.   Take a look at the dataset (Statistical Analysis/Visualization);\n",
        "3.    Pre-process the dataset to prepare for the training process (normalization/reshape data);\n",
        "4.    Train a model;\n",
        "5.    Validate a model;\n",
        "6.    Cross Validation. \n"
      ]
    },
    {
      "metadata": {
        "id": "X-vM1QWbbRDo",
        "colab_type": "text"
      },
      "cell_type": "markdown",
      "source": [
        "** We will apply the shallow neural network to the MNIST dataset as a concrete example to go through the pipelines of supervised learning algorithm.**"
      ]
    },
    {
      "metadata": {
        "id": "rcEMqDnp3Ese",
        "colab_type": "text"
      },
      "cell_type": "markdown",
      "source": [
        "Problem: Build an algorithm to identify the digit label from the handwritten image using the MNIST dataset. \n",
        "\n",
        "![alt text](http://corochann.com/wp-content/uploads/2017/02/mnist_plot.png)"
      ]
    },
    {
      "metadata": {
        "id": "Yo03nFuXWsP2",
        "colab_type": "text"
      },
      "cell_type": "markdown",
      "source": [
        "## Import Dataset##"
      ]
    },
    {
      "metadata": {
        "id": "wTvLJzzjA6aB",
        "colab_type": "code",
        "outputId": "b170335e-0b7e-4a45-b6e2-a8d2fc4a03f7",
        "colab": {
          "base_uri": "https://localhost:8080/",
          "height": 68
        }
      },
      "cell_type": "code",
      "source": [
        "# Import the MNIST Dataset\n",
        "from keras.datasets import mnist\n",
        "(x_train, y_train), (x_test, y_test) = mnist.load_data()"
      ],
      "execution_count": 0,
      "outputs": [
        {
          "output_type": "stream",
          "text": [
            "Using TensorFlow backend.\n"
          ],
          "name": "stderr"
        },
        {
          "output_type": "stream",
          "text": [
            "Downloading data from https://s3.amazonaws.com/img-datasets/mnist.npz\n",
            "11493376/11490434 [==============================] - 1s 0us/step\n"
          ],
          "name": "stdout"
        }
      ]
    },
    {
      "metadata": {
        "id": "xIP6JEi5PtTl",
        "colab_type": "text"
      },
      "cell_type": "markdown",
      "source": [
        "[keras link](https://keras.io/datasets/)"
      ]
    },
    {
      "metadata": {
        "id": "iJekBGxRXYGF",
        "colab_type": "text"
      },
      "cell_type": "markdown",
      "source": [
        "##Analyse Dataset##"
      ]
    },
    {
      "metadata": {
        "id": "S_1peD5RBNb3",
        "colab_type": "code",
        "outputId": "b1eeb3fb-e7a8-4d62-ca02-aad407eca215",
        "colab": {
          "base_uri": "https://localhost:8080/",
          "height": 119
        }
      },
      "cell_type": "code",
      "source": [
        "import numpy as np\n",
        "print(type(x_train))\n",
        "print(type(y_train))\n",
        "print(np.shape(x_train))\n",
        "print(np.shape(y_train))\n",
        "print(np.shape(x_test))\n",
        "print(np.shape(y_test))"
      ],
      "execution_count": 0,
      "outputs": [
        {
          "output_type": "stream",
          "text": [
            "<class 'numpy.ndarray'>\n",
            "<class 'numpy.ndarray'>\n",
            "(60000, 28, 28)\n",
            "(60000,)\n",
            "(10000, 28, 28)\n",
            "(10000,)\n"
          ],
          "name": "stdout"
        }
      ]
    },
    {
      "metadata": {
        "id": "l5-TkjQZF8f6",
        "colab_type": "code",
        "outputId": "fb52ca3b-e77b-412c-9c96-838999aaa00b",
        "colab": {
          "base_uri": "https://localhost:8080/",
          "height": 1020
        }
      },
      "cell_type": "code",
      "source": [
        "print('One sample of x_train is')\n",
        "print(x_train[0])\n",
        "print('The output labels in the training set is')\n",
        "print(y_train)"
      ],
      "execution_count": 0,
      "outputs": [
        {
          "output_type": "stream",
          "text": [
            "One sample of x_train is\n",
            "[[  0   0   0   0   0   0   0   0   0   0   0   0   0   0   0   0   0   0\n",
            "    0   0   0   0   0   0   0   0   0   0]\n",
            " [  0   0   0   0   0   0   0   0   0   0   0   0   0   0   0   0   0   0\n",
            "    0   0   0   0   0   0   0   0   0   0]\n",
            " [  0   0   0   0   0   0   0   0   0   0   0   0   0   0   0   0   0   0\n",
            "    0   0   0   0   0   0   0   0   0   0]\n",
            " [  0   0   0   0   0   0   0   0   0   0   0   0   0   0   0   0   0   0\n",
            "    0   0   0   0   0   0   0   0   0   0]\n",
            " [  0   0   0   0   0   0   0   0   0   0   0   0   0   0   0   0   0   0\n",
            "    0   0   0   0   0   0   0   0   0   0]\n",
            " [  0   0   0   0   0   0   0   0   0   0   0   0   3  18  18  18 126 136\n",
            "  175  26 166 255 247 127   0   0   0   0]\n",
            " [  0   0   0   0   0   0   0   0  30  36  94 154 170 253 253 253 253 253\n",
            "  225 172 253 242 195  64   0   0   0   0]\n",
            " [  0   0   0   0   0   0   0  49 238 253 253 253 253 253 253 253 253 251\n",
            "   93  82  82  56  39   0   0   0   0   0]\n",
            " [  0   0   0   0   0   0   0  18 219 253 253 253 253 253 198 182 247 241\n",
            "    0   0   0   0   0   0   0   0   0   0]\n",
            " [  0   0   0   0   0   0   0   0  80 156 107 253 253 205  11   0  43 154\n",
            "    0   0   0   0   0   0   0   0   0   0]\n",
            " [  0   0   0   0   0   0   0   0   0  14   1 154 253  90   0   0   0   0\n",
            "    0   0   0   0   0   0   0   0   0   0]\n",
            " [  0   0   0   0   0   0   0   0   0   0   0 139 253 190   2   0   0   0\n",
            "    0   0   0   0   0   0   0   0   0   0]\n",
            " [  0   0   0   0   0   0   0   0   0   0   0  11 190 253  70   0   0   0\n",
            "    0   0   0   0   0   0   0   0   0   0]\n",
            " [  0   0   0   0   0   0   0   0   0   0   0   0  35 241 225 160 108   1\n",
            "    0   0   0   0   0   0   0   0   0   0]\n",
            " [  0   0   0   0   0   0   0   0   0   0   0   0   0  81 240 253 253 119\n",
            "   25   0   0   0   0   0   0   0   0   0]\n",
            " [  0   0   0   0   0   0   0   0   0   0   0   0   0   0  45 186 253 253\n",
            "  150  27   0   0   0   0   0   0   0   0]\n",
            " [  0   0   0   0   0   0   0   0   0   0   0   0   0   0   0  16  93 252\n",
            "  253 187   0   0   0   0   0   0   0   0]\n",
            " [  0   0   0   0   0   0   0   0   0   0   0   0   0   0   0   0   0 249\n",
            "  253 249  64   0   0   0   0   0   0   0]\n",
            " [  0   0   0   0   0   0   0   0   0   0   0   0   0   0  46 130 183 253\n",
            "  253 207   2   0   0   0   0   0   0   0]\n",
            " [  0   0   0   0   0   0   0   0   0   0   0   0  39 148 229 253 253 253\n",
            "  250 182   0   0   0   0   0   0   0   0]\n",
            " [  0   0   0   0   0   0   0   0   0   0  24 114 221 253 253 253 253 201\n",
            "   78   0   0   0   0   0   0   0   0   0]\n",
            " [  0   0   0   0   0   0   0   0  23  66 213 253 253 253 253 198  81   2\n",
            "    0   0   0   0   0   0   0   0   0   0]\n",
            " [  0   0   0   0   0   0  18 171 219 253 253 253 253 195  80   9   0   0\n",
            "    0   0   0   0   0   0   0   0   0   0]\n",
            " [  0   0   0   0  55 172 226 253 253 253 253 244 133  11   0   0   0   0\n",
            "    0   0   0   0   0   0   0   0   0   0]\n",
            " [  0   0   0   0 136 253 253 253 212 135 132  16   0   0   0   0   0   0\n",
            "    0   0   0   0   0   0   0   0   0   0]\n",
            " [  0   0   0   0   0   0   0   0   0   0   0   0   0   0   0   0   0   0\n",
            "    0   0   0   0   0   0   0   0   0   0]\n",
            " [  0   0   0   0   0   0   0   0   0   0   0   0   0   0   0   0   0   0\n",
            "    0   0   0   0   0   0   0   0   0   0]\n",
            " [  0   0   0   0   0   0   0   0   0   0   0   0   0   0   0   0   0   0\n",
            "    0   0   0   0   0   0   0   0   0   0]]\n",
            "The output labels in the training set is\n",
            "[5 0 4 ... 5 6 8]\n"
          ],
          "name": "stdout"
        }
      ]
    },
    {
      "metadata": {
        "id": "EfBvAA3tBoIJ",
        "colab_type": "code",
        "outputId": "10b6ba96-eda6-41f8-b318-69e0968d18d6",
        "colab": {
          "base_uri": "https://localhost:8080/",
          "height": 302
        }
      },
      "cell_type": "code",
      "source": [
        "import matplotlib.pyplot as plt\n",
        "\n",
        "f = plt.figure(figsize=(10, 10))\n",
        "plt.subplot(1, 2, 1)\n",
        "plt.grid(b = False)\n",
        "plt.imshow(x_train[0, :, :])\n",
        "plt.subplot(1, 2, 2)\n",
        "plt.imshow(x_train[10,:,:])\n",
        "plt.grid(b = False)"
      ],
      "execution_count": 0,
      "outputs": [
        {
          "output_type": "display_data",
          "data": {
            "image/png": "[encoded data removed]",
            "text/plain": [
              "<Figure size 720x720 with 2 Axes>"
            ]
          },
          "metadata": {
            "tags": []
          }
        }
      ]
    },
    {
      "metadata": {
        "id": "nz0Iu3FuXd0U",
        "colab_type": "code",
        "outputId": "1277e27d-04e6-4f6e-e517-5bb5b68143b9",
        "colab": {
          "base_uri": "https://localhost:8080/",
          "height": 439
        }
      },
      "cell_type": "code",
      "source": [
        "import pandas as pd\n",
        "from matplotlib.ticker import FuncFormatter\n",
        "\n",
        "# Input: y - one diemsional integer valued np array\n",
        "# Output: count_y - pd Series type - the counts of possible values in y \n",
        "# Function  Plot_Count_info: Plot count_y \n",
        "def Plot_Count_info(y):\n",
        "  y_pd = pd.Series(y)\n",
        "  count_y = y_pd.value_counts().sort_index()\n",
        "  count_y.plot(kind='bar');\n",
        "  return count_y\n",
        " \n",
        "plt.figure(figsize=(15, 7))\n",
        "plt.subplot(1, 2, 1)\n",
        "count_y_train = Plot_Count_info(y_train)\n",
        "plt.title('Training set');\n",
        "plt.subplot( 1, 2, 2)\n",
        "count_y_test =Plot_Count_info(y_test)\n",
        "plt.title('Testing set');"
      ],
      "execution_count": 0,
      "outputs": [
        {
          "output_type": "display_data",
          "data": {
            "image/png": "[encoded data removed]",
            "text/plain": [
              "<Figure size 1080x504 with 2 Axes>"
            ]
          },
          "metadata": {
            "tags": []
          }
        }
      ]
    },
    {
      "metadata": {
        "id": "R6irbNmOkuPl",
        "colab_type": "code",
        "outputId": "e36f73d9-e873-44ce-a563-4cb8d6c39ee7",
        "colab": {
          "base_uri": "https://localhost:8080/",
          "height": 36
        }
      },
      "cell_type": "code",
      "source": [
        "num_classes = count_y_test.size\n",
        "print('num of digit classes = ', num_classes)"
      ],
      "execution_count": 0,
      "outputs": [
        {
          "output_type": "stream",
          "text": [
            "num of digit classes =  10\n"
          ],
          "name": "stdout"
        }
      ]
    },
    {
      "metadata": {
        "id": "bnfaZxBQ2Yi7",
        "colab_type": "text"
      },
      "cell_type": "markdown",
      "source": [
        "## Pre-process the Datasets##"
      ]
    },
    {
      "metadata": {
        "id": "h1xTi7H5vlkB",
        "colab_type": "code",
        "outputId": "6d744ae0-1190-48f4-b1b2-5b11fb053023",
        "colab": {
          "base_uri": "https://localhost:8080/",
          "height": 2017
        }
      },
      "cell_type": "code",
      "source": [
        "import keras\n",
        "import numpy as np\n",
        "# convert class vectors to one hot vector matrices\n",
        "Y_train = keras.utils.to_categorical(y_train, num_classes)\n",
        "Y_test = keras.utils.to_categorical(y_test, num_classes)\n",
        "\n",
        "[n_samples_train, width, height] = np.shape(x_train)\n",
        "[n_samples_test, width, height] = np.shape(x_test)\n",
        "\n",
        "X_train = x_train.reshape([n_samples_train, width*height])\n",
        "X_test =x_test.reshape( [n_samples_test, width*height])\n",
        "\n",
        "print('The sample input(x) is ')\n",
        "print( x_train[0])\n",
        "print('The sample input(X) is ')\n",
        "print(X_train[0])\n",
        "\n",
        "print('The output label (y) is ')\n",
        "print(y_train[0])\n",
        "print('The output label (Y) is ')\n",
        "print(Y_train[0])"
      ],
      "execution_count": 0,
      "outputs": [
        {
          "output_type": "stream",
          "text": [
            "The sample input(x) is \n",
            "[[  0   0   0   0   0   0   0   0   0   0   0   0   0   0   0   0   0   0\n",
            "    0   0   0   0   0   0   0   0   0   0]\n",
            " [  0   0   0   0   0   0   0   0   0   0   0   0   0   0   0   0   0   0\n",
            "    0   0   0   0   0   0   0   0   0   0]\n",
            " [  0   0   0   0   0   0   0   0   0   0   0   0   0   0   0   0   0   0\n",
            "    0   0   0   0   0   0   0   0   0   0]\n",
            " [  0   0   0   0   0   0   0   0   0   0   0   0   0   0   0   0   0   0\n",
            "    0   0   0   0   0   0   0   0   0   0]\n",
            " [  0   0   0   0   0   0   0   0   0   0   0   0   0   0   0   0   0   0\n",
            "    0   0   0   0   0   0   0   0   0   0]\n",
            " [  0   0   0   0   0   0   0   0   0   0   0   0   3  18  18  18 126 136\n",
            "  175  26 166 255 247 127   0   0   0   0]\n",
            " [  0   0   0   0   0   0   0   0  30  36  94 154 170 253 253 253 253 253\n",
            "  225 172 253 242 195  64   0   0   0   0]\n",
            " [  0   0   0   0   0   0   0  49 238 253 253 253 253 253 253 253 253 251\n",
            "   93  82  82  56  39   0   0   0   0   0]\n",
            " [  0   0   0   0   0   0   0  18 219 253 253 253 253 253 198 182 247 241\n",
            "    0   0   0   0   0   0   0   0   0   0]\n",
            " [  0   0   0   0   0   0   0   0  80 156 107 253 253 205  11   0  43 154\n",
            "    0   0   0   0   0   0   0   0   0   0]\n",
            " [  0   0   0   0   0   0   0   0   0  14   1 154 253  90   0   0   0   0\n",
            "    0   0   0   0   0   0   0   0   0   0]\n",
            " [  0   0   0   0   0   0   0   0   0   0   0 139 253 190   2   0   0   0\n",
            "    0   0   0   0   0   0   0   0   0   0]\n",
            " [  0   0   0   0   0   0   0   0   0   0   0  11 190 253  70   0   0   0\n",
            "    0   0   0   0   0   0   0   0   0   0]\n",
            " [  0   0   0   0   0   0   0   0   0   0   0   0  35 241 225 160 108   1\n",
            "    0   0   0   0   0   0   0   0   0   0]\n",
            " [  0   0   0   0   0   0   0   0   0   0   0   0   0  81 240 253 253 119\n",
            "   25   0   0   0   0   0   0   0   0   0]\n",
            " [  0   0   0   0   0   0   0   0   0   0   0   0   0   0  45 186 253 253\n",
            "  150  27   0   0   0   0   0   0   0   0]\n",
            " [  0   0   0   0   0   0   0   0   0   0   0   0   0   0   0  16  93 252\n",
            "  253 187   0   0   0   0   0   0   0   0]\n",
            " [  0   0   0   0   0   0   0   0   0   0   0   0   0   0   0   0   0 249\n",
            "  253 249  64   0   0   0   0   0   0   0]\n",
            " [  0   0   0   0   0   0   0   0   0   0   0   0   0   0  46 130 183 253\n",
            "  253 207   2   0   0   0   0   0   0   0]\n",
            " [  0   0   0   0   0   0   0   0   0   0   0   0  39 148 229 253 253 253\n",
            "  250 182   0   0   0   0   0   0   0   0]\n",
            " [  0   0   0   0   0   0   0   0   0   0  24 114 221 253 253 253 253 201\n",
            "   78   0   0   0   0   0   0   0   0   0]\n",
            " [  0   0   0   0   0   0   0   0  23  66 213 253 253 253 253 198  81   2\n",
            "    0   0   0   0   0   0   0   0   0   0]\n",
            " [  0   0   0   0   0   0  18 171 219 253 253 253 253 195  80   9   0   0\n",
            "    0   0   0   0   0   0   0   0   0   0]\n",
            " [  0   0   0   0  55 172 226 253 253 253 253 244 133  11   0   0   0   0\n",
            "    0   0   0   0   0   0   0   0   0   0]\n",
            " [  0   0   0   0 136 253 253 253 212 135 132  16   0   0   0   0   0   0\n",
            "    0   0   0   0   0   0   0   0   0   0]\n",
            " [  0   0   0   0   0   0   0   0   0   0   0   0   0   0   0   0   0   0\n",
            "    0   0   0   0   0   0   0   0   0   0]\n",
            " [  0   0   0   0   0   0   0   0   0   0   0   0   0   0   0   0   0   0\n",
            "    0   0   0   0   0   0   0   0   0   0]\n",
            " [  0   0   0   0   0   0   0   0   0   0   0   0   0   0   0   0   0   0\n",
            "    0   0   0   0   0   0   0   0   0   0]]\n",
            "The sample input(X) is \n",
            "[  0   0   0   0   0   0   0   0   0   0   0   0   0   0   0   0   0   0\n",
            "   0   0   0   0   0   0   0   0   0   0   0   0   0   0   0   0   0   0\n",
            "   0   0   0   0   0   0   0   0   0   0   0   0   0   0   0   0   0   0\n",
            "   0   0   0   0   0   0   0   0   0   0   0   0   0   0   0   0   0   0\n",
            "   0   0   0   0   0   0   0   0   0   0   0   0   0   0   0   0   0   0\n",
            "   0   0   0   0   0   0   0   0   0   0   0   0   0   0   0   0   0   0\n",
            "   0   0   0   0   0   0   0   0   0   0   0   0   0   0   0   0   0   0\n",
            "   0   0   0   0   0   0   0   0   0   0   0   0   0   0   0   0   0   0\n",
            "   0   0   0   0   0   0   0   0   3  18  18  18 126 136 175  26 166 255\n",
            " 247 127   0   0   0   0   0   0   0   0   0   0   0   0  30  36  94 154\n",
            " 170 253 253 253 253 253 225 172 253 242 195  64   0   0   0   0   0   0\n",
            "   0   0   0   0   0  49 238 253 253 253 253 253 253 253 253 251  93  82\n",
            "  82  56  39   0   0   0   0   0   0   0   0   0   0   0   0  18 219 253\n",
            " 253 253 253 253 198 182 247 241   0   0   0   0   0   0   0   0   0   0\n",
            "   0   0   0   0   0   0   0   0  80 156 107 253 253 205  11   0  43 154\n",
            "   0   0   0   0   0   0   0   0   0   0   0   0   0   0   0   0   0   0\n",
            "   0  14   1 154 253  90   0   0   0   0   0   0   0   0   0   0   0   0\n",
            "   0   0   0   0   0   0   0   0   0   0   0   0   0 139 253 190   2   0\n",
            "   0   0   0   0   0   0   0   0   0   0   0   0   0   0   0   0   0   0\n",
            "   0   0   0   0   0  11 190 253  70   0   0   0   0   0   0   0   0   0\n",
            "   0   0   0   0   0   0   0   0   0   0   0   0   0   0   0   0  35 241\n",
            " 225 160 108   1   0   0   0   0   0   0   0   0   0   0   0   0   0   0\n",
            "   0   0   0   0   0   0   0   0   0  81 240 253 253 119  25   0   0   0\n",
            "   0   0   0   0   0   0   0   0   0   0   0   0   0   0   0   0   0   0\n",
            "   0   0  45 186 253 253 150  27   0   0   0   0   0   0   0   0   0   0\n",
            "   0   0   0   0   0   0   0   0   0   0   0   0   0  16  93 252 253 187\n",
            "   0   0   0   0   0   0   0   0   0   0   0   0   0   0   0   0   0   0\n",
            "   0   0   0   0   0   0   0 249 253 249  64   0   0   0   0   0   0   0\n",
            "   0   0   0   0   0   0   0   0   0   0   0   0   0   0  46 130 183 253\n",
            " 253 207   2   0   0   0   0   0   0   0   0   0   0   0   0   0   0   0\n",
            "   0   0   0   0  39 148 229 253 253 253 250 182   0   0   0   0   0   0\n",
            "   0   0   0   0   0   0   0   0   0   0   0   0  24 114 221 253 253 253\n",
            " 253 201  78   0   0   0   0   0   0   0   0   0   0   0   0   0   0   0\n",
            "   0   0  23  66 213 253 253 253 253 198  81   2   0   0   0   0   0   0\n",
            "   0   0   0   0   0   0   0   0   0   0  18 171 219 253 253 253 253 195\n",
            "  80   9   0   0   0   0   0   0   0   0   0   0   0   0   0   0   0   0\n",
            "  55 172 226 253 253 253 253 244 133  11   0   0   0   0   0   0   0   0\n",
            "   0   0   0   0   0   0   0   0   0   0 136 253 253 253 212 135 132  16\n",
            "   0   0   0   0   0   0   0   0   0   0   0   0   0   0   0   0   0   0\n",
            "   0   0   0   0   0   0   0   0   0   0   0   0   0   0   0   0   0   0\n",
            "   0   0   0   0   0   0   0   0   0   0   0   0   0   0   0   0   0   0\n",
            "   0   0   0   0   0   0   0   0   0   0   0   0   0   0   0   0   0   0\n",
            "   0   0   0   0   0   0   0   0   0   0   0   0   0   0   0   0   0   0\n",
            "   0   0   0   0   0   0   0   0   0   0]\n",
            "The output label (y) is \n",
            "5\n",
            "The output label (Y) is \n",
            "[0. 0. 0. 0. 0. 1. 0. 0. 0. 0.]\n"
          ],
          "name": "stdout"
        }
      ]
    },
    {
      "metadata": {
        "id": "PLYIDRPw85gZ",
        "colab_type": "code",
        "outputId": "c8813c8f-e5a6-4110-c059-58e097fb5760",
        "colab": {
          "base_uri": "https://localhost:8080/",
          "height": 2489
        }
      },
      "cell_type": "code",
      "source": [
        "# normalize the datasets \n",
        "X_train = X_train/np.amax(X_train)\n",
        "X_test = X_test/np.amax(X_train)\n",
        "\n",
        "print('The normalized input (X) is ', X_train[0])"
      ],
      "execution_count": 0,
      "outputs": [
        {
          "output_type": "stream",
          "text": [
            "The normalized input (X) is  [0.         0.         0.         0.         0.         0.\n",
            " 0.         0.         0.         0.         0.         0.\n",
            " 0.         0.         0.         0.         0.         0.\n",
            " 0.         0.         0.         0.         0.         0.\n",
            " 0.         0.         0.         0.         0.         0.\n",
            " 0.         0.         0.         0.         0.         0.\n",
            " 0.         0.         0.         0.         0.         0.\n",
            " 0.         0.         0.         0.         0.         0.\n",
            " 0.         0.         0.         0.         0.         0.\n",
            " 0.         0.         0.         0.         0.         0.\n",
            " 0.         0.         0.         0.         0.         0.\n",
            " 0.         0.         0.         0.         0.         0.\n",
            " 0.         0.         0.         0.         0.         0.\n",
            " 0.         0.         0.         0.         0.         0.\n",
            " 0.         0.         0.         0.         0.         0.\n",
            " 0.         0.         0.         0.         0.         0.\n",
            " 0.         0.         0.         0.         0.         0.\n",
            " 0.         0.         0.         0.         0.         0.\n",
            " 0.         0.         0.         0.         0.         0.\n",
            " 0.         0.         0.         0.         0.         0.\n",
            " 0.         0.         0.         0.         0.         0.\n",
            " 0.         0.         0.         0.         0.         0.\n",
            " 0.         0.         0.         0.         0.         0.\n",
            " 0.         0.         0.         0.         0.         0.\n",
            " 0.         0.         0.         0.         0.         0.\n",
            " 0.         0.         0.01176471 0.07058824 0.07058824 0.07058824\n",
            " 0.49411765 0.53333333 0.68627451 0.10196078 0.65098039 1.\n",
            " 0.96862745 0.49803922 0.         0.         0.         0.\n",
            " 0.         0.         0.         0.         0.         0.\n",
            " 0.         0.         0.11764706 0.14117647 0.36862745 0.60392157\n",
            " 0.66666667 0.99215686 0.99215686 0.99215686 0.99215686 0.99215686\n",
            " 0.88235294 0.6745098  0.99215686 0.94901961 0.76470588 0.25098039\n",
            " 0.         0.         0.         0.         0.         0.\n",
            " 0.         0.         0.         0.         0.         0.19215686\n",
            " 0.93333333 0.99215686 0.99215686 0.99215686 0.99215686 0.99215686\n",
            " 0.99215686 0.99215686 0.99215686 0.98431373 0.36470588 0.32156863\n",
            " 0.32156863 0.21960784 0.15294118 0.         0.         0.\n",
            " 0.         0.         0.         0.         0.         0.\n",
            " 0.         0.         0.         0.07058824 0.85882353 0.99215686\n",
            " 0.99215686 0.99215686 0.99215686 0.99215686 0.77647059 0.71372549\n",
            " 0.96862745 0.94509804 0.         0.         0.         0.\n",
            " 0.         0.         0.         0.         0.         0.\n",
            " 0.         0.         0.         0.         0.         0.\n",
            " 0.         0.         0.31372549 0.61176471 0.41960784 0.99215686\n",
            " 0.99215686 0.80392157 0.04313725 0.         0.16862745 0.60392157\n",
            " 0.         0.         0.         0.         0.         0.\n",
            " 0.         0.         0.         0.         0.         0.\n",
            " 0.         0.         0.         0.         0.         0.\n",
            " 0.         0.05490196 0.00392157 0.60392157 0.99215686 0.35294118\n",
            " 0.         0.         0.         0.         0.         0.\n",
            " 0.         0.         0.         0.         0.         0.\n",
            " 0.         0.         0.         0.         0.         0.\n",
            " 0.         0.         0.         0.         0.         0.\n",
            " 0.         0.54509804 0.99215686 0.74509804 0.00784314 0.\n",
            " 0.         0.         0.         0.         0.         0.\n",
            " 0.         0.         0.         0.         0.         0.\n",
            " 0.         0.         0.         0.         0.         0.\n",
            " 0.         0.         0.         0.         0.         0.04313725\n",
            " 0.74509804 0.99215686 0.2745098  0.         0.         0.\n",
            " 0.         0.         0.         0.         0.         0.\n",
            " 0.         0.         0.         0.         0.         0.\n",
            " 0.         0.         0.         0.         0.         0.\n",
            " 0.         0.         0.         0.         0.1372549  0.94509804\n",
            " 0.88235294 0.62745098 0.42352941 0.00392157 0.         0.\n",
            " 0.         0.         0.         0.         0.         0.\n",
            " 0.         0.         0.         0.         0.         0.\n",
            " 0.         0.         0.         0.         0.         0.\n",
            " 0.         0.         0.         0.31764706 0.94117647 0.99215686\n",
            " 0.99215686 0.46666667 0.09803922 0.         0.         0.\n",
            " 0.         0.         0.         0.         0.         0.\n",
            " 0.         0.         0.         0.         0.         0.\n",
            " 0.         0.         0.         0.         0.         0.\n",
            " 0.         0.         0.17647059 0.72941176 0.99215686 0.99215686\n",
            " 0.58823529 0.10588235 0.         0.         0.         0.\n",
            " 0.         0.         0.         0.         0.         0.\n",
            " 0.         0.         0.         0.         0.         0.\n",
            " 0.         0.         0.         0.         0.         0.\n",
            " 0.         0.0627451  0.36470588 0.98823529 0.99215686 0.73333333\n",
            " 0.         0.         0.         0.         0.         0.\n",
            " 0.         0.         0.         0.         0.         0.\n",
            " 0.         0.         0.         0.         0.         0.\n",
            " 0.         0.         0.         0.         0.         0.\n",
            " 0.         0.97647059 0.99215686 0.97647059 0.25098039 0.\n",
            " 0.         0.         0.         0.         0.         0.\n",
            " 0.         0.         0.         0.         0.         0.\n",
            " 0.         0.         0.         0.         0.         0.\n",
            " 0.         0.         0.18039216 0.50980392 0.71764706 0.99215686\n",
            " 0.99215686 0.81176471 0.00784314 0.         0.         0.\n",
            " 0.         0.         0.         0.         0.         0.\n",
            " 0.         0.         0.         0.         0.         0.\n",
            " 0.         0.         0.         0.         0.15294118 0.58039216\n",
            " 0.89803922 0.99215686 0.99215686 0.99215686 0.98039216 0.71372549\n",
            " 0.         0.         0.         0.         0.         0.\n",
            " 0.         0.         0.         0.         0.         0.\n",
            " 0.         0.         0.         0.         0.         0.\n",
            " 0.09411765 0.44705882 0.86666667 0.99215686 0.99215686 0.99215686\n",
            " 0.99215686 0.78823529 0.30588235 0.         0.         0.\n",
            " 0.         0.         0.         0.         0.         0.\n",
            " 0.         0.         0.         0.         0.         0.\n",
            " 0.         0.         0.09019608 0.25882353 0.83529412 0.99215686\n",
            " 0.99215686 0.99215686 0.99215686 0.77647059 0.31764706 0.00784314\n",
            " 0.         0.         0.         0.         0.         0.\n",
            " 0.         0.         0.         0.         0.         0.\n",
            " 0.         0.         0.         0.         0.07058824 0.67058824\n",
            " 0.85882353 0.99215686 0.99215686 0.99215686 0.99215686 0.76470588\n",
            " 0.31372549 0.03529412 0.         0.         0.         0.\n",
            " 0.         0.         0.         0.         0.         0.\n",
            " 0.         0.         0.         0.         0.         0.\n",
            " 0.21568627 0.6745098  0.88627451 0.99215686 0.99215686 0.99215686\n",
            " 0.99215686 0.95686275 0.52156863 0.04313725 0.         0.\n",
            " 0.         0.         0.         0.         0.         0.\n",
            " 0.         0.         0.         0.         0.         0.\n",
            " 0.         0.         0.         0.         0.53333333 0.99215686\n",
            " 0.99215686 0.99215686 0.83137255 0.52941176 0.51764706 0.0627451\n",
            " 0.         0.         0.         0.         0.         0.\n",
            " 0.         0.         0.         0.         0.         0.\n",
            " 0.         0.         0.         0.         0.         0.\n",
            " 0.         0.         0.         0.         0.         0.\n",
            " 0.         0.         0.         0.         0.         0.\n",
            " 0.         0.         0.         0.         0.         0.\n",
            " 0.         0.         0.         0.         0.         0.\n",
            " 0.         0.         0.         0.         0.         0.\n",
            " 0.         0.         0.         0.         0.         0.\n",
            " 0.         0.         0.         0.         0.         0.\n",
            " 0.         0.         0.         0.         0.         0.\n",
            " 0.         0.         0.         0.         0.         0.\n",
            " 0.         0.         0.         0.         0.         0.\n",
            " 0.         0.         0.         0.         0.         0.\n",
            " 0.         0.         0.         0.         0.         0.\n",
            " 0.         0.         0.         0.         0.         0.\n",
            " 0.         0.         0.         0.        ]\n"
          ],
          "name": "stdout"
        }
      ]
    },
    {
      "metadata": {
        "id": "i-RSMGLl2K4N",
        "colab_type": "text"
      },
      "cell_type": "markdown",
      "source": [
        "## Train and Validate a model##"
      ]
    },
    {
      "metadata": {
        "id": "khh-_iE31jy9",
        "colab_type": "text"
      },
      "cell_type": "markdown",
      "source": [
        "Quick summary of the training and validation process of the supervised learning. \n",
        "\n",
        "1.   Data (Input, Output):  $\\mathcal{D} = \\{(x_{i}, y_{i})\\}_{i = 1}^{N}$. \n",
        "2.   Model: $y = {\\color{blue}f_{\\theta}}(x) + \\varepsilon, ~~~ \\forall x \\in \\mathbb{R}^{d}$.\n",
        "3.   Loss Function: $L({\\color{blue}\\theta} \\vert \\mathcal{D}) \\rightarrow $Minimize\n",
        "4.   Optimization: ${\\color{blue}\\theta^{*}}= \\min_{\\theta} (L({\\color{blue}\\theta} \\vert \\mathcal{D}))$\n",
        "5.   Prediction.\n",
        "6.   Validation: Compute the metric of the fitting performance in the test set. \n",
        "\n",
        "\n",
        "\n",
        "\n",
        "\n"
      ]
    },
    {
      "metadata": {
        "id": "navW79rCGgCu",
        "colab_type": "text"
      },
      "cell_type": "markdown",
      "source": [
        "Let us starat with two-layer (Shallow) Neural Network.\n",
        "\n",
        "![Shallow Neural Network](https://docs.google.com/uc?export=download&id=1swriJo3eeBNkWXmieRWtTig0jU61oG9H)\n",
        "\n"
      ]
    },
    {
      "metadata": {
        "id": "8kMEI5PYqgok",
        "colab_type": "text"
      },
      "cell_type": "markdown",
      "source": [
        "The MNIST Example: Digit Classfication\n",
        "\n",
        "\n",
        "1.   Data: (Input, Output) $= (x, y), x \\in \\mathbb{R}^{784}, y $ is a categorical variable (10 classes). \n",
        "2.   Model: Shallow Neural network using     \n",
        " *  relu activation function, i.e. $a(x) = \\max(x, 0)$ in the hidden layer\n",
        "\n",
        " *    and softmax activation function, i.e. $b(x)_j = \\frac{e^{x_{j}}}{\\sum_{k} e^{x_{k}}}$ in the output layer\n",
        "\n",
        "3.   Loss Function: Cross Entropy\n",
        "4.   Optmization: Stochastic Graident Descent\n",
        "5.   Prediction\n",
        "6.   Validation: Choose the accuracy of label prediction as metric \n",
        "\n",
        "\n"
      ]
    },
    {
      "metadata": {
        "id": "JtAJ2bDL2_S0",
        "colab_type": "code",
        "outputId": "f5d78ae3-6a5f-4450-8992-1339e5b942f5",
        "colab": {
          "base_uri": "https://localhost:8080/",
          "height": 3847
        }
      },
      "cell_type": "code",
      "source": [
        "import time\n",
        "import numpy as np\n",
        "from matplotlib import pyplot as plt\n",
        "from keras.models import Sequential\n",
        "from keras.layers.core import Dense\n",
        "from keras.optimizers import SGD\n",
        "\n",
        "  \n",
        "def shallow_NN_model(n_hidden_neurons):\n",
        "    start_time = time.time()\n",
        "    print('Compiling Model ... ')\n",
        "    model = Sequential()\n",
        "    model.add(Dense(n_hidden_neurons, activation = 'relu', input_dim=784))\n",
        "    model.add(Dense(10, activation = 'softmax'))\n",
        "    sgd = SGD(lr=0.1, decay=1e-6, momentum=0.9, nesterov=True)\n",
        "    model.compile(loss='categorical_crossentropy', optimizer=sgd, metrics=['accuracy'])\n",
        "    print('Model compield in {0} seconds'.format(time.time() - start_time))\n",
        "    return model\n",
        "    \n",
        "epochs = 100\n",
        "batch  = 256\n",
        "n_hidden_neurons = 50\n",
        "model = shallow_NN_model(n_hidden_neurons)\n",
        "hist1 = model.fit(X_train, Y_train, epochs=epochs, batch_size=batch, validation_data=(X_test, Y_test), verbose=2)"
      ],
      "execution_count": 0,
      "outputs": [
        {
          "output_type": "stream",
          "text": [
            "Compiling Model ... \n",
            "Model compield in 0.0668172836303711 seconds\n",
            "Train on 60000 samples, validate on 10000 samples\n",
            "Epoch 1/100\n",
            " - 1s - loss: 0.3481 - acc: 0.8961 - val_loss: 1.0044 - val_acc: 0.9368\n",
            "Epoch 2/100\n",
            " - 1s - loss: 0.1647 - acc: 0.9523 - val_loss: 0.7998 - val_acc: 0.9491\n",
            "Epoch 3/100\n",
            " - 1s - loss: 0.1243 - acc: 0.9630 - val_loss: 0.6325 - val_acc: 0.9604\n",
            "Epoch 4/100\n",
            " - 1s - loss: 0.1011 - acc: 0.9695 - val_loss: 0.5851 - val_acc: 0.9630\n",
            "Epoch 5/100\n",
            " - 1s - loss: 0.0857 - acc: 0.9742 - val_loss: 0.5552 - val_acc: 0.9649\n",
            "Epoch 6/100\n",
            " - 1s - loss: 0.0749 - acc: 0.9776 - val_loss: 0.6039 - val_acc: 0.9622\n",
            "Epoch 7/100\n",
            " - 1s - loss: 0.0664 - acc: 0.9794 - val_loss: 0.5559 - val_acc: 0.9648\n",
            "Epoch 8/100\n",
            " - 1s - loss: 0.0601 - acc: 0.9818 - val_loss: 0.5065 - val_acc: 0.9683\n",
            "Epoch 9/100\n",
            " - 1s - loss: 0.0538 - acc: 0.9837 - val_loss: 0.4942 - val_acc: 0.9690\n",
            "Epoch 10/100\n",
            " - 1s - loss: 0.0498 - acc: 0.9844 - val_loss: 0.4903 - val_acc: 0.9692\n",
            "Epoch 11/100\n",
            " - 1s - loss: 0.0437 - acc: 0.9864 - val_loss: 0.4974 - val_acc: 0.9687\n",
            "Epoch 12/100\n",
            " - 1s - loss: 0.0404 - acc: 0.9877 - val_loss: 0.5326 - val_acc: 0.9667\n",
            "Epoch 13/100\n",
            " - 1s - loss: 0.0371 - acc: 0.9886 - val_loss: 0.4888 - val_acc: 0.9694\n",
            "Epoch 14/100\n",
            " - 1s - loss: 0.0342 - acc: 0.9894 - val_loss: 0.5409 - val_acc: 0.9660\n",
            "Epoch 15/100\n",
            " - 1s - loss: 0.0311 - acc: 0.9904 - val_loss: 0.5101 - val_acc: 0.9679\n",
            "Epoch 16/100\n",
            " - 1s - loss: 0.0287 - acc: 0.9912 - val_loss: 0.6131 - val_acc: 0.9616\n",
            "Epoch 17/100\n",
            " - 1s - loss: 0.0259 - acc: 0.9921 - val_loss: 0.5860 - val_acc: 0.9632\n",
            "Epoch 18/100\n",
            " - 1s - loss: 0.0234 - acc: 0.9931 - val_loss: 0.5190 - val_acc: 0.9674\n",
            "Epoch 19/100\n",
            " - 1s - loss: 0.0223 - acc: 0.9934 - val_loss: 0.5232 - val_acc: 0.9671\n",
            "Epoch 20/100\n",
            " - 1s - loss: 0.0192 - acc: 0.9947 - val_loss: 0.5127 - val_acc: 0.9679\n",
            "Epoch 21/100\n",
            " - 1s - loss: 0.0171 - acc: 0.9958 - val_loss: 0.4937 - val_acc: 0.9693\n",
            "Epoch 22/100\n",
            " - 1s - loss: 0.0155 - acc: 0.9962 - val_loss: 0.5314 - val_acc: 0.9668\n",
            "Epoch 23/100\n",
            " - 1s - loss: 0.0151 - acc: 0.9963 - val_loss: 0.5466 - val_acc: 0.9660\n",
            "Epoch 24/100\n",
            " - 1s - loss: 0.0140 - acc: 0.9967 - val_loss: 0.5071 - val_acc: 0.9684\n",
            "Epoch 25/100\n",
            " - 1s - loss: 0.0120 - acc: 0.9976 - val_loss: 0.4979 - val_acc: 0.9688\n",
            "Epoch 26/100\n",
            " - 1s - loss: 0.0111 - acc: 0.9976 - val_loss: 0.4800 - val_acc: 0.9698\n",
            "Epoch 27/100\n",
            " - 1s - loss: 0.0097 - acc: 0.9982 - val_loss: 0.5256 - val_acc: 0.9669\n",
            "Epoch 28/100\n",
            " - 1s - loss: 0.0094 - acc: 0.9982 - val_loss: 0.4760 - val_acc: 0.9702\n",
            "Epoch 29/100\n",
            " - 1s - loss: 0.0083 - acc: 0.9987 - val_loss: 0.5195 - val_acc: 0.9676\n",
            "Epoch 30/100\n",
            " - 1s - loss: 0.0074 - acc: 0.9990 - val_loss: 0.4900 - val_acc: 0.9691\n",
            "Epoch 31/100\n",
            " - 1s - loss: 0.0071 - acc: 0.9988 - val_loss: 0.5431 - val_acc: 0.9660\n",
            "Epoch 32/100\n",
            " - 1s - loss: 0.0063 - acc: 0.9993 - val_loss: 0.4851 - val_acc: 0.9694\n",
            "Epoch 33/100\n",
            " - 1s - loss: 0.0056 - acc: 0.9995 - val_loss: 0.5061 - val_acc: 0.9685\n",
            "Epoch 34/100\n",
            " - 1s - loss: 0.0052 - acc: 0.9995 - val_loss: 0.5386 - val_acc: 0.9662\n",
            "Epoch 35/100\n",
            " - 1s - loss: 0.0048 - acc: 0.9996 - val_loss: 0.5048 - val_acc: 0.9684\n",
            "Epoch 36/100\n",
            " - 1s - loss: 0.0042 - acc: 0.9998 - val_loss: 0.5014 - val_acc: 0.9685\n",
            "Epoch 37/100\n",
            " - 1s - loss: 0.0040 - acc: 0.9997 - val_loss: 0.5245 - val_acc: 0.9674\n",
            "Epoch 38/100\n",
            " - 1s - loss: 0.0036 - acc: 0.9999 - val_loss: 0.5119 - val_acc: 0.9681\n",
            "Epoch 39/100\n",
            " - 1s - loss: 0.0035 - acc: 0.9998 - val_loss: 0.5381 - val_acc: 0.9662\n",
            "Epoch 40/100\n",
            " - 1s - loss: 0.0033 - acc: 0.9999 - val_loss: 0.5364 - val_acc: 0.9664\n",
            "Epoch 41/100\n",
            " - 1s - loss: 0.0030 - acc: 0.9999 - val_loss: 0.5166 - val_acc: 0.9677\n",
            "Epoch 42/100\n",
            " - 1s - loss: 0.0029 - acc: 0.9999 - val_loss: 0.5124 - val_acc: 0.9682\n",
            "Epoch 43/100\n",
            " - 1s - loss: 0.0028 - acc: 0.9999 - val_loss: 0.5258 - val_acc: 0.9670\n",
            "Epoch 44/100\n",
            " - 1s - loss: 0.0026 - acc: 1.0000 - val_loss: 0.5191 - val_acc: 0.9677\n",
            "Epoch 45/100\n",
            " - 1s - loss: 0.0025 - acc: 1.0000 - val_loss: 0.4908 - val_acc: 0.9693\n",
            "Epoch 46/100\n",
            " - 1s - loss: 0.0024 - acc: 1.0000 - val_loss: 0.5219 - val_acc: 0.9674\n",
            "Epoch 47/100\n",
            " - 1s - loss: 0.0023 - acc: 1.0000 - val_loss: 0.5114 - val_acc: 0.9681\n",
            "Epoch 48/100\n",
            " - 1s - loss: 0.0023 - acc: 1.0000 - val_loss: 0.5195 - val_acc: 0.9677\n",
            "Epoch 49/100\n",
            " - 1s - loss: 0.0021 - acc: 1.0000 - val_loss: 0.4903 - val_acc: 0.9695\n",
            "Epoch 50/100\n",
            " - 1s - loss: 0.0021 - acc: 1.0000 - val_loss: 0.4991 - val_acc: 0.9690\n",
            "Epoch 51/100\n",
            " - 1s - loss: 0.0020 - acc: 1.0000 - val_loss: 0.5112 - val_acc: 0.9681\n",
            "Epoch 52/100\n",
            " - 1s - loss: 0.0020 - acc: 1.0000 - val_loss: 0.5070 - val_acc: 0.9683\n",
            "Epoch 53/100\n",
            " - 1s - loss: 0.0019 - acc: 1.0000 - val_loss: 0.5062 - val_acc: 0.9685\n",
            "Epoch 54/100\n",
            " - 1s - loss: 0.0018 - acc: 1.0000 - val_loss: 0.5239 - val_acc: 0.9674\n",
            "Epoch 55/100\n",
            " - 1s - loss: 0.0018 - acc: 1.0000 - val_loss: 0.5179 - val_acc: 0.9678\n",
            "Epoch 56/100\n",
            " - 1s - loss: 0.0017 - acc: 1.0000 - val_loss: 0.5112 - val_acc: 0.9682\n",
            "Epoch 57/100\n",
            " - 1s - loss: 0.0016 - acc: 1.0000 - val_loss: 0.5126 - val_acc: 0.9680\n",
            "Epoch 58/100\n",
            " - 1s - loss: 0.0016 - acc: 1.0000 - val_loss: 0.5133 - val_acc: 0.9680\n",
            "Epoch 59/100\n",
            " - 1s - loss: 0.0016 - acc: 1.0000 - val_loss: 0.5052 - val_acc: 0.9685\n",
            "Epoch 60/100\n",
            " - 1s - loss: 0.0015 - acc: 1.0000 - val_loss: 0.4971 - val_acc: 0.9690\n",
            "Epoch 61/100\n",
            " - 1s - loss: 0.0015 - acc: 1.0000 - val_loss: 0.5010 - val_acc: 0.9688\n",
            "Epoch 62/100\n",
            " - 1s - loss: 0.0015 - acc: 1.0000 - val_loss: 0.5075 - val_acc: 0.9684\n",
            "Epoch 63/100\n",
            " - 1s - loss: 0.0014 - acc: 1.0000 - val_loss: 0.5190 - val_acc: 0.9675\n",
            "Epoch 64/100\n",
            " - 1s - loss: 0.0014 - acc: 1.0000 - val_loss: 0.5051 - val_acc: 0.9683\n",
            "Epoch 65/100\n",
            " - 1s - loss: 0.0014 - acc: 1.0000 - val_loss: 0.5130 - val_acc: 0.9680\n",
            "Epoch 66/100\n",
            " - 1s - loss: 0.0014 - acc: 1.0000 - val_loss: 0.5019 - val_acc: 0.9685\n",
            "Epoch 67/100\n",
            " - 1s - loss: 0.0013 - acc: 1.0000 - val_loss: 0.5043 - val_acc: 0.9685\n",
            "Epoch 68/100\n",
            " - 1s - loss: 0.0013 - acc: 1.0000 - val_loss: 0.5052 - val_acc: 0.9685\n",
            "Epoch 69/100\n",
            " - 1s - loss: 0.0013 - acc: 1.0000 - val_loss: 0.5101 - val_acc: 0.9681\n",
            "Epoch 70/100\n",
            " - 1s - loss: 0.0013 - acc: 1.0000 - val_loss: 0.4993 - val_acc: 0.9686\n",
            "Epoch 71/100\n",
            " - 1s - loss: 0.0012 - acc: 1.0000 - val_loss: 0.5112 - val_acc: 0.9681\n",
            "Epoch 72/100\n",
            " - 1s - loss: 0.0012 - acc: 1.0000 - val_loss: 0.5123 - val_acc: 0.9679\n",
            "Epoch 73/100\n",
            " - 1s - loss: 0.0012 - acc: 1.0000 - val_loss: 0.5139 - val_acc: 0.9678\n",
            "Epoch 74/100\n",
            " - 1s - loss: 0.0012 - acc: 1.0000 - val_loss: 0.5088 - val_acc: 0.9683\n",
            "Epoch 75/100\n",
            " - 1s - loss: 0.0012 - acc: 1.0000 - val_loss: 0.5222 - val_acc: 0.9676\n",
            "Epoch 76/100\n",
            " - 1s - loss: 0.0011 - acc: 1.0000 - val_loss: 0.5037 - val_acc: 0.9684\n",
            "Epoch 77/100\n",
            " - 1s - loss: 0.0011 - acc: 1.0000 - val_loss: 0.5125 - val_acc: 0.9680\n",
            "Epoch 78/100\n",
            " - 1s - loss: 0.0011 - acc: 1.0000 - val_loss: 0.4983 - val_acc: 0.9689\n",
            "Epoch 79/100\n",
            " - 1s - loss: 0.0011 - acc: 1.0000 - val_loss: 0.5048 - val_acc: 0.9685\n",
            "Epoch 80/100\n",
            " - 1s - loss: 0.0011 - acc: 1.0000 - val_loss: 0.5057 - val_acc: 0.9684\n",
            "Epoch 81/100\n",
            " - 1s - loss: 0.0011 - acc: 1.0000 - val_loss: 0.5119 - val_acc: 0.9681\n",
            "Epoch 82/100\n",
            " - 1s - loss: 0.0010 - acc: 1.0000 - val_loss: 0.5035 - val_acc: 0.9687\n",
            "Epoch 83/100\n",
            " - 1s - loss: 0.0010 - acc: 1.0000 - val_loss: 0.4957 - val_acc: 0.9692\n",
            "Epoch 84/100\n",
            " - 1s - loss: 0.0010 - acc: 1.0000 - val_loss: 0.5061 - val_acc: 0.9684\n",
            "Epoch 85/100\n",
            " - 1s - loss: 0.0010 - acc: 1.0000 - val_loss: 0.5022 - val_acc: 0.9686\n",
            "Epoch 86/100\n",
            " - 1s - loss: 9.9195e-04 - acc: 1.0000 - val_loss: 0.4976 - val_acc: 0.9690\n",
            "Epoch 87/100\n",
            " - 1s - loss: 9.7695e-04 - acc: 1.0000 - val_loss: 0.5143 - val_acc: 0.9680\n",
            "Epoch 88/100\n",
            " - 1s - loss: 9.6898e-04 - acc: 1.0000 - val_loss: 0.5023 - val_acc: 0.9687\n",
            "Epoch 89/100\n",
            " - 1s - loss: 9.6040e-04 - acc: 1.0000 - val_loss: 0.5017 - val_acc: 0.9688\n",
            "Epoch 90/100\n",
            " - 1s - loss: 9.4431e-04 - acc: 1.0000 - val_loss: 0.5034 - val_acc: 0.9686\n",
            "Epoch 91/100\n",
            " - 1s - loss: 9.3790e-04 - acc: 1.0000 - val_loss: 0.5003 - val_acc: 0.9687\n",
            "Epoch 92/100\n",
            " - 1s - loss: 9.2799e-04 - acc: 1.0000 - val_loss: 0.5155 - val_acc: 0.9675\n",
            "Epoch 93/100\n",
            " - 1s - loss: 9.1393e-04 - acc: 1.0000 - val_loss: 0.5089 - val_acc: 0.9682\n",
            "Epoch 94/100\n",
            " - 1s - loss: 9.0551e-04 - acc: 1.0000 - val_loss: 0.5089 - val_acc: 0.9683\n",
            "Epoch 95/100\n",
            " - 1s - loss: 8.9418e-04 - acc: 1.0000 - val_loss: 0.5079 - val_acc: 0.9684\n",
            "Epoch 96/100\n",
            " - 1s - loss: 8.8938e-04 - acc: 1.0000 - val_loss: 0.5029 - val_acc: 0.9688\n",
            "Epoch 97/100\n",
            " - 1s - loss: 8.7795e-04 - acc: 1.0000 - val_loss: 0.5073 - val_acc: 0.9684\n",
            "Epoch 98/100\n",
            " - 1s - loss: 8.6907e-04 - acc: 1.0000 - val_loss: 0.5034 - val_acc: 0.9686\n",
            "Epoch 99/100\n",
            " - 1s - loss: 8.6269e-04 - acc: 1.0000 - val_loss: 0.5053 - val_acc: 0.9684\n",
            "Epoch 100/100\n",
            " - 1s - loss: 8.5337e-04 - acc: 1.0000 - val_loss: 0.5086 - val_acc: 0.9683\n"
          ],
          "name": "stdout"
        }
      ]
    },
    {
      "metadata": {
        "id": "ZJyN-Q3s7Pb4",
        "colab_type": "code",
        "outputId": "713119dd-b282-468f-8bb3-b1a1a6da48c8",
        "colab": {
          "base_uri": "https://localhost:8080/",
          "height": 502
        }
      },
      "cell_type": "code",
      "source": [
        "print(hist1.history.keys())\n",
        "\n",
        "def plot_hist(hist):\n",
        "  plt.figure(figsize = (20, 8))\n",
        "  plt.subplot(121)\n",
        "  plt.plot(hist.history['loss'])\n",
        "  plt.plot(hist.history['val_loss'])\n",
        "  plt.legend(['train','test'])\n",
        "  plt.subplot(122)\n",
        "  plt.plot(hist.history['acc'])\n",
        "  plt.plot(hist.history['val_acc'])\n",
        "  plt.legend(['train','test'])\n",
        "  \n",
        "plot_hist(hist1)"
      ],
      "execution_count": 0,
      "outputs": [
        {
          "output_type": "stream",
          "text": [
            "dict_keys(['val_loss', 'val_acc', 'loss', 'acc'])\n"
          ],
          "name": "stdout"
        },
        {
          "output_type": "display_data",
          "data": {
            "image/png": "[encoded data removed]",
            "text/plain": [
              "<matplotlib.figure.Figure at 0x7f994b173ef0>"
            ]
          },
          "metadata": {
            "tags": []
          }
        }
      ]
    },
    {
      "metadata": {
        "id": "fTnx4Ke0-5wx",
        "colab_type": "text"
      },
      "cell_type": "markdown",
      "source": [
        "**Assess the performance of a fitted model**\n",
        "\n",
        "There are various measurements of the performance of the fitted models in classification problems.\n",
        "*   Loss function and the accuracy;\n",
        "*   Confusion matrix. \n",
        "\n"
      ]
    },
    {
      "metadata": {
        "id": "JfACgwxC-45m",
        "colab_type": "code",
        "outputId": "13f9ddde-d391-4cbf-fe7b-4822bbf0fbfc",
        "colab": {
          "base_uri": "https://localhost:8080/",
          "height": 92
        }
      },
      "cell_type": "code",
      "source": [
        "score1 =  model.evaluate(X_test, Y_test)\n",
        "print(model.metrics_names)\n",
        "print('Test ' + model.metrics_names[0] , score1[0])\n",
        "print('Test '+ model.metrics_names[1] , score1[1])"
      ],
      "execution_count": 0,
      "outputs": [
        {
          "output_type": "stream",
          "text": [
            "10000/10000 [==============================] - 1s 58us/step\n",
            "['loss', 'acc']\n",
            "Test loss 0.5085956861685993\n",
            "Test acc 0.9683\n"
          ],
          "name": "stdout"
        }
      ]
    },
    {
      "metadata": {
        "id": "TVKmyfeG5_gS",
        "colab_type": "code",
        "outputId": "0d72e901-222c-4e1f-8b64-bb62e03658aa",
        "colab": {
          "base_uri": "https://localhost:8080/",
          "height": 55
        }
      },
      "cell_type": "code",
      "source": [
        "from sklearn.metrics import confusion_matrix\n",
        "\n",
        "Y_test_prob_pred = model.predict(X_test)\n",
        "Y_test_class_pred = model.predict_classes(X_test)\n",
        "print(Y_test_class_pred )\n",
        "print(y_test)\n",
        "cm = confusion_matrix( y_test, Y_test_class_pred )\n",
        "labels = np.arange(10);"
      ],
      "execution_count": 0,
      "outputs": [
        {
          "output_type": "stream",
          "text": [
            "[7 2 1 ... 4 5 6]\n",
            "[7 2 1 ... 4 5 6]\n"
          ],
          "name": "stdout"
        }
      ]
    },
    {
      "metadata": {
        "id": "jnmn95ei2zrD",
        "colab_type": "code",
        "outputId": "74c8eaf2-9657-4cd1-8dc7-719270351dcd",
        "colab": {
          "base_uri": "https://localhost:8080/",
          "height": 1605
        }
      },
      "cell_type": "code",
      "source": [
        "import itertools  \n",
        "def plot_confusion_matrix(cm, classes,\n",
        "                          normalize=False,\n",
        "                          title='Confusion matrix',\n",
        "                          cmap=plt.cm.Blues):\n",
        "    \"\"\"\n",
        "    This function prints and plots the confusion matrix.\n",
        "    Normalization can be applied by setting `normalize=True`.\n",
        "    \"\"\"\n",
        "    if normalize:\n",
        "        cm = cm.astype('float') / cm.sum(axis=1)[:, np.newaxis]\n",
        "        print(\"Normalized confusion matrix\")\n",
        "    else:\n",
        "        print('Confusion matrix, without normalization')\n",
        "\n",
        "    print(cm)\n",
        "\n",
        "    plt.imshow(cm, interpolation='nearest', cmap=cmap)\n",
        "    plt.title(title)\n",
        "    plt.colorbar()\n",
        "    tick_marks = np.arange(len(classes))\n",
        "    plt.xticks(tick_marks, classes, rotation=45)\n",
        "    plt.yticks(tick_marks, classes)\n",
        "\n",
        "    fmt = '.2f' if normalize else 'd'\n",
        "    thresh = cm.max() / 2.\n",
        "    for i, j in itertools.product(range(cm.shape[0]), range(cm.shape[1])):\n",
        "        plt.text(j, i, format(cm[i, j], fmt),\n",
        "                 horizontalalignment=\"center\",\n",
        "                 color=\"white\" if cm[i, j] > thresh else \"black\")\n",
        "\n",
        "    plt.tight_layout()\n",
        "    plt.ylabel('True label')\n",
        "    plt.xlabel('Predicted label')\n",
        "    plt.grid(b = 0)\n",
        "\n",
        "## The code for the function plot_confusion_matrix() is attributed to http://scikit-learn.org/stable/auto_examples/model_selection/plot_confusion_matrix.html\n",
        "\n",
        "# Plot non-normalized confusion matrix\n",
        "plt.figure()\n",
        "plot_confusion_matrix(cm, classes=list(map(str, labels)), title='Confusion matrix, without normalization')\n",
        "plt.figure()\n",
        "plot_confusion_matrix(cm, classes=list(map(str, labels)), normalize=True, title='Normalized confusion matrix')\n"
      ],
      "execution_count": 0,
      "outputs": [
        {
          "output_type": "stream",
          "text": [
            "Confusion matrix, without normalization\n",
            "[[ 973    0    0    2    0    0    2    1    1    1]\n",
            " [   0 1121    2    2    0    0    3    4    3    0]\n",
            " [   5    4 1000    8    3    0    3    8    1    0]\n",
            " [   2    1    0  999    0    0    0    4    2    2]\n",
            " [   4    2    4    2  954    0    2    4    2    8]\n",
            " [   4    1    1   31    0  828   10    3    7    7]\n",
            " [   7    2    1    1    7    3  934    2    1    0]\n",
            " [   2    4    7    7    2    0    0  999    0    7]\n",
            " [   7    4   10   32    2    4    1    6  905    3]\n",
            " [   4    4    2   13    4    1    2    8    1  970]]\n",
            "Normalized confusion matrix\n",
            "[[9.92857143e-01 0.00000000e+00 0.00000000e+00 2.04081633e-03\n",
            "  0.00000000e+00 0.00000000e+00 2.04081633e-03 1.02040816e-03\n",
            "  1.02040816e-03 1.02040816e-03]\n",
            " [0.00000000e+00 9.87665198e-01 1.76211454e-03 1.76211454e-03\n",
            "  0.00000000e+00 0.00000000e+00 2.64317181e-03 3.52422907e-03\n",
            "  2.64317181e-03 0.00000000e+00]\n",
            " [4.84496124e-03 3.87596899e-03 9.68992248e-01 7.75193798e-03\n",
            "  2.90697674e-03 0.00000000e+00 2.90697674e-03 7.75193798e-03\n",
            "  9.68992248e-04 0.00000000e+00]\n",
            " [1.98019802e-03 9.90099010e-04 0.00000000e+00 9.89108911e-01\n",
            "  0.00000000e+00 0.00000000e+00 0.00000000e+00 3.96039604e-03\n",
            "  1.98019802e-03 1.98019802e-03]\n",
            " [4.07331976e-03 2.03665988e-03 4.07331976e-03 2.03665988e-03\n",
            "  9.71486762e-01 0.00000000e+00 2.03665988e-03 4.07331976e-03\n",
            "  2.03665988e-03 8.14663951e-03]\n",
            " [4.48430493e-03 1.12107623e-03 1.12107623e-03 3.47533632e-02\n",
            "  0.00000000e+00 9.28251121e-01 1.12107623e-02 3.36322870e-03\n",
            "  7.84753363e-03 7.84753363e-03]\n",
            " [7.30688935e-03 2.08768267e-03 1.04384134e-03 1.04384134e-03\n",
            "  7.30688935e-03 3.13152401e-03 9.74947808e-01 2.08768267e-03\n",
            "  1.04384134e-03 0.00000000e+00]\n",
            " [1.94552529e-03 3.89105058e-03 6.80933852e-03 6.80933852e-03\n",
            "  1.94552529e-03 0.00000000e+00 0.00000000e+00 9.71789883e-01\n",
            "  0.00000000e+00 6.80933852e-03]\n",
            " [7.18685832e-03 4.10677618e-03 1.02669405e-02 3.28542094e-02\n",
            "  2.05338809e-03 4.10677618e-03 1.02669405e-03 6.16016427e-03\n",
            "  9.29158111e-01 3.08008214e-03]\n",
            " [3.96432111e-03 3.96432111e-03 1.98216056e-03 1.28840436e-02\n",
            "  3.96432111e-03 9.91080278e-04 1.98216056e-03 7.92864222e-03\n",
            "  9.91080278e-04 9.61347869e-01]]\n"
          ],
          "name": "stdout"
        },
        {
          "output_type": "display_data",
          "data": {
            "image/png": "[encoded data removed]",
            "text/plain": [
              "<matplotlib.figure.Figure at 0x7f994acb5be0>"
            ]
          },
          "metadata": {
            "tags": []
          }
        },
        {
          "output_type": "display_data",
          "data": {
            "image/png": "[encoded data removed]",
            "text/plain": [
              "<matplotlib.figure.Figure at 0x7f9915b9e2e8>"
            ]
          },
          "metadata": {
            "tags": []
          }
        }
      ]
    },
    {
      "metadata": {
        "id": "HP3O9Ta3wSPn",
        "colab_type": "text"
      },
      "cell_type": "markdown",
      "source": [
        "**Visualize the wrong labelled samples**"
      ]
    },
    {
      "metadata": {
        "id": "9cjQ1vs6wQqu",
        "colab_type": "code",
        "outputId": "4677d2e9-5ee9-4f8a-8369-7c22408d149f",
        "colab": {
          "base_uri": "https://localhost:8080/",
          "height": 347
        }
      },
      "cell_type": "code",
      "source": [
        "res = Y_test_class_pred -y_test # residuals - (the estimated label - the actual label)\n",
        "wrong_sample_index = np.nonzero(res)[0];\n",
        "#print(wrong_sample_index)\n",
        "\n",
        "# Visualize some sample of all wrong labelled data in the testing set\n",
        "index = wrong_sample_index[6]\n",
        "wrong_samples_images = x_test[index]\n",
        "wrong_samples_true_lebels = y_test[index]\n",
        "wrong_samples_pred_lebels = Y_test_class_pred[index]\n",
        "plt.imshow(wrong_samples_images)\n",
        "plt.grid(b = False)\n",
        "plt.text(0.5, 0.5, 'Wrong label = ' + str(wrong_samples_pred_lebels) +'; Correct label = ' + str(wrong_samples_true_lebels));\n"
      ],
      "execution_count": 0,
      "outputs": [
        {
          "output_type": "display_data",
          "data": {
            "image/png": "[encoded data removed]",
            "text/plain": [
              "<matplotlib.figure.Figure at 0x7f993a012358>"
            ]
          },
          "metadata": {
            "tags": []
          }
        }
      ]
    },
    {
      "metadata": {
        "id": "rdCfOeLKDjBB",
        "colab_type": "text"
      },
      "cell_type": "markdown",
      "source": [
        "##Cross Validation##"
      ]
    },
    {
      "metadata": {
        "id": "3apvSslEVY7s",
        "colab_type": "code",
        "colab": {}
      },
      "cell_type": "code",
      "source": [
        "from keras.wrappers.scikit_learn import KerasClassifier\n",
        "from sklearn.model_selection import StratifiedKFold, cross_val_score\n",
        "\n",
        "estimator = KerasClassifier(build_fn=shallow_NN_model, n_hidden_neurons = 50, epochs=20, batch_size=batch, verbose=0)\n",
        "kfold = StratifiedKFold(n_splits=10, shuffle=True, random_state=42)\n",
        "results = cross_val_score(estimator, X_train, y_train, cv=kfold, scoring='accuracy')\n",
        "print(np.shape(y_train))\n",
        "print('Cross Validation: Accuracy')\n",
        "print(\"%.2f%% (+/- %.2f%%)\" % (results.mean(), results.std()))"
      ],
      "execution_count": 0,
      "outputs": []
    },
    {
      "metadata": {
        "id": "K-daSz2Bv7yO",
        "colab_type": "text"
      },
      "cell_type": "markdown",
      "source": [
        "## Parameter Tuning##"
      ]
    },
    {
      "metadata": {
        "id": "JWvwdQ1eJabG",
        "colab_type": "text"
      },
      "cell_type": "markdown",
      "source": [
        "[Use Keras Deep Learning Models with Scikit-Learn in Python by Jason Brownlee](https://machinelearningmastery.com/use-keras-deep-learning-models-scikit-learn-python/)"
      ]
    },
    {
      "metadata": {
        "id": "-5OL6vjaYWAA",
        "colab_type": "code",
        "outputId": "28628328-e710-4c2c-929b-84be69e96e95",
        "colab": {
          "base_uri": "https://localhost:8080/",
          "height": 538
        }
      },
      "cell_type": "code",
      "source": [
        "from sklearn.model_selection import GridSearchCV\n",
        "from keras.wrappers.scikit_learn import KerasClassifier\n",
        "\n",
        "# grid search epochs, batch size and optimizer\n",
        "epochs = [100]\n",
        "n_hidden_neurons = [10, 50]\n",
        "batch_size = [128, 256]\n",
        "param_grid = dict( n_hidden_neurons = n_hidden_neurons, batch_size = batch_size, epochs = epochs)\n",
        "estimator = KerasClassifier(build_fn=shallow_NN_model,  verbose=0)\n",
        "grid = GridSearchCV(estimator=estimator, param_grid=param_grid, scoring = 'accuracy')\n",
        "grid_result = grid.fit(X_train, y_train)\n",
        "\n",
        "# summarize results\n",
        "print(\"Best: %f using %s\" % (grid_result.best_score_, grid_result.best_params_))\n",
        "means = grid_result.cv_results_['mean_test_score']\n",
        "stds = grid_result.cv_results_['std_test_score']\n",
        "params = grid_result.cv_results_['params']\n",
        "for mean, stdev, param in zip(means, stds, params):\n",
        "\tprint(\"%f (%f) with: %r\" % (mean, stdev, param))"
      ],
      "execution_count": 0,
      "outputs": [
        {
          "output_type": "stream",
          "text": [
            "Compiling Model ... \n",
            "Model compield in 0.07994675636291504 seconds\n",
            "Compiling Model ... \n",
            "Model compield in 0.07367706298828125 seconds\n",
            "Compiling Model ... \n",
            "Model compield in 0.07584404945373535 seconds\n",
            "Compiling Model ... \n",
            "Model compield in 0.07443547248840332 seconds\n",
            "Compiling Model ... \n",
            "Model compield in 0.07407498359680176 seconds\n",
            "Compiling Model ... \n",
            "Model compield in 0.07345867156982422 seconds\n",
            "Compiling Model ... \n",
            "Model compield in 0.07248997688293457 seconds\n",
            "Compiling Model ... \n",
            "Model compield in 0.07668375968933105 seconds\n",
            "Compiling Model ... \n",
            "Model compield in 0.07355213165283203 seconds\n",
            "Compiling Model ... \n",
            "Model compield in 0.07327055931091309 seconds\n",
            "Compiling Model ... \n",
            "Model compield in 0.07344603538513184 seconds\n",
            "Compiling Model ... \n",
            "Model compield in 0.07512140274047852 seconds\n",
            "Compiling Model ... \n",
            "Model compield in 0.07410264015197754 seconds\n",
            "Best: 0.970567 using {'batch_size': 128, 'epochs': 100, 'n_hidden_neurons': 50}\n",
            "0.917467 (0.002779) with: {'batch_size': 128, 'epochs': 100, 'n_hidden_neurons': 10}\n",
            "0.970567 (0.001829) with: {'batch_size': 128, 'epochs': 100, 'n_hidden_neurons': 50}\n",
            "0.921667 (0.001605) with: {'batch_size': 256, 'epochs': 100, 'n_hidden_neurons': 10}\n",
            "0.968367 (0.000837) with: {'batch_size': 256, 'epochs': 100, 'n_hidden_neurons': 50}\n"
          ],
          "name": "stdout"
        }
      ]
    },
    {
      "metadata": {
        "id": "im5xiwuQH_53",
        "colab_type": "text"
      },
      "cell_type": "markdown",
      "source": [
        "#From Shallow NN to Deep NN##"
      ]
    },
    {
      "metadata": {
        "id": "ECz9JFXkYfNH",
        "colab_type": "text"
      },
      "cell_type": "markdown",
      "source": [
        "![alt text](https://docs.google.com/uc?export=download&id=1oWrlu3M05rP8GzEWU23EgTZpDiFj2Mop)\n",
        "\n",
        "\n"
      ]
    },
    {
      "metadata": {
        "id": "OxS4g2RpObSb",
        "colab_type": "text"
      },
      "cell_type": "markdown",
      "source": [
        "## Multi-Layer Neural Network##"
      ]
    },
    {
      "metadata": {
        "id": "_oJBG5_6OZVN",
        "colab_type": "code",
        "colab": {}
      },
      "cell_type": "code",
      "source": [
        "import time\n",
        "import numpy as np\n",
        "from matplotlib import pyplot as plt\n",
        "from keras.utils import np_utils\n",
        "from keras.models import Sequential\n",
        "from keras.layers.core import Dense\n",
        "from keras.optimizers import SGD\n",
        "from keras.layers.normalization import BatchNormalization\n",
        "\n",
        "\n",
        "def deeper_model(n_hidden_neurons, n_hidden_layers):\n",
        "    start_time = time.time()\n",
        "    print('Compiling Model ... ')\n",
        "    model = Sequential()\n",
        "    model.add(Dense(n_hidden_neurons, activation = 'relu', input_dim=784))\n",
        "    if n_hidden_layers >1:\n",
        "      for i in range(n_hidden_layers-1):\n",
        "        model.add(Dense(n_hidden_neurons, activation = 'relu'))\n",
        "    model.add(Dense(10, activation='softmax'))\n",
        "    sgd = SGD(lr=0.1, decay=1e-6, momentum=0.9, nesterov=True)\n",
        "    model.compile(loss='categorical_crossentropy', optimizer=sgd, metrics=['accuracy'])\n",
        "    print('Model compield in {0} seconds'.format(time.time() - start_time))\n",
        "    return model"
      ],
      "execution_count": 0,
      "outputs": []
    },
    {
      "metadata": {
        "id": "J5VQpfNsSGfU",
        "colab_type": "code",
        "outputId": "7882a03a-1fe0-41b9-e90c-bfe44b2536ce",
        "colab": {
          "base_uri": "https://localhost:8080/",
          "height": 785
        }
      },
      "cell_type": "code",
      "source": [
        "n_hidden_neurons = 500\n",
        "n_hidden_layers = 2\n",
        "deeper_model1 = deeper_model(n_hidden_neurons, n_hidden_layers)\n",
        "print(deeper_model1.summary())\n",
        "epochs = 100\n",
        "hist_deeper_model = deeper_model1.fit(X_train, Y_train, epochs=epochs, batch_size=batch, validation_data=(X_test, Y_test), verbose=0)\n",
        "plot_hist(hist_deeper_model)"
      ],
      "execution_count": 0,
      "outputs": [
        {
          "output_type": "stream",
          "text": [
            "Compiling Model ... \n",
            "Model compield in 0.08750700950622559 seconds\n",
            "_________________________________________________________________\n",
            "Layer (type)                 Output Shape              Param #   \n",
            "=================================================================\n",
            "dense_6 (Dense)              (None, 500)               392500    \n",
            "_________________________________________________________________\n",
            "dense_7 (Dense)              (None, 500)               250500    \n",
            "_________________________________________________________________\n",
            "dense_8 (Dense)              (None, 10)                5010      \n",
            "=================================================================\n",
            "Total params: 648,010\n",
            "Trainable params: 648,010\n",
            "Non-trainable params: 0\n",
            "_________________________________________________________________\n",
            "None\n"
          ],
          "name": "stdout"
        },
        {
          "output_type": "display_data",
          "data": {
            "image/png": "[encoded data removed]",
            "text/plain": [
              "<matplotlib.figure.Figure at 0x7fd7355410b8>"
            ]
          },
          "metadata": {
            "tags": []
          }
        }
      ]
    },
    {
      "metadata": {
        "id": "p6YvoWxoPYdj",
        "colab_type": "text"
      },
      "cell_type": "markdown",
      "source": [
        "##Important Aspects about Optimization##\n",
        "\n",
        "\n"
      ]
    },
    {
      "metadata": {
        "id": "BEPSnyJ4CIsD",
        "colab_type": "text"
      },
      "cell_type": "markdown",
      "source": [
        "The sucess of the optimization scheme depends on several aspects:\n",
        "\n",
        "\n",
        "*   Data - Normalization.\n",
        "*   Optimizor\n",
        "*   Parameter initialization "
      ]
    },
    {
      "metadata": {
        "id": "G961Oko_PenB",
        "colab_type": "text"
      },
      "cell_type": "markdown",
      "source": [
        "###Normalization###"
      ]
    },
    {
      "metadata": {
        "id": "eBpxTWrkYIwH",
        "colab_type": "text"
      },
      "cell_type": "markdown",
      "source": [
        "[Keras link](https://keras.io/layers/normalization/)\n",
        "\n",
        "[Batch Normalization: Accelerating Deep Network Training by Reducing Internal Covariate Shift](https://arxiv.org/abs/1502.03167)"
      ]
    },
    {
      "metadata": {
        "id": "YoldZQgkPr6-",
        "colab_type": "text"
      },
      "cell_type": "markdown",
      "source": [
        "###Optimizor###"
      ]
    },
    {
      "metadata": {
        "id": "6zsvjx0IQBmw",
        "colab_type": "text"
      },
      "cell_type": "markdown",
      "source": [
        "Optmizor\n",
        "\n",
        "\n",
        "*   Method, e.g. SGD, Adam...\n",
        "*   Related Parameters, .e.g batch_size, epochs...\n",
        "\n"
      ]
    },
    {
      "metadata": {
        "id": "vhEqaYfJ_ebu",
        "colab_type": "text"
      },
      "cell_type": "markdown",
      "source": [
        "[Keras Link](https://keras.io/optimizers/)"
      ]
    },
    {
      "metadata": {
        "id": "i-nMcQKUtbFe",
        "colab_type": "text"
      },
      "cell_type": "markdown",
      "source": [
        "Popular optimazation methods include:\n",
        "\n",
        "1.   Stochastic Grid Descent(SGD);\n",
        "2.   Adaptive Gradient Algorithm (AdaGrad);\n",
        "3.   Root Mean Square Propagation (RMSProp)\n",
        "\n",
        "More information can be found in [Gentle Introduction to the Adam Optimization Algorithm for Deep Learning](https://machinelearningmastery.com/adam-optimization-algorithm-for-deep-learning/)\n",
        "\n",
        "\n"
      ]
    },
    {
      "metadata": {
        "id": "95_nhUhhP3ji",
        "colab_type": "text"
      },
      "cell_type": "markdown",
      "source": [
        "###Weight initialization ###"
      ]
    },
    {
      "metadata": {
        "id": "NVHFGZNR-ZSk",
        "colab_type": "text"
      },
      "cell_type": "markdown",
      "source": [
        "[Keras Link](https://keras.io/initializers/)"
      ]
    },
    {
      "metadata": {
        "id": "EtK7Ttn8Ok3-",
        "colab_type": "text"
      },
      "cell_type": "markdown",
      "source": [
        "## Overfitting Issues##"
      ]
    },
    {
      "metadata": {
        "id": "nAxj3de7072f",
        "colab_type": "text"
      },
      "cell_type": "markdown",
      "source": [
        "### Dropout###"
      ]
    },
    {
      "metadata": {
        "id": "9bmX3yqBYdNf",
        "colab_type": "text"
      },
      "cell_type": "markdown",
      "source": [
        "[Dropout Regularization in Deep Learning Models With Keras](https://machinelearningmastery.com/dropout-regularization-deep-learning-models-keras/)"
      ]
    },
    {
      "metadata": {
        "id": "5wu5oABiQHgn",
        "colab_type": "text"
      },
      "cell_type": "markdown",
      "source": [
        "### Weight regularizers###"
      ]
    },
    {
      "metadata": {
        "id": "4mFJ7C1LYQsW",
        "colab_type": "text"
      },
      "cell_type": "markdown",
      "source": [
        "[keras link](https://keras.io/regularizers/)"
      ]
    },
    {
      "metadata": {
        "id": "1aLLvJ5WOK4x",
        "colab_type": "text"
      },
      "cell_type": "markdown",
      "source": [
        "###Data Augumentation##"
      ]
    },
    {
      "metadata": {
        "id": "u9STNaX24_34",
        "colab_type": "text"
      },
      "cell_type": "markdown",
      "source": [
        "[Image Augmentation for Deep Learning With Keras](https://machinelearningmastery.com/image-augmentation-deep-learning-keras/)"
      ]
    },
    {
      "metadata": {
        "id": "MEGEu2a7N8vd",
        "colab_type": "text"
      },
      "cell_type": "markdown",
      "source": [
        "#Task for You# "
      ]
    },
    {
      "metadata": {
        "id": "pSI0Xsvy9Eru",
        "colab_type": "text"
      },
      "cell_type": "markdown",
      "source": [
        "***Now it is time for you to implement you NN network algorithm to solve the image classification problems.*** \n",
        "\n",
        "\n"
      ]
    },
    {
      "metadata": {
        "id": "6xGd4p_NQg-N",
        "colab_type": "text"
      },
      "cell_type": "markdown",
      "source": [
        "[1] Download Cifar10 Dataset for image classification. Implement the ANN algorithm for image classification.\n",
        "\n",
        "\n",
        "\n",
        "\n",
        "\n"
      ]
    },
    {
      "metadata": {
        "id": "Atch59aHQyB_",
        "colab_type": "code",
        "outputId": "ddd81dd9-eb2f-4f84-8016-2712814d0a9f",
        "colab": {
          "base_uri": "https://localhost:8080/",
          "height": 55
        }
      },
      "cell_type": "code",
      "source": [
        "from keras.datasets import cifar10\n",
        "\n",
        "(x_cifar10_train, y_cifar_train), (x_cifar_test, y_cifar_test) = cifar10.load_data()"
      ],
      "execution_count": 0,
      "outputs": [
        {
          "output_type": "stream",
          "text": [
            "Downloading data from https://www.cs.toronto.edu/~kriz/cifar-10-python.tar.gz\n",
            "170500096/170498071 [==============================] - 29s 0us/step\n"
          ],
          "name": "stdout"
        }
      ]
    },
    {
      "metadata": {
        "id": "-ZR0egwm7M4f",
        "colab_type": "text"
      },
      "cell_type": "markdown",
      "source": [
        "[2] Try NN algorithm to Cifar10 dataset and see what the highest accuracy you obtain in the testing dataset.\n",
        "\n",
        "$Hint$: For MNIST dataset, we started with using the following NN model to fit the dataset:\n",
        "\n",
        "\n",
        "\n",
        "```\n",
        "def deeper_model(n_hidden_neurons, n_hidden_layers):\n",
        "    start_time = time.time()\n",
        "    print('Compiling Model ... ')\n",
        "    model = Sequential()\n",
        "    model.add(Dense(n_hidden_neurons, activation = 'relu', input_dim=784))\n",
        "    if n_hidden_layers >1:\n",
        "      for i in range(n_hidden_layers-1):\n",
        "        model.add(Dense(n_hidden_neurons, activation = 'relu'))\n",
        "    model.add(Dense(10, activation='softmax'))\n",
        "    sgd = SGD(lr=0.1, decay=1e-6, momentum=0.9, nesterov=True)\n",
        "    model.compile(loss='categorical_crossentropy', optimizer=sgd, metrics=['accuracy'])\n",
        "    print('Model compield in {0} seconds'.format(time.time() - start_time))\n",
        "    return model\n",
        "```\n",
        "\n",
        "\n",
        "\n",
        "\n"
      ]
    },
    {
      "metadata": {
        "id": "Jr3uTEHJ93et",
        "colab_type": "text"
      },
      "cell_type": "markdown",
      "source": [
        "[3]  Record your name and the accuracy in the following codes, following the example."
      ]
    },
    {
      "metadata": {
        "id": "lsrM132T61NO",
        "colab_type": "code",
        "outputId": "bfce7364-393e-4463-891e-1322386e3c4f",
        "colab": {
          "base_uri": "https://localhost:8080/",
          "height": 36
        }
      },
      "cell_type": "code",
      "source": [
        "# Create the pandas.Series object to record the name of the person and the corresponding accuracy score \n",
        "AccuracyList = pd.Series()\n",
        "# e.g.  results['Hao Ni'] = 0.8\n",
        "print(AccuracyList)"
      ],
      "execution_count": 0,
      "outputs": [
        {
          "output_type": "stream",
          "text": [
            "Series([], dtype: float64)\n"
          ],
          "name": "stdout"
        }
      ]
    },
    {
      "metadata": {
        "id": "-vRhMnX-9qJF",
        "colab_type": "text"
      },
      "cell_type": "markdown",
      "source": [
        "[4] Let's see who achieves the highest accuracy and which NN network structure is used for ther best performance. "
      ]
    }
  ]
}