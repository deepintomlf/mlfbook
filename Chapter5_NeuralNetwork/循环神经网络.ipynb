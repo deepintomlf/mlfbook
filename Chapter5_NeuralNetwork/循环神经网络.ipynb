{
  "nbformat": 4,
  "nbformat_minor": 0,
  "metadata": {
    "colab": {
      "name": "LSTM Demo on HFT data_01222019.ipynb",
      "provenance": [],
      "collapsed_sections": [],
      "include_colab_link": true
    },
    "kernelspec": {
      "name": "python3",
      "display_name": "Python 3"
    },
    "accelerator": "GPU"
  },
  "cells": [
    {
      "cell_type": "markdown",
      "metadata": {
        "id": "view-in-github",
        "colab_type": "text"
      },
      "source": [
        "<a href=\"https://colab.research.google.com/github/deepintomlf/mlfbook/blob/master/Chapter5_NeuralNetwork/%E5%BE%AA%E7%8E%AF%E7%A5%9E%E7%BB%8F%E7%BD%91%E7%BB%9C.ipynb\" target=\"_parent\"><img src=\"https://colab.research.google.com/assets/colab-badge.svg\" alt=\"Open In Colab\"/></a>"
      ]
    },
    {
      "cell_type": "markdown",
      "metadata": {
        "id": "mPhUD6QbBwNo"
      },
      "source": [
        "# 第五章第四节 - 循环神经网络\n",
        "\n",
        "\n"
      ]
    },
    {
      "cell_type": "markdown",
      "metadata": {
        "id": "dHv6iRrY0g0-"
      },
      "source": [
        "这个Jupyter笔记本包含了第五章第四节的所有源代码.."
      ]
    },
    {
      "cell_type": "markdown",
      "metadata": {
        "id": "GxfxUQxGhMvL"
      },
      "source": [
        "## Recurrent Neural Network (RNN)\n",
        "![alt text](https://docs.google.com/uc?export=download&id=13Zo2LzEM_D032k_l-E05LSD2wNZGIP03)\n",
        "\n",
        "\n",
        "\n",
        "**RNN Model:**\n",
        "\n",
        "$\\bullet$    Input Layer $(x_{t})_{t = 1}^{T}$\n",
        "\n",
        "$\\bullet$  Hidden Layer $(s_{t})_{t = 1}^{T}$:\n",
        "\\begin{eqnarray*}\n",
        "s_{t} = h({\\color{blue}U}x_{t} + {\\color{blue}W}s_{t-1}).\n",
        "\\end{eqnarray*}\n",
        "$\\bullet$  Output Layer $(o_{t})_{t = 1}^{T}$:\n",
        "\\begin{eqnarray*}\n",
        "o_{t} = g({\\color{blue}V}s_{t}).\n",
        "\\end{eqnarray*}\n",
        "where ${(\\color{blue}U}, {\\color{blue}W}, {\\color{blue}V })$ are RNN parameters to learn from data.\n",
        "\n",
        "\n",
        "\n"
      ]
    },
    {
      "cell_type": "markdown",
      "metadata": {
        "id": "zlN18SHHcJfF"
      },
      "source": [
        "## Long Short Term Memory (LSTM) \n",
        "![alt text](https://docs.google.com/uc?export=download&id=11bSZaP3i1P9mvW1HLv__d71lzATaqlvz)\n",
        "\n",
        "\\begin{eqnarray*}\n",
        "&&f_{t} = \\sigma_{g}(W_{f}x_{t} + U_{f}h_{t-1} + b_{f});\\\\\n",
        "&&i_{t} = \\sigma_{g}(W_{i}x_{t} + U_{i}h_{t-1} + b_{i})\\\\\n",
        "&& o_{t} = \\sigma_{g}(W_{o}x_{t} + U_{o}h_{t-1} + b_{o})\\\\\n",
        "&&c_{t} = f_{t} \\circ c_{t-1} + i_{t} \\circ \\sigma_{c}(W_{c}x_{t} + U_{c}h_{t-1} + b_{c})\\\\\n",
        "&& h_{t} = o_{t} \\circ \\sigma_{h}(c_{t})\n",
        "\\end{eqnarray*}\n",
        "where the inital values are $c_{0} = h_{0} =0$ and the operator $\\circ$ denotes the Hadamard product (elementwise product) and \n",
        "\n",
        "\n",
        "\n",
        "*   $x_{t} \\in \\mathbb{R}^{d}:$ input vector of the LSTM unit;\n",
        "*   $f_{t} \\in \\mathbb{R}^{h}:$ forget gate's activation vector;\n",
        "*   $i_{t} \\in \\mathbb{R}^{h}:$ output gate's activation vector;\n",
        "*   $o_{t} \\in \\mathbb{R}^{h}:$ hidden state vector also known as output vector of the LSTM unit;\n",
        "*   $c_{t} \\in \\mathbb{R}^{h}$: cell state vector;\n",
        "*   $W \\in \\mathbb{R}^{h \\times d}, U \\in \\mathbb{R}^{h \\times h}$ and $b \\in \\mathbb{R}^{h}$: weight matrices and bias vector parameters which need  need to be learned during training\n",
        "where the superscripts $d$ and $h$ refer to the number of input features and number of hidden units, respectively. \n",
        "\n",
        "Typically the activation functions are chosen as follows:\n",
        "*  $\\sigma _{g}$ is a sigmoid function;\n",
        "*   $\\sigma_{c}$ is hyperbolic tangent function;\n",
        "*   $\\sigma_{h}$ is a hyperbolic tangent function. \n"
      ]
    },
    {
      "cell_type": "markdown",
      "metadata": {
        "id": "42XB0S6_lzWj"
      },
      "source": [
        "**Sucessful Application of RNN and its variants, e.g. LSTM:**\n",
        "\n",
        "1.   Speech Recognition;\n",
        "2.   Natural Language Processing;\n",
        "3.   Machine Translation.\n"
      ]
    },
    {
      "cell_type": "markdown",
      "metadata": {
        "id": "D0Htr3QpoGpC"
      },
      "source": [
        "## RNN Classification##\n",
        "The input $x$ is a multi-dimensional vector; \n",
        "\n",
        "The ouput $y$ is a one-hot respresenation of the class. \n",
        "\n",
        "\n",
        "The number of neurons in the output layer is the total number of classes. \n",
        "\n",
        "The $j^{th}$ neurons in the output layer represents the probability of the output(label) being class $j$.  \n",
        "\n",
        " The **cross entropy **loss function is defined as follows:\n",
        "\n",
        "\\begin{eqnarray*}\n",
        "L(\\theta \\vert \\mathcal{D}) = - \\frac{1}{N}\\sum_{i =1}^{N} \\sum_{k} \\mathbb{1}( y_{i}=\\text{ class }k) \\log(p(y_{i} =\\text{ class }k \\vert x_{i})) \n",
        "\\end{eqnarray*}\n",
        "\n",
        "Note: The cross entropy between two probability distributions $p$ and $q$ is defined as \n",
        "\\begin{eqnarray*}\n",
        "H(p, q) =- \\sum_{x} p(x)\\log(q(x)).\n",
        "\\end{eqnarray*}\n",
        "\n",
        "$L(\\theta \\vert \\mathcal{D}) $ can be reformulated as \n",
        "\n",
        "\\begin{eqnarray*}\n",
        "L(\\theta \\vert \\mathcal{D}) = - \\frac{1}{N} \\langle  y_{i}, \\log(p_{\\theta }(  \\cdot \\vert x_{i})) \\rangle \n",
        "\\end{eqnarray*}"
      ]
    },
    {
      "cell_type": "markdown",
      "metadata": {
        "id": "RB_nKEF4oWYL"
      },
      "source": [
        "#Pipelines of Supervised Learning Algorithms# "
      ]
    },
    {
      "cell_type": "markdown",
      "metadata": {
        "id": "vZm1EH_aoVC7"
      },
      "source": [
        "The piplelines of the supervised learning algorithms are summarized as follows:\n",
        "\n",
        "1.   Import Datasets;\n",
        "2.   Take a look at the dataset (Statistical Analysis/Visualization);\n",
        "3.    Pre-process the dataset to prepare for the training process (normalization/reshape data);\n",
        "4.    Train a model;\n",
        "5.    Validate a model;\n",
        "6.    Cross Validation. \n"
      ]
    },
    {
      "cell_type": "markdown",
      "metadata": {
        "id": "k0mUHDPZrjMy"
      },
      "source": [
        "# Application on High Frequency Financial Data Forecasting\n",
        "\n",
        "In the following, let us consider the problem of forecasting the direction of future price movements using the previous lagged values of limit order book information (price level and the volume).\n",
        "\n",
        "[1] Sirignano, J. and Cont, R., 2018. Universal features of price formation in financial markets: perspectives from Deep Learning."
      ]
    },
    {
      "cell_type": "markdown",
      "metadata": {
        "id": "ox8669yDnB_B"
      },
      "source": [
        "**Input: **$X_{t}:=(LOB_{t-p+1}, LOB_{t-p+2}, \\cdots, LOB_{t}$,\n",
        "\n",
        "where $LOB_{t} = (AskPrice_{1}(t), AskVol_{1}(t), BidPrice_{1}(t), BidVol_{1}(t), \\cdots, AskPrice_{10}(t), AskVol_{10}(t), BidPrice_{10}(t), BidVol_{10}(t))$ \n",
        "\n",
        "**Output: **$Y_{t}:=\\mathbf{1}(MidPrice(t+1)>MidPrice(t))$\n",
        "\n",
        "**Model:** $Y_t = f(X_{t}) + \\varepsilon_{t}$"
      ]
    },
    {
      "cell_type": "markdown",
      "metadata": {
        "id": "yC0iAUcrC3Ev"
      },
      "source": [
        "## 加载限价委托单薄数据"
      ]
    },
    {
      "cell_type": "markdown",
      "metadata": {
        "id": "fQcNjNtD1M7U"
      },
      "source": [
        "The data is downloaded from LOBSTER."
      ]
    },
    {
      "cell_type": "code",
      "metadata": {
        "id": "UJW43sMq9sv7",
        "colab": {
          "base_uri": "https://localhost:8080/"
        },
        "outputId": "3cd18c99-2ef7-44ac-b864-dacb92ca8fda"
      },
      "source": [
        "from google.colab import drive\n",
        "drive.mount('/gdrive')"
      ],
      "execution_count": 1,
      "outputs": [
        {
          "output_type": "stream",
          "text": [
            "Mounted at /gdrive\n"
          ],
          "name": "stdout"
        }
      ]
    },
    {
      "cell_type": "code",
      "metadata": {
        "id": "qPHI_YCpFROe",
        "colab": {
          "base_uri": "https://localhost:8080/"
        },
        "outputId": "2fc1ace9-b257-4af3-a272-0cce41d2cbc9"
      },
      "source": [
        "cd /gdrive/My Drive/Colab Notebooks/High Frequency Data/"
      ],
      "execution_count": 2,
      "outputs": [
        {
          "output_type": "stream",
          "text": [
            "/gdrive/My Drive/Colab Notebooks/High Frequency Data\n"
          ],
          "name": "stdout"
        }
      ]
    },
    {
      "cell_type": "code",
      "metadata": {
        "id": "2wOrMPAUD_Yy",
        "colab": {
          "base_uri": "https://localhost:8080/"
        },
        "outputId": "a7775d1e-a2d8-40e6-f577-4cc517e3b2d8"
      },
      "source": [
        "import numpy as np\n",
        "import pandas as pd\n",
        "\n",
        "def import_orderbook(filedir):\n",
        "  \"\"\" 加载orderbook数据 \"\"\"\n",
        "  orderbook0 = pd.read_csv(filedir,header=None).values.astype(float)\n",
        "  N_col = np.shape(orderbook0)[1]  \n",
        "  # 将价格除以10,000进行标准化\n",
        "  orderbook0[:,0::2]=(orderbook0[:,0::2]/1e4)\n",
        "  str_sets = []\n",
        "  for i in range(int(N_col/4)):\n",
        "    str_sets.append('ask price '+str(i+1))\n",
        "    str_sets.append('ask size '+str(i+1))\n",
        "    str_sets.append('bid price '+str(i+1))\n",
        "    str_sets.append('bid size '+str(i+1))    \n",
        "  df_orderbook0 =  pd.DataFrame(orderbook0, columns = str_sets)\n",
        "  return orderbook0, df_orderbook0 \n",
        "\n",
        "def import_message(filedir):\n",
        "  \"\"\" 加载message数据 \"\"\"\n",
        "  message=pd.read_csv(filedir,header=None).values\n",
        "  df_message = pd.DataFrame(message, columns=['Time', 'Type', 'Order ID', 'Size', 'Price', 'Direction'])\n",
        "  df_message[['Type', 'Order ID', 'Size', 'Price', 'Direction']] = df_message[['Type', 'Order ID', 'Size', 'Price', 'Direction']].astype('int')\n",
        "  return message, df_message\n",
        "  \n",
        "orderbook, df_orderbook = import_orderbook('orderbook.csv')\n",
        "message, df_message = import_message('message.csv')\n",
        "\n",
        "# 查看数据集的维度\n",
        "print('dimension of the data in orderbook.csv = {}'.format(orderbook.shape))\n",
        "print('dimension of the data in message.csv = {}'.format(message.shape))"
      ],
      "execution_count": 3,
      "outputs": [
        {
          "output_type": "stream",
          "text": [
            "dimension of the data in orderbook.csv = (269748, 40)\n",
            "dimension of the data in message.csv = (269748, 6)\n"
          ],
          "name": "stdout"
        }
      ]
    },
    {
      "cell_type": "code",
      "metadata": {
        "id": "VFpH71DJx7JF",
        "colab": {
          "base_uri": "https://localhost:8080/",
          "height": 259
        },
        "outputId": "952634bb-fc96-418d-9edc-e82be1038f7e"
      },
      "source": [
        "df_orderbook.head()"
      ],
      "execution_count": 4,
      "outputs": [
        {
          "output_type": "execute_result",
          "data": {
            "text/html": [
              "<div>\n",
              "<style scoped>\n",
              "    .dataframe tbody tr th:only-of-type {\n",
              "        vertical-align: middle;\n",
              "    }\n",
              "\n",
              "    .dataframe tbody tr th {\n",
              "        vertical-align: top;\n",
              "    }\n",
              "\n",
              "    .dataframe thead th {\n",
              "        text-align: right;\n",
              "    }\n",
              "</style>\n",
              "<table border=\"1\" class=\"dataframe\">\n",
              "  <thead>\n",
              "    <tr style=\"text-align: right;\">\n",
              "      <th></th>\n",
              "      <th>ask price 1</th>\n",
              "      <th>ask size 1</th>\n",
              "      <th>bid price 1</th>\n",
              "      <th>bid size 1</th>\n",
              "      <th>ask price 2</th>\n",
              "      <th>ask size 2</th>\n",
              "      <th>bid price 2</th>\n",
              "      <th>bid size 2</th>\n",
              "      <th>ask price 3</th>\n",
              "      <th>ask size 3</th>\n",
              "      <th>bid price 3</th>\n",
              "      <th>bid size 3</th>\n",
              "      <th>ask price 4</th>\n",
              "      <th>ask size 4</th>\n",
              "      <th>bid price 4</th>\n",
              "      <th>bid size 4</th>\n",
              "      <th>ask price 5</th>\n",
              "      <th>ask size 5</th>\n",
              "      <th>bid price 5</th>\n",
              "      <th>bid size 5</th>\n",
              "      <th>ask price 6</th>\n",
              "      <th>ask size 6</th>\n",
              "      <th>bid price 6</th>\n",
              "      <th>bid size 6</th>\n",
              "      <th>ask price 7</th>\n",
              "      <th>ask size 7</th>\n",
              "      <th>bid price 7</th>\n",
              "      <th>bid size 7</th>\n",
              "      <th>ask price 8</th>\n",
              "      <th>ask size 8</th>\n",
              "      <th>bid price 8</th>\n",
              "      <th>bid size 8</th>\n",
              "      <th>ask price 9</th>\n",
              "      <th>ask size 9</th>\n",
              "      <th>bid price 9</th>\n",
              "      <th>bid size 9</th>\n",
              "      <th>ask price 10</th>\n",
              "      <th>ask size 10</th>\n",
              "      <th>bid price 10</th>\n",
              "      <th>bid size 10</th>\n",
              "    </tr>\n",
              "  </thead>\n",
              "  <tbody>\n",
              "    <tr>\n",
              "      <th>0</th>\n",
              "      <td>223.95</td>\n",
              "      <td>100.0</td>\n",
              "      <td>223.18</td>\n",
              "      <td>100.0</td>\n",
              "      <td>223.99</td>\n",
              "      <td>100.0</td>\n",
              "      <td>223.07</td>\n",
              "      <td>200.0</td>\n",
              "      <td>224.00</td>\n",
              "      <td>220.0</td>\n",
              "      <td>223.04</td>\n",
              "      <td>100.0</td>\n",
              "      <td>224.25</td>\n",
              "      <td>100.0</td>\n",
              "      <td>223.00</td>\n",
              "      <td>10.0</td>\n",
              "      <td>224.40</td>\n",
              "      <td>547.0</td>\n",
              "      <td>222.62</td>\n",
              "      <td>100.0</td>\n",
              "      <td>224.54</td>\n",
              "      <td>100.0</td>\n",
              "      <td>221.30</td>\n",
              "      <td>4000.0</td>\n",
              "      <td>224.89</td>\n",
              "      <td>100.0</td>\n",
              "      <td>220.40</td>\n",
              "      <td>100.0</td>\n",
              "      <td>226.77</td>\n",
              "      <td>100.0</td>\n",
              "      <td>220.25</td>\n",
              "      <td>5000.0</td>\n",
              "      <td>229.43</td>\n",
              "      <td>100.0</td>\n",
              "      <td>220.20</td>\n",
              "      <td>100.0</td>\n",
              "      <td>229.80</td>\n",
              "      <td>100.0</td>\n",
              "      <td>218.97</td>\n",
              "      <td>100.0</td>\n",
              "    </tr>\n",
              "    <tr>\n",
              "      <th>1</th>\n",
              "      <td>223.95</td>\n",
              "      <td>100.0</td>\n",
              "      <td>223.81</td>\n",
              "      <td>21.0</td>\n",
              "      <td>223.99</td>\n",
              "      <td>100.0</td>\n",
              "      <td>223.18</td>\n",
              "      <td>100.0</td>\n",
              "      <td>224.00</td>\n",
              "      <td>220.0</td>\n",
              "      <td>223.07</td>\n",
              "      <td>200.0</td>\n",
              "      <td>224.25</td>\n",
              "      <td>100.0</td>\n",
              "      <td>223.04</td>\n",
              "      <td>100.0</td>\n",
              "      <td>224.40</td>\n",
              "      <td>547.0</td>\n",
              "      <td>223.00</td>\n",
              "      <td>10.0</td>\n",
              "      <td>224.54</td>\n",
              "      <td>100.0</td>\n",
              "      <td>222.62</td>\n",
              "      <td>100.0</td>\n",
              "      <td>224.89</td>\n",
              "      <td>100.0</td>\n",
              "      <td>221.30</td>\n",
              "      <td>4000.0</td>\n",
              "      <td>226.77</td>\n",
              "      <td>100.0</td>\n",
              "      <td>220.40</td>\n",
              "      <td>100.0</td>\n",
              "      <td>229.43</td>\n",
              "      <td>100.0</td>\n",
              "      <td>220.25</td>\n",
              "      <td>5000.0</td>\n",
              "      <td>229.80</td>\n",
              "      <td>100.0</td>\n",
              "      <td>220.20</td>\n",
              "      <td>100.0</td>\n",
              "    </tr>\n",
              "    <tr>\n",
              "      <th>2</th>\n",
              "      <td>223.95</td>\n",
              "      <td>100.0</td>\n",
              "      <td>223.81</td>\n",
              "      <td>21.0</td>\n",
              "      <td>223.96</td>\n",
              "      <td>20.0</td>\n",
              "      <td>223.18</td>\n",
              "      <td>100.0</td>\n",
              "      <td>223.99</td>\n",
              "      <td>100.0</td>\n",
              "      <td>223.07</td>\n",
              "      <td>200.0</td>\n",
              "      <td>224.00</td>\n",
              "      <td>220.0</td>\n",
              "      <td>223.04</td>\n",
              "      <td>100.0</td>\n",
              "      <td>224.25</td>\n",
              "      <td>100.0</td>\n",
              "      <td>223.00</td>\n",
              "      <td>10.0</td>\n",
              "      <td>224.40</td>\n",
              "      <td>547.0</td>\n",
              "      <td>222.62</td>\n",
              "      <td>100.0</td>\n",
              "      <td>224.54</td>\n",
              "      <td>100.0</td>\n",
              "      <td>221.30</td>\n",
              "      <td>4000.0</td>\n",
              "      <td>224.89</td>\n",
              "      <td>100.0</td>\n",
              "      <td>220.40</td>\n",
              "      <td>100.0</td>\n",
              "      <td>226.77</td>\n",
              "      <td>100.0</td>\n",
              "      <td>220.25</td>\n",
              "      <td>5000.0</td>\n",
              "      <td>229.43</td>\n",
              "      <td>100.0</td>\n",
              "      <td>220.20</td>\n",
              "      <td>100.0</td>\n",
              "    </tr>\n",
              "    <tr>\n",
              "      <th>3</th>\n",
              "      <td>223.95</td>\n",
              "      <td>100.0</td>\n",
              "      <td>223.81</td>\n",
              "      <td>21.0</td>\n",
              "      <td>223.96</td>\n",
              "      <td>20.0</td>\n",
              "      <td>223.75</td>\n",
              "      <td>100.0</td>\n",
              "      <td>223.99</td>\n",
              "      <td>100.0</td>\n",
              "      <td>223.18</td>\n",
              "      <td>100.0</td>\n",
              "      <td>224.00</td>\n",
              "      <td>220.0</td>\n",
              "      <td>223.07</td>\n",
              "      <td>200.0</td>\n",
              "      <td>224.25</td>\n",
              "      <td>100.0</td>\n",
              "      <td>223.04</td>\n",
              "      <td>100.0</td>\n",
              "      <td>224.40</td>\n",
              "      <td>547.0</td>\n",
              "      <td>223.00</td>\n",
              "      <td>10.0</td>\n",
              "      <td>224.54</td>\n",
              "      <td>100.0</td>\n",
              "      <td>222.62</td>\n",
              "      <td>100.0</td>\n",
              "      <td>224.89</td>\n",
              "      <td>100.0</td>\n",
              "      <td>221.30</td>\n",
              "      <td>4000.0</td>\n",
              "      <td>226.77</td>\n",
              "      <td>100.0</td>\n",
              "      <td>220.40</td>\n",
              "      <td>100.0</td>\n",
              "      <td>229.43</td>\n",
              "      <td>100.0</td>\n",
              "      <td>220.25</td>\n",
              "      <td>5000.0</td>\n",
              "    </tr>\n",
              "    <tr>\n",
              "      <th>4</th>\n",
              "      <td>223.95</td>\n",
              "      <td>100.0</td>\n",
              "      <td>223.81</td>\n",
              "      <td>21.0</td>\n",
              "      <td>223.96</td>\n",
              "      <td>20.0</td>\n",
              "      <td>223.75</td>\n",
              "      <td>100.0</td>\n",
              "      <td>223.99</td>\n",
              "      <td>100.0</td>\n",
              "      <td>223.18</td>\n",
              "      <td>100.0</td>\n",
              "      <td>224.00</td>\n",
              "      <td>233.0</td>\n",
              "      <td>223.07</td>\n",
              "      <td>200.0</td>\n",
              "      <td>224.25</td>\n",
              "      <td>100.0</td>\n",
              "      <td>223.04</td>\n",
              "      <td>100.0</td>\n",
              "      <td>224.40</td>\n",
              "      <td>547.0</td>\n",
              "      <td>223.00</td>\n",
              "      <td>10.0</td>\n",
              "      <td>224.54</td>\n",
              "      <td>100.0</td>\n",
              "      <td>222.62</td>\n",
              "      <td>100.0</td>\n",
              "      <td>224.89</td>\n",
              "      <td>100.0</td>\n",
              "      <td>221.30</td>\n",
              "      <td>4000.0</td>\n",
              "      <td>226.77</td>\n",
              "      <td>100.0</td>\n",
              "      <td>220.40</td>\n",
              "      <td>100.0</td>\n",
              "      <td>229.43</td>\n",
              "      <td>100.0</td>\n",
              "      <td>220.25</td>\n",
              "      <td>5000.0</td>\n",
              "    </tr>\n",
              "  </tbody>\n",
              "</table>\n",
              "</div>"
            ],
            "text/plain": [
              "   ask price 1  ask size 1  bid price 1  ...  ask size 10  bid price 10  bid size 10\n",
              "0       223.95       100.0       223.18  ...        100.0        218.97        100.0\n",
              "1       223.95       100.0       223.81  ...        100.0        220.20        100.0\n",
              "2       223.95       100.0       223.81  ...        100.0        220.20        100.0\n",
              "3       223.95       100.0       223.81  ...        100.0        220.25       5000.0\n",
              "4       223.95       100.0       223.81  ...        100.0        220.25       5000.0\n",
              "\n",
              "[5 rows x 40 columns]"
            ]
          },
          "metadata": {},
          "execution_count": 4
        }
      ]
    },
    {
      "cell_type": "code",
      "metadata": {
        "id": "DJnrpq5TF1mq",
        "colab": {
          "base_uri": "https://localhost:8080/",
          "height": 360
        },
        "outputId": "39abc028-5218-411c-87df-86c85c89b31c"
      },
      "source": [
        "df_message.head(10)"
      ],
      "execution_count": 5,
      "outputs": [
        {
          "output_type": "execute_result",
          "data": {
            "text/html": [
              "<div>\n",
              "<style scoped>\n",
              "    .dataframe tbody tr th:only-of-type {\n",
              "        vertical-align: middle;\n",
              "    }\n",
              "\n",
              "    .dataframe tbody tr th {\n",
              "        vertical-align: top;\n",
              "    }\n",
              "\n",
              "    .dataframe thead th {\n",
              "        text-align: right;\n",
              "    }\n",
              "</style>\n",
              "<table border=\"1\" class=\"dataframe\">\n",
              "  <thead>\n",
              "    <tr style=\"text-align: right;\">\n",
              "      <th></th>\n",
              "      <th>Time</th>\n",
              "      <th>Type</th>\n",
              "      <th>Order ID</th>\n",
              "      <th>Size</th>\n",
              "      <th>Price</th>\n",
              "      <th>Direction</th>\n",
              "    </tr>\n",
              "  </thead>\n",
              "  <tbody>\n",
              "    <tr>\n",
              "      <th>0</th>\n",
              "      <td>34200.017460</td>\n",
              "      <td>5</td>\n",
              "      <td>0</td>\n",
              "      <td>1</td>\n",
              "      <td>2238200</td>\n",
              "      <td>-1</td>\n",
              "    </tr>\n",
              "    <tr>\n",
              "      <th>1</th>\n",
              "      <td>34200.189608</td>\n",
              "      <td>1</td>\n",
              "      <td>11885113</td>\n",
              "      <td>21</td>\n",
              "      <td>2238100</td>\n",
              "      <td>1</td>\n",
              "    </tr>\n",
              "    <tr>\n",
              "      <th>2</th>\n",
              "      <td>34200.189608</td>\n",
              "      <td>1</td>\n",
              "      <td>3911376</td>\n",
              "      <td>20</td>\n",
              "      <td>2239600</td>\n",
              "      <td>-1</td>\n",
              "    </tr>\n",
              "    <tr>\n",
              "      <th>3</th>\n",
              "      <td>34200.189608</td>\n",
              "      <td>1</td>\n",
              "      <td>11534792</td>\n",
              "      <td>100</td>\n",
              "      <td>2237500</td>\n",
              "      <td>1</td>\n",
              "    </tr>\n",
              "    <tr>\n",
              "      <th>4</th>\n",
              "      <td>34200.189608</td>\n",
              "      <td>1</td>\n",
              "      <td>1365373</td>\n",
              "      <td>13</td>\n",
              "      <td>2240000</td>\n",
              "      <td>-1</td>\n",
              "    </tr>\n",
              "    <tr>\n",
              "      <th>5</th>\n",
              "      <td>34200.189608</td>\n",
              "      <td>1</td>\n",
              "      <td>11474176</td>\n",
              "      <td>2</td>\n",
              "      <td>2236500</td>\n",
              "      <td>1</td>\n",
              "    </tr>\n",
              "    <tr>\n",
              "      <th>6</th>\n",
              "      <td>34200.189608</td>\n",
              "      <td>1</td>\n",
              "      <td>1847685</td>\n",
              "      <td>100</td>\n",
              "      <td>2240000</td>\n",
              "      <td>-1</td>\n",
              "    </tr>\n",
              "    <tr>\n",
              "      <th>7</th>\n",
              "      <td>34200.189608</td>\n",
              "      <td>1</td>\n",
              "      <td>3920359</td>\n",
              "      <td>15</td>\n",
              "      <td>2236000</td>\n",
              "      <td>1</td>\n",
              "    </tr>\n",
              "    <tr>\n",
              "      <th>8</th>\n",
              "      <td>34200.189608</td>\n",
              "      <td>1</td>\n",
              "      <td>3578212</td>\n",
              "      <td>4</td>\n",
              "      <td>2240000</td>\n",
              "      <td>-1</td>\n",
              "    </tr>\n",
              "    <tr>\n",
              "      <th>9</th>\n",
              "      <td>34200.189608</td>\n",
              "      <td>1</td>\n",
              "      <td>4632045</td>\n",
              "      <td>100</td>\n",
              "      <td>2235000</td>\n",
              "      <td>1</td>\n",
              "    </tr>\n",
              "  </tbody>\n",
              "</table>\n",
              "</div>"
            ],
            "text/plain": [
              "           Time  Type  Order ID  Size    Price  Direction\n",
              "0  34200.017460     5         0     1  2238200         -1\n",
              "1  34200.189608     1  11885113    21  2238100          1\n",
              "2  34200.189608     1   3911376    20  2239600         -1\n",
              "3  34200.189608     1  11534792   100  2237500          1\n",
              "4  34200.189608     1   1365373    13  2240000         -1\n",
              "5  34200.189608     1  11474176     2  2236500          1\n",
              "6  34200.189608     1   1847685   100  2240000         -1\n",
              "7  34200.189608     1   3920359    15  2236000          1\n",
              "8  34200.189608     1   3578212     4  2240000         -1\n",
              "9  34200.189608     1   4632045   100  2235000          1"
            ]
          },
          "metadata": {},
          "execution_count": 5
        }
      ]
    },
    {
      "cell_type": "markdown",
      "metadata": {
        "id": "A0KtkicxNCKw"
      },
      "source": [
        "## **删除中间价没有发生变化的数据**"
      ]
    },
    {
      "cell_type": "code",
      "metadata": {
        "id": "WgSz2zXSK9EF",
        "colab": {
          "base_uri": "https://localhost:8080/"
        },
        "outputId": "5e3c6220-9a80-4dc5-dec3-8ccd110bc0fb"
      },
      "source": [
        "from tensorflow.keras.utils import to_categorical\n",
        "\n",
        "def RemoveNoNextPriceChangeEvent(df_orderbook):\n",
        "  \"\"\" 删除中间价没有发生变化的数据 \"\"\" \n",
        "  orderbook = df_orderbook.values \n",
        "  midprice=(orderbook[:,0]+orderbook[:,2])/2\n",
        "  simple_return = midprice[1:]-midprice[:-1]\n",
        "  sign_vec = np.sign(simple_return)\n",
        "  index0 = np.where(sign_vec!=0)\n",
        "  print(midprice[0:10])\n",
        "  print(index0[0:10])\n",
        "  orderbook = orderbook[:-1, :]\n",
        "  sign_vec = sign_vec[index0[0]]\n",
        "  sign_vec = sign_vec*0.5+0.5\n",
        "  sign_vec = sign_vec.astype('int')\n",
        "  label = to_categorical(sign_vec, num_classes=2,dtype='float32')\n",
        "  df_orderbook = df_orderbook.iloc[index0]\n",
        "  orderbook = df_orderbook.values\n",
        "  return orderbook, df_orderbook, label\n",
        "\n",
        "orderbook, df_orderbook, label = RemoveNoNextPriceChangeEvent(df_orderbook)\n",
        "\n",
        "# 再次查看数据集的维度\n",
        "print('dimension of the data after removing no next price change = {}'.format(orderbook.shape))\n",
        "print('dimension of the label for the next price movement after removing no next price change = {}'.format(label.shape))"
      ],
      "execution_count": 8,
      "outputs": [
        {
          "output_type": "stream",
          "text": [
            "[223.565 223.88  223.88  223.88  223.88  223.88  223.88  223.88  223.88\n",
            " 223.88 ]\n",
            "(array([     0,     31,     43, ..., 269743, 269745, 269746]),)\n",
            "dimension of the data after removing no next price change = (27557, 40)\n",
            "dimension of the label for the next price movement after removing no next price change = (27557, 2)\n"
          ],
          "name": "stdout"
        }
      ]
    },
    {
      "cell_type": "code",
      "metadata": {
        "id": "HTtX0m2fPfQ8",
        "colab": {
          "base_uri": "https://localhost:8080/",
          "height": 259
        },
        "outputId": "732ea681-ce51-4e82-ed2e-687835869d73"
      },
      "source": [
        "df_orderbook.head()"
      ],
      "execution_count": 9,
      "outputs": [
        {
          "output_type": "execute_result",
          "data": {
            "text/html": [
              "<div>\n",
              "<style scoped>\n",
              "    .dataframe tbody tr th:only-of-type {\n",
              "        vertical-align: middle;\n",
              "    }\n",
              "\n",
              "    .dataframe tbody tr th {\n",
              "        vertical-align: top;\n",
              "    }\n",
              "\n",
              "    .dataframe thead th {\n",
              "        text-align: right;\n",
              "    }\n",
              "</style>\n",
              "<table border=\"1\" class=\"dataframe\">\n",
              "  <thead>\n",
              "    <tr style=\"text-align: right;\">\n",
              "      <th></th>\n",
              "      <th>ask price 1</th>\n",
              "      <th>ask size 1</th>\n",
              "      <th>bid price 1</th>\n",
              "      <th>bid size 1</th>\n",
              "      <th>ask price 2</th>\n",
              "      <th>ask size 2</th>\n",
              "      <th>bid price 2</th>\n",
              "      <th>bid size 2</th>\n",
              "      <th>ask price 3</th>\n",
              "      <th>ask size 3</th>\n",
              "      <th>bid price 3</th>\n",
              "      <th>bid size 3</th>\n",
              "      <th>ask price 4</th>\n",
              "      <th>ask size 4</th>\n",
              "      <th>bid price 4</th>\n",
              "      <th>bid size 4</th>\n",
              "      <th>ask price 5</th>\n",
              "      <th>ask size 5</th>\n",
              "      <th>bid price 5</th>\n",
              "      <th>bid size 5</th>\n",
              "      <th>ask price 6</th>\n",
              "      <th>ask size 6</th>\n",
              "      <th>bid price 6</th>\n",
              "      <th>bid size 6</th>\n",
              "      <th>ask price 7</th>\n",
              "      <th>ask size 7</th>\n",
              "      <th>bid price 7</th>\n",
              "      <th>bid size 7</th>\n",
              "      <th>ask price 8</th>\n",
              "      <th>ask size 8</th>\n",
              "      <th>bid price 8</th>\n",
              "      <th>bid size 8</th>\n",
              "      <th>ask price 9</th>\n",
              "      <th>ask size 9</th>\n",
              "      <th>bid price 9</th>\n",
              "      <th>bid size 9</th>\n",
              "      <th>ask price 10</th>\n",
              "      <th>ask size 10</th>\n",
              "      <th>bid price 10</th>\n",
              "      <th>bid size 10</th>\n",
              "    </tr>\n",
              "  </thead>\n",
              "  <tbody>\n",
              "    <tr>\n",
              "      <th>0</th>\n",
              "      <td>223.95</td>\n",
              "      <td>100.0</td>\n",
              "      <td>223.18</td>\n",
              "      <td>100.0</td>\n",
              "      <td>223.99</td>\n",
              "      <td>100.0</td>\n",
              "      <td>223.07</td>\n",
              "      <td>200.0</td>\n",
              "      <td>224.00</td>\n",
              "      <td>220.0</td>\n",
              "      <td>223.04</td>\n",
              "      <td>100.0</td>\n",
              "      <td>224.25</td>\n",
              "      <td>100.0</td>\n",
              "      <td>223.0</td>\n",
              "      <td>10.0</td>\n",
              "      <td>224.40</td>\n",
              "      <td>547.0</td>\n",
              "      <td>222.62</td>\n",
              "      <td>100.0</td>\n",
              "      <td>224.54</td>\n",
              "      <td>100.0</td>\n",
              "      <td>221.30</td>\n",
              "      <td>4000.0</td>\n",
              "      <td>224.89</td>\n",
              "      <td>100.0</td>\n",
              "      <td>220.40</td>\n",
              "      <td>100.0</td>\n",
              "      <td>226.77</td>\n",
              "      <td>100.0</td>\n",
              "      <td>220.25</td>\n",
              "      <td>5000.0</td>\n",
              "      <td>229.43</td>\n",
              "      <td>100.0</td>\n",
              "      <td>220.20</td>\n",
              "      <td>100.0</td>\n",
              "      <td>229.80</td>\n",
              "      <td>100.0</td>\n",
              "      <td>218.97</td>\n",
              "      <td>100.0</td>\n",
              "    </tr>\n",
              "    <tr>\n",
              "      <th>31</th>\n",
              "      <td>223.95</td>\n",
              "      <td>100.0</td>\n",
              "      <td>223.81</td>\n",
              "      <td>21.0</td>\n",
              "      <td>223.96</td>\n",
              "      <td>20.0</td>\n",
              "      <td>223.75</td>\n",
              "      <td>100.0</td>\n",
              "      <td>223.99</td>\n",
              "      <td>100.0</td>\n",
              "      <td>223.65</td>\n",
              "      <td>2.0</td>\n",
              "      <td>224.00</td>\n",
              "      <td>1451.0</td>\n",
              "      <td>223.6</td>\n",
              "      <td>15.0</td>\n",
              "      <td>224.24</td>\n",
              "      <td>20.0</td>\n",
              "      <td>223.50</td>\n",
              "      <td>100.0</td>\n",
              "      <td>224.25</td>\n",
              "      <td>100.0</td>\n",
              "      <td>223.49</td>\n",
              "      <td>50.0</td>\n",
              "      <td>224.30</td>\n",
              "      <td>500.0</td>\n",
              "      <td>223.18</td>\n",
              "      <td>100.0</td>\n",
              "      <td>224.40</td>\n",
              "      <td>547.0</td>\n",
              "      <td>223.07</td>\n",
              "      <td>200.0</td>\n",
              "      <td>224.49</td>\n",
              "      <td>100.0</td>\n",
              "      <td>223.04</td>\n",
              "      <td>100.0</td>\n",
              "      <td>224.50</td>\n",
              "      <td>5.0</td>\n",
              "      <td>223.00</td>\n",
              "      <td>10.0</td>\n",
              "    </tr>\n",
              "    <tr>\n",
              "      <th>43</th>\n",
              "      <td>223.95</td>\n",
              "      <td>100.0</td>\n",
              "      <td>223.75</td>\n",
              "      <td>74.0</td>\n",
              "      <td>223.96</td>\n",
              "      <td>306.0</td>\n",
              "      <td>223.65</td>\n",
              "      <td>2.0</td>\n",
              "      <td>223.99</td>\n",
              "      <td>100.0</td>\n",
              "      <td>223.60</td>\n",
              "      <td>15.0</td>\n",
              "      <td>224.00</td>\n",
              "      <td>1451.0</td>\n",
              "      <td>223.5</td>\n",
              "      <td>100.0</td>\n",
              "      <td>224.24</td>\n",
              "      <td>20.0</td>\n",
              "      <td>223.49</td>\n",
              "      <td>50.0</td>\n",
              "      <td>224.25</td>\n",
              "      <td>100.0</td>\n",
              "      <td>223.07</td>\n",
              "      <td>200.0</td>\n",
              "      <td>224.30</td>\n",
              "      <td>500.0</td>\n",
              "      <td>223.00</td>\n",
              "      <td>10.0</td>\n",
              "      <td>224.40</td>\n",
              "      <td>447.0</td>\n",
              "      <td>222.62</td>\n",
              "      <td>100.0</td>\n",
              "      <td>224.49</td>\n",
              "      <td>100.0</td>\n",
              "      <td>221.30</td>\n",
              "      <td>4000.0</td>\n",
              "      <td>224.50</td>\n",
              "      <td>5.0</td>\n",
              "      <td>220.40</td>\n",
              "      <td>100.0</td>\n",
              "    </tr>\n",
              "    <tr>\n",
              "      <th>45</th>\n",
              "      <td>223.96</td>\n",
              "      <td>286.0</td>\n",
              "      <td>223.75</td>\n",
              "      <td>74.0</td>\n",
              "      <td>223.99</td>\n",
              "      <td>100.0</td>\n",
              "      <td>223.65</td>\n",
              "      <td>2.0</td>\n",
              "      <td>224.00</td>\n",
              "      <td>1451.0</td>\n",
              "      <td>223.60</td>\n",
              "      <td>15.0</td>\n",
              "      <td>224.24</td>\n",
              "      <td>20.0</td>\n",
              "      <td>223.5</td>\n",
              "      <td>100.0</td>\n",
              "      <td>224.25</td>\n",
              "      <td>100.0</td>\n",
              "      <td>223.49</td>\n",
              "      <td>50.0</td>\n",
              "      <td>224.30</td>\n",
              "      <td>500.0</td>\n",
              "      <td>223.07</td>\n",
              "      <td>200.0</td>\n",
              "      <td>224.40</td>\n",
              "      <td>447.0</td>\n",
              "      <td>223.00</td>\n",
              "      <td>10.0</td>\n",
              "      <td>224.49</td>\n",
              "      <td>100.0</td>\n",
              "      <td>222.62</td>\n",
              "      <td>100.0</td>\n",
              "      <td>224.50</td>\n",
              "      <td>5.0</td>\n",
              "      <td>221.30</td>\n",
              "      <td>4000.0</td>\n",
              "      <td>224.89</td>\n",
              "      <td>100.0</td>\n",
              "      <td>220.40</td>\n",
              "      <td>100.0</td>\n",
              "    </tr>\n",
              "    <tr>\n",
              "      <th>47</th>\n",
              "      <td>223.99</td>\n",
              "      <td>100.0</td>\n",
              "      <td>223.75</td>\n",
              "      <td>74.0</td>\n",
              "      <td>224.00</td>\n",
              "      <td>1451.0</td>\n",
              "      <td>223.65</td>\n",
              "      <td>2.0</td>\n",
              "      <td>224.24</td>\n",
              "      <td>20.0</td>\n",
              "      <td>223.62</td>\n",
              "      <td>286.0</td>\n",
              "      <td>224.25</td>\n",
              "      <td>100.0</td>\n",
              "      <td>223.6</td>\n",
              "      <td>15.0</td>\n",
              "      <td>224.30</td>\n",
              "      <td>500.0</td>\n",
              "      <td>223.50</td>\n",
              "      <td>100.0</td>\n",
              "      <td>224.40</td>\n",
              "      <td>447.0</td>\n",
              "      <td>223.49</td>\n",
              "      <td>50.0</td>\n",
              "      <td>224.49</td>\n",
              "      <td>100.0</td>\n",
              "      <td>223.07</td>\n",
              "      <td>200.0</td>\n",
              "      <td>224.50</td>\n",
              "      <td>5.0</td>\n",
              "      <td>223.00</td>\n",
              "      <td>10.0</td>\n",
              "      <td>224.89</td>\n",
              "      <td>100.0</td>\n",
              "      <td>222.62</td>\n",
              "      <td>100.0</td>\n",
              "      <td>226.77</td>\n",
              "      <td>100.0</td>\n",
              "      <td>221.30</td>\n",
              "      <td>4000.0</td>\n",
              "    </tr>\n",
              "  </tbody>\n",
              "</table>\n",
              "</div>"
            ],
            "text/plain": [
              "    ask price 1  ask size 1  ...  bid price 10  bid size 10\n",
              "0        223.95       100.0  ...        218.97        100.0\n",
              "31       223.95       100.0  ...        223.00         10.0\n",
              "43       223.95       100.0  ...        220.40        100.0\n",
              "45       223.96       286.0  ...        220.40        100.0\n",
              "47       223.99       100.0  ...        221.30       4000.0\n",
              "\n",
              "[5 rows x 40 columns]"
            ]
          },
          "metadata": {},
          "execution_count": 9
        }
      ]
    },
    {
      "cell_type": "code",
      "metadata": {
        "id": "Nh_nTbNLrvTM",
        "colab": {
          "base_uri": "https://localhost:8080/",
          "height": 282
        },
        "outputId": "2ba96254-5afb-44ea-eba2-362af2b9b559"
      },
      "source": [
        "count_message = df_message['Direction'].value_counts().sort_index()\n",
        "count_message.plot(kind='bar')\n"
      ],
      "execution_count": 10,
      "outputs": [
        {
          "output_type": "execute_result",
          "data": {
            "text/plain": [
              "<matplotlib.axes._subplots.AxesSubplot at 0x7fccec624450>"
            ]
          },
          "metadata": {},
          "execution_count": 10
        },
        {
          "output_type": "display_data",
          "data": {
            "image/png": "[encoded data removed]",
            "text/plain": [
              "<Figure size 432x288 with 1 Axes>"
            ]
          },
          "metadata": {
            "needs_background": "light"
          }
        }
      ]
    },
    {
      "cell_type": "markdown",
      "metadata": {
        "id": "RFibarr4SnOX"
      },
      "source": [
        "## **准备训练数据**"
      ]
    },
    {
      "cell_type": "code",
      "metadata": {
        "id": "ARyIAHlUSruE",
        "colab": {
          "base_uri": "https://localhost:8080/"
        },
        "outputId": "7a8d2f57-c8ea-4255-8d08-90065b6f5a33"
      },
      "source": [
        "def P_Lagged_data(X, p):\n",
        "  \"\"\" 计算p阶滞后项 \"\"\"\n",
        "  n = X.shape[0]\n",
        "  LaggedX = np.zeros([n-p, p, X.shape[1]])\n",
        "  for i in range(n-p):\n",
        "    LaggedX[i,:,:] = X[i:(i+p),:]\n",
        "  return LaggedX\n",
        "\n",
        "def GenerateLaggedValueInputOutput(df_orderbook, label, p):\n",
        "  \"\"\" 准备训练需要的输入和输出数据 \"\"\"\n",
        "  orderbook = df_orderbook.values\n",
        "  inputX = P_Lagged_data(orderbook, p) \n",
        "  outputY = label[p:]\n",
        "  return inputX, outputY \n",
        "\n",
        "nTimes = df_orderbook.shape[0]\n",
        "inputX, outputY = GenerateLaggedValueInputOutput(df_orderbook, label, p=50)\n",
        "\n",
        "# 查看输入和输出的维度\n",
        "print(inputX.shape)\n",
        "print(outputY.shape)"
      ],
      "execution_count": 11,
      "outputs": [
        {
          "output_type": "stream",
          "text": [
            "(27507, 50, 40)\n",
            "(27507, 2)\n"
          ],
          "name": "stdout"
        }
      ]
    },
    {
      "cell_type": "code",
      "metadata": {
        "id": "QmdmqSzTEA7s",
        "colab": {
          "base_uri": "https://localhost:8080/"
        },
        "outputId": "97ee5fc6-8a55-424f-d77f-6c99eade0a81"
      },
      "source": [
        "df_orderbook.shape"
      ],
      "execution_count": 12,
      "outputs": [
        {
          "output_type": "execute_result",
          "data": {
            "text/plain": [
              "(27557, 40)"
            ]
          },
          "metadata": {},
          "execution_count": 12
        }
      ]
    },
    {
      "cell_type": "code",
      "metadata": {
        "id": "OYsj1VeDEA-k",
        "colab": {
          "base_uri": "https://localhost:8080/"
        },
        "outputId": "20dfb975-8e77-4eb5-d33a-8bbc42a12441"
      },
      "source": [
        "label"
      ],
      "execution_count": 13,
      "outputs": [
        {
          "output_type": "execute_result",
          "data": {
            "text/plain": [
              "array([[0., 1.],\n",
              "       [1., 0.],\n",
              "       [0., 1.],\n",
              "       ...,\n",
              "       [0., 1.],\n",
              "       [1., 0.],\n",
              "       [0., 1.]], dtype=float32)"
            ]
          },
          "metadata": {},
          "execution_count": 13
        }
      ]
    },
    {
      "cell_type": "markdown",
      "metadata": {
        "id": "brr2A3EaY6-x"
      },
      "source": [
        "## **预处理限价委托单薄数据集中的数据**"
      ]
    },
    {
      "cell_type": "code",
      "metadata": {
        "id": "LZyRA3xZYv0o",
        "colab": {
          "base_uri": "https://localhost:8080/"
        },
        "outputId": "0b2c477b-fbac-424e-c082-d843f343d8b8"
      },
      "source": [
        "from sklearn.model_selection import train_test_split\n",
        "from sklearn import preprocessing\n",
        "\n",
        "# 划分训练集和测试集, 这里需要将参数shuffle设置为False, 因为我们希望使用前90%的数据作为训练集, 其他作为测试集.\n",
        "# 参数shuffle的默认值是True, 默认情况下将会从整个数据集中随机选择测试集数据.\n",
        "X_train, X_test, y_train, y_test = train_test_split(inputX, outputY, test_size=0.1, shuffle = False)\n",
        "\n",
        "def Normalize3D_tensor_Data(X_train, X_test):\n",
        "  \"\"\" 标准化三维张量输入数据 \"\"\"\n",
        "  dim_train = np.shape(X_train)\n",
        "  print(dim_train)\n",
        "  X_train_scaled = np.zeros(np.shape(X_train), dtype = float)\n",
        "  X_test_scaled = np.zeros(np.shape(X_test), dtype = float)\n",
        "  for i in range(dim_train[1]):\n",
        "    scaler = preprocessing.StandardScaler().fit(X_train[:, i, :])\n",
        "    X_train_scaled[:, i, :] = scaler.transform(X_train[:, i, :])  \n",
        "    X_test_scaled[:, i, :] = scaler.transform(X_test[:, i, :])  \n",
        "  return X_train_scaled, X_test_scaled\n",
        " \n",
        "X_train_scaled, X_test_scaled = Normalize3D_tensor_Data(X_train, X_test)"
      ],
      "execution_count": 14,
      "outputs": [
        {
          "output_type": "stream",
          "text": [
            "(24756, 50, 40)\n"
          ],
          "name": "stdout"
        }
      ]
    },
    {
      "cell_type": "markdown",
      "metadata": {
        "id": "gU-HWWPAZSGP"
      },
      "source": [
        "## 使用LSTM预测价格变动方向"
      ]
    },
    {
      "cell_type": "code",
      "metadata": {
        "id": "a2S-6wx_TFd3"
      },
      "source": [
        "# import tensorflow + keras ...\n",
        "import tensorflow as tf\n",
        "import keras\n",
        "from tensorflow.keras.layers import Dense, LSTM, Dropout, Activation\n",
        "from tensorflow.keras import optimizers,metrics\n",
        "from tensorflow.keras.models import Sequential\n",
        "\n",
        "# import matplotlib...\n",
        "import matplotlib.pyplot as plt\n",
        "import matplotlib.axes as ax\n",
        "import matplotlib\n",
        "import pylab"
      ],
      "execution_count": 15,
      "outputs": []
    },
    {
      "cell_type": "markdown",
      "metadata": {
        "id": "tUXhGZ8kn57U"
      },
      "source": [
        "### **单层LSTM**"
      ]
    },
    {
      "cell_type": "code",
      "metadata": {
        "id": "AC7R-mXuZWTf",
        "colab": {
          "base_uri": "https://localhost:8080/"
        },
        "outputId": "f1925324-80c7-4698-9cac-b8027f076928"
      },
      "source": [
        "def LSTM_Single_Layer(input_shape, nodes, dropout):\n",
        "    \"\"\" 使用单层LSTM构建循环神经网络 \"\"\"\n",
        "    model = Sequential()\n",
        "    model.add(LSTM(nodes,dropout=dropout,input_shape= input_shape,use_bias= True))\n",
        "    model.add(Dense(10, activation='relu', use_bias= True))\n",
        "    model.add(Dense(2,activation='softmax', use_bias= True))\n",
        "    adam = optimizers.Adam(learning_rate=0.01, beta_1=0.9, beta_2=0.999, epsilon=None, decay=0.0, amsgrad=False)\n",
        "    model.compile(loss='categorical_crossentropy', optimizer=adam, metrics=[metrics.categorical_accuracy])\n",
        "    return model\n",
        "\n",
        "LightLSTM_Model = LSTM_Single_Layer(X_train_scaled.shape[1:], 30,0.15)\n",
        "\n",
        "# 查看LSTM的模型参数\n",
        "print(LightLSTM_Model.summary())\n",
        "hist_LightLSTM = LightLSTM_Model.fit(X_train_scaled, y_train,validation_split=0.1, batch_size=2000, epochs=50, shuffle=True, verbose=1)"
      ],
      "execution_count": 16,
      "outputs": [
        {
          "output_type": "stream",
          "text": [
            "Model: \"sequential\"\n",
            "_________________________________________________________________\n",
            "Layer (type)                 Output Shape              Param #   \n",
            "=================================================================\n",
            "lstm (LSTM)                  (None, 30)                8520      \n",
            "_________________________________________________________________\n",
            "dense (Dense)                (None, 10)                310       \n",
            "_________________________________________________________________\n",
            "dense_1 (Dense)              (None, 2)                 22        \n",
            "=================================================================\n",
            "Total params: 8,852\n",
            "Trainable params: 8,852\n",
            "Non-trainable params: 0\n",
            "_________________________________________________________________\n",
            "None\n",
            "Epoch 1/50\n",
            "12/12 [==============================] - 8s 83ms/step - loss: 0.6935 - categorical_accuracy: 0.5116 - val_loss: 0.6864 - val_categorical_accuracy: 0.5448\n",
            "Epoch 2/50\n",
            "12/12 [==============================] - 0s 31ms/step - loss: 0.6882 - categorical_accuracy: 0.5344 - val_loss: 0.6763 - val_categorical_accuracy: 0.5739\n",
            "Epoch 3/50\n",
            "12/12 [==============================] - 0s 30ms/step - loss: 0.6848 - categorical_accuracy: 0.5499 - val_loss: 0.6733 - val_categorical_accuracy: 0.5969\n",
            "Epoch 4/50\n",
            "12/12 [==============================] - 0s 29ms/step - loss: 0.6832 - categorical_accuracy: 0.5545 - val_loss: 0.6731 - val_categorical_accuracy: 0.5953\n",
            "Epoch 5/50\n",
            "12/12 [==============================] - 0s 26ms/step - loss: 0.6825 - categorical_accuracy: 0.5540 - val_loss: 0.6772 - val_categorical_accuracy: 0.5792\n",
            "Epoch 6/50\n",
            "12/12 [==============================] - 0s 27ms/step - loss: 0.6792 - categorical_accuracy: 0.5601 - val_loss: 0.6803 - val_categorical_accuracy: 0.5715\n",
            "Epoch 7/50\n",
            "12/12 [==============================] - 0s 27ms/step - loss: 0.6785 - categorical_accuracy: 0.5652 - val_loss: 0.6764 - val_categorical_accuracy: 0.5828\n",
            "Epoch 8/50\n",
            "12/12 [==============================] - 0s 29ms/step - loss: 0.6766 - categorical_accuracy: 0.5685 - val_loss: 0.6746 - val_categorical_accuracy: 0.6002\n",
            "Epoch 9/50\n",
            "12/12 [==============================] - 0s 27ms/step - loss: 0.6728 - categorical_accuracy: 0.5741 - val_loss: 0.6691 - val_categorical_accuracy: 0.5893\n",
            "Epoch 10/50\n",
            "12/12 [==============================] - 0s 26ms/step - loss: 0.6691 - categorical_accuracy: 0.5824 - val_loss: 0.6741 - val_categorical_accuracy: 0.5792\n",
            "Epoch 11/50\n",
            "12/12 [==============================] - 0s 27ms/step - loss: 0.6630 - categorical_accuracy: 0.5915 - val_loss: 0.6858 - val_categorical_accuracy: 0.5679\n",
            "Epoch 12/50\n",
            "12/12 [==============================] - 0s 28ms/step - loss: 0.6594 - categorical_accuracy: 0.5955 - val_loss: 0.6687 - val_categorical_accuracy: 0.5973\n",
            "Epoch 13/50\n",
            "12/12 [==============================] - 0s 27ms/step - loss: 0.6563 - categorical_accuracy: 0.6009 - val_loss: 0.6756 - val_categorical_accuracy: 0.5864\n",
            "Epoch 14/50\n",
            "12/12 [==============================] - 0s 27ms/step - loss: 0.6518 - categorical_accuracy: 0.6042 - val_loss: 0.6723 - val_categorical_accuracy: 0.5880\n",
            "Epoch 15/50\n",
            "12/12 [==============================] - 0s 29ms/step - loss: 0.6488 - categorical_accuracy: 0.6051 - val_loss: 0.6735 - val_categorical_accuracy: 0.5985\n",
            "Epoch 16/50\n",
            "12/12 [==============================] - 0s 29ms/step - loss: 0.6448 - categorical_accuracy: 0.6101 - val_loss: 0.6670 - val_categorical_accuracy: 0.5941\n",
            "Epoch 17/50\n",
            "12/12 [==============================] - 0s 29ms/step - loss: 0.6440 - categorical_accuracy: 0.6064 - val_loss: 0.6906 - val_categorical_accuracy: 0.5897\n",
            "Epoch 18/50\n",
            "12/12 [==============================] - 0s 29ms/step - loss: 0.6411 - categorical_accuracy: 0.6152 - val_loss: 0.6860 - val_categorical_accuracy: 0.5852\n",
            "Epoch 19/50\n",
            "12/12 [==============================] - 0s 27ms/step - loss: 0.6401 - categorical_accuracy: 0.6149 - val_loss: 0.6775 - val_categorical_accuracy: 0.5965\n",
            "Epoch 20/50\n",
            "12/12 [==============================] - 0s 27ms/step - loss: 0.6337 - categorical_accuracy: 0.6231 - val_loss: 0.6767 - val_categorical_accuracy: 0.5905\n",
            "Epoch 21/50\n",
            "12/12 [==============================] - 0s 27ms/step - loss: 0.6303 - categorical_accuracy: 0.6270 - val_loss: 0.6753 - val_categorical_accuracy: 0.5828\n",
            "Epoch 22/50\n",
            "12/12 [==============================] - 0s 27ms/step - loss: 0.6311 - categorical_accuracy: 0.6275 - val_loss: 0.7167 - val_categorical_accuracy: 0.5731\n",
            "Epoch 23/50\n",
            "12/12 [==============================] - 0s 27ms/step - loss: 0.6271 - categorical_accuracy: 0.6314 - val_loss: 0.6864 - val_categorical_accuracy: 0.5751\n",
            "Epoch 24/50\n",
            "12/12 [==============================] - 0s 28ms/step - loss: 0.6229 - categorical_accuracy: 0.6330 - val_loss: 0.6815 - val_categorical_accuracy: 0.5812\n",
            "Epoch 25/50\n",
            "12/12 [==============================] - 0s 28ms/step - loss: 0.6209 - categorical_accuracy: 0.6356 - val_loss: 0.6901 - val_categorical_accuracy: 0.6038\n",
            "Epoch 26/50\n",
            "12/12 [==============================] - 0s 28ms/step - loss: 0.6216 - categorical_accuracy: 0.6316 - val_loss: 0.7225 - val_categorical_accuracy: 0.5812\n",
            "Epoch 27/50\n",
            "12/12 [==============================] - 0s 27ms/step - loss: 0.6169 - categorical_accuracy: 0.6446 - val_loss: 0.6882 - val_categorical_accuracy: 0.5824\n",
            "Epoch 28/50\n",
            "12/12 [==============================] - 0s 27ms/step - loss: 0.6155 - categorical_accuracy: 0.6426 - val_loss: 0.6919 - val_categorical_accuracy: 0.5852\n",
            "Epoch 29/50\n",
            "12/12 [==============================] - 0s 27ms/step - loss: 0.6166 - categorical_accuracy: 0.6423 - val_loss: 0.6939 - val_categorical_accuracy: 0.5788\n",
            "Epoch 30/50\n",
            "12/12 [==============================] - 0s 27ms/step - loss: 0.6148 - categorical_accuracy: 0.6407 - val_loss: 0.6820 - val_categorical_accuracy: 0.6002\n",
            "Epoch 31/50\n",
            "12/12 [==============================] - 0s 29ms/step - loss: 0.6087 - categorical_accuracy: 0.6509 - val_loss: 0.7270 - val_categorical_accuracy: 0.5824\n",
            "Epoch 32/50\n",
            "12/12 [==============================] - 0s 25ms/step - loss: 0.6094 - categorical_accuracy: 0.6460 - val_loss: 0.6989 - val_categorical_accuracy: 0.5905\n",
            "Epoch 33/50\n",
            "12/12 [==============================] - 0s 27ms/step - loss: 0.6075 - categorical_accuracy: 0.6524 - val_loss: 0.6788 - val_categorical_accuracy: 0.5840\n",
            "Epoch 34/50\n",
            "12/12 [==============================] - 0s 28ms/step - loss: 0.6044 - categorical_accuracy: 0.6503 - val_loss: 0.7014 - val_categorical_accuracy: 0.5889\n",
            "Epoch 35/50\n",
            "12/12 [==============================] - 0s 27ms/step - loss: 0.6043 - categorical_accuracy: 0.6493 - val_loss: 0.6987 - val_categorical_accuracy: 0.5816\n",
            "Epoch 36/50\n",
            "12/12 [==============================] - 0s 28ms/step - loss: 0.6034 - categorical_accuracy: 0.6501 - val_loss: 0.6905 - val_categorical_accuracy: 0.5828\n",
            "Epoch 37/50\n",
            "12/12 [==============================] - 0s 27ms/step - loss: 0.6030 - categorical_accuracy: 0.6556 - val_loss: 0.6842 - val_categorical_accuracy: 0.5941\n",
            "Epoch 38/50\n",
            "12/12 [==============================] - 0s 28ms/step - loss: 0.6008 - categorical_accuracy: 0.6555 - val_loss: 0.6954 - val_categorical_accuracy: 0.5913\n",
            "Epoch 39/50\n",
            "12/12 [==============================] - 0s 27ms/step - loss: 0.5975 - categorical_accuracy: 0.6607 - val_loss: 0.6986 - val_categorical_accuracy: 0.5836\n",
            "Epoch 40/50\n",
            "12/12 [==============================] - 0s 28ms/step - loss: 0.5997 - categorical_accuracy: 0.6552 - val_loss: 0.6848 - val_categorical_accuracy: 0.5937\n",
            "Epoch 41/50\n",
            "12/12 [==============================] - 0s 27ms/step - loss: 0.6006 - categorical_accuracy: 0.6553 - val_loss: 0.7050 - val_categorical_accuracy: 0.6054\n",
            "Epoch 42/50\n",
            "12/12 [==============================] - 0s 27ms/step - loss: 0.5949 - categorical_accuracy: 0.6607 - val_loss: 0.6966 - val_categorical_accuracy: 0.5582\n",
            "Epoch 43/50\n",
            "12/12 [==============================] - 0s 27ms/step - loss: 0.5976 - categorical_accuracy: 0.6590 - val_loss: 0.6937 - val_categorical_accuracy: 0.5679\n",
            "Epoch 44/50\n",
            "12/12 [==============================] - 0s 27ms/step - loss: 0.5948 - categorical_accuracy: 0.6629 - val_loss: 0.7015 - val_categorical_accuracy: 0.5828\n",
            "Epoch 45/50\n",
            "12/12 [==============================] - 0s 29ms/step - loss: 0.5936 - categorical_accuracy: 0.6659 - val_loss: 0.7088 - val_categorical_accuracy: 0.5670\n",
            "Epoch 46/50\n",
            "12/12 [==============================] - 0s 28ms/step - loss: 0.5931 - categorical_accuracy: 0.6597 - val_loss: 0.6960 - val_categorical_accuracy: 0.5759\n",
            "Epoch 47/50\n",
            "12/12 [==============================] - 0s 27ms/step - loss: 0.5911 - categorical_accuracy: 0.6676 - val_loss: 0.6851 - val_categorical_accuracy: 0.5969\n",
            "Epoch 48/50\n",
            "12/12 [==============================] - 0s 27ms/step - loss: 0.5893 - categorical_accuracy: 0.6654 - val_loss: 0.6855 - val_categorical_accuracy: 0.6014\n",
            "Epoch 49/50\n",
            "12/12 [==============================] - 0s 27ms/step - loss: 0.5897 - categorical_accuracy: 0.6686 - val_loss: 0.6961 - val_categorical_accuracy: 0.5658\n",
            "Epoch 50/50\n",
            "12/12 [==============================] - 0s 26ms/step - loss: 0.5874 - categorical_accuracy: 0.6697 - val_loss: 0.7054 - val_categorical_accuracy: 0.5792\n"
          ],
          "name": "stdout"
        }
      ]
    },
    {
      "cell_type": "code",
      "metadata": {
        "id": "L0vgxhyLOq8y",
        "colab": {
          "base_uri": "https://localhost:8080/"
        },
        "outputId": "375be51c-b2d2-41aa-c0c1-8b33c63ca171"
      },
      "source": [
        "X_train.shape[1:]"
      ],
      "execution_count": 17,
      "outputs": [
        {
          "output_type": "execute_result",
          "data": {
            "text/plain": [
              "(50, 40)"
            ]
          },
          "metadata": {},
          "execution_count": 17
        }
      ]
    },
    {
      "cell_type": "code",
      "metadata": {
        "id": "tgLYU8jye_0V",
        "colab": {
          "base_uri": "https://localhost:8080/"
        },
        "outputId": "38b414d1-fcb9-45a4-ca3e-3c9dacf6f1ec"
      },
      "source": [
        "score_LightLSTM = LightLSTM_Model.evaluate(X_test_scaled, y_test, verbose=1)\n",
        "print(score_LightLSTM)"
      ],
      "execution_count": 18,
      "outputs": [
        {
          "output_type": "stream",
          "text": [
            "86/86 [==============================] - 1s 6ms/step - loss: 0.7298 - categorical_accuracy: 0.5736\n",
            "[0.7297797203063965, 0.5736095905303955]\n"
          ],
          "name": "stdout"
        }
      ]
    },
    {
      "cell_type": "code",
      "metadata": {
        "id": "_JRtUr2fmn_9",
        "colab": {
          "base_uri": "https://localhost:8080/"
        },
        "outputId": "be1c1a16-dc32-43d8-c218-4664438185a7"
      },
      "source": [
        "LightLSTM_Model.save('LightLSTM_Model')\n",
        "\n",
        "from keras.models import load_model\n",
        "\n",
        "LightLSTM_Model = load_model('LightLSTM_Model')\n",
        "hist_LightLSTM = LightLSTM_Model.fit(X_train_scaled , y_train, validation_split=0.1, batch_size=2000, epochs=50, shuffle=True, verbose=1)"
      ],
      "execution_count": 21,
      "outputs": [
        {
          "output_type": "stream",
          "text": [
            "WARNING:absl:Found untraced functions such as lstm_cell_layer_call_and_return_conditional_losses, lstm_cell_layer_call_fn, lstm_cell_layer_call_fn, lstm_cell_layer_call_and_return_conditional_losses, lstm_cell_layer_call_and_return_conditional_losses while saving (showing 5 of 5). These functions will not be directly callable after loading.\n"
          ],
          "name": "stderr"
        },
        {
          "output_type": "stream",
          "text": [
            "INFO:tensorflow:Assets written to: LightLSTM_Model/assets\n"
          ],
          "name": "stdout"
        },
        {
          "output_type": "stream",
          "text": [
            "INFO:tensorflow:Assets written to: LightLSTM_Model/assets\n"
          ],
          "name": "stderr"
        },
        {
          "output_type": "stream",
          "text": [
            "Epoch 1/50\n",
            "12/12 [==============================] - 3s 80ms/step - loss: 0.5916 - categorical_accuracy: 0.6645 - val_loss: 0.6934 - val_categorical_accuracy: 0.5844\n",
            "Epoch 2/50\n",
            "12/12 [==============================] - 0s 35ms/step - loss: 0.5851 - categorical_accuracy: 0.6713 - val_loss: 0.6899 - val_categorical_accuracy: 0.5949\n",
            "Epoch 3/50\n",
            "12/12 [==============================] - 0s 30ms/step - loss: 0.5823 - categorical_accuracy: 0.6715 - val_loss: 0.7181 - val_categorical_accuracy: 0.5828\n",
            "Epoch 4/50\n",
            "12/12 [==============================] - 0s 29ms/step - loss: 0.5808 - categorical_accuracy: 0.6759 - val_loss: 0.6907 - val_categorical_accuracy: 0.5654\n",
            "Epoch 5/50\n",
            "12/12 [==============================] - 0s 28ms/step - loss: 0.5813 - categorical_accuracy: 0.6730 - val_loss: 0.6946 - val_categorical_accuracy: 0.5214\n",
            "Epoch 6/50\n",
            "12/12 [==============================] - 0s 29ms/step - loss: 0.5829 - categorical_accuracy: 0.6714 - val_loss: 0.7128 - val_categorical_accuracy: 0.5788\n",
            "Epoch 7/50\n",
            "12/12 [==============================] - 0s 29ms/step - loss: 0.5761 - categorical_accuracy: 0.6786 - val_loss: 0.6971 - val_categorical_accuracy: 0.5626\n",
            "Epoch 8/50\n",
            "12/12 [==============================] - 0s 28ms/step - loss: 0.5756 - categorical_accuracy: 0.6782 - val_loss: 0.6957 - val_categorical_accuracy: 0.5860\n",
            "Epoch 9/50\n",
            "12/12 [==============================] - 0s 28ms/step - loss: 0.5763 - categorical_accuracy: 0.6755 - val_loss: 0.6989 - val_categorical_accuracy: 0.5820\n",
            "Epoch 10/50\n",
            "12/12 [==============================] - 0s 27ms/step - loss: 0.5778 - categorical_accuracy: 0.6750 - val_loss: 0.7003 - val_categorical_accuracy: 0.5687\n",
            "Epoch 11/50\n",
            "12/12 [==============================] - 0s 27ms/step - loss: 0.5776 - categorical_accuracy: 0.6760 - val_loss: 0.7216 - val_categorical_accuracy: 0.5586\n",
            "Epoch 12/50\n",
            "12/12 [==============================] - 0s 27ms/step - loss: 0.5746 - categorical_accuracy: 0.6753 - val_loss: 0.7063 - val_categorical_accuracy: 0.5889\n",
            "Epoch 13/50\n",
            "12/12 [==============================] - 0s 27ms/step - loss: 0.5726 - categorical_accuracy: 0.6807 - val_loss: 0.6871 - val_categorical_accuracy: 0.5800\n",
            "Epoch 14/50\n",
            "12/12 [==============================] - 0s 29ms/step - loss: 0.5746 - categorical_accuracy: 0.6789 - val_loss: 0.7021 - val_categorical_accuracy: 0.5771\n",
            "Epoch 15/50\n",
            "12/12 [==============================] - 0s 27ms/step - loss: 0.5763 - categorical_accuracy: 0.6737 - val_loss: 0.7304 - val_categorical_accuracy: 0.5444\n",
            "Epoch 16/50\n",
            "12/12 [==============================] - 0s 28ms/step - loss: 0.5715 - categorical_accuracy: 0.6846 - val_loss: 0.6963 - val_categorical_accuracy: 0.5876\n",
            "Epoch 17/50\n",
            "12/12 [==============================] - 0s 28ms/step - loss: 0.5754 - categorical_accuracy: 0.6769 - val_loss: 0.7373 - val_categorical_accuracy: 0.5533\n",
            "Epoch 18/50\n",
            "12/12 [==============================] - 0s 28ms/step - loss: 0.5747 - categorical_accuracy: 0.6806 - val_loss: 0.7141 - val_categorical_accuracy: 0.5456\n",
            "Epoch 19/50\n",
            "12/12 [==============================] - 0s 28ms/step - loss: 0.5715 - categorical_accuracy: 0.6845 - val_loss: 0.7510 - val_categorical_accuracy: 0.5432\n",
            "Epoch 20/50\n",
            "12/12 [==============================] - 0s 27ms/step - loss: 0.5721 - categorical_accuracy: 0.6820 - val_loss: 0.7137 - val_categorical_accuracy: 0.5477\n",
            "Epoch 21/50\n",
            "12/12 [==============================] - 0s 29ms/step - loss: 0.5735 - categorical_accuracy: 0.6781 - val_loss: 0.7217 - val_categorical_accuracy: 0.5315\n",
            "Epoch 22/50\n",
            "12/12 [==============================] - 0s 29ms/step - loss: 0.5737 - categorical_accuracy: 0.6798 - val_loss: 0.7157 - val_categorical_accuracy: 0.5525\n",
            "Epoch 23/50\n",
            "12/12 [==============================] - 0s 29ms/step - loss: 0.5709 - categorical_accuracy: 0.6847 - val_loss: 0.6986 - val_categorical_accuracy: 0.5679\n",
            "Epoch 24/50\n",
            "12/12 [==============================] - 0s 29ms/step - loss: 0.5691 - categorical_accuracy: 0.6832 - val_loss: 0.7190 - val_categorical_accuracy: 0.5517\n",
            "Epoch 25/50\n",
            "12/12 [==============================] - 0s 27ms/step - loss: 0.5705 - categorical_accuracy: 0.6786 - val_loss: 0.7014 - val_categorical_accuracy: 0.5707\n",
            "Epoch 26/50\n",
            "12/12 [==============================] - 0s 30ms/step - loss: 0.5697 - categorical_accuracy: 0.6837 - val_loss: 0.7211 - val_categorical_accuracy: 0.5477\n",
            "Epoch 27/50\n",
            "12/12 [==============================] - 0s 28ms/step - loss: 0.5665 - categorical_accuracy: 0.6833 - val_loss: 0.7007 - val_categorical_accuracy: 0.5662\n",
            "Epoch 28/50\n",
            "12/12 [==============================] - 0s 27ms/step - loss: 0.5662 - categorical_accuracy: 0.6856 - val_loss: 0.7167 - val_categorical_accuracy: 0.5614\n",
            "Epoch 29/50\n",
            "12/12 [==============================] - 0s 28ms/step - loss: 0.5667 - categorical_accuracy: 0.6846 - val_loss: 0.6907 - val_categorical_accuracy: 0.5473\n",
            "Epoch 30/50\n",
            "12/12 [==============================] - 0s 28ms/step - loss: 0.5686 - categorical_accuracy: 0.6828 - val_loss: 0.7130 - val_categorical_accuracy: 0.5654\n",
            "Epoch 31/50\n",
            "12/12 [==============================] - 0s 27ms/step - loss: 0.5642 - categorical_accuracy: 0.6892 - val_loss: 0.7111 - val_categorical_accuracy: 0.5456\n",
            "Epoch 32/50\n",
            "12/12 [==============================] - 0s 28ms/step - loss: 0.5619 - categorical_accuracy: 0.6894 - val_loss: 0.7152 - val_categorical_accuracy: 0.5509\n",
            "Epoch 33/50\n",
            "12/12 [==============================] - 0s 29ms/step - loss: 0.5626 - categorical_accuracy: 0.6876 - val_loss: 0.6969 - val_categorical_accuracy: 0.5743\n",
            "Epoch 34/50\n",
            "12/12 [==============================] - 0s 26ms/step - loss: 0.5628 - categorical_accuracy: 0.6895 - val_loss: 0.7140 - val_categorical_accuracy: 0.5679\n",
            "Epoch 35/50\n",
            "12/12 [==============================] - 0s 28ms/step - loss: 0.5640 - categorical_accuracy: 0.6844 - val_loss: 0.7221 - val_categorical_accuracy: 0.5614\n",
            "Epoch 36/50\n",
            "12/12 [==============================] - 0s 28ms/step - loss: 0.5641 - categorical_accuracy: 0.6884 - val_loss: 0.7147 - val_categorical_accuracy: 0.5444\n",
            "Epoch 37/50\n",
            "12/12 [==============================] - 0s 27ms/step - loss: 0.5677 - categorical_accuracy: 0.6875 - val_loss: 0.7108 - val_categorical_accuracy: 0.5755\n",
            "Epoch 38/50\n",
            "12/12 [==============================] - 0s 28ms/step - loss: 0.5649 - categorical_accuracy: 0.6885 - val_loss: 0.7140 - val_categorical_accuracy: 0.5590\n",
            "Epoch 39/50\n",
            "12/12 [==============================] - 0s 27ms/step - loss: 0.5661 - categorical_accuracy: 0.6858 - val_loss: 0.7095 - val_categorical_accuracy: 0.5670\n",
            "Epoch 40/50\n",
            "12/12 [==============================] - 0s 27ms/step - loss: 0.5605 - categorical_accuracy: 0.6886 - val_loss: 0.7227 - val_categorical_accuracy: 0.5404\n",
            "Epoch 41/50\n",
            "12/12 [==============================] - 0s 28ms/step - loss: 0.5614 - categorical_accuracy: 0.6883 - val_loss: 0.7075 - val_categorical_accuracy: 0.5642\n",
            "Epoch 42/50\n",
            "12/12 [==============================] - 0s 29ms/step - loss: 0.5597 - categorical_accuracy: 0.6912 - val_loss: 0.7262 - val_categorical_accuracy: 0.5295\n",
            "Epoch 43/50\n",
            "12/12 [==============================] - 0s 30ms/step - loss: 0.5610 - categorical_accuracy: 0.6886 - val_loss: 0.7067 - val_categorical_accuracy: 0.5739\n",
            "Epoch 44/50\n",
            "12/12 [==============================] - 0s 28ms/step - loss: 0.5606 - categorical_accuracy: 0.6874 - val_loss: 0.7075 - val_categorical_accuracy: 0.5493\n",
            "Epoch 45/50\n",
            "12/12 [==============================] - 0s 29ms/step - loss: 0.5640 - categorical_accuracy: 0.6869 - val_loss: 0.7019 - val_categorical_accuracy: 0.5816\n",
            "Epoch 46/50\n",
            "12/12 [==============================] - 0s 26ms/step - loss: 0.5595 - categorical_accuracy: 0.6915 - val_loss: 0.6930 - val_categorical_accuracy: 0.5864\n",
            "Epoch 47/50\n",
            "12/12 [==============================] - 0s 29ms/step - loss: 0.5601 - categorical_accuracy: 0.6900 - val_loss: 0.7170 - val_categorical_accuracy: 0.5626\n",
            "Epoch 48/50\n",
            "12/12 [==============================] - 0s 28ms/step - loss: 0.5633 - categorical_accuracy: 0.6909 - val_loss: 0.6925 - val_categorical_accuracy: 0.5549\n",
            "Epoch 49/50\n",
            "12/12 [==============================] - 0s 28ms/step - loss: 0.5575 - categorical_accuracy: 0.6941 - val_loss: 0.7286 - val_categorical_accuracy: 0.5703\n",
            "Epoch 50/50\n",
            "12/12 [==============================] - 0s 29ms/step - loss: 0.5613 - categorical_accuracy: 0.6918 - val_loss: 0.7031 - val_categorical_accuracy: 0.5763\n"
          ],
          "name": "stdout"
        }
      ]
    },
    {
      "cell_type": "code",
      "metadata": {
        "id": "gqZ5w8Jvwpyt"
      },
      "source": [
        "from matplotlib import pyplot as plt    \n",
        "\n",
        "def plot_hist_loss(hist):\n",
        "  plt.figure()\n",
        "  plt.plot(hist.history['loss'], 'b', linewidth=1.5)\n",
        "  plt.plot(hist.history['val_loss'], 'r', linewidth=1.5)\n",
        "  plt.legend(['Training set','Testing set'])\n",
        "  plt.xlabel('Epochs')\n",
        "  plt.ylabel('Loss')\n",
        "  \n",
        "def plot_hist_accuracy(hist):\n",
        "  plt.figure()\n",
        "  plt.plot(hist.history['categorical_accuracy'], 'b', linewidth = 1.5)\n",
        "  plt.plot(hist.history['val_categorical_accuracy'], 'r', linewidth = 1.5)\n",
        "  plt.legend(['Training set','Testing set'])\n",
        "  plt.xlabel('Epochs')\n",
        "  plt.ylabel('Accuracy')"
      ],
      "execution_count": 22,
      "outputs": []
    },
    {
      "cell_type": "code",
      "metadata": {
        "id": "2d7idFThXrUJ",
        "colab": {
          "base_uri": "https://localhost:8080/",
          "height": 542
        },
        "outputId": "addc8fa5-8dd4-45a4-f8b3-ac955e069f33"
      },
      "source": [
        "plot_hist_loss(hist_LightLSTM)\n",
        "plot_hist_accuracy(hist_LightLSTM)"
      ],
      "execution_count": 23,
      "outputs": [
        {
          "output_type": "display_data",
          "data": {
            "image/png": "[encoded data removed]",
            "text/plain": [
              "<Figure size 432x288 with 1 Axes>"
            ]
          },
          "metadata": {
            "needs_background": "light"
          }
        },
        {
          "output_type": "display_data",
          "data": {
            "image/png": "[encoded data removed]",
            "text/plain": [
              "<Figure size 432x288 with 1 Axes>"
            ]
          },
          "metadata": {
            "needs_background": "light"
          }
        }
      ]
    },
    {
      "cell_type": "markdown",
      "metadata": {
        "id": "JkYQ75Ev3M-m"
      },
      "source": [
        "### Cross validation"
      ]
    },
    {
      "cell_type": "code",
      "metadata": {
        "id": "5-kWxrfO3TXW",
        "colab": {
          "base_uri": "https://localhost:8080/"
        },
        "outputId": "62ccefd7-fda6-4514-8691-8ca28e6e44cc"
      },
      "source": [
        "from keras.wrappers.scikit_learn import KerasClassifier\n",
        "from sklearn.model_selection import StratifiedKFold, cross_val_score\n",
        "\n",
        "estimator = KerasClassifier(build_fn=LSTM_Single_Layer, nodes = 50, epochs=20, batch_size=200, input_shape =X_train_scaled.shape[1:], dropout = 0.1, verbose=1)\n",
        "kfold = StratifiedKFold(n_splits=5, shuffle=True, random_state=42)\n",
        "results = cross_val_score(estimator, X_train, y_train[:,0], cv=kfold, scoring='accuracy')\n",
        "print(np.shape(y_train[:, 0]))\n",
        "print('Cross Validation: Accuracy')\n",
        "print(\"%.2f%% (+/- %.2f%%)\" % (results.mean(), results.std()))"
      ],
      "execution_count": 24,
      "outputs": [
        {
          "output_type": "stream",
          "text": [
            "Epoch 1/20\n",
            "100/100 [==============================] - 3s 15ms/step - loss: 0.6967 - categorical_accuracy: 0.5052\n",
            "Epoch 2/20\n",
            "100/100 [==============================] - 2s 15ms/step - loss: 0.6931 - categorical_accuracy: 0.5042\n",
            "Epoch 3/20\n",
            "100/100 [==============================] - 2s 15ms/step - loss: 0.6933 - categorical_accuracy: 0.4992\n",
            "Epoch 4/20\n",
            "100/100 [==============================] - 2s 15ms/step - loss: 0.6934 - categorical_accuracy: 0.5034\n",
            "Epoch 5/20\n",
            "100/100 [==============================] - 2s 15ms/step - loss: 0.6932 - categorical_accuracy: 0.5023\n",
            "Epoch 6/20\n",
            "100/100 [==============================] - 2s 15ms/step - loss: 0.6932 - categorical_accuracy: 0.4971\n",
            "Epoch 7/20\n",
            "100/100 [==============================] - 2s 15ms/step - loss: 0.6931 - categorical_accuracy: 0.5026\n",
            "Epoch 8/20\n",
            "100/100 [==============================] - 2s 15ms/step - loss: 0.6934 - categorical_accuracy: 0.4985\n",
            "Epoch 9/20\n",
            "100/100 [==============================] - 2s 15ms/step - loss: 0.6930 - categorical_accuracy: 0.5040\n",
            "Epoch 10/20\n",
            "100/100 [==============================] - 2s 15ms/step - loss: 0.6939 - categorical_accuracy: 0.5045\n",
            "Epoch 11/20\n",
            "100/100 [==============================] - 2s 15ms/step - loss: 0.6937 - categorical_accuracy: 0.5004\n",
            "Epoch 12/20\n",
            "100/100 [==============================] - 2s 16ms/step - loss: 0.6931 - categorical_accuracy: 0.5056\n",
            "Epoch 13/20\n",
            "100/100 [==============================] - 2s 15ms/step - loss: 0.6932 - categorical_accuracy: 0.4995\n",
            "Epoch 14/20\n",
            "100/100 [==============================] - 2s 15ms/step - loss: 0.6930 - categorical_accuracy: 0.5012\n",
            "Epoch 15/20\n",
            "100/100 [==============================] - 1s 15ms/step - loss: 0.6930 - categorical_accuracy: 0.5043\n",
            "Epoch 16/20\n",
            "100/100 [==============================] - 1s 15ms/step - loss: 0.6929 - categorical_accuracy: 0.4994\n",
            "Epoch 17/20\n",
            "100/100 [==============================] - 1s 15ms/step - loss: 0.6929 - categorical_accuracy: 0.5043\n",
            "Epoch 18/20\n",
            "100/100 [==============================] - 1s 15ms/step - loss: 0.6930 - categorical_accuracy: 0.5073\n",
            "Epoch 19/20\n",
            "100/100 [==============================] - 1s 15ms/step - loss: 0.6929 - categorical_accuracy: 0.5079\n",
            "Epoch 20/20\n",
            "100/100 [==============================] - 1s 15ms/step - loss: 0.6931 - categorical_accuracy: 0.5035\n",
            "Epoch 1/20\n",
            "100/100 [==============================] - 3s 15ms/step - loss: 0.6941 - categorical_accuracy: 0.5108\n",
            "Epoch 2/20\n",
            "100/100 [==============================] - 1s 15ms/step - loss: 0.6936 - categorical_accuracy: 0.5059\n",
            "Epoch 3/20\n",
            "100/100 [==============================] - 1s 15ms/step - loss: 0.6932 - categorical_accuracy: 0.5082\n",
            "Epoch 4/20\n",
            "100/100 [==============================] - 2s 15ms/step - loss: 0.6932 - categorical_accuracy: 0.5039\n",
            "Epoch 5/20\n",
            "100/100 [==============================] - 2s 15ms/step - loss: 0.6936 - categorical_accuracy: 0.5054\n",
            "Epoch 6/20\n",
            "100/100 [==============================] - 1s 15ms/step - loss: 0.6932 - categorical_accuracy: 0.5067\n",
            "Epoch 7/20\n",
            "100/100 [==============================] - 1s 15ms/step - loss: 0.6931 - categorical_accuracy: 0.5042\n",
            "Epoch 8/20\n",
            "100/100 [==============================] - 1s 15ms/step - loss: 0.6933 - categorical_accuracy: 0.5023\n",
            "Epoch 9/20\n",
            "100/100 [==============================] - 2s 15ms/step - loss: 0.6931 - categorical_accuracy: 0.5004\n",
            "Epoch 10/20\n",
            "100/100 [==============================] - 1s 15ms/step - loss: 0.6933 - categorical_accuracy: 0.5029\n",
            "Epoch 11/20\n",
            "100/100 [==============================] - 1s 15ms/step - loss: 0.6932 - categorical_accuracy: 0.5019\n",
            "Epoch 12/20\n",
            "100/100 [==============================] - 1s 15ms/step - loss: 0.6932 - categorical_accuracy: 0.5005\n",
            "Epoch 13/20\n",
            "100/100 [==============================] - 1s 15ms/step - loss: 0.6930 - categorical_accuracy: 0.5033\n",
            "Epoch 14/20\n",
            "100/100 [==============================] - 1s 15ms/step - loss: 0.6931 - categorical_accuracy: 0.5037\n",
            "Epoch 15/20\n",
            "100/100 [==============================] - 1s 15ms/step - loss: 0.6932 - categorical_accuracy: 0.5000\n",
            "Epoch 16/20\n",
            "100/100 [==============================] - 1s 15ms/step - loss: 0.6932 - categorical_accuracy: 0.4970\n",
            "Epoch 17/20\n",
            "100/100 [==============================] - 1s 15ms/step - loss: 0.6931 - categorical_accuracy: 0.5040\n",
            "Epoch 18/20\n",
            "100/100 [==============================] - 1s 15ms/step - loss: 0.6931 - categorical_accuracy: 0.5038\n",
            "Epoch 19/20\n",
            "100/100 [==============================] - 1s 15ms/step - loss: 0.6931 - categorical_accuracy: 0.5073\n",
            "Epoch 20/20\n",
            "100/100 [==============================] - 1s 15ms/step - loss: 0.6932 - categorical_accuracy: 0.5016\n",
            "Epoch 1/20\n",
            "100/100 [==============================] - 4s 15ms/step - loss: 0.6955 - categorical_accuracy: 0.5078\n",
            "Epoch 2/20\n",
            "100/100 [==============================] - 1s 15ms/step - loss: 0.6930 - categorical_accuracy: 0.5100\n",
            "Epoch 3/20\n",
            "100/100 [==============================] - 1s 15ms/step - loss: 0.6933 - categorical_accuracy: 0.5015\n",
            "Epoch 4/20\n",
            "100/100 [==============================] - 2s 15ms/step - loss: 0.6933 - categorical_accuracy: 0.5048\n",
            "Epoch 5/20\n",
            "100/100 [==============================] - 1s 15ms/step - loss: 0.6934 - categorical_accuracy: 0.5079\n",
            "Epoch 6/20\n",
            "100/100 [==============================] - 2s 15ms/step - loss: 0.6930 - categorical_accuracy: 0.5069\n",
            "Epoch 7/20\n",
            "100/100 [==============================] - 2s 15ms/step - loss: 0.6934 - categorical_accuracy: 0.5032\n",
            "Epoch 8/20\n",
            "100/100 [==============================] - 2s 16ms/step - loss: 0.6933 - categorical_accuracy: 0.5014\n",
            "Epoch 9/20\n",
            "100/100 [==============================] - 2s 15ms/step - loss: 0.6930 - categorical_accuracy: 0.5054\n",
            "Epoch 10/20\n",
            "100/100 [==============================] - 2s 17ms/step - loss: 0.6934 - categorical_accuracy: 0.5084\n",
            "Epoch 11/20\n",
            "100/100 [==============================] - 2s 15ms/step - loss: 0.6933 - categorical_accuracy: 0.5062\n",
            "Epoch 12/20\n",
            "100/100 [==============================] - 1s 15ms/step - loss: 0.6930 - categorical_accuracy: 0.5053\n",
            "Epoch 13/20\n",
            "100/100 [==============================] - 1s 15ms/step - loss: 0.6931 - categorical_accuracy: 0.5047\n",
            "Epoch 14/20\n",
            "100/100 [==============================] - 2s 15ms/step - loss: 0.6930 - categorical_accuracy: 0.5047\n",
            "Epoch 15/20\n",
            "100/100 [==============================] - 2s 15ms/step - loss: 0.6929 - categorical_accuracy: 0.5091\n",
            "Epoch 16/20\n",
            "100/100 [==============================] - 2s 15ms/step - loss: 0.6931 - categorical_accuracy: 0.5017\n",
            "Epoch 17/20\n",
            "100/100 [==============================] - 2s 15ms/step - loss: 0.6930 - categorical_accuracy: 0.5082\n",
            "Epoch 18/20\n",
            "100/100 [==============================] - 2s 15ms/step - loss: 0.6931 - categorical_accuracy: 0.5057\n",
            "Epoch 19/20\n",
            "100/100 [==============================] - 2s 15ms/step - loss: 0.6931 - categorical_accuracy: 0.5030\n",
            "Epoch 20/20\n",
            "100/100 [==============================] - 2s 15ms/step - loss: 0.6932 - categorical_accuracy: 0.5044\n",
            "Epoch 1/20\n",
            "100/100 [==============================] - 3s 15ms/step - loss: 0.6952 - categorical_accuracy: 0.5017\n",
            "Epoch 2/20\n",
            "100/100 [==============================] - 1s 15ms/step - loss: 0.6931 - categorical_accuracy: 0.5040\n",
            "Epoch 3/20\n",
            "100/100 [==============================] - 2s 16ms/step - loss: 0.6937 - categorical_accuracy: 0.5018\n",
            "Epoch 4/20\n",
            "100/100 [==============================] - 2s 16ms/step - loss: 0.6929 - categorical_accuracy: 0.5098\n",
            "Epoch 5/20\n",
            "100/100 [==============================] - 1s 15ms/step - loss: 0.6932 - categorical_accuracy: 0.5041\n",
            "Epoch 6/20\n",
            "100/100 [==============================] - 1s 15ms/step - loss: 0.6931 - categorical_accuracy: 0.5022\n",
            "Epoch 7/20\n",
            "100/100 [==============================] - 1s 15ms/step - loss: 0.6933 - categorical_accuracy: 0.5009\n",
            "Epoch 8/20\n",
            "100/100 [==============================] - 2s 15ms/step - loss: 0.6932 - categorical_accuracy: 0.5048\n",
            "Epoch 9/20\n",
            "100/100 [==============================] - 2s 15ms/step - loss: 0.6932 - categorical_accuracy: 0.5006\n",
            "Epoch 10/20\n",
            "100/100 [==============================] - 2s 15ms/step - loss: 0.6931 - categorical_accuracy: 0.4970\n",
            "Epoch 11/20\n",
            "100/100 [==============================] - 2s 15ms/step - loss: 0.6931 - categorical_accuracy: 0.5067\n",
            "Epoch 12/20\n",
            "100/100 [==============================] - 2s 15ms/step - loss: 0.6932 - categorical_accuracy: 0.5010\n",
            "Epoch 13/20\n",
            "100/100 [==============================] - 2s 15ms/step - loss: 0.6931 - categorical_accuracy: 0.5012\n",
            "Epoch 14/20\n",
            "100/100 [==============================] - 2s 15ms/step - loss: 0.6933 - categorical_accuracy: 0.5065\n",
            "Epoch 15/20\n",
            "100/100 [==============================] - 2s 15ms/step - loss: 0.6931 - categorical_accuracy: 0.5018\n",
            "Epoch 16/20\n",
            "100/100 [==============================] - 2s 15ms/step - loss: 0.6932 - categorical_accuracy: 0.5020\n",
            "Epoch 17/20\n",
            "100/100 [==============================] - 2s 15ms/step - loss: 0.6930 - categorical_accuracy: 0.5018\n",
            "Epoch 18/20\n",
            "100/100 [==============================] - 2s 16ms/step - loss: 0.6931 - categorical_accuracy: 0.5049\n",
            "Epoch 19/20\n",
            "100/100 [==============================] - 2s 15ms/step - loss: 0.6929 - categorical_accuracy: 0.5029\n",
            "Epoch 20/20\n",
            "100/100 [==============================] - 2s 15ms/step - loss: 0.6930 - categorical_accuracy: 0.5049\n",
            "Epoch 1/20\n",
            "100/100 [==============================] - 3s 15ms/step - loss: 0.6971 - categorical_accuracy: 0.5038\n",
            "Epoch 2/20\n",
            "100/100 [==============================] - 1s 15ms/step - loss: 0.6933 - categorical_accuracy: 0.5017\n",
            "Epoch 3/20\n",
            "100/100 [==============================] - 2s 15ms/step - loss: 0.6933 - categorical_accuracy: 0.5021\n",
            "Epoch 4/20\n",
            "100/100 [==============================] - 1s 15ms/step - loss: 0.6930 - categorical_accuracy: 0.5099\n",
            "Epoch 5/20\n",
            "100/100 [==============================] - 2s 15ms/step - loss: 0.6931 - categorical_accuracy: 0.5051\n",
            "Epoch 6/20\n",
            "100/100 [==============================] - 1s 15ms/step - loss: 0.6931 - categorical_accuracy: 0.5037\n",
            "Epoch 7/20\n",
            "100/100 [==============================] - 2s 15ms/step - loss: 0.6930 - categorical_accuracy: 0.5027\n",
            "Epoch 8/20\n",
            "100/100 [==============================] - 2s 15ms/step - loss: 0.6931 - categorical_accuracy: 0.5028\n",
            "Epoch 9/20\n",
            "100/100 [==============================] - 1s 15ms/step - loss: 0.6932 - categorical_accuracy: 0.5040\n",
            "Epoch 10/20\n",
            "100/100 [==============================] - 1s 15ms/step - loss: 0.6931 - categorical_accuracy: 0.5079\n",
            "Epoch 11/20\n",
            "100/100 [==============================] - 1s 15ms/step - loss: 0.6933 - categorical_accuracy: 0.4999\n",
            "Epoch 12/20\n",
            "100/100 [==============================] - 1s 15ms/step - loss: 0.6930 - categorical_accuracy: 0.5066\n",
            "Epoch 13/20\n",
            "100/100 [==============================] - 2s 15ms/step - loss: 0.6932 - categorical_accuracy: 0.5027\n",
            "Epoch 14/20\n",
            "100/100 [==============================] - 2s 15ms/step - loss: 0.6930 - categorical_accuracy: 0.5049\n",
            "Epoch 15/20\n",
            "100/100 [==============================] - 2s 15ms/step - loss: 0.6931 - categorical_accuracy: 0.5053\n",
            "Epoch 16/20\n",
            "100/100 [==============================] - 2s 15ms/step - loss: 0.6931 - categorical_accuracy: 0.5044\n",
            "Epoch 17/20\n",
            "100/100 [==============================] - 1s 15ms/step - loss: 0.6932 - categorical_accuracy: 0.5020\n",
            "Epoch 18/20\n",
            "100/100 [==============================] - 1s 15ms/step - loss: 0.6929 - categorical_accuracy: 0.5010\n",
            "Epoch 19/20\n",
            "100/100 [==============================] - 2s 15ms/step - loss: 0.6929 - categorical_accuracy: 0.5001\n",
            "Epoch 20/20\n",
            "100/100 [==============================] - 1s 15ms/step - loss: 0.6932 - categorical_accuracy: 0.5030\n",
            "(24756,)\n",
            "Cross Validation: Accuracy\n",
            "0.50% (+/- 0.01%)\n"
          ],
          "name": "stdout"
        }
      ]
    },
    {
      "cell_type": "markdown",
      "metadata": {
        "id": "3xBu6K-y3GKi"
      },
      "source": [
        "### **Parameter tuning**"
      ]
    },
    {
      "cell_type": "code",
      "metadata": {
        "id": "sot0uHR-ZaRw",
        "colab": {
          "base_uri": "https://localhost:8080/"
        },
        "outputId": "a2c4e12e-b0f2-4bbe-8dff-cd54552f475b"
      },
      "source": [
        "from sklearn.model_selection import GridSearchCV\n",
        "from keras.wrappers.scikit_learn import KerasClassifier\n",
        "\n",
        "# grid search epochs, batch size and optimizer\n",
        "epochs = [5]\n",
        "n_hidden_neurons = [10, 50]\n",
        "batch_size = [128, 256]\n",
        "dropout = [0, 0.1]\n",
        "input_shape = [X_train_scaled.shape[1:]]\n",
        "param_grid = dict( nodes = n_hidden_neurons, batch_size = batch_size, epochs = epochs, input_shape =input_shape, dropout= dropout )\n",
        "estimator = KerasClassifier(build_fn=LSTM_Single_Layer,  verbose=1)\n",
        "grid = GridSearchCV(estimator=estimator, param_grid=param_grid, scoring = 'accuracy', cv =3)\n",
        "grid_result = grid.fit(X_train_scaled, y_train[:,0])\n",
        "\n",
        "# summarize results\n",
        "print(\"Best: %f using %s\" % (grid_result.best_score_, grid_result.best_params_))\n",
        "means = grid_result.cv_results_['mean_test_score']\n",
        "stds = grid_result.cv_results_['std_test_score']\n",
        "params = grid_result.cv_results_['params']\n",
        "for mean, stdev, param in zip(means, stds, params):\n",
        "\tprint(\"%f (%f) with: %r\" % (mean, stdev, param))"
      ],
      "execution_count": 25,
      "outputs": [
        {
          "output_type": "stream",
          "text": [
            "Epoch 1/5\n",
            "129/129 [==============================] - 3s 12ms/step - loss: 0.6893 - categorical_accuracy: 0.5348\n",
            "Epoch 2/5\n",
            "129/129 [==============================] - 1s 11ms/step - loss: 0.6822 - categorical_accuracy: 0.5623\n",
            "Epoch 3/5\n",
            "129/129 [==============================] - 1s 11ms/step - loss: 0.6767 - categorical_accuracy: 0.5773\n",
            "Epoch 4/5\n",
            "129/129 [==============================] - 1s 11ms/step - loss: 0.6708 - categorical_accuracy: 0.5855\n",
            "Epoch 5/5\n",
            "129/129 [==============================] - 1s 11ms/step - loss: 0.6636 - categorical_accuracy: 0.5969\n",
            "Epoch 1/5\n",
            "129/129 [==============================] - 3s 11ms/step - loss: 0.6920 - categorical_accuracy: 0.5195\n",
            "Epoch 2/5\n",
            "129/129 [==============================] - 1s 11ms/step - loss: 0.6852 - categorical_accuracy: 0.5442\n",
            "Epoch 3/5\n",
            "129/129 [==============================] - 1s 11ms/step - loss: 0.6833 - categorical_accuracy: 0.5543\n",
            "Epoch 4/5\n",
            "129/129 [==============================] - 1s 11ms/step - loss: 0.6807 - categorical_accuracy: 0.5533\n",
            "Epoch 5/5\n",
            "129/129 [==============================] - 1s 11ms/step - loss: 0.6784 - categorical_accuracy: 0.5627\n",
            "Epoch 1/5\n",
            "129/129 [==============================] - 3s 11ms/step - loss: 0.6935 - categorical_accuracy: 0.5182\n",
            "Epoch 2/5\n",
            "129/129 [==============================] - 1s 11ms/step - loss: 0.6861 - categorical_accuracy: 0.5496\n",
            "Epoch 3/5\n",
            "129/129 [==============================] - 1s 11ms/step - loss: 0.6766 - categorical_accuracy: 0.5622\n",
            "Epoch 4/5\n",
            "129/129 [==============================] - 1s 11ms/step - loss: 0.6691 - categorical_accuracy: 0.5693\n",
            "Epoch 5/5\n",
            "129/129 [==============================] - 1s 11ms/step - loss: 0.6635 - categorical_accuracy: 0.5800\n",
            "Epoch 1/5\n",
            "129/129 [==============================] - 4s 14ms/step - loss: 0.6908 - categorical_accuracy: 0.5280\n",
            "Epoch 2/5\n",
            "129/129 [==============================] - 2s 14ms/step - loss: 0.6826 - categorical_accuracy: 0.5601\n",
            "Epoch 3/5\n",
            "129/129 [==============================] - 2s 14ms/step - loss: 0.6748 - categorical_accuracy: 0.5808\n",
            "Epoch 4/5\n",
            "129/129 [==============================] - 2s 14ms/step - loss: 0.6638 - categorical_accuracy: 0.5988\n",
            "Epoch 5/5\n",
            "129/129 [==============================] - 2s 14ms/step - loss: 0.6501 - categorical_accuracy: 0.6093\n",
            "Epoch 1/5\n",
            "129/129 [==============================] - 4s 14ms/step - loss: 0.6948 - categorical_accuracy: 0.5048\n",
            "Epoch 2/5\n",
            "129/129 [==============================] - 2s 14ms/step - loss: 0.6933 - categorical_accuracy: 0.5017\n",
            "Epoch 3/5\n",
            "129/129 [==============================] - 2s 14ms/step - loss: 0.6929 - categorical_accuracy: 0.5056\n",
            "Epoch 4/5\n",
            "129/129 [==============================] - 2s 14ms/step - loss: 0.6923 - categorical_accuracy: 0.5093\n",
            "Epoch 5/5\n",
            "129/129 [==============================] - 2s 14ms/step - loss: 0.6895 - categorical_accuracy: 0.5307\n",
            "Epoch 1/5\n",
            "129/129 [==============================] - 4s 14ms/step - loss: 0.6938 - categorical_accuracy: 0.5253\n",
            "Epoch 2/5\n",
            "129/129 [==============================] - 2s 14ms/step - loss: 0.6883 - categorical_accuracy: 0.5378\n",
            "Epoch 3/5\n",
            "129/129 [==============================] - 2s 14ms/step - loss: 0.6822 - categorical_accuracy: 0.5550\n",
            "Epoch 4/5\n",
            "129/129 [==============================] - 2s 14ms/step - loss: 0.6815 - categorical_accuracy: 0.5521\n",
            "Epoch 5/5\n",
            "129/129 [==============================] - 2s 14ms/step - loss: 0.6723 - categorical_accuracy: 0.5758\n",
            "Epoch 1/5\n",
            "129/129 [==============================] - 3s 11ms/step - loss: 0.6927 - categorical_accuracy: 0.5246\n",
            "Epoch 2/5\n",
            "129/129 [==============================] - 1s 12ms/step - loss: 0.6878 - categorical_accuracy: 0.5379\n",
            "Epoch 3/5\n",
            "129/129 [==============================] - 1s 11ms/step - loss: 0.6842 - categorical_accuracy: 0.5548\n",
            "Epoch 4/5\n",
            "129/129 [==============================] - 1s 12ms/step - loss: 0.6783 - categorical_accuracy: 0.5687\n",
            "Epoch 5/5\n",
            "129/129 [==============================] - 1s 11ms/step - loss: 0.6713 - categorical_accuracy: 0.5866\n",
            "Epoch 1/5\n",
            "129/129 [==============================] - 3s 11ms/step - loss: 0.6914 - categorical_accuracy: 0.5267\n",
            "Epoch 2/5\n",
            "129/129 [==============================] - 1s 11ms/step - loss: 0.6839 - categorical_accuracy: 0.5565\n",
            "Epoch 3/5\n",
            "129/129 [==============================] - 1s 12ms/step - loss: 0.6828 - categorical_accuracy: 0.5619\n",
            "Epoch 4/5\n",
            "129/129 [==============================] - 1s 11ms/step - loss: 0.6801 - categorical_accuracy: 0.5676\n",
            "Epoch 5/5\n",
            "129/129 [==============================] - 1s 11ms/step - loss: 0.6757 - categorical_accuracy: 0.5757\n",
            "Epoch 1/5\n",
            "129/129 [==============================] - 3s 12ms/step - loss: 0.6931 - categorical_accuracy: 0.5201\n",
            "Epoch 2/5\n",
            "129/129 [==============================] - 1s 11ms/step - loss: 0.6864 - categorical_accuracy: 0.5423\n",
            "Epoch 3/5\n",
            "129/129 [==============================] - 1s 11ms/step - loss: 0.6808 - categorical_accuracy: 0.5551\n",
            "Epoch 4/5\n",
            "129/129 [==============================] - 1s 11ms/step - loss: 0.6765 - categorical_accuracy: 0.5583\n",
            "Epoch 5/5\n",
            "129/129 [==============================] - 1s 11ms/step - loss: 0.6689 - categorical_accuracy: 0.5702\n",
            "Epoch 1/5\n",
            "129/129 [==============================] - 4s 14ms/step - loss: 0.6918 - categorical_accuracy: 0.5350\n",
            "Epoch 2/5\n",
            "129/129 [==============================] - 2s 14ms/step - loss: 0.6800 - categorical_accuracy: 0.5650\n",
            "Epoch 3/5\n",
            "129/129 [==============================] - 2s 14ms/step - loss: 0.6754 - categorical_accuracy: 0.5786\n",
            "Epoch 4/5\n",
            "129/129 [==============================] - 2s 14ms/step - loss: 0.6673 - categorical_accuracy: 0.5897\n",
            "Epoch 5/5\n",
            "129/129 [==============================] - 2s 14ms/step - loss: 0.6558 - categorical_accuracy: 0.6026\n",
            "Epoch 1/5\n",
            "129/129 [==============================] - 4s 14ms/step - loss: 0.6954 - categorical_accuracy: 0.5128\n",
            "Epoch 2/5\n",
            "129/129 [==============================] - 2s 14ms/step - loss: 0.6891 - categorical_accuracy: 0.5285\n",
            "Epoch 3/5\n",
            "129/129 [==============================] - 2s 14ms/step - loss: 0.6879 - categorical_accuracy: 0.5317\n",
            "Epoch 4/5\n",
            "129/129 [==============================] - 2s 14ms/step - loss: 0.6841 - categorical_accuracy: 0.5401\n",
            "Epoch 5/5\n",
            "129/129 [==============================] - 2s 14ms/step - loss: 0.6834 - categorical_accuracy: 0.5456\n",
            "Epoch 1/5\n",
            "129/129 [==============================] - 4s 14ms/step - loss: 0.6950 - categorical_accuracy: 0.5022\n",
            "Epoch 2/5\n",
            "129/129 [==============================] - 2s 14ms/step - loss: 0.6897 - categorical_accuracy: 0.5264\n",
            "Epoch 3/5\n",
            "129/129 [==============================] - 2s 14ms/step - loss: 0.6799 - categorical_accuracy: 0.5352\n",
            "Epoch 4/5\n",
            "129/129 [==============================] - 2s 14ms/step - loss: 0.6770 - categorical_accuracy: 0.5420\n",
            "Epoch 5/5\n",
            "129/129 [==============================] - 2s 16ms/step - loss: 0.6701 - categorical_accuracy: 0.5572\n",
            "Epoch 1/5\n",
            "65/65 [==============================] - 3s 12ms/step - loss: 0.6912 - categorical_accuracy: 0.5211\n",
            "Epoch 2/5\n",
            "65/65 [==============================] - 1s 12ms/step - loss: 0.6838 - categorical_accuracy: 0.5544\n",
            "Epoch 3/5\n",
            "65/65 [==============================] - 1s 11ms/step - loss: 0.6755 - categorical_accuracy: 0.5782\n",
            "Epoch 4/5\n",
            "65/65 [==============================] - 1s 11ms/step - loss: 0.6693 - categorical_accuracy: 0.5879\n",
            "Epoch 5/5\n",
            "65/65 [==============================] - 1s 12ms/step - loss: 0.6629 - categorical_accuracy: 0.5992\n",
            "Epoch 1/5\n",
            "65/65 [==============================] - 3s 12ms/step - loss: 0.6915 - categorical_accuracy: 0.5227\n",
            "Epoch 2/5\n",
            "65/65 [==============================] - 1s 12ms/step - loss: 0.6859 - categorical_accuracy: 0.5436\n",
            "Epoch 3/5\n",
            "65/65 [==============================] - 1s 12ms/step - loss: 0.6817 - categorical_accuracy: 0.5571\n",
            "Epoch 4/5\n",
            "65/65 [==============================] - 1s 12ms/step - loss: 0.6795 - categorical_accuracy: 0.5650\n",
            "Epoch 5/5\n",
            "65/65 [==============================] - 1s 12ms/step - loss: 0.6761 - categorical_accuracy: 0.5691\n",
            "Epoch 1/5\n",
            "65/65 [==============================] - 3s 12ms/step - loss: 0.6933 - categorical_accuracy: 0.5148\n",
            "Epoch 2/5\n",
            "65/65 [==============================] - 1s 12ms/step - loss: 0.6892 - categorical_accuracy: 0.5316\n",
            "Epoch 3/5\n",
            "65/65 [==============================] - 1s 12ms/step - loss: 0.6833 - categorical_accuracy: 0.5536\n",
            "Epoch 4/5\n",
            "65/65 [==============================] - 1s 12ms/step - loss: 0.6778 - categorical_accuracy: 0.5685\n",
            "Epoch 5/5\n",
            "65/65 [==============================] - 1s 12ms/step - loss: 0.6700 - categorical_accuracy: 0.5774\n",
            "Epoch 1/5\n",
            "65/65 [==============================] - 3s 16ms/step - loss: 0.6945 - categorical_accuracy: 0.5108\n",
            "Epoch 2/5\n",
            "65/65 [==============================] - 1s 16ms/step - loss: 0.6843 - categorical_accuracy: 0.5508\n",
            "Epoch 3/5\n",
            "65/65 [==============================] - 1s 16ms/step - loss: 0.6771 - categorical_accuracy: 0.5743\n",
            "Epoch 4/5\n",
            "65/65 [==============================] - 1s 16ms/step - loss: 0.6664 - categorical_accuracy: 0.5927\n",
            "Epoch 5/5\n",
            "65/65 [==============================] - 1s 16ms/step - loss: 0.6581 - categorical_accuracy: 0.6065\n",
            "Epoch 1/5\n",
            "65/65 [==============================] - 3s 16ms/step - loss: 0.6908 - categorical_accuracy: 0.5335\n",
            "Epoch 2/5\n",
            "65/65 [==============================] - 1s 16ms/step - loss: 0.6852 - categorical_accuracy: 0.5452\n",
            "Epoch 3/5\n",
            "65/65 [==============================] - 1s 15ms/step - loss: 0.6828 - categorical_accuracy: 0.5525\n",
            "Epoch 4/5\n",
            "65/65 [==============================] - 1s 16ms/step - loss: 0.6828 - categorical_accuracy: 0.5531\n",
            "Epoch 5/5\n",
            "65/65 [==============================] - 1s 16ms/step - loss: 0.6771 - categorical_accuracy: 0.5623\n",
            "Epoch 1/5\n",
            "65/65 [==============================] - 3s 15ms/step - loss: 0.6951 - categorical_accuracy: 0.4976\n",
            "Epoch 2/5\n",
            "65/65 [==============================] - 1s 16ms/step - loss: 0.6928 - categorical_accuracy: 0.5073\n",
            "Epoch 3/5\n",
            "65/65 [==============================] - 1s 16ms/step - loss: 0.6921 - categorical_accuracy: 0.5110\n",
            "Epoch 4/5\n",
            "65/65 [==============================] - 1s 16ms/step - loss: 0.6906 - categorical_accuracy: 0.5300\n",
            "Epoch 5/5\n",
            "65/65 [==============================] - 1s 16ms/step - loss: 0.6805 - categorical_accuracy: 0.5603\n",
            "Epoch 1/5\n",
            "65/65 [==============================] - 3s 12ms/step - loss: 0.6902 - categorical_accuracy: 0.5271\n",
            "Epoch 2/5\n",
            "65/65 [==============================] - 1s 12ms/step - loss: 0.6821 - categorical_accuracy: 0.5614\n",
            "Epoch 3/5\n",
            "65/65 [==============================] - 1s 12ms/step - loss: 0.6785 - categorical_accuracy: 0.5683\n",
            "Epoch 4/5\n",
            "65/65 [==============================] - 1s 12ms/step - loss: 0.6753 - categorical_accuracy: 0.5722\n",
            "Epoch 5/5\n",
            "65/65 [==============================] - 1s 12ms/step - loss: 0.6698 - categorical_accuracy: 0.5867\n",
            "Epoch 1/5\n",
            "65/65 [==============================] - 3s 12ms/step - loss: 0.6941 - categorical_accuracy: 0.5142\n",
            "Epoch 2/5\n",
            "65/65 [==============================] - 1s 12ms/step - loss: 0.6896 - categorical_accuracy: 0.5295\n",
            "Epoch 3/5\n",
            "65/65 [==============================] - 1s 12ms/step - loss: 0.6840 - categorical_accuracy: 0.5514\n",
            "Epoch 4/5\n",
            "65/65 [==============================] - 1s 12ms/step - loss: 0.6821 - categorical_accuracy: 0.5602\n",
            "Epoch 5/5\n",
            "65/65 [==============================] - 1s 12ms/step - loss: 0.6807 - categorical_accuracy: 0.5622\n",
            "Epoch 1/5\n",
            "65/65 [==============================] - 3s 12ms/step - loss: 0.6922 - categorical_accuracy: 0.5250\n",
            "Epoch 2/5\n",
            "65/65 [==============================] - 1s 12ms/step - loss: 0.6862 - categorical_accuracy: 0.5454\n",
            "Epoch 3/5\n",
            "65/65 [==============================] - 1s 12ms/step - loss: 0.6805 - categorical_accuracy: 0.5551\n",
            "Epoch 4/5\n",
            "65/65 [==============================] - 1s 12ms/step - loss: 0.6767 - categorical_accuracy: 0.5597\n",
            "Epoch 5/5\n",
            "65/65 [==============================] - 1s 12ms/step - loss: 0.6709 - categorical_accuracy: 0.5688\n",
            "Epoch 1/5\n",
            "65/65 [==============================] - 3s 16ms/step - loss: 0.6933 - categorical_accuracy: 0.5086\n",
            "Epoch 2/5\n",
            "65/65 [==============================] - 1s 16ms/step - loss: 0.6874 - categorical_accuracy: 0.5341\n",
            "Epoch 3/5\n",
            "65/65 [==============================] - 1s 16ms/step - loss: 0.6821 - categorical_accuracy: 0.5615\n",
            "Epoch 4/5\n",
            "65/65 [==============================] - 1s 16ms/step - loss: 0.6729 - categorical_accuracy: 0.5849\n",
            "Epoch 5/5\n",
            "65/65 [==============================] - 1s 19ms/step - loss: 0.6655 - categorical_accuracy: 0.5897\n",
            "Epoch 1/5\n",
            "65/65 [==============================] - 3s 16ms/step - loss: 0.6960 - categorical_accuracy: 0.5013\n",
            "Epoch 2/5\n",
            "65/65 [==============================] - 1s 16ms/step - loss: 0.6907 - categorical_accuracy: 0.5223\n",
            "Epoch 3/5\n",
            "65/65 [==============================] - 1s 16ms/step - loss: 0.6868 - categorical_accuracy: 0.5396\n",
            "Epoch 4/5\n",
            "65/65 [==============================] - 1s 15ms/step - loss: 0.6825 - categorical_accuracy: 0.5584\n",
            "Epoch 5/5\n",
            "65/65 [==============================] - 1s 16ms/step - loss: 0.6790 - categorical_accuracy: 0.5638\n",
            "Epoch 1/5\n",
            "65/65 [==============================] - 3s 15ms/step - loss: 0.6945 - categorical_accuracy: 0.5162\n",
            "Epoch 2/5\n",
            "65/65 [==============================] - 1s 16ms/step - loss: 0.6870 - categorical_accuracy: 0.5353\n",
            "Epoch 3/5\n",
            "65/65 [==============================] - 1s 16ms/step - loss: 0.6775 - categorical_accuracy: 0.5496\n",
            "Epoch 4/5\n",
            "65/65 [==============================] - 1s 16ms/step - loss: 0.6692 - categorical_accuracy: 0.5619\n",
            "Epoch 5/5\n",
            "65/65 [==============================] - 1s 16ms/step - loss: 0.6657 - categorical_accuracy: 0.5688\n",
            "Epoch 1/5\n",
            "97/97 [==============================] - 4s 16ms/step - loss: 0.6959 - categorical_accuracy: 0.5089\n",
            "Epoch 2/5\n",
            "97/97 [==============================] - 2s 16ms/step - loss: 0.6887 - categorical_accuracy: 0.5294\n",
            "Epoch 3/5\n",
            "97/97 [==============================] - 2s 16ms/step - loss: 0.6846 - categorical_accuracy: 0.5430\n",
            "Epoch 4/5\n",
            "97/97 [==============================] - 2s 16ms/step - loss: 0.6776 - categorical_accuracy: 0.5571\n",
            "Epoch 5/5\n",
            "97/97 [==============================] - 2s 16ms/step - loss: 0.6763 - categorical_accuracy: 0.5647\n",
            "Best: 0.545686 using {'batch_size': 256, 'dropout': 0.1, 'epochs': 5, 'input_shape': (50, 40), 'nodes': 50}\n",
            "0.515229 (0.011024) with: {'batch_size': 128, 'dropout': 0, 'epochs': 5, 'input_shape': (50, 40), 'nodes': 10}\n",
            "0.521247 (0.002474) with: {'batch_size': 128, 'dropout': 0, 'epochs': 5, 'input_shape': (50, 40), 'nodes': 50}\n",
            "0.530094 (0.019174) with: {'batch_size': 128, 'dropout': 0.1, 'epochs': 5, 'input_shape': (50, 40), 'nodes': 10}\n",
            "0.517450 (0.013071) with: {'batch_size': 128, 'dropout': 0.1, 'epochs': 5, 'input_shape': (50, 40), 'nodes': 50}\n",
            "0.535587 (0.010126) with: {'batch_size': 256, 'dropout': 0, 'epochs': 5, 'input_shape': (50, 40), 'nodes': 10}\n",
            "0.520439 (0.002079) with: {'batch_size': 256, 'dropout': 0, 'epochs': 5, 'input_shape': (50, 40), 'nodes': 50}\n",
            "0.526135 (0.016759) with: {'batch_size': 256, 'dropout': 0.1, 'epochs': 5, 'input_shape': (50, 40), 'nodes': 10}\n",
            "0.545686 (0.011919) with: {'batch_size': 256, 'dropout': 0.1, 'epochs': 5, 'input_shape': (50, 40), 'nodes': 50}\n"
          ],
          "name": "stdout"
        }
      ]
    },
    {
      "cell_type": "markdown",
      "metadata": {
        "id": "lu64IrD6nwcY"
      },
      "source": [
        "### **三层LSTM**"
      ]
    },
    {
      "cell_type": "code",
      "metadata": {
        "id": "DOGpjag_dAH4",
        "colab": {
          "base_uri": "https://localhost:8080/"
        },
        "outputId": "2eda5f25-d55a-4d5e-ccc2-c1cf18577234"
      },
      "source": [
        "def LSTM_Three_Layers(input_shape, nodes,rec_dropout,dropout):\n",
        "    \"\"\" 使用三层LSTM构建循环神经网络 \"\"\"\n",
        "    model=Sequential()\n",
        "    # 添加三层LSTM\n",
        "    model.add(LSTM(nodes, return_sequences=True, recurrent_dropout=rec_dropout, dropout=dropout, input_shape=input_shape, use_bias= True))\n",
        "    model.add(LSTM(nodes, return_sequences=True, recurrent_dropout=rec_dropout, dropout=dropout, use_bias= True))\n",
        "    model.add(LSTM(nodes, recurrent_dropout=rec_dropout, dropout=dropout, use_bias= True))\n",
        "    model.add(Dense(50, activation='relu', use_bias= True))\n",
        "    model.add(Dense(2,activation='softmax'))\n",
        "    adam = optimizers.Adam(learning_rate=0.01, beta_1=0.9, beta_2=0.999, epsilon=None, decay=0.0, amsgrad=False)\n",
        "    model.compile(loss='categorical_crossentropy', optimizer='adam',metrics=[metrics.categorical_accuracy])\n",
        "    return(model)\n",
        "  \n",
        "MultiLSTM_Model = LSTM_Three_Layers(X_train_scaled.shape[1:], 30, 0.25, 0.2)\n",
        "print(MultiLSTM_Model.summary())\n",
        "hist_MultiLSTM = MultiLSTM_Model.fit(X_train_scaled, y_train, validation_split=0.1, batch_size=2000, epochs=50, shuffle=True, verbose=1)"
      ],
      "execution_count": 26,
      "outputs": [
        {
          "output_type": "stream",
          "text": [
            "WARNING:tensorflow:Layer lstm_31 will not use cuDNN kernels since it doesn't meet the criteria. It will use a generic GPU kernel as fallback when running on GPU.\n"
          ],
          "name": "stdout"
        },
        {
          "output_type": "stream",
          "text": [
            "WARNING:tensorflow:Layer lstm_31 will not use cuDNN kernels since it doesn't meet the criteria. It will use a generic GPU kernel as fallback when running on GPU.\n"
          ],
          "name": "stderr"
        },
        {
          "output_type": "stream",
          "text": [
            "WARNING:tensorflow:Layer lstm_32 will not use cuDNN kernels since it doesn't meet the criteria. It will use a generic GPU kernel as fallback when running on GPU.\n"
          ],
          "name": "stdout"
        },
        {
          "output_type": "stream",
          "text": [
            "WARNING:tensorflow:Layer lstm_32 will not use cuDNN kernels since it doesn't meet the criteria. It will use a generic GPU kernel as fallback when running on GPU.\n"
          ],
          "name": "stderr"
        },
        {
          "output_type": "stream",
          "text": [
            "WARNING:tensorflow:Layer lstm_33 will not use cuDNN kernels since it doesn't meet the criteria. It will use a generic GPU kernel as fallback when running on GPU.\n"
          ],
          "name": "stdout"
        },
        {
          "output_type": "stream",
          "text": [
            "WARNING:tensorflow:Layer lstm_33 will not use cuDNN kernels since it doesn't meet the criteria. It will use a generic GPU kernel as fallback when running on GPU.\n"
          ],
          "name": "stderr"
        },
        {
          "output_type": "stream",
          "text": [
            "Model: \"sequential_31\"\n",
            "_________________________________________________________________\n",
            "Layer (type)                 Output Shape              Param #   \n",
            "=================================================================\n",
            "lstm_31 (LSTM)               (None, 50, 30)            8520      \n",
            "_________________________________________________________________\n",
            "lstm_32 (LSTM)               (None, 50, 30)            7320      \n",
            "_________________________________________________________________\n",
            "lstm_33 (LSTM)               (None, 30)                7320      \n",
            "_________________________________________________________________\n",
            "dense_62 (Dense)             (None, 50)                1550      \n",
            "_________________________________________________________________\n",
            "dense_63 (Dense)             (None, 2)                 102       \n",
            "=================================================================\n",
            "Total params: 24,812\n",
            "Trainable params: 24,812\n",
            "Non-trainable params: 0\n",
            "_________________________________________________________________\n",
            "None\n",
            "Epoch 1/50\n",
            "12/12 [==============================] - 21s 1s/step - loss: 0.6935 - categorical_accuracy: 0.5109 - val_loss: 0.6922 - val_categorical_accuracy: 0.5242\n",
            "Epoch 2/50\n",
            "12/12 [==============================] - 12s 1s/step - loss: 0.6923 - categorical_accuracy: 0.5192 - val_loss: 0.6903 - val_categorical_accuracy: 0.5238\n",
            "Epoch 3/50\n",
            "12/12 [==============================] - 12s 1s/step - loss: 0.6905 - categorical_accuracy: 0.5276 - val_loss: 0.6909 - val_categorical_accuracy: 0.5129\n",
            "Epoch 4/50\n",
            "12/12 [==============================] - 12s 1s/step - loss: 0.6895 - categorical_accuracy: 0.5336 - val_loss: 0.6836 - val_categorical_accuracy: 0.5634\n",
            "Epoch 5/50\n",
            "12/12 [==============================] - 12s 1s/step - loss: 0.6883 - categorical_accuracy: 0.5367 - val_loss: 0.6881 - val_categorical_accuracy: 0.5416\n",
            "Epoch 6/50\n",
            "12/12 [==============================] - 12s 999ms/step - loss: 0.6873 - categorical_accuracy: 0.5422 - val_loss: 0.6839 - val_categorical_accuracy: 0.5537\n",
            "Epoch 7/50\n",
            "12/12 [==============================] - 13s 1s/step - loss: 0.6867 - categorical_accuracy: 0.5379 - val_loss: 0.6859 - val_categorical_accuracy: 0.5513\n",
            "Epoch 8/50\n",
            "12/12 [==============================] - 13s 1s/step - loss: 0.6865 - categorical_accuracy: 0.5412 - val_loss: 0.6828 - val_categorical_accuracy: 0.5610\n",
            "Epoch 9/50\n",
            "12/12 [==============================] - 12s 1s/step - loss: 0.6862 - categorical_accuracy: 0.5437 - val_loss: 0.7033 - val_categorical_accuracy: 0.5267\n",
            "Epoch 10/50\n",
            "12/12 [==============================] - 12s 1s/step - loss: 0.6850 - categorical_accuracy: 0.5496 - val_loss: 0.6818 - val_categorical_accuracy: 0.5622\n",
            "Epoch 11/50\n",
            "12/12 [==============================] - 12s 1s/step - loss: 0.6837 - categorical_accuracy: 0.5549 - val_loss: 0.6936 - val_categorical_accuracy: 0.5448\n",
            "Epoch 12/50\n",
            "12/12 [==============================] - 12s 995ms/step - loss: 0.6826 - categorical_accuracy: 0.5535 - val_loss: 0.6867 - val_categorical_accuracy: 0.5574\n",
            "Epoch 13/50\n",
            "12/12 [==============================] - 12s 986ms/step - loss: 0.6830 - categorical_accuracy: 0.5576 - val_loss: 0.6832 - val_categorical_accuracy: 0.5666\n",
            "Epoch 14/50\n",
            "12/12 [==============================] - 12s 990ms/step - loss: 0.6810 - categorical_accuracy: 0.5594 - val_loss: 0.6922 - val_categorical_accuracy: 0.5513\n",
            "Epoch 15/50\n",
            "12/12 [==============================] - 12s 988ms/step - loss: 0.6815 - categorical_accuracy: 0.5548 - val_loss: 0.6803 - val_categorical_accuracy: 0.5723\n",
            "Epoch 16/50\n",
            "12/12 [==============================] - 12s 987ms/step - loss: 0.6807 - categorical_accuracy: 0.5562 - val_loss: 0.6834 - val_categorical_accuracy: 0.5699\n",
            "Epoch 17/50\n",
            "12/12 [==============================] - 12s 998ms/step - loss: 0.6790 - categorical_accuracy: 0.5674 - val_loss: 0.6903 - val_categorical_accuracy: 0.5529\n",
            "Epoch 18/50\n",
            "12/12 [==============================] - 12s 1s/step - loss: 0.6791 - categorical_accuracy: 0.5609 - val_loss: 0.6831 - val_categorical_accuracy: 0.5626\n",
            "Epoch 19/50\n",
            "12/12 [==============================] - 12s 1s/step - loss: 0.6786 - categorical_accuracy: 0.5611 - val_loss: 0.6803 - val_categorical_accuracy: 0.5739\n",
            "Epoch 20/50\n",
            "12/12 [==============================] - 13s 1s/step - loss: 0.6777 - categorical_accuracy: 0.5666 - val_loss: 0.6792 - val_categorical_accuracy: 0.5804\n",
            "Epoch 21/50\n",
            "12/12 [==============================] - 12s 1s/step - loss: 0.6771 - categorical_accuracy: 0.5663 - val_loss: 0.6786 - val_categorical_accuracy: 0.5784\n",
            "Epoch 22/50\n",
            "12/12 [==============================] - 13s 1s/step - loss: 0.6751 - categorical_accuracy: 0.5726 - val_loss: 0.6793 - val_categorical_accuracy: 0.5735\n",
            "Epoch 23/50\n",
            "12/12 [==============================] - 12s 1s/step - loss: 0.6752 - categorical_accuracy: 0.5690 - val_loss: 0.6779 - val_categorical_accuracy: 0.5836\n",
            "Epoch 24/50\n",
            "12/12 [==============================] - 12s 1s/step - loss: 0.6735 - categorical_accuracy: 0.5771 - val_loss: 0.6891 - val_categorical_accuracy: 0.5501\n",
            "Epoch 25/50\n",
            "12/12 [==============================] - 12s 1s/step - loss: 0.6739 - categorical_accuracy: 0.5714 - val_loss: 0.6888 - val_categorical_accuracy: 0.5533\n",
            "Epoch 26/50\n",
            "12/12 [==============================] - 12s 1s/step - loss: 0.6730 - categorical_accuracy: 0.5772 - val_loss: 0.6897 - val_categorical_accuracy: 0.5501\n",
            "Epoch 27/50\n",
            "12/12 [==============================] - 12s 1s/step - loss: 0.6715 - categorical_accuracy: 0.5785 - val_loss: 0.6950 - val_categorical_accuracy: 0.5521\n",
            "Epoch 28/50\n",
            "12/12 [==============================] - 12s 1s/step - loss: 0.6730 - categorical_accuracy: 0.5727 - val_loss: 0.7037 - val_categorical_accuracy: 0.5250\n",
            "Epoch 29/50\n",
            "12/12 [==============================] - 12s 1s/step - loss: 0.6707 - categorical_accuracy: 0.5825 - val_loss: 0.6928 - val_categorical_accuracy: 0.5638\n",
            "Epoch 30/50\n",
            "12/12 [==============================] - 12s 1s/step - loss: 0.6694 - categorical_accuracy: 0.5826 - val_loss: 0.6907 - val_categorical_accuracy: 0.5683\n",
            "Epoch 31/50\n",
            "12/12 [==============================] - 13s 1s/step - loss: 0.6691 - categorical_accuracy: 0.5837 - val_loss: 0.7014 - val_categorical_accuracy: 0.5432\n",
            "Epoch 32/50\n",
            "12/12 [==============================] - 12s 1s/step - loss: 0.6694 - categorical_accuracy: 0.5799 - val_loss: 0.6923 - val_categorical_accuracy: 0.5448\n",
            "Epoch 33/50\n",
            "12/12 [==============================] - 12s 1s/step - loss: 0.6706 - categorical_accuracy: 0.5785 - val_loss: 0.6900 - val_categorical_accuracy: 0.5598\n",
            "Epoch 34/50\n",
            "12/12 [==============================] - 12s 1s/step - loss: 0.6671 - categorical_accuracy: 0.5845 - val_loss: 0.6978 - val_categorical_accuracy: 0.5565\n",
            "Epoch 35/50\n",
            "12/12 [==============================] - 12s 1s/step - loss: 0.6680 - categorical_accuracy: 0.5836 - val_loss: 0.6940 - val_categorical_accuracy: 0.5561\n",
            "Epoch 36/50\n",
            "12/12 [==============================] - 12s 1s/step - loss: 0.6672 - categorical_accuracy: 0.5825 - val_loss: 0.6954 - val_categorical_accuracy: 0.5473\n",
            "Epoch 37/50\n",
            "12/12 [==============================] - 13s 1s/step - loss: 0.6671 - categorical_accuracy: 0.5838 - val_loss: 0.6942 - val_categorical_accuracy: 0.5545\n",
            "Epoch 38/50\n",
            "12/12 [==============================] - 12s 1s/step - loss: 0.6659 - categorical_accuracy: 0.5846 - val_loss: 0.6961 - val_categorical_accuracy: 0.5622\n",
            "Epoch 39/50\n",
            "12/12 [==============================] - 12s 1s/step - loss: 0.6661 - categorical_accuracy: 0.5859 - val_loss: 0.6920 - val_categorical_accuracy: 0.5553\n",
            "Epoch 40/50\n",
            "12/12 [==============================] - 12s 1s/step - loss: 0.6650 - categorical_accuracy: 0.5858 - val_loss: 0.6952 - val_categorical_accuracy: 0.5586\n",
            "Epoch 41/50\n",
            "12/12 [==============================] - 12s 1s/step - loss: 0.6637 - categorical_accuracy: 0.5901 - val_loss: 0.6897 - val_categorical_accuracy: 0.5586\n",
            "Epoch 42/50\n",
            "12/12 [==============================] - 12s 995ms/step - loss: 0.6639 - categorical_accuracy: 0.5864 - val_loss: 0.6976 - val_categorical_accuracy: 0.5416\n",
            "Epoch 43/50\n",
            "12/12 [==============================] - 12s 1s/step - loss: 0.6640 - categorical_accuracy: 0.5886 - val_loss: 0.6949 - val_categorical_accuracy: 0.5574\n",
            "Epoch 44/50\n",
            "12/12 [==============================] - 12s 1s/step - loss: 0.6633 - categorical_accuracy: 0.5911 - val_loss: 0.6993 - val_categorical_accuracy: 0.5311\n",
            "Epoch 45/50\n",
            "12/12 [==============================] - 12s 1s/step - loss: 0.6613 - categorical_accuracy: 0.5904 - val_loss: 0.7043 - val_categorical_accuracy: 0.5420\n",
            "Epoch 46/50\n",
            "12/12 [==============================] - 12s 1s/step - loss: 0.6616 - categorical_accuracy: 0.5905 - val_loss: 0.6982 - val_categorical_accuracy: 0.5428\n",
            "Epoch 47/50\n",
            "12/12 [==============================] - 12s 1s/step - loss: 0.6616 - categorical_accuracy: 0.5922 - val_loss: 0.7040 - val_categorical_accuracy: 0.5392\n",
            "Epoch 48/50\n",
            "12/12 [==============================] - 13s 1s/step - loss: 0.6621 - categorical_accuracy: 0.5904 - val_loss: 0.6999 - val_categorical_accuracy: 0.5404\n",
            "Epoch 49/50\n",
            "12/12 [==============================] - 13s 1s/step - loss: 0.6617 - categorical_accuracy: 0.5924 - val_loss: 0.6979 - val_categorical_accuracy: 0.5311\n",
            "Epoch 50/50\n",
            "12/12 [==============================] - 12s 986ms/step - loss: 0.6597 - categorical_accuracy: 0.5951 - val_loss: 0.7071 - val_categorical_accuracy: 0.5315\n"
          ],
          "name": "stdout"
        }
      ]
    },
    {
      "cell_type": "code",
      "metadata": {
        "id": "O1Szaogsmq8e",
        "colab": {
          "base_uri": "https://localhost:8080/"
        },
        "outputId": "0853bb9c-df51-4cc6-bd59-7bf46e6d5cf4"
      },
      "source": [
        "score_MultiLSTM = MultiLSTM_Model.evaluate(X_test_scaled, y_test, verbose=1)\n",
        "print(score_MultiLSTM)"
      ],
      "execution_count": 27,
      "outputs": [
        {
          "output_type": "stream",
          "text": [
            "86/86 [==============================] - 5s 59ms/step - loss: 0.7368 - categorical_accuracy: 0.5013\n",
            "[0.7368391752243042, 0.5012722611427307]\n"
          ],
          "name": "stdout"
        }
      ]
    },
    {
      "cell_type": "code",
      "metadata": {
        "id": "m-LIYQE0Wn5v",
        "colab": {
          "base_uri": "https://localhost:8080/",
          "height": 541
        },
        "outputId": "5b589061-e78f-421f-ffc0-18761850fc50"
      },
      "source": [
        "plot_hist_loss(hist_MultiLSTM)\n",
        "plot_hist_accuracy(hist_MultiLSTM)"
      ],
      "execution_count": 28,
      "outputs": [
        {
          "output_type": "display_data",
          "data": {
            "image/png": "[encoded data removed]",
            "text/plain": [
              "<Figure size 432x288 with 1 Axes>"
            ]
          },
          "metadata": {
            "needs_background": "light"
          }
        },
        {
          "output_type": "display_data",
          "data": {
            "image/png": "[encoded data removed]",
            "text/plain": [
              "<Figure size 432x288 with 1 Axes>"
            ]
          },
          "metadata": {
            "needs_background": "light"
          }
        }
      ]
    }
  ]
}