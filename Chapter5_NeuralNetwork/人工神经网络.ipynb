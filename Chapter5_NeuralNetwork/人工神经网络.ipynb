{
  "nbformat": 4,
  "nbformat_minor": 0,
  "metadata": {
    "colab": {
      "name": "PracticeSession1_HN.ipynb",
      "version": "0.3.2",
      "provenance": [],
      "collapsed_sections": [
        "G961Oko_PenB",
        "YoldZQgkPr6-",
        "95_nhUhhP3ji",
        "nAxj3de7072f",
        "5wu5oABiQHgn",
        "1aLLvJ5WOK4x"
      ],
      "include_colab_link": true
    },
    "kernelspec": {
      "name": "python3",
      "display_name": "Python 3"
    },
    "accelerator": "GPU"
  },
  "cells": [
    {
      "cell_type": "markdown",
      "metadata": {
        "id": "view-in-github",
        "colab_type": "text"
      },
      "source": [
        "<a href=\"https://colab.research.google.com/github/deepintomlf/mlfbook/blob/master/Chapter5_NeuralNetwork/%E4%BA%BA%E5%B7%A5%E7%A5%9E%E7%BB%8F%E7%BD%91%E7%BB%9C.ipynb\" target=\"_parent\"><img src=\"https://colab.research.google.com/assets/colab-badge.svg\" alt=\"Open In Colab\"/></a>"
      ]
    },
    {
      "cell_type": "markdown",
      "metadata": {
        "id": "0rw0SZOgvciq",
        "colab_type": "text"
      },
      "source": [
        "\n",
        "# **第五章第二节 – 人工神经网络**\n",
        "这个Jupyter笔记本包含了第五章第二节的所有源代码."
      ]
    },
    {
      "cell_type": "markdown",
      "metadata": {
        "id": "iSAJ064BtXrq",
        "colab_type": "text"
      },
      "source": [
        "### Implementation"
      ]
    },
    {
      "cell_type": "markdown",
      "metadata": {
        "id": "xWL5dnZItdxU",
        "colab_type": "text"
      },
      "source": [
        "![alt text](https://docs.google.com/uc?export=download&id=1oWrlu3M05rP8GzEWU23EgTZpDiFj2Mop)\n",
        "\n",
        "\n",
        "\n",
        "*   Input layer ( $h^{0}$): $h^{0}(x) = x$.\n",
        "*  Hidden layer ($\\{h^{l}\\}_{l = 1}^{L-1}$);\n",
        "* Output layer ($h^{L}$).\n",
        "\n",
        "\\begin{eqnarray*}\n",
        "z^{l+1} &=& {\\color{blue}W^{l}} h^{l} + {\\color{blue}b^{l}},\\\\\n",
        "h^{l+1} &=& {\\color{red} \\sigma}(z^{l+1}),\n",
        "\\end{eqnarray*}\n",
        "where ${\\color{red}\\sigma}$ is an* activation function*, which is usually non-linear, e.g. the sigmoid function $\\sigma(x) = \\frac{1}{1+e^{-x}}$. The parameter set ${\\color{blue}\\theta} = (W^{l}, b^{l})_{l =1}^{L}$}.\n"
      ]
    },
    {
      "cell_type": "markdown",
      "metadata": {
        "id": "ClYeClr2vTc7",
        "colab_type": "text"
      },
      "source": [
        "###ANN Classification###\n",
        "The input $x$ is a multi-dimensional vector; \n",
        "\n",
        "The ouput $y$ is a one-hot respresenation of the class. \n",
        "\n",
        "\n",
        "The number of neurons in the output layer is the total number of classes. \n",
        "\n",
        "The $j^{th}$ neurons in the output layer represents the probability of the output(label) being class $j$.  \n",
        "\n",
        " The **cross entropy **loss function is defined as follows:\n",
        "\n",
        "\\begin{eqnarray*}\n",
        "L(\\theta \\vert \\mathcal{D}) = - \\frac{1}{N}\\sum_{i =1}^{N} \\sum_{k} \\mathbb{1}( y_{i}=\\text{ class }k) \\log(p(y_{i} =\\text{ class }k \\vert x_{i})) \n",
        "\\end{eqnarray*}\n",
        "\n",
        "Note: The cross entropy between two probability distributions $p$ and $q$ is defined as \n",
        "\\begin{eqnarray*}\n",
        "H(p, q) =- \\sum_{x} p(x)\\log(q(x)).\n",
        "\\end{eqnarray*}\n",
        "\n",
        "$L(\\theta \\vert \\mathcal{D}) $ can be reformulated as \n",
        "\n",
        "\\begin{eqnarray*}\n",
        "L(\\theta \\vert \\mathcal{D}) = - \\frac{1}{N} \\langle  y_{i}, \\log(p_{\\theta }(  \\cdot \\vert x_{i})) \\rangle \n",
        "\\end{eqnarray*}\n"
      ]
    },
    {
      "cell_type": "markdown",
      "metadata": {
        "id": "xZBRzRhF_-xI",
        "colab_type": "text"
      },
      "source": [
        "#Pipelines of Supervised Learning Algorithms# "
      ]
    },
    {
      "cell_type": "markdown",
      "metadata": {
        "id": "7E1pkUGgQHpb",
        "colab_type": "text"
      },
      "source": [
        "The piplelines of the supervised learning algorithms are summarized as follows:\n",
        "\n",
        "1.   Import Datasets;\n",
        "2.   Take a look at the dataset (Statistical Analysis/Visualization);\n",
        "3.    Pre-process the dataset to prepare for the training process (normalization/reshape data);\n",
        "4.    Train a model;\n",
        "5.    Validate a model;\n",
        "6.    Cross Validation. \n"
      ]
    },
    {
      "cell_type": "markdown",
      "metadata": {
        "id": "X-vM1QWbbRDo",
        "colab_type": "text"
      },
      "source": [
        "** We will apply the shallow neural network to the MNIST dataset as a concrete example to go through the pipelines of supervised learning algorithm.**"
      ]
    },
    {
      "cell_type": "markdown",
      "metadata": {
        "id": "rcEMqDnp3Ese",
        "colab_type": "text"
      },
      "source": [
        "Problem: Build an algorithm to identify the digit label from the handwritten image using the MNIST dataset. \n",
        "\n",
        "![alt text](http://corochann.com/wp-content/uploads/2017/02/mnist_plot.png)"
      ]
    },
    {
      "cell_type": "markdown",
      "metadata": {
        "id": "Yo03nFuXWsP2",
        "colab_type": "text"
      },
      "source": [
        "## **预处理MNIST数据集中的数据**"
      ]
    },
    {
      "cell_type": "code",
      "metadata": {
        "id": "wTvLJzzjA6aB",
        "colab_type": "code",
        "colab": {}
      },
      "source": [
        "import numpy as np\n",
        "from keras.datasets import mnist\n",
        "from keras.utils import to_categorical\n",
        "\n",
        "# 加载MNIST数据集\n",
        "from keras.datasets import mnist\n",
        "(x_mnist_train, y_mnist_train), (x_mnist_test, y_mnist_test) = mnist.load_data()\n",
        "\n",
        "# 将输入图像数据从矩阵转换为向量\n",
        "[n_samples_train, width, height] = np.shape(x_mnist_train)\n",
        "[n_samples_test, width, height] = np.shape(x_mnist_test)\n",
        "x_train = x_mnist_train.reshape([n_samples_train, width*height]).astype('float32')\n",
        "x_test = x_mnist_test.reshape([n_samples_test, width*height]).astype('float32')\n",
        "\n",
        "# 标准化输入数据\n",
        "x_train /= 255\n",
        "x_test /= 255\n",
        "\n",
        "# 将输出的类别由整数编码转换为one-hot编码\n",
        "num_classes = 10    \n",
        "y_train = to_categorical(y_mnist_train, num_classes)\n",
        "y_test = to_categorical(y_mnist_test, num_classes)"
      ],
      "execution_count": 0,
      "outputs": []
    },
    {
      "cell_type": "markdown",
      "metadata": {
        "id": "iJekBGxRXYGF",
        "colab_type": "text"
      },
      "source": [
        "## **使用浅层神经网络进行数字分类**"
      ]
    },
    {
      "cell_type": "code",
      "metadata": {
        "id": "nz0Iu3FuXd0U",
        "colab_type": "code",
        "outputId": "3074a296-230e-4546-8960-7d458f459233",
        "colab": {
          "base_uri": "https://localhost:8080/",
          "height": 3468
        }
      },
      "source": [
        "import time\n",
        "from keras.models import Sequential\n",
        "from keras.layers.core import Dense\n",
        "from keras.optimizers import SGD\n",
        "\n",
        "def shallow_NN_model(n_hidden_neurons):\n",
        "    \"\"\" 构建浅层神经网络 \"\"\"\n",
        "    start_time = time.time()\n",
        "    print('Compiling Model ... ')\n",
        "    model = Sequential()\n",
        "    # 添加RelU激活函数的隐藏层\n",
        "    model.add(Dense(n_hidden_neurons, activation='relu', input_dim=784))\n",
        "    # 添加softmax激活函数的输出层\n",
        "    model.add(Dense(10, activation = 'softmax'))\n",
        "    # 这里我们使用Keras中SGD的常用参数设置 \n",
        "    sgd = SGD(lr=0.1, decay=1e-6, momentum=0.9, nesterov=True)\n",
        "    model.compile(loss='categorical_crossentropy', optimizer=sgd, metrics=['accuracy'])\n",
        "    print('Model compield in {0} seconds'.format(time.time() - start_time))\n",
        "    return model\n",
        "\n",
        "# 创建一个模型实例\n",
        "model = shallow_NN_model(n_hidden_neurons=50)\n",
        "\n",
        "# 使用模型拟合数据集\n",
        "hist_ANN = model.fit(x_train, y_train, epochs=100, batch_size=256, validation_data=(x_test, y_test), verbose=2)"
      ],
      "execution_count": 0,
      "outputs": [
        {
          "output_type": "stream",
          "text": [
            "Compiling Model ... \n",
            "Model compield in 0.15791726112365723 seconds\n",
            "Train on 60000 samples, validate on 10000 samples\n",
            "Epoch 1/100\n",
            " - 1s - loss: 0.3559 - acc: 0.8964 - val_loss: 0.1946 - val_acc: 0.9431\n",
            "Epoch 2/100\n",
            " - 1s - loss: 0.1660 - acc: 0.9520 - val_loss: 0.1365 - val_acc: 0.9604\n",
            "Epoch 3/100\n",
            " - 1s - loss: 0.1241 - acc: 0.9639 - val_loss: 0.1276 - val_acc: 0.9602\n",
            "Epoch 4/100\n",
            " - 1s - loss: 0.1024 - acc: 0.9698 - val_loss: 0.1093 - val_acc: 0.9661\n",
            "Epoch 5/100\n",
            " - 1s - loss: 0.0880 - acc: 0.9735 - val_loss: 0.0956 - val_acc: 0.9697\n",
            "Epoch 6/100\n",
            " - 1s - loss: 0.0777 - acc: 0.9771 - val_loss: 0.1025 - val_acc: 0.9684\n",
            "Epoch 7/100\n",
            " - 1s - loss: 0.0709 - acc: 0.9790 - val_loss: 0.0977 - val_acc: 0.9708\n",
            "Epoch 8/100\n",
            " - 1s - loss: 0.0646 - acc: 0.9802 - val_loss: 0.0918 - val_acc: 0.9708\n",
            "Epoch 9/100\n",
            " - 1s - loss: 0.0592 - acc: 0.9820 - val_loss: 0.0918 - val_acc: 0.9713\n",
            "Epoch 10/100\n",
            " - 1s - loss: 0.0524 - acc: 0.9846 - val_loss: 0.0910 - val_acc: 0.9716\n",
            "Epoch 11/100\n",
            " - 1s - loss: 0.0489 - acc: 0.9850 - val_loss: 0.0976 - val_acc: 0.9698\n",
            "Epoch 12/100\n",
            " - 1s - loss: 0.0454 - acc: 0.9862 - val_loss: 0.0946 - val_acc: 0.9711\n",
            "Epoch 13/100\n",
            " - 1s - loss: 0.0410 - acc: 0.9872 - val_loss: 0.0942 - val_acc: 0.9709\n",
            "Epoch 14/100\n",
            " - 1s - loss: 0.0383 - acc: 0.9888 - val_loss: 0.0964 - val_acc: 0.9707\n",
            "Epoch 15/100\n",
            " - 1s - loss: 0.0372 - acc: 0.9883 - val_loss: 0.0961 - val_acc: 0.9719\n",
            "Epoch 16/100\n",
            " - 1s - loss: 0.0321 - acc: 0.9905 - val_loss: 0.0937 - val_acc: 0.9723\n",
            "Epoch 17/100\n",
            " - 1s - loss: 0.0308 - acc: 0.9907 - val_loss: 0.1018 - val_acc: 0.9692\n",
            "Epoch 18/100\n",
            " - 1s - loss: 0.0283 - acc: 0.9915 - val_loss: 0.1051 - val_acc: 0.9705\n",
            "Epoch 19/100\n",
            " - 1s - loss: 0.0250 - acc: 0.9928 - val_loss: 0.1025 - val_acc: 0.9701\n",
            "Epoch 20/100\n",
            " - 1s - loss: 0.0239 - acc: 0.9923 - val_loss: 0.1069 - val_acc: 0.9700\n",
            "Epoch 21/100\n",
            " - 1s - loss: 0.0213 - acc: 0.9938 - val_loss: 0.1017 - val_acc: 0.9704\n",
            "Epoch 22/100\n",
            " - 1s - loss: 0.0200 - acc: 0.9943 - val_loss: 0.1016 - val_acc: 0.9715\n",
            "Epoch 23/100\n",
            " - 1s - loss: 0.0179 - acc: 0.9949 - val_loss: 0.1110 - val_acc: 0.9705\n",
            "Epoch 24/100\n",
            " - 1s - loss: 0.0170 - acc: 0.9951 - val_loss: 0.1180 - val_acc: 0.9688\n",
            "Epoch 25/100\n",
            " - 1s - loss: 0.0155 - acc: 0.9961 - val_loss: 0.1078 - val_acc: 0.9709\n",
            "Epoch 26/100\n",
            " - 1s - loss: 0.0138 - acc: 0.9967 - val_loss: 0.1145 - val_acc: 0.9707\n",
            "Epoch 27/100\n",
            " - 1s - loss: 0.0136 - acc: 0.9963 - val_loss: 0.1148 - val_acc: 0.9729\n",
            "Epoch 28/100\n",
            " - 1s - loss: 0.0110 - acc: 0.9976 - val_loss: 0.1163 - val_acc: 0.9702\n",
            "Epoch 29/100\n",
            " - 1s - loss: 0.0103 - acc: 0.9980 - val_loss: 0.1124 - val_acc: 0.9725\n",
            "Epoch 30/100\n",
            " - 1s - loss: 0.0096 - acc: 0.9981 - val_loss: 0.1126 - val_acc: 0.9727\n",
            "Epoch 31/100\n",
            " - 1s - loss: 0.0086 - acc: 0.9985 - val_loss: 0.1151 - val_acc: 0.9716\n",
            "Epoch 32/100\n",
            " - 1s - loss: 0.0077 - acc: 0.9987 - val_loss: 0.1173 - val_acc: 0.9714\n",
            "Epoch 33/100\n",
            " - 1s - loss: 0.0068 - acc: 0.9992 - val_loss: 0.1136 - val_acc: 0.9728\n",
            "Epoch 34/100\n",
            " - 1s - loss: 0.0061 - acc: 0.9993 - val_loss: 0.1162 - val_acc: 0.9716\n",
            "Epoch 35/100\n",
            " - 1s - loss: 0.0064 - acc: 0.9993 - val_loss: 0.1153 - val_acc: 0.9722\n",
            "Epoch 36/100\n",
            " - 1s - loss: 0.0059 - acc: 0.9993 - val_loss: 0.1181 - val_acc: 0.9716\n",
            "Epoch 37/100\n",
            " - 1s - loss: 0.0055 - acc: 0.9995 - val_loss: 0.1184 - val_acc: 0.9715\n",
            "Epoch 38/100\n",
            " - 1s - loss: 0.0048 - acc: 0.9995 - val_loss: 0.1224 - val_acc: 0.9715\n",
            "Epoch 39/100\n",
            " - 1s - loss: 0.0042 - acc: 0.9997 - val_loss: 0.1230 - val_acc: 0.9719\n",
            "Epoch 40/100\n",
            " - 1s - loss: 0.0044 - acc: 0.9997 - val_loss: 0.1217 - val_acc: 0.9733\n",
            "Epoch 41/100\n",
            " - 1s - loss: 0.0038 - acc: 0.9998 - val_loss: 0.1236 - val_acc: 0.9725\n",
            "Epoch 42/100\n",
            " - 1s - loss: 0.0035 - acc: 0.9998 - val_loss: 0.1244 - val_acc: 0.9721\n",
            "Epoch 43/100\n",
            " - 1s - loss: 0.0033 - acc: 0.9999 - val_loss: 0.1238 - val_acc: 0.9722\n",
            "Epoch 44/100\n",
            " - 1s - loss: 0.0030 - acc: 0.9999 - val_loss: 0.1243 - val_acc: 0.9727\n",
            "Epoch 45/100\n",
            " - 1s - loss: 0.0028 - acc: 0.9999 - val_loss: 0.1255 - val_acc: 0.9727\n",
            "Epoch 46/100\n",
            " - 1s - loss: 0.0026 - acc: 1.0000 - val_loss: 0.1271 - val_acc: 0.9718\n",
            "Epoch 47/100\n",
            " - 1s - loss: 0.0025 - acc: 1.0000 - val_loss: 0.1278 - val_acc: 0.9722\n",
            "Epoch 48/100\n",
            " - 1s - loss: 0.0024 - acc: 1.0000 - val_loss: 0.1261 - val_acc: 0.9729\n",
            "Epoch 49/100\n",
            " - 1s - loss: 0.0024 - acc: 1.0000 - val_loss: 0.1265 - val_acc: 0.9731\n",
            "Epoch 50/100\n",
            " - 1s - loss: 0.0023 - acc: 0.9999 - val_loss: 0.1288 - val_acc: 0.9726\n",
            "Epoch 51/100\n",
            " - 1s - loss: 0.0022 - acc: 1.0000 - val_loss: 0.1279 - val_acc: 0.9726\n",
            "Epoch 52/100\n",
            " - 1s - loss: 0.0021 - acc: 1.0000 - val_loss: 0.1317 - val_acc: 0.9723\n",
            "Epoch 53/100\n",
            " - 1s - loss: 0.0020 - acc: 1.0000 - val_loss: 0.1293 - val_acc: 0.9728\n",
            "Epoch 54/100\n",
            " - 1s - loss: 0.0020 - acc: 1.0000 - val_loss: 0.1295 - val_acc: 0.9724\n",
            "Epoch 55/100\n",
            " - 1s - loss: 0.0019 - acc: 1.0000 - val_loss: 0.1335 - val_acc: 0.9722\n",
            "Epoch 56/100\n",
            " - 1s - loss: 0.0018 - acc: 1.0000 - val_loss: 0.1316 - val_acc: 0.9728\n",
            "Epoch 57/100\n",
            " - 1s - loss: 0.0018 - acc: 1.0000 - val_loss: 0.1313 - val_acc: 0.9729\n",
            "Epoch 58/100\n",
            " - 1s - loss: 0.0017 - acc: 1.0000 - val_loss: 0.1330 - val_acc: 0.9731\n",
            "Epoch 59/100\n",
            " - 1s - loss: 0.0017 - acc: 1.0000 - val_loss: 0.1328 - val_acc: 0.9727\n",
            "Epoch 60/100\n",
            " - 1s - loss: 0.0017 - acc: 1.0000 - val_loss: 0.1345 - val_acc: 0.9728\n",
            "Epoch 61/100\n",
            " - 1s - loss: 0.0016 - acc: 1.0000 - val_loss: 0.1341 - val_acc: 0.9727\n",
            "Epoch 62/100\n",
            " - 1s - loss: 0.0016 - acc: 1.0000 - val_loss: 0.1338 - val_acc: 0.9728\n",
            "Epoch 63/100\n",
            " - 1s - loss: 0.0015 - acc: 1.0000 - val_loss: 0.1350 - val_acc: 0.9727\n",
            "Epoch 64/100\n",
            " - 1s - loss: 0.0015 - acc: 1.0000 - val_loss: 0.1378 - val_acc: 0.9725\n",
            "Epoch 65/100\n",
            " - 1s - loss: 0.0015 - acc: 1.0000 - val_loss: 0.1345 - val_acc: 0.9731\n",
            "Epoch 66/100\n",
            " - 1s - loss: 0.0014 - acc: 1.0000 - val_loss: 0.1373 - val_acc: 0.9727\n",
            "Epoch 67/100\n",
            " - 1s - loss: 0.0014 - acc: 1.0000 - val_loss: 0.1363 - val_acc: 0.9726\n",
            "Epoch 68/100\n",
            " - 1s - loss: 0.0014 - acc: 1.0000 - val_loss: 0.1355 - val_acc: 0.9727\n",
            "Epoch 69/100\n",
            " - 1s - loss: 0.0014 - acc: 1.0000 - val_loss: 0.1365 - val_acc: 0.9726\n",
            "Epoch 70/100\n",
            " - 1s - loss: 0.0013 - acc: 1.0000 - val_loss: 0.1377 - val_acc: 0.9725\n",
            "Epoch 71/100\n",
            " - 1s - loss: 0.0013 - acc: 1.0000 - val_loss: 0.1372 - val_acc: 0.9728\n",
            "Epoch 72/100\n",
            " - 1s - loss: 0.0013 - acc: 1.0000 - val_loss: 0.1375 - val_acc: 0.9725\n",
            "Epoch 73/100\n",
            " - 1s - loss: 0.0013 - acc: 1.0000 - val_loss: 0.1385 - val_acc: 0.9726\n",
            "Epoch 74/100\n",
            " - 1s - loss: 0.0012 - acc: 1.0000 - val_loss: 0.1390 - val_acc: 0.9721\n",
            "Epoch 75/100\n",
            " - 1s - loss: 0.0012 - acc: 1.0000 - val_loss: 0.1389 - val_acc: 0.9725\n",
            "Epoch 76/100\n",
            " - 1s - loss: 0.0012 - acc: 1.0000 - val_loss: 0.1388 - val_acc: 0.9729\n",
            "Epoch 77/100\n",
            " - 1s - loss: 0.0012 - acc: 1.0000 - val_loss: 0.1399 - val_acc: 0.9733\n",
            "Epoch 78/100\n",
            " - 1s - loss: 0.0012 - acc: 1.0000 - val_loss: 0.1399 - val_acc: 0.9728\n",
            "Epoch 79/100\n",
            " - 1s - loss: 0.0011 - acc: 1.0000 - val_loss: 0.1407 - val_acc: 0.9731\n",
            "Epoch 80/100\n",
            " - 1s - loss: 0.0011 - acc: 1.0000 - val_loss: 0.1412 - val_acc: 0.9725\n",
            "Epoch 81/100\n",
            " - 1s - loss: 0.0011 - acc: 1.0000 - val_loss: 0.1410 - val_acc: 0.9726\n",
            "Epoch 82/100\n",
            " - 1s - loss: 0.0011 - acc: 1.0000 - val_loss: 0.1415 - val_acc: 0.9728\n",
            "Epoch 83/100\n",
            " - 1s - loss: 0.0011 - acc: 1.0000 - val_loss: 0.1413 - val_acc: 0.9732\n",
            "Epoch 84/100\n",
            " - 1s - loss: 0.0011 - acc: 1.0000 - val_loss: 0.1413 - val_acc: 0.9725\n",
            "Epoch 85/100\n",
            " - 1s - loss: 0.0010 - acc: 1.0000 - val_loss: 0.1423 - val_acc: 0.9726\n",
            "Epoch 86/100\n",
            " - 1s - loss: 0.0010 - acc: 1.0000 - val_loss: 0.1419 - val_acc: 0.9726\n",
            "Epoch 87/100\n",
            " - 1s - loss: 0.0010 - acc: 1.0000 - val_loss: 0.1425 - val_acc: 0.9728\n",
            "Epoch 88/100\n",
            " - 1s - loss: 0.0010 - acc: 1.0000 - val_loss: 0.1433 - val_acc: 0.9726\n",
            "Epoch 89/100\n",
            " - 1s - loss: 9.9840e-04 - acc: 1.0000 - val_loss: 0.1432 - val_acc: 0.9728\n",
            "Epoch 90/100\n",
            " - 1s - loss: 9.7621e-04 - acc: 1.0000 - val_loss: 0.1437 - val_acc: 0.9728\n",
            "Epoch 91/100\n",
            " - 1s - loss: 9.7731e-04 - acc: 1.0000 - val_loss: 0.1436 - val_acc: 0.9725\n",
            "Epoch 92/100\n",
            " - 1s - loss: 9.6209e-04 - acc: 1.0000 - val_loss: 0.1435 - val_acc: 0.9724\n",
            "Epoch 93/100\n",
            " - 1s - loss: 9.5205e-04 - acc: 1.0000 - val_loss: 0.1443 - val_acc: 0.9729\n",
            "Epoch 94/100\n",
            " - 1s - loss: 9.3599e-04 - acc: 1.0000 - val_loss: 0.1441 - val_acc: 0.9730\n",
            "Epoch 95/100\n",
            " - 1s - loss: 9.2773e-04 - acc: 1.0000 - val_loss: 0.1441 - val_acc: 0.9726\n",
            "Epoch 96/100\n",
            " - 1s - loss: 9.2199e-04 - acc: 1.0000 - val_loss: 0.1451 - val_acc: 0.9722\n",
            "Epoch 97/100\n",
            " - 1s - loss: 9.1426e-04 - acc: 1.0000 - val_loss: 0.1450 - val_acc: 0.9730\n",
            "Epoch 98/100\n",
            " - 1s - loss: 9.0174e-04 - acc: 1.0000 - val_loss: 0.1450 - val_acc: 0.9726\n",
            "Epoch 99/100\n",
            " - 1s - loss: 8.8823e-04 - acc: 1.0000 - val_loss: 0.1459 - val_acc: 0.9728\n",
            "Epoch 100/100\n",
            " - 1s - loss: 8.7960e-04 - acc: 1.0000 - val_loss: 0.1463 - val_acc: 0.9727\n"
          ],
          "name": "stdout"
        }
      ]
    },
    {
      "cell_type": "markdown",
      "metadata": {
        "id": "rvDDuUlHlkRR",
        "colab_type": "text"
      },
      "source": [
        "## **绘制模型训练历史**"
      ]
    },
    {
      "cell_type": "code",
      "metadata": {
        "id": "VTfxkBQslgC7",
        "colab_type": "code",
        "colab": {}
      },
      "source": [
        "import matplotlib.pyplot as plt\n",
        "\n",
        "def plot_hist_loss(hist):\n",
        "  \"\"\" 绘制模型的损失函数 \"\"\"\n",
        "  plt.figure()\n",
        "  plt.plot(hist.history['loss'], 'b', linewidth=1.5)\n",
        "  plt.plot(hist.history['val_loss'], 'r', linewidth=1.5)\n",
        "  plt.legend(['Training set','Testing set'])\n",
        "  plt.xlabel('Epochs')\n",
        "  plt.ylabel('Loss')\n",
        "\n",
        "def plot_hist_accuracy(hist):\n",
        "  \"\"\" 绘制模型的准确率 \"\"\"\n",
        "  plt.figure()\n",
        "  plt.plot(hist.history['acc'], 'b', linewidth = 1.5)\n",
        "  plt.plot(hist.history['val_acc'], 'r', linewidth = 1.5)\n",
        "  plt.legend(['Training set','Testing set'])\n",
        "  plt.xlabel('Epochs')\n",
        "  plt.ylabel('Accuracy')"
      ],
      "execution_count": 0,
      "outputs": []
    },
    {
      "cell_type": "code",
      "metadata": {
        "id": "iKKvaGxS3jYX",
        "colab_type": "code",
        "outputId": "3d91d1ea-883d-4a06-a1a4-9ce55da20a61",
        "colab": {
          "base_uri": "https://localhost:8080/",
          "height": 549
        }
      },
      "source": [
        "# 绘制模型在训练集和测试集上的损失函数和准确率\n",
        "plot_hist_loss(hist_ANN)\n",
        "plot_hist_accuracy(hist_ANN)"
      ],
      "execution_count": 0,
      "outputs": [
        {
          "output_type": "display_data",
          "data": {
            "image/png": "[encoded data removed]",
            "text/plain": [
              "<Figure size 432x288 with 1 Axes>"
            ]
          },
          "metadata": {
            "tags": []
          }
        },
        {
          "output_type": "display_data",
          "data": {
            "image/png": "[encoded data removed]",
            "text/plain": [
              "<Figure size 432x288 with 1 Axes>"
            ]
          },
          "metadata": {
            "tags": []
          }
        }
      ]
    },
    {
      "cell_type": "markdown",
      "metadata": {
        "id": "fTnx4Ke0-5wx",
        "colab_type": "text"
      },
      "source": [
        "## **Assess the performance of a fitted model**\n"
      ]
    },
    {
      "cell_type": "markdown",
      "metadata": {
        "id": "OW3ed_QJ0oNi",
        "colab_type": "text"
      },
      "source": [
        "There are various measurements of the performance of the fitted models in classification problems.\n",
        "*   Loss function and the accuracy;\n",
        "*   Confusion matrix. "
      ]
    },
    {
      "cell_type": "code",
      "metadata": {
        "id": "JfACgwxC-45m",
        "colab_type": "code",
        "outputId": "953b3071-d7ac-433c-ffb8-c9b5f3a5d076",
        "colab": {
          "base_uri": "https://localhost:8080/",
          "height": 85
        }
      },
      "source": [
        "score =  model.evaluate(x_test, y_test)\n",
        "print(model.metrics_names)\n",
        "print('Test ' + model.metrics_names[0] , score[0])\n",
        "print('Test '+ model.metrics_names[1] , score[1])"
      ],
      "execution_count": 0,
      "outputs": [
        {
          "output_type": "stream",
          "text": [
            "10000/10000 [==============================] - 0s 34us/step\n",
            "['loss', 'acc']\n",
            "Test loss 0.14626251761463036\n",
            "Test acc 0.9727\n"
          ],
          "name": "stdout"
        }
      ]
    },
    {
      "cell_type": "code",
      "metadata": {
        "id": "TVKmyfeG5_gS",
        "colab_type": "code",
        "outputId": "5bd7e2d1-7fac-4d26-f592-b86c55d572b2",
        "colab": {
          "base_uri": "https://localhost:8080/",
          "height": 51
        }
      },
      "source": [
        "from sklearn.metrics import confusion_matrix\n",
        "\n",
        "Y_test_prob_pred = model.predict(X_test)\n",
        "Y_test_class_pred = model.predict_classes(X_test)\n",
        "print(Y_test_class_pred)\n",
        "print(y_test)\n",
        "cm = confusion_matrix( y_test, Y_test_class_pred )\n",
        "labels = np.arange(10)"
      ],
      "execution_count": 0,
      "outputs": [
        {
          "output_type": "stream",
          "text": [
            "[7 2 1 ... 4 5 6]\n",
            "[7 2 1 ... 4 5 6]\n"
          ],
          "name": "stdout"
        }
      ]
    },
    {
      "cell_type": "code",
      "metadata": {
        "id": "jnmn95ei2zrD",
        "colab_type": "code",
        "outputId": "7bd6f8ab-7684-47bc-da07-d11541db1bd2",
        "colab": {
          "base_uri": "https://localhost:8080/",
          "height": 1319
        }
      },
      "source": [
        "import itertools  \n",
        "def plot_confusion_matrix(cm, classes,\n",
        "                          normalize=False,\n",
        "                          title='Confusion matrix',\n",
        "                          cmap=plt.cm.Blues):\n",
        "    \"\"\"\n",
        "    This function prints and plots the confusion matrix.\n",
        "    Normalization can be applied by setting `normalize=True`.\n",
        "    \"\"\"\n",
        "    if normalize:\n",
        "        cm = cm.astype('float') / cm.sum(axis=1)[:, np.newaxis]\n",
        "        print(\"Normalized confusion matrix\")\n",
        "    else:\n",
        "        print('Confusion matrix, without normalization')\n",
        "\n",
        "    print(cm)\n",
        "\n",
        "    plt.imshow(cm, interpolation='nearest', cmap=cmap)\n",
        "    plt.title(title)\n",
        "    plt.colorbar()\n",
        "    tick_marks = np.arange(len(classes))\n",
        "    plt.xticks(tick_marks, classes, rotation=45)\n",
        "    plt.yticks(tick_marks, classes)\n",
        "\n",
        "    fmt = '.2f' if normalize else 'd'\n",
        "    thresh = cm.max() / 2.\n",
        "    for i, j in itertools.product(range(cm.shape[0]), range(cm.shape[1])):\n",
        "        plt.text(j, i, format(cm[i, j], fmt),\n",
        "                 horizontalalignment=\"center\",\n",
        "                 color=\"white\" if cm[i, j] > thresh else \"black\")\n",
        "\n",
        "    plt.tight_layout()\n",
        "    plt.ylabel('True label')\n",
        "    plt.xlabel('Predicted label')\n",
        "    plt.grid(b = 0)\n",
        "\n",
        "## The code for the function plot_confusion_matrix() is attributed to http://scikit-learn.org/stable/auto_examples/model_selection/plot_confusion_matrix.html\n",
        "\n",
        "# Plot non-normalized confusion matrix\n",
        "plt.figure()\n",
        "plot_confusion_matrix(cm, classes=list(map(str, labels)), title='Confusion matrix, without normalization')\n",
        "plt.figure()\n",
        "plot_confusion_matrix(cm, classes=list(map(str, labels)), normalize=True, title='Normalized confusion matrix')\n"
      ],
      "execution_count": 0,
      "outputs": [
        {
          "output_type": "execute_result",
          "data": {
            "text/plain": [
              "<Figure size 432x288 with 0 Axes>"
            ]
          },
          "metadata": {
            "tags": []
          },
          "execution_count": 26
        },
        {
          "output_type": "stream",
          "text": [
            "Confusion matrix, without normalization\n",
            "[[ 970    2    1    2    0    0    2    1    1    1]\n",
            " [   0 1127    1    3    0    1    1    1    1    0]\n",
            " [   6    2  998    5    4    1    3   11    2    0]\n",
            " [   0    3    5  975    1    5    0   11    1    9]\n",
            " [   3    2    2    1  954    0    6    7    1    6]\n",
            " [   6    0    1   11    1  858    6    2    4    3]\n",
            " [   7    3    1    1    3    8  931    3    1    0]\n",
            " [   1    5    8    4    1    0    1  999    0    9]\n",
            " [   6    6   13   15    4   10    5   12  896    7]\n",
            " [   1    8    0    6   10    4    2   14    1  963]]\n"
          ],
          "name": "stdout"
        },
        {
          "output_type": "execute_result",
          "data": {
            "text/plain": [
              "<Figure size 432x288 with 0 Axes>"
            ]
          },
          "metadata": {
            "tags": []
          },
          "execution_count": 26
        },
        {
          "output_type": "stream",
          "text": [
            "Normalized confusion matrix\n",
            "[[9.89795918e-01 2.04081633e-03 1.02040816e-03 2.04081633e-03\n",
            "  0.00000000e+00 0.00000000e+00 2.04081633e-03 1.02040816e-03\n",
            "  1.02040816e-03 1.02040816e-03]\n",
            " [0.00000000e+00 9.92951542e-01 8.81057269e-04 2.64317181e-03\n",
            "  0.00000000e+00 8.81057269e-04 8.81057269e-04 8.81057269e-04\n",
            "  8.81057269e-04 0.00000000e+00]\n",
            " [5.81395349e-03 1.93798450e-03 9.67054264e-01 4.84496124e-03\n",
            "  3.87596899e-03 9.68992248e-04 2.90697674e-03 1.06589147e-02\n",
            "  1.93798450e-03 0.00000000e+00]\n",
            " [0.00000000e+00 2.97029703e-03 4.95049505e-03 9.65346535e-01\n",
            "  9.90099010e-04 4.95049505e-03 0.00000000e+00 1.08910891e-02\n",
            "  9.90099010e-04 8.91089109e-03]\n",
            " [3.05498982e-03 2.03665988e-03 2.03665988e-03 1.01832994e-03\n",
            "  9.71486762e-01 0.00000000e+00 6.10997963e-03 7.12830957e-03\n",
            "  1.01832994e-03 6.10997963e-03]\n",
            " [6.72645740e-03 0.00000000e+00 1.12107623e-03 1.23318386e-02\n",
            "  1.12107623e-03 9.61883408e-01 6.72645740e-03 2.24215247e-03\n",
            "  4.48430493e-03 3.36322870e-03]\n",
            " [7.30688935e-03 3.13152401e-03 1.04384134e-03 1.04384134e-03\n",
            "  3.13152401e-03 8.35073069e-03 9.71816284e-01 3.13152401e-03\n",
            "  1.04384134e-03 0.00000000e+00]\n",
            " [9.72762646e-04 4.86381323e-03 7.78210117e-03 3.89105058e-03\n",
            "  9.72762646e-04 0.00000000e+00 9.72762646e-04 9.71789883e-01\n",
            "  0.00000000e+00 8.75486381e-03]\n",
            " [6.16016427e-03 6.16016427e-03 1.33470226e-02 1.54004107e-02\n",
            "  4.10677618e-03 1.02669405e-02 5.13347023e-03 1.23203285e-02\n",
            "  9.19917864e-01 7.18685832e-03]\n",
            " [9.91080278e-04 7.92864222e-03 0.00000000e+00 5.94648167e-03\n",
            "  9.91080278e-03 3.96432111e-03 1.98216056e-03 1.38751239e-02\n",
            "  9.91080278e-04 9.54410307e-01]]\n"
          ],
          "name": "stdout"
        },
        {
          "output_type": "display_data",
          "data": {
            "image/png": "[encoded data removed]",
            "text/plain": [
              "<Figure size 432x288 with 2 Axes>"
            ]
          },
          "metadata": {
            "tags": []
          }
        },
        {
          "output_type": "display_data",
          "data": {
            "image/png": "[encoded data removed]",
            "text/plain": [
              "<Figure size 432x288 with 2 Axes>"
            ]
          },
          "metadata": {
            "tags": []
          }
        }
      ]
    }
  ]
}