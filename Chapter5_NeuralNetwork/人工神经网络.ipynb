{
  "nbformat": 4,
  "nbformat_minor": 0,
  "metadata": {
    "colab": {
      "name": "PracticeSession1_HN.ipynb",
      "provenance": [],
      "collapsed_sections": [
        "G961Oko_PenB",
        "YoldZQgkPr6-",
        "95_nhUhhP3ji",
        "nAxj3de7072f",
        "5wu5oABiQHgn",
        "1aLLvJ5WOK4x"
      ],
      "include_colab_link": true
    },
    "kernelspec": {
      "name": "python3",
      "display_name": "Python 3"
    },
    "accelerator": "GPU"
  },
  "cells": [
    {
      "cell_type": "markdown",
      "metadata": {
        "id": "view-in-github",
        "colab_type": "text"
      },
      "source": [
        "<a href=\"https://colab.research.google.com/github/deepintomlf/mlfbook/blob/dev/Chapter5_NeuralNetwork/%E4%BA%BA%E5%B7%A5%E7%A5%9E%E7%BB%8F%E7%BD%91%E7%BB%9C.ipynb\" target=\"_parent\"><img src=\"https://colab.research.google.com/assets/colab-badge.svg\" alt=\"Open In Colab\"/></a>"
      ]
    },
    {
      "cell_type": "markdown",
      "metadata": {
        "id": "0rw0SZOgvciq",
        "colab_type": "text"
      },
      "source": [
        "\n",
        "# **第五章第二节 – 人工神经网络**\n",
        "这个Jupyter笔记本包含了第五章第二节的所有源代码."
      ]
    },
    {
      "cell_type": "markdown",
      "metadata": {
        "id": "iSAJ064BtXrq",
        "colab_type": "text"
      },
      "source": [
        "### Implementation"
      ]
    },
    {
      "cell_type": "markdown",
      "metadata": {
        "id": "xWL5dnZItdxU",
        "colab_type": "text"
      },
      "source": [
        "![alt text](https://docs.google.com/uc?export=download&id=1oWrlu3M05rP8GzEWU23EgTZpDiFj2Mop)\n",
        "\n",
        "\n",
        "\n",
        "*   Input layer ( $h^{0}$): $h^{0}(x) = x$.\n",
        "*  Hidden layer ($\\{h^{l}\\}_{l = 1}^{L-1}$);\n",
        "* Output layer ($h^{L}$).\n",
        "\n",
        "\\begin{eqnarray*}\n",
        "z^{l+1} &=& {\\color{blue}W^{l}} h^{l} + {\\color{blue}b^{l}},\\\\\n",
        "h^{l+1} &=& {\\color{red} \\sigma}(z^{l+1}),\n",
        "\\end{eqnarray*}\n",
        "where ${\\color{red}\\sigma}$ is an* activation function*, which is usually non-linear, e.g. the sigmoid function $\\sigma(x) = \\frac{1}{1+e^{-x}}$. The parameter set ${\\color{blue}\\theta} = (W^{l}, b^{l})_{l =1}^{L}$}.\n"
      ]
    },
    {
      "cell_type": "markdown",
      "metadata": {
        "id": "ClYeClr2vTc7",
        "colab_type": "text"
      },
      "source": [
        "###ANN Classification###\n",
        "The input $x$ is a multi-dimensional vector; \n",
        "\n",
        "The ouput $y$ is a one-hot respresenation of the class. \n",
        "\n",
        "\n",
        "The number of neurons in the output layer is the total number of classes. \n",
        "\n",
        "The $j^{th}$ neurons in the output layer represents the probability of the output(label) being class $j$.  \n",
        "\n",
        " The **cross entropy **loss function is defined as follows:\n",
        "\n",
        "\\begin{eqnarray*}\n",
        "L(\\theta \\vert \\mathcal{D}) = - \\frac{1}{N}\\sum_{i =1}^{N} \\sum_{k} \\mathbb{1}( y_{i}=\\text{ class }k) \\log(p(y_{i} =\\text{ class }k \\vert x_{i})) \n",
        "\\end{eqnarray*}\n",
        "\n",
        "Note: The cross entropy between two probability distributions $p$ and $q$ is defined as \n",
        "\\begin{eqnarray*}\n",
        "H(p, q) =- \\sum_{x} p(x)\\log(q(x)).\n",
        "\\end{eqnarray*}\n",
        "\n",
        "$L(\\theta \\vert \\mathcal{D}) $ can be reformulated as \n",
        "\n",
        "\\begin{eqnarray*}\n",
        "L(\\theta \\vert \\mathcal{D}) = - \\frac{1}{N} \\langle  y_{i}, \\log(p_{\\theta }(  \\cdot \\vert x_{i})) \\rangle \n",
        "\\end{eqnarray*}\n"
      ]
    },
    {
      "cell_type": "markdown",
      "metadata": {
        "id": "xZBRzRhF_-xI",
        "colab_type": "text"
      },
      "source": [
        "#Pipelines of Supervised Learning Algorithms# "
      ]
    },
    {
      "cell_type": "markdown",
      "metadata": {
        "id": "7E1pkUGgQHpb",
        "colab_type": "text"
      },
      "source": [
        "The piplelines of the supervised learning algorithms are summarized as follows:\n",
        "\n",
        "1.   Import Datasets;\n",
        "2.   Take a look at the dataset (Statistical Analysis/Visualization);\n",
        "3.    Pre-process the dataset to prepare for the training process (normalization/reshape data);\n",
        "4.    Train a model;\n",
        "5.    Validate a model;\n",
        "6.    Cross Validation. \n"
      ]
    },
    {
      "cell_type": "markdown",
      "metadata": {
        "id": "X-vM1QWbbRDo",
        "colab_type": "text"
      },
      "source": [
        "** We will apply the shallow neural network to the MNIST dataset as a concrete example to go through the pipelines of supervised learning algorithm.**"
      ]
    },
    {
      "cell_type": "markdown",
      "metadata": {
        "id": "rcEMqDnp3Ese",
        "colab_type": "text"
      },
      "source": [
        "Problem: Build an algorithm to identify the digit label from the handwritten image using the MNIST dataset. \n",
        "\n",
        "![alt text](http://corochann.com/wp-content/uploads/2017/02/mnist_plot.png)"
      ]
    },
    {
      "cell_type": "markdown",
      "metadata": {
        "id": "Yo03nFuXWsP2",
        "colab_type": "text"
      },
      "source": [
        "## **预处理MNIST数据集中的数据**"
      ]
    },
    {
      "cell_type": "code",
      "metadata": {
        "id": "wTvLJzzjA6aB",
        "colab_type": "code",
        "colab": {}
      },
      "source": [
        "import numpy as np\n",
        "from keras.datasets import mnist\n",
        "from keras.utils import to_categorical\n",
        "\n",
        "# 加载MNIST数据集\n",
        "from keras.datasets import mnist\n",
        "(x_mnist_train, y_mnist_train), (x_mnist_test, y_mnist_test) = mnist.load_data()\n",
        "\n",
        "# 将输入图像数据从矩阵转换为向量\n",
        "[n_samples_train, width, height] = np.shape(x_mnist_train)\n",
        "[n_samples_test, width, height] = np.shape(x_mnist_test)\n",
        "x_train = x_mnist_train.reshape([n_samples_train, width*height]).astype('float32')\n",
        "x_test = x_mnist_test.reshape([n_samples_test, width*height]).astype('float32')\n",
        "\n",
        "# 标准化输入数据\n",
        "x_train /= 255\n",
        "x_test /= 255\n",
        "\n",
        "# 将输出的类别由整数编码转换为one-hot编码\n",
        "num_classes = 10    \n",
        "y_train = to_categorical(y_mnist_train, num_classes)\n",
        "y_test = to_categorical(y_mnist_test, num_classes)"
      ],
      "execution_count": 0,
      "outputs": []
    },
    {
      "cell_type": "markdown",
      "metadata": {
        "id": "iJekBGxRXYGF",
        "colab_type": "text"
      },
      "source": [
        "## **使用浅层神经网络进行数字分类**"
      ]
    },
    {
      "cell_type": "code",
      "metadata": {
        "id": "nz0Iu3FuXd0U",
        "colab_type": "code",
        "outputId": "d367f64a-eb0d-4398-9031-be7d4be689b3",
        "colab": {
          "base_uri": "https://localhost:8080/",
          "height": 1000
        }
      },
      "source": [
        "import time\n",
        "from tensorflow.keras.models import Sequential\n",
        "from tensorflow.keras.layers import Dense\n",
        "from tensorflow.keras.optimizers import SGD\n",
        "\n",
        "def shallow_NN_model(n_hidden_neurons):\n",
        "    \"\"\" 构建浅层神经网络 \"\"\"\n",
        "    start_time = time.time()\n",
        "    print('Compiling Model ... ')\n",
        "    model = Sequential()\n",
        "    # 添加RelU激活函数的隐藏层\n",
        "    model.add(Dense(n_hidden_neurons, activation='relu', input_dim=784))\n",
        "    # 添加softmax激活函数的输出层\n",
        "    model.add(Dense(10, activation = 'softmax'))\n",
        "    # 这里我们使用Keras中SGD的常用参数设置 \n",
        "    sgd = SGD(lr=0.1, decay=1e-6, momentum=0.9, nesterov=True)\n",
        "    model.compile(loss='categorical_crossentropy', optimizer=sgd, metrics=['accuracy'])\n",
        "    print('Model compield in {0} seconds'.format(time.time() - start_time))\n",
        "    return model\n",
        "\n",
        "# 创建一个模型实例\n",
        "model = shallow_NN_model(n_hidden_neurons=50)\n",
        "\n",
        "# 使用模型拟合数据集\n",
        "hist_ANN = model.fit(x_train, y_train, epochs=100, batch_size=256, validation_data=(x_test, y_test), verbose=2)"
      ],
      "execution_count": 5,
      "outputs": [
        {
          "output_type": "stream",
          "text": [
            "Compiling Model ... \n",
            "Model compield in 0.04409003257751465 seconds\n",
            "Epoch 1/100\n",
            "235/235 - 1s - loss: 0.3468 - accuracy: 0.8993 - val_loss: 0.1951 - val_accuracy: 0.9427\n",
            "Epoch 2/100\n",
            "235/235 - 1s - loss: 0.1696 - accuracy: 0.9504 - val_loss: 0.1366 - val_accuracy: 0.9573\n",
            "Epoch 3/100\n",
            "235/235 - 1s - loss: 0.1271 - accuracy: 0.9623 - val_loss: 0.1209 - val_accuracy: 0.9626\n",
            "Epoch 4/100\n",
            "235/235 - 1s - loss: 0.1042 - accuracy: 0.9685 - val_loss: 0.1058 - val_accuracy: 0.9667\n",
            "Epoch 5/100\n",
            "235/235 - 1s - loss: 0.0892 - accuracy: 0.9732 - val_loss: 0.1059 - val_accuracy: 0.9672\n",
            "Epoch 6/100\n",
            "235/235 - 1s - loss: 0.0765 - accuracy: 0.9764 - val_loss: 0.0962 - val_accuracy: 0.9700\n",
            "Epoch 7/100\n",
            "235/235 - 1s - loss: 0.0688 - accuracy: 0.9783 - val_loss: 0.0962 - val_accuracy: 0.9695\n",
            "Epoch 8/100\n",
            "235/235 - 1s - loss: 0.0625 - accuracy: 0.9804 - val_loss: 0.0937 - val_accuracy: 0.9706\n",
            "Epoch 9/100\n",
            "235/235 - 1s - loss: 0.0558 - accuracy: 0.9826 - val_loss: 0.1021 - val_accuracy: 0.9692\n",
            "Epoch 10/100\n",
            "235/235 - 1s - loss: 0.0513 - accuracy: 0.9838 - val_loss: 0.0926 - val_accuracy: 0.9712\n",
            "Epoch 11/100\n",
            "235/235 - 1s - loss: 0.0478 - accuracy: 0.9851 - val_loss: 0.0966 - val_accuracy: 0.9710\n",
            "Epoch 12/100\n",
            "235/235 - 1s - loss: 0.0432 - accuracy: 0.9869 - val_loss: 0.1055 - val_accuracy: 0.9675\n",
            "Epoch 13/100\n",
            "235/235 - 1s - loss: 0.0400 - accuracy: 0.9876 - val_loss: 0.0941 - val_accuracy: 0.9733\n",
            "Epoch 14/100\n",
            "235/235 - 1s - loss: 0.0359 - accuracy: 0.9891 - val_loss: 0.1007 - val_accuracy: 0.9708\n",
            "Epoch 15/100\n",
            "235/235 - 1s - loss: 0.0329 - accuracy: 0.9899 - val_loss: 0.0964 - val_accuracy: 0.9722\n",
            "Epoch 16/100\n",
            "235/235 - 1s - loss: 0.0309 - accuracy: 0.9903 - val_loss: 0.0992 - val_accuracy: 0.9728\n",
            "Epoch 17/100\n",
            "235/235 - 1s - loss: 0.0291 - accuracy: 0.9909 - val_loss: 0.0957 - val_accuracy: 0.9704\n",
            "Epoch 18/100\n",
            "235/235 - 1s - loss: 0.0257 - accuracy: 0.9925 - val_loss: 0.1023 - val_accuracy: 0.9723\n",
            "Epoch 19/100\n",
            "235/235 - 1s - loss: 0.0236 - accuracy: 0.9933 - val_loss: 0.1052 - val_accuracy: 0.9712\n",
            "Epoch 20/100\n",
            "235/235 - 1s - loss: 0.0221 - accuracy: 0.9937 - val_loss: 0.1087 - val_accuracy: 0.9700\n",
            "Epoch 21/100\n",
            "235/235 - 1s - loss: 0.0203 - accuracy: 0.9941 - val_loss: 0.1057 - val_accuracy: 0.9707\n",
            "Epoch 22/100\n",
            "235/235 - 1s - loss: 0.0185 - accuracy: 0.9949 - val_loss: 0.1074 - val_accuracy: 0.9703\n",
            "Epoch 23/100\n",
            "235/235 - 1s - loss: 0.0165 - accuracy: 0.9958 - val_loss: 0.1105 - val_accuracy: 0.9713\n",
            "Epoch 24/100\n",
            "235/235 - 1s - loss: 0.0149 - accuracy: 0.9961 - val_loss: 0.1142 - val_accuracy: 0.9701\n",
            "Epoch 25/100\n",
            "235/235 - 1s - loss: 0.0137 - accuracy: 0.9965 - val_loss: 0.1153 - val_accuracy: 0.9694\n",
            "Epoch 26/100\n",
            "235/235 - 1s - loss: 0.0125 - accuracy: 0.9970 - val_loss: 0.1156 - val_accuracy: 0.9703\n",
            "Epoch 27/100\n",
            "235/235 - 1s - loss: 0.0118 - accuracy: 0.9974 - val_loss: 0.1138 - val_accuracy: 0.9718\n",
            "Epoch 28/100\n",
            "235/235 - 1s - loss: 0.0111 - accuracy: 0.9975 - val_loss: 0.1164 - val_accuracy: 0.9718\n",
            "Epoch 29/100\n",
            "235/235 - 1s - loss: 0.0092 - accuracy: 0.9983 - val_loss: 0.1119 - val_accuracy: 0.9719\n",
            "Epoch 30/100\n",
            "235/235 - 1s - loss: 0.0081 - accuracy: 0.9987 - val_loss: 0.1202 - val_accuracy: 0.9713\n",
            "Epoch 31/100\n",
            "235/235 - 1s - loss: 0.0080 - accuracy: 0.9986 - val_loss: 0.1171 - val_accuracy: 0.9726\n",
            "Epoch 32/100\n",
            "235/235 - 1s - loss: 0.0066 - accuracy: 0.9990 - val_loss: 0.1178 - val_accuracy: 0.9721\n",
            "Epoch 33/100\n",
            "235/235 - 1s - loss: 0.0060 - accuracy: 0.9992 - val_loss: 0.1169 - val_accuracy: 0.9717\n",
            "Epoch 34/100\n",
            "235/235 - 1s - loss: 0.0053 - accuracy: 0.9995 - val_loss: 0.1236 - val_accuracy: 0.9716\n",
            "Epoch 35/100\n",
            "235/235 - 1s - loss: 0.0049 - accuracy: 0.9997 - val_loss: 0.1214 - val_accuracy: 0.9722\n",
            "Epoch 36/100\n",
            "235/235 - 1s - loss: 0.0044 - accuracy: 0.9997 - val_loss: 0.1239 - val_accuracy: 0.9720\n",
            "Epoch 37/100\n",
            "235/235 - 1s - loss: 0.0040 - accuracy: 0.9999 - val_loss: 0.1235 - val_accuracy: 0.9723\n",
            "Epoch 38/100\n",
            "235/235 - 1s - loss: 0.0040 - accuracy: 0.9998 - val_loss: 0.1246 - val_accuracy: 0.9710\n",
            "Epoch 39/100\n",
            "235/235 - 1s - loss: 0.0035 - accuracy: 0.9998 - val_loss: 0.1241 - val_accuracy: 0.9722\n",
            "Epoch 40/100\n",
            "235/235 - 1s - loss: 0.0032 - accuracy: 0.9999 - val_loss: 0.1249 - val_accuracy: 0.9731\n",
            "Epoch 41/100\n",
            "235/235 - 1s - loss: 0.0031 - accuracy: 0.9999 - val_loss: 0.1269 - val_accuracy: 0.9716\n",
            "Epoch 42/100\n",
            "235/235 - 1s - loss: 0.0029 - accuracy: 0.9999 - val_loss: 0.1270 - val_accuracy: 0.9723\n",
            "Epoch 43/100\n",
            "235/235 - 1s - loss: 0.0026 - accuracy: 0.9999 - val_loss: 0.1267 - val_accuracy: 0.9729\n",
            "Epoch 44/100\n",
            "235/235 - 1s - loss: 0.0026 - accuracy: 0.9999 - val_loss: 0.1273 - val_accuracy: 0.9727\n",
            "Epoch 45/100\n",
            "235/235 - 1s - loss: 0.0024 - accuracy: 0.9999 - val_loss: 0.1282 - val_accuracy: 0.9715\n",
            "Epoch 46/100\n",
            "235/235 - 1s - loss: 0.0023 - accuracy: 1.0000 - val_loss: 0.1301 - val_accuracy: 0.9719\n",
            "Epoch 47/100\n",
            "235/235 - 1s - loss: 0.0022 - accuracy: 1.0000 - val_loss: 0.1303 - val_accuracy: 0.9721\n",
            "Epoch 48/100\n",
            "235/235 - 1s - loss: 0.0021 - accuracy: 1.0000 - val_loss: 0.1303 - val_accuracy: 0.9728\n",
            "Epoch 49/100\n",
            "235/235 - 1s - loss: 0.0020 - accuracy: 1.0000 - val_loss: 0.1313 - val_accuracy: 0.9725\n",
            "Epoch 50/100\n",
            "235/235 - 1s - loss: 0.0019 - accuracy: 1.0000 - val_loss: 0.1321 - val_accuracy: 0.9719\n",
            "Epoch 51/100\n",
            "235/235 - 1s - loss: 0.0018 - accuracy: 1.0000 - val_loss: 0.1316 - val_accuracy: 0.9723\n",
            "Epoch 52/100\n",
            "235/235 - 1s - loss: 0.0017 - accuracy: 1.0000 - val_loss: 0.1322 - val_accuracy: 0.9722\n",
            "Epoch 53/100\n",
            "235/235 - 1s - loss: 0.0017 - accuracy: 1.0000 - val_loss: 0.1342 - val_accuracy: 0.9731\n",
            "Epoch 54/100\n",
            "235/235 - 1s - loss: 0.0016 - accuracy: 1.0000 - val_loss: 0.1350 - val_accuracy: 0.9720\n",
            "Epoch 55/100\n",
            "235/235 - 1s - loss: 0.0016 - accuracy: 1.0000 - val_loss: 0.1357 - val_accuracy: 0.9717\n",
            "Epoch 56/100\n",
            "235/235 - 1s - loss: 0.0015 - accuracy: 1.0000 - val_loss: 0.1351 - val_accuracy: 0.9717\n",
            "Epoch 57/100\n",
            "235/235 - 1s - loss: 0.0015 - accuracy: 1.0000 - val_loss: 0.1353 - val_accuracy: 0.9727\n",
            "Epoch 58/100\n",
            "235/235 - 1s - loss: 0.0014 - accuracy: 1.0000 - val_loss: 0.1362 - val_accuracy: 0.9725\n",
            "Epoch 59/100\n",
            "235/235 - 1s - loss: 0.0014 - accuracy: 1.0000 - val_loss: 0.1367 - val_accuracy: 0.9727\n",
            "Epoch 60/100\n",
            "235/235 - 1s - loss: 0.0014 - accuracy: 1.0000 - val_loss: 0.1377 - val_accuracy: 0.9724\n",
            "Epoch 61/100\n",
            "235/235 - 1s - loss: 0.0013 - accuracy: 1.0000 - val_loss: 0.1384 - val_accuracy: 0.9723\n",
            "Epoch 62/100\n",
            "235/235 - 1s - loss: 0.0013 - accuracy: 1.0000 - val_loss: 0.1381 - val_accuracy: 0.9725\n",
            "Epoch 63/100\n",
            "235/235 - 1s - loss: 0.0012 - accuracy: 1.0000 - val_loss: 0.1379 - val_accuracy: 0.9721\n",
            "Epoch 64/100\n",
            "235/235 - 1s - loss: 0.0012 - accuracy: 1.0000 - val_loss: 0.1385 - val_accuracy: 0.9731\n",
            "Epoch 65/100\n",
            "235/235 - 1s - loss: 0.0012 - accuracy: 1.0000 - val_loss: 0.1396 - val_accuracy: 0.9722\n",
            "Epoch 66/100\n",
            "235/235 - 1s - loss: 0.0012 - accuracy: 1.0000 - val_loss: 0.1399 - val_accuracy: 0.9726\n",
            "Epoch 67/100\n",
            "235/235 - 1s - loss: 0.0011 - accuracy: 1.0000 - val_loss: 0.1397 - val_accuracy: 0.9722\n",
            "Epoch 68/100\n",
            "235/235 - 1s - loss: 0.0011 - accuracy: 1.0000 - val_loss: 0.1403 - val_accuracy: 0.9727\n",
            "Epoch 69/100\n",
            "235/235 - 1s - loss: 0.0011 - accuracy: 1.0000 - val_loss: 0.1405 - val_accuracy: 0.9726\n",
            "Epoch 70/100\n",
            "235/235 - 1s - loss: 0.0011 - accuracy: 1.0000 - val_loss: 0.1420 - val_accuracy: 0.9725\n",
            "Epoch 71/100\n",
            "235/235 - 1s - loss: 0.0010 - accuracy: 1.0000 - val_loss: 0.1426 - val_accuracy: 0.9724\n",
            "Epoch 72/100\n",
            "235/235 - 1s - loss: 0.0010 - accuracy: 1.0000 - val_loss: 0.1419 - val_accuracy: 0.9726\n",
            "Epoch 73/100\n",
            "235/235 - 1s - loss: 9.8675e-04 - accuracy: 1.0000 - val_loss: 0.1428 - val_accuracy: 0.9723\n",
            "Epoch 74/100\n",
            "235/235 - 1s - loss: 9.5457e-04 - accuracy: 1.0000 - val_loss: 0.1433 - val_accuracy: 0.9727\n",
            "Epoch 75/100\n",
            "235/235 - 1s - loss: 9.4291e-04 - accuracy: 1.0000 - val_loss: 0.1431 - val_accuracy: 0.9722\n",
            "Epoch 76/100\n",
            "235/235 - 1s - loss: 9.2399e-04 - accuracy: 1.0000 - val_loss: 0.1438 - val_accuracy: 0.9729\n",
            "Epoch 77/100\n",
            "235/235 - 1s - loss: 9.0862e-04 - accuracy: 1.0000 - val_loss: 0.1444 - val_accuracy: 0.9728\n",
            "Epoch 78/100\n",
            "235/235 - 1s - loss: 8.9874e-04 - accuracy: 1.0000 - val_loss: 0.1450 - val_accuracy: 0.9724\n",
            "Epoch 79/100\n",
            "235/235 - 1s - loss: 8.9298e-04 - accuracy: 1.0000 - val_loss: 0.1448 - val_accuracy: 0.9726\n",
            "Epoch 80/100\n",
            "235/235 - 1s - loss: 8.6134e-04 - accuracy: 1.0000 - val_loss: 0.1451 - val_accuracy: 0.9726\n",
            "Epoch 81/100\n",
            "235/235 - 1s - loss: 8.4406e-04 - accuracy: 1.0000 - val_loss: 0.1459 - val_accuracy: 0.9726\n",
            "Epoch 82/100\n",
            "235/235 - 1s - loss: 8.2275e-04 - accuracy: 1.0000 - val_loss: 0.1462 - val_accuracy: 0.9727\n",
            "Epoch 83/100\n",
            "235/235 - 1s - loss: 8.0419e-04 - accuracy: 1.0000 - val_loss: 0.1468 - val_accuracy: 0.9724\n",
            "Epoch 84/100\n",
            "235/235 - 1s - loss: 7.9806e-04 - accuracy: 1.0000 - val_loss: 0.1477 - val_accuracy: 0.9724\n",
            "Epoch 85/100\n",
            "235/235 - 1s - loss: 7.7741e-04 - accuracy: 1.0000 - val_loss: 0.1469 - val_accuracy: 0.9723\n",
            "Epoch 86/100\n",
            "235/235 - 1s - loss: 7.6475e-04 - accuracy: 1.0000 - val_loss: 0.1476 - val_accuracy: 0.9724\n",
            "Epoch 87/100\n",
            "235/235 - 1s - loss: 7.4948e-04 - accuracy: 1.0000 - val_loss: 0.1477 - val_accuracy: 0.9726\n",
            "Epoch 88/100\n",
            "235/235 - 1s - loss: 7.4686e-04 - accuracy: 1.0000 - val_loss: 0.1481 - val_accuracy: 0.9725\n",
            "Epoch 89/100\n",
            "235/235 - 1s - loss: 7.2946e-04 - accuracy: 1.0000 - val_loss: 0.1490 - val_accuracy: 0.9723\n",
            "Epoch 90/100\n",
            "235/235 - 1s - loss: 7.2037e-04 - accuracy: 1.0000 - val_loss: 0.1491 - val_accuracy: 0.9723\n",
            "Epoch 91/100\n",
            "235/235 - 1s - loss: 7.0419e-04 - accuracy: 1.0000 - val_loss: 0.1491 - val_accuracy: 0.9726\n",
            "Epoch 92/100\n",
            "235/235 - 1s - loss: 7.0428e-04 - accuracy: 1.0000 - val_loss: 0.1495 - val_accuracy: 0.9723\n",
            "Epoch 93/100\n",
            "235/235 - 1s - loss: 6.8915e-04 - accuracy: 1.0000 - val_loss: 0.1498 - val_accuracy: 0.9727\n",
            "Epoch 94/100\n",
            "235/235 - 1s - loss: 6.8116e-04 - accuracy: 1.0000 - val_loss: 0.1500 - val_accuracy: 0.9726\n",
            "Epoch 95/100\n",
            "235/235 - 1s - loss: 6.7085e-04 - accuracy: 1.0000 - val_loss: 0.1501 - val_accuracy: 0.9729\n",
            "Epoch 96/100\n",
            "235/235 - 1s - loss: 6.5683e-04 - accuracy: 1.0000 - val_loss: 0.1506 - val_accuracy: 0.9721\n",
            "Epoch 97/100\n",
            "235/235 - 1s - loss: 6.4663e-04 - accuracy: 1.0000 - val_loss: 0.1515 - val_accuracy: 0.9727\n",
            "Epoch 98/100\n",
            "235/235 - 1s - loss: 6.3655e-04 - accuracy: 1.0000 - val_loss: 0.1502 - val_accuracy: 0.9723\n",
            "Epoch 99/100\n",
            "235/235 - 1s - loss: 6.2784e-04 - accuracy: 1.0000 - val_loss: 0.1516 - val_accuracy: 0.9724\n",
            "Epoch 100/100\n",
            "235/235 - 1s - loss: 6.1773e-04 - accuracy: 1.0000 - val_loss: 0.1521 - val_accuracy: 0.9720\n"
          ],
          "name": "stdout"
        }
      ]
    },
    {
      "cell_type": "markdown",
      "metadata": {
        "id": "rvDDuUlHlkRR",
        "colab_type": "text"
      },
      "source": [
        "## **绘制模型训练历史**"
      ]
    },
    {
      "cell_type": "code",
      "metadata": {
        "id": "VTfxkBQslgC7",
        "colab_type": "code",
        "colab": {}
      },
      "source": [
        "import matplotlib.pyplot as plt\n",
        "\n",
        "# Define functions to plot the loss and accuracy\n",
        "def plot_hist_var(hist, str_var):\n",
        "  \"\"\" 绘制模型的损失函数或准确率 \"\"\"\n",
        "  plt.figure()\n",
        "  plt.plot(hist.history[str_var], 'b', linewidth=1.5)\n",
        "  plt.plot(hist.history['val_'+str_var], 'r', linewidth=1.5)\n",
        "  plt.legend(['Training set','Testing set'])\n",
        "  plt.xlabel('Epochs')\n",
        "  plt.ylabel(str_var[0].upper()+str_var[1:])\n"
      ],
      "execution_count": 0,
      "outputs": []
    },
    {
      "cell_type": "code",
      "metadata": {
        "id": "iKKvaGxS3jYX",
        "colab_type": "code",
        "outputId": "a0ef17eb-31ab-4c60-9020-56fda3521498",
        "colab": {
          "base_uri": "https://localhost:8080/",
          "height": 541
        }
      },
      "source": [
        "# 绘制模型在训练集和测试集上的损失函数和准确率\n",
        "plot_hist_var(hist_ANN, 'loss')\n",
        "plot_hist_var(hist_ANN, 'accuracy')"
      ],
      "execution_count": 8,
      "outputs": [
        {
          "output_type": "display_data",
          "data": {
            "image/png": "[encoded data removed]",
            "text/plain": [
              "<Figure size 432x288 with 1 Axes>"
            ]
          },
          "metadata": {
            "tags": [],
            "needs_background": "light"
          }
        },
        {
          "output_type": "display_data",
          "data": {
            "image/png": "[encoded data removed]",
            "text/plain": [
              "<Figure size 432x288 with 1 Axes>"
            ]
          },
          "metadata": {
            "tags": [],
            "needs_background": "light"
          }
        }
      ]
    },
    {
      "cell_type": "markdown",
      "metadata": {
        "id": "fTnx4Ke0-5wx",
        "colab_type": "text"
      },
      "source": [
        "## **Assess the performance of a fitted model**\n"
      ]
    },
    {
      "cell_type": "markdown",
      "metadata": {
        "id": "OW3ed_QJ0oNi",
        "colab_type": "text"
      },
      "source": [
        "There are various measurements of the performance of the fitted models in classification problems.\n",
        "*   Loss function and the accuracy;\n",
        "*   Confusion matrix. "
      ]
    },
    {
      "cell_type": "code",
      "metadata": {
        "id": "JfACgwxC-45m",
        "colab_type": "code",
        "outputId": "2d9dc2fd-5bfb-485d-d4b0-4cc5a60e8ad8",
        "colab": {
          "base_uri": "https://localhost:8080/",
          "height": 85
        }
      },
      "source": [
        "score =  model.evaluate(x_test, y_test)\n",
        "print(model.metrics_names)\n",
        "print('Test ' + model.metrics_names[0] , score[0])\n",
        "print('Test '+ model.metrics_names[1] , score[1])"
      ],
      "execution_count": 9,
      "outputs": [
        {
          "output_type": "stream",
          "text": [
            "313/313 [==============================] - 1s 2ms/step - loss: 0.1555 - accuracy: 0.9720\n",
            "['loss', 'accuracy']\n",
            "Test loss 0.15552479028701782\n",
            "Test accuracy 0.972000002861023\n"
          ],
          "name": "stdout"
        }
      ]
    },
    {
      "cell_type": "code",
      "metadata": {
        "id": "TVKmyfeG5_gS",
        "colab_type": "code",
        "outputId": "dff1281e-e156-4a07-ffc1-fb17bd4b33be",
        "colab": {
          "base_uri": "https://localhost:8080/",
          "height": 34
        }
      },
      "source": [
        "from sklearn.metrics import confusion_matrix\n",
        "\n",
        "Y_test_prob_pred = model.predict(x_test)\n",
        "Y_test_class_pred = model.predict_classes(x_test)\n",
        "print(Y_test_class_pred)\n",
        "cm = confusion_matrix( y_mnist_test, Y_test_class_pred )\n"
      ],
      "execution_count": 12,
      "outputs": [
        {
          "output_type": "stream",
          "text": [
            "[7 2 1 ... 4 5 6]\n"
          ],
          "name": "stdout"
        }
      ]
    },
    {
      "cell_type": "code",
      "metadata": {
        "id": "jnmn95ei2zrD",
        "colab_type": "code",
        "outputId": "2e03e56d-0615-4a3c-fa2f-d5cc99a8ad3e",
        "colab": {
          "base_uri": "https://localhost:8080/",
          "height": 1000
        }
      },
      "source": [
        "import itertools  \n",
        "def plot_confusion_matrix(cm, classes,\n",
        "                          normalize=False,\n",
        "                          title='Confusion matrix',\n",
        "                          cmap=plt.cm.Blues):\n",
        "    \"\"\"\n",
        "    This function prints and plots the confusion matrix.\n",
        "    Normalization can be applied by setting `normalize=True`.\n",
        "    \"\"\"\n",
        "    if normalize:\n",
        "        cm = cm.astype('float') / cm.sum(axis=1)[:, np.newaxis]\n",
        "        print(\"Normalized confusion matrix\")\n",
        "    else:\n",
        "        print('Confusion matrix, without normalization')\n",
        "\n",
        "    print(cm)\n",
        "\n",
        "    plt.imshow(cm, interpolation='nearest', cmap=cmap)\n",
        "    plt.title(title)\n",
        "    plt.colorbar()\n",
        "    tick_marks = np.arange(len(classes))\n",
        "    plt.xticks(tick_marks, classes, rotation=45)\n",
        "    plt.yticks(tick_marks, classes)\n",
        "\n",
        "    fmt = '.2f' if normalize else 'd'\n",
        "    thresh = cm.max() / 2.\n",
        "    for i, j in itertools.product(range(cm.shape[0]), range(cm.shape[1])):\n",
        "        plt.text(j, i, format(cm[i, j], fmt),\n",
        "                 horizontalalignment=\"center\",\n",
        "                 color=\"white\" if cm[i, j] > thresh else \"black\")\n",
        "\n",
        "    plt.tight_layout()\n",
        "    plt.ylabel('True label')\n",
        "    plt.xlabel('Predicted label')\n",
        "    plt.grid(b = 0)\n",
        "\n",
        "## The code for the function plot_confusion_matrix() is attributed to http://scikit-learn.org/stable/auto_examples/model_selection/plot_confusion_matrix.html\n",
        "\n",
        "# 绘制混淆矩阵\n",
        "labels = np.arange(10)\n",
        "plt.figure()\n",
        "plot_confusion_matrix(cm, classes=list(map(str, labels)), title='Confusion matrix, without normalization')\n",
        "plt.figure()\n",
        "plot_confusion_matrix(cm, classes=list(map(str, labels)), normalize=True, title='Normalized confusion matrix')\n"
      ],
      "execution_count": 13,
      "outputs": [
        {
          "output_type": "stream",
          "text": [
            "Confusion matrix, without normalization\n",
            "[[ 964    1    4    0    2    1    3    2    2    1]\n",
            " [   0 1122    4    1    0    0    3    1    4    0]\n",
            " [   3    4 1001    2    5    0    0    5   10    2]\n",
            " [   0    0    7  977    2   10    0    6    4    4]\n",
            " [   1    0    3    1  956    0    3    2    1   15]\n",
            " [   4    2    0   17    2  848    8    0    7    4]\n",
            " [   4    1    2    0    8    7  934    0    2    0]\n",
            " [   1    2    7    3    3    0    0  999    6    7]\n",
            " [   7    0    2    8    1    6    2    2  943    3]\n",
            " [   2    3    0    8    9    0    0    7    4  976]]\n",
            "Normalized confusion matrix\n",
            "[[9.83673469e-01 1.02040816e-03 4.08163265e-03 0.00000000e+00\n",
            "  2.04081633e-03 1.02040816e-03 3.06122449e-03 2.04081633e-03\n",
            "  2.04081633e-03 1.02040816e-03]\n",
            " [0.00000000e+00 9.88546256e-01 3.52422907e-03 8.81057269e-04\n",
            "  0.00000000e+00 0.00000000e+00 2.64317181e-03 8.81057269e-04\n",
            "  3.52422907e-03 0.00000000e+00]\n",
            " [2.90697674e-03 3.87596899e-03 9.69961240e-01 1.93798450e-03\n",
            "  4.84496124e-03 0.00000000e+00 0.00000000e+00 4.84496124e-03\n",
            "  9.68992248e-03 1.93798450e-03]\n",
            " [0.00000000e+00 0.00000000e+00 6.93069307e-03 9.67326733e-01\n",
            "  1.98019802e-03 9.90099010e-03 0.00000000e+00 5.94059406e-03\n",
            "  3.96039604e-03 3.96039604e-03]\n",
            " [1.01832994e-03 0.00000000e+00 3.05498982e-03 1.01832994e-03\n",
            "  9.73523422e-01 0.00000000e+00 3.05498982e-03 2.03665988e-03\n",
            "  1.01832994e-03 1.52749491e-02]\n",
            " [4.48430493e-03 2.24215247e-03 0.00000000e+00 1.90582960e-02\n",
            "  2.24215247e-03 9.50672646e-01 8.96860987e-03 0.00000000e+00\n",
            "  7.84753363e-03 4.48430493e-03]\n",
            " [4.17536534e-03 1.04384134e-03 2.08768267e-03 0.00000000e+00\n",
            "  8.35073069e-03 7.30688935e-03 9.74947808e-01 0.00000000e+00\n",
            "  2.08768267e-03 0.00000000e+00]\n",
            " [9.72762646e-04 1.94552529e-03 6.80933852e-03 2.91828794e-03\n",
            "  2.91828794e-03 0.00000000e+00 0.00000000e+00 9.71789883e-01\n",
            "  5.83657588e-03 6.80933852e-03]\n",
            " [7.18685832e-03 0.00000000e+00 2.05338809e-03 8.21355236e-03\n",
            "  1.02669405e-03 6.16016427e-03 2.05338809e-03 2.05338809e-03\n",
            "  9.68172485e-01 3.08008214e-03]\n",
            " [1.98216056e-03 2.97324083e-03 0.00000000e+00 7.92864222e-03\n",
            "  8.91972250e-03 0.00000000e+00 0.00000000e+00 6.93756194e-03\n",
            "  3.96432111e-03 9.67294351e-01]]\n"
          ],
          "name": "stdout"
        },
        {
          "output_type": "display_data",
          "data": {
            "image/png": "[encoded data removed]",
            "text/plain": [
              "<Figure size 432x288 with 2 Axes>"
            ]
          },
          "metadata": {
            "tags": [],
            "needs_background": "light"
          }
        },
        {
          "output_type": "display_data",
          "data": {
            "image/png": "[encoded data removed]",
            "text/plain": [
              "<Figure size 432x288 with 2 Axes>"
            ]
          },
          "metadata": {
            "tags": [],
            "needs_background": "light"
          }
        }
      ]
    }
  ]
}