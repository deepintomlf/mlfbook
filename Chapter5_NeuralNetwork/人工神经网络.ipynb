{
  "nbformat": 4,
  "nbformat_minor": 0,
  "metadata": {
    "colab": {
      "name": "PracticeSession1_HN.ipynb",
      "provenance": [],
      "collapsed_sections": [
        "G961Oko_PenB",
        "YoldZQgkPr6-",
        "95_nhUhhP3ji",
        "nAxj3de7072f",
        "5wu5oABiQHgn",
        "1aLLvJ5WOK4x"
      ],
      "include_colab_link": true
    },
    "kernelspec": {
      "name": "python3",
      "display_name": "Python 3"
    },
    "accelerator": "GPU"
  },
  "cells": [
    {
      "cell_type": "markdown",
      "metadata": {
        "id": "view-in-github",
        "colab_type": "text"
      },
      "source": [
        "<a href=\"https://colab.research.google.com/github/deepintomlf/mlfbook/blob/master/Chapter5_NeuralNetwork/%E4%BA%BA%E5%B7%A5%E7%A5%9E%E7%BB%8F%E7%BD%91%E7%BB%9C.ipynb\" target=\"_parent\"><img src=\"https://colab.research.google.com/assets/colab-badge.svg\" alt=\"Open In Colab\"/></a>"
      ]
    },
    {
      "cell_type": "markdown",
      "metadata": {
        "id": "0rw0SZOgvciq"
      },
      "source": [
        "\n",
        "# **第五章第二节 – 人工神经网络**\n",
        "这个Jupyter笔记本包含了第五章第二节的所有源代码."
      ]
    },
    {
      "cell_type": "markdown",
      "metadata": {
        "id": "iSAJ064BtXrq"
      },
      "source": [
        "### Implementation"
      ]
    },
    {
      "cell_type": "markdown",
      "metadata": {
        "id": "xWL5dnZItdxU"
      },
      "source": [
        "![alt text](https://docs.google.com/uc?export=download&id=1oWrlu3M05rP8GzEWU23EgTZpDiFj2Mop)\n",
        "\n",
        "\n",
        "\n",
        "*   Input layer ( $h^{0}$): $h^{0}(x) = x$.\n",
        "*  Hidden layer ($\\{h^{l}\\}_{l = 1}^{L-1}$);\n",
        "* Output layer ($h^{L}$).\n",
        "\n",
        "\\begin{eqnarray*}\n",
        "z^{l+1} &=& {\\color{blue}W^{l}} h^{l} + {\\color{blue}b^{l}},\\\\\n",
        "h^{l+1} &=& {\\color{red} \\sigma}(z^{l+1}),\n",
        "\\end{eqnarray*}\n",
        "where ${\\color{red}\\sigma}$ is an* activation function*, which is usually non-linear, e.g. the sigmoid function $\\sigma(x) = \\frac{1}{1+e^{-x}}$. The parameter set ${\\color{blue}\\theta} = (W^{l}, b^{l})_{l =1}^{L}$}.\n"
      ]
    },
    {
      "cell_type": "markdown",
      "metadata": {
        "id": "ClYeClr2vTc7"
      },
      "source": [
        "###ANN Classification###\n",
        "The input $x$ is a multi-dimensional vector; \n",
        "\n",
        "The ouput $y$ is a one-hot respresenation of the class. \n",
        "\n",
        "\n",
        "The number of neurons in the output layer is the total number of classes. \n",
        "\n",
        "The $j^{th}$ neurons in the output layer represents the probability of the output(label) being class $j$.  \n",
        "\n",
        " The **cross entropy **loss function is defined as follows:\n",
        "\n",
        "\\begin{eqnarray*}\n",
        "L(\\theta \\vert \\mathcal{D}) = - \\frac{1}{N}\\sum_{i =1}^{N} \\sum_{k} \\mathbb{1}( y_{i}=\\text{ class }k) \\log(p(y_{i} =\\text{ class }k \\vert x_{i})) \n",
        "\\end{eqnarray*}\n",
        "\n",
        "Note: The cross entropy between two probability distributions $p$ and $q$ is defined as \n",
        "\\begin{eqnarray*}\n",
        "H(p, q) =- \\sum_{x} p(x)\\log(q(x)).\n",
        "\\end{eqnarray*}\n",
        "\n",
        "$L(\\theta \\vert \\mathcal{D}) $ can be reformulated as \n",
        "\n",
        "\\begin{eqnarray*}\n",
        "L(\\theta \\vert \\mathcal{D}) = - \\frac{1}{N} \\langle  y_{i}, \\log(p_{\\theta }(  \\cdot \\vert x_{i})) \\rangle \n",
        "\\end{eqnarray*}\n"
      ]
    },
    {
      "cell_type": "markdown",
      "metadata": {
        "id": "xZBRzRhF_-xI"
      },
      "source": [
        "#Pipelines of Supervised Learning Algorithms# "
      ]
    },
    {
      "cell_type": "markdown",
      "metadata": {
        "id": "7E1pkUGgQHpb"
      },
      "source": [
        "The piplelines of the supervised learning algorithms are summarized as follows:\n",
        "\n",
        "1.   Import Datasets;\n",
        "2.   Take a look at the dataset (Statistical Analysis/Visualization);\n",
        "3.    Pre-process the dataset to prepare for the training process (normalization/reshape data);\n",
        "4.    Train a model;\n",
        "5.    Validate a model;\n",
        "6.    Cross Validation. \n"
      ]
    },
    {
      "cell_type": "markdown",
      "metadata": {
        "id": "X-vM1QWbbRDo"
      },
      "source": [
        "** We will apply the shallow neural network to the MNIST dataset as a concrete example to go through the pipelines of supervised learning algorithm.**"
      ]
    },
    {
      "cell_type": "markdown",
      "metadata": {
        "id": "rcEMqDnp3Ese"
      },
      "source": [
        "Problem: Build an algorithm to identify the digit label from the handwritten image using the MNIST dataset. \n",
        "\n",
        "![alt text](http://corochann.com/wp-content/uploads/2017/02/mnist_plot.png)"
      ]
    },
    {
      "cell_type": "markdown",
      "metadata": {
        "id": "Yo03nFuXWsP2"
      },
      "source": [
        "## **预处理MNIST数据集中的数据**"
      ]
    },
    {
      "cell_type": "code",
      "metadata": {
        "id": "wTvLJzzjA6aB",
        "colab": {
          "base_uri": "https://localhost:8080/"
        },
        "outputId": "beba0aae-0ed4-43a9-8e50-0a27d1abe7f8"
      },
      "source": [
        "import numpy as np\n",
        "from keras.datasets import mnist\n",
        "from tensorflow.keras.utils import to_categorical\n",
        "\n",
        "# 加载MNIST数据集\n",
        "from keras.datasets import mnist\n",
        "(x_mnist_train, y_mnist_train), (x_mnist_test, y_mnist_test) = mnist.load_data()\n",
        "\n",
        "# 将输入图像数据从矩阵转换为向量\n",
        "[n_samples_train, width, height] = np.shape(x_mnist_train)\n",
        "[n_samples_test, width, height] = np.shape(x_mnist_test)\n",
        "x_train = x_mnist_train.reshape([n_samples_train, width*height]).astype('float32')\n",
        "x_test = x_mnist_test.reshape([n_samples_test, width*height]).astype('float32')\n",
        "\n",
        "# 标准化输入数据\n",
        "x_train /= 255\n",
        "x_test /= 255\n",
        "\n",
        "# 将输出的类别由整数编码转换为one-hot编码\n",
        "num_classes = 10    \n",
        "y_train = to_categorical(y_mnist_train, num_classes)\n",
        "y_test = to_categorical(y_mnist_test, num_classes)"
      ],
      "execution_count": 1,
      "outputs": [
        {
          "output_type": "stream",
          "text": [
            "Downloading data from https://storage.googleapis.com/tensorflow/tf-keras-datasets/mnist.npz\n",
            "11493376/11490434 [==============================] - 0s 0us/step\n",
            "11501568/11490434 [==============================] - 0s 0us/step\n"
          ],
          "name": "stdout"
        }
      ]
    },
    {
      "cell_type": "markdown",
      "metadata": {
        "id": "iJekBGxRXYGF"
      },
      "source": [
        "## **使用浅层神经网络进行数字分类**"
      ]
    },
    {
      "cell_type": "code",
      "metadata": {
        "id": "nz0Iu3FuXd0U",
        "colab": {
          "base_uri": "https://localhost:8080/"
        },
        "outputId": "70797580-50e0-4cb2-f8b5-f1a07a664871"
      },
      "source": [
        "import time\n",
        "from tensorflow.keras.models import Sequential\n",
        "from tensorflow.keras.layers import Dense\n",
        "from tensorflow.keras.optimizers import SGD\n",
        "\n",
        "def shallow_NN_model(n_hidden_neurons):\n",
        "    \"\"\" 构建浅层神经网络 \"\"\"\n",
        "    start_time = time.time()\n",
        "    print('Compiling Model ... ')\n",
        "    model = Sequential()\n",
        "    # 添加RelU激活函数的隐藏层\n",
        "    model.add(Dense(n_hidden_neurons, activation='relu', input_dim=784))\n",
        "    # 添加softmax激活函数的输出层\n",
        "    model.add(Dense(10, activation = 'softmax'))\n",
        "    # 这里我们使用Keras中SGD的常用参数设置 \n",
        "    sgd = SGD(learning_rate=0.1, decay=1e-6, momentum=0.9, nesterov=True)\n",
        "    model.compile(loss='categorical_crossentropy', optimizer=sgd, metrics=['accuracy'])\n",
        "    print('Model compield in {0} seconds'.format(time.time() - start_time))\n",
        "    return model\n",
        "\n",
        "# 创建一个模型实例\n",
        "model = shallow_NN_model(n_hidden_neurons=50)\n",
        "\n",
        "# 使用模型拟合数据集\n",
        "hist_ANN = model.fit(x_train, y_train, epochs=100, batch_size=256, validation_data=(x_test, y_test), verbose=2)"
      ],
      "execution_count": 2,
      "outputs": [
        {
          "output_type": "stream",
          "text": [
            "Compiling Model ... \n",
            "Model compield in 5.885834217071533 seconds\n",
            "Epoch 1/100\n",
            "235/235 - 4s - loss: 0.3501 - accuracy: 0.8982 - val_loss: 0.1976 - val_accuracy: 0.9419\n",
            "Epoch 2/100\n",
            "235/235 - 1s - loss: 0.1654 - accuracy: 0.9521 - val_loss: 0.1546 - val_accuracy: 0.9544\n",
            "Epoch 3/100\n",
            "235/235 - 1s - loss: 0.1243 - accuracy: 0.9634 - val_loss: 0.1259 - val_accuracy: 0.9631\n",
            "Epoch 4/100\n",
            "235/235 - 1s - loss: 0.1023 - accuracy: 0.9691 - val_loss: 0.1164 - val_accuracy: 0.9649\n",
            "Epoch 5/100\n",
            "235/235 - 1s - loss: 0.0857 - accuracy: 0.9741 - val_loss: 0.1026 - val_accuracy: 0.9695\n",
            "Epoch 6/100\n",
            "235/235 - 1s - loss: 0.0752 - accuracy: 0.9768 - val_loss: 0.0973 - val_accuracy: 0.9716\n",
            "Epoch 7/100\n",
            "235/235 - 1s - loss: 0.0661 - accuracy: 0.9799 - val_loss: 0.0922 - val_accuracy: 0.9730\n",
            "Epoch 8/100\n",
            "235/235 - 1s - loss: 0.0590 - accuracy: 0.9823 - val_loss: 0.0892 - val_accuracy: 0.9737\n",
            "Epoch 9/100\n",
            "235/235 - 1s - loss: 0.0528 - accuracy: 0.9837 - val_loss: 0.0888 - val_accuracy: 0.9735\n",
            "Epoch 10/100\n",
            "235/235 - 1s - loss: 0.0482 - accuracy: 0.9850 - val_loss: 0.0932 - val_accuracy: 0.9722\n",
            "Epoch 11/100\n",
            "235/235 - 1s - loss: 0.0443 - accuracy: 0.9867 - val_loss: 0.0995 - val_accuracy: 0.9717\n",
            "Epoch 12/100\n",
            "235/235 - 1s - loss: 0.0397 - accuracy: 0.9879 - val_loss: 0.0907 - val_accuracy: 0.9733\n",
            "Epoch 13/100\n",
            "235/235 - 1s - loss: 0.0367 - accuracy: 0.9888 - val_loss: 0.0980 - val_accuracy: 0.9729\n",
            "Epoch 14/100\n",
            "235/235 - 1s - loss: 0.0343 - accuracy: 0.9896 - val_loss: 0.0941 - val_accuracy: 0.9729\n",
            "Epoch 15/100\n",
            "235/235 - 1s - loss: 0.0303 - accuracy: 0.9909 - val_loss: 0.0887 - val_accuracy: 0.9743\n",
            "Epoch 16/100\n",
            "235/235 - 1s - loss: 0.0276 - accuracy: 0.9919 - val_loss: 0.0960 - val_accuracy: 0.9744\n",
            "Epoch 17/100\n",
            "235/235 - 1s - loss: 0.0256 - accuracy: 0.9927 - val_loss: 0.0925 - val_accuracy: 0.9742\n",
            "Epoch 18/100\n",
            "235/235 - 1s - loss: 0.0247 - accuracy: 0.9925 - val_loss: 0.0938 - val_accuracy: 0.9748\n",
            "Epoch 19/100\n",
            "235/235 - 1s - loss: 0.0214 - accuracy: 0.9938 - val_loss: 0.0943 - val_accuracy: 0.9749\n",
            "Epoch 20/100\n",
            "235/235 - 1s - loss: 0.0196 - accuracy: 0.9944 - val_loss: 0.1062 - val_accuracy: 0.9743\n",
            "Epoch 21/100\n",
            "235/235 - 1s - loss: 0.0173 - accuracy: 0.9955 - val_loss: 0.1011 - val_accuracy: 0.9740\n",
            "Epoch 22/100\n",
            "235/235 - 1s - loss: 0.0151 - accuracy: 0.9964 - val_loss: 0.0978 - val_accuracy: 0.9752\n",
            "Epoch 23/100\n",
            "235/235 - 1s - loss: 0.0143 - accuracy: 0.9963 - val_loss: 0.1020 - val_accuracy: 0.9754\n",
            "Epoch 24/100\n",
            "235/235 - 1s - loss: 0.0137 - accuracy: 0.9966 - val_loss: 0.1013 - val_accuracy: 0.9761\n",
            "Epoch 25/100\n",
            "235/235 - 1s - loss: 0.0120 - accuracy: 0.9974 - val_loss: 0.1090 - val_accuracy: 0.9750\n",
            "Epoch 26/100\n",
            "235/235 - 1s - loss: 0.0116 - accuracy: 0.9973 - val_loss: 0.1029 - val_accuracy: 0.9764\n",
            "Epoch 27/100\n",
            "235/235 - 1s - loss: 0.0103 - accuracy: 0.9978 - val_loss: 0.1075 - val_accuracy: 0.9736\n",
            "Epoch 28/100\n",
            "235/235 - 1s - loss: 0.0090 - accuracy: 0.9982 - val_loss: 0.1083 - val_accuracy: 0.9749\n",
            "Epoch 29/100\n",
            "235/235 - 1s - loss: 0.0082 - accuracy: 0.9985 - val_loss: 0.1075 - val_accuracy: 0.9749\n",
            "Epoch 30/100\n",
            "235/235 - 1s - loss: 0.0074 - accuracy: 0.9988 - val_loss: 0.1089 - val_accuracy: 0.9750\n",
            "Epoch 31/100\n",
            "235/235 - 1s - loss: 0.0063 - accuracy: 0.9992 - val_loss: 0.1088 - val_accuracy: 0.9758\n",
            "Epoch 32/100\n",
            "235/235 - 1s - loss: 0.0057 - accuracy: 0.9994 - val_loss: 0.1076 - val_accuracy: 0.9770\n",
            "Epoch 33/100\n",
            "235/235 - 1s - loss: 0.0053 - accuracy: 0.9993 - val_loss: 0.1127 - val_accuracy: 0.9748\n",
            "Epoch 34/100\n",
            "235/235 - 1s - loss: 0.0050 - accuracy: 0.9995 - val_loss: 0.1110 - val_accuracy: 0.9746\n",
            "Epoch 35/100\n",
            "235/235 - 1s - loss: 0.0045 - accuracy: 0.9996 - val_loss: 0.1208 - val_accuracy: 0.9742\n",
            "Epoch 36/100\n",
            "235/235 - 1s - loss: 0.0041 - accuracy: 0.9997 - val_loss: 0.1138 - val_accuracy: 0.9748\n",
            "Epoch 37/100\n",
            "235/235 - 1s - loss: 0.0039 - accuracy: 0.9998 - val_loss: 0.1131 - val_accuracy: 0.9756\n",
            "Epoch 38/100\n",
            "235/235 - 1s - loss: 0.0034 - accuracy: 0.9998 - val_loss: 0.1150 - val_accuracy: 0.9752\n",
            "Epoch 39/100\n",
            "235/235 - 1s - loss: 0.0031 - accuracy: 0.9999 - val_loss: 0.1186 - val_accuracy: 0.9750\n",
            "Epoch 40/100\n",
            "235/235 - 1s - loss: 0.0029 - accuracy: 0.9999 - val_loss: 0.1167 - val_accuracy: 0.9748\n",
            "Epoch 41/100\n",
            "235/235 - 1s - loss: 0.0028 - accuracy: 0.9999 - val_loss: 0.1153 - val_accuracy: 0.9752\n",
            "Epoch 42/100\n",
            "235/235 - 1s - loss: 0.0026 - accuracy: 0.9999 - val_loss: 0.1170 - val_accuracy: 0.9756\n",
            "Epoch 43/100\n",
            "235/235 - 1s - loss: 0.0024 - accuracy: 1.0000 - val_loss: 0.1165 - val_accuracy: 0.9752\n",
            "Epoch 44/100\n",
            "235/235 - 1s - loss: 0.0022 - accuracy: 0.9999 - val_loss: 0.1183 - val_accuracy: 0.9752\n",
            "Epoch 45/100\n",
            "235/235 - 1s - loss: 0.0021 - accuracy: 0.9999 - val_loss: 0.1200 - val_accuracy: 0.9744\n",
            "Epoch 46/100\n",
            "235/235 - 1s - loss: 0.0021 - accuracy: 0.9999 - val_loss: 0.1206 - val_accuracy: 0.9761\n",
            "Epoch 47/100\n",
            "235/235 - 1s - loss: 0.0020 - accuracy: 1.0000 - val_loss: 0.1211 - val_accuracy: 0.9747\n",
            "Epoch 48/100\n",
            "235/235 - 1s - loss: 0.0019 - accuracy: 1.0000 - val_loss: 0.1213 - val_accuracy: 0.9748\n",
            "Epoch 49/100\n",
            "235/235 - 1s - loss: 0.0018 - accuracy: 1.0000 - val_loss: 0.1220 - val_accuracy: 0.9754\n",
            "Epoch 50/100\n",
            "235/235 - 1s - loss: 0.0017 - accuracy: 1.0000 - val_loss: 0.1217 - val_accuracy: 0.9749\n",
            "Epoch 51/100\n",
            "235/235 - 1s - loss: 0.0016 - accuracy: 1.0000 - val_loss: 0.1227 - val_accuracy: 0.9742\n",
            "Epoch 52/100\n",
            "235/235 - 1s - loss: 0.0016 - accuracy: 1.0000 - val_loss: 0.1230 - val_accuracy: 0.9746\n",
            "Epoch 53/100\n",
            "235/235 - 1s - loss: 0.0015 - accuracy: 1.0000 - val_loss: 0.1227 - val_accuracy: 0.9750\n",
            "Epoch 54/100\n",
            "235/235 - 1s - loss: 0.0015 - accuracy: 1.0000 - val_loss: 0.1230 - val_accuracy: 0.9751\n",
            "Epoch 55/100\n",
            "235/235 - 1s - loss: 0.0014 - accuracy: 1.0000 - val_loss: 0.1230 - val_accuracy: 0.9753\n",
            "Epoch 56/100\n",
            "235/235 - 1s - loss: 0.0014 - accuracy: 1.0000 - val_loss: 0.1252 - val_accuracy: 0.9747\n",
            "Epoch 57/100\n",
            "235/235 - 1s - loss: 0.0014 - accuracy: 1.0000 - val_loss: 0.1262 - val_accuracy: 0.9756\n",
            "Epoch 58/100\n",
            "235/235 - 1s - loss: 0.0013 - accuracy: 1.0000 - val_loss: 0.1265 - val_accuracy: 0.9745\n",
            "Epoch 59/100\n",
            "235/235 - 1s - loss: 0.0013 - accuracy: 1.0000 - val_loss: 0.1266 - val_accuracy: 0.9751\n",
            "Epoch 60/100\n",
            "235/235 - 1s - loss: 0.0012 - accuracy: 1.0000 - val_loss: 0.1266 - val_accuracy: 0.9755\n",
            "Epoch 61/100\n",
            "235/235 - 1s - loss: 0.0012 - accuracy: 1.0000 - val_loss: 0.1287 - val_accuracy: 0.9750\n",
            "Epoch 62/100\n",
            "235/235 - 1s - loss: 0.0012 - accuracy: 1.0000 - val_loss: 0.1279 - val_accuracy: 0.9744\n",
            "Epoch 63/100\n",
            "235/235 - 1s - loss: 0.0012 - accuracy: 1.0000 - val_loss: 0.1281 - val_accuracy: 0.9752\n",
            "Epoch 64/100\n",
            "235/235 - 1s - loss: 0.0011 - accuracy: 1.0000 - val_loss: 0.1286 - val_accuracy: 0.9752\n",
            "Epoch 65/100\n",
            "235/235 - 1s - loss: 0.0011 - accuracy: 1.0000 - val_loss: 0.1301 - val_accuracy: 0.9748\n",
            "Epoch 66/100\n",
            "235/235 - 1s - loss: 0.0011 - accuracy: 1.0000 - val_loss: 0.1298 - val_accuracy: 0.9755\n",
            "Epoch 67/100\n",
            "235/235 - 1s - loss: 0.0010 - accuracy: 1.0000 - val_loss: 0.1303 - val_accuracy: 0.9744\n",
            "Epoch 68/100\n",
            "235/235 - 1s - loss: 0.0010 - accuracy: 1.0000 - val_loss: 0.1305 - val_accuracy: 0.9748\n",
            "Epoch 69/100\n",
            "235/235 - 1s - loss: 9.7992e-04 - accuracy: 1.0000 - val_loss: 0.1315 - val_accuracy: 0.9745\n",
            "Epoch 70/100\n",
            "235/235 - 1s - loss: 9.6685e-04 - accuracy: 1.0000 - val_loss: 0.1312 - val_accuracy: 0.9754\n",
            "Epoch 71/100\n",
            "235/235 - 1s - loss: 9.3959e-04 - accuracy: 1.0000 - val_loss: 0.1321 - val_accuracy: 0.9751\n",
            "Epoch 72/100\n",
            "235/235 - 1s - loss: 9.2628e-04 - accuracy: 1.0000 - val_loss: 0.1321 - val_accuracy: 0.9744\n",
            "Epoch 73/100\n",
            "235/235 - 1s - loss: 9.0726e-04 - accuracy: 1.0000 - val_loss: 0.1320 - val_accuracy: 0.9754\n",
            "Epoch 74/100\n",
            "235/235 - 1s - loss: 8.8974e-04 - accuracy: 1.0000 - val_loss: 0.1329 - val_accuracy: 0.9749\n",
            "Epoch 75/100\n",
            "235/235 - 1s - loss: 8.6445e-04 - accuracy: 1.0000 - val_loss: 0.1333 - val_accuracy: 0.9749\n",
            "Epoch 76/100\n",
            "235/235 - 1s - loss: 8.5360e-04 - accuracy: 1.0000 - val_loss: 0.1334 - val_accuracy: 0.9748\n",
            "Epoch 77/100\n",
            "235/235 - 1s - loss: 8.2941e-04 - accuracy: 1.0000 - val_loss: 0.1333 - val_accuracy: 0.9745\n",
            "Epoch 78/100\n",
            "235/235 - 1s - loss: 8.1475e-04 - accuracy: 1.0000 - val_loss: 0.1340 - val_accuracy: 0.9752\n",
            "Epoch 79/100\n",
            "235/235 - 1s - loss: 8.0299e-04 - accuracy: 1.0000 - val_loss: 0.1348 - val_accuracy: 0.9748\n",
            "Epoch 80/100\n",
            "235/235 - 1s - loss: 7.8943e-04 - accuracy: 1.0000 - val_loss: 0.1346 - val_accuracy: 0.9751\n",
            "Epoch 81/100\n",
            "235/235 - 1s - loss: 7.6635e-04 - accuracy: 1.0000 - val_loss: 0.1347 - val_accuracy: 0.9755\n",
            "Epoch 82/100\n",
            "235/235 - 1s - loss: 7.5868e-04 - accuracy: 1.0000 - val_loss: 0.1354 - val_accuracy: 0.9750\n",
            "Epoch 83/100\n",
            "235/235 - 1s - loss: 7.4034e-04 - accuracy: 1.0000 - val_loss: 0.1366 - val_accuracy: 0.9748\n",
            "Epoch 84/100\n",
            "235/235 - 1s - loss: 7.3264e-04 - accuracy: 1.0000 - val_loss: 0.1352 - val_accuracy: 0.9751\n",
            "Epoch 85/100\n",
            "235/235 - 1s - loss: 7.1905e-04 - accuracy: 1.0000 - val_loss: 0.1372 - val_accuracy: 0.9750\n",
            "Epoch 86/100\n",
            "235/235 - 1s - loss: 7.0741e-04 - accuracy: 1.0000 - val_loss: 0.1366 - val_accuracy: 0.9749\n",
            "Epoch 87/100\n",
            "235/235 - 1s - loss: 6.8957e-04 - accuracy: 1.0000 - val_loss: 0.1367 - val_accuracy: 0.9750\n",
            "Epoch 88/100\n",
            "235/235 - 1s - loss: 6.8160e-04 - accuracy: 1.0000 - val_loss: 0.1373 - val_accuracy: 0.9751\n",
            "Epoch 89/100\n",
            "235/235 - 1s - loss: 6.7625e-04 - accuracy: 1.0000 - val_loss: 0.1377 - val_accuracy: 0.9746\n",
            "Epoch 90/100\n",
            "235/235 - 1s - loss: 6.5775e-04 - accuracy: 1.0000 - val_loss: 0.1374 - val_accuracy: 0.9746\n",
            "Epoch 91/100\n",
            "235/235 - 1s - loss: 6.5267e-04 - accuracy: 1.0000 - val_loss: 0.1381 - val_accuracy: 0.9750\n",
            "Epoch 92/100\n",
            "235/235 - 1s - loss: 6.4661e-04 - accuracy: 1.0000 - val_loss: 0.1382 - val_accuracy: 0.9752\n",
            "Epoch 93/100\n",
            "235/235 - 1s - loss: 6.3320e-04 - accuracy: 1.0000 - val_loss: 0.1390 - val_accuracy: 0.9753\n",
            "Epoch 94/100\n",
            "235/235 - 1s - loss: 6.2303e-04 - accuracy: 1.0000 - val_loss: 0.1385 - val_accuracy: 0.9750\n",
            "Epoch 95/100\n",
            "235/235 - 1s - loss: 6.1005e-04 - accuracy: 1.0000 - val_loss: 0.1388 - val_accuracy: 0.9748\n",
            "Epoch 96/100\n",
            "235/235 - 1s - loss: 6.0582e-04 - accuracy: 1.0000 - val_loss: 0.1393 - val_accuracy: 0.9744\n",
            "Epoch 97/100\n",
            "235/235 - 1s - loss: 5.9713e-04 - accuracy: 1.0000 - val_loss: 0.1392 - val_accuracy: 0.9748\n",
            "Epoch 98/100\n",
            "235/235 - 1s - loss: 5.9195e-04 - accuracy: 1.0000 - val_loss: 0.1400 - val_accuracy: 0.9748\n",
            "Epoch 99/100\n",
            "235/235 - 1s - loss: 5.7993e-04 - accuracy: 1.0000 - val_loss: 0.1404 - val_accuracy: 0.9746\n",
            "Epoch 100/100\n",
            "235/235 - 1s - loss: 5.6911e-04 - accuracy: 1.0000 - val_loss: 0.1406 - val_accuracy: 0.9747\n"
          ],
          "name": "stdout"
        }
      ]
    },
    {
      "cell_type": "markdown",
      "metadata": {
        "id": "rvDDuUlHlkRR"
      },
      "source": [
        "## **绘制模型训练历史**"
      ]
    },
    {
      "cell_type": "code",
      "metadata": {
        "id": "VTfxkBQslgC7"
      },
      "source": [
        "import matplotlib.pyplot as plt\n",
        "\n",
        "# Define functions to plot the loss and accuracy\n",
        "def plot_hist_var(hist, str_var):\n",
        "  \"\"\" 绘制模型的损失函数或准确率 \"\"\"\n",
        "  plt.figure()\n",
        "  plt.plot(hist.history[str_var], 'b', linewidth=1.5)\n",
        "  plt.plot(hist.history['val_'+str_var], 'r', linewidth=1.5)\n",
        "  plt.legend(['Training set','Testing set'])\n",
        "  plt.xlabel('Epochs')\n",
        "  plt.ylabel(str_var[0].upper()+str_var[1:])\n"
      ],
      "execution_count": 3,
      "outputs": []
    },
    {
      "cell_type": "code",
      "metadata": {
        "id": "iKKvaGxS3jYX",
        "colab": {
          "base_uri": "https://localhost:8080/",
          "height": 541
        },
        "outputId": "c50ed298-c54d-4d28-b8a4-4e0b4cecd84a"
      },
      "source": [
        "# 绘制模型在训练集和测试集上的损失函数和准确率\n",
        "plot_hist_var(hist_ANN, 'loss')\n",
        "plot_hist_var(hist_ANN, 'accuracy')"
      ],
      "execution_count": 4,
      "outputs": [
        {
          "output_type": "display_data",
          "data": {
            "image/png": "[encoded data removed]",
            "text/plain": [
              "<Figure size 432x288 with 1 Axes>"
            ]
          },
          "metadata": {
            "needs_background": "light"
          }
        },
        {
          "output_type": "display_data",
          "data": {
            "image/png": "[encoded data removed]",
            "text/plain": [
              "<Figure size 432x288 with 1 Axes>"
            ]
          },
          "metadata": {
            "needs_background": "light"
          }
        }
      ]
    },
    {
      "cell_type": "markdown",
      "metadata": {
        "id": "fTnx4Ke0-5wx"
      },
      "source": [
        "## **Assess the performance of a fitted model**\n"
      ]
    },
    {
      "cell_type": "markdown",
      "metadata": {
        "id": "OW3ed_QJ0oNi"
      },
      "source": [
        "There are various measurements of the performance of the fitted models in classification problems.\n",
        "*   Loss function and the accuracy;\n",
        "*   Confusion matrix. "
      ]
    },
    {
      "cell_type": "code",
      "metadata": {
        "id": "JfACgwxC-45m",
        "colab": {
          "base_uri": "https://localhost:8080/"
        },
        "outputId": "17ab05c0-6fd5-4031-9011-6a143c55ad34"
      },
      "source": [
        "score =  model.evaluate(x_test, y_test)\n",
        "print(model.metrics_names)\n",
        "print('Test ' + model.metrics_names[0] , score[0])\n",
        "print('Test '+ model.metrics_names[1] , score[1])"
      ],
      "execution_count": 5,
      "outputs": [
        {
          "output_type": "stream",
          "text": [
            "313/313 [==============================] - 1s 3ms/step - loss: 0.1406 - accuracy: 0.9747\n",
            "['loss', 'accuracy']\n",
            "Test loss 0.14057685434818268\n",
            "Test accuracy 0.9746999740600586\n"
          ],
          "name": "stdout"
        }
      ]
    },
    {
      "cell_type": "code",
      "metadata": {
        "id": "TVKmyfeG5_gS",
        "colab": {
          "base_uri": "https://localhost:8080/"
        },
        "outputId": "e5e0072f-ef5d-4e2c-a93d-45b7502ab691"
      },
      "source": [
        "from sklearn.metrics import confusion_matrix\n",
        "\n",
        "Y_test_prob_pred = model.predict(x_test)\n",
        "Y_test_class_pred = np.argmax(model.predict(x_test), axis=-1)\n",
        "print(Y_test_class_pred)\n",
        "cm = confusion_matrix( y_mnist_test, Y_test_class_pred )\n"
      ],
      "execution_count": 6,
      "outputs": [
        {
          "output_type": "stream",
          "text": [
            "[7 2 1 ... 4 5 6]\n"
          ],
          "name": "stdout"
        }
      ]
    },
    {
      "cell_type": "code",
      "metadata": {
        "id": "jnmn95ei2zrD",
        "colab": {
          "base_uri": "https://localhost:8080/",
          "height": 1000
        },
        "outputId": "9ba770a5-b0e2-48fe-8e97-ca8ee3bc6d5c"
      },
      "source": [
        "import itertools  \n",
        "def plot_confusion_matrix(cm, classes,\n",
        "                          normalize=False,\n",
        "                          title='Confusion matrix',\n",
        "                          cmap=plt.cm.Blues):\n",
        "    \"\"\"\n",
        "    This function prints and plots the confusion matrix.\n",
        "    Normalization can be applied by setting `normalize=True`.\n",
        "    \"\"\"\n",
        "    if normalize:\n",
        "        cm = cm.astype('float') / cm.sum(axis=1)[:, np.newaxis]\n",
        "        print(\"Normalized confusion matrix\")\n",
        "    else:\n",
        "        print('Confusion matrix, without normalization')\n",
        "\n",
        "    print(cm)\n",
        "\n",
        "    plt.imshow(cm, interpolation='nearest', cmap=cmap)\n",
        "    plt.title(title)\n",
        "    plt.colorbar()\n",
        "    tick_marks = np.arange(len(classes))\n",
        "    plt.xticks(tick_marks, classes, rotation=45)\n",
        "    plt.yticks(tick_marks, classes)\n",
        "\n",
        "    fmt = '.2f' if normalize else 'd'\n",
        "    thresh = cm.max() / 2.\n",
        "    for i, j in itertools.product(range(cm.shape[0]), range(cm.shape[1])):\n",
        "        plt.text(j, i, format(cm[i, j], fmt),\n",
        "                 horizontalalignment=\"center\",\n",
        "                 color=\"white\" if cm[i, j] > thresh else \"black\")\n",
        "\n",
        "    plt.tight_layout()\n",
        "    plt.ylabel('True label')\n",
        "    plt.xlabel('Predicted label')\n",
        "    plt.grid(b = 0)\n",
        "\n",
        "## The code for the function plot_confusion_matrix() is attributed to http://scikit-learn.org/stable/auto_examples/model_selection/plot_confusion_matrix.html\n",
        "\n",
        "# 绘制混淆矩阵\n",
        "labels = np.arange(10)\n",
        "plt.figure()\n",
        "plot_confusion_matrix(cm, classes=list(map(str, labels)), title='Confusion matrix, without normalization')\n",
        "plt.figure()\n",
        "plot_confusion_matrix(cm, classes=list(map(str, labels)), normalize=True, title='Normalized confusion matrix')\n"
      ],
      "execution_count": 7,
      "outputs": [
        {
          "output_type": "stream",
          "text": [
            "Confusion matrix, without normalization\n",
            "[[ 970    0    2    2    1    1    1    1    2    0]\n",
            " [   0 1123    3    2    0    1    2    1    3    0]\n",
            " [   2    4 1001    5    4    0    2    8    5    1]\n",
            " [   1    0    7  977    1    9    1    3    5    6]\n",
            " [   2    0    2    0  956    0    4    2    1   15]\n",
            " [   3    1    1    9    1  862    7    2    3    3]\n",
            " [   4    3    0    1    4    5  940    0    1    0]\n",
            " [   0    2   12    2    4    1    0  999    3    5]\n",
            " [   8    3    2    7    2    4    1    2  942    3]\n",
            " [   1    3    0    6   11    5    0    3    3  977]]\n",
            "Normalized confusion matrix\n",
            "[[9.89795918e-01 0.00000000e+00 2.04081633e-03 2.04081633e-03\n",
            "  1.02040816e-03 1.02040816e-03 1.02040816e-03 1.02040816e-03\n",
            "  2.04081633e-03 0.00000000e+00]\n",
            " [0.00000000e+00 9.89427313e-01 2.64317181e-03 1.76211454e-03\n",
            "  0.00000000e+00 8.81057269e-04 1.76211454e-03 8.81057269e-04\n",
            "  2.64317181e-03 0.00000000e+00]\n",
            " [1.93798450e-03 3.87596899e-03 9.69961240e-01 4.84496124e-03\n",
            "  3.87596899e-03 0.00000000e+00 1.93798450e-03 7.75193798e-03\n",
            "  4.84496124e-03 9.68992248e-04]\n",
            " [9.90099010e-04 0.00000000e+00 6.93069307e-03 9.67326733e-01\n",
            "  9.90099010e-04 8.91089109e-03 9.90099010e-04 2.97029703e-03\n",
            "  4.95049505e-03 5.94059406e-03]\n",
            " [2.03665988e-03 0.00000000e+00 2.03665988e-03 0.00000000e+00\n",
            "  9.73523422e-01 0.00000000e+00 4.07331976e-03 2.03665988e-03\n",
            "  1.01832994e-03 1.52749491e-02]\n",
            " [3.36322870e-03 1.12107623e-03 1.12107623e-03 1.00896861e-02\n",
            "  1.12107623e-03 9.66367713e-01 7.84753363e-03 2.24215247e-03\n",
            "  3.36322870e-03 3.36322870e-03]\n",
            " [4.17536534e-03 3.13152401e-03 0.00000000e+00 1.04384134e-03\n",
            "  4.17536534e-03 5.21920668e-03 9.81210856e-01 0.00000000e+00\n",
            "  1.04384134e-03 0.00000000e+00]\n",
            " [0.00000000e+00 1.94552529e-03 1.16731518e-02 1.94552529e-03\n",
            "  3.89105058e-03 9.72762646e-04 0.00000000e+00 9.71789883e-01\n",
            "  2.91828794e-03 4.86381323e-03]\n",
            " [8.21355236e-03 3.08008214e-03 2.05338809e-03 7.18685832e-03\n",
            "  2.05338809e-03 4.10677618e-03 1.02669405e-03 2.05338809e-03\n",
            "  9.67145791e-01 3.08008214e-03]\n",
            " [9.91080278e-04 2.97324083e-03 0.00000000e+00 5.94648167e-03\n",
            "  1.09018831e-02 4.95540139e-03 0.00000000e+00 2.97324083e-03\n",
            "  2.97324083e-03 9.68285431e-01]]\n"
          ],
          "name": "stdout"
        },
        {
          "output_type": "display_data",
          "data": {
            "image/png": "[encoded data removed]",
            "text/plain": [
              "<Figure size 432x288 with 2 Axes>"
            ]
          },
          "metadata": {
            "needs_background": "light"
          }
        },
        {
          "output_type": "display_data",
          "data": {
            "image/png": "[encoded data removed]",
            "text/plain": [
              "<Figure size 432x288 with 2 Axes>"
            ]
          },
          "metadata": {
            "needs_background": "light"
          }
        }
      ]
    }
  ]
}