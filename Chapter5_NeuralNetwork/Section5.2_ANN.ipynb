{
  "nbformat": 4,
  "nbformat_minor": 0,
  "metadata": {
    "colab": {
      "name": "PracticeSession1_HN.ipynb",
      "version": "0.3.2",
      "provenance": [],
      "collapsed_sections": [
        "G961Oko_PenB",
        "YoldZQgkPr6-",
        "95_nhUhhP3ji",
        "nAxj3de7072f",
        "5wu5oABiQHgn",
        "1aLLvJ5WOK4x"
      ],
      "include_colab_link": true
    },
    "kernelspec": {
      "name": "python3",
      "display_name": "Python 3"
    },
    "accelerator": "GPU"
  },
  "cells": [
    {
      "cell_type": "markdown",
      "metadata": {
        "id": "view-in-github",
        "colab_type": "text"
      },
      "source": [
        "<a href=\"https://colab.research.google.com/github/deepintomlf/mlfbook/blob/master/Chapter5_NeuralNetwork/Section5.2_ANN.ipynb\" target=\"_parent\"><img src=\"https://colab.research.google.com/assets/colab-badge.svg\" alt=\"Open In Colab\"/></a>"
      ]
    },
    {
      "cell_type": "markdown",
      "metadata": {
        "id": "0rw0SZOgvciq",
        "colab_type": "text"
      },
      "source": [
        "\n",
        "# **Section 5.2 – Artificial Neural Network**\n",
        "This notebook contains all demo codes in Section 5.2."
      ]
    },
    {
      "cell_type": "markdown",
      "metadata": {
        "id": "iSAJ064BtXrq",
        "colab_type": "text"
      },
      "source": [
        "### Implementation"
      ]
    },
    {
      "cell_type": "markdown",
      "metadata": {
        "id": "xWL5dnZItdxU",
        "colab_type": "text"
      },
      "source": [
        "![alt text](https://docs.google.com/uc?export=download&id=1oWrlu3M05rP8GzEWU23EgTZpDiFj2Mop)\n",
        "\n",
        "\n",
        "\n",
        "*   Input layer ( $h^{0}$): $h^{0}(x) = x$.\n",
        "*  Hidden layer ($\\{h^{l}\\}_{l = 1}^{L-1}$);\n",
        "* Output layer ($h^{L}$).\n",
        "\n",
        "\\begin{eqnarray*}\n",
        "z^{l+1} &=& {\\color{blue}W^{l}} h^{l} + {\\color{blue}b^{l}},\\\\\n",
        "h^{l+1} &=& {\\color{red} \\sigma}(z^{l+1}),\n",
        "\\end{eqnarray*}\n",
        "where ${\\color{red}\\sigma}$ is an* activation function*, which is usually non-linear, e.g. the sigmoid function $\\sigma(x) = \\frac{1}{1+e^{-x}}$. The parameter set ${\\color{blue}\\theta} = (W^{l}, b^{l})_{l =1}^{L}$}.\n"
      ]
    },
    {
      "cell_type": "markdown",
      "metadata": {
        "id": "ClYeClr2vTc7",
        "colab_type": "text"
      },
      "source": [
        "###ANN Classification###\n",
        "The input $x$ is a multi-dimensional vector; \n",
        "\n",
        "The ouput $y$ is a one-hot respresenation of the class. \n",
        "\n",
        "\n",
        "The number of neurons in the output layer is the total number of classes. \n",
        "\n",
        "The $j^{th}$ neurons in the output layer represents the probability of the output(label) being class $j$.  \n",
        "\n",
        " The **cross entropy **loss function is defined as follows:\n",
        "\n",
        "\\begin{eqnarray*}\n",
        "L(\\theta \\vert \\mathcal{D}) = - \\frac{1}{N}\\sum_{i =1}^{N} \\sum_{k} \\mathbb{1}( y_{i}=\\text{ class }k) \\log(p(y_{i} =\\text{ class }k \\vert x_{i})) \n",
        "\\end{eqnarray*}\n",
        "\n",
        "Note: The cross entropy between two probability distributions $p$ and $q$ is defined as \n",
        "\\begin{eqnarray*}\n",
        "H(p, q) =- \\sum_{x} p(x)\\log(q(x)).\n",
        "\\end{eqnarray*}\n",
        "\n",
        "$L(\\theta \\vert \\mathcal{D}) $ can be reformulated as \n",
        "\n",
        "\\begin{eqnarray*}\n",
        "L(\\theta \\vert \\mathcal{D}) = - \\frac{1}{N} \\langle  y_{i}, \\log(p_{\\theta }(  \\cdot \\vert x_{i})) \\rangle \n",
        "\\end{eqnarray*}\n"
      ]
    },
    {
      "cell_type": "markdown",
      "metadata": {
        "id": "xZBRzRhF_-xI",
        "colab_type": "text"
      },
      "source": [
        "#Pipelines of Supervised Learning Algorithms# "
      ]
    },
    {
      "cell_type": "markdown",
      "metadata": {
        "id": "7E1pkUGgQHpb",
        "colab_type": "text"
      },
      "source": [
        "The piplelines of the supervised learning algorithms are summarized as follows:\n",
        "\n",
        "1.   Import Datasets;\n",
        "2.   Take a look at the dataset (Statistical Analysis/Visualization);\n",
        "3.    Pre-process the dataset to prepare for the training process (normalization/reshape data);\n",
        "4.    Train a model;\n",
        "5.    Validate a model;\n",
        "6.    Cross Validation. \n"
      ]
    },
    {
      "cell_type": "markdown",
      "metadata": {
        "id": "X-vM1QWbbRDo",
        "colab_type": "text"
      },
      "source": [
        "** We will apply the shallow neural network to the MNIST dataset as a concrete example to go through the pipelines of supervised learning algorithm.**"
      ]
    },
    {
      "cell_type": "markdown",
      "metadata": {
        "id": "rcEMqDnp3Ese",
        "colab_type": "text"
      },
      "source": [
        "Problem: Build an algorithm to identify the digit label from the handwritten image using the MNIST dataset. \n",
        "\n",
        "![alt text](http://corochann.com/wp-content/uploads/2017/02/mnist_plot.png)"
      ]
    },
    {
      "cell_type": "markdown",
      "metadata": {
        "id": "Yo03nFuXWsP2",
        "colab_type": "text"
      },
      "source": [
        "## **Pre-process MNIST Dataset**"
      ]
    },
    {
      "cell_type": "code",
      "metadata": {
        "id": "wTvLJzzjA6aB",
        "colab_type": "code",
        "outputId": "e38a568c-dde9-47f6-e864-3fb5c9d84dc5",
        "colab": {
          "base_uri": "https://localhost:8080/",
          "height": 68
        }
      },
      "source": [
        "import numpy as np\n",
        "from keras.datasets import mnist\n",
        "from keras.utils import to_categorical\n",
        "\n",
        "# Import MNIST dataset\n",
        "(x_mnist_train, y_mnist_train), (x_mnist_test, y_mnist_test) = mnist.load_data()\n",
        "\n",
        "# Reshape input image data from matrixs to vectors\n",
        "[n_samples_train, width, height] = np.shape(x_mnist_train)\n",
        "[n_samples_test, width, height] = np.shape(x_mnist_test)\n",
        "x_train = x_mnist_train.reshape([n_samples_train, width*height]).astype('float32')\n",
        "x_test = x_mnist_test.reshape([n_samples_test, width*height]).astype('float32')\n",
        "\n",
        "# Normalize the dataset\n",
        "x_train /= np.amax(x_train)\n",
        "x_test /= np.amax(x_train)\n",
        "\n",
        "# Convert class vectors to one-hot vector matrices\n",
        "num_classes = 10    \n",
        "y_train = to_categorical(y_mnist_train, num_classes)\n",
        "y_test = to_categorical(y_mnist_test, num_classes)"
      ],
      "execution_count": 0,
      "outputs": [
        {
          "output_type": "stream",
          "text": [
            "Using TensorFlow backend.\n"
          ],
          "name": "stderr"
        },
        {
          "output_type": "stream",
          "text": [
            "Downloading data from https://s3.amazonaws.com/img-datasets/mnist.npz\n",
            "11493376/11490434 [==============================] - 0s 0us/step\n"
          ],
          "name": "stdout"
        }
      ]
    },
    {
      "cell_type": "markdown",
      "metadata": {
        "id": "iJekBGxRXYGF",
        "colab_type": "text"
      },
      "source": [
        "## **Implement ANN for Digit Classification**"
      ]
    },
    {
      "cell_type": "code",
      "metadata": {
        "id": "nz0Iu3FuXd0U",
        "colab_type": "code",
        "outputId": "a08233c9-ebe7-4bf8-933e-fe3754522cfb",
        "colab": {
          "base_uri": "https://localhost:8080/",
          "height": 3570
        }
      },
      "source": [
        "import time\n",
        "from keras.models import Sequential\n",
        "from keras.layers.core import Dense\n",
        "from keras.optimizers import SGD\n",
        "\n",
        "def shallow_NN_model(n_hidden_neurons):\n",
        "    start_time = time.time()\n",
        "    print('Compiling Model ... ')\n",
        "    model = Sequential()\n",
        "    # Add a hidden layer with ReLU activation function\n",
        "    model.add(Dense(n_hidden_neurons, activation='relu', input_dim=784))\n",
        "    # Add an output layer with softmax activation function for multi-classification problem\n",
        "    model.add(Dense(10, activation = 'softmax'))\n",
        "    sgd = SGD(lr=0.1, decay=1e-6, momentum=0.9, nesterov=True)\n",
        "    model.compile(loss='categorical_crossentropy', optimizer=sgd, metrics=['accuracy'])\n",
        "    print('Model compield in {0} seconds'.format(time.time() - start_time))\n",
        "    return model\n",
        "    \n",
        "epochs = 100\n",
        "batch  = 256\n",
        "n_hidden_neurons = 50\n",
        "model = shallow_NN_model(n_hidden_neurons)\n",
        "hist_ANN = model.fit(x_train, y_train, epochs=epochs, batch_size=batch, validation_data=(x_test, y_test), verbose=2)"
      ],
      "execution_count": 0,
      "outputs": [
        {
          "output_type": "stream",
          "text": [
            "Compiling Model ... \n",
            "WARNING:tensorflow:From /usr/local/lib/python3.6/dist-packages/tensorflow/python/framework/op_def_library.py:263: colocate_with (from tensorflow.python.framework.ops) is deprecated and will be removed in a future version.\n",
            "Instructions for updating:\n",
            "Colocations handled automatically by placer.\n",
            "Model compield in 0.10717105865478516 seconds\n",
            "WARNING:tensorflow:From /usr/local/lib/python3.6/dist-packages/tensorflow/python/ops/math_ops.py:3066: to_int32 (from tensorflow.python.ops.math_ops) is deprecated and will be removed in a future version.\n",
            "Instructions for updating:\n",
            "Use tf.cast instead.\n",
            "Train on 60000 samples, validate on 10000 samples\n",
            "Epoch 1/100\n",
            " - 5s - loss: 0.3563 - acc: 0.8958 - val_loss: 1.0802 - val_acc: 0.9317\n",
            "Epoch 2/100\n",
            " - 2s - loss: 0.1666 - acc: 0.9519 - val_loss: 0.6837 - val_acc: 0.9574\n",
            "Epoch 3/100\n",
            " - 2s - loss: 0.1222 - acc: 0.9641 - val_loss: 0.6705 - val_acc: 0.9581\n",
            "Epoch 4/100\n",
            " - 2s - loss: 0.1002 - acc: 0.9701 - val_loss: 0.5921 - val_acc: 0.9625\n",
            "Epoch 5/100\n",
            " - 2s - loss: 0.0857 - acc: 0.9739 - val_loss: 0.6678 - val_acc: 0.9576\n",
            "Epoch 6/100\n",
            " - 2s - loss: 0.0745 - acc: 0.9770 - val_loss: 0.5529 - val_acc: 0.9654\n",
            "Epoch 7/100\n",
            " - 2s - loss: 0.0668 - acc: 0.9796 - val_loss: 0.4934 - val_acc: 0.9690\n",
            "Epoch 8/100\n",
            " - 2s - loss: 0.0602 - acc: 0.9818 - val_loss: 0.4958 - val_acc: 0.9688\n",
            "Epoch 9/100\n",
            " - 2s - loss: 0.0546 - acc: 0.9833 - val_loss: 0.5111 - val_acc: 0.9678\n",
            "Epoch 10/100\n",
            " - 2s - loss: 0.0487 - acc: 0.9852 - val_loss: 0.5267 - val_acc: 0.9669\n",
            "Epoch 11/100\n",
            " - 2s - loss: 0.0448 - acc: 0.9862 - val_loss: 0.4934 - val_acc: 0.9690\n",
            "Epoch 12/100\n",
            " - 2s - loss: 0.0412 - acc: 0.9873 - val_loss: 0.5385 - val_acc: 0.9663\n",
            "Epoch 13/100\n",
            " - 2s - loss: 0.0384 - acc: 0.9880 - val_loss: 0.5344 - val_acc: 0.9664\n",
            "Epoch 14/100\n",
            " - 2s - loss: 0.0345 - acc: 0.9895 - val_loss: 0.5513 - val_acc: 0.9656\n",
            "Epoch 15/100\n",
            " - 2s - loss: 0.0315 - acc: 0.9904 - val_loss: 0.5836 - val_acc: 0.9636\n",
            "Epoch 16/100\n",
            " - 2s - loss: 0.0298 - acc: 0.9911 - val_loss: 0.4905 - val_acc: 0.9693\n",
            "Epoch 17/100\n",
            " - 2s - loss: 0.0271 - acc: 0.9920 - val_loss: 0.5211 - val_acc: 0.9674\n",
            "Epoch 18/100\n",
            " - 2s - loss: 0.0248 - acc: 0.9928 - val_loss: 0.5039 - val_acc: 0.9683\n",
            "Epoch 19/100\n",
            " - 2s - loss: 0.0219 - acc: 0.9938 - val_loss: 0.5609 - val_acc: 0.9650\n",
            "Epoch 20/100\n",
            " - 2s - loss: 0.0208 - acc: 0.9939 - val_loss: 0.5623 - val_acc: 0.9649\n",
            "Epoch 21/100\n",
            " - 2s - loss: 0.0193 - acc: 0.9946 - val_loss: 0.5333 - val_acc: 0.9667\n",
            "Epoch 22/100\n",
            " - 2s - loss: 0.0167 - acc: 0.9956 - val_loss: 0.5852 - val_acc: 0.9635\n",
            "Epoch 23/100\n",
            " - 2s - loss: 0.0155 - acc: 0.9960 - val_loss: 0.5504 - val_acc: 0.9656\n",
            "Epoch 24/100\n",
            " - 2s - loss: 0.0141 - acc: 0.9965 - val_loss: 0.4942 - val_acc: 0.9690\n",
            "Epoch 25/100\n",
            " - 2s - loss: 0.0130 - acc: 0.9970 - val_loss: 0.5068 - val_acc: 0.9681\n",
            "Epoch 26/100\n",
            " - 2s - loss: 0.0122 - acc: 0.9974 - val_loss: 0.4993 - val_acc: 0.9689\n",
            "Epoch 27/100\n",
            " - 2s - loss: 0.0106 - acc: 0.9976 - val_loss: 0.5977 - val_acc: 0.9625\n",
            "Epoch 28/100\n",
            " - 2s - loss: 0.0096 - acc: 0.9982 - val_loss: 0.5035 - val_acc: 0.9687\n",
            "Epoch 29/100\n",
            " - 2s - loss: 0.0084 - acc: 0.9984 - val_loss: 0.5290 - val_acc: 0.9668\n",
            "Epoch 30/100\n",
            " - 2s - loss: 0.0078 - acc: 0.9987 - val_loss: 0.5735 - val_acc: 0.9643\n",
            "Epoch 31/100\n",
            " - 2s - loss: 0.0072 - acc: 0.9990 - val_loss: 0.5529 - val_acc: 0.9652\n",
            "Epoch 32/100\n",
            " - 2s - loss: 0.0066 - acc: 0.9993 - val_loss: 0.5364 - val_acc: 0.9665\n",
            "Epoch 33/100\n",
            " - 2s - loss: 0.0053 - acc: 0.9996 - val_loss: 0.5560 - val_acc: 0.9654\n",
            "Epoch 34/100\n",
            " - 2s - loss: 0.0049 - acc: 0.9997 - val_loss: 0.5317 - val_acc: 0.9665\n",
            "Epoch 35/100\n",
            " - 2s - loss: 0.0044 - acc: 0.9998 - val_loss: 0.5288 - val_acc: 0.9671\n",
            "Epoch 36/100\n",
            " - 2s - loss: 0.0042 - acc: 0.9998 - val_loss: 0.5960 - val_acc: 0.9630\n",
            "Epoch 37/100\n",
            " - 2s - loss: 0.0040 - acc: 0.9998 - val_loss: 0.5601 - val_acc: 0.9651\n",
            "Epoch 38/100\n",
            " - 2s - loss: 0.0036 - acc: 0.9999 - val_loss: 0.5687 - val_acc: 0.9645\n",
            "Epoch 39/100\n",
            " - 2s - loss: 0.0032 - acc: 1.0000 - val_loss: 0.5475 - val_acc: 0.9656\n",
            "Epoch 40/100\n",
            " - 2s - loss: 0.0030 - acc: 1.0000 - val_loss: 0.5432 - val_acc: 0.9662\n",
            "Epoch 41/100\n",
            " - 2s - loss: 0.0027 - acc: 1.0000 - val_loss: 0.5780 - val_acc: 0.9638\n",
            "Epoch 42/100\n",
            " - 2s - loss: 0.0026 - acc: 1.0000 - val_loss: 0.5512 - val_acc: 0.9657\n",
            "Epoch 43/100\n",
            " - 2s - loss: 0.0025 - acc: 1.0000 - val_loss: 0.5517 - val_acc: 0.9655\n",
            "Epoch 44/100\n",
            " - 2s - loss: 0.0023 - acc: 1.0000 - val_loss: 0.5559 - val_acc: 0.9654\n",
            "Epoch 45/100\n",
            " - 2s - loss: 0.0022 - acc: 1.0000 - val_loss: 0.5540 - val_acc: 0.9654\n",
            "Epoch 46/100\n",
            " - 2s - loss: 0.0021 - acc: 1.0000 - val_loss: 0.5556 - val_acc: 0.9653\n",
            "Epoch 47/100\n",
            " - 2s - loss: 0.0021 - acc: 1.0000 - val_loss: 0.5685 - val_acc: 0.9643\n",
            "Epoch 48/100\n",
            " - 2s - loss: 0.0019 - acc: 1.0000 - val_loss: 0.5551 - val_acc: 0.9653\n",
            "Epoch 49/100\n",
            " - 2s - loss: 0.0018 - acc: 1.0000 - val_loss: 0.5702 - val_acc: 0.9644\n",
            "Epoch 50/100\n",
            " - 2s - loss: 0.0018 - acc: 1.0000 - val_loss: 0.5652 - val_acc: 0.9647\n",
            "Epoch 51/100\n",
            " - 2s - loss: 0.0017 - acc: 1.0000 - val_loss: 0.5696 - val_acc: 0.9646\n",
            "Epoch 52/100\n",
            " - 2s - loss: 0.0016 - acc: 1.0000 - val_loss: 0.5777 - val_acc: 0.9639\n",
            "Epoch 53/100\n",
            " - 2s - loss: 0.0016 - acc: 1.0000 - val_loss: 0.5574 - val_acc: 0.9653\n",
            "Epoch 54/100\n",
            " - 2s - loss: 0.0015 - acc: 1.0000 - val_loss: 0.5830 - val_acc: 0.9637\n",
            "Epoch 55/100\n",
            " - 2s - loss: 0.0015 - acc: 1.0000 - val_loss: 0.5650 - val_acc: 0.9648\n",
            "Epoch 56/100\n",
            " - 2s - loss: 0.0014 - acc: 1.0000 - val_loss: 0.5623 - val_acc: 0.9649\n",
            "Epoch 57/100\n",
            " - 2s - loss: 0.0014 - acc: 1.0000 - val_loss: 0.5448 - val_acc: 0.9660\n",
            "Epoch 58/100\n",
            " - 2s - loss: 0.0013 - acc: 1.0000 - val_loss: 0.5625 - val_acc: 0.9648\n",
            "Epoch 59/100\n",
            " - 2s - loss: 0.0013 - acc: 1.0000 - val_loss: 0.5545 - val_acc: 0.9655\n",
            "Epoch 60/100\n",
            " - 2s - loss: 0.0013 - acc: 1.0000 - val_loss: 0.5444 - val_acc: 0.9657\n",
            "Epoch 61/100\n",
            " - 2s - loss: 0.0012 - acc: 1.0000 - val_loss: 0.5605 - val_acc: 0.9650\n",
            "Epoch 62/100\n",
            " - 2s - loss: 0.0012 - acc: 1.0000 - val_loss: 0.5486 - val_acc: 0.9659\n",
            "Epoch 63/100\n",
            " - 2s - loss: 0.0012 - acc: 1.0000 - val_loss: 0.5644 - val_acc: 0.9647\n",
            "Epoch 64/100\n",
            " - 2s - loss: 0.0011 - acc: 1.0000 - val_loss: 0.5484 - val_acc: 0.9657\n",
            "Epoch 65/100\n",
            " - 2s - loss: 0.0011 - acc: 1.0000 - val_loss: 0.5519 - val_acc: 0.9654\n",
            "Epoch 66/100\n",
            " - 2s - loss: 0.0011 - acc: 1.0000 - val_loss: 0.5564 - val_acc: 0.9653\n",
            "Epoch 67/100\n",
            " - 2s - loss: 0.0011 - acc: 1.0000 - val_loss: 0.5534 - val_acc: 0.9656\n",
            "Epoch 68/100\n",
            " - 2s - loss: 0.0010 - acc: 1.0000 - val_loss: 0.5410 - val_acc: 0.9663\n",
            "Epoch 69/100\n",
            " - 2s - loss: 0.0010 - acc: 1.0000 - val_loss: 0.5512 - val_acc: 0.9654\n",
            "Epoch 70/100\n",
            " - 2s - loss: 9.7624e-04 - acc: 1.0000 - val_loss: 0.5496 - val_acc: 0.9657\n",
            "Epoch 71/100\n",
            " - 2s - loss: 9.5492e-04 - acc: 1.0000 - val_loss: 0.5596 - val_acc: 0.9648\n",
            "Epoch 72/100\n",
            " - 2s - loss: 9.4114e-04 - acc: 1.0000 - val_loss: 0.5671 - val_acc: 0.9646\n",
            "Epoch 73/100\n",
            " - 2s - loss: 9.1395e-04 - acc: 1.0000 - val_loss: 0.5651 - val_acc: 0.9649\n",
            "Epoch 74/100\n",
            " - 2s - loss: 9.1403e-04 - acc: 1.0000 - val_loss: 0.5511 - val_acc: 0.9655\n",
            "Epoch 75/100\n",
            " - 2s - loss: 8.8118e-04 - acc: 1.0000 - val_loss: 0.5629 - val_acc: 0.9650\n",
            "Epoch 76/100\n",
            " - 2s - loss: 8.7699e-04 - acc: 1.0000 - val_loss: 0.5618 - val_acc: 0.9649\n",
            "Epoch 77/100\n",
            " - 2s - loss: 8.5138e-04 - acc: 1.0000 - val_loss: 0.5506 - val_acc: 0.9657\n",
            "Epoch 78/100\n",
            " - 2s - loss: 8.2777e-04 - acc: 1.0000 - val_loss: 0.5556 - val_acc: 0.9652\n",
            "Epoch 79/100\n",
            " - 2s - loss: 8.1565e-04 - acc: 1.0000 - val_loss: 0.5461 - val_acc: 0.9661\n",
            "Epoch 80/100\n",
            " - 2s - loss: 8.0808e-04 - acc: 1.0000 - val_loss: 0.5608 - val_acc: 0.9649\n",
            "Epoch 81/100\n",
            " - 2s - loss: 7.8755e-04 - acc: 1.0000 - val_loss: 0.5491 - val_acc: 0.9658\n",
            "Epoch 82/100\n",
            " - 2s - loss: 7.7437e-04 - acc: 1.0000 - val_loss: 0.5644 - val_acc: 0.9649\n",
            "Epoch 83/100\n",
            " - 2s - loss: 7.5617e-04 - acc: 1.0000 - val_loss: 0.5549 - val_acc: 0.9653\n",
            "Epoch 84/100\n",
            " - 2s - loss: 7.4882e-04 - acc: 1.0000 - val_loss: 0.5642 - val_acc: 0.9645\n",
            "Epoch 85/100\n",
            " - 2s - loss: 7.2725e-04 - acc: 1.0000 - val_loss: 0.5499 - val_acc: 0.9656\n",
            "Epoch 86/100\n",
            " - 2s - loss: 7.1718e-04 - acc: 1.0000 - val_loss: 0.5509 - val_acc: 0.9656\n",
            "Epoch 87/100\n",
            " - 2s - loss: 7.0919e-04 - acc: 1.0000 - val_loss: 0.5555 - val_acc: 0.9653\n",
            "Epoch 88/100\n",
            " - 2s - loss: 6.9386e-04 - acc: 1.0000 - val_loss: 0.5651 - val_acc: 0.9645\n",
            "Epoch 89/100\n",
            " - 2s - loss: 6.8464e-04 - acc: 1.0000 - val_loss: 0.5526 - val_acc: 0.9654\n",
            "Epoch 90/100\n",
            " - 2s - loss: 6.7548e-04 - acc: 1.0000 - val_loss: 0.5561 - val_acc: 0.9654\n",
            "Epoch 91/100\n",
            " - 2s - loss: 6.6595e-04 - acc: 1.0000 - val_loss: 0.5567 - val_acc: 0.9652\n",
            "Epoch 92/100\n",
            " - 2s - loss: 6.5313e-04 - acc: 1.0000 - val_loss: 0.5571 - val_acc: 0.9653\n",
            "Epoch 93/100\n",
            " - 2s - loss: 6.3899e-04 - acc: 1.0000 - val_loss: 0.5547 - val_acc: 0.9655\n",
            "Epoch 94/100\n",
            " - 2s - loss: 6.3553e-04 - acc: 1.0000 - val_loss: 0.5534 - val_acc: 0.9655\n",
            "Epoch 95/100\n",
            " - 2s - loss: 6.2485e-04 - acc: 1.0000 - val_loss: 0.5522 - val_acc: 0.9654\n",
            "Epoch 96/100\n",
            " - 2s - loss: 6.1342e-04 - acc: 1.0000 - val_loss: 0.5565 - val_acc: 0.9653\n",
            "Epoch 97/100\n",
            " - 2s - loss: 6.0270e-04 - acc: 1.0000 - val_loss: 0.5508 - val_acc: 0.9657\n",
            "Epoch 98/100\n",
            " - 2s - loss: 5.9388e-04 - acc: 1.0000 - val_loss: 0.5617 - val_acc: 0.9647\n",
            "Epoch 99/100\n",
            " - 2s - loss: 5.8511e-04 - acc: 1.0000 - val_loss: 0.5403 - val_acc: 0.9663\n",
            "Epoch 100/100\n",
            " - 2s - loss: 5.7676e-04 - acc: 1.0000 - val_loss: 0.5713 - val_acc: 0.9644\n"
          ],
          "name": "stdout"
        }
      ]
    },
    {
      "cell_type": "markdown",
      "metadata": {
        "id": "rvDDuUlHlkRR",
        "colab_type": "text"
      },
      "source": [
        "## **Plot the Fitting Result**"
      ]
    },
    {
      "cell_type": "code",
      "metadata": {
        "id": "VTfxkBQslgC7",
        "colab_type": "code",
        "colab": {}
      },
      "source": [
        "import matplotlib.pyplot as plt\n",
        "\n",
        "# Define functions to plot the loss and accuracy\n",
        "def plot_hist_loss(hist):\n",
        "  plt.figure()\n",
        "  plt.plot(hist.history['loss'], 'b', linewidth=1.5)\n",
        "  plt.plot(hist.history['val_loss'], 'r', linewidth=1.5)\n",
        "  plt.legend(['Training set','Testing set'])\n",
        "  plt.xlabel('Epochs')\n",
        "  plt.ylabel('Loss')\n",
        "\n",
        "def plot_hist_accuracy(hist):\n",
        "  plt.figure()\n",
        "  plt.plot(hist.history['acc'], 'b', linewidth = 1.5)\n",
        "  plt.plot(hist.history['val_acc'], 'r', linewidth = 1.5)\n",
        "  plt.legend(['Training set','Testing set'])\n",
        "  plt.xlabel('Epochs')\n",
        "  plt.ylabel('Accuracy')"
      ],
      "execution_count": 0,
      "outputs": []
    },
    {
      "cell_type": "code",
      "metadata": {
        "id": "iKKvaGxS3jYX",
        "colab_type": "code",
        "outputId": "c3d9c605-3411-42a9-af83-b7cfdedb7a26",
        "colab": {
          "base_uri": "https://localhost:8080/",
          "height": 549
        }
      },
      "source": [
        "plot_hist_loss(hist_ANN)\n",
        "plot_hist_accuracy(hist_ANN)"
      ],
      "execution_count": 0,
      "outputs": [
        {
          "output_type": "display_data",
          "data": {
            "image/png": "[encoded data removed]",
            "text/plain": [
              "<Figure size 432x288 with 1 Axes>"
            ]
          },
          "metadata": {
            "tags": []
          }
        },
        {
          "output_type": "display_data",
          "data": {
            "image/png": "[encoded data removed]",
            "text/plain": [
              "<Figure size 432x288 with 1 Axes>"
            ]
          },
          "metadata": {
            "tags": []
          }
        }
      ]
    },
    {
      "cell_type": "markdown",
      "metadata": {
        "id": "fTnx4Ke0-5wx",
        "colab_type": "text"
      },
      "source": [
        "## **Assess the performance of a fitted model**\n",
        "\n"
      ]
    },
    {
      "cell_type": "markdown",
      "metadata": {
        "id": "OW3ed_QJ0oNi",
        "colab_type": "text"
      },
      "source": [
        "There are various measurements of the performance of the fitted models in classification problems.\n",
        "*   Loss function and the accuracy;\n",
        "*   Confusion matrix. "
      ]
    },
    {
      "cell_type": "code",
      "metadata": {
        "id": "JfACgwxC-45m",
        "colab_type": "code",
        "outputId": "3b484bdb-ef7f-49dd-f1c1-0cc91750c0a4",
        "colab": {
          "base_uri": "https://localhost:8080/",
          "height": 85
        }
      },
      "source": [
        "score =  model.evaluate(x_test, y_test)\n",
        "print(model.metrics_names)\n",
        "print('Test ' + model.metrics_names[0] , score[0])\n",
        "print('Test '+ model.metrics_names[1] , score[1])"
      ],
      "execution_count": 0,
      "outputs": [
        {
          "output_type": "stream",
          "text": [
            "10000/10000 [==============================] - 0s 36us/step\n",
            "['loss', 'acc']\n",
            "Test loss 0.4313765489578318\n",
            "Test acc 0.9731\n"
          ],
          "name": "stdout"
        }
      ]
    },
    {
      "cell_type": "code",
      "metadata": {
        "id": "TVKmyfeG5_gS",
        "colab_type": "code",
        "outputId": "5bd7e2d1-7fac-4d26-f592-b86c55d572b2",
        "colab": {
          "base_uri": "https://localhost:8080/",
          "height": 51
        }
      },
      "source": [
        "from sklearn.metrics import confusion_matrix\n",
        "\n",
        "Y_test_prob_pred = model.predict(X_test)\n",
        "Y_test_class_pred = model.predict_classes(X_test)\n",
        "print(Y_test_class_pred)\n",
        "print(y_test)\n",
        "cm = confusion_matrix( y_test, Y_test_class_pred )\n",
        "labels = np.arange(10)"
      ],
      "execution_count": 0,
      "outputs": [
        {
          "output_type": "stream",
          "text": [
            "[7 2 1 ... 4 5 6]\n",
            "[7 2 1 ... 4 5 6]\n"
          ],
          "name": "stdout"
        }
      ]
    },
    {
      "cell_type": "code",
      "metadata": {
        "id": "jnmn95ei2zrD",
        "colab_type": "code",
        "outputId": "7bd6f8ab-7684-47bc-da07-d11541db1bd2",
        "colab": {
          "base_uri": "https://localhost:8080/",
          "height": 1319
        }
      },
      "source": [
        "import itertools  \n",
        "def plot_confusion_matrix(cm, classes,\n",
        "                          normalize=False,\n",
        "                          title='Confusion matrix',\n",
        "                          cmap=plt.cm.Blues):\n",
        "    \"\"\"\n",
        "    This function prints and plots the confusion matrix.\n",
        "    Normalization can be applied by setting `normalize=True`.\n",
        "    \"\"\"\n",
        "    if normalize:\n",
        "        cm = cm.astype('float') / cm.sum(axis=1)[:, np.newaxis]\n",
        "        print(\"Normalized confusion matrix\")\n",
        "    else:\n",
        "        print('Confusion matrix, without normalization')\n",
        "\n",
        "    print(cm)\n",
        "\n",
        "    plt.imshow(cm, interpolation='nearest', cmap=cmap)\n",
        "    plt.title(title)\n",
        "    plt.colorbar()\n",
        "    tick_marks = np.arange(len(classes))\n",
        "    plt.xticks(tick_marks, classes, rotation=45)\n",
        "    plt.yticks(tick_marks, classes)\n",
        "\n",
        "    fmt = '.2f' if normalize else 'd'\n",
        "    thresh = cm.max() / 2.\n",
        "    for i, j in itertools.product(range(cm.shape[0]), range(cm.shape[1])):\n",
        "        plt.text(j, i, format(cm[i, j], fmt),\n",
        "                 horizontalalignment=\"center\",\n",
        "                 color=\"white\" if cm[i, j] > thresh else \"black\")\n",
        "\n",
        "    plt.tight_layout()\n",
        "    plt.ylabel('True label')\n",
        "    plt.xlabel('Predicted label')\n",
        "    plt.grid(b = 0)\n",
        "\n",
        "## The code for the function plot_confusion_matrix() is attributed to http://scikit-learn.org/stable/auto_examples/model_selection/plot_confusion_matrix.html\n",
        "\n",
        "# Plot non-normalized confusion matrix\n",
        "plt.figure()\n",
        "plot_confusion_matrix(cm, classes=list(map(str, labels)), title='Confusion matrix, without normalization')\n",
        "plt.figure()\n",
        "plot_confusion_matrix(cm, classes=list(map(str, labels)), normalize=True, title='Normalized confusion matrix')\n"
      ],
      "execution_count": 0,
      "outputs": [
        {
          "output_type": "execute_result",
          "data": {
            "text/plain": [
              "<Figure size 432x288 with 0 Axes>"
            ]
          },
          "metadata": {
            "tags": []
          },
          "execution_count": 26
        },
        {
          "output_type": "stream",
          "text": [
            "Confusion matrix, without normalization\n",
            "[[ 970    2    1    2    0    0    2    1    1    1]\n",
            " [   0 1127    1    3    0    1    1    1    1    0]\n",
            " [   6    2  998    5    4    1    3   11    2    0]\n",
            " [   0    3    5  975    1    5    0   11    1    9]\n",
            " [   3    2    2    1  954    0    6    7    1    6]\n",
            " [   6    0    1   11    1  858    6    2    4    3]\n",
            " [   7    3    1    1    3    8  931    3    1    0]\n",
            " [   1    5    8    4    1    0    1  999    0    9]\n",
            " [   6    6   13   15    4   10    5   12  896    7]\n",
            " [   1    8    0    6   10    4    2   14    1  963]]\n"
          ],
          "name": "stdout"
        },
        {
          "output_type": "execute_result",
          "data": {
            "text/plain": [
              "<Figure size 432x288 with 0 Axes>"
            ]
          },
          "metadata": {
            "tags": []
          },
          "execution_count": 26
        },
        {
          "output_type": "stream",
          "text": [
            "Normalized confusion matrix\n",
            "[[9.89795918e-01 2.04081633e-03 1.02040816e-03 2.04081633e-03\n",
            "  0.00000000e+00 0.00000000e+00 2.04081633e-03 1.02040816e-03\n",
            "  1.02040816e-03 1.02040816e-03]\n",
            " [0.00000000e+00 9.92951542e-01 8.81057269e-04 2.64317181e-03\n",
            "  0.00000000e+00 8.81057269e-04 8.81057269e-04 8.81057269e-04\n",
            "  8.81057269e-04 0.00000000e+00]\n",
            " [5.81395349e-03 1.93798450e-03 9.67054264e-01 4.84496124e-03\n",
            "  3.87596899e-03 9.68992248e-04 2.90697674e-03 1.06589147e-02\n",
            "  1.93798450e-03 0.00000000e+00]\n",
            " [0.00000000e+00 2.97029703e-03 4.95049505e-03 9.65346535e-01\n",
            "  9.90099010e-04 4.95049505e-03 0.00000000e+00 1.08910891e-02\n",
            "  9.90099010e-04 8.91089109e-03]\n",
            " [3.05498982e-03 2.03665988e-03 2.03665988e-03 1.01832994e-03\n",
            "  9.71486762e-01 0.00000000e+00 6.10997963e-03 7.12830957e-03\n",
            "  1.01832994e-03 6.10997963e-03]\n",
            " [6.72645740e-03 0.00000000e+00 1.12107623e-03 1.23318386e-02\n",
            "  1.12107623e-03 9.61883408e-01 6.72645740e-03 2.24215247e-03\n",
            "  4.48430493e-03 3.36322870e-03]\n",
            " [7.30688935e-03 3.13152401e-03 1.04384134e-03 1.04384134e-03\n",
            "  3.13152401e-03 8.35073069e-03 9.71816284e-01 3.13152401e-03\n",
            "  1.04384134e-03 0.00000000e+00]\n",
            " [9.72762646e-04 4.86381323e-03 7.78210117e-03 3.89105058e-03\n",
            "  9.72762646e-04 0.00000000e+00 9.72762646e-04 9.71789883e-01\n",
            "  0.00000000e+00 8.75486381e-03]\n",
            " [6.16016427e-03 6.16016427e-03 1.33470226e-02 1.54004107e-02\n",
            "  4.10677618e-03 1.02669405e-02 5.13347023e-03 1.23203285e-02\n",
            "  9.19917864e-01 7.18685832e-03]\n",
            " [9.91080278e-04 7.92864222e-03 0.00000000e+00 5.94648167e-03\n",
            "  9.91080278e-03 3.96432111e-03 1.98216056e-03 1.38751239e-02\n",
            "  9.91080278e-04 9.54410307e-01]]\n"
          ],
          "name": "stdout"
        },
        {
          "output_type": "display_data",
          "data": {
            "image/png": "[encoded data removed]",
            "text/plain": [
              "<Figure size 432x288 with 2 Axes>"
            ]
          },
          "metadata": {
            "tags": []
          }
        },
        {
          "output_type": "display_data",
          "data": {
            "image/png": "[encoded data removed]",
            "text/plain": [
              "<Figure size 432x288 with 2 Axes>"
            ]
          },
          "metadata": {
            "tags": []
          }
        }
      ]
    }
  ]
}