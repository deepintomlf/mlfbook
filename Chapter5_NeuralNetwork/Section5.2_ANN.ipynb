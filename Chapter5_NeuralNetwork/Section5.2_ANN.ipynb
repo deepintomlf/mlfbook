{
  "nbformat": 4,
  "nbformat_minor": 0,
  "metadata": {
    "colab": {
      "name": "PracticeSession1_HN.ipynb",
      "version": "0.3.2",
      "provenance": [],
      "collapsed_sections": [
        "G961Oko_PenB",
        "YoldZQgkPr6-",
        "95_nhUhhP3ji",
        "nAxj3de7072f",
        "5wu5oABiQHgn",
        "1aLLvJ5WOK4x"
      ],
      "include_colab_link": true
    },
    "kernelspec": {
      "name": "python3",
      "display_name": "Python 3"
    },
    "accelerator": "GPU"
  },
  "cells": [
    {
      "cell_type": "markdown",
      "metadata": {
        "id": "view-in-github",
        "colab_type": "text"
      },
      "source": [
        "<a href=\"https://colab.research.google.com/github/deepintomlf/mlfbook/blob/master/Chapter5_NeuralNetwork/Section5.2_ANN.ipynb\" target=\"_parent\"><img src=\"https://colab.research.google.com/assets/colab-badge.svg\" alt=\"Open In Colab\"/></a>"
      ]
    },
    {
      "cell_type": "markdown",
      "metadata": {
        "id": "0rw0SZOgvciq",
        "colab_type": "text"
      },
      "source": [
        "\n",
        "# **Section 5.2 – Artificial Neural Network**\n",
        "This notebook contains all demo codes in Section 5.2."
      ]
    },
    {
      "cell_type": "markdown",
      "metadata": {
        "id": "Wrx9IPJr0wfE",
        "colab_type": "text"
      },
      "source": [
        "test for change......"
      ]
    },
    {
      "cell_type": "markdown",
      "metadata": {
        "id": "iSAJ064BtXrq",
        "colab_type": "text"
      },
      "source": [
        "### Implementation"
      ]
    },
    {
      "cell_type": "markdown",
      "metadata": {
        "id": "xWL5dnZItdxU",
        "colab_type": "text"
      },
      "source": [
        "![alt text](https://docs.google.com/uc?export=download&id=1oWrlu3M05rP8GzEWU23EgTZpDiFj2Mop)\n",
        "\n",
        "\n",
        "\n",
        "*   Input layer ( $h^{0}$): $h^{0}(x) = x$.\n",
        "*  Hidden layer ($\\{h^{l}\\}_{l = 1}^{L-1}$);\n",
        "* Output layer ($h^{L}$).\n",
        "\n",
        "\\begin{eqnarray*}\n",
        "z^{l+1} &=& {\\color{blue}W^{l}} h^{l} + {\\color{blue}b^{l}},\\\\\n",
        "h^{l+1} &=& {\\color{red} \\sigma}(z^{l+1}),\n",
        "\\end{eqnarray*}\n",
        "where ${\\color{red}\\sigma}$ is an* activation function*, which is usually non-linear, e.g. the sigmoid function $\\sigma(x) = \\frac{1}{1+e^{-x}}$. The parameter set ${\\color{blue}\\theta} = (W^{l}, b^{l})_{l =1}^{L}$}.\n"
      ]
    },
    {
      "cell_type": "markdown",
      "metadata": {
        "id": "ClYeClr2vTc7",
        "colab_type": "text"
      },
      "source": [
        "###ANN Classification###\n",
        "The input $x$ is a multi-dimensional vector; \n",
        "\n",
        "The ouput $y$ is a one-hot respresenation of the class. \n",
        "\n",
        "\n",
        "The number of neurons in the output layer is the total number of classes. \n",
        "\n",
        "The $j^{th}$ neurons in the output layer represents the probability of the output(label) being class $j$.  \n",
        "\n",
        " The **cross entropy **loss function is defined as follows:\n",
        "\n",
        "\\begin{eqnarray*}\n",
        "L(\\theta \\vert \\mathcal{D}) = - \\frac{1}{N}\\sum_{i =1}^{N} \\sum_{k} \\mathbb{1}( y_{i}=\\text{ class }k) \\log(p(y_{i} =\\text{ class }k \\vert x_{i})) \n",
        "\\end{eqnarray*}\n",
        "\n",
        "Note: The cross entropy between two probability distributions $p$ and $q$ is defined as \n",
        "\\begin{eqnarray*}\n",
        "H(p, q) =- \\sum_{x} p(x)\\log(q(x)).\n",
        "\\end{eqnarray*}\n",
        "\n",
        "$L(\\theta \\vert \\mathcal{D}) $ can be reformulated as \n",
        "\n",
        "\\begin{eqnarray*}\n",
        "L(\\theta \\vert \\mathcal{D}) = - \\frac{1}{N} \\langle  y_{i}, \\log(p_{\\theta }(  \\cdot \\vert x_{i})) \\rangle \n",
        "\\end{eqnarray*}\n"
      ]
    },
    {
      "cell_type": "markdown",
      "metadata": {
        "id": "xZBRzRhF_-xI",
        "colab_type": "text"
      },
      "source": [
        "#Pipelines of Supervised Learning Algorithms# "
      ]
    },
    {
      "cell_type": "markdown",
      "metadata": {
        "id": "7E1pkUGgQHpb",
        "colab_type": "text"
      },
      "source": [
        "The piplelines of the supervised learning algorithms are summarized as follows:\n",
        "\n",
        "1.   Import Datasets;\n",
        "2.   Take a look at the dataset (Statistical Analysis/Visualization);\n",
        "3.    Pre-process the dataset to prepare for the training process (normalization/reshape data);\n",
        "4.    Train a model;\n",
        "5.    Validate a model;\n",
        "6.    Cross Validation. \n"
      ]
    },
    {
      "cell_type": "markdown",
      "metadata": {
        "id": "X-vM1QWbbRDo",
        "colab_type": "text"
      },
      "source": [
        "** We will apply the shallow neural network to the MNIST dataset as a concrete example to go through the pipelines of supervised learning algorithm.**"
      ]
    },
    {
      "cell_type": "markdown",
      "metadata": {
        "id": "rcEMqDnp3Ese",
        "colab_type": "text"
      },
      "source": [
        "Problem: Build an algorithm to identify the digit label from the handwritten image using the MNIST dataset. \n",
        "\n",
        "![alt text](http://corochann.com/wp-content/uploads/2017/02/mnist_plot.png)"
      ]
    },
    {
      "cell_type": "markdown",
      "metadata": {
        "id": "Yo03nFuXWsP2",
        "colab_type": "text"
      },
      "source": [
        "## **Pre-process MNIST Dataset**"
      ]
    },
    {
      "cell_type": "code",
      "metadata": {
        "id": "wTvLJzzjA6aB",
        "colab_type": "code",
        "colab": {
          "base_uri": "https://localhost:8080/",
          "height": 68
        },
        "outputId": "004b1e5b-ab00-49e4-e8dd-bf4760827888"
      },
      "source": [
        "import numpy as np\n",
        "from keras.datasets import mnist\n",
        "from keras.utils import to_categorical\n",
        "\n",
        "# Import MNIST dataset\n",
        "(x_train, y_train), (x_test, y_test) = mnist.load_data()\n",
        "\n",
        "# Reshape input image data from matrixs to vectors\n",
        "[n_samples_train, width, height] = np.shape(x_train)\n",
        "[n_samples_test, width, height] = np.shape(x_test)\n",
        "X_train = x_train.reshape([n_samples_train, width*height])\n",
        "X_test = x_test.reshape([n_samples_test, width*height])\n",
        "\n",
        "# Normalize the dataset\n",
        "X_train = X_train/np.amax(X_train)\n",
        "X_test = X_test/np.amax(X_train)\n",
        "\n",
        "# Convert class vectors to one-hot vector matrices\n",
        "num_classes = 10    \n",
        "Y_train = to_categorical(y_train, num_classes)\n",
        "Y_test = to_categorical(y_test, num_classes)"
      ],
      "execution_count": 1,
      "outputs": [
        {
          "output_type": "stream",
          "text": [
            "Using TensorFlow backend.\n"
          ],
          "name": "stderr"
        },
        {
          "output_type": "stream",
          "text": [
            "Downloading data from https://s3.amazonaws.com/img-datasets/mnist.npz\n",
            "11493376/11490434 [==============================] - 2s 0us/step\n"
          ],
          "name": "stdout"
        }
      ]
    },
    {
      "cell_type": "markdown",
      "metadata": {
        "id": "iJekBGxRXYGF",
        "colab_type": "text"
      },
      "source": [
        "## **Implement ANN for Digit Classification on MNIST Dataset**"
      ]
    },
    {
      "cell_type": "code",
      "metadata": {
        "id": "nz0Iu3FuXd0U",
        "colab_type": "code",
        "outputId": "33dda7d9-f826-4d76-c1ff-eae84ca131e2",
        "colab": {
          "base_uri": "https://localhost:8080/",
          "height": 3570
        }
      },
      "source": [
        "import time\n",
        "from keras.models import Sequential\n",
        "from keras.layers.core import Dense\n",
        "from keras.optimizers import SGD\n",
        "\n",
        "def shallow_NN_model(n_hidden_neurons):\n",
        "    start_time = time.time()\n",
        "    print('Compiling Model ... ')\n",
        "    model = Sequential()\n",
        "    # Add the hidden layer with ReLU activation function\n",
        "    model.add(Dense(n_hidden_neurons, activation='relu', input_dim=784))\n",
        "    # Add the output layer with softmax activation function for multi-classification problem\n",
        "    model.add(Dense(10, activation = 'softmax'))\n",
        "    sgd = SGD(lr=0.1, decay=1e-6, momentum=0.9, nesterov=True)\n",
        "    model.compile(loss='categorical_crossentropy', optimizer=sgd, metrics=['accuracy'])\n",
        "    print('Model compield in {0} seconds'.format(time.time() - start_time))\n",
        "    return model\n",
        "    \n",
        "epochs = 100\n",
        "batch  = 256\n",
        "n_hidden_neurons = 50\n",
        "model = shallow_NN_model(n_hidden_neurons)\n",
        "hist_ANN = model.fit(X_train, Y_train, epochs=epochs, batch_size=batch, validation_data=(X_test, Y_test), verbose=2)"
      ],
      "execution_count": 2,
      "outputs": [
        {
          "output_type": "stream",
          "text": [
            "Compiling Model ... \n",
            "WARNING:tensorflow:From /usr/local/lib/python3.6/dist-packages/tensorflow/python/framework/op_def_library.py:263: colocate_with (from tensorflow.python.framework.ops) is deprecated and will be removed in a future version.\n",
            "Instructions for updating:\n",
            "Colocations handled automatically by placer.\n",
            "Model compield in 0.09750199317932129 seconds\n",
            "WARNING:tensorflow:From /usr/local/lib/python3.6/dist-packages/tensorflow/python/ops/math_ops.py:3066: to_int32 (from tensorflow.python.ops.math_ops) is deprecated and will be removed in a future version.\n",
            "Instructions for updating:\n",
            "Use tf.cast instead.\n",
            "Train on 60000 samples, validate on 10000 samples\n",
            "Epoch 1/100\n",
            " - 4s - loss: 0.3542 - acc: 0.8965 - val_loss: 0.9844 - val_acc: 0.9380\n",
            "Epoch 2/100\n",
            " - 1s - loss: 0.1720 - acc: 0.9498 - val_loss: 0.8062 - val_acc: 0.9490\n",
            "Epoch 3/100\n",
            " - 1s - loss: 0.1251 - acc: 0.9640 - val_loss: 0.5662 - val_acc: 0.9642\n",
            "Epoch 4/100\n",
            " - 1s - loss: 0.1013 - acc: 0.9702 - val_loss: 0.5542 - val_acc: 0.9653\n",
            "Epoch 5/100\n",
            " - 1s - loss: 0.0874 - acc: 0.9739 - val_loss: 0.5042 - val_acc: 0.9687\n",
            "Epoch 6/100\n",
            " - 1s - loss: 0.0764 - acc: 0.9766 - val_loss: 0.5695 - val_acc: 0.9644\n",
            "Epoch 7/100\n",
            " - 1s - loss: 0.0677 - acc: 0.9788 - val_loss: 0.5066 - val_acc: 0.9684\n",
            "Epoch 8/100\n",
            " - 1s - loss: 0.0606 - acc: 0.9817 - val_loss: 0.5099 - val_acc: 0.9680\n",
            "Epoch 9/100\n",
            " - 1s - loss: 0.0540 - acc: 0.9836 - val_loss: 0.4890 - val_acc: 0.9690\n",
            "Epoch 10/100\n",
            " - 1s - loss: 0.0497 - acc: 0.9842 - val_loss: 0.4830 - val_acc: 0.9697\n",
            "Epoch 11/100\n",
            " - 1s - loss: 0.0447 - acc: 0.9864 - val_loss: 0.4885 - val_acc: 0.9693\n",
            "Epoch 12/100\n",
            " - 1s - loss: 0.0405 - acc: 0.9879 - val_loss: 0.5534 - val_acc: 0.9653\n",
            "Epoch 13/100\n",
            " - 1s - loss: 0.0381 - acc: 0.9883 - val_loss: 0.5002 - val_acc: 0.9688\n",
            "Epoch 14/100\n",
            " - 1s - loss: 0.0353 - acc: 0.9892 - val_loss: 0.7353 - val_acc: 0.9537\n",
            "Epoch 15/100\n",
            " - 1s - loss: 0.0320 - acc: 0.9902 - val_loss: 0.5575 - val_acc: 0.9651\n",
            "Epoch 16/100\n",
            " - 1s - loss: 0.0279 - acc: 0.9918 - val_loss: 0.5778 - val_acc: 0.9637\n",
            "Epoch 17/100\n",
            " - 1s - loss: 0.0265 - acc: 0.9920 - val_loss: 0.5233 - val_acc: 0.9673\n",
            "Epoch 18/100\n",
            " - 1s - loss: 0.0246 - acc: 0.9929 - val_loss: 0.5477 - val_acc: 0.9659\n",
            "Epoch 19/100\n",
            " - 1s - loss: 0.0224 - acc: 0.9937 - val_loss: 0.5718 - val_acc: 0.9639\n",
            "Epoch 20/100\n",
            " - 1s - loss: 0.0213 - acc: 0.9939 - val_loss: 0.5130 - val_acc: 0.9679\n",
            "Epoch 21/100\n",
            " - 1s - loss: 0.0194 - acc: 0.9944 - val_loss: 0.5572 - val_acc: 0.9651\n",
            "Epoch 22/100\n",
            " - 1s - loss: 0.0172 - acc: 0.9954 - val_loss: 0.5511 - val_acc: 0.9651\n",
            "Epoch 23/100\n",
            " - 1s - loss: 0.0161 - acc: 0.9955 - val_loss: 0.5598 - val_acc: 0.9650\n",
            "Epoch 24/100\n",
            " - 1s - loss: 0.0150 - acc: 0.9961 - val_loss: 0.5734 - val_acc: 0.9641\n",
            "Epoch 25/100\n",
            " - 1s - loss: 0.0132 - acc: 0.9970 - val_loss: 0.5085 - val_acc: 0.9681\n",
            "Epoch 26/100\n",
            " - 1s - loss: 0.0116 - acc: 0.9976 - val_loss: 0.4663 - val_acc: 0.9709\n",
            "Epoch 27/100\n",
            " - 1s - loss: 0.0108 - acc: 0.9980 - val_loss: 0.5385 - val_acc: 0.9664\n",
            "Epoch 28/100\n",
            " - 1s - loss: 0.0098 - acc: 0.9984 - val_loss: 0.5324 - val_acc: 0.9667\n",
            "Epoch 29/100\n",
            " - 1s - loss: 0.0093 - acc: 0.9983 - val_loss: 0.5907 - val_acc: 0.9631\n",
            "Epoch 30/100\n",
            " - 1s - loss: 0.0084 - acc: 0.9986 - val_loss: 0.5452 - val_acc: 0.9659\n",
            "Epoch 31/100\n",
            " - 1s - loss: 0.0070 - acc: 0.9992 - val_loss: 0.5149 - val_acc: 0.9678\n",
            "Epoch 32/100\n",
            " - 1s - loss: 0.0063 - acc: 0.9994 - val_loss: 0.5298 - val_acc: 0.9669\n",
            "Epoch 33/100\n",
            " - 1s - loss: 0.0059 - acc: 0.9996 - val_loss: 0.5637 - val_acc: 0.9649\n",
            "Epoch 34/100\n",
            " - 1s - loss: 0.0056 - acc: 0.9995 - val_loss: 0.5384 - val_acc: 0.9664\n",
            "Epoch 35/100\n",
            " - 1s - loss: 0.0052 - acc: 0.9996 - val_loss: 0.5217 - val_acc: 0.9673\n",
            "Epoch 36/100\n",
            " - 1s - loss: 0.0048 - acc: 0.9997 - val_loss: 0.5597 - val_acc: 0.9651\n",
            "Epoch 37/100\n",
            " - 1s - loss: 0.0044 - acc: 0.9997 - val_loss: 0.5614 - val_acc: 0.9649\n",
            "Epoch 38/100\n",
            " - 1s - loss: 0.0041 - acc: 0.9999 - val_loss: 0.5338 - val_acc: 0.9666\n",
            "Epoch 39/100\n",
            " - 1s - loss: 0.0037 - acc: 0.9999 - val_loss: 0.5263 - val_acc: 0.9670\n",
            "Epoch 40/100\n",
            " - 1s - loss: 0.0042 - acc: 0.9996 - val_loss: 0.5458 - val_acc: 0.9660\n",
            "Epoch 41/100\n",
            " - 1s - loss: 0.0035 - acc: 0.9999 - val_loss: 0.5426 - val_acc: 0.9660\n",
            "Epoch 42/100\n",
            " - 1s - loss: 0.0033 - acc: 0.9999 - val_loss: 0.5527 - val_acc: 0.9655\n",
            "Epoch 43/100\n",
            " - 1s - loss: 0.0032 - acc: 0.9999 - val_loss: 0.5137 - val_acc: 0.9677\n",
            "Epoch 44/100\n",
            " - 1s - loss: 0.0030 - acc: 1.0000 - val_loss: 0.5337 - val_acc: 0.9666\n",
            "Epoch 45/100\n",
            " - 1s - loss: 0.0028 - acc: 1.0000 - val_loss: 0.5428 - val_acc: 0.9660\n",
            "Epoch 46/100\n",
            " - 1s - loss: 0.0027 - acc: 1.0000 - val_loss: 0.5285 - val_acc: 0.9668\n",
            "Epoch 47/100\n",
            " - 1s - loss: 0.0026 - acc: 1.0000 - val_loss: 0.5302 - val_acc: 0.9668\n",
            "Epoch 48/100\n",
            " - 1s - loss: 0.0025 - acc: 1.0000 - val_loss: 0.5260 - val_acc: 0.9671\n",
            "Epoch 49/100\n",
            " - 1s - loss: 0.0024 - acc: 1.0000 - val_loss: 0.5366 - val_acc: 0.9664\n",
            "Epoch 50/100\n",
            " - 1s - loss: 0.0024 - acc: 1.0000 - val_loss: 0.5350 - val_acc: 0.9666\n",
            "Epoch 51/100\n",
            " - 1s - loss: 0.0023 - acc: 1.0000 - val_loss: 0.5500 - val_acc: 0.9657\n",
            "Epoch 52/100\n",
            " - 1s - loss: 0.0022 - acc: 1.0000 - val_loss: 0.5423 - val_acc: 0.9663\n",
            "Epoch 53/100\n",
            " - 1s - loss: 0.0022 - acc: 1.0000 - val_loss: 0.5237 - val_acc: 0.9673\n",
            "Epoch 54/100\n",
            " - 1s - loss: 0.0021 - acc: 1.0000 - val_loss: 0.5464 - val_acc: 0.9660\n",
            "Epoch 55/100\n",
            " - 1s - loss: 0.0021 - acc: 1.0000 - val_loss: 0.5569 - val_acc: 0.9652\n",
            "Epoch 56/100\n",
            " - 1s - loss: 0.0020 - acc: 1.0000 - val_loss: 0.5516 - val_acc: 0.9656\n",
            "Epoch 57/100\n",
            " - 1s - loss: 0.0020 - acc: 1.0000 - val_loss: 0.5375 - val_acc: 0.9664\n",
            "Epoch 58/100\n",
            " - 1s - loss: 0.0019 - acc: 1.0000 - val_loss: 0.5362 - val_acc: 0.9663\n",
            "Epoch 59/100\n",
            " - 1s - loss: 0.0019 - acc: 1.0000 - val_loss: 0.5268 - val_acc: 0.9672\n",
            "Epoch 60/100\n",
            " - 1s - loss: 0.0018 - acc: 1.0000 - val_loss: 0.5310 - val_acc: 0.9666\n",
            "Epoch 61/100\n",
            " - 1s - loss: 0.0018 - acc: 1.0000 - val_loss: 0.5341 - val_acc: 0.9668\n",
            "Epoch 62/100\n",
            " - 1s - loss: 0.0018 - acc: 1.0000 - val_loss: 0.5325 - val_acc: 0.9668\n",
            "Epoch 63/100\n",
            " - 1s - loss: 0.0018 - acc: 1.0000 - val_loss: 0.5340 - val_acc: 0.9667\n",
            "Epoch 64/100\n",
            " - 1s - loss: 0.0017 - acc: 1.0000 - val_loss: 0.5279 - val_acc: 0.9669\n",
            "Epoch 65/100\n",
            " - 1s - loss: 0.0017 - acc: 1.0000 - val_loss: 0.5460 - val_acc: 0.9659\n",
            "Epoch 66/100\n",
            " - 1s - loss: 0.0017 - acc: 1.0000 - val_loss: 0.5303 - val_acc: 0.9669\n",
            "Epoch 67/100\n",
            " - 1s - loss: 0.0016 - acc: 1.0000 - val_loss: 0.5445 - val_acc: 0.9658\n",
            "Epoch 68/100\n",
            " - 1s - loss: 0.0016 - acc: 1.0000 - val_loss: 0.5247 - val_acc: 0.9671\n",
            "Epoch 69/100\n",
            " - 1s - loss: 0.0016 - acc: 1.0000 - val_loss: 0.5385 - val_acc: 0.9664\n",
            "Epoch 70/100\n",
            " - 1s - loss: 0.0016 - acc: 1.0000 - val_loss: 0.5396 - val_acc: 0.9664\n",
            "Epoch 71/100\n",
            " - 1s - loss: 0.0015 - acc: 1.0000 - val_loss: 0.5310 - val_acc: 0.9667\n",
            "Epoch 72/100\n",
            " - 1s - loss: 0.0015 - acc: 1.0000 - val_loss: 0.5441 - val_acc: 0.9661\n",
            "Epoch 73/100\n",
            " - 1s - loss: 0.0015 - acc: 1.0000 - val_loss: 0.5387 - val_acc: 0.9665\n",
            "Epoch 74/100\n",
            " - 1s - loss: 0.0015 - acc: 1.0000 - val_loss: 0.5447 - val_acc: 0.9662\n",
            "Epoch 75/100\n",
            " - 1s - loss: 0.0015 - acc: 1.0000 - val_loss: 0.5502 - val_acc: 0.9657\n",
            "Epoch 76/100\n",
            " - 1s - loss: 0.0014 - acc: 1.0000 - val_loss: 0.5414 - val_acc: 0.9659\n",
            "Epoch 77/100\n",
            " - 1s - loss: 0.0014 - acc: 1.0000 - val_loss: 0.5422 - val_acc: 0.9662\n",
            "Epoch 78/100\n",
            " - 1s - loss: 0.0014 - acc: 1.0000 - val_loss: 0.5400 - val_acc: 0.9664\n",
            "Epoch 79/100\n",
            " - 1s - loss: 0.0014 - acc: 1.0000 - val_loss: 0.5353 - val_acc: 0.9667\n",
            "Epoch 80/100\n",
            " - 1s - loss: 0.0014 - acc: 1.0000 - val_loss: 0.5369 - val_acc: 0.9665\n",
            "Epoch 81/100\n",
            " - 1s - loss: 0.0014 - acc: 1.0000 - val_loss: 0.5287 - val_acc: 0.9670\n",
            "Epoch 82/100\n",
            " - 1s - loss: 0.0013 - acc: 1.0000 - val_loss: 0.5368 - val_acc: 0.9665\n",
            "Epoch 83/100\n",
            " - 1s - loss: 0.0013 - acc: 1.0000 - val_loss: 0.5417 - val_acc: 0.9661\n",
            "Epoch 84/100\n",
            " - 1s - loss: 0.0013 - acc: 1.0000 - val_loss: 0.5368 - val_acc: 0.9665\n",
            "Epoch 85/100\n",
            " - 1s - loss: 0.0013 - acc: 1.0000 - val_loss: 0.5373 - val_acc: 0.9663\n",
            "Epoch 86/100\n",
            " - 1s - loss: 0.0013 - acc: 1.0000 - val_loss: 0.5421 - val_acc: 0.9662\n",
            "Epoch 87/100\n",
            " - 1s - loss: 0.0013 - acc: 1.0000 - val_loss: 0.5276 - val_acc: 0.9671\n",
            "Epoch 88/100\n",
            " - 1s - loss: 0.0013 - acc: 1.0000 - val_loss: 0.5469 - val_acc: 0.9659\n",
            "Epoch 89/100\n",
            " - 1s - loss: 0.0012 - acc: 1.0000 - val_loss: 0.5340 - val_acc: 0.9666\n",
            "Epoch 90/100\n",
            " - 1s - loss: 0.0012 - acc: 1.0000 - val_loss: 0.5399 - val_acc: 0.9659\n",
            "Epoch 91/100\n",
            " - 1s - loss: 0.0012 - acc: 1.0000 - val_loss: 0.5425 - val_acc: 0.9660\n",
            "Epoch 92/100\n",
            " - 1s - loss: 0.0012 - acc: 1.0000 - val_loss: 0.5443 - val_acc: 0.9661\n",
            "Epoch 93/100\n",
            " - 1s - loss: 0.0012 - acc: 1.0000 - val_loss: 0.5398 - val_acc: 0.9662\n",
            "Epoch 94/100\n",
            " - 1s - loss: 0.0012 - acc: 1.0000 - val_loss: 0.5290 - val_acc: 0.9671\n",
            "Epoch 95/100\n",
            " - 1s - loss: 0.0012 - acc: 1.0000 - val_loss: 0.5375 - val_acc: 0.9666\n",
            "Epoch 96/100\n",
            " - 1s - loss: 0.0012 - acc: 1.0000 - val_loss: 0.5515 - val_acc: 0.9657\n",
            "Epoch 97/100\n",
            " - 1s - loss: 0.0012 - acc: 1.0000 - val_loss: 0.5362 - val_acc: 0.9666\n",
            "Epoch 98/100\n",
            " - 1s - loss: 0.0012 - acc: 1.0000 - val_loss: 0.5387 - val_acc: 0.9662\n",
            "Epoch 99/100\n",
            " - 1s - loss: 0.0011 - acc: 1.0000 - val_loss: 0.5475 - val_acc: 0.9657\n",
            "Epoch 100/100\n",
            " - 1s - loss: 0.0011 - acc: 1.0000 - val_loss: 0.5409 - val_acc: 0.9663\n"
          ],
          "name": "stdout"
        }
      ]
    },
    {
      "cell_type": "markdown",
      "metadata": {
        "id": "rvDDuUlHlkRR",
        "colab_type": "text"
      },
      "source": [
        "## **Plot the Fitting Result**"
      ]
    },
    {
      "cell_type": "code",
      "metadata": {
        "id": "VTfxkBQslgC7",
        "colab_type": "code",
        "colab": {}
      },
      "source": [
        "import matplotlib.pyplot as plt\n",
        "\n",
        "# Define functions to plot the loss and accuracy\n",
        "def plot_hist_loss(hist):\n",
        "  plt.figure()\n",
        "  plt.plot(hist.history['loss'], 'b', linewidth=1.5)\n",
        "  plt.plot(hist.history['val_loss'], 'r', linewidth=1.5)\n",
        "  plt.legend(['Training set','Testing set'])\n",
        "  plt.xlabel('Epochs')\n",
        "  plt.ylabel('Loss')\n",
        "\n",
        "def plot_accuracy(hist):\n",
        "  plt.figure()\n",
        "  plt.plot(hist.history['acc'], 'b', linewidth = 1.5)\n",
        "  plt.plot(hist.history['val_acc'], 'r', linewidth = 1.5)\n",
        "  plt.legend(['Training set','Testing set'])\n",
        "  plt.xlabel('Epochs')\n",
        "  plt.ylabel('Accuracy')"
      ],
      "execution_count": 0,
      "outputs": []
    },
    {
      "cell_type": "code",
      "metadata": {
        "id": "iKKvaGxS3jYX",
        "colab_type": "code",
        "outputId": "cea24f5c-ca3c-47d0-eaf2-ab508f2e40fd",
        "colab": {
          "base_uri": "https://localhost:8080/",
          "height": 549
        }
      },
      "source": [
        "plot_hist_loss(hist_ANN)\n",
        "plot_accuracy(hist_ANN)"
      ],
      "execution_count": 4,
      "outputs": [
        {
          "output_type": "display_data",
          "data": {
            "image/png": "[encoded data removed]",
            "text/plain": [
              "<Figure size 432x288 with 1 Axes>"
            ]
          },
          "metadata": {
            "tags": []
          }
        },
        {
          "output_type": "display_data",
          "data": {
            "image/png": "[encoded data removed]",
            "text/plain": [
              "<Figure size 432x288 with 1 Axes>"
            ]
          },
          "metadata": {
            "tags": []
          }
        }
      ]
    },
    {
      "cell_type": "markdown",
      "metadata": {
        "id": "fTnx4Ke0-5wx",
        "colab_type": "text"
      },
      "source": [
        "## **Assess the performance of a fitted model**\n",
        "\n"
      ]
    },
    {
      "cell_type": "markdown",
      "metadata": {
        "id": "OW3ed_QJ0oNi",
        "colab_type": "text"
      },
      "source": [
        "There are various measurements of the performance of the fitted models in classification problems.\n",
        "*   Loss function and the accuracy;\n",
        "*   Confusion matrix. "
      ]
    },
    {
      "cell_type": "code",
      "metadata": {
        "id": "JfACgwxC-45m",
        "colab_type": "code",
        "outputId": "996c795f-eb13-451b-f83a-3f54773c58cd",
        "colab": {
          "base_uri": "https://localhost:8080/",
          "height": 85
        }
      },
      "source": [
        "score =  model.evaluate(X_test, Y_test)\n",
        "print(model.metrics_names)\n",
        "print('Test ' + model.metrics_names[0] , score[0])\n",
        "print('Test '+ model.metrics_names[1] , score[1])"
      ],
      "execution_count": 0,
      "outputs": [
        {
          "output_type": "stream",
          "text": [
            "10000/10000 [==============================] - 0s 35us/step\n",
            "['loss', 'acc']\n",
            "Test loss 0.5302857175220242\n",
            "Test acc 0.9671\n"
          ],
          "name": "stdout"
        }
      ]
    },
    {
      "cell_type": "code",
      "metadata": {
        "id": "TVKmyfeG5_gS",
        "colab_type": "code",
        "outputId": "5bd7e2d1-7fac-4d26-f592-b86c55d572b2",
        "colab": {
          "base_uri": "https://localhost:8080/",
          "height": 51
        }
      },
      "source": [
        "from sklearn.metrics import confusion_matrix\n",
        "\n",
        "Y_test_prob_pred = model.predict(X_test)\n",
        "Y_test_class_pred = model.predict_classes(X_test)\n",
        "print(Y_test_class_pred)\n",
        "print(y_test)\n",
        "cm = confusion_matrix( y_test, Y_test_class_pred )\n",
        "labels = np.arange(10)"
      ],
      "execution_count": 0,
      "outputs": [
        {
          "output_type": "stream",
          "text": [
            "[7 2 1 ... 4 5 6]\n",
            "[7 2 1 ... 4 5 6]\n"
          ],
          "name": "stdout"
        }
      ]
    },
    {
      "cell_type": "code",
      "metadata": {
        "id": "jnmn95ei2zrD",
        "colab_type": "code",
        "outputId": "7bd6f8ab-7684-47bc-da07-d11541db1bd2",
        "colab": {
          "base_uri": "https://localhost:8080/",
          "height": 1319
        }
      },
      "source": [
        "import itertools  \n",
        "def plot_confusion_matrix(cm, classes,\n",
        "                          normalize=False,\n",
        "                          title='Confusion matrix',\n",
        "                          cmap=plt.cm.Blues):\n",
        "    \"\"\"\n",
        "    This function prints and plots the confusion matrix.\n",
        "    Normalization can be applied by setting `normalize=True`.\n",
        "    \"\"\"\n",
        "    if normalize:\n",
        "        cm = cm.astype('float') / cm.sum(axis=1)[:, np.newaxis]\n",
        "        print(\"Normalized confusion matrix\")\n",
        "    else:\n",
        "        print('Confusion matrix, without normalization')\n",
        "\n",
        "    print(cm)\n",
        "\n",
        "    plt.imshow(cm, interpolation='nearest', cmap=cmap)\n",
        "    plt.title(title)\n",
        "    plt.colorbar()\n",
        "    tick_marks = np.arange(len(classes))\n",
        "    plt.xticks(tick_marks, classes, rotation=45)\n",
        "    plt.yticks(tick_marks, classes)\n",
        "\n",
        "    fmt = '.2f' if normalize else 'd'\n",
        "    thresh = cm.max() / 2.\n",
        "    for i, j in itertools.product(range(cm.shape[0]), range(cm.shape[1])):\n",
        "        plt.text(j, i, format(cm[i, j], fmt),\n",
        "                 horizontalalignment=\"center\",\n",
        "                 color=\"white\" if cm[i, j] > thresh else \"black\")\n",
        "\n",
        "    plt.tight_layout()\n",
        "    plt.ylabel('True label')\n",
        "    plt.xlabel('Predicted label')\n",
        "    plt.grid(b = 0)\n",
        "\n",
        "## The code for the function plot_confusion_matrix() is attributed to http://scikit-learn.org/stable/auto_examples/model_selection/plot_confusion_matrix.html\n",
        "\n",
        "# Plot non-normalized confusion matrix\n",
        "plt.figure()\n",
        "plot_confusion_matrix(cm, classes=list(map(str, labels)), title='Confusion matrix, without normalization')\n",
        "plt.figure()\n",
        "plot_confusion_matrix(cm, classes=list(map(str, labels)), normalize=True, title='Normalized confusion matrix')\n"
      ],
      "execution_count": 0,
      "outputs": [
        {
          "output_type": "execute_result",
          "data": {
            "text/plain": [
              "<Figure size 432x288 with 0 Axes>"
            ]
          },
          "metadata": {
            "tags": []
          },
          "execution_count": 26
        },
        {
          "output_type": "stream",
          "text": [
            "Confusion matrix, without normalization\n",
            "[[ 970    2    1    2    0    0    2    1    1    1]\n",
            " [   0 1127    1    3    0    1    1    1    1    0]\n",
            " [   6    2  998    5    4    1    3   11    2    0]\n",
            " [   0    3    5  975    1    5    0   11    1    9]\n",
            " [   3    2    2    1  954    0    6    7    1    6]\n",
            " [   6    0    1   11    1  858    6    2    4    3]\n",
            " [   7    3    1    1    3    8  931    3    1    0]\n",
            " [   1    5    8    4    1    0    1  999    0    9]\n",
            " [   6    6   13   15    4   10    5   12  896    7]\n",
            " [   1    8    0    6   10    4    2   14    1  963]]\n"
          ],
          "name": "stdout"
        },
        {
          "output_type": "execute_result",
          "data": {
            "text/plain": [
              "<Figure size 432x288 with 0 Axes>"
            ]
          },
          "metadata": {
            "tags": []
          },
          "execution_count": 26
        },
        {
          "output_type": "stream",
          "text": [
            "Normalized confusion matrix\n",
            "[[9.89795918e-01 2.04081633e-03 1.02040816e-03 2.04081633e-03\n",
            "  0.00000000e+00 0.00000000e+00 2.04081633e-03 1.02040816e-03\n",
            "  1.02040816e-03 1.02040816e-03]\n",
            " [0.00000000e+00 9.92951542e-01 8.81057269e-04 2.64317181e-03\n",
            "  0.00000000e+00 8.81057269e-04 8.81057269e-04 8.81057269e-04\n",
            "  8.81057269e-04 0.00000000e+00]\n",
            " [5.81395349e-03 1.93798450e-03 9.67054264e-01 4.84496124e-03\n",
            "  3.87596899e-03 9.68992248e-04 2.90697674e-03 1.06589147e-02\n",
            "  1.93798450e-03 0.00000000e+00]\n",
            " [0.00000000e+00 2.97029703e-03 4.95049505e-03 9.65346535e-01\n",
            "  9.90099010e-04 4.95049505e-03 0.00000000e+00 1.08910891e-02\n",
            "  9.90099010e-04 8.91089109e-03]\n",
            " [3.05498982e-03 2.03665988e-03 2.03665988e-03 1.01832994e-03\n",
            "  9.71486762e-01 0.00000000e+00 6.10997963e-03 7.12830957e-03\n",
            "  1.01832994e-03 6.10997963e-03]\n",
            " [6.72645740e-03 0.00000000e+00 1.12107623e-03 1.23318386e-02\n",
            "  1.12107623e-03 9.61883408e-01 6.72645740e-03 2.24215247e-03\n",
            "  4.48430493e-03 3.36322870e-03]\n",
            " [7.30688935e-03 3.13152401e-03 1.04384134e-03 1.04384134e-03\n",
            "  3.13152401e-03 8.35073069e-03 9.71816284e-01 3.13152401e-03\n",
            "  1.04384134e-03 0.00000000e+00]\n",
            " [9.72762646e-04 4.86381323e-03 7.78210117e-03 3.89105058e-03\n",
            "  9.72762646e-04 0.00000000e+00 9.72762646e-04 9.71789883e-01\n",
            "  0.00000000e+00 8.75486381e-03]\n",
            " [6.16016427e-03 6.16016427e-03 1.33470226e-02 1.54004107e-02\n",
            "  4.10677618e-03 1.02669405e-02 5.13347023e-03 1.23203285e-02\n",
            "  9.19917864e-01 7.18685832e-03]\n",
            " [9.91080278e-04 7.92864222e-03 0.00000000e+00 5.94648167e-03\n",
            "  9.91080278e-03 3.96432111e-03 1.98216056e-03 1.38751239e-02\n",
            "  9.91080278e-04 9.54410307e-01]]\n"
          ],
          "name": "stdout"
        },
        {
          "output_type": "display_data",
          "data": {
            "image/png": "[encoded data removed]",
            "text/plain": [
              "<Figure size 432x288 with 2 Axes>"
            ]
          },
          "metadata": {
            "tags": []
          }
        },
        {
          "output_type": "display_data",
          "data": {
            "image/png": "[encoded data removed]",
            "text/plain": [
              "<Figure size 432x288 with 2 Axes>"
            ]
          },
          "metadata": {
            "tags": []
          }
        }
      ]
    }
  ]
}