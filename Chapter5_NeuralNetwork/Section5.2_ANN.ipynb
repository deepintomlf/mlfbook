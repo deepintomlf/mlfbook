{
  "nbformat": 4,
  "nbformat_minor": 0,
  "metadata": {
    "colab": {
      "name": "PracticeSession1_HN.ipynb",
      "provenance": [],
      "collapsed_sections": [
        "G961Oko_PenB",
        "YoldZQgkPr6-",
        "95_nhUhhP3ji",
        "nAxj3de7072f",
        "5wu5oABiQHgn",
        "1aLLvJ5WOK4x"
      ],
      "include_colab_link": true
    },
    "kernelspec": {
      "name": "python3",
      "display_name": "Python 3"
    },
    "accelerator": "GPU"
  },
  "cells": [
    {
      "cell_type": "markdown",
      "metadata": {
        "id": "view-in-github",
        "colab_type": "text"
      },
      "source": [
        "<a href=\"https://colab.research.google.com/github/deepintomlf/mlfbook/blob/master/Chapter5_NeuralNetwork/Section5.2_ANN.ipynb\" target=\"_parent\"><img src=\"https://colab.research.google.com/assets/colab-badge.svg\" alt=\"Open In Colab\"/></a>"
      ]
    },
    {
      "cell_type": "markdown",
      "metadata": {
        "id": "0rw0SZOgvciq"
      },
      "source": [
        "\n",
        "# **Section 5.2 – Artificial Neural Network**\n",
        "This notebook contains all demo codes in Section 5.2."
      ]
    },
    {
      "cell_type": "markdown",
      "metadata": {
        "id": "iSAJ064BtXrq"
      },
      "source": [
        "### Implementation"
      ]
    },
    {
      "cell_type": "markdown",
      "metadata": {
        "id": "xWL5dnZItdxU"
      },
      "source": [
        "![alt text](https://docs.google.com/uc?export=download&id=1oWrlu3M05rP8GzEWU23EgTZpDiFj2Mop)\n",
        "\n",
        "\n",
        "\n",
        "*   Input layer ( $h^{0}$): $h^{0}(x) = x$.\n",
        "*  Hidden layer ($\\{h^{l}\\}_{l = 1}^{L-1}$);\n",
        "* Output layer ($h^{L}$).\n",
        "\n",
        "\\begin{eqnarray*}\n",
        "z^{l+1} &=& {\\color{blue}W^{l}} h^{l} + {\\color{blue}b^{l}},\\\\\n",
        "h^{l+1} &=& {\\color{red} \\sigma}(z^{l+1}),\n",
        "\\end{eqnarray*}\n",
        "where ${\\color{red}\\sigma}$ is an* activation function*, which is usually non-linear, e.g. the sigmoid function $\\sigma(x) = \\frac{1}{1+e^{-x}}$. The parameter set ${\\color{blue}\\theta} = (W^{l}, b^{l})_{l =1}^{L}$}.\n"
      ]
    },
    {
      "cell_type": "markdown",
      "metadata": {
        "id": "ClYeClr2vTc7"
      },
      "source": [
        "###ANN Classification###\n",
        "The input $x$ is a multi-dimensional vector; \n",
        "\n",
        "The ouput $y$ is a one-hot respresenation of the class. \n",
        "\n",
        "\n",
        "The number of neurons in the output layer is the total number of classes. \n",
        "\n",
        "The $j^{th}$ neurons in the output layer represents the probability of the output(label) being class $j$.  \n",
        "\n",
        " The **cross entropy **loss function is defined as follows:\n",
        "\n",
        "\\begin{eqnarray*}\n",
        "L(\\theta \\vert \\mathcal{D}) = - \\frac{1}{N}\\sum_{i =1}^{N} \\sum_{k} \\mathbb{1}( y_{i}=\\text{ class }k) \\log(p(y_{i} =\\text{ class }k \\vert x_{i})) \n",
        "\\end{eqnarray*}\n",
        "\n",
        "Note: The cross entropy between two probability distributions $p$ and $q$ is defined as \n",
        "\\begin{eqnarray*}\n",
        "H(p, q) =- \\sum_{x} p(x)\\log(q(x)).\n",
        "\\end{eqnarray*}\n",
        "\n",
        "$L(\\theta \\vert \\mathcal{D}) $ can be reformulated as \n",
        "\n",
        "\\begin{eqnarray*}\n",
        "L(\\theta \\vert \\mathcal{D}) = - \\frac{1}{N} \\langle  y_{i}, \\log(p_{\\theta }(  \\cdot \\vert x_{i})) \\rangle \n",
        "\\end{eqnarray*}\n"
      ]
    },
    {
      "cell_type": "markdown",
      "metadata": {
        "id": "xZBRzRhF_-xI"
      },
      "source": [
        "#Pipelines of Supervised Learning Algorithms# "
      ]
    },
    {
      "cell_type": "markdown",
      "metadata": {
        "id": "7E1pkUGgQHpb"
      },
      "source": [
        "The piplelines of the supervised learning algorithms are summarized as follows:\n",
        "\n",
        "1.   Import Datasets;\n",
        "2.   Take a look at the dataset (Statistical Analysis/Visualization);\n",
        "3.    Pre-process the dataset to prepare for the training process (normalization/reshape data);\n",
        "4.    Train a model;\n",
        "5.    Validate a model;\n",
        "6.    Cross Validation. \n"
      ]
    },
    {
      "cell_type": "markdown",
      "metadata": {
        "id": "X-vM1QWbbRDo"
      },
      "source": [
        "** We will apply the shallow neural network to the MNIST dataset as a concrete example to go through the pipelines of supervised learning algorithm.**"
      ]
    },
    {
      "cell_type": "markdown",
      "metadata": {
        "id": "rcEMqDnp3Ese"
      },
      "source": [
        "Problem: Build an algorithm to identify the digit label from the handwritten image using the MNIST dataset. \n",
        "\n",
        "![alt text](http://corochann.com/wp-content/uploads/2017/02/mnist_plot.png)"
      ]
    },
    {
      "cell_type": "markdown",
      "metadata": {
        "id": "Yo03nFuXWsP2"
      },
      "source": [
        "## **Pre-process MNIST Dataset**"
      ]
    },
    {
      "cell_type": "code",
      "metadata": {
        "id": "wTvLJzzjA6aB"
      },
      "source": [
        "import numpy as np\n",
        "from keras.datasets import mnist\n",
        "from tensorflow.keras.utils import to_categorical\n",
        "\n",
        "# Import MNIST dataset\n",
        "(x_mnist_train, y_mnist_train), (x_mnist_test, y_mnist_test) = mnist.load_data()\n",
        "\n",
        "# Reshape input image data from matrixs to vectors\n",
        "[n_samples_train, width, height] = np.shape(x_mnist_train)\n",
        "[n_samples_test, width, height] = np.shape(x_mnist_test)\n",
        "x_train = x_mnist_train.reshape([n_samples_train, width*height]).astype('float32')\n",
        "x_test = x_mnist_test.reshape([n_samples_test, width*height]).astype('float32')\n",
        "\n",
        "# Normalize the dataset\n",
        "x_train /= 255\n",
        "x_test /= 255\n",
        "\n",
        "# Convert class vectors to one-hot vector matrices\n",
        "num_classes = 10    \n",
        "y_train = to_categorical(y_mnist_train, num_classes)\n",
        "y_test = to_categorical(y_mnist_test, num_classes)"
      ],
      "execution_count": 2,
      "outputs": []
    },
    {
      "cell_type": "markdown",
      "metadata": {
        "id": "iJekBGxRXYGF"
      },
      "source": [
        "## **Implement ANN for Digit Classification**"
      ]
    },
    {
      "cell_type": "code",
      "metadata": {
        "id": "nz0Iu3FuXd0U",
        "colab": {
          "base_uri": "https://localhost:8080/"
        },
        "outputId": "71b180ff-c481-4674-91fe-289430beeee3"
      },
      "source": [
        "import time\n",
        "from tensorflow.keras.models import Sequential\n",
        "from tensorflow.keras.layers import Dense\n",
        "from tensorflow.keras.optimizers import SGD\n",
        "\n",
        "# In the MINST data, the input dim = 784 and the output dim = 10 \n",
        "def shallow_NN_model(n_hidden_neurons, output_dim = 10, input_dim = 784):\n",
        "    start_time = time.time()\n",
        "    print('Compiling Model ... ')\n",
        "    model = Sequential()\n",
        "    # Add a hidden layer with ReLU activation function\n",
        "    model.add(Dense(n_hidden_neurons, activation='relu', input_dim = input_dim))\n",
        "    # Add an output layer with softmax activation function for multi-classification problem\n",
        "    model.add(Dense(output_dim, activation = 'softmax'))\n",
        "    sgd = SGD(learning_rate=0.1, decay=1e-6, momentum=0.9, nesterov=True)\n",
        "    model.compile(loss='categorical_crossentropy', optimizer=sgd, metrics=['accuracy'])\n",
        "    print('Model compield in {0} seconds'.format(time.time() - start_time))\n",
        "    return model\n",
        "    \n",
        "epochs = 100\n",
        "batch  = 256\n",
        "n_hidden_neurons = 50\n",
        "model = shallow_NN_model(n_hidden_neurons)\n",
        "hist_ANN = model.fit(x_train, y_train, epochs=epochs, batch_size=batch, validation_data=(x_test, y_test), verbose=2)"
      ],
      "execution_count": 3,
      "outputs": [
        {
          "output_type": "stream",
          "text": [
            "Compiling Model ... \n",
            "Model compield in 5.806873559951782 seconds\n",
            "Epoch 1/100\n",
            "235/235 - 4s - loss: 0.3537 - accuracy: 0.8971 - val_loss: 0.1995 - val_accuracy: 0.9412\n",
            "Epoch 2/100\n",
            "235/235 - 1s - loss: 0.1687 - accuracy: 0.9509 - val_loss: 0.1521 - val_accuracy: 0.9554\n",
            "Epoch 3/100\n",
            "235/235 - 1s - loss: 0.1295 - accuracy: 0.9624 - val_loss: 0.1262 - val_accuracy: 0.9633\n",
            "Epoch 4/100\n",
            "235/235 - 1s - loss: 0.1086 - accuracy: 0.9674 - val_loss: 0.1318 - val_accuracy: 0.9612\n",
            "Epoch 5/100\n",
            "235/235 - 1s - loss: 0.0942 - accuracy: 0.9716 - val_loss: 0.1152 - val_accuracy: 0.9654\n",
            "Epoch 6/100\n",
            "235/235 - 1s - loss: 0.0847 - accuracy: 0.9743 - val_loss: 0.1070 - val_accuracy: 0.9682\n",
            "Epoch 7/100\n",
            "235/235 - 1s - loss: 0.0767 - accuracy: 0.9768 - val_loss: 0.0996 - val_accuracy: 0.9706\n",
            "Epoch 8/100\n",
            "235/235 - 1s - loss: 0.0681 - accuracy: 0.9797 - val_loss: 0.1122 - val_accuracy: 0.9670\n",
            "Epoch 9/100\n",
            "235/235 - 1s - loss: 0.0627 - accuracy: 0.9808 - val_loss: 0.1025 - val_accuracy: 0.9700\n",
            "Epoch 10/100\n",
            "235/235 - 1s - loss: 0.0582 - accuracy: 0.9817 - val_loss: 0.1073 - val_accuracy: 0.9671\n",
            "Epoch 11/100\n",
            "235/235 - 1s - loss: 0.0530 - accuracy: 0.9839 - val_loss: 0.1091 - val_accuracy: 0.9677\n",
            "Epoch 12/100\n",
            "235/235 - 1s - loss: 0.0497 - accuracy: 0.9846 - val_loss: 0.1019 - val_accuracy: 0.9696\n",
            "Epoch 13/100\n",
            "235/235 - 1s - loss: 0.0448 - accuracy: 0.9861 - val_loss: 0.1033 - val_accuracy: 0.9701\n",
            "Epoch 14/100\n",
            "235/235 - 1s - loss: 0.0416 - accuracy: 0.9873 - val_loss: 0.1131 - val_accuracy: 0.9682\n",
            "Epoch 15/100\n",
            "235/235 - 1s - loss: 0.0383 - accuracy: 0.9882 - val_loss: 0.1045 - val_accuracy: 0.9715\n",
            "Epoch 16/100\n",
            "235/235 - 1s - loss: 0.0359 - accuracy: 0.9885 - val_loss: 0.1139 - val_accuracy: 0.9680\n",
            "Epoch 17/100\n",
            "235/235 - 1s - loss: 0.0343 - accuracy: 0.9898 - val_loss: 0.1089 - val_accuracy: 0.9688\n",
            "Epoch 18/100\n",
            "235/235 - 1s - loss: 0.0308 - accuracy: 0.9910 - val_loss: 0.1109 - val_accuracy: 0.9689\n",
            "Epoch 19/100\n",
            "235/235 - 1s - loss: 0.0296 - accuracy: 0.9910 - val_loss: 0.1102 - val_accuracy: 0.9703\n",
            "Epoch 20/100\n",
            "235/235 - 1s - loss: 0.0262 - accuracy: 0.9921 - val_loss: 0.1088 - val_accuracy: 0.9709\n",
            "Epoch 21/100\n",
            "235/235 - 1s - loss: 0.0243 - accuracy: 0.9928 - val_loss: 0.1183 - val_accuracy: 0.9701\n",
            "Epoch 22/100\n",
            "235/235 - 1s - loss: 0.0241 - accuracy: 0.9926 - val_loss: 0.1150 - val_accuracy: 0.9706\n",
            "Epoch 23/100\n",
            "235/235 - 1s - loss: 0.0211 - accuracy: 0.9944 - val_loss: 0.1283 - val_accuracy: 0.9682\n",
            "Epoch 24/100\n",
            "235/235 - 1s - loss: 0.0194 - accuracy: 0.9948 - val_loss: 0.1268 - val_accuracy: 0.9677\n",
            "Epoch 25/100\n",
            "235/235 - 1s - loss: 0.0187 - accuracy: 0.9951 - val_loss: 0.1197 - val_accuracy: 0.9703\n",
            "Epoch 26/100\n",
            "235/235 - 1s - loss: 0.0169 - accuracy: 0.9955 - val_loss: 0.1249 - val_accuracy: 0.9704\n",
            "Epoch 27/100\n",
            "235/235 - 1s - loss: 0.0162 - accuracy: 0.9956 - val_loss: 0.1222 - val_accuracy: 0.9701\n",
            "Epoch 28/100\n",
            "235/235 - 1s - loss: 0.0150 - accuracy: 0.9962 - val_loss: 0.1284 - val_accuracy: 0.9693\n",
            "Epoch 29/100\n",
            "235/235 - 1s - loss: 0.0147 - accuracy: 0.9960 - val_loss: 0.1268 - val_accuracy: 0.9702\n",
            "Epoch 30/100\n",
            "235/235 - 1s - loss: 0.0124 - accuracy: 0.9971 - val_loss: 0.1281 - val_accuracy: 0.9698\n",
            "Epoch 31/100\n",
            "235/235 - 1s - loss: 0.0106 - accuracy: 0.9977 - val_loss: 0.1338 - val_accuracy: 0.9698\n",
            "Epoch 32/100\n",
            "235/235 - 1s - loss: 0.0100 - accuracy: 0.9980 - val_loss: 0.1376 - val_accuracy: 0.9688\n",
            "Epoch 33/100\n",
            "235/235 - 1s - loss: 0.0096 - accuracy: 0.9979 - val_loss: 0.1355 - val_accuracy: 0.9707\n",
            "Epoch 34/100\n",
            "235/235 - 1s - loss: 0.0084 - accuracy: 0.9985 - val_loss: 0.1351 - val_accuracy: 0.9701\n",
            "Epoch 35/100\n",
            "235/235 - 1s - loss: 0.0077 - accuracy: 0.9987 - val_loss: 0.1385 - val_accuracy: 0.9699\n",
            "Epoch 36/100\n",
            "235/235 - 1s - loss: 0.0073 - accuracy: 0.9987 - val_loss: 0.1419 - val_accuracy: 0.9703\n",
            "Epoch 37/100\n",
            "235/235 - 1s - loss: 0.0069 - accuracy: 0.9989 - val_loss: 0.1417 - val_accuracy: 0.9700\n",
            "Epoch 38/100\n",
            "235/235 - 1s - loss: 0.0059 - accuracy: 0.9992 - val_loss: 0.1415 - val_accuracy: 0.9683\n",
            "Epoch 39/100\n",
            "235/235 - 1s - loss: 0.0053 - accuracy: 0.9994 - val_loss: 0.1469 - val_accuracy: 0.9679\n",
            "Epoch 40/100\n",
            "235/235 - 1s - loss: 0.0056 - accuracy: 0.9993 - val_loss: 0.1443 - val_accuracy: 0.9699\n",
            "Epoch 41/100\n",
            "235/235 - 1s - loss: 0.0053 - accuracy: 0.9994 - val_loss: 0.1432 - val_accuracy: 0.9700\n",
            "Epoch 42/100\n",
            "235/235 - 1s - loss: 0.0045 - accuracy: 0.9996 - val_loss: 0.1473 - val_accuracy: 0.9702\n",
            "Epoch 43/100\n",
            "235/235 - 1s - loss: 0.0039 - accuracy: 0.9997 - val_loss: 0.1479 - val_accuracy: 0.9692\n",
            "Epoch 44/100\n",
            "235/235 - 1s - loss: 0.0036 - accuracy: 0.9999 - val_loss: 0.1499 - val_accuracy: 0.9704\n",
            "Epoch 45/100\n",
            "235/235 - 1s - loss: 0.0033 - accuracy: 0.9999 - val_loss: 0.1484 - val_accuracy: 0.9695\n",
            "Epoch 46/100\n",
            "235/235 - 1s - loss: 0.0030 - accuracy: 0.9999 - val_loss: 0.1465 - val_accuracy: 0.9703\n",
            "Epoch 47/100\n",
            "235/235 - 1s - loss: 0.0029 - accuracy: 0.9999 - val_loss: 0.1501 - val_accuracy: 0.9705\n",
            "Epoch 48/100\n",
            "235/235 - 1s - loss: 0.0028 - accuracy: 0.9999 - val_loss: 0.1508 - val_accuracy: 0.9711\n",
            "Epoch 49/100\n",
            "235/235 - 1s - loss: 0.0025 - accuracy: 1.0000 - val_loss: 0.1516 - val_accuracy: 0.9712\n",
            "Epoch 50/100\n",
            "235/235 - 1s - loss: 0.0025 - accuracy: 0.9999 - val_loss: 0.1529 - val_accuracy: 0.9701\n",
            "Epoch 51/100\n",
            "235/235 - 1s - loss: 0.0023 - accuracy: 1.0000 - val_loss: 0.1521 - val_accuracy: 0.9713\n",
            "Epoch 52/100\n",
            "235/235 - 1s - loss: 0.0022 - accuracy: 1.0000 - val_loss: 0.1533 - val_accuracy: 0.9703\n",
            "Epoch 53/100\n",
            "235/235 - 1s - loss: 0.0021 - accuracy: 1.0000 - val_loss: 0.1549 - val_accuracy: 0.9702\n",
            "Epoch 54/100\n",
            "235/235 - 1s - loss: 0.0019 - accuracy: 1.0000 - val_loss: 0.1563 - val_accuracy: 0.9704\n",
            "Epoch 55/100\n",
            "235/235 - 1s - loss: 0.0020 - accuracy: 1.0000 - val_loss: 0.1563 - val_accuracy: 0.9694\n",
            "Epoch 56/100\n",
            "235/235 - 1s - loss: 0.0019 - accuracy: 1.0000 - val_loss: 0.1567 - val_accuracy: 0.9705\n",
            "Epoch 57/100\n",
            "235/235 - 1s - loss: 0.0018 - accuracy: 1.0000 - val_loss: 0.1575 - val_accuracy: 0.9710\n",
            "Epoch 58/100\n",
            "235/235 - 1s - loss: 0.0017 - accuracy: 1.0000 - val_loss: 0.1569 - val_accuracy: 0.9711\n",
            "Epoch 59/100\n",
            "235/235 - 1s - loss: 0.0017 - accuracy: 1.0000 - val_loss: 0.1579 - val_accuracy: 0.9703\n",
            "Epoch 60/100\n",
            "235/235 - 1s - loss: 0.0017 - accuracy: 1.0000 - val_loss: 0.1595 - val_accuracy: 0.9710\n",
            "Epoch 61/100\n",
            "235/235 - 1s - loss: 0.0016 - accuracy: 1.0000 - val_loss: 0.1595 - val_accuracy: 0.9698\n",
            "Epoch 62/100\n",
            "235/235 - 1s - loss: 0.0015 - accuracy: 1.0000 - val_loss: 0.1613 - val_accuracy: 0.9712\n",
            "Epoch 63/100\n",
            "235/235 - 1s - loss: 0.0015 - accuracy: 1.0000 - val_loss: 0.1610 - val_accuracy: 0.9708\n",
            "Epoch 64/100\n",
            "235/235 - 1s - loss: 0.0014 - accuracy: 1.0000 - val_loss: 0.1614 - val_accuracy: 0.9710\n",
            "Epoch 65/100\n",
            "235/235 - 1s - loss: 0.0014 - accuracy: 1.0000 - val_loss: 0.1621 - val_accuracy: 0.9709\n",
            "Epoch 66/100\n",
            "235/235 - 1s - loss: 0.0014 - accuracy: 1.0000 - val_loss: 0.1633 - val_accuracy: 0.9707\n",
            "Epoch 67/100\n",
            "235/235 - 1s - loss: 0.0013 - accuracy: 1.0000 - val_loss: 0.1634 - val_accuracy: 0.9710\n",
            "Epoch 68/100\n",
            "235/235 - 1s - loss: 0.0013 - accuracy: 1.0000 - val_loss: 0.1646 - val_accuracy: 0.9701\n",
            "Epoch 69/100\n",
            "235/235 - 1s - loss: 0.0013 - accuracy: 1.0000 - val_loss: 0.1643 - val_accuracy: 0.9713\n",
            "Epoch 70/100\n",
            "235/235 - 1s - loss: 0.0012 - accuracy: 1.0000 - val_loss: 0.1655 - val_accuracy: 0.9713\n",
            "Epoch 71/100\n",
            "235/235 - 1s - loss: 0.0012 - accuracy: 1.0000 - val_loss: 0.1650 - val_accuracy: 0.9705\n",
            "Epoch 72/100\n",
            "235/235 - 1s - loss: 0.0011 - accuracy: 1.0000 - val_loss: 0.1658 - val_accuracy: 0.9708\n",
            "Epoch 73/100\n",
            "235/235 - 1s - loss: 0.0011 - accuracy: 1.0000 - val_loss: 0.1664 - val_accuracy: 0.9704\n",
            "Epoch 74/100\n",
            "235/235 - 1s - loss: 0.0011 - accuracy: 1.0000 - val_loss: 0.1668 - val_accuracy: 0.9709\n",
            "Epoch 75/100\n",
            "235/235 - 1s - loss: 0.0011 - accuracy: 1.0000 - val_loss: 0.1674 - val_accuracy: 0.9706\n",
            "Epoch 76/100\n",
            "235/235 - 1s - loss: 0.0011 - accuracy: 1.0000 - val_loss: 0.1688 - val_accuracy: 0.9712\n",
            "Epoch 77/100\n",
            "235/235 - 1s - loss: 0.0010 - accuracy: 1.0000 - val_loss: 0.1693 - val_accuracy: 0.9712\n",
            "Epoch 78/100\n",
            "235/235 - 1s - loss: 0.0010 - accuracy: 1.0000 - val_loss: 0.1687 - val_accuracy: 0.9709\n",
            "Epoch 79/100\n",
            "235/235 - 1s - loss: 9.8698e-04 - accuracy: 1.0000 - val_loss: 0.1697 - val_accuracy: 0.9704\n",
            "Epoch 80/100\n",
            "235/235 - 1s - loss: 9.7555e-04 - accuracy: 1.0000 - val_loss: 0.1696 - val_accuracy: 0.9708\n",
            "Epoch 81/100\n",
            "235/235 - 1s - loss: 9.4908e-04 - accuracy: 1.0000 - val_loss: 0.1700 - val_accuracy: 0.9705\n",
            "Epoch 82/100\n",
            "235/235 - 1s - loss: 9.3326e-04 - accuracy: 1.0000 - val_loss: 0.1709 - val_accuracy: 0.9712\n",
            "Epoch 83/100\n",
            "235/235 - 1s - loss: 9.2256e-04 - accuracy: 1.0000 - val_loss: 0.1714 - val_accuracy: 0.9710\n",
            "Epoch 84/100\n",
            "235/235 - 1s - loss: 9.0272e-04 - accuracy: 1.0000 - val_loss: 0.1717 - val_accuracy: 0.9706\n",
            "Epoch 85/100\n",
            "235/235 - 1s - loss: 8.8504e-04 - accuracy: 1.0000 - val_loss: 0.1717 - val_accuracy: 0.9710\n",
            "Epoch 86/100\n",
            "235/235 - 1s - loss: 8.7184e-04 - accuracy: 1.0000 - val_loss: 0.1731 - val_accuracy: 0.9703\n",
            "Epoch 87/100\n",
            "235/235 - 1s - loss: 8.5002e-04 - accuracy: 1.0000 - val_loss: 0.1729 - val_accuracy: 0.9714\n",
            "Epoch 88/100\n",
            "235/235 - 1s - loss: 8.3953e-04 - accuracy: 1.0000 - val_loss: 0.1726 - val_accuracy: 0.9712\n",
            "Epoch 89/100\n",
            "235/235 - 1s - loss: 8.3107e-04 - accuracy: 1.0000 - val_loss: 0.1726 - val_accuracy: 0.9712\n",
            "Epoch 90/100\n",
            "235/235 - 1s - loss: 8.1284e-04 - accuracy: 1.0000 - val_loss: 0.1739 - val_accuracy: 0.9708\n",
            "Epoch 91/100\n",
            "235/235 - 1s - loss: 7.9724e-04 - accuracy: 1.0000 - val_loss: 0.1748 - val_accuracy: 0.9706\n",
            "Epoch 92/100\n",
            "235/235 - 1s - loss: 7.8306e-04 - accuracy: 1.0000 - val_loss: 0.1746 - val_accuracy: 0.9711\n",
            "Epoch 93/100\n",
            "235/235 - 1s - loss: 7.6755e-04 - accuracy: 1.0000 - val_loss: 0.1750 - val_accuracy: 0.9707\n",
            "Epoch 94/100\n",
            "235/235 - 1s - loss: 7.6168e-04 - accuracy: 1.0000 - val_loss: 0.1751 - val_accuracy: 0.9709\n",
            "Epoch 95/100\n",
            "235/235 - 1s - loss: 7.5213e-04 - accuracy: 1.0000 - val_loss: 0.1759 - val_accuracy: 0.9708\n",
            "Epoch 96/100\n",
            "235/235 - 1s - loss: 7.3450e-04 - accuracy: 1.0000 - val_loss: 0.1758 - val_accuracy: 0.9711\n",
            "Epoch 97/100\n",
            "235/235 - 1s - loss: 7.3171e-04 - accuracy: 1.0000 - val_loss: 0.1775 - val_accuracy: 0.9711\n",
            "Epoch 98/100\n",
            "235/235 - 1s - loss: 7.1927e-04 - accuracy: 1.0000 - val_loss: 0.1759 - val_accuracy: 0.9702\n",
            "Epoch 99/100\n",
            "235/235 - 1s - loss: 7.0368e-04 - accuracy: 1.0000 - val_loss: 0.1779 - val_accuracy: 0.9713\n",
            "Epoch 100/100\n",
            "235/235 - 1s - loss: 6.9960e-04 - accuracy: 1.0000 - val_loss: 0.1775 - val_accuracy: 0.9706\n"
          ],
          "name": "stdout"
        }
      ]
    },
    {
      "cell_type": "markdown",
      "metadata": {
        "id": "rvDDuUlHlkRR"
      },
      "source": [
        "## **Plot the Fitting Result**"
      ]
    },
    {
      "cell_type": "code",
      "metadata": {
        "id": "VTfxkBQslgC7"
      },
      "source": [
        "import matplotlib.pyplot as plt\n",
        "\n",
        "# Define functions to plot the loss and accuracy\n",
        "def plot_hist_var(hist, str_var):\n",
        "  plt.figure()\n",
        "  plt.plot(hist.history[str_var], 'b', linewidth=1.5)\n",
        "  plt.plot(hist.history['val_'+str_var], 'r', linewidth=1.5)\n",
        "  plt.legend(['Training set','Testing set'])\n",
        "  plt.xlabel('Epochs')\n",
        "  plt.ylabel(str_var[0].upper()+str_var[1:])"
      ],
      "execution_count": 4,
      "outputs": []
    },
    {
      "cell_type": "code",
      "metadata": {
        "id": "iKKvaGxS3jYX",
        "colab": {
          "base_uri": "https://localhost:8080/",
          "height": 541
        },
        "outputId": "e67e5f29-8a8f-4cdf-f935-abcd988e4d61"
      },
      "source": [
        "plot_hist_var(hist_ANN, 'loss')\n",
        "plot_hist_var(hist_ANN, 'accuracy')"
      ],
      "execution_count": 5,
      "outputs": [
        {
          "output_type": "display_data",
          "data": {
            "image/png": "[encoded data removed]",
            "text/plain": [
              "<Figure size 432x288 with 1 Axes>"
            ]
          },
          "metadata": {
            "needs_background": "light"
          }
        },
        {
          "output_type": "display_data",
          "data": {
            "image/png": "[encoded data removed]",
            "text/plain": [
              "<Figure size 432x288 with 1 Axes>"
            ]
          },
          "metadata": {
            "needs_background": "light"
          }
        }
      ]
    },
    {
      "cell_type": "markdown",
      "metadata": {
        "id": "fTnx4Ke0-5wx"
      },
      "source": [
        "## **Assess the performance of a fitted model**\n",
        "\n"
      ]
    },
    {
      "cell_type": "markdown",
      "metadata": {
        "id": "OW3ed_QJ0oNi"
      },
      "source": [
        "There are various measurements of the performance of the fitted models in classification problems.\n",
        "*   Loss function and the accuracy;\n",
        "*   Confusion matrix. "
      ]
    },
    {
      "cell_type": "code",
      "metadata": {
        "id": "JfACgwxC-45m",
        "colab": {
          "base_uri": "https://localhost:8080/"
        },
        "outputId": "4067c990-7505-462d-af14-be89c8b16d78"
      },
      "source": [
        "score =  model.evaluate(x_test, y_test)\n",
        "print(model.metrics_names)\n",
        "print('Test ' + model.metrics_names[0] , score[0])\n",
        "print('Test '+ model.metrics_names[1] , score[1])"
      ],
      "execution_count": 6,
      "outputs": [
        {
          "output_type": "stream",
          "text": [
            "313/313 [==============================] - 1s 3ms/step - loss: 0.1775 - accuracy: 0.9706\n",
            "['loss', 'accuracy']\n",
            "Test loss 0.17745350301265717\n",
            "Test accuracy 0.9706000089645386\n"
          ],
          "name": "stdout"
        }
      ]
    },
    {
      "cell_type": "code",
      "metadata": {
        "id": "TVKmyfeG5_gS",
        "colab": {
          "base_uri": "https://localhost:8080/"
        },
        "outputId": "697f7c26-c66f-4cac-f9c1-83822c783503"
      },
      "source": [
        "from sklearn.metrics import confusion_matrix\n",
        "\n",
        "Y_test_prob_pred = model.predict(x_test)\n",
        "Y_test_class_pred = np.argmax(model.predict(x_test), axis=-1)\n",
        "\n",
        "print(Y_test_class_pred)\n",
        "cm = confusion_matrix( y_mnist_test, Y_test_class_pred )\n",
        "labels = np.arange(10)"
      ],
      "execution_count": 7,
      "outputs": [
        {
          "output_type": "stream",
          "text": [
            "[7 2 1 ... 4 5 6]\n"
          ],
          "name": "stdout"
        }
      ]
    },
    {
      "cell_type": "code",
      "metadata": {
        "id": "jnmn95ei2zrD",
        "colab": {
          "base_uri": "https://localhost:8080/",
          "height": 1000
        },
        "outputId": "36ea7906-35df-44d8-8945-90831ff0c115"
      },
      "source": [
        "import itertools  \n",
        "def plot_confusion_matrix(cm, classes,\n",
        "                          normalize=False,\n",
        "                          title='Confusion matrix',\n",
        "                          cmap=plt.cm.Blues):\n",
        "    \"\"\"\n",
        "    This function prints and plots the confusion matrix.\n",
        "    Normalization can be applied by setting `normalize=True`.\n",
        "    \"\"\"\n",
        "    if normalize:\n",
        "        cm = cm.astype('float') / cm.sum(axis=1)[:, np.newaxis]\n",
        "        print(\"Normalized confusion matrix\")\n",
        "    else:\n",
        "        print('Confusion matrix, without normalization')\n",
        "\n",
        "    print(cm)\n",
        "\n",
        "    plt.imshow(cm, interpolation='nearest', cmap=cmap)\n",
        "    plt.title(title)\n",
        "    plt.colorbar()\n",
        "    tick_marks = np.arange(len(classes))\n",
        "    plt.xticks(tick_marks, classes, rotation=45)\n",
        "    plt.yticks(tick_marks, classes)\n",
        "\n",
        "    fmt = '.2f' if normalize else 'd'\n",
        "    thresh = cm.max() / 2.\n",
        "    for i, j in itertools.product(range(cm.shape[0]), range(cm.shape[1])):\n",
        "        plt.text(j, i, format(cm[i, j], fmt),\n",
        "                 horizontalalignment=\"center\",\n",
        "                 color=\"white\" if cm[i, j] > thresh else \"black\")\n",
        "\n",
        "    plt.tight_layout()\n",
        "    plt.ylabel('True label')\n",
        "    plt.xlabel('Predicted label')\n",
        "    plt.grid(b = 0)\n",
        "\n",
        "## The code for the function plot_confusion_matrix() is attributed to http://scikit-learn.org/stable/auto_examples/model_selection/plot_confusion_matrix.html\n",
        "\n",
        "# Plot non-normalized confusion matrix\n",
        "plt.figure()\n",
        "plot_confusion_matrix(cm, classes=list(map(str, labels)), title='Confusion matrix, without normalization')\n",
        "plt.figure()\n",
        "plot_confusion_matrix(cm, classes=list(map(str, labels)), normalize=True, title='Normalized confusion matrix')\n"
      ],
      "execution_count": 8,
      "outputs": [
        {
          "output_type": "stream",
          "text": [
            "Confusion matrix, without normalization\n",
            "[[ 959    1    0    0    0    4    6    2    3    5]\n",
            " [   0 1126    3    1    0    2    1    1    1    0]\n",
            " [   4    2  998    6    5    0    4    5    8    0]\n",
            " [   1    1    5  977    1    6    2    3    5    9]\n",
            " [   2    0    2    0  955    2    6    3    3    9]\n",
            " [   4    1    0   15    2  857    4    1    4    4]\n",
            " [   4    3    2    1    5    3  937    0    3    0]\n",
            " [   1    3    8    5    2    1    0  998    3    7]\n",
            " [   6    0    5    8    6    6    3    4  930    6]\n",
            " [   5    2    0    8    9    5    1    7    3  969]]\n",
            "Normalized confusion matrix\n",
            "[[9.78571429e-01 1.02040816e-03 0.00000000e+00 0.00000000e+00\n",
            "  0.00000000e+00 4.08163265e-03 6.12244898e-03 2.04081633e-03\n",
            "  3.06122449e-03 5.10204082e-03]\n",
            " [0.00000000e+00 9.92070485e-01 2.64317181e-03 8.81057269e-04\n",
            "  0.00000000e+00 1.76211454e-03 8.81057269e-04 8.81057269e-04\n",
            "  8.81057269e-04 0.00000000e+00]\n",
            " [3.87596899e-03 1.93798450e-03 9.67054264e-01 5.81395349e-03\n",
            "  4.84496124e-03 0.00000000e+00 3.87596899e-03 4.84496124e-03\n",
            "  7.75193798e-03 0.00000000e+00]\n",
            " [9.90099010e-04 9.90099010e-04 4.95049505e-03 9.67326733e-01\n",
            "  9.90099010e-04 5.94059406e-03 1.98019802e-03 2.97029703e-03\n",
            "  4.95049505e-03 8.91089109e-03]\n",
            " [2.03665988e-03 0.00000000e+00 2.03665988e-03 0.00000000e+00\n",
            "  9.72505092e-01 2.03665988e-03 6.10997963e-03 3.05498982e-03\n",
            "  3.05498982e-03 9.16496945e-03]\n",
            " [4.48430493e-03 1.12107623e-03 0.00000000e+00 1.68161435e-02\n",
            "  2.24215247e-03 9.60762332e-01 4.48430493e-03 1.12107623e-03\n",
            "  4.48430493e-03 4.48430493e-03]\n",
            " [4.17536534e-03 3.13152401e-03 2.08768267e-03 1.04384134e-03\n",
            "  5.21920668e-03 3.13152401e-03 9.78079332e-01 0.00000000e+00\n",
            "  3.13152401e-03 0.00000000e+00]\n",
            " [9.72762646e-04 2.91828794e-03 7.78210117e-03 4.86381323e-03\n",
            "  1.94552529e-03 9.72762646e-04 0.00000000e+00 9.70817121e-01\n",
            "  2.91828794e-03 6.80933852e-03]\n",
            " [6.16016427e-03 0.00000000e+00 5.13347023e-03 8.21355236e-03\n",
            "  6.16016427e-03 6.16016427e-03 3.08008214e-03 4.10677618e-03\n",
            "  9.54825462e-01 6.16016427e-03]\n",
            " [4.95540139e-03 1.98216056e-03 0.00000000e+00 7.92864222e-03\n",
            "  8.91972250e-03 4.95540139e-03 9.91080278e-04 6.93756194e-03\n",
            "  2.97324083e-03 9.60356789e-01]]\n"
          ],
          "name": "stdout"
        },
        {
          "output_type": "display_data",
          "data": {
            "image/png": "[encoded data removed]",
            "text/plain": [
              "<Figure size 432x288 with 2 Axes>"
            ]
          },
          "metadata": {
            "needs_background": "light"
          }
        },
        {
          "output_type": "display_data",
          "data": {
            "image/png": "[encoded data removed]",
            "text/plain": [
              "<Figure size 432x288 with 2 Axes>"
            ]
          },
          "metadata": {
            "needs_background": "light"
          }
        }
      ]
    }
  ]
}