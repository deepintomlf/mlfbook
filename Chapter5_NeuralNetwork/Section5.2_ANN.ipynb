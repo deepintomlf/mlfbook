{
  "nbformat": 4,
  "nbformat_minor": 0,
  "metadata": {
    "colab": {
      "name": "PracticeSession1_HN.ipynb",
      "provenance": [],
      "collapsed_sections": [
        "G961Oko_PenB",
        "YoldZQgkPr6-",
        "95_nhUhhP3ji",
        "nAxj3de7072f",
        "5wu5oABiQHgn",
        "1aLLvJ5WOK4x"
      ],
      "include_colab_link": true
    },
    "kernelspec": {
      "name": "python3",
      "display_name": "Python 3"
    },
    "accelerator": "GPU"
  },
  "cells": [
    {
      "cell_type": "markdown",
      "metadata": {
        "id": "view-in-github",
        "colab_type": "text"
      },
      "source": [
        "<a href=\"https://colab.research.google.com/github/deepintomlf/mlfbook/blob/dev/Chapter5_NeuralNetwork/Section5.2_ANN.ipynb\" target=\"_parent\"><img src=\"https://colab.research.google.com/assets/colab-badge.svg\" alt=\"Open In Colab\"/></a>"
      ]
    },
    {
      "cell_type": "markdown",
      "metadata": {
        "id": "0rw0SZOgvciq",
        "colab_type": "text"
      },
      "source": [
        "\n",
        "# **Section 5.2 – Artificial Neural Network**\n",
        "This notebook contains all demo codes in Section 5.2."
      ]
    },
    {
      "cell_type": "markdown",
      "metadata": {
        "id": "iSAJ064BtXrq",
        "colab_type": "text"
      },
      "source": [
        "### Implementation"
      ]
    },
    {
      "cell_type": "markdown",
      "metadata": {
        "id": "xWL5dnZItdxU",
        "colab_type": "text"
      },
      "source": [
        "![alt text](https://docs.google.com/uc?export=download&id=1oWrlu3M05rP8GzEWU23EgTZpDiFj2Mop)\n",
        "\n",
        "\n",
        "\n",
        "*   Input layer ( $h^{0}$): $h^{0}(x) = x$.\n",
        "*  Hidden layer ($\\{h^{l}\\}_{l = 1}^{L-1}$);\n",
        "* Output layer ($h^{L}$).\n",
        "\n",
        "\\begin{eqnarray*}\n",
        "z^{l+1} &=& {\\color{blue}W^{l}} h^{l} + {\\color{blue}b^{l}},\\\\\n",
        "h^{l+1} &=& {\\color{red} \\sigma}(z^{l+1}),\n",
        "\\end{eqnarray*}\n",
        "where ${\\color{red}\\sigma}$ is an* activation function*, which is usually non-linear, e.g. the sigmoid function $\\sigma(x) = \\frac{1}{1+e^{-x}}$. The parameter set ${\\color{blue}\\theta} = (W^{l}, b^{l})_{l =1}^{L}$}.\n"
      ]
    },
    {
      "cell_type": "markdown",
      "metadata": {
        "id": "ClYeClr2vTc7",
        "colab_type": "text"
      },
      "source": [
        "###ANN Classification###\n",
        "The input $x$ is a multi-dimensional vector; \n",
        "\n",
        "The ouput $y$ is a one-hot respresenation of the class. \n",
        "\n",
        "\n",
        "The number of neurons in the output layer is the total number of classes. \n",
        "\n",
        "The $j^{th}$ neurons in the output layer represents the probability of the output(label) being class $j$.  \n",
        "\n",
        " The **cross entropy **loss function is defined as follows:\n",
        "\n",
        "\\begin{eqnarray*}\n",
        "L(\\theta \\vert \\mathcal{D}) = - \\frac{1}{N}\\sum_{i =1}^{N} \\sum_{k} \\mathbb{1}( y_{i}=\\text{ class }k) \\log(p(y_{i} =\\text{ class }k \\vert x_{i})) \n",
        "\\end{eqnarray*}\n",
        "\n",
        "Note: The cross entropy between two probability distributions $p$ and $q$ is defined as \n",
        "\\begin{eqnarray*}\n",
        "H(p, q) =- \\sum_{x} p(x)\\log(q(x)).\n",
        "\\end{eqnarray*}\n",
        "\n",
        "$L(\\theta \\vert \\mathcal{D}) $ can be reformulated as \n",
        "\n",
        "\\begin{eqnarray*}\n",
        "L(\\theta \\vert \\mathcal{D}) = - \\frac{1}{N} \\langle  y_{i}, \\log(p_{\\theta }(  \\cdot \\vert x_{i})) \\rangle \n",
        "\\end{eqnarray*}\n"
      ]
    },
    {
      "cell_type": "markdown",
      "metadata": {
        "id": "xZBRzRhF_-xI",
        "colab_type": "text"
      },
      "source": [
        "#Pipelines of Supervised Learning Algorithms# "
      ]
    },
    {
      "cell_type": "markdown",
      "metadata": {
        "id": "7E1pkUGgQHpb",
        "colab_type": "text"
      },
      "source": [
        "The piplelines of the supervised learning algorithms are summarized as follows:\n",
        "\n",
        "1.   Import Datasets;\n",
        "2.   Take a look at the dataset (Statistical Analysis/Visualization);\n",
        "3.    Pre-process the dataset to prepare for the training process (normalization/reshape data);\n",
        "4.    Train a model;\n",
        "5.    Validate a model;\n",
        "6.    Cross Validation. \n"
      ]
    },
    {
      "cell_type": "markdown",
      "metadata": {
        "id": "X-vM1QWbbRDo",
        "colab_type": "text"
      },
      "source": [
        "** We will apply the shallow neural network to the MNIST dataset as a concrete example to go through the pipelines of supervised learning algorithm.**"
      ]
    },
    {
      "cell_type": "markdown",
      "metadata": {
        "id": "rcEMqDnp3Ese",
        "colab_type": "text"
      },
      "source": [
        "Problem: Build an algorithm to identify the digit label from the handwritten image using the MNIST dataset. \n",
        "\n",
        "![alt text](http://corochann.com/wp-content/uploads/2017/02/mnist_plot.png)"
      ]
    },
    {
      "cell_type": "markdown",
      "metadata": {
        "id": "Yo03nFuXWsP2",
        "colab_type": "text"
      },
      "source": [
        "## **Pre-process MNIST Dataset**"
      ]
    },
    {
      "cell_type": "code",
      "metadata": {
        "id": "wTvLJzzjA6aB",
        "colab_type": "code",
        "colab": {
          "base_uri": "https://localhost:8080/",
          "height": 68
        },
        "outputId": "ea6d8b45-dfa1-4d14-ee83-da54969f1e42"
      },
      "source": [
        "import numpy as np\n",
        "from keras.datasets import mnist\n",
        "from keras.utils import to_categorical\n",
        "\n",
        "# Import MNIST dataset\n",
        "(x_mnist_train, y_mnist_train), (x_mnist_test, y_mnist_test) = mnist.load_data()\n",
        "\n",
        "# Reshape input image data from matrixs to vectors\n",
        "[n_samples_train, width, height] = np.shape(x_mnist_train)\n",
        "[n_samples_test, width, height] = np.shape(x_mnist_test)\n",
        "x_train = x_mnist_train.reshape([n_samples_train, width*height]).astype('float32')\n",
        "x_test = x_mnist_test.reshape([n_samples_test, width*height]).astype('float32')\n",
        "\n",
        "# Normalize the dataset\n",
        "x_train /= 255\n",
        "x_test /= 255\n",
        "\n",
        "# Convert class vectors to one-hot vector matrices\n",
        "num_classes = 10    \n",
        "y_train = to_categorical(y_mnist_train, num_classes)\n",
        "y_test = to_categorical(y_mnist_test, num_classes)"
      ],
      "execution_count": 1,
      "outputs": [
        {
          "output_type": "stream",
          "text": [
            "Using TensorFlow backend.\n"
          ],
          "name": "stderr"
        },
        {
          "output_type": "stream",
          "text": [
            "Downloading data from https://s3.amazonaws.com/img-datasets/mnist.npz\n",
            "11493376/11490434 [==============================] - 1s 0us/step\n"
          ],
          "name": "stdout"
        }
      ]
    },
    {
      "cell_type": "markdown",
      "metadata": {
        "id": "iJekBGxRXYGF",
        "colab_type": "text"
      },
      "source": [
        "## **Implement ANN for Digit Classification**"
      ]
    },
    {
      "cell_type": "code",
      "metadata": {
        "id": "nz0Iu3FuXd0U",
        "colab_type": "code",
        "outputId": "f97cf41f-6a3f-438d-e754-c70f64806506",
        "colab": {
          "base_uri": "https://localhost:8080/",
          "height": 1000
        }
      },
      "source": [
        "import time\n",
        "from tensorflow.keras.models import Sequential\n",
        "from tensorflow.keras.layers import Dense\n",
        "from tensorflow.keras.optimizers import SGD\n",
        "\n",
        "def shallow_NN_model(n_hidden_neurons):\n",
        "    start_time = time.time()\n",
        "    print('Compiling Model ... ')\n",
        "    model = Sequential()\n",
        "    # Add a hidden layer with ReLU activation function\n",
        "    model.add(Dense(n_hidden_neurons, activation='relu', input_dim=784))\n",
        "    # Add an output layer with softmax activation function for multi-classification problem\n",
        "    model.add(Dense(10, activation = 'softmax'))\n",
        "    sgd = SGD(lr=0.1, decay=1e-6, momentum=0.9, nesterov=True)\n",
        "    model.compile(loss='categorical_crossentropy', optimizer=sgd, metrics=['accuracy'])\n",
        "    print('Model compield in {0} seconds'.format(time.time() - start_time))\n",
        "    return model\n",
        "    \n",
        "epochs = 100\n",
        "batch  = 256\n",
        "n_hidden_neurons = 50\n",
        "model = shallow_NN_model(n_hidden_neurons)\n",
        "hist_ANN = model.fit(x_train, y_train, epochs=epochs, batch_size=batch, validation_data=(x_test, y_test), verbose=2)"
      ],
      "execution_count": 20,
      "outputs": [
        {
          "output_type": "stream",
          "text": [
            "Compiling Model ... \n",
            "Model compield in 0.04481840133666992 seconds\n",
            "Epoch 1/100\n",
            "235/235 - 1s - loss: 0.3276 - accuracy: 0.9044 - val_loss: 0.1858 - val_accuracy: 0.9423\n",
            "Epoch 2/100\n",
            "235/235 - 1s - loss: 0.1575 - accuracy: 0.9536 - val_loss: 0.1294 - val_accuracy: 0.9585\n",
            "Epoch 3/100\n",
            "235/235 - 1s - loss: 0.1203 - accuracy: 0.9653 - val_loss: 0.1173 - val_accuracy: 0.9617\n",
            "Epoch 4/100\n",
            "235/235 - 1s - loss: 0.0993 - accuracy: 0.9700 - val_loss: 0.1051 - val_accuracy: 0.9653\n",
            "Epoch 5/100\n",
            "235/235 - 1s - loss: 0.0841 - accuracy: 0.9747 - val_loss: 0.0961 - val_accuracy: 0.9692\n",
            "Epoch 6/100\n",
            "235/235 - 1s - loss: 0.0738 - accuracy: 0.9776 - val_loss: 0.0933 - val_accuracy: 0.9712\n",
            "Epoch 7/100\n",
            "235/235 - 1s - loss: 0.0656 - accuracy: 0.9800 - val_loss: 0.0986 - val_accuracy: 0.9700\n",
            "Epoch 8/100\n",
            "235/235 - 1s - loss: 0.0590 - accuracy: 0.9821 - val_loss: 0.0890 - val_accuracy: 0.9730\n",
            "Epoch 9/100\n",
            "235/235 - 1s - loss: 0.0528 - accuracy: 0.9840 - val_loss: 0.0897 - val_accuracy: 0.9727\n",
            "Epoch 10/100\n",
            "235/235 - 1s - loss: 0.0476 - accuracy: 0.9852 - val_loss: 0.0867 - val_accuracy: 0.9730\n",
            "Epoch 11/100\n",
            "235/235 - 1s - loss: 0.0427 - accuracy: 0.9870 - val_loss: 0.0938 - val_accuracy: 0.9718\n",
            "Epoch 12/100\n",
            "235/235 - 1s - loss: 0.0387 - accuracy: 0.9885 - val_loss: 0.0866 - val_accuracy: 0.9744\n",
            "Epoch 13/100\n",
            "235/235 - 1s - loss: 0.0350 - accuracy: 0.9893 - val_loss: 0.0898 - val_accuracy: 0.9735\n",
            "Epoch 14/100\n",
            "235/235 - 1s - loss: 0.0328 - accuracy: 0.9902 - val_loss: 0.0963 - val_accuracy: 0.9721\n",
            "Epoch 15/100\n",
            "235/235 - 1s - loss: 0.0301 - accuracy: 0.9909 - val_loss: 0.0875 - val_accuracy: 0.9743\n",
            "Epoch 16/100\n",
            "235/235 - 1s - loss: 0.0274 - accuracy: 0.9921 - val_loss: 0.0947 - val_accuracy: 0.9732\n",
            "Epoch 17/100\n",
            "235/235 - 1s - loss: 0.0241 - accuracy: 0.9934 - val_loss: 0.0884 - val_accuracy: 0.9752\n",
            "Epoch 18/100\n",
            "235/235 - 1s - loss: 0.0227 - accuracy: 0.9938 - val_loss: 0.0992 - val_accuracy: 0.9718\n",
            "Epoch 19/100\n",
            "235/235 - 1s - loss: 0.0197 - accuracy: 0.9947 - val_loss: 0.0960 - val_accuracy: 0.9735\n",
            "Epoch 20/100\n",
            "235/235 - 1s - loss: 0.0185 - accuracy: 0.9948 - val_loss: 0.0991 - val_accuracy: 0.9729\n",
            "Epoch 21/100\n",
            "235/235 - 1s - loss: 0.0164 - accuracy: 0.9958 - val_loss: 0.0961 - val_accuracy: 0.9750\n",
            "Epoch 22/100\n",
            "235/235 - 1s - loss: 0.0168 - accuracy: 0.9954 - val_loss: 0.0993 - val_accuracy: 0.9741\n",
            "Epoch 23/100\n",
            "235/235 - 1s - loss: 0.0142 - accuracy: 0.9965 - val_loss: 0.1013 - val_accuracy: 0.9737\n",
            "Epoch 24/100\n",
            "235/235 - 1s - loss: 0.0128 - accuracy: 0.9970 - val_loss: 0.0975 - val_accuracy: 0.9747\n",
            "Epoch 25/100\n",
            "235/235 - 1s - loss: 0.0116 - accuracy: 0.9973 - val_loss: 0.0973 - val_accuracy: 0.9746\n",
            "Epoch 26/100\n",
            "235/235 - 1s - loss: 0.0106 - accuracy: 0.9977 - val_loss: 0.1027 - val_accuracy: 0.9738\n",
            "Epoch 27/100\n",
            "235/235 - 1s - loss: 0.0099 - accuracy: 0.9979 - val_loss: 0.1039 - val_accuracy: 0.9734\n",
            "Epoch 28/100\n",
            "235/235 - 1s - loss: 0.0085 - accuracy: 0.9984 - val_loss: 0.1053 - val_accuracy: 0.9727\n",
            "Epoch 29/100\n",
            "235/235 - 1s - loss: 0.0077 - accuracy: 0.9988 - val_loss: 0.1028 - val_accuracy: 0.9746\n",
            "Epoch 30/100\n",
            "235/235 - 1s - loss: 0.0063 - accuracy: 0.9992 - val_loss: 0.1075 - val_accuracy: 0.9735\n",
            "Epoch 31/100\n",
            "235/235 - 1s - loss: 0.0058 - accuracy: 0.9995 - val_loss: 0.1077 - val_accuracy: 0.9744\n",
            "Epoch 32/100\n",
            "235/235 - 1s - loss: 0.0054 - accuracy: 0.9995 - val_loss: 0.1061 - val_accuracy: 0.9760\n",
            "Epoch 33/100\n",
            "235/235 - 1s - loss: 0.0047 - accuracy: 0.9997 - val_loss: 0.1107 - val_accuracy: 0.9744\n",
            "Epoch 34/100\n",
            "235/235 - 1s - loss: 0.0040 - accuracy: 0.9999 - val_loss: 0.1119 - val_accuracy: 0.9742\n",
            "Epoch 35/100\n",
            "235/235 - 1s - loss: 0.0041 - accuracy: 0.9997 - val_loss: 0.1133 - val_accuracy: 0.9741\n",
            "Epoch 36/100\n",
            "235/235 - 1s - loss: 0.0037 - accuracy: 0.9998 - val_loss: 0.1145 - val_accuracy: 0.9751\n",
            "Epoch 37/100\n",
            "235/235 - 1s - loss: 0.0035 - accuracy: 0.9999 - val_loss: 0.1117 - val_accuracy: 0.9742\n",
            "Epoch 38/100\n",
            "235/235 - 1s - loss: 0.0031 - accuracy: 0.9999 - val_loss: 0.1131 - val_accuracy: 0.9749\n",
            "Epoch 39/100\n",
            "235/235 - 1s - loss: 0.0029 - accuracy: 1.0000 - val_loss: 0.1111 - val_accuracy: 0.9751\n",
            "Epoch 40/100\n",
            "235/235 - 1s - loss: 0.0026 - accuracy: 1.0000 - val_loss: 0.1135 - val_accuracy: 0.9746\n",
            "Epoch 41/100\n",
            "235/235 - 1s - loss: 0.0025 - accuracy: 0.9999 - val_loss: 0.1154 - val_accuracy: 0.9750\n",
            "Epoch 42/100\n",
            "235/235 - 1s - loss: 0.0024 - accuracy: 1.0000 - val_loss: 0.1145 - val_accuracy: 0.9748\n",
            "Epoch 43/100\n",
            "235/235 - 1s - loss: 0.0022 - accuracy: 1.0000 - val_loss: 0.1154 - val_accuracy: 0.9745\n",
            "Epoch 44/100\n",
            "235/235 - 1s - loss: 0.0021 - accuracy: 1.0000 - val_loss: 0.1154 - val_accuracy: 0.9749\n",
            "Epoch 45/100\n",
            "235/235 - 1s - loss: 0.0022 - accuracy: 1.0000 - val_loss: 0.1155 - val_accuracy: 0.9748\n",
            "Epoch 46/100\n",
            "235/235 - 1s - loss: 0.0020 - accuracy: 1.0000 - val_loss: 0.1180 - val_accuracy: 0.9748\n",
            "Epoch 47/100\n",
            "235/235 - 1s - loss: 0.0019 - accuracy: 1.0000 - val_loss: 0.1158 - val_accuracy: 0.9757\n",
            "Epoch 48/100\n",
            "235/235 - 1s - loss: 0.0018 - accuracy: 1.0000 - val_loss: 0.1199 - val_accuracy: 0.9742\n",
            "Epoch 49/100\n",
            "235/235 - 1s - loss: 0.0017 - accuracy: 1.0000 - val_loss: 0.1191 - val_accuracy: 0.9757\n",
            "Epoch 50/100\n",
            "235/235 - 1s - loss: 0.0017 - accuracy: 1.0000 - val_loss: 0.1183 - val_accuracy: 0.9750\n",
            "Epoch 51/100\n",
            "235/235 - 1s - loss: 0.0016 - accuracy: 1.0000 - val_loss: 0.1202 - val_accuracy: 0.9751\n",
            "Epoch 52/100\n",
            "235/235 - 1s - loss: 0.0015 - accuracy: 1.0000 - val_loss: 0.1193 - val_accuracy: 0.9747\n",
            "Epoch 53/100\n",
            "235/235 - 1s - loss: 0.0015 - accuracy: 1.0000 - val_loss: 0.1206 - val_accuracy: 0.9746\n",
            "Epoch 54/100\n",
            "235/235 - 1s - loss: 0.0015 - accuracy: 1.0000 - val_loss: 0.1209 - val_accuracy: 0.9749\n",
            "Epoch 55/100\n",
            "235/235 - 1s - loss: 0.0014 - accuracy: 1.0000 - val_loss: 0.1211 - val_accuracy: 0.9749\n",
            "Epoch 56/100\n",
            "235/235 - 1s - loss: 0.0014 - accuracy: 1.0000 - val_loss: 0.1214 - val_accuracy: 0.9753\n",
            "Epoch 57/100\n",
            "235/235 - 1s - loss: 0.0013 - accuracy: 1.0000 - val_loss: 0.1218 - val_accuracy: 0.9750\n",
            "Epoch 58/100\n",
            "235/235 - 1s - loss: 0.0013 - accuracy: 1.0000 - val_loss: 0.1234 - val_accuracy: 0.9748\n",
            "Epoch 59/100\n",
            "235/235 - 1s - loss: 0.0012 - accuracy: 1.0000 - val_loss: 0.1228 - val_accuracy: 0.9749\n",
            "Epoch 60/100\n",
            "235/235 - 1s - loss: 0.0012 - accuracy: 1.0000 - val_loss: 0.1226 - val_accuracy: 0.9747\n",
            "Epoch 61/100\n",
            "235/235 - 1s - loss: 0.0012 - accuracy: 1.0000 - val_loss: 0.1247 - val_accuracy: 0.9751\n",
            "Epoch 62/100\n",
            "235/235 - 1s - loss: 0.0011 - accuracy: 1.0000 - val_loss: 0.1242 - val_accuracy: 0.9756\n",
            "Epoch 63/100\n",
            "235/235 - 1s - loss: 0.0011 - accuracy: 1.0000 - val_loss: 0.1243 - val_accuracy: 0.9751\n",
            "Epoch 64/100\n",
            "235/235 - 1s - loss: 0.0011 - accuracy: 1.0000 - val_loss: 0.1257 - val_accuracy: 0.9749\n",
            "Epoch 65/100\n",
            "235/235 - 1s - loss: 0.0011 - accuracy: 1.0000 - val_loss: 0.1267 - val_accuracy: 0.9750\n",
            "Epoch 66/100\n",
            "235/235 - 1s - loss: 0.0010 - accuracy: 1.0000 - val_loss: 0.1257 - val_accuracy: 0.9753\n",
            "Epoch 67/100\n",
            "235/235 - 1s - loss: 0.0010 - accuracy: 1.0000 - val_loss: 0.1274 - val_accuracy: 0.9745\n",
            "Epoch 68/100\n",
            "235/235 - 1s - loss: 9.8000e-04 - accuracy: 1.0000 - val_loss: 0.1264 - val_accuracy: 0.9749\n",
            "Epoch 69/100\n",
            "235/235 - 1s - loss: 9.6411e-04 - accuracy: 1.0000 - val_loss: 0.1258 - val_accuracy: 0.9754\n",
            "Epoch 70/100\n",
            "235/235 - 1s - loss: 9.3842e-04 - accuracy: 1.0000 - val_loss: 0.1278 - val_accuracy: 0.9752\n",
            "Epoch 71/100\n",
            "235/235 - 1s - loss: 9.1539e-04 - accuracy: 1.0000 - val_loss: 0.1273 - val_accuracy: 0.9756\n",
            "Epoch 72/100\n",
            "235/235 - 1s - loss: 8.9866e-04 - accuracy: 1.0000 - val_loss: 0.1278 - val_accuracy: 0.9750\n",
            "Epoch 73/100\n",
            "235/235 - 1s - loss: 8.8094e-04 - accuracy: 1.0000 - val_loss: 0.1291 - val_accuracy: 0.9754\n",
            "Epoch 74/100\n",
            "235/235 - 1s - loss: 8.5956e-04 - accuracy: 1.0000 - val_loss: 0.1291 - val_accuracy: 0.9750\n",
            "Epoch 75/100\n",
            "235/235 - 1s - loss: 8.5097e-04 - accuracy: 1.0000 - val_loss: 0.1291 - val_accuracy: 0.9750\n",
            "Epoch 76/100\n",
            "235/235 - 1s - loss: 8.3941e-04 - accuracy: 1.0000 - val_loss: 0.1289 - val_accuracy: 0.9750\n",
            "Epoch 77/100\n",
            "235/235 - 1s - loss: 8.2456e-04 - accuracy: 1.0000 - val_loss: 0.1294 - val_accuracy: 0.9752\n",
            "Epoch 78/100\n",
            "235/235 - 1s - loss: 8.0858e-04 - accuracy: 1.0000 - val_loss: 0.1290 - val_accuracy: 0.9751\n",
            "Epoch 79/100\n",
            "235/235 - 1s - loss: 7.9205e-04 - accuracy: 1.0000 - val_loss: 0.1302 - val_accuracy: 0.9750\n",
            "Epoch 80/100\n",
            "235/235 - 1s - loss: 7.6467e-04 - accuracy: 1.0000 - val_loss: 0.1309 - val_accuracy: 0.9752\n",
            "Epoch 81/100\n",
            "235/235 - 1s - loss: 7.5891e-04 - accuracy: 1.0000 - val_loss: 0.1301 - val_accuracy: 0.9745\n",
            "Epoch 82/100\n",
            "235/235 - 1s - loss: 7.4263e-04 - accuracy: 1.0000 - val_loss: 0.1310 - val_accuracy: 0.9749\n",
            "Epoch 83/100\n",
            "235/235 - 1s - loss: 7.3825e-04 - accuracy: 1.0000 - val_loss: 0.1318 - val_accuracy: 0.9750\n",
            "Epoch 84/100\n",
            "235/235 - 1s - loss: 7.2313e-04 - accuracy: 1.0000 - val_loss: 0.1316 - val_accuracy: 0.9749\n",
            "Epoch 85/100\n",
            "235/235 - 1s - loss: 7.0489e-04 - accuracy: 1.0000 - val_loss: 0.1320 - val_accuracy: 0.9750\n",
            "Epoch 86/100\n",
            "235/235 - 1s - loss: 6.9619e-04 - accuracy: 1.0000 - val_loss: 0.1326 - val_accuracy: 0.9753\n",
            "Epoch 87/100\n",
            "235/235 - 1s - loss: 6.8648e-04 - accuracy: 1.0000 - val_loss: 0.1322 - val_accuracy: 0.9753\n",
            "Epoch 88/100\n",
            "235/235 - 1s - loss: 6.7234e-04 - accuracy: 1.0000 - val_loss: 0.1330 - val_accuracy: 0.9750\n",
            "Epoch 89/100\n",
            "235/235 - 1s - loss: 6.6396e-04 - accuracy: 1.0000 - val_loss: 0.1331 - val_accuracy: 0.9748\n",
            "Epoch 90/100\n",
            "235/235 - 1s - loss: 6.5124e-04 - accuracy: 1.0000 - val_loss: 0.1330 - val_accuracy: 0.9750\n",
            "Epoch 91/100\n",
            "235/235 - 1s - loss: 6.3937e-04 - accuracy: 1.0000 - val_loss: 0.1334 - val_accuracy: 0.9753\n",
            "Epoch 92/100\n",
            "235/235 - 1s - loss: 6.3417e-04 - accuracy: 1.0000 - val_loss: 0.1333 - val_accuracy: 0.9753\n",
            "Epoch 93/100\n",
            "235/235 - 1s - loss: 6.2128e-04 - accuracy: 1.0000 - val_loss: 0.1335 - val_accuracy: 0.9754\n",
            "Epoch 94/100\n",
            "235/235 - 1s - loss: 6.1384e-04 - accuracy: 1.0000 - val_loss: 0.1342 - val_accuracy: 0.9755\n",
            "Epoch 95/100\n",
            "235/235 - 1s - loss: 6.0723e-04 - accuracy: 1.0000 - val_loss: 0.1347 - val_accuracy: 0.9751\n",
            "Epoch 96/100\n",
            "235/235 - 1s - loss: 5.9645e-04 - accuracy: 1.0000 - val_loss: 0.1345 - val_accuracy: 0.9751\n",
            "Epoch 97/100\n",
            "235/235 - 1s - loss: 5.8399e-04 - accuracy: 1.0000 - val_loss: 0.1344 - val_accuracy: 0.9753\n",
            "Epoch 98/100\n",
            "235/235 - 1s - loss: 5.8237e-04 - accuracy: 1.0000 - val_loss: 0.1358 - val_accuracy: 0.9753\n",
            "Epoch 99/100\n",
            "235/235 - 1s - loss: 5.7318e-04 - accuracy: 1.0000 - val_loss: 0.1354 - val_accuracy: 0.9752\n",
            "Epoch 100/100\n",
            "235/235 - 1s - loss: 5.6450e-04 - accuracy: 1.0000 - val_loss: 0.1362 - val_accuracy: 0.9752\n"
          ],
          "name": "stdout"
        }
      ]
    },
    {
      "cell_type": "markdown",
      "metadata": {
        "id": "rvDDuUlHlkRR",
        "colab_type": "text"
      },
      "source": [
        "## **Plot the Fitting Result**"
      ]
    },
    {
      "cell_type": "code",
      "metadata": {
        "id": "VTfxkBQslgC7",
        "colab_type": "code",
        "colab": {}
      },
      "source": [
        "import matplotlib.pyplot as plt\n",
        "\n",
        "# Define functions to plot the loss and accuracy\n",
        "def plot_hist_loss(hist):\n",
        "  plt.figure()\n",
        "  plt.plot(hist.history['loss'], 'b', linewidth=1.5)\n",
        "  plt.plot(hist.history['val_loss'], 'r', linewidth=1.5)\n",
        "  plt.legend(['Training set','Testing set'])\n",
        "  plt.xlabel('Epochs')\n",
        "  plt.ylabel('Loss')\n",
        "\n",
        "def plot_hist_accuracy(hist):\n",
        "  plt.figure()\n",
        "  plt.plot(hist.history['accuracy'], 'b', linewidth = 1.5)\n",
        "  plt.plot(hist.history['val_accuracy'], 'r', linewidth = 1.5)\n",
        "  plt.legend(['Training set','Testing set'])\n",
        "  plt.xlabel('Epochs')\n",
        "  plt.ylabel('Accuracy')"
      ],
      "execution_count": 0,
      "outputs": []
    },
    {
      "cell_type": "code",
      "metadata": {
        "id": "iKKvaGxS3jYX",
        "colab_type": "code",
        "outputId": "3ff12abe-c4e3-4780-d341-bdde508fed9c",
        "colab": {
          "base_uri": "https://localhost:8080/",
          "height": 541
        }
      },
      "source": [
        "plot_hist_loss(hist_ANN)\n",
        "plot_hist_accuracy(hist_ANN)"
      ],
      "execution_count": 6,
      "outputs": [
        {
          "output_type": "display_data",
          "data": {
            "image/png": "[encoded data removed]",
            "text/plain": [
              "<Figure size 432x288 with 1 Axes>"
            ]
          },
          "metadata": {
            "tags": [],
            "needs_background": "light"
          }
        },
        {
          "output_type": "display_data",
          "data": {
            "image/png": "[encoded data removed]",
            "text/plain": [
              "<Figure size 432x288 with 1 Axes>"
            ]
          },
          "metadata": {
            "tags": [],
            "needs_background": "light"
          }
        }
      ]
    },
    {
      "cell_type": "markdown",
      "metadata": {
        "id": "fTnx4Ke0-5wx",
        "colab_type": "text"
      },
      "source": [
        "## **Assess the performance of a fitted model**\n",
        "\n"
      ]
    },
    {
      "cell_type": "markdown",
      "metadata": {
        "id": "OW3ed_QJ0oNi",
        "colab_type": "text"
      },
      "source": [
        "There are various measurements of the performance of the fitted models in classification problems.\n",
        "*   Loss function and the accuracy;\n",
        "*   Confusion matrix. "
      ]
    },
    {
      "cell_type": "code",
      "metadata": {
        "id": "JfACgwxC-45m",
        "colab_type": "code",
        "outputId": "e983b5c9-5dde-4f27-8afb-6773e85e88d9",
        "colab": {
          "base_uri": "https://localhost:8080/",
          "height": 85
        }
      },
      "source": [
        "score =  model.evaluate(x_test, y_test)\n",
        "print(model.metrics_names)\n",
        "print('Test ' + model.metrics_names[0] , score[0])\n",
        "print('Test '+ model.metrics_names[1] , score[1])"
      ],
      "execution_count": 7,
      "outputs": [
        {
          "output_type": "stream",
          "text": [
            "10000/10000 [==============================] - 0s 43us/step\n",
            "['loss', 'accuracy']\n",
            "Test loss 0.12792875006920515\n",
            "Test accuracy 0.9758999943733215\n"
          ],
          "name": "stdout"
        }
      ]
    },
    {
      "cell_type": "code",
      "metadata": {
        "id": "TVKmyfeG5_gS",
        "colab_type": "code",
        "outputId": "a8e62456-e09c-4dfb-84fc-ecad98b724c6",
        "colab": {
          "base_uri": "https://localhost:8080/",
          "height": 34
        }
      },
      "source": [
        "from sklearn.metrics import confusion_matrix\n",
        "\n",
        "Y_test_prob_pred = model.predict(x_test)\n",
        "Y_test_class_pred = model.predict_classes(x_test)\n",
        "print(Y_test_class_pred)\n",
        "cm = confusion_matrix( y_mnist_test, Y_test_class_pred )\n",
        "labels = np.arange(10)"
      ],
      "execution_count": 17,
      "outputs": [
        {
          "output_type": "stream",
          "text": [
            "[7 2 1 ... 4 5 6]\n"
          ],
          "name": "stdout"
        }
      ]
    },
    {
      "cell_type": "code",
      "metadata": {
        "id": "jnmn95ei2zrD",
        "colab_type": "code",
        "outputId": "e4bca14d-c0ff-4c12-af14-405bcf4984fe",
        "colab": {
          "base_uri": "https://localhost:8080/",
          "height": 1000
        }
      },
      "source": [
        "import itertools  \n",
        "def plot_confusion_matrix(cm, classes,\n",
        "                          normalize=False,\n",
        "                          title='Confusion matrix',\n",
        "                          cmap=plt.cm.Blues):\n",
        "    \"\"\"\n",
        "    This function prints and plots the confusion matrix.\n",
        "    Normalization can be applied by setting `normalize=True`.\n",
        "    \"\"\"\n",
        "    if normalize:\n",
        "        cm = cm.astype('float') / cm.sum(axis=1)[:, np.newaxis]\n",
        "        print(\"Normalized confusion matrix\")\n",
        "    else:\n",
        "        print('Confusion matrix, without normalization')\n",
        "\n",
        "    print(cm)\n",
        "\n",
        "    plt.imshow(cm, interpolation='nearest', cmap=cmap)\n",
        "    plt.title(title)\n",
        "    plt.colorbar()\n",
        "    tick_marks = np.arange(len(classes))\n",
        "    plt.xticks(tick_marks, classes, rotation=45)\n",
        "    plt.yticks(tick_marks, classes)\n",
        "\n",
        "    fmt = '.2f' if normalize else 'd'\n",
        "    thresh = cm.max() / 2.\n",
        "    for i, j in itertools.product(range(cm.shape[0]), range(cm.shape[1])):\n",
        "        plt.text(j, i, format(cm[i, j], fmt),\n",
        "                 horizontalalignment=\"center\",\n",
        "                 color=\"white\" if cm[i, j] > thresh else \"black\")\n",
        "\n",
        "    plt.tight_layout()\n",
        "    plt.ylabel('True label')\n",
        "    plt.xlabel('Predicted label')\n",
        "    plt.grid(b = 0)\n",
        "\n",
        "## The code for the function plot_confusion_matrix() is attributed to http://scikit-learn.org/stable/auto_examples/model_selection/plot_confusion_matrix.html\n",
        "\n",
        "# Plot non-normalized confusion matrix\n",
        "plt.figure()\n",
        "plot_confusion_matrix(cm, classes=list(map(str, labels)), title='Confusion matrix, without normalization')\n",
        "plt.figure()\n",
        "plot_confusion_matrix(cm, classes=list(map(str, labels)), normalize=True, title='Normalized confusion matrix')\n"
      ],
      "execution_count": 18,
      "outputs": [
        {
          "output_type": "stream",
          "text": [
            "Confusion matrix, without normalization\n",
            "[[ 969    1    0    0    1    0    2    2    3    2]\n",
            " [   0 1125    3    2    0    1    2    1    1    0]\n",
            " [   4    2 1003    2    5    0    1    7    7    1]\n",
            " [   0    1    3  988    1    6    0    3    4    4]\n",
            " [   3    2    2    0  961    0    3    2    1    8]\n",
            " [   4    1    0   15    3  859    4    0    4    2]\n",
            " [   7    3    2    1    5    4  934    0    2    0]\n",
            " [   1    4    9    4    0    0    0 1002    2    6]\n",
            " [   4    0    4   13    2    4    3    3  939    2]\n",
            " [   2    2    0    3    7    3    3    8    2  979]]\n",
            "Normalized confusion matrix\n",
            "[[9.88775510e-01 1.02040816e-03 0.00000000e+00 0.00000000e+00\n",
            "  1.02040816e-03 0.00000000e+00 2.04081633e-03 2.04081633e-03\n",
            "  3.06122449e-03 2.04081633e-03]\n",
            " [0.00000000e+00 9.91189427e-01 2.64317181e-03 1.76211454e-03\n",
            "  0.00000000e+00 8.81057269e-04 1.76211454e-03 8.81057269e-04\n",
            "  8.81057269e-04 0.00000000e+00]\n",
            " [3.87596899e-03 1.93798450e-03 9.71899225e-01 1.93798450e-03\n",
            "  4.84496124e-03 0.00000000e+00 9.68992248e-04 6.78294574e-03\n",
            "  6.78294574e-03 9.68992248e-04]\n",
            " [0.00000000e+00 9.90099010e-04 2.97029703e-03 9.78217822e-01\n",
            "  9.90099010e-04 5.94059406e-03 0.00000000e+00 2.97029703e-03\n",
            "  3.96039604e-03 3.96039604e-03]\n",
            " [3.05498982e-03 2.03665988e-03 2.03665988e-03 0.00000000e+00\n",
            "  9.78615071e-01 0.00000000e+00 3.05498982e-03 2.03665988e-03\n",
            "  1.01832994e-03 8.14663951e-03]\n",
            " [4.48430493e-03 1.12107623e-03 0.00000000e+00 1.68161435e-02\n",
            "  3.36322870e-03 9.63004484e-01 4.48430493e-03 0.00000000e+00\n",
            "  4.48430493e-03 2.24215247e-03]\n",
            " [7.30688935e-03 3.13152401e-03 2.08768267e-03 1.04384134e-03\n",
            "  5.21920668e-03 4.17536534e-03 9.74947808e-01 0.00000000e+00\n",
            "  2.08768267e-03 0.00000000e+00]\n",
            " [9.72762646e-04 3.89105058e-03 8.75486381e-03 3.89105058e-03\n",
            "  0.00000000e+00 0.00000000e+00 0.00000000e+00 9.74708171e-01\n",
            "  1.94552529e-03 5.83657588e-03]\n",
            " [4.10677618e-03 0.00000000e+00 4.10677618e-03 1.33470226e-02\n",
            "  2.05338809e-03 4.10677618e-03 3.08008214e-03 3.08008214e-03\n",
            "  9.64065708e-01 2.05338809e-03]\n",
            " [1.98216056e-03 1.98216056e-03 0.00000000e+00 2.97324083e-03\n",
            "  6.93756194e-03 2.97324083e-03 2.97324083e-03 7.92864222e-03\n",
            "  1.98216056e-03 9.70267592e-01]]\n"
          ],
          "name": "stdout"
        },
        {
          "output_type": "display_data",
          "data": {
            "image/png": "[encoded data removed]",
            "text/plain": [
              "<Figure size 432x288 with 2 Axes>"
            ]
          },
          "metadata": {
            "tags": [],
            "needs_background": "light"
          }
        },
        {
          "output_type": "display_data",
          "data": {
            "image/png": "[encoded data removed]",
            "text/plain": [
              "<Figure size 432x288 with 2 Axes>"
            ]
          },
          "metadata": {
            "tags": [],
            "needs_background": "light"
          }
        }
      ]
    }
  ]
}